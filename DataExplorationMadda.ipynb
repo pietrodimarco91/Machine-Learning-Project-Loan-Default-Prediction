{
 "cells": [
  {
   "cell_type": "code",
   "execution_count": 3,
   "metadata": {
    "collapsed": true
   },
   "outputs": [],
   "source": [
    "import sklearn\n",
    "import matplotlib.pyplot as plt\n",
    "import seaborn as sns\n",
    "import pandas as pd\n",
    "%matplotlib inline\n"
   ]
  },
  {
   "cell_type": "code",
   "execution_count": 4,
   "metadata": {
    "collapsed": false
   },
   "outputs": [
    {
     "name": "stdout",
     "output_type": "stream",
     "text": [
      "<class 'pandas.core.frame.DataFrame'>\n",
      "RangeIndex: 26884 entries, 0 to 26883\n",
      "Data columns (total 1 columns):\n",
      "\"CUST_COD\",\"LIMIT_BAL\",\"SEX\",\"EDUCATION\",\"MARRIAGE\",\"BIRTH_DATE\",\"PAY_DEC\",\"PAY_NOV\",\"PAY_OCT\",\"PAY_SEP\",\"PAY_AUG\",\"PAY_JUL\",\"BILL_AMT_DEC\",\"BILL_AMT_NOV\",\"BILL_AMT_OCT\",\"BILL_AMT_SEP\",\"BILL_AMT_AUG\",\"BILL_AMT_JUL\",\"PAY_AMT_DEC\",\"PAY_AMT_NOV\",\"PAY_AMT_OCT\",\"PAY_AMT_SEP\",\"PAY_AMT_AUG\",\"PAY_AMT_JUL\",\"DEFAULT PAYMENT JAN\"    26884 non-null object\n",
      "dtypes: object(1)\n",
      "memory usage: 210.1+ KB\n"
     ]
    },
    {
     "data": {
      "text/html": [
       "<div>\n",
       "<table border=\"1\" class=\"dataframe\">\n",
       "  <thead>\n",
       "    <tr style=\"text-align: right;\">\n",
       "      <th></th>\n",
       "      <th>\"CUST_COD\",\"LIMIT_BAL\",\"SEX\",\"EDUCATION\",\"MARRIAGE\",\"BIRTH_DATE\",\"PAY_DEC\",\"PAY_NOV\",\"PAY_OCT\",\"PAY_SEP\",\"PAY_AUG\",\"PAY_JUL\",\"BILL_AMT_DEC\",\"BILL_AMT_NOV\",\"BILL_AMT_OCT\",\"BILL_AMT_SEP\",\"BILL_AMT_AUG\",\"BILL_AMT_JUL\",\"PAY_AMT_DEC\",\"PAY_AMT_NOV\",\"PAY_AMT_OCT\",\"PAY_AMT_SEP\",\"PAY_AMT_AUG\",\"PAY_AMT_JUL\",\"DEFAULT PAYMENT JAN\"</th>\n",
       "    </tr>\n",
       "  </thead>\n",
       "  <tbody>\n",
       "    <tr>\n",
       "      <th>0</th>\n",
       "      <td>53613503,1490.68,\"M\",\"university\",\"single\",\"#N...</td>\n",
       "    </tr>\n",
       "    <tr>\n",
       "      <th>1</th>\n",
       "      <td>35524089,5664.584,\"M\",\"university\",\"married\",\"...</td>\n",
       "    </tr>\n",
       "    <tr>\n",
       "      <th>2</th>\n",
       "      <td>58777007,6260.856,\"F\",\"high school\",\"married\",...</td>\n",
       "    </tr>\n",
       "    <tr>\n",
       "      <th>3</th>\n",
       "      <td>26913418,8944.08,\"F\",\"graduate school\",\"marrie...</td>\n",
       "    </tr>\n",
       "    <tr>\n",
       "      <th>4</th>\n",
       "      <td>41993633,3577.632,\"F\",\"graduate school\",\"marri...</td>\n",
       "    </tr>\n",
       "    <tr>\n",
       "      <th>5</th>\n",
       "      <td>46414261,2385.088,\"M\",\"university\",\"single\",\"2...</td>\n",
       "    </tr>\n",
       "    <tr>\n",
       "      <th>6</th>\n",
       "      <td>10438751,596.272,\"M\",\"university\",\"married\",\"0...</td>\n",
       "    </tr>\n",
       "    <tr>\n",
       "      <th>7</th>\n",
       "      <td>19267237,10732.896,\"F\",\"university\",\"single\",\"...</td>\n",
       "    </tr>\n",
       "    <tr>\n",
       "      <th>8</th>\n",
       "      <td>39470148,1490.68,\"M\",\"university\",\"single\",\"07...</td>\n",
       "    </tr>\n",
       "    <tr>\n",
       "      <th>9</th>\n",
       "      <td>24381216,1490.68,\"F\",\"university\",\"married\",\"1...</td>\n",
       "    </tr>\n",
       "  </tbody>\n",
       "</table>\n",
       "</div>"
      ],
      "text/plain": [
       "  \"CUST_COD\",\"LIMIT_BAL\",\"SEX\",\"EDUCATION\",\"MARRIAGE\",\"BIRTH_DATE\",\"PAY_DEC\",\"PAY_NOV\",\"PAY_OCT\",\"PAY_SEP\",\"PAY_AUG\",\"PAY_JUL\",\"BILL_AMT_DEC\",\"BILL_AMT_NOV\",\"BILL_AMT_OCT\",\"BILL_AMT_SEP\",\"BILL_AMT_AUG\",\"BILL_AMT_JUL\",\"PAY_AMT_DEC\",\"PAY_AMT_NOV\",\"PAY_AMT_OCT\",\"PAY_AMT_SEP\",\"PAY_AMT_AUG\",\"PAY_AMT_JUL\",\"DEFAULT PAYMENT JAN\"\n",
       "0  53613503,1490.68,\"M\",\"university\",\"single\",\"#N...                                                                                                                                                                                                                                                                              \n",
       "1  35524089,5664.584,\"M\",\"university\",\"married\",\"...                                                                                                                                                                                                                                                                              \n",
       "2  58777007,6260.856,\"F\",\"high school\",\"married\",...                                                                                                                                                                                                                                                                              \n",
       "3  26913418,8944.08,\"F\",\"graduate school\",\"marrie...                                                                                                                                                                                                                                                                              \n",
       "4  41993633,3577.632,\"F\",\"graduate school\",\"marri...                                                                                                                                                                                                                                                                              \n",
       "5  46414261,2385.088,\"M\",\"university\",\"single\",\"2...                                                                                                                                                                                                                                                                              \n",
       "6  10438751,596.272,\"M\",\"university\",\"married\",\"0...                                                                                                                                                                                                                                                                              \n",
       "7  19267237,10732.896,\"F\",\"university\",\"single\",\"...                                                                                                                                                                                                                                                                              \n",
       "8  39470148,1490.68,\"M\",\"university\",\"single\",\"07...                                                                                                                                                                                                                                                                              \n",
       "9  24381216,1490.68,\"F\",\"university\",\"married\",\"1...                                                                                                                                                                                                                                                                              "
      ]
     },
     "execution_count": 4,
     "metadata": {},
     "output_type": "execute_result"
    }
   ],
   "source": [
    "train = pd.read_csv('data/train.csv')\n",
    "train.info()\n",
    "train.head(10)"
   ]
  },
  {
   "cell_type": "code",
   "execution_count": null,
   "metadata": {
    "collapsed": true
   },
   "outputs": [],
   "source": []
  },
  {
   "cell_type": "code",
   "execution_count": null,
   "metadata": {
    "collapsed": true
   },
   "outputs": [],
   "source": []
  }
 ],
 "metadata": {
  "kernelspec": {
   "display_name": "Python 2",
   "language": "python",
   "name": "python2"
  },
  "language_info": {
   "codemirror_mode": {
    "name": "ipython",
    "version": 2
   },
   "file_extension": ".py",
   "mimetype": "text/x-python",
   "name": "python",
   "nbconvert_exporter": "python",
   "pygments_lexer": "ipython2",
   "version": "2.7.13"
  }
 },
 "nbformat": 4,
 "nbformat_minor": 2
}
