{
 "cells": [
  {
   "cell_type": "code",
   "execution_count": 46,
   "metadata": {
    "collapsed": false
   },
   "outputs": [],
   "source": [
    "import numpy as np\n",
    "import pandas as pd\n",
    "from sklearn import linear_model\n",
    "from sklearn.svm import SVC\n",
    "from sklearn.tree import DecisionTreeRegressor\n",
    "from sklearn import ensemble\n",
    "from sklearn.metrics import make_scorer, accuracy_score, f1_score\n",
    "from sklearn.model_selection import GridSearchCV\n",
    "from sklearn import preprocessing\n",
    "from sklearn.neural_network import MLPClassifier\n",
    "from sklearn.neighbors import KNeighborsClassifier\n",
    "import matplotlib.pyplot as plt\n",
    "import seaborn as sns\n",
    "from sklearn.model_selection import train_test_split\n",
    "import utils\n",
    "#import xgboost as xgb\n",
    "%matplotlib inline\n",
    "\n",
    "RANDOM_SEED = 4321\n",
    "np.random.seed = RANDOM_SEED\n"
   ]
  },
  {
   "cell_type": "code",
   "execution_count": 2,
   "metadata": {
    "collapsed": false
   },
   "outputs": [],
   "source": [
    "train = pd.read_csv('data/train_all_features.csv')\n",
    "test = pd.read_csv('data/test_all_features.csv')\n",
    "\n",
    "train_x = train.drop(['CUST_COD', 'DEFAULT PAYMENT JAN'], axis=1)\n",
    "train_y = train['DEFAULT PAYMENT JAN'].ravel()\n",
    "test_x = test.drop(['CUST_COD', 'DEFAULT PAYMENT JAN'], axis = 1)\n",
    "\n",
    "x_train, x_validation, y_train, y_validation = train_test_split(train_x, \n",
    "                                            train_y, test_size=0.3, random_state=RANDOM_SEED)\n",
    "x_test = test_x.copy()\n",
    "\n",
    "x_train.index = np.arange(len(x_train))\n",
    "x_validation.index = np.arange(len(x_validation))\n"
   ]
  },
  {
   "cell_type": "markdown",
   "metadata": {},
   "source": [
    "# Logistic Regression #"
   ]
  },
  {
   "cell_type": "code",
   "execution_count": 4,
   "metadata": {
    "collapsed": false
   },
   "outputs": [],
   "source": [
    "lr_params = {\n",
    "    'C' : [1],\n",
    "    'fit_intercept' : [True],\n",
    "    'max_iter' : [50], #TODO: change\n",
    "    'solver' : ['newton-cg'],\n",
    "    'tol' : [1e-4],\n",
    "    'random_state' : [RANDOM_SEED]\n",
    "}\n",
    "\n",
    "log_regression = linear_model.LogisticRegression()\n",
    "acc_scorer = make_scorer(accuracy_score)\n",
    "log_reg_models = GridSearchCV(log_regression, lr_params, scoring=acc_scorer, n_jobs=-1)\n",
    "log_reg_models = log_reg_models.fit(x_train, y_train)\n",
    "\n",
    "lr_best = log_reg_models.best_estimator_\n",
    "lr_best = lr_best.fit(x_train, y_train)\n",
    "\n",
    "lr_model = {\n",
    "    'Name' : 'Logistic regression', \n",
    "    'CVScore' : log_reg_models.best_score_, \n",
    "    'CVStd' : log_reg_models.cv_results_['std_test_score'][log_reg_models.best_index_],\n",
    "    'Result_train' : lr_best.predict(x_train),\n",
    "    #'Result_test' : lr_best.predict(x_test),\n",
    "    'Model' : lr_best\n",
    "}"
   ]
  },
  {
   "cell_type": "code",
   "execution_count": 5,
   "metadata": {
    "collapsed": false
   },
   "outputs": [
    {
     "name": "stdout",
     "output_type": "stream",
     "text": [
      "('Best model - avg:', 0.80205122754809222, '+/-', 0.00097089237459969751)\n",
      "\n",
      "\n",
      "LogisticRegression(C=1, class_weight=None, dual=False, fit_intercept=True,\n",
      "          intercept_scaling=1, max_iter=50, multi_class='ovr', n_jobs=1,\n",
      "          penalty='l2', random_state=4321, solver='newton-cg', tol=0.0001,\n",
      "          verbose=0, warm_start=False)\n"
     ]
    }
   ],
   "source": [
    "print('Best model - avg:', \n",
    "      lr_model['CVScore'],\n",
    "      '+/-', \n",
    "      lr_model['CVStd'])\n",
    "print('\\n')\n",
    "print(log_reg_models.best_estimator_)"
   ]
  },
  {
   "cell_type": "code",
   "execution_count": 47,
   "metadata": {
    "collapsed": false
   },
   "outputs": [
    {
     "data": {
      "image/png": "[encoded data removed]",
      "text/plain": [
       "<matplotlib.figure.Figure at 0x11ef1b6d0>"
      ]
     },
     "metadata": {},
     "output_type": "display_data"
    },
    {
     "data": {
      "text/plain": [
       "(0.30852897016996161, 0.51269078337127916)"
      ]
     },
     "execution_count": 47,
     "metadata": {},
     "output_type": "execute_result"
    }
   ],
   "source": [
    "utils.plot_roc_curve(lr_best, train_x, train_y)\n",
    "utils.get_best_threshold(lr_best, train_x, train_y, f1_score)"
   ]
  },
  {
   "cell_type": "markdown",
   "metadata": {},
   "source": [
    "# Random Forest #"
   ]
  },
  {
   "cell_type": "code",
   "execution_count": 6,
   "metadata": {
    "collapsed": false
   },
   "outputs": [],
   "source": [
    "rf_params = {\n",
    "    'n_estimators' :  [10], #TODO\n",
    "    'max_features' : ['log2'],\n",
    "    'criterion' : ['gini'],\n",
    "    'min_samples_split' :  [16], #TODO\n",
    "    'min_samples_leaf' : [1], #TODO\n",
    "    'random_state' : [RANDOM_SEED]\n",
    "}\n",
    "\n",
    "random_forest = ensemble.RandomForestClassifier()\n",
    "acc_scorer = make_scorer(accuracy_score)\n",
    "rf_models = GridSearchCV(random_forest, rf_params, scoring=acc_scorer, n_jobs=-1)\n",
    "rf_models = rf_models.fit(x_train, y_train)\n",
    "\n",
    "rf_best = rf_models.best_estimator_\n",
    "rf_best = rf_best.fit(x_train, y_train)\n",
    "\n",
    "rf_model = {\n",
    "    'Name' : 'Random forest', \n",
    "    'CVScore' : rf_models.best_score_, \n",
    "    'CVStd' : rf_models.cv_results_['std_test_score'][rf_models.best_index_],\n",
    "    'Result_train' : rf_best.predict(x_train),\n",
    "    #'Result_test' : rf_best.predict(x_test),\n",
    "    'Model' : rf_best\n",
    "}"
   ]
  },
  {
   "cell_type": "code",
   "execution_count": 7,
   "metadata": {
    "collapsed": false
   },
   "outputs": [
    {
     "name": "stdout",
     "output_type": "stream",
     "text": [
      "('Best model - avg:', 0.807471569773621, '+/-', 0.0034044723707162619)\n",
      "\n",
      "\n",
      "RandomForestClassifier(bootstrap=True, class_weight=None, criterion='gini',\n",
      "            max_depth=None, max_features='log2', max_leaf_nodes=None,\n",
      "            min_impurity_split=1e-07, min_samples_leaf=1,\n",
      "            min_samples_split=16, min_weight_fraction_leaf=0.0,\n",
      "            n_estimators=10, n_jobs=1, oob_score=False, random_state=4321,\n",
      "            verbose=0, warm_start=False)\n"
     ]
    }
   ],
   "source": [
    "best_idx = rf_models.best_index_\n",
    "print('Best model - avg:', \n",
    "      rf_model['CVScore'],\n",
    "      '+/-', \n",
    "      rf_model['CVStd'])\n",
    "print('\\n')\n",
    "print(rf_models.best_estimator_)"
   ]
  },
  {
   "cell_type": "code",
   "execution_count": 48,
   "metadata": {
    "collapsed": false
   },
   "outputs": [
    {
     "data": {
      "image/png": "[encoded data removed]",
      "text/plain": [
       "<matplotlib.figure.Figure at 0x1209073d0>"
      ]
     },
     "metadata": {},
     "output_type": "display_data"
    },
    {
     "data": {
      "text/plain": [
       "(0.34113113229481512, 0.74113873295910182)"
      ]
     },
     "execution_count": 48,
     "metadata": {},
     "output_type": "execute_result"
    }
   ],
   "source": [
    "utils.plot_roc_curve(rf_best, train_x, train_y)\n",
    "utils.get_best_threshold(rf_best, train_x, train_y, f1_score)"
   ]
  },
  {
   "cell_type": "markdown",
   "metadata": {},
   "source": [
    "# SVM #"
   ]
  },
  {
   "cell_type": "code",
   "execution_count": 8,
   "metadata": {
    "collapsed": false
   },
   "outputs": [],
   "source": [
    "train_test = pd.concat([x_train, x_validation], ignore_index=True) # Left out x_test\n",
    "train_test_normalized = preprocessing.scale(train_test)\n",
    "x_train_normalized = train_test_normalized[:len(x_train), :]\n",
    "x_test_normalized = train_test_normalized[len(x_train):len(x_train) + len(x_test), :]\n",
    "x_validation_normalized = train_test_normalized[len(x_train) + len(x_test):, :]"
   ]
  },
  {
   "cell_type": "code",
   "execution_count": 9,
   "metadata": {
    "collapsed": true
   },
   "outputs": [],
   "source": [
    "svm_params = {\n",
    "    'C' : [0.3],\n",
    "    'kernel' : ['rbf'],\n",
    "    'tol' : [1e-3],\n",
    "    'degree' : [2],\n",
    "    'random_state' : [RANDOM_SEED]\n",
    "}\n",
    "acc_scorer = make_scorer(accuracy_score)\n",
    "svc = SVC()\n",
    "svc_classifiers = GridSearchCV(svc, svm_params, scoring=acc_scorer, n_jobs=-1)\n",
    "svc_classifiers = svc_classifiers.fit(x_train_normalized, y_train)\n",
    "\n",
    "svc_best = svc_classifiers.best_estimator_\n",
    "svc_best = svc_best.fit(x_train_normalized, y_train)\n",
    "\n",
    "svc_model = {\n",
    "    'Name' : 'SVC', \n",
    "    'CVScore' : svc_classifiers.best_score_, \n",
    "    'CVStd' : svc_classifiers.cv_results_['std_test_score'][svc_classifiers.best_index_],\n",
    "    'Result_train' : svc_best.predict(x_train_normalized),\n",
    "    #'Result_test' : svc_best.predict(x_test_normalized),\n",
    "    'Model' : svc_best\n",
    "}"
   ]
  },
  {
   "cell_type": "code",
   "execution_count": 10,
   "metadata": {
    "collapsed": false
   },
   "outputs": [
    {
     "name": "stdout",
     "output_type": "stream",
     "text": [
      "('Best model - avg:', 0.81050058454671059, '+/-', 0.0012748768346108601)\n",
      "()\n",
      "SVC(C=0.3, cache_size=200, class_weight=None, coef0=0.0,\n",
      "  decision_function_shape=None, degree=2, gamma='auto', kernel='rbf',\n",
      "  max_iter=-1, probability=False, random_state=4321, shrinking=True,\n",
      "  tol=0.001, verbose=False)\n"
     ]
    }
   ],
   "source": [
    "best_idx = svc_classifiers.best_index_\n",
    "print('Best model - avg:', \n",
    "      svc_model['CVScore'], \n",
    "      '+/-', \n",
    "      svc_model['CVStd'])\n",
    "print()\n",
    "print(svc_classifiers.best_estimator_)"
   ]
  },
  {
   "cell_type": "code",
   "execution_count": 49,
   "metadata": {
    "collapsed": false
   },
   "outputs": [
    {
     "ename": "AttributeError",
     "evalue": "predict_proba is not available when  probability=False",
     "output_type": "error",
     "traceback": [
      "\u001b[0;31m---------------------------------------------------------------------------\u001b[0m",
      "\u001b[0;31mAttributeError\u001b[0m                            Traceback (most recent call last)",
      "\u001b[0;32m<ipython-input-49-de25d337ef6f>\u001b[0m in \u001b[0;36m<module>\u001b[0;34m()\u001b[0m\n\u001b[0;32m----> 1\u001b[0;31m \u001b[0mutils\u001b[0m\u001b[0;34m.\u001b[0m\u001b[0mplot_roc_curve\u001b[0m\u001b[0;34m(\u001b[0m\u001b[0msvc_best\u001b[0m\u001b[0;34m,\u001b[0m \u001b[0mtrain_x\u001b[0m\u001b[0;34m,\u001b[0m \u001b[0mtrain_y\u001b[0m\u001b[0;34m)\u001b[0m\u001b[0;34m\u001b[0m\u001b[0m\n\u001b[0m\u001b[1;32m      2\u001b[0m \u001b[0mutils\u001b[0m\u001b[0;34m.\u001b[0m\u001b[0mget_best_threshold\u001b[0m\u001b[0;34m(\u001b[0m\u001b[0msvc_best\u001b[0m\u001b[0;34m,\u001b[0m \u001b[0mtrain_x\u001b[0m\u001b[0;34m,\u001b[0m \u001b[0mtrain_y\u001b[0m\u001b[0;34m,\u001b[0m \u001b[0mf1_score\u001b[0m\u001b[0;34m)\u001b[0m\u001b[0;34m\u001b[0m\u001b[0m\n",
      "\u001b[0;32m/Users/emmeaa/Documents/UNIVERSITA/Magistrale/PRIMO_ANNO/Data Mining and Text Mining/Project/snakesonaplane/utils.py\u001b[0m in \u001b[0;36mplot_roc_curve\u001b[0;34m(model, X, y)\u001b[0m\n\u001b[1;32m    134\u001b[0m \u001b[0;34m\u001b[0m\u001b[0m\n\u001b[1;32m    135\u001b[0m \u001b[0;32mdef\u001b[0m \u001b[0mplot_roc_curve\u001b[0m\u001b[0;34m(\u001b[0m\u001b[0mmodel\u001b[0m\u001b[0;34m,\u001b[0m \u001b[0mX\u001b[0m\u001b[0;34m,\u001b[0m \u001b[0my\u001b[0m\u001b[0;34m)\u001b[0m\u001b[0;34m:\u001b[0m\u001b[0;34m\u001b[0m\u001b[0m\n\u001b[0;32m--> 136\u001b[0;31m         \u001b[0mprobabilities\u001b[0m \u001b[0;34m=\u001b[0m \u001b[0mget_probabilities\u001b[0m\u001b[0;34m(\u001b[0m\u001b[0mmodel\u001b[0m\u001b[0;34m,\u001b[0m \u001b[0mX\u001b[0m\u001b[0;34m)\u001b[0m\u001b[0;34m\u001b[0m\u001b[0m\n\u001b[0m\u001b[1;32m    137\u001b[0m         \u001b[0mfpr\u001b[0m\u001b[0;34m,\u001b[0m \u001b[0mtpr\u001b[0m\u001b[0;34m,\u001b[0m \u001b[0mthreshold\u001b[0m \u001b[0;34m=\u001b[0m \u001b[0mroc_curve\u001b[0m\u001b[0;34m(\u001b[0m\u001b[0my\u001b[0m\u001b[0;34m,\u001b[0m \u001b[0mprobabilities\u001b[0m\u001b[0;34m)\u001b[0m\u001b[0;34m\u001b[0m\u001b[0m\n\u001b[1;32m    138\u001b[0m         \u001b[0mroc_auc\u001b[0m \u001b[0;34m=\u001b[0m \u001b[0mauc\u001b[0m\u001b[0;34m(\u001b[0m\u001b[0mfpr\u001b[0m\u001b[0;34m,\u001b[0m \u001b[0mtpr\u001b[0m\u001b[0;34m)\u001b[0m\u001b[0;34m\u001b[0m\u001b[0m\n",
      "\u001b[0;32m/Users/emmeaa/Documents/UNIVERSITA/Magistrale/PRIMO_ANNO/Data Mining and Text Mining/Project/snakesonaplane/utils.py\u001b[0m in \u001b[0;36mget_probabilities\u001b[0;34m(model, X)\u001b[0m\n\u001b[1;32m    129\u001b[0m \u001b[0;34m\u001b[0m\u001b[0m\n\u001b[1;32m    130\u001b[0m \u001b[0;32mdef\u001b[0m \u001b[0mget_probabilities\u001b[0m\u001b[0;34m(\u001b[0m\u001b[0mmodel\u001b[0m\u001b[0;34m,\u001b[0m \u001b[0mX\u001b[0m\u001b[0;34m)\u001b[0m\u001b[0;34m:\u001b[0m\u001b[0;34m\u001b[0m\u001b[0m\n\u001b[0;32m--> 131\u001b[0;31m         \u001b[0mprobabilities\u001b[0m \u001b[0;34m=\u001b[0m \u001b[0mmodel\u001b[0m\u001b[0;34m.\u001b[0m\u001b[0mpredict_proba\u001b[0m\u001b[0;34m(\u001b[0m\u001b[0mX\u001b[0m\u001b[0;34m)\u001b[0m\u001b[0;34m\u001b[0m\u001b[0m\n\u001b[0m\u001b[1;32m    132\u001b[0m \u001b[0;34m\u001b[0m\u001b[0m\n\u001b[1;32m    133\u001b[0m         \u001b[0;32mreturn\u001b[0m \u001b[0mnp\u001b[0m\u001b[0;34m.\u001b[0m\u001b[0marray\u001b[0m\u001b[0;34m(\u001b[0m\u001b[0;34m[\u001b[0m\u001b[0mt\u001b[0m\u001b[0;34m[\u001b[0m\u001b[0;36m1\u001b[0m\u001b[0;34m]\u001b[0m \u001b[0;32mif\u001b[0m \u001b[0mlen\u001b[0m\u001b[0;34m(\u001b[0m\u001b[0mt\u001b[0m\u001b[0;34m)\u001b[0m \u001b[0;34m>=\u001b[0m \u001b[0;36m1\u001b[0m \u001b[0;32melse\u001b[0m \u001b[0;36m0.0\u001b[0m \u001b[0;32mfor\u001b[0m \u001b[0mt\u001b[0m \u001b[0;32min\u001b[0m \u001b[0mprobabilities\u001b[0m\u001b[0;34m]\u001b[0m\u001b[0;34m)\u001b[0m\u001b[0;34m\u001b[0m\u001b[0m\n",
      "\u001b[0;32m/Applications/anaconda/lib/python2.7/site-packages/sklearn/svm/base.pyc\u001b[0m in \u001b[0;36mpredict_proba\u001b[0;34m(self)\u001b[0m\n\u001b[1;32m    613\u001b[0m         \u001b[0mdatasets\u001b[0m\u001b[0;34m.\u001b[0m\u001b[0;34m\u001b[0m\u001b[0m\n\u001b[1;32m    614\u001b[0m         \"\"\"\n\u001b[0;32m--> 615\u001b[0;31m         \u001b[0mself\u001b[0m\u001b[0;34m.\u001b[0m\u001b[0m_check_proba\u001b[0m\u001b[0;34m(\u001b[0m\u001b[0;34m)\u001b[0m\u001b[0;34m\u001b[0m\u001b[0m\n\u001b[0m\u001b[1;32m    616\u001b[0m         \u001b[0;32mreturn\u001b[0m \u001b[0mself\u001b[0m\u001b[0;34m.\u001b[0m\u001b[0m_predict_proba\u001b[0m\u001b[0;34m\u001b[0m\u001b[0m\n\u001b[1;32m    617\u001b[0m \u001b[0;34m\u001b[0m\u001b[0m\n",
      "\u001b[0;32m/Applications/anaconda/lib/python2.7/site-packages/sklearn/svm/base.pyc\u001b[0m in \u001b[0;36m_check_proba\u001b[0;34m(self)\u001b[0m\n\u001b[1;32m    580\u001b[0m     \u001b[0;32mdef\u001b[0m \u001b[0m_check_proba\u001b[0m\u001b[0;34m(\u001b[0m\u001b[0mself\u001b[0m\u001b[0;34m)\u001b[0m\u001b[0;34m:\u001b[0m\u001b[0;34m\u001b[0m\u001b[0m\n\u001b[1;32m    581\u001b[0m         \u001b[0;32mif\u001b[0m \u001b[0;32mnot\u001b[0m \u001b[0mself\u001b[0m\u001b[0;34m.\u001b[0m\u001b[0mprobability\u001b[0m\u001b[0;34m:\u001b[0m\u001b[0;34m\u001b[0m\u001b[0m\n\u001b[0;32m--> 582\u001b[0;31m             raise AttributeError(\"predict_proba is not available when \"\n\u001b[0m\u001b[1;32m    583\u001b[0m                                  \" probability=False\")\n\u001b[1;32m    584\u001b[0m         \u001b[0;32mif\u001b[0m \u001b[0mself\u001b[0m\u001b[0;34m.\u001b[0m\u001b[0m_impl\u001b[0m \u001b[0;32mnot\u001b[0m \u001b[0;32min\u001b[0m \u001b[0;34m(\u001b[0m\u001b[0;34m'c_svc'\u001b[0m\u001b[0;34m,\u001b[0m \u001b[0;34m'nu_svc'\u001b[0m\u001b[0;34m)\u001b[0m\u001b[0;34m:\u001b[0m\u001b[0;34m\u001b[0m\u001b[0m\n",
      "\u001b[0;31mAttributeError\u001b[0m: predict_proba is not available when  probability=False"
     ]
    }
   ],
   "source": [
    "utils.plot_roc_curve(svc_best, train_x, train_y)\n",
    "utils.get_best_threshold(svc_best, train_x, train_y, f1_score)"
   ]
  },
  {
   "cell_type": "markdown",
   "metadata": {},
   "source": [
    "# Adaboost #"
   ]
  },
  {
   "cell_type": "code",
   "execution_count": 11,
   "metadata": {
    "collapsed": true
   },
   "outputs": [],
   "source": [
    "ada_params = {\n",
    "    'n_estimators' : [20],#TODO\n",
    "    'learning_rate' : [0.1], #TODO\n",
    "    'algorithm' : ['SAMME.R'],\n",
    "    'random_state' : [RANDOM_SEED]\n",
    "}\n",
    "\n",
    "acc_scorer = make_scorer(accuracy_score)\n",
    "ada_class = ensemble.AdaBoostClassifier()\n",
    "ada_classifiers = GridSearchCV(ada_class, ada_params, scoring=acc_scorer, n_jobs=-1)\n",
    "ada_classifiers = ada_classifiers.fit(x_train, y_train)\n",
    "\n",
    "ada_best = ada_classifiers.best_estimator_\n",
    "ada_best = ada_best.fit(x_train, y_train)\n",
    "\n",
    "ada_model = {\n",
    "    'Name' : 'Ada boost', \n",
    "    'CVScore' : ada_classifiers.best_score_, \n",
    "    'CVStd' : ada_classifiers.cv_results_['std_test_score'][ada_classifiers.best_index_],\n",
    "    'Result_train' : ada_best.predict(x_train),\n",
    "    #'Result_test' : ada_best.predict(x_test),\n",
    "    'Model' : ada_best\n",
    "}"
   ]
  },
  {
   "cell_type": "code",
   "execution_count": 12,
   "metadata": {
    "collapsed": false
   },
   "outputs": [
    {
     "name": "stdout",
     "output_type": "stream",
     "text": [
      "('Best model - avg:', 0.81841853544478693, '+/-', 0.00052083449411995271)\n",
      "()\n",
      "AdaBoostClassifier(algorithm='SAMME.R', base_estimator=None,\n",
      "          learning_rate=0.1, n_estimators=20, random_state=4321)\n"
     ]
    }
   ],
   "source": [
    "best_idx = ada_classifiers.best_index_\n",
    "print('Best model - avg:', \n",
    "      ada_model['CVScore'], \n",
    "      '+/-', \n",
    "      ada_model['CVStd'])\n",
    "print()\n",
    "print(ada_classifiers.best_estimator_)"
   ]
  },
  {
   "cell_type": "code",
   "execution_count": 50,
   "metadata": {
    "collapsed": false
   },
   "outputs": [
    {
     "data": {
      "image/png": "[encoded data removed]",
      "text/plain": [
       "<matplotlib.figure.Figure at 0x1208e63d0>"
      ]
     },
     "metadata": {},
     "output_type": "display_data"
    },
    {
     "data": {
      "text/plain": [
       "(0.35248198400294128, 0.53320787265741398)"
      ]
     },
     "execution_count": 50,
     "metadata": {},
     "output_type": "execute_result"
    }
   ],
   "source": [
    "utils.plot_roc_curve(ada_best, train_x, train_y)\n",
    "utils.get_best_threshold(ada_best, train_x, train_y, f1_score)"
   ]
  },
  {
   "cell_type": "markdown",
   "metadata": {},
   "source": [
    "# Multi Layer Perceptron #"
   ]
  },
  {
   "cell_type": "code",
   "execution_count": 13,
   "metadata": {
    "collapsed": false
   },
   "outputs": [],
   "source": [
    "from sklearn.preprocessing import StandardScaler\n",
    "\n",
    "mlp_params = {\n",
    "    'hidden_layer_sizes': [10], #TODO\n",
    "    'activation': ['relu'],\n",
    "    'solver': ['adam'],\n",
    "    'alpha': [0.0001], #TODO\n",
    "    'batch_size': ['auto'],\n",
    "    'learning_rate': ['constant'],\n",
    "    'max_iter': [100], #TODO\n",
    "    'momentum': [0.9], #TODO\n",
    "    'early_stopping': [True] #Considerare se metterlo a false, dovrebbe stoppare il processo prima\n",
    "}\n",
    "\n",
    "scaler=StandardScaler()\n",
    "x_new_train = scaler.fit_transform(x_train)\n",
    "\n",
    "acc_scorer = make_scorer(accuracy_score)\n",
    "mlp_class = MLPClassifier()\n",
    "mlp_classifiers = GridSearchCV(mlp_class, mlp_params, scoring=acc_scorer, n_jobs=-1)\n",
    "mlp_classifiers = mlp_classifiers.fit(x_new_train, y_train)\n",
    "\n",
    "mlp_best = mlp_classifiers.best_estimator_\n",
    "mlp_best = mlp_best.fit(x_train, y_train)\n",
    "\n",
    "mlp_model = {\n",
    "    'Name' : 'Multi Layer Perceptron classifier', \n",
    "    'CVScore' : mlp_classifiers.best_score_, \n",
    "    'CVStd' : mlp_classifiers.cv_results_['std_test_score'][mlp_classifiers.best_index_],\n",
    "    'Result_train' : mlp_best.predict(x_train),\n",
    "    #'Result_test' : ada_best.predict(x_test),\n",
    "    'Model' : mlp_best\n",
    "}"
   ]
  },
  {
   "cell_type": "code",
   "execution_count": 14,
   "metadata": {
    "collapsed": false
   },
   "outputs": [
    {
     "name": "stdout",
     "output_type": "stream",
     "text": [
      "('Best model - avg:', 0.81108513125730686, '+/-', 0.0010239289853312288)\n",
      "()\n",
      "MLPClassifier(activation='relu', alpha=0.0001, batch_size='auto', beta_1=0.9,\n",
      "       beta_2=0.999, early_stopping=True, epsilon=1e-08,\n",
      "       hidden_layer_sizes=10, learning_rate='constant',\n",
      "       learning_rate_init=0.001, max_iter=100, momentum=0.9,\n",
      "       nesterovs_momentum=True, power_t=0.5, random_state=None,\n",
      "       shuffle=True, solver='adam', tol=0.0001, validation_fraction=0.1,\n",
      "       verbose=False, warm_start=False)\n"
     ]
    }
   ],
   "source": [
    "best_idx = mlp_classifiers.best_index_\n",
    "print('Best model - avg:', \n",
    "      mlp_model['CVScore'], \n",
    "      '+/-', \n",
    "      mlp_model['CVStd'])\n",
    "print()\n",
    "print(mlp_classifiers.best_estimator_)"
   ]
  },
  {
   "cell_type": "code",
   "execution_count": 51,
   "metadata": {
    "collapsed": false
   },
   "outputs": [
    {
     "data": {
      "image/png": "[encoded data removed]",
      "text/plain": [
       "<matplotlib.figure.Figure at 0x1208ee650>"
      ]
     },
     "metadata": {},
     "output_type": "display_data"
    },
    {
     "data": {
      "text/plain": [
       "(4.6169752719773874e-74, 0.39873722979786907)"
      ]
     },
     "execution_count": 51,
     "metadata": {},
     "output_type": "execute_result"
    }
   ],
   "source": [
    "utils.plot_roc_curve(mlp_best, train_x, train_y)\n",
    "utils.get_best_threshold(mlp_best, train_x, train_y, f1_score)"
   ]
  },
  {
   "cell_type": "markdown",
   "metadata": {},
   "source": [
    "# KNN #"
   ]
  },
  {
   "cell_type": "code",
   "execution_count": 33,
   "metadata": {
    "collapsed": false
   },
   "outputs": [],
   "source": [
    "knn_params = {\n",
    "    'n_neighbors' : [3], #TODO\n",
    "    'algorithm' : ['kd_tree']\n",
    "}\n",
    "\n",
    "acc_scorer = make_scorer(accuracy_score)\n",
    "knn_class = KNeighborsClassifier()\n",
    "knn_classifiers = GridSearchCV(knn_class, knn_params, scoring=acc_scorer, n_jobs=-1)\n",
    "knn_classifiers = knn_classifiers.fit(x_new_train, y_train)\n",
    "\n",
    "knn_best = knn_classifiers.best_estimator_\n",
    "knn_best = knn_best.fit(x_train, y_train)\n",
    "\n",
    "knn_model = {\n",
    "    'Name' : 'K-Nearest Neighbors classifier', \n",
    "    'CVScore' : knn_classifiers.best_score_, \n",
    "    'CVStd' : knn_classifiers.cv_results_['std_test_score'][knn_classifiers.best_index_],\n",
    "    'Result_train' : knn_best.predict(x_train),\n",
    "    #'Result_test' : ada_best.predict(x_test),\n",
    "    'Model' : knn_best\n",
    "}"
   ]
  },
  {
   "cell_type": "code",
   "execution_count": 34,
   "metadata": {
    "collapsed": false
   },
   "outputs": [
    {
     "name": "stdout",
     "output_type": "stream",
     "text": [
      "Best model - avg: 0.771495376767 +/- 0.000407850318666\n",
      "\n",
      "\n",
      "KNeighborsClassifier(algorithm='kd_tree', leaf_size=30, metric='minkowski',\n",
      "           metric_params=None, n_jobs=1, n_neighbors=3, p=2,\n",
      "           weights='uniform')\n"
     ]
    }
   ],
   "source": [
    "best_idx = knn_classifiers.best_index_\n",
    "print('Best model - avg:', \n",
    "      knn_model['CVScore'], \n",
    "      '+/-', \n",
    "      knn_model['CVStd'])\n",
    "print('\\n')\n",
    "print(knn_classifiers.best_estimator_)"
   ]
  },
  {
   "cell_type": "code",
   "execution_count": 52,
   "metadata": {
    "collapsed": false
   },
   "outputs": [
    {
     "data": {
      "image/png": "[encoded data removed]",
      "text/plain": [
       "<matplotlib.figure.Figure at 0x1173c2f50>"
      ]
     },
     "metadata": {},
     "output_type": "display_data"
    },
    {
     "data": {
      "text/plain": [
       "(0.33333333333333331, 0.54565296471444158)"
      ]
     },
     "execution_count": 52,
     "metadata": {},
     "output_type": "execute_result"
    }
   ],
   "source": [
    "utils.plot_roc_curve(knn_best, train_x, train_y)\n",
    "utils.get_best_threshold(knn_best, train_x, train_y, f1_score)"
   ]
  },
  {
   "cell_type": "markdown",
   "metadata": {},
   "source": [
    "# Ensemble #"
   ]
  },
  {
   "cell_type": "code",
   "execution_count": 15,
   "metadata": {
    "collapsed": true
   },
   "outputs": [],
   "source": [
    "class Ensemble:\n",
    "    def __init__(self, models, svc_last=True):\n",
    "        self.models = models[:]\n",
    "        self.svc_last = svc_last\n",
    "    \n",
    "    def fit(self, X_train, y_train, X_train_normalized):\n",
    "        fitted_models = [m['Model'].fit(X_train, y_train) for m in self.models]\n",
    "        for i in range(len(fitted_models)):\n",
    "            self.models[i]['Model'] = fitted_models[i]\n",
    "    \n",
    "    def predict(self, X_test, X_test_normalized):\n",
    "        predictions = []\n",
    "        for m in self.models:\n",
    "            if m['Name'] == 'SVC':\n",
    "                predictions.append(m['Model'].predict(X_test_normalized))\n",
    "            else:\n",
    "                predictions.append(m['Model'].predict(X_test))\n",
    "        \n",
    "        df = pd.DataFrame(np.array(predictions), index=[m['Name'] for m in self.models])\n",
    "        \n",
    "        return df.apply(lambda x : 0 if np.sum(x) <= 2 else 1)\n",
    "\n",
    "    def __repr__(self):\n",
    "        return \"Ensemble(\" + ', '.join([m['Name'] for m in self.models]) + \")\""
   ]
  },
  {
   "cell_type": "code",
   "execution_count": 16,
   "metadata": {
    "collapsed": false
   },
   "outputs": [],
   "source": [
    "ens = Ensemble([rf_model, ada_model, mlp_model, lr_model, svc_model])\n",
    "predictions = ens.predict(x_test, x_test_normalized).values"
   ]
  },
  {
   "cell_type": "code",
   "execution_count": 17,
   "metadata": {
    "collapsed": true
   },
   "outputs": [],
   "source": [
    "ensemble_model = {\n",
    "    'Name' : 'Ensemble', \n",
    "    'CVScore' : 0, \n",
    "    'CVStd' : 0,\n",
    "    'Result_train' : [],\n",
    "    'Result_test' : predictions,\n",
    "    'Model' : ens\n",
    "}\n",
    "\n",
    "answer_df = pd.DataFrame()\n",
    "answer_df['CUST_COD'] = test['CUST_COD']\n",
    "answer_df['DEFAULT PAYMENT JAN'] = predictions\n",
    "\n",
    "answer_df.to_csv('results_ensemble.csv', index=False)"
   ]
  },
  {
   "cell_type": "markdown",
   "metadata": {
    "collapsed": true
   },
   "source": [
    "# Stacking #"
   ]
  },
  {
   "cell_type": "code",
   "execution_count": 18,
   "metadata": {
    "collapsed": true
   },
   "outputs": [],
   "source": [
    "def get_stacked(x, x_normalized, models):\n",
    "    predictions = []\n",
    "    for m in models:\n",
    "        if m['Name'] == 'SVC':\n",
    "            predictions.append(m['Model'].predict(x_normalized))\n",
    "        else:\n",
    "            predictions.append(m['Model'].predict(x))\n",
    "    stack = pd.DataFrame(np.array(predictions).T, columns=[m['Name'] for m in models])\n",
    "    return pd.concat([x, stack], axis=1)\n",
    "\n",
    "stacking_models = [rf_model, ada_model, svc_model]\n",
    "train_stacked = get_stacked(x_train, x_train_normalized, stacking_models)\n",
    "test_stacked = get_stacked(x_test, x_test_normalized, stacking_models)"
   ]
  },
  {
   "cell_type": "code",
   "execution_count": 25,
   "metadata": {
    "collapsed": false
   },
   "outputs": [],
   "source": [
    "ada_params = {\n",
    "    'n_estimators' : [20],#TODO\n",
    "    'learning_rate' : [0.1], #TODO\n",
    "    'algorithm' : ['SAMME.R'],\n",
    "    'random_state' : [RANDOM_SEED]\n",
    "}\n",
    "\n",
    "ada_stacked = ensemble.AdaBoostClassifier()\n",
    "acc_scorer = make_scorer(accuracy_score)\n",
    "ada_stacked_grid = GridSearchCV(ada_stacked, ada_params, scoring=acc_scorer)\n",
    "ada_stacked_grid = ada_stacked_grid.fit(train_stacked, y_train)\n",
    "\n",
    "stacked_best = ada_stacked_grid.best_estimator_.fit(train_stacked, y_train)\n",
    "\n",
    "stacked_model = {\n",
    "    'Name' : 'Stacking', \n",
    "    'CVScore' : ada_stacked_grid.best_score_, \n",
    "    'CVStd' : ada_stacked_grid.cv_results_['std_test_score'][ada_stacked_grid.best_index_],\n",
    "    'Result_train' : ada_stacked_grid.predict(train_stacked),\n",
    "    'Result_test' : ada_stacked_grid.predict(test_stacked),\n",
    "    'Model' : stacked_best\n",
    "}"
   ]
  },
  {
   "cell_type": "code",
   "execution_count": 26,
   "metadata": {
    "collapsed": false
   },
   "outputs": [
    {
     "name": "stdout",
     "output_type": "stream",
     "text": [
      "('Best model - avg:', 0.90195557444999463, '+/-', 0.0018421363077366696)\n",
      "\n",
      "\n",
      "AdaBoostClassifier(algorithm='SAMME.R', base_estimator=None,\n",
      "          learning_rate=0.1, n_estimators=20, random_state=4321)\n"
     ]
    }
   ],
   "source": [
    "print('Best model - avg:', \n",
    "      stacked_model['CVScore'], \n",
    "      '+/-', \n",
    "      stacked_model['CVStd'])\n",
    "print('\\n')\n",
    "print(stacked_best)"
   ]
  },
  {
   "cell_type": "code",
   "execution_count": 53,
   "metadata": {
    "collapsed": false
   },
   "outputs": [
    {
     "ename": "ValueError",
     "evalue": "Number of features of the model must match the input. Model n_features is 84 and input n_features is 81 ",
     "output_type": "error",
     "traceback": [
      "\u001b[0;31m---------------------------------------------------------------------------\u001b[0m",
      "\u001b[0;31mValueError\u001b[0m                                Traceback (most recent call last)",
      "\u001b[0;32m<ipython-input-53-896bd57e02f9>\u001b[0m in \u001b[0;36m<module>\u001b[0;34m()\u001b[0m\n\u001b[0;32m----> 1\u001b[0;31m \u001b[0mutils\u001b[0m\u001b[0;34m.\u001b[0m\u001b[0mplot_roc_curve\u001b[0m\u001b[0;34m(\u001b[0m\u001b[0mstacked_best\u001b[0m\u001b[0;34m,\u001b[0m \u001b[0mtrain_x\u001b[0m\u001b[0;34m,\u001b[0m \u001b[0mtrain_y\u001b[0m\u001b[0;34m)\u001b[0m\u001b[0;34m\u001b[0m\u001b[0m\n\u001b[0m\u001b[1;32m      2\u001b[0m \u001b[0mutils\u001b[0m\u001b[0;34m.\u001b[0m\u001b[0mget_best_threshold\u001b[0m\u001b[0;34m(\u001b[0m\u001b[0mstacked_best\u001b[0m\u001b[0;34m,\u001b[0m \u001b[0mtrain_x\u001b[0m\u001b[0;34m,\u001b[0m \u001b[0mtrain_y\u001b[0m\u001b[0;34m,\u001b[0m \u001b[0mf1_score\u001b[0m\u001b[0;34m)\u001b[0m\u001b[0;34m\u001b[0m\u001b[0m\n",
      "\u001b[0;32m/Users/emmeaa/Documents/UNIVERSITA/Magistrale/PRIMO_ANNO/Data Mining and Text Mining/Project/snakesonaplane/utils.py\u001b[0m in \u001b[0;36mplot_roc_curve\u001b[0;34m(model, X, y)\u001b[0m\n\u001b[1;32m    134\u001b[0m \u001b[0;34m\u001b[0m\u001b[0m\n\u001b[1;32m    135\u001b[0m \u001b[0;32mdef\u001b[0m \u001b[0mplot_roc_curve\u001b[0m\u001b[0;34m(\u001b[0m\u001b[0mmodel\u001b[0m\u001b[0;34m,\u001b[0m \u001b[0mX\u001b[0m\u001b[0;34m,\u001b[0m \u001b[0my\u001b[0m\u001b[0;34m)\u001b[0m\u001b[0;34m:\u001b[0m\u001b[0;34m\u001b[0m\u001b[0m\n\u001b[0;32m--> 136\u001b[0;31m         \u001b[0mprobabilities\u001b[0m \u001b[0;34m=\u001b[0m \u001b[0mget_probabilities\u001b[0m\u001b[0;34m(\u001b[0m\u001b[0mmodel\u001b[0m\u001b[0;34m,\u001b[0m \u001b[0mX\u001b[0m\u001b[0;34m)\u001b[0m\u001b[0;34m\u001b[0m\u001b[0m\n\u001b[0m\u001b[1;32m    137\u001b[0m         \u001b[0mfpr\u001b[0m\u001b[0;34m,\u001b[0m \u001b[0mtpr\u001b[0m\u001b[0;34m,\u001b[0m \u001b[0mthreshold\u001b[0m \u001b[0;34m=\u001b[0m \u001b[0mroc_curve\u001b[0m\u001b[0;34m(\u001b[0m\u001b[0my\u001b[0m\u001b[0;34m,\u001b[0m \u001b[0mprobabilities\u001b[0m\u001b[0;34m)\u001b[0m\u001b[0;34m\u001b[0m\u001b[0m\n\u001b[1;32m    138\u001b[0m         \u001b[0mroc_auc\u001b[0m \u001b[0;34m=\u001b[0m \u001b[0mauc\u001b[0m\u001b[0;34m(\u001b[0m\u001b[0mfpr\u001b[0m\u001b[0;34m,\u001b[0m \u001b[0mtpr\u001b[0m\u001b[0;34m)\u001b[0m\u001b[0;34m\u001b[0m\u001b[0m\n",
      "\u001b[0;32m/Users/emmeaa/Documents/UNIVERSITA/Magistrale/PRIMO_ANNO/Data Mining and Text Mining/Project/snakesonaplane/utils.py\u001b[0m in \u001b[0;36mget_probabilities\u001b[0;34m(model, X)\u001b[0m\n\u001b[1;32m    129\u001b[0m \u001b[0;34m\u001b[0m\u001b[0m\n\u001b[1;32m    130\u001b[0m \u001b[0;32mdef\u001b[0m \u001b[0mget_probabilities\u001b[0m\u001b[0;34m(\u001b[0m\u001b[0mmodel\u001b[0m\u001b[0;34m,\u001b[0m \u001b[0mX\u001b[0m\u001b[0;34m)\u001b[0m\u001b[0;34m:\u001b[0m\u001b[0;34m\u001b[0m\u001b[0m\n\u001b[0;32m--> 131\u001b[0;31m         \u001b[0mprobabilities\u001b[0m \u001b[0;34m=\u001b[0m \u001b[0mmodel\u001b[0m\u001b[0;34m.\u001b[0m\u001b[0mpredict_proba\u001b[0m\u001b[0;34m(\u001b[0m\u001b[0mX\u001b[0m\u001b[0;34m)\u001b[0m\u001b[0;34m\u001b[0m\u001b[0m\n\u001b[0m\u001b[1;32m    132\u001b[0m \u001b[0;34m\u001b[0m\u001b[0m\n\u001b[1;32m    133\u001b[0m         \u001b[0;32mreturn\u001b[0m \u001b[0mnp\u001b[0m\u001b[0;34m.\u001b[0m\u001b[0marray\u001b[0m\u001b[0;34m(\u001b[0m\u001b[0;34m[\u001b[0m\u001b[0mt\u001b[0m\u001b[0;34m[\u001b[0m\u001b[0;36m1\u001b[0m\u001b[0;34m]\u001b[0m \u001b[0;32mif\u001b[0m \u001b[0mlen\u001b[0m\u001b[0;34m(\u001b[0m\u001b[0mt\u001b[0m\u001b[0;34m)\u001b[0m \u001b[0;34m>=\u001b[0m \u001b[0;36m1\u001b[0m \u001b[0;32melse\u001b[0m \u001b[0;36m0.0\u001b[0m \u001b[0;32mfor\u001b[0m \u001b[0mt\u001b[0m \u001b[0;32min\u001b[0m \u001b[0mprobabilities\u001b[0m\u001b[0;34m]\u001b[0m\u001b[0;34m)\u001b[0m\u001b[0;34m\u001b[0m\u001b[0m\n",
      "\u001b[0;32m/Applications/anaconda/lib/python2.7/site-packages/sklearn/ensemble/weight_boosting.pyc\u001b[0m in \u001b[0;36mpredict_proba\u001b[0;34m(self, X)\u001b[0m\n\u001b[1;32m    758\u001b[0m             \u001b[0;31m# The weights are all 1. for SAMME.R\u001b[0m\u001b[0;34m\u001b[0m\u001b[0;34m\u001b[0m\u001b[0m\n\u001b[1;32m    759\u001b[0m             proba = sum(_samme_proba(estimator, n_classes, X)\n\u001b[0;32m--> 760\u001b[0;31m                         for estimator in self.estimators_)\n\u001b[0m\u001b[1;32m    761\u001b[0m         \u001b[0;32melse\u001b[0m\u001b[0;34m:\u001b[0m   \u001b[0;31m# self.algorithm == \"SAMME\"\u001b[0m\u001b[0;34m\u001b[0m\u001b[0m\n\u001b[1;32m    762\u001b[0m             proba = sum(estimator.predict_proba(X) * w\n",
      "\u001b[0;32m/Applications/anaconda/lib/python2.7/site-packages/sklearn/ensemble/weight_boosting.pyc\u001b[0m in \u001b[0;36m<genexpr>\u001b[0;34m((estimator,))\u001b[0m\n\u001b[1;32m    758\u001b[0m             \u001b[0;31m# The weights are all 1. for SAMME.R\u001b[0m\u001b[0;34m\u001b[0m\u001b[0;34m\u001b[0m\u001b[0m\n\u001b[1;32m    759\u001b[0m             proba = sum(_samme_proba(estimator, n_classes, X)\n\u001b[0;32m--> 760\u001b[0;31m                         for estimator in self.estimators_)\n\u001b[0m\u001b[1;32m    761\u001b[0m         \u001b[0;32melse\u001b[0m\u001b[0;34m:\u001b[0m   \u001b[0;31m# self.algorithm == \"SAMME\"\u001b[0m\u001b[0;34m\u001b[0m\u001b[0m\n\u001b[1;32m    762\u001b[0m             proba = sum(estimator.predict_proba(X) * w\n",
      "\u001b[0;32m/Applications/anaconda/lib/python2.7/site-packages/sklearn/ensemble/weight_boosting.pyc\u001b[0m in \u001b[0;36m_samme_proba\u001b[0;34m(estimator, n_classes, X)\u001b[0m\n\u001b[1;32m    281\u001b[0m \u001b[0;34m\u001b[0m\u001b[0m\n\u001b[1;32m    282\u001b[0m     \"\"\"\n\u001b[0;32m--> 283\u001b[0;31m     \u001b[0mproba\u001b[0m \u001b[0;34m=\u001b[0m \u001b[0mestimator\u001b[0m\u001b[0;34m.\u001b[0m\u001b[0mpredict_proba\u001b[0m\u001b[0;34m(\u001b[0m\u001b[0mX\u001b[0m\u001b[0;34m)\u001b[0m\u001b[0;34m\u001b[0m\u001b[0m\n\u001b[0m\u001b[1;32m    284\u001b[0m \u001b[0;34m\u001b[0m\u001b[0m\n\u001b[1;32m    285\u001b[0m     \u001b[0;31m# Displace zero probabilities so the log is defined.\u001b[0m\u001b[0;34m\u001b[0m\u001b[0;34m\u001b[0m\u001b[0m\n",
      "\u001b[0;32m/Applications/anaconda/lib/python2.7/site-packages/sklearn/tree/tree.pyc\u001b[0m in \u001b[0;36mpredict_proba\u001b[0;34m(self, X, check_input)\u001b[0m\n\u001b[1;32m    765\u001b[0m             \u001b[0mclasses\u001b[0m \u001b[0mcorresponds\u001b[0m \u001b[0mto\u001b[0m \u001b[0mthat\u001b[0m \u001b[0;32min\u001b[0m \u001b[0mthe\u001b[0m \u001b[0mattribute\u001b[0m \u001b[0;34m`\u001b[0m\u001b[0mclasses_\u001b[0m\u001b[0;34m`\u001b[0m\u001b[0;34m.\u001b[0m\u001b[0;34m\u001b[0m\u001b[0m\n\u001b[1;32m    766\u001b[0m         \"\"\"\n\u001b[0;32m--> 767\u001b[0;31m         \u001b[0mX\u001b[0m \u001b[0;34m=\u001b[0m \u001b[0mself\u001b[0m\u001b[0;34m.\u001b[0m\u001b[0m_validate_X_predict\u001b[0m\u001b[0;34m(\u001b[0m\u001b[0mX\u001b[0m\u001b[0;34m,\u001b[0m \u001b[0mcheck_input\u001b[0m\u001b[0;34m)\u001b[0m\u001b[0;34m\u001b[0m\u001b[0m\n\u001b[0m\u001b[1;32m    768\u001b[0m         \u001b[0mproba\u001b[0m \u001b[0;34m=\u001b[0m \u001b[0mself\u001b[0m\u001b[0;34m.\u001b[0m\u001b[0mtree_\u001b[0m\u001b[0;34m.\u001b[0m\u001b[0mpredict\u001b[0m\u001b[0;34m(\u001b[0m\u001b[0mX\u001b[0m\u001b[0;34m)\u001b[0m\u001b[0;34m\u001b[0m\u001b[0m\n\u001b[1;32m    769\u001b[0m \u001b[0;34m\u001b[0m\u001b[0m\n",
      "\u001b[0;32m/Applications/anaconda/lib/python2.7/site-packages/sklearn/tree/tree.pyc\u001b[0m in \u001b[0;36m_validate_X_predict\u001b[0;34m(self, X, check_input)\u001b[0m\n\u001b[1;32m    374\u001b[0m                              \u001b[0;34m\"match the input. Model n_features is %s and \"\u001b[0m\u001b[0;34m\u001b[0m\u001b[0m\n\u001b[1;32m    375\u001b[0m                              \u001b[0;34m\"input n_features is %s \"\u001b[0m\u001b[0;34m\u001b[0m\u001b[0m\n\u001b[0;32m--> 376\u001b[0;31m                              % (self.n_features_, n_features))\n\u001b[0m\u001b[1;32m    377\u001b[0m \u001b[0;34m\u001b[0m\u001b[0m\n\u001b[1;32m    378\u001b[0m         \u001b[0;32mreturn\u001b[0m \u001b[0mX\u001b[0m\u001b[0;34m\u001b[0m\u001b[0m\n",
      "\u001b[0;31mValueError\u001b[0m: Number of features of the model must match the input. Model n_features is 84 and input n_features is 81 "
     ]
    }
   ],
   "source": [
    "utils.plot_roc_curve(stacked_best, train_x, train_y)\n",
    "utils.get_best_threshold(stacked_best, train_x, train_y, f1_score)"
   ]
  },
  {
   "cell_type": "code",
   "execution_count": null,
   "metadata": {
    "collapsed": true
   },
   "outputs": [],
   "source": []
  }
 ],
 "metadata": {
  "kernelspec": {
   "display_name": "Python 2",
   "language": "python",
   "name": "python2"
  },
  "language_info": {
   "codemirror_mode": {
    "name": "ipython",
    "version": 2
   },
   "file_extension": ".py",
   "mimetype": "text/x-python",
   "name": "python",
   "nbconvert_exporter": "python",
   "pygments_lexer": "ipython2",
   "version": "2.7.13"
  }
 },
 "nbformat": 4,
 "nbformat_minor": 2
}
