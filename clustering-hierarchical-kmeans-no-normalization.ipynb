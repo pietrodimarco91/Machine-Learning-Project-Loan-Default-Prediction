{
 "cells": [
  {
   "cell_type": "code",
   "execution_count": 2,
   "metadata": {
    "collapsed": false,
    "deletable": true,
    "editable": true
   },
   "outputs": [
    {
     "name": "stdout",
     "output_type": "stream",
     "text": [
      "Populating the interactive namespace from numpy and matplotlib\n"
     ]
    }
   ],
   "source": [
    "import matplotlib.pyplot as plt\n",
    "import seaborn as sns\n",
    "%matplotlib inline\n",
    "\n",
    "import pandas as pd\n",
    "import numpy as np\n",
    "\n",
    "#from sklearn.tree import DecisionTreeClassifier\n",
    "#from sklearn.ensemble import RandomForestClassifier\n",
    "#from sklearn.metrics import accuracy_score\n",
    "\n",
    "# we are using the scipy implementation\n",
    "from scipy.spatial.distance import cdist, pdist\n",
    "from scipy.cluster.hierarchy import dendrogram, linkage, fcluster\n",
    "\n",
    "from sklearn.cluster import KMeans\n",
    "\n",
    "%pylab inline\n",
    "\n",
    "import scipy.spatial.distance as spd\n",
    "import scipy.cluster.hierarchy as sch"
   ]
  },
  {
   "cell_type": "markdown",
   "metadata": {
    "deletable": true,
    "editable": true
   },
   "source": [
    "# The purpose of this notebook is to add as many features as we can imagine and see which ones are the most relevant"
   ]
  },
  {
   "cell_type": "code",
   "execution_count": 3,
   "metadata": {
    "collapsed": true,
    "deletable": true,
    "editable": true
   },
   "outputs": [],
   "source": [
    "train = pd.read_csv('data/train_clean.csv')"
   ]
  },
  {
   "cell_type": "markdown",
   "metadata": {
    "deletable": true,
    "editable": true
   },
   "source": [
    "## Transform attributes in numeric values"
   ]
  },
  {
   "cell_type": "code",
   "execution_count": 4,
   "metadata": {
    "collapsed": false,
    "deletable": true,
    "editable": true
   },
   "outputs": [
    {
     "data": {
      "text/plain": [
       "Index([u'CUST_COD', u'LIMIT_BAL', u'SEX', u'EDUCATION', u'MARRIAGE',\n",
       "       u'BIRTH_DATE', u'PAY_DEC', u'PAY_NOV', u'PAY_OCT', u'PAY_SEP',\n",
       "       u'PAY_AUG', u'PAY_JUL', u'BILL_AMT_DEC', u'BILL_AMT_NOV',\n",
       "       u'BILL_AMT_OCT', u'BILL_AMT_SEP', u'BILL_AMT_AUG', u'BILL_AMT_JUL',\n",
       "       u'PAY_AMT_DEC', u'PAY_AMT_NOV', u'PAY_AMT_OCT', u'PAY_AMT_SEP',\n",
       "       u'PAY_AMT_AUG', u'PAY_AMT_JUL', u'DEFAULT PAYMENT JAN'],\n",
       "      dtype='object')"
      ]
     },
     "execution_count": 4,
     "metadata": {},
     "output_type": "execute_result"
    }
   ],
   "source": [
    "train.columns"
   ]
  },
  {
   "cell_type": "markdown",
   "metadata": {
    "deletable": true,
    "editable": true
   },
   "source": [
    "### Drop CUST_COD\n",
    "\n",
    "We won't use it, at the moment"
   ]
  },
  {
   "cell_type": "code",
   "execution_count": 5,
   "metadata": {
    "collapsed": true,
    "deletable": true,
    "editable": true
   },
   "outputs": [],
   "source": [
    "train = train.drop(['CUST_COD'], axis=1)"
   ]
  },
  {
   "cell_type": "markdown",
   "metadata": {
    "deletable": true,
    "editable": true
   },
   "source": [
    "## Transform SEX"
   ]
  },
  {
   "cell_type": "code",
   "execution_count": 6,
   "metadata": {
    "collapsed": true,
    "deletable": true,
    "editable": true
   },
   "outputs": [],
   "source": [
    "train['SEX_MISSING'] = train['SEX'].isnull()*1      # Add a column to say if sex was missing or not\n",
    "train.loc[train['SEX'].isnull(), 'SEX'] = 'F' # Predict sex with majority class\n",
    "train['SEX'] = train['SEX'].apply(lambda x : 0 if x == 'M' else 1)   # Convert to M -> 0, F -> 1"
   ]
  },
  {
   "cell_type": "markdown",
   "metadata": {
    "deletable": true,
    "editable": true
   },
   "source": [
    "## Transform EDUCATION"
   ]
  },
  {
   "cell_type": "code",
   "execution_count": 7,
   "metadata": {
    "collapsed": true,
    "deletable": true,
    "editable": true
   },
   "outputs": [],
   "source": [
    "train['EDUCATION_MISSING'] = train['EDUCATION'].isnull() * 1 # Add a column to say if education was missing or not\n",
    "train['EDUCATION'] = train['EDUCATION'].fillna('other')    # Predict missing values as other\n",
    "\n",
    "train = pd.get_dummies(train, columns=['EDUCATION'])   # Get one hot vector for education"
   ]
  },
  {
   "cell_type": "markdown",
   "metadata": {
    "deletable": true,
    "editable": true
   },
   "source": [
    "## Trasform MARRIAGE"
   ]
  },
  {
   "cell_type": "code",
   "execution_count": 8,
   "metadata": {
    "collapsed": true,
    "deletable": true,
    "editable": true
   },
   "outputs": [],
   "source": [
    "train['MARRIAGE_MISSING'] = train['MARRIAGE'].isnull() * 1 # Add a column to say if education was missing or not\n",
    "train['MARRIAGE'] = train['MARRIAGE'].fillna('other')    # Predict missing values as other\n",
    "train = pd.get_dummies(train, columns=['MARRIAGE'])   # Get one hot vector for education"
   ]
  },
  {
   "cell_type": "markdown",
   "metadata": {
    "deletable": true,
    "editable": true
   },
   "source": [
    "## Transform BIRTH_DATE"
   ]
  },
  {
   "cell_type": "code",
   "execution_count": 9,
   "metadata": {
    "collapsed": true,
    "deletable": true,
    "editable": true
   },
   "outputs": [],
   "source": [
    "train['AGE_MISSING'] = train['BIRTH_DATE'].isnull() * 1"
   ]
  },
  {
   "cell_type": "code",
   "execution_count": 10,
   "metadata": {
    "collapsed": true,
    "deletable": true,
    "editable": true
   },
   "outputs": [],
   "source": [
    "import datetime\n",
    "\n",
    "birthdates = train['BIRTH_DATE']\n",
    "\n",
    "def get_age(date):\n",
    "    try:\n",
    "        return (datetime.datetime.today() - datetime.datetime.strptime(date, '%d/%m/%Y')).days//365\n",
    "    except Exception as e:\n",
    "        return date\n",
    "\n",
    "birthdates = birthdates.apply(get_age)"
   ]
  },
  {
   "cell_type": "code",
   "execution_count": 11,
   "metadata": {
    "collapsed": false,
    "deletable": true,
    "editable": true
   },
   "outputs": [
    {
     "data": {
      "text/plain": [
       "count    26182.000000\n",
       "mean        36.488160\n",
       "std          9.201312\n",
       "min         22.000000\n",
       "25%         29.000000\n",
       "50%         35.000000\n",
       "75%         42.000000\n",
       "max         76.000000\n",
       "Name: BIRTH_DATE, dtype: float64"
      ]
     },
     "execution_count": 11,
     "metadata": {},
     "output_type": "execute_result"
    }
   ],
   "source": [
    "birthdates.describe()"
   ]
  },
  {
   "cell_type": "code",
   "execution_count": 12,
   "metadata": {
    "collapsed": true,
    "deletable": true,
    "editable": true
   },
   "outputs": [],
   "source": [
    "# Fill NA with mean value\n",
    "birthdates = birthdates.fillna(36)"
   ]
  },
  {
   "cell_type": "code",
   "execution_count": 13,
   "metadata": {
    "collapsed": true,
    "deletable": true,
    "editable": true
   },
   "outputs": [],
   "source": [
    "train['AGE'] = birthdates\n",
    "train = train.drop(['BIRTH_DATE'], axis=1)"
   ]
  },
  {
   "cell_type": "markdown",
   "metadata": {
    "deletable": true,
    "editable": true
   },
   "source": [
    "## Transform all columns in float"
   ]
  },
  {
   "cell_type": "code",
   "execution_count": 14,
   "metadata": {
    "collapsed": false,
    "deletable": true,
    "editable": true
   },
   "outputs": [
    {
     "name": "stdout",
     "output_type": "stream",
     "text": [
      "<class 'pandas.core.frame.DataFrame'>\n",
      "RangeIndex: 26884 entries, 0 to 26883\n",
      "Data columns (total 33 columns):\n",
      "LIMIT_BAL                    26884 non-null float64\n",
      "SEX                          26884 non-null int64\n",
      "PAY_DEC                      26884 non-null int64\n",
      "PAY_NOV                      26884 non-null int64\n",
      "PAY_OCT                      26884 non-null int64\n",
      "PAY_SEP                      26884 non-null int64\n",
      "PAY_AUG                      26884 non-null int64\n",
      "PAY_JUL                      26884 non-null int64\n",
      "BILL_AMT_DEC                 26884 non-null float64\n",
      "BILL_AMT_NOV                 26884 non-null float64\n",
      "BILL_AMT_OCT                 26884 non-null float64\n",
      "BILL_AMT_SEP                 26884 non-null float64\n",
      "BILL_AMT_AUG                 26884 non-null float64\n",
      "BILL_AMT_JUL                 26884 non-null float64\n",
      "PAY_AMT_DEC                  26884 non-null float64\n",
      "PAY_AMT_NOV                  26884 non-null float64\n",
      "PAY_AMT_OCT                  26884 non-null float64\n",
      "PAY_AMT_SEP                  26884 non-null float64\n",
      "PAY_AMT_AUG                  26884 non-null float64\n",
      "PAY_AMT_JUL                  26884 non-null float64\n",
      "DEFAULT PAYMENT JAN          26884 non-null int64\n",
      "SEX_MISSING                  26884 non-null int64\n",
      "EDUCATION_MISSING            26884 non-null int64\n",
      "EDUCATION_graduate school    26884 non-null uint8\n",
      "EDUCATION_high school        26884 non-null uint8\n",
      "EDUCATION_other              26884 non-null uint8\n",
      "EDUCATION_university         26884 non-null uint8\n",
      "MARRIAGE_MISSING             26884 non-null int64\n",
      "MARRIAGE_married             26884 non-null uint8\n",
      "MARRIAGE_other               26884 non-null uint8\n",
      "MARRIAGE_single              26884 non-null uint8\n",
      "AGE_MISSING                  26884 non-null int64\n",
      "AGE                          26884 non-null float64\n",
      "dtypes: float64(14), int64(12), uint8(7)\n",
      "memory usage: 5.5 MB\n"
     ]
    }
   ],
   "source": [
    "train.info()"
   ]
  },
  {
   "cell_type": "code",
   "execution_count": 15,
   "metadata": {
    "collapsed": true,
    "deletable": true,
    "editable": true
   },
   "outputs": [],
   "source": [
    "train = train.astype('float64')"
   ]
  },
  {
   "cell_type": "code",
   "execution_count": 16,
   "metadata": {
    "collapsed": false,
    "deletable": true,
    "editable": true
   },
   "outputs": [
    {
     "name": "stdout",
     "output_type": "stream",
     "text": [
      "<class 'pandas.core.frame.DataFrame'>\n",
      "RangeIndex: 26884 entries, 0 to 26883\n",
      "Data columns (total 33 columns):\n",
      "LIMIT_BAL                    26884 non-null float64\n",
      "SEX                          26884 non-null float64\n",
      "PAY_DEC                      26884 non-null float64\n",
      "PAY_NOV                      26884 non-null float64\n",
      "PAY_OCT                      26884 non-null float64\n",
      "PAY_SEP                      26884 non-null float64\n",
      "PAY_AUG                      26884 non-null float64\n",
      "PAY_JUL                      26884 non-null float64\n",
      "BILL_AMT_DEC                 26884 non-null float64\n",
      "BILL_AMT_NOV                 26884 non-null float64\n",
      "BILL_AMT_OCT                 26884 non-null float64\n",
      "BILL_AMT_SEP                 26884 non-null float64\n",
      "BILL_AMT_AUG                 26884 non-null float64\n",
      "BILL_AMT_JUL                 26884 non-null float64\n",
      "PAY_AMT_DEC                  26884 non-null float64\n",
      "PAY_AMT_NOV                  26884 non-null float64\n",
      "PAY_AMT_OCT                  26884 non-null float64\n",
      "PAY_AMT_SEP                  26884 non-null float64\n",
      "PAY_AMT_AUG                  26884 non-null float64\n",
      "PAY_AMT_JUL                  26884 non-null float64\n",
      "DEFAULT PAYMENT JAN          26884 non-null float64\n",
      "SEX_MISSING                  26884 non-null float64\n",
      "EDUCATION_MISSING            26884 non-null float64\n",
      "EDUCATION_graduate school    26884 non-null float64\n",
      "EDUCATION_high school        26884 non-null float64\n",
      "EDUCATION_other              26884 non-null float64\n",
      "EDUCATION_university         26884 non-null float64\n",
      "MARRIAGE_MISSING             26884 non-null float64\n",
      "MARRIAGE_married             26884 non-null float64\n",
      "MARRIAGE_other               26884 non-null float64\n",
      "MARRIAGE_single              26884 non-null float64\n",
      "AGE_MISSING                  26884 non-null float64\n",
      "AGE                          26884 non-null float64\n",
      "dtypes: float64(33)\n",
      "memory usage: 6.8 MB\n"
     ]
    }
   ],
   "source": [
    "train.info()"
   ]
  },
  {
   "cell_type": "code",
   "execution_count": 17,
   "metadata": {
    "collapsed": true
   },
   "outputs": [],
   "source": [
    "x = train.drop(['DEFAULT PAYMENT JAN'], axis=1)\n",
    "y = train['DEFAULT PAYMENT JAN']"
   ]
  },
  {
   "cell_type": "code",
   "execution_count": 18,
   "metadata": {
    "collapsed": false
   },
   "outputs": [
    {
     "data": {
      "text/html": [
       "<div>\n",
       "<table border=\"1\" class=\"dataframe\">\n",
       "  <thead>\n",
       "    <tr style=\"text-align: right;\">\n",
       "      <th></th>\n",
       "      <th>LIMIT_BAL</th>\n",
       "      <th>SEX</th>\n",
       "      <th>PAY_DEC</th>\n",
       "      <th>PAY_NOV</th>\n",
       "      <th>PAY_OCT</th>\n",
       "      <th>PAY_SEP</th>\n",
       "      <th>PAY_AUG</th>\n",
       "      <th>PAY_JUL</th>\n",
       "      <th>BILL_AMT_DEC</th>\n",
       "      <th>BILL_AMT_NOV</th>\n",
       "      <th>...</th>\n",
       "      <th>EDUCATION_graduate school</th>\n",
       "      <th>EDUCATION_high school</th>\n",
       "      <th>EDUCATION_other</th>\n",
       "      <th>EDUCATION_university</th>\n",
       "      <th>MARRIAGE_MISSING</th>\n",
       "      <th>MARRIAGE_married</th>\n",
       "      <th>MARRIAGE_other</th>\n",
       "      <th>MARRIAGE_single</th>\n",
       "      <th>AGE_MISSING</th>\n",
       "      <th>AGE</th>\n",
       "    </tr>\n",
       "  </thead>\n",
       "  <tbody>\n",
       "    <tr>\n",
       "      <th>0</th>\n",
       "      <td>1490.680</td>\n",
       "      <td>0.0</td>\n",
       "      <td>0.0</td>\n",
       "      <td>0.0</td>\n",
       "      <td>0.0</td>\n",
       "      <td>0.0</td>\n",
       "      <td>2.0</td>\n",
       "      <td>0.0</td>\n",
       "      <td>1494.853904</td>\n",
       "      <td>462.677258</td>\n",
       "      <td>...</td>\n",
       "      <td>0.0</td>\n",
       "      <td>0.0</td>\n",
       "      <td>0.0</td>\n",
       "      <td>1.0</td>\n",
       "      <td>0.0</td>\n",
       "      <td>0.0</td>\n",
       "      <td>0.0</td>\n",
       "      <td>1.0</td>\n",
       "      <td>1.0</td>\n",
       "      <td>36.0</td>\n",
       "    </tr>\n",
       "    <tr>\n",
       "      <th>1</th>\n",
       "      <td>5664.584</td>\n",
       "      <td>0.0</td>\n",
       "      <td>0.0</td>\n",
       "      <td>0.0</td>\n",
       "      <td>0.0</td>\n",
       "      <td>0.0</td>\n",
       "      <td>0.0</td>\n",
       "      <td>-2.0</td>\n",
       "      <td>2946.001070</td>\n",
       "      <td>3046.174766</td>\n",
       "      <td>...</td>\n",
       "      <td>0.0</td>\n",
       "      <td>0.0</td>\n",
       "      <td>0.0</td>\n",
       "      <td>1.0</td>\n",
       "      <td>0.0</td>\n",
       "      <td>1.0</td>\n",
       "      <td>0.0</td>\n",
       "      <td>0.0</td>\n",
       "      <td>0.0</td>\n",
       "      <td>34.0</td>\n",
       "    </tr>\n",
       "    <tr>\n",
       "      <th>2</th>\n",
       "      <td>6260.856</td>\n",
       "      <td>1.0</td>\n",
       "      <td>0.0</td>\n",
       "      <td>0.0</td>\n",
       "      <td>-1.0</td>\n",
       "      <td>-1.0</td>\n",
       "      <td>-2.0</td>\n",
       "      <td>-2.0</td>\n",
       "      <td>1761.119166</td>\n",
       "      <td>1753.934088</td>\n",
       "      <td>...</td>\n",
       "      <td>0.0</td>\n",
       "      <td>1.0</td>\n",
       "      <td>0.0</td>\n",
       "      <td>0.0</td>\n",
       "      <td>0.0</td>\n",
       "      <td>1.0</td>\n",
       "      <td>0.0</td>\n",
       "      <td>0.0</td>\n",
       "      <td>0.0</td>\n",
       "      <td>42.0</td>\n",
       "    </tr>\n",
       "    <tr>\n",
       "      <th>3</th>\n",
       "      <td>8944.080</td>\n",
       "      <td>1.0</td>\n",
       "      <td>-2.0</td>\n",
       "      <td>-2.0</td>\n",
       "      <td>-2.0</td>\n",
       "      <td>-2.0</td>\n",
       "      <td>-2.0</td>\n",
       "      <td>-2.0</td>\n",
       "      <td>88.635833</td>\n",
       "      <td>80.317838</td>\n",
       "      <td>...</td>\n",
       "      <td>1.0</td>\n",
       "      <td>0.0</td>\n",
       "      <td>0.0</td>\n",
       "      <td>0.0</td>\n",
       "      <td>0.0</td>\n",
       "      <td>1.0</td>\n",
       "      <td>0.0</td>\n",
       "      <td>0.0</td>\n",
       "      <td>0.0</td>\n",
       "      <td>40.0</td>\n",
       "    </tr>\n",
       "    <tr>\n",
       "      <th>4</th>\n",
       "      <td>3577.632</td>\n",
       "      <td>1.0</td>\n",
       "      <td>-1.0</td>\n",
       "      <td>-1.0</td>\n",
       "      <td>-1.0</td>\n",
       "      <td>-1.0</td>\n",
       "      <td>-1.0</td>\n",
       "      <td>-1.0</td>\n",
       "      <td>29.217328</td>\n",
       "      <td>119.254400</td>\n",
       "      <td>...</td>\n",
       "      <td>1.0</td>\n",
       "      <td>0.0</td>\n",
       "      <td>0.0</td>\n",
       "      <td>0.0</td>\n",
       "      <td>0.0</td>\n",
       "      <td>1.0</td>\n",
       "      <td>0.0</td>\n",
       "      <td>0.0</td>\n",
       "      <td>0.0</td>\n",
       "      <td>39.0</td>\n",
       "    </tr>\n",
       "  </tbody>\n",
       "</table>\n",
       "<p>5 rows × 33 columns</p>\n",
       "</div>"
      ],
      "text/plain": [
       "   LIMIT_BAL  SEX  PAY_DEC  PAY_NOV  PAY_OCT  PAY_SEP  PAY_AUG  PAY_JUL  \\\n",
       "0   1490.680  0.0      0.0      0.0      0.0      0.0      2.0      0.0   \n",
       "1   5664.584  0.0      0.0      0.0      0.0      0.0      0.0     -2.0   \n",
       "2   6260.856  1.0      0.0      0.0     -1.0     -1.0     -2.0     -2.0   \n",
       "3   8944.080  1.0     -2.0     -2.0     -2.0     -2.0     -2.0     -2.0   \n",
       "4   3577.632  1.0     -1.0     -1.0     -1.0     -1.0     -1.0     -1.0   \n",
       "\n",
       "   BILL_AMT_DEC  BILL_AMT_NOV  ...   EDUCATION_graduate school  \\\n",
       "0   1494.853904    462.677258  ...                         0.0   \n",
       "1   2946.001070   3046.174766  ...                         0.0   \n",
       "2   1761.119166   1753.934088  ...                         0.0   \n",
       "3     88.635833     80.317838  ...                         1.0   \n",
       "4     29.217328    119.254400  ...                         1.0   \n",
       "\n",
       "   EDUCATION_high school  EDUCATION_other  EDUCATION_university  \\\n",
       "0                    0.0              0.0                   1.0   \n",
       "1                    0.0              0.0                   1.0   \n",
       "2                    1.0              0.0                   0.0   \n",
       "3                    0.0              0.0                   0.0   \n",
       "4                    0.0              0.0                   0.0   \n",
       "\n",
       "   MARRIAGE_MISSING  MARRIAGE_married  MARRIAGE_other  MARRIAGE_single  \\\n",
       "0               0.0               0.0             0.0              1.0   \n",
       "1               0.0               1.0             0.0              0.0   \n",
       "2               0.0               1.0             0.0              0.0   \n",
       "3               0.0               1.0             0.0              0.0   \n",
       "4               0.0               1.0             0.0              0.0   \n",
       "\n",
       "   AGE_MISSING   AGE  \n",
       "0          1.0  36.0  \n",
       "1          0.0  34.0  \n",
       "2          0.0  42.0  \n",
       "3          0.0  40.0  \n",
       "4          0.0  39.0  \n",
       "\n",
       "[5 rows x 33 columns]"
      ]
     },
     "execution_count": 18,
     "metadata": {},
     "output_type": "execute_result"
    }
   ],
   "source": [
    "train.head()"
   ]
  },
  {
   "cell_type": "code",
   "execution_count": 19,
   "metadata": {
    "collapsed": false
   },
   "outputs": [],
   "source": [
    "z = linkage(x, 'centroid')"
   ]
  },
  {
   "cell_type": "code",
   "execution_count": 21,
   "metadata": {
    "collapsed": false,
    "scrolled": true
   },
   "outputs": [],
   "source": [
    "wss_values = []\n",
    "bss_values = []\n",
    "k_values = range(1,20)\n",
    "\n",
    "for k in k_values:\n",
    "    clustering = fcluster(z, k, criterion='maxclust')\n",
    "    centroids_h = [np.mean(x[clustering==c],axis=0) for c in range(1,k+1)]\n",
    "    cdist(x, centroids_h, 'euclidean')\n",
    "    D = cdist(x, centroids_h, 'euclidean')\n",
    "    cIdx = np.argmin(D,axis=1)\n",
    "    d = np.min(D,axis=1)\n",
    "\n",
    "    avgWithinSS = sum(d)/x.shape[0]\n",
    "\n",
    "    # Total with-in sum of square\n",
    "    wss = sum(d**2)\n",
    "\n",
    "    tss = sum(pdist(x)**2)/x.shape[0]\n",
    "\n",
    "    bss = tss-wss\n",
    "\n",
    "    wss_values += [wss]\n",
    "    bss_values += [bss]"
   ]
  },
  {
   "cell_type": "code",
   "execution_count": 22,
   "metadata": {
    "collapsed": false
   },
   "outputs": [
    {
     "data": {
      "image/png": "[encoded data removed]",
      "text/plain": [
       "<matplotlib.figure.Figure at 0x103419210>"
      ]
     },
     "metadata": {},
     "output_type": "display_data"
    }
   ],
   "source": [
    "fig = plt.figure()\n",
    "font = {'family' : 'sans', 'size'   : 12}\n",
    "plt.rc('font', **font)\n",
    "plt.plot(k_values, wss_values, 'bo-', color='red', label='WSS')\n",
    "plt.plot(k_values, bss_values, 'bo-', color='blue', label='BSS')\n",
    "plt.grid(True)\n",
    "plt.xlabel('Number of clusters')\n",
    "plt.ylabel('BSS & WSS')\n",
    "plt.xticks(k_values)\n",
    "plt.legend()\n",
    "plt.title('Hierarchical Clustering');"
   ]
  },
  {
   "cell_type": "code",
   "execution_count": 23,
   "metadata": {
    "collapsed": false
   },
   "outputs": [],
   "source": [
    "#yp = KMeans(n_clusters=10).fit_predict(x)"
   ]
  },
  {
   "cell_type": "code",
   "execution_count": 26,
   "metadata": {
    "collapsed": true
   },
   "outputs": [],
   "source": [
    "def KneeElbowAnalysis(x,max_k=10):\n",
    "    k_values = range(1,max_k)\n",
    "    clusterings = [KMeans(n_clusters=k, random_state=12334).fit(x) for k in k_values]\n",
    "    centroids_k = [clustering.cluster_centers_ for clustering in clusterings]\n",
    "\n",
    "    D_k = [cdist(x, cent, 'euclidean') for cent in centroids_k]\n",
    "    cIdx = [np.argmin(D,axis=1) for D in D_k]\n",
    "    dist = [np.min(D,axis=1) for D in D_k]\n",
    "    avgWithinSS = [sum(d)/x.shape[0] for d in dist]\n",
    "\n",
    "    # Total with-in sum of square\n",
    "    wcss = [sum(d**2) for d in dist]\n",
    "\n",
    "    tss = sum(pdist(x)**2)/x.shape[0]\n",
    "    bss = tss-wcss\n",
    "\n",
    "    kIdx = 10-1\n",
    "    \n",
    "    #\n",
    "    # elbow curve\n",
    "    #\n",
    "    fig = plt.figure()\n",
    "    font = {'family' : 'sans', 'size'   : 12}\n",
    "    plt.rc('font', **font)\n",
    "    plt.plot(k_values, wcss, 'bo-', color='red', label='WCSS')\n",
    "    plt.plot(k_values, bss, 'bo-', color='blue', label='BCSS')\n",
    "    plt.grid(True)\n",
    "    plt.xlabel('Number of clusters')\n",
    "    plt.legend()\n",
    "    plt.title('Knee for KMeans clustering');\n",
    "\n"
   ]
  },
  {
   "cell_type": "code",
   "execution_count": 27,
   "metadata": {
    "collapsed": false
   },
   "outputs": [
    {
     "data": {
      "image/png": "[encoded data removed]",
      "text/plain": [
       "<matplotlib.figure.Figure at 0x103330410>"
      ]
     },
     "metadata": {},
     "output_type": "display_data"
    }
   ],
   "source": [
    "KneeElbowAnalysis(x,20)"
   ]
  }
 ],
 "metadata": {
  "kernelspec": {
   "display_name": "Python 2",
   "language": "python",
   "name": "python2"
  },
  "language_info": {
   "codemirror_mode": {
    "name": "ipython",
    "version": 2
   },
   "file_extension": ".py",
   "mimetype": "text/x-python",
   "name": "python",
   "nbconvert_exporter": "python",
   "pygments_lexer": "ipython2",
   "version": "2.7.13"
  }
 },
 "nbformat": 4,
 "nbformat_minor": 2
}
