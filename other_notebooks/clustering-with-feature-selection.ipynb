{
 "cells": [
  {
   "cell_type": "code",
   "execution_count": 1,
   "metadata": {},
   "outputs": [
    {
     "name": "stdout",
     "output_type": "stream",
     "text": [
      "Populating the interactive namespace from numpy and matplotlib\n"
     ]
    }
   ],
   "source": [
    "import matplotlib.pyplot as plt\n",
    "import seaborn as sns\n",
    "%matplotlib inline\n",
    "\n",
    "import pandas as pd\n",
    "import numpy as np\n",
    "\n",
    "#from sklearn.tree import DecisionTreeClassifier\n",
    "#from sklearn.ensemble import RandomForestClassifier\n",
    "#from sklearn.metrics import accuracy_score\n",
    "\n",
    "# we are using the scipy implementation\n",
    "from scipy.spatial.distance import cdist, pdist\n",
    "from scipy.cluster.hierarchy import dendrogram, linkage, fcluster\n",
    "from sklearn import metrics\n",
    "from sklearn.metrics import pairwise_distances\n",
    "\n",
    "from sklearn.cluster import KMeans\n",
    "\n",
    "from sklearn import preprocessing\n",
    "\n",
    "%pylab inline\n",
    "\n",
    "import scipy.spatial.distance as spd\n",
    "import scipy.cluster.hierarchy as sch"
   ]
  },
  {
   "cell_type": "code",
   "execution_count": 2,
   "metadata": {
    "collapsed": true
   },
   "outputs": [],
   "source": [
    "def normalize(df):\n",
    "    result = df.copy()\n",
    "    for feature_name in df.columns:\n",
    "        max_value = df[feature_name].max()\n",
    "        min_value = df[feature_name].min()\n",
    "        result[feature_name] = (df[feature_name] - min_value) / (max_value - min_value)\n",
    "    return result"
   ]
  },
  {
   "cell_type": "markdown",
   "metadata": {},
   "source": [
    "# The purpose of this notebook is to add as many features as we can imagine and see which ones are the most relevant"
   ]
  },
  {
   "cell_type": "code",
   "execution_count": 3,
   "metadata": {},
   "outputs": [],
   "source": [
    "train = pd.read_csv('data/train_all_features.csv')"
   ]
  },
  {
   "cell_type": "markdown",
   "metadata": {},
   "source": [
    "## Transform attributes in numeric values"
   ]
  },
  {
   "cell_type": "code",
   "execution_count": 4,
   "metadata": {},
   "outputs": [
    {
     "data": {
      "text/plain": [
       "Index([u'CUST_COD', u'LIMIT_BAL', u'SEX', u'PAY_DEC', u'PAY_NOV', u'PAY_OCT',\n",
       "       u'PAY_SEP', u'PAY_AUG', u'PAY_JUL', u'BILL_AMT_DEC', u'BILL_AMT_NOV',\n",
       "       u'BILL_AMT_OCT', u'BILL_AMT_SEP', u'BILL_AMT_AUG', u'BILL_AMT_JUL',\n",
       "       u'PAY_AMT_DEC', u'PAY_AMT_NOV', u'PAY_AMT_OCT', u'PAY_AMT_SEP',\n",
       "       u'PAY_AMT_AUG', u'PAY_AMT_JUL', u'DEFAULT PAYMENT JAN', u'SEX_MISSING',\n",
       "       u'EDUCATION_MISSING', u'EDUCATION_graduate school',\n",
       "       u'EDUCATION_high school', u'EDUCATION_other', u'EDUCATION_university',\n",
       "       u'MARRIAGE_MISSING', u'MARRIAGE_married', u'MARRIAGE_other',\n",
       "       u'MARRIAGE_single', u'AGE_MISSING', u'AGE', u'LIMIT-MEAN_BILL',\n",
       "       u'AVG_PAY_LAST_2', u'AVG_PAY_LAST_3', u'AVG_PAY_LAST_4',\n",
       "       u'AVG_PAY_LAST_5', u'AVG_PAY_LAST_6', u'PAY_TREND', u'PAY_SKEW',\n",
       "       u'PAY_KURT', u'AVG_BILL_AMT_LAST_2', u'AVG_BILL_AMT_LAST_3',\n",
       "       u'AVG_BILL_AMT_LAST_4', u'AVG_BILL_AMT_LAST_5', u'AVG_BILL_AMT_LAST_6',\n",
       "       u'BILL_AMT_TREND', u'BILL_AMT_SKEW', u'BILL_AMT_KURT',\n",
       "       u'AVG_PAY_AMT_LAST_2', u'AVG_PAY_AMT_LAST_3', u'AVG_PAY_AMT_LAST_4',\n",
       "       u'AVG_PAY_AMT_LAST_5', u'AVG_PAY_AMT_LAST_6', u'PAY_AMT_TREND',\n",
       "       u'PAY_AMT_SKEW', u'PAY_AMT_KURT', u'DELTA_1', u'DELTA_2', u'DELTA_3',\n",
       "       u'DELTA_4', u'DELTA_5', u'PROD', u'FRAC_PAY_1', u'FRAC_PAY_2',\n",
       "       u'FRAC_PAY_3', u'FRAC_PAY_4', u'FRAC_PAY_5', u'BILL_AMT_AR',\n",
       "       u'BILL_AMT_I', u'BILL_AMT_MA', u'BILL_AMT_SIGMA', u'PAY_AMT_AR',\n",
       "       u'PAY_AMT_I', u'PAY_AMT_MA', u'PAY_AMT_SIGMA', u'PAY_AR', u'PAY_I',\n",
       "       u'PAY_MA', u'PAY_SIGMA', u'TOTAL_AMT_PAID'],\n",
       "      dtype='object')"
      ]
     },
     "execution_count": 4,
     "metadata": {},
     "output_type": "execute_result"
    }
   ],
   "source": [
    "train.columns"
   ]
  },
  {
   "cell_type": "markdown",
   "metadata": {},
   "source": [
    "### Drop CUST_COD\n",
    "\n",
    "We won't use it, at the moment"
   ]
  },
  {
   "cell_type": "code",
   "execution_count": 5,
   "metadata": {
    "collapsed": true
   },
   "outputs": [],
   "source": [
    "train = train.drop(['CUST_COD'], axis=1)"
   ]
  },
  {
   "cell_type": "markdown",
   "metadata": {},
   "source": [
    "## Transform SEX"
   ]
  },
  {
   "cell_type": "code",
   "execution_count": 6,
   "metadata": {
    "collapsed": true
   },
   "outputs": [],
   "source": [
    "#train['SEX_MISSING'] = train['SEX'].isnull()*1      # Add a column to say if sex was missing or not\n",
    "#train.loc[train['SEX'].isnull(), 'SEX'] = 'F' # Predict sex with majority class\n",
    "#train['SEX'] = train['SEX'].apply(lambda x : 0 if x == 'M' else 1)   # Convert to M -> 0, F -> 1"
   ]
  },
  {
   "cell_type": "markdown",
   "metadata": {},
   "source": [
    "## Transform EDUCATION"
   ]
  },
  {
   "cell_type": "code",
   "execution_count": 7,
   "metadata": {},
   "outputs": [],
   "source": [
    "#train['EDUCATION_MISSING'] = train['EDUCATION'].isnull() * 1 # Add a column to say if education was missing or not\n",
    "#train['EDUCATION'] = train['EDUCATION'].fillna('other')    # Predict missing values as other\n",
    "\n",
    "#train = pd.get_dummies(train, columns=['EDUCATION'])   # Get one hot vector for education"
   ]
  },
  {
   "cell_type": "markdown",
   "metadata": {},
   "source": [
    "## Trasform MARRIAGE"
   ]
  },
  {
   "cell_type": "code",
   "execution_count": 8,
   "metadata": {
    "collapsed": true
   },
   "outputs": [],
   "source": [
    "#train['MARRIAGE_MISSING'] = train['MARRIAGE'].isnull() * 1 # Add a column to say if education was missing or not\n",
    "#train['MARRIAGE'] = train['MARRIAGE'].fillna('other')    # Predict missing values as other\n",
    "#train = pd.get_dummies(train, columns=['MARRIAGE'])   # Get one hot vector for education"
   ]
  },
  {
   "cell_type": "markdown",
   "metadata": {},
   "source": [
    "## Transform BIRTH_DATE"
   ]
  },
  {
   "cell_type": "code",
   "execution_count": 9,
   "metadata": {},
   "outputs": [],
   "source": [
    "#train['AGE_MISSING'] = train['BIRTH_DATE'].isnull() * 1"
   ]
  },
  {
   "cell_type": "code",
   "execution_count": 10,
   "metadata": {
    "collapsed": true
   },
   "outputs": [],
   "source": [
    "#import datetime\n",
    "\n",
    "#birthdates = train['BIRTH_DATE']\n",
    "\n",
    "#def get_age(date):\n",
    "#   try:\n",
    "#        return (datetime.datetime.today() - datetime.datetime.strptime(date, '%d/%m/%Y')).days//365\n",
    "#    except Exception as e:\n",
    "#        return date\n",
    "\n",
    "#birthdates = birthdates.apply(get_age)"
   ]
  },
  {
   "cell_type": "code",
   "execution_count": 11,
   "metadata": {},
   "outputs": [],
   "source": [
    "#birthdates.describe()"
   ]
  },
  {
   "cell_type": "code",
   "execution_count": 12,
   "metadata": {
    "collapsed": true
   },
   "outputs": [],
   "source": [
    "# Fill NA with mean value\n",
    "#birthdates = birthdates.fillna(36)"
   ]
  },
  {
   "cell_type": "code",
   "execution_count": 13,
   "metadata": {
    "collapsed": true
   },
   "outputs": [],
   "source": [
    "#train['AGE'] = birthdates\n",
    "#train = train.drop(['BIRTH_DATE'], axis=1)"
   ]
  },
  {
   "cell_type": "markdown",
   "metadata": {},
   "source": [
    "## Transform all columns in float"
   ]
  },
  {
   "cell_type": "code",
   "execution_count": 14,
   "metadata": {},
   "outputs": [
    {
     "name": "stdout",
     "output_type": "stream",
     "text": [
      "<class 'pandas.core.frame.DataFrame'>\n",
      "RangeIndex: 26884 entries, 0 to 26883\n",
      "Data columns (total 82 columns):\n",
      "LIMIT_BAL                    26884 non-null float64\n",
      "SEX                          26884 non-null float64\n",
      "PAY_DEC                      26884 non-null float64\n",
      "PAY_NOV                      26884 non-null float64\n",
      "PAY_OCT                      26884 non-null float64\n",
      "PAY_SEP                      26884 non-null float64\n",
      "PAY_AUG                      26884 non-null float64\n",
      "PAY_JUL                      26884 non-null float64\n",
      "BILL_AMT_DEC                 26884 non-null float64\n",
      "BILL_AMT_NOV                 26884 non-null float64\n",
      "BILL_AMT_OCT                 26884 non-null float64\n",
      "BILL_AMT_SEP                 26884 non-null float64\n",
      "BILL_AMT_AUG                 26884 non-null float64\n",
      "BILL_AMT_JUL                 26884 non-null float64\n",
      "PAY_AMT_DEC                  26884 non-null float64\n",
      "PAY_AMT_NOV                  26884 non-null float64\n",
      "PAY_AMT_OCT                  26884 non-null float64\n",
      "PAY_AMT_SEP                  26884 non-null float64\n",
      "PAY_AMT_AUG                  26884 non-null float64\n",
      "PAY_AMT_JUL                  26884 non-null float64\n",
      "DEFAULT PAYMENT JAN          26884 non-null float64\n",
      "SEX_MISSING                  26884 non-null float64\n",
      "EDUCATION_MISSING            26884 non-null float64\n",
      "EDUCATION_graduate school    26884 non-null float64\n",
      "EDUCATION_high school        26884 non-null float64\n",
      "EDUCATION_other              26884 non-null float64\n",
      "EDUCATION_university         26884 non-null float64\n",
      "MARRIAGE_MISSING             26884 non-null float64\n",
      "MARRIAGE_married             26884 non-null float64\n",
      "MARRIAGE_other               26884 non-null float64\n",
      "MARRIAGE_single              26884 non-null float64\n",
      "AGE_MISSING                  26884 non-null float64\n",
      "AGE                          26884 non-null float64\n",
      "LIMIT-MEAN_BILL              26884 non-null float64\n",
      "AVG_PAY_LAST_2               26884 non-null float64\n",
      "AVG_PAY_LAST_3               26884 non-null float64\n",
      "AVG_PAY_LAST_4               26884 non-null float64\n",
      "AVG_PAY_LAST_5               26884 non-null float64\n",
      "AVG_PAY_LAST_6               26884 non-null float64\n",
      "PAY_TREND                    26884 non-null float64\n",
      "PAY_SKEW                     26884 non-null float64\n",
      "PAY_KURT                     26884 non-null float64\n",
      "AVG_BILL_AMT_LAST_2          26884 non-null float64\n",
      "AVG_BILL_AMT_LAST_3          26884 non-null float64\n",
      "AVG_BILL_AMT_LAST_4          26884 non-null float64\n",
      "AVG_BILL_AMT_LAST_5          26884 non-null float64\n",
      "AVG_BILL_AMT_LAST_6          26884 non-null float64\n",
      "BILL_AMT_TREND               26884 non-null float64\n",
      "BILL_AMT_SKEW                26884 non-null float64\n",
      "BILL_AMT_KURT                26884 non-null float64\n",
      "AVG_PAY_AMT_LAST_2           26884 non-null float64\n",
      "AVG_PAY_AMT_LAST_3           26884 non-null float64\n",
      "AVG_PAY_AMT_LAST_4           26884 non-null float64\n",
      "AVG_PAY_AMT_LAST_5           26884 non-null float64\n",
      "AVG_PAY_AMT_LAST_6           26884 non-null float64\n",
      "PAY_AMT_TREND                26884 non-null float64\n",
      "PAY_AMT_SKEW                 26884 non-null float64\n",
      "PAY_AMT_KURT                 26884 non-null float64\n",
      "DELTA_1                      26884 non-null float64\n",
      "DELTA_2                      26884 non-null float64\n",
      "DELTA_3                      26884 non-null float64\n",
      "DELTA_4                      26884 non-null float64\n",
      "DELTA_5                      26884 non-null float64\n",
      "PROD                         26884 non-null float64\n",
      "FRAC_PAY_1                   26884 non-null float64\n",
      "FRAC_PAY_2                   26884 non-null float64\n",
      "FRAC_PAY_3                   26884 non-null float64\n",
      "FRAC_PAY_4                   26884 non-null float64\n",
      "FRAC_PAY_5                   26884 non-null float64\n",
      "BILL_AMT_AR                  26884 non-null float64\n",
      "BILL_AMT_I                   26884 non-null float64\n",
      "BILL_AMT_MA                  26884 non-null float64\n",
      "BILL_AMT_SIGMA               26884 non-null float64\n",
      "PAY_AMT_AR                   26884 non-null float64\n",
      "PAY_AMT_I                    26884 non-null float64\n",
      "PAY_AMT_MA                   26884 non-null float64\n",
      "PAY_AMT_SIGMA                26884 non-null float64\n",
      "PAY_AR                       26884 non-null float64\n",
      "PAY_I                        26884 non-null float64\n",
      "PAY_MA                       26884 non-null float64\n",
      "PAY_SIGMA                    26884 non-null float64\n",
      "TOTAL_AMT_PAID               26884 non-null float64\n",
      "dtypes: float64(82)\n",
      "memory usage: 16.8 MB\n"
     ]
    }
   ],
   "source": [
    "train.info()"
   ]
  },
  {
   "cell_type": "code",
   "execution_count": 15,
   "metadata": {
    "collapsed": true
   },
   "outputs": [],
   "source": [
    "train = train.astype('float64')"
   ]
  },
  {
   "cell_type": "code",
   "execution_count": 16,
   "metadata": {},
   "outputs": [
    {
     "name": "stdout",
     "output_type": "stream",
     "text": [
      "<class 'pandas.core.frame.DataFrame'>\n",
      "RangeIndex: 26884 entries, 0 to 26883\n",
      "Data columns (total 82 columns):\n",
      "LIMIT_BAL                    26884 non-null float64\n",
      "SEX                          26884 non-null float64\n",
      "PAY_DEC                      26884 non-null float64\n",
      "PAY_NOV                      26884 non-null float64\n",
      "PAY_OCT                      26884 non-null float64\n",
      "PAY_SEP                      26884 non-null float64\n",
      "PAY_AUG                      26884 non-null float64\n",
      "PAY_JUL                      26884 non-null float64\n",
      "BILL_AMT_DEC                 26884 non-null float64\n",
      "BILL_AMT_NOV                 26884 non-null float64\n",
      "BILL_AMT_OCT                 26884 non-null float64\n",
      "BILL_AMT_SEP                 26884 non-null float64\n",
      "BILL_AMT_AUG                 26884 non-null float64\n",
      "BILL_AMT_JUL                 26884 non-null float64\n",
      "PAY_AMT_DEC                  26884 non-null float64\n",
      "PAY_AMT_NOV                  26884 non-null float64\n",
      "PAY_AMT_OCT                  26884 non-null float64\n",
      "PAY_AMT_SEP                  26884 non-null float64\n",
      "PAY_AMT_AUG                  26884 non-null float64\n",
      "PAY_AMT_JUL                  26884 non-null float64\n",
      "DEFAULT PAYMENT JAN          26884 non-null float64\n",
      "SEX_MISSING                  26884 non-null float64\n",
      "EDUCATION_MISSING            26884 non-null float64\n",
      "EDUCATION_graduate school    26884 non-null float64\n",
      "EDUCATION_high school        26884 non-null float64\n",
      "EDUCATION_other              26884 non-null float64\n",
      "EDUCATION_university         26884 non-null float64\n",
      "MARRIAGE_MISSING             26884 non-null float64\n",
      "MARRIAGE_married             26884 non-null float64\n",
      "MARRIAGE_other               26884 non-null float64\n",
      "MARRIAGE_single              26884 non-null float64\n",
      "AGE_MISSING                  26884 non-null float64\n",
      "AGE                          26884 non-null float64\n",
      "LIMIT-MEAN_BILL              26884 non-null float64\n",
      "AVG_PAY_LAST_2               26884 non-null float64\n",
      "AVG_PAY_LAST_3               26884 non-null float64\n",
      "AVG_PAY_LAST_4               26884 non-null float64\n",
      "AVG_PAY_LAST_5               26884 non-null float64\n",
      "AVG_PAY_LAST_6               26884 non-null float64\n",
      "PAY_TREND                    26884 non-null float64\n",
      "PAY_SKEW                     26884 non-null float64\n",
      "PAY_KURT                     26884 non-null float64\n",
      "AVG_BILL_AMT_LAST_2          26884 non-null float64\n",
      "AVG_BILL_AMT_LAST_3          26884 non-null float64\n",
      "AVG_BILL_AMT_LAST_4          26884 non-null float64\n",
      "AVG_BILL_AMT_LAST_5          26884 non-null float64\n",
      "AVG_BILL_AMT_LAST_6          26884 non-null float64\n",
      "BILL_AMT_TREND               26884 non-null float64\n",
      "BILL_AMT_SKEW                26884 non-null float64\n",
      "BILL_AMT_KURT                26884 non-null float64\n",
      "AVG_PAY_AMT_LAST_2           26884 non-null float64\n",
      "AVG_PAY_AMT_LAST_3           26884 non-null float64\n",
      "AVG_PAY_AMT_LAST_4           26884 non-null float64\n",
      "AVG_PAY_AMT_LAST_5           26884 non-null float64\n",
      "AVG_PAY_AMT_LAST_6           26884 non-null float64\n",
      "PAY_AMT_TREND                26884 non-null float64\n",
      "PAY_AMT_SKEW                 26884 non-null float64\n",
      "PAY_AMT_KURT                 26884 non-null float64\n",
      "DELTA_1                      26884 non-null float64\n",
      "DELTA_2                      26884 non-null float64\n",
      "DELTA_3                      26884 non-null float64\n",
      "DELTA_4                      26884 non-null float64\n",
      "DELTA_5                      26884 non-null float64\n",
      "PROD                         26884 non-null float64\n",
      "FRAC_PAY_1                   26884 non-null float64\n",
      "FRAC_PAY_2                   26884 non-null float64\n",
      "FRAC_PAY_3                   26884 non-null float64\n",
      "FRAC_PAY_4                   26884 non-null float64\n",
      "FRAC_PAY_5                   26884 non-null float64\n",
      "BILL_AMT_AR                  26884 non-null float64\n",
      "BILL_AMT_I                   26884 non-null float64\n",
      "BILL_AMT_MA                  26884 non-null float64\n",
      "BILL_AMT_SIGMA               26884 non-null float64\n",
      "PAY_AMT_AR                   26884 non-null float64\n",
      "PAY_AMT_I                    26884 non-null float64\n",
      "PAY_AMT_MA                   26884 non-null float64\n",
      "PAY_AMT_SIGMA                26884 non-null float64\n",
      "PAY_AR                       26884 non-null float64\n",
      "PAY_I                        26884 non-null float64\n",
      "PAY_MA                       26884 non-null float64\n",
      "PAY_SIGMA                    26884 non-null float64\n",
      "TOTAL_AMT_PAID               26884 non-null float64\n",
      "dtypes: float64(82)\n",
      "memory usage: 16.8 MB\n"
     ]
    }
   ],
   "source": [
    "train.info()"
   ]
  },
  {
   "cell_type": "code",
   "execution_count": 17,
   "metadata": {},
   "outputs": [],
   "source": [
    "x = train.drop(['DEFAULT PAYMENT JAN'], axis=1)\n",
    "y = train['DEFAULT PAYMENT JAN']\n",
    "selection = train[['LIMIT_BAL', 'PAY_AMT_TREND']]"
   ]
  },
  {
   "cell_type": "code",
   "execution_count": 18,
   "metadata": {},
   "outputs": [
    {
     "data": {
      "text/html": [
       "<div>\n",
       "<table border=\"1\" class=\"dataframe\">\n",
       "  <thead>\n",
       "    <tr style=\"text-align: right;\">\n",
       "      <th></th>\n",
       "      <th>LIMIT_BAL</th>\n",
       "      <th>PAY_AMT_TREND</th>\n",
       "    </tr>\n",
       "  </thead>\n",
       "  <tbody>\n",
       "    <tr>\n",
       "      <th>0</th>\n",
       "      <td>0.040404</td>\n",
       "      <td>0.219361</td>\n",
       "    </tr>\n",
       "    <tr>\n",
       "      <th>1</th>\n",
       "      <td>0.181818</td>\n",
       "      <td>0.221739</td>\n",
       "    </tr>\n",
       "    <tr>\n",
       "      <th>2</th>\n",
       "      <td>0.202020</td>\n",
       "      <td>0.223522</td>\n",
       "    </tr>\n",
       "    <tr>\n",
       "      <th>3</th>\n",
       "      <td>0.292929</td>\n",
       "      <td>0.214178</td>\n",
       "    </tr>\n",
       "    <tr>\n",
       "      <th>4</th>\n",
       "      <td>0.111111</td>\n",
       "      <td>0.217753</td>\n",
       "    </tr>\n",
       "  </tbody>\n",
       "</table>\n",
       "</div>"
      ],
      "text/plain": [
       "   LIMIT_BAL  PAY_AMT_TREND\n",
       "0   0.040404       0.219361\n",
       "1   0.181818       0.221739\n",
       "2   0.202020       0.223522\n",
       "3   0.292929       0.214178\n",
       "4   0.111111       0.217753"
      ]
     },
     "execution_count": 18,
     "metadata": {},
     "output_type": "execute_result"
    }
   ],
   "source": [
    "selection = normalize(selection)\n",
    "selection.head()"
   ]
  },
  {
   "cell_type": "code",
   "execution_count": 19,
   "metadata": {},
   "outputs": [
    {
     "data": {
      "text/html": [
       "<div>\n",
       "<table border=\"1\" class=\"dataframe\">\n",
       "  <thead>\n",
       "    <tr style=\"text-align: right;\">\n",
       "      <th></th>\n",
       "      <th>LIMIT_BAL</th>\n",
       "      <th>PAY_AMT_TREND</th>\n",
       "    </tr>\n",
       "  </thead>\n",
       "  <tbody>\n",
       "    <tr>\n",
       "      <th>count</th>\n",
       "      <td>26884.000000</td>\n",
       "      <td>26884.000000</td>\n",
       "    </tr>\n",
       "    <tr>\n",
       "      <th>mean</th>\n",
       "      <td>0.159231</td>\n",
       "      <td>0.217945</td>\n",
       "    </tr>\n",
       "    <tr>\n",
       "      <th>std</th>\n",
       "      <td>0.131448</td>\n",
       "      <td>0.014971</td>\n",
       "    </tr>\n",
       "    <tr>\n",
       "      <th>min</th>\n",
       "      <td>0.000000</td>\n",
       "      <td>0.000000</td>\n",
       "    </tr>\n",
       "    <tr>\n",
       "      <th>25%</th>\n",
       "      <td>0.040404</td>\n",
       "      <td>0.217054</td>\n",
       "    </tr>\n",
       "    <tr>\n",
       "      <th>50%</th>\n",
       "      <td>0.131313</td>\n",
       "      <td>0.217838</td>\n",
       "    </tr>\n",
       "    <tr>\n",
       "      <th>75%</th>\n",
       "      <td>0.232323</td>\n",
       "      <td>0.219016</td>\n",
       "    </tr>\n",
       "    <tr>\n",
       "      <th>max</th>\n",
       "      <td>1.000000</td>\n",
       "      <td>1.000000</td>\n",
       "    </tr>\n",
       "  </tbody>\n",
       "</table>\n",
       "</div>"
      ],
      "text/plain": [
       "          LIMIT_BAL  PAY_AMT_TREND\n",
       "count  26884.000000   26884.000000\n",
       "mean       0.159231       0.217945\n",
       "std        0.131448       0.014971\n",
       "min        0.000000       0.000000\n",
       "25%        0.040404       0.217054\n",
       "50%        0.131313       0.217838\n",
       "75%        0.232323       0.219016\n",
       "max        1.000000       1.000000"
      ]
     },
     "execution_count": 19,
     "metadata": {},
     "output_type": "execute_result"
    }
   ],
   "source": [
    "selection.describe()"
   ]
  },
  {
   "cell_type": "code",
   "execution_count": 20,
   "metadata": {},
   "outputs": [],
   "source": [
    "z = linkage(selection, 'centroid')"
   ]
  },
  {
   "cell_type": "code",
   "execution_count": 24,
   "metadata": {
    "scrolled": true
   },
   "outputs": [],
   "source": [
    "wss_values = []\n",
    "bss_values = []\n",
    "k_values = range(1,10)\n",
    "\n",
    "for k in k_values:\n",
    "    clustering = fcluster(z, k, criterion='maxclust')\n",
    "    centroids_h = [np.mean(x[clustering==c],axis=0) for c in range(1,k+1)]\n",
    "    cdist(x, centroids_h, 'euclidean')\n",
    "    D = cdist(x, centroids_h, 'euclidean')\n",
    "    cIdx = np.argmin(D,axis=1)\n",
    "    d = np.min(D,axis=1)\n",
    "\n",
    "    avgWithinSS = sum(d)/x.shape[0]\n",
    "\n",
    "    # Total with-in sum of square\n",
    "    wss = sum(d**2)\n",
    "\n",
    "    tss = sum(pdist(x)**2)/x.shape[0]\n",
    "\n",
    "    bss = tss-wss\n",
    "\n",
    "    wss_values += [wss]\n",
    "    bss_values += [bss]"
   ]
  },
  {
   "cell_type": "code",
   "execution_count": 25,
   "metadata": {},
   "outputs": [
    {
     "data": {
      "image/png": "[encoded data removed]",
      "text/plain": [
       "<matplotlib.figure.Figure at 0x10bd3ea50>"
      ]
     },
     "metadata": {},
     "output_type": "display_data"
    }
   ],
   "source": [
    "fig = plt.figure()\n",
    "font = {'family' : 'sans', 'size'   : 12}\n",
    "plt.rc('font', **font)\n",
    "plt.plot(k_values, wss_values, 'bo-', color='red', label='WSS')\n",
    "plt.plot(k_values, bss_values, 'bo-', color='blue', label='BSS')\n",
    "plt.grid(True)\n",
    "plt.xlabel('Number of clusters')\n",
    "plt.ylabel('BSS & WSS')\n",
    "plt.xticks(k_values)\n",
    "plt.legend()\n",
    "plt.title('Hierarchical Clustering');"
   ]
  },
  {
   "cell_type": "code",
   "execution_count": 21,
   "metadata": {
    "collapsed": true
   },
   "outputs": [],
   "source": [
    "def KneeElbowAnalysis(x,max_k=10):\n",
    "    k_values = range(2,max_k)\n",
    "    clusterings = [KMeans(n_clusters=k, random_state=12334, n_jobs=4).fit(x) for k in k_values]\n",
    "    print 'step1'\n",
    "    centroids_k = [clustering.cluster_centers_ for clustering in clusterings]\n",
    "    print 'step2'\n",
    "    silo = [metrics.silhouette_score(selection, labels.labels_, metric='euclidean') for labels in clusterings]\n",
    "    print 'step3'\n",
    "    print centroids_k\n",
    "\n",
    "    D_k = [cdist(x, cent, 'euclidean') for cent in centroids_k]\n",
    "    cIdx = [np.argmin(D,axis=1) for D in D_k]\n",
    "    dist = [np.min(D,axis=1) for D in D_k]\n",
    "    avgWithinSS = [sum(d)/x.shape[0] for d in dist]\n",
    "\n",
    "    # Total with-in sum of square\n",
    "    wcss = [sum(d**2) for d in dist]\n",
    "\n",
    "    tss = sum(pdist(x)**2)/x.shape[0]\n",
    "    bss = tss-wcss\n",
    "\n",
    "    kIdx = 10-1\n",
    "    \n",
    "    #\n",
    "    # elbow curve\n",
    "    #\n",
    "    fig = plt.figure()\n",
    "    font = {'family' : 'sans', 'size'   : 12}\n",
    "    plt.rc('font', **font)\n",
    "    plt.plot(k_values, wcss, 'bo-', color='red', label='WCSS')\n",
    "    plt.plot(k_values, bss, 'bo-', color='blue', label='BCSS')\n",
    "    plt.grid(True)\n",
    "    plt.xlabel('Number of clusters')\n",
    "    plt.legend()\n",
    "    plt.title('Knee for KMeans clustering');\n",
    "    \n",
    "    print silo\n",
    "\n",
    "\n"
   ]
  },
  {
   "cell_type": "code",
   "execution_count": 22,
   "metadata": {},
   "outputs": [],
   "source": [
    "#yp = KMeans(n_clusters=10).fit_predict(x)"
   ]
  },
  {
   "cell_type": "code",
   "execution_count": 23,
   "metadata": {},
   "outputs": [
    {
     "name": "stdout",
     "output_type": "stream",
     "text": [
      "step1\n",
      "step2\n",
      "step3\n",
      "[array([[ 0.32684152,  0.2178334 ],\n",
      "       [ 0.08824997,  0.21799247]]), array([[ 0.20791083,  0.21790225],\n",
      "       [ 0.05658791,  0.21795297],\n",
      "       [ 0.40609087,  0.21802089]]), array([[ 0.04564729,  0.21793858],\n",
      "       [ 0.29441267,  0.21817158],\n",
      "       [ 0.16591858,  0.21793735],\n",
      "       [ 0.46237039,  0.2174727 ]]), array([[ 0.32532931,  0.21868566],\n",
      "       [ 0.03615811,  0.21799164],\n",
      "       [ 0.20525004,  0.21777057],\n",
      "       [ 0.48017793,  0.21668846],\n",
      "       [ 0.11715133,  0.21793112]]), array([[ 0.25754582,  0.21793574],\n",
      "       [ 0.03038607,  0.21796985],\n",
      "       [ 0.17504514,  0.21788008],\n",
      "       [ 0.49497219,  0.21704525],\n",
      "       [ 0.09677474,  0.21792708],\n",
      "       [ 0.35911677,  0.21853652]]), array([[ 0.28104794,  0.21789383],\n",
      "       [ 0.07907712,  0.21790608],\n",
      "       [ 0.49497219,  0.21704525],\n",
      "       [ 0.14196207,  0.21811527],\n",
      "       [ 0.20913434,  0.21775317],\n",
      "       [ 0.02780843,  0.21795592],\n",
      "       [ 0.36483715,  0.21855067]]), array([[ 0.28362605,  0.2179628 ],\n",
      "       [ 0.02780843,  0.21795592],\n",
      "       [ 0.14662409,  0.21820398],\n",
      "       [ 0.48174175,  0.21763086],\n",
      "       [ 0.20913434,  0.21775317],\n",
      "       [ 0.08348602,  0.21785408],\n",
      "       [ 0.36802832,  0.21851449],\n",
      "       [ 0.6483705 ,  0.2102554 ]]), array([[ 0.2838173 ,  0.21833889],\n",
      "       [ 0.02780843,  0.21795592],\n",
      "       [ 0.13213622,  0.2180693 ],\n",
      "       [ 0.48174175,  0.21763086],\n",
      "       [ 0.22035138,  0.21725437],\n",
      "       [ 0.07907712,  0.21790608],\n",
      "       [ 0.36802832,  0.21851449],\n",
      "       [ 0.6483705 ,  0.2102554 ],\n",
      "       [ 0.18021578,  0.21809339]])]\n",
      "[0.6137681005945429, 0.60062698302589734, 0.58634838800097633, 0.56331804905323568, 0.54110005234124803, 0.54336090486311117, 0.55375236415002937, 0.53309973570241564]\n"
     ]
    },
    {
     "data": {
      "image/png": "[encoded data removed]",
      "text/plain": [
       "<matplotlib.figure.Figure at 0x1044b2950>"
      ]
     },
     "metadata": {},
     "output_type": "display_data"
    }
   ],
   "source": [
    "KneeElbowAnalysis(selection,10)"
   ]
  },
  {
   "cell_type": "code",
   "execution_count": 20,
   "metadata": {},
   "outputs": [
    {
     "data": {
      "text/plain": [
       "0.39605304842587735"
      ]
     },
     "execution_count": 20,
     "metadata": {},
     "output_type": "execute_result"
    }
   ],
   "source": [
    "kmeans_model = KMeans(n_clusters=7, random_state=12334, n_jobs=4).fit(selection)\n",
    "labels = kmeans_model.labels_\n",
    "metrics.silhouette_score(selection, labels, metric='euclidean')"
   ]
  },
  {
   "cell_type": "code",
   "execution_count": null,
   "metadata": {
    "collapsed": true
   },
   "outputs": [],
   "source": []
  }
 ],
 "metadata": {
  "kernelspec": {
   "display_name": "Python 3",
   "language": "python",
   "name": "python3"
  },
  "language_info": {
   "codemirror_mode": {
    "name": "ipython",
    "version": 3
   },
   "file_extension": ".py",
   "mimetype": "text/x-python",
   "name": "python",
   "nbconvert_exporter": "python",
   "pygments_lexer": "ipython3",
   "version": "3.5.3"
  }
 },
 "nbformat": 4,
 "nbformat_minor": 2
}
