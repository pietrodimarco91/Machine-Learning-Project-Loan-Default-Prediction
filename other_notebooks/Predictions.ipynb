{
 "cells": [
  {
   "cell_type": "markdown",
   "metadata": {},
   "source": [
    "# Apply same transformations of feature selection"
   ]
  },
  {
   "cell_type": "code",
   "execution_count": 18,
   "metadata": {
    "collapsed": true
   },
   "outputs": [],
   "source": [
    "import pandas as pd\n",
    "import numpy as np\n",
    "import seaborn as sns\n",
    "import matplotlib.pyplot as plt\n",
    "%matplotlib inline\n",
    "from sklearn.model_selection import train_test_split, GridSearchCV, KFold, cross_val_score\n",
    "from sklearn.metrics import f1_score, accuracy_score, make_scorer\n",
    "from sklearn.feature_selection import RFECV\n",
    "from sklearn.preprocessing import RobustScaler, StandardScaler\n",
    "from sklearn.decomposition import PCA, KernelPCA, RandomizedPCA, TruncatedSVD\n",
    "from sklearn.ensemble import RandomForestClassifier"
   ]
  },
  {
   "cell_type": "code",
   "execution_count": 19,
   "metadata": {
    "collapsed": true
   },
   "outputs": [],
   "source": [
    "train = pd.read_csv('data/train_all_features.csv')\n",
    "\n",
    "X = train.drop(['CUST_COD', 'DEFAULT PAYMENT JAN'], axis=1)\n",
    "y = train['DEFAULT PAYMENT JAN']"
   ]
  },
  {
   "cell_type": "code",
   "execution_count": 13,
   "metadata": {
    "collapsed": true
   },
   "outputs": [],
   "source": [
    "missing = test[['AGE_MISSING', 'SEX_MISSING', 'EDUCATION_MISSING', 'MARRIAGE_MISSING']].copy()\n",
    "missing['SUM'] = missing['AGE_MISSING'] + missing['SEX_MISSING'] + missing['EDUCATION_MISSING'] + missing['MARRIAGE_MISSING']"
   ]
  },
  {
   "cell_type": "code",
   "execution_count": 15,
   "metadata": {},
   "outputs": [
    {
     "data": {
      "text/plain": [
       "AGE_MISSING          0\n",
       "SEX_MISSING          0\n",
       "EDUCATION_MISSING    0\n",
       "MARRIAGE_MISSING     0\n",
       "SUM                  0\n",
       "dtype: int64"
      ]
     },
     "execution_count": 15,
     "metadata": {},
     "output_type": "execute_result"
    }
   ],
   "source": [
    "missing[missing['SUM'] > 1].count()"
   ]
  },
  {
   "cell_type": "code",
   "execution_count": 12,
   "metadata": {
    "collapsed": true
   },
   "outputs": [],
   "source": [
    "test = pd.read_csv('data/test_all_features.csv')"
   ]
  },
  {
   "cell_type": "code",
   "execution_count": 3,
   "metadata": {
    "collapsed": true
   },
   "outputs": [],
   "source": [
    "# Create validation set\n",
    "\n",
    "from sklearn.model_selection import train_test_split\n",
    "\n",
    "X_train, X_test, y_train, y_test = train_test_split(X, y, test_size=0.33, random_state = 42)"
   ]
  },
  {
   "cell_type": "code",
   "execution_count": 4,
   "metadata": {
    "collapsed": true
   },
   "outputs": [],
   "source": [
    "RANDOM_SEED = 421"
   ]
  },
  {
   "cell_type": "markdown",
   "metadata": {},
   "source": [
    "# RFECV"
   ]
  },
  {
   "cell_type": "code",
   "execution_count": 11,
   "metadata": {
    "collapsed": true
   },
   "outputs": [],
   "source": [
    "rfecv = RFECV(RandomForestClassifier(200), cv=3, scoring=make_scorer(f1_score), verbose=1, n_jobs=-1)"
   ]
  },
  {
   "cell_type": "code",
   "execution_count": 12,
   "metadata": {
    "scrolled": true
   },
   "outputs": [
    {
     "name": "stdout",
     "output_type": "stream",
     "text": [
      "Fitting estimator with 81 features.\n",
      "Fitting estimator with 81 features.\n",
      "Fitting estimator with 81 features.\n",
      "Fitting estimator with 80 features.\n",
      "Fitting estimator with 80 features.\n",
      "Fitting estimator with 80 features.\n",
      "Fitting estimator with 79 features.\n",
      "Fitting estimator with 79 features.\n",
      "Fitting estimator with 79 features.\n",
      "Fitting estimator with 78 features.\n",
      "Fitting estimator with 78 features.\n",
      "Fitting estimator with 78 features.\n",
      "Fitting estimator with 77 features.\n",
      "Fitting estimator with 77 features.\n",
      "Fitting estimator with 77 features.\n",
      "Fitting estimator with 76 features.\n",
      "Fitting estimator with 76 features.\n",
      "Fitting estimator with 76 features.\n",
      "Fitting estimator with 75 features.\n",
      "Fitting estimator with 75 features.\n",
      "Fitting estimator with 75 features.\n",
      "Fitting estimator with 74 features.\n",
      "Fitting estimator with 74 features.\n",
      "Fitting estimator with 74 features.\n",
      "Fitting estimator with 73 features.\n",
      "Fitting estimator with 73 features.\n",
      "Fitting estimator with 73 features.\n",
      "Fitting estimator with 72 features.\n",
      "Fitting estimator with 72 features.\n",
      "Fitting estimator with 72 features.\n",
      "Fitting estimator with 71 features.\n",
      "Fitting estimator with 71 features.\n",
      "Fitting estimator with 71 features.\n",
      "Fitting estimator with 70 features.\n",
      "Fitting estimator with 70 features.\n",
      "Fitting estimator with 70 features.\n",
      "Fitting estimator with 69 features.\n",
      "Fitting estimator with 69 features.\n",
      "Fitting estimator with 69 features.\n",
      "Fitting estimator with 68 features.\n",
      "Fitting estimator with 68 features.\n",
      "Fitting estimator with 68 features.\n",
      "Fitting estimator with 67 features.\n",
      "Fitting estimator with 67 features.\n",
      "Fitting estimator with 67 features.\n",
      "Fitting estimator with 66 features.\n",
      "Fitting estimator with 66 features.\n",
      "Fitting estimator with 66 features.\n",
      "Fitting estimator with 65 features.\n",
      "Fitting estimator with 65 features.\n",
      "Fitting estimator with 65 features.\n",
      "Fitting estimator with 64 features.\n",
      "Fitting estimator with 64 features.\n",
      "Fitting estimator with 64 features.\n",
      "Fitting estimator with 63 features.\n",
      "Fitting estimator with 63 features.\n",
      "Fitting estimator with 63 features.\n",
      "Fitting estimator with 62 features.\n",
      "Fitting estimator with 62 features.\n",
      "Fitting estimator with 62 features.\n",
      "Fitting estimator with 61 features.\n",
      "Fitting estimator with 61 features.\n",
      "Fitting estimator with 61 features.\n",
      "Fitting estimator with 60 features.\n",
      "Fitting estimator with 60 features.\n",
      "Fitting estimator with 60 features.\n",
      "Fitting estimator with 59 features.\n",
      "Fitting estimator with 59 features.\n",
      "Fitting estimator with 59 features.\n",
      "Fitting estimator with 58 features.\n",
      "Fitting estimator with 58 features.\n",
      "Fitting estimator with 58 features.\n",
      "Fitting estimator with 57 features.\n",
      "Fitting estimator with 57 features.\n",
      "Fitting estimator with 57 features.\n",
      "Fitting estimator with 56 features.\n",
      "Fitting estimator with 56 features.\n",
      "Fitting estimator with 56 features.\n",
      "Fitting estimator with 55 features.\n",
      "Fitting estimator with 55 features.\n",
      "Fitting estimator with 55 features.\n",
      "Fitting estimator with 54 features.\n",
      "Fitting estimator with 54 features.\n",
      "Fitting estimator with 54 features.\n",
      "Fitting estimator with 53 features.\n",
      "Fitting estimator with 53 features.\n",
      "Fitting estimator with 53 features.\n",
      "Fitting estimator with 52 features.\n",
      "Fitting estimator with 52 features.\n",
      "Fitting estimator with 52 features.\n",
      "Fitting estimator with 51 features.\n",
      "Fitting estimator with 51 features.\n",
      "Fitting estimator with 51 features.\n",
      "Fitting estimator with 50 features.\n",
      "Fitting estimator with 50 features.\n",
      "Fitting estimator with 50 features.\n",
      "Fitting estimator with 49 features.\n",
      "Fitting estimator with 49 features.\n",
      "Fitting estimator with 49 features.\n",
      "Fitting estimator with 48 features.\n",
      "Fitting estimator with 48 features.\n",
      "Fitting estimator with 47 features.\n",
      "Fitting estimator with 48 features.\n",
      "Fitting estimator with 47 features.\n",
      "Fitting estimator with 46 features.\n",
      "Fitting estimator with 47 features.\n",
      "Fitting estimator with 46 features.\n",
      "Fitting estimator with 45 features.\n",
      "Fitting estimator with 46 features.\n",
      "Fitting estimator with 45 features.\n",
      "Fitting estimator with 44 features.\n",
      "Fitting estimator with 45 features.\n",
      "Fitting estimator with 44 features.\n",
      "Fitting estimator with 43 features.\n",
      "Fitting estimator with 44 features.\n",
      "Fitting estimator with 43 features.\n",
      "Fitting estimator with 42 features.\n",
      "Fitting estimator with 43 features.\n",
      "Fitting estimator with 42 features.\n",
      "Fitting estimator with 41 features.\n",
      "Fitting estimator with 42 features.\n",
      "Fitting estimator with 41 features.\n",
      "Fitting estimator with 40 features.\n",
      "Fitting estimator with 41 features.\n",
      "Fitting estimator with 40 features.\n",
      "Fitting estimator with 39 features.\n",
      "Fitting estimator with 40 features.\n",
      "Fitting estimator with 39 features.\n",
      "Fitting estimator with 38 features.\n",
      "Fitting estimator with 39 features.\n",
      "Fitting estimator with 38 features.\n",
      "Fitting estimator with 37 features.\n",
      "Fitting estimator with 38 features.\n",
      "Fitting estimator with 37 features.\n",
      "Fitting estimator with 36 features.\n",
      "Fitting estimator with 37 features.\n",
      "Fitting estimator with 36 features.\n",
      "Fitting estimator with 35 features.\n",
      "Fitting estimator with 36 features.\n",
      "Fitting estimator with 35 features.\n",
      "Fitting estimator with 34 features.\n",
      "Fitting estimator with 35 features.\n",
      "Fitting estimator with 34 features.\n",
      "Fitting estimator with 33 features.\n",
      "Fitting estimator with 34 features.\n",
      "Fitting estimator with 33 features.\n",
      "Fitting estimator with 32 features.\n",
      "Fitting estimator with 33 features.\n",
      "Fitting estimator with 32 features.\n",
      "Fitting estimator with 31 features.\n",
      "Fitting estimator with 32 features.\n",
      "Fitting estimator with 31 features.\n",
      "Fitting estimator with 30 features.\n",
      "Fitting estimator with 31 features.\n",
      "Fitting estimator with 30 features.\n",
      "Fitting estimator with 29 features.\n",
      "Fitting estimator with 30 features.\n",
      "Fitting estimator with 29 features.\n",
      "Fitting estimator with 28 features.\n",
      "Fitting estimator with 29 features.\n",
      "Fitting estimator with 28 features.\n",
      "Fitting estimator with 27 features.\n",
      "Fitting estimator with 28 features.\n",
      "Fitting estimator with 27 features.\n",
      "Fitting estimator with 26 features.\n",
      "Fitting estimator with 26 features.\n",
      "Fitting estimator with 27 features.\n",
      "Fitting estimator with 25 features.\n",
      "Fitting estimator with 25 features.\n",
      "Fitting estimator with 26 features.\n",
      "Fitting estimator with 24 features.\n",
      "Fitting estimator with 23 features.\n",
      "Fitting estimator with 24 features.\n",
      "Fitting estimator with 25 features.\n",
      "Fitting estimator with 22 features.\n",
      "Fitting estimator with 23 features.\n",
      "Fitting estimator with 24 features.\n",
      "Fitting estimator with 21 features.\n",
      "Fitting estimator with 22 features.\n",
      "Fitting estimator with 23 features.\n",
      "Fitting estimator with 20 features.\n",
      "Fitting estimator with 21 features.\n",
      "Fitting estimator with 22 features.\n",
      "Fitting estimator with 19 features.\n",
      "Fitting estimator with 20 features.\n",
      "Fitting estimator with 21 features.\n",
      "Fitting estimator with 18 features.\n",
      "Fitting estimator with 19 features.\n",
      "Fitting estimator with 20 features.\n",
      "Fitting estimator with 17 features.\n",
      "Fitting estimator with 18 features.\n",
      "Fitting estimator with 19 features.\n",
      "Fitting estimator with 16 features.\n",
      "Fitting estimator with 17 features.\n",
      "Fitting estimator with 18 features.\n",
      "Fitting estimator with 15 features.\n",
      "Fitting estimator with 16 features.\n",
      "Fitting estimator with 17 features.\n",
      "Fitting estimator with 14 features.\n",
      "Fitting estimator with 15 features.\n",
      "Fitting estimator with 13 features.\n",
      "Fitting estimator with 16 features.\n",
      "Fitting estimator with 14 features.\n",
      "Fitting estimator with 12 features.\n",
      "Fitting estimator with 15 features.\n",
      "Fitting estimator with 13 features.\n",
      "Fitting estimator with 11 features.\n",
      "Fitting estimator with 14 features.\n",
      "Fitting estimator with 12 features.\n",
      "Fitting estimator with 10 features.\n",
      "Fitting estimator with 11 features.\n",
      "Fitting estimator with 13 features.\n",
      "Fitting estimator with 9 features.\n",
      "Fitting estimator with 10 features.\n",
      "Fitting estimator with 12 features.\n",
      "Fitting estimator with 8 features.\n",
      "Fitting estimator with 9 features.\n",
      "Fitting estimator with 11 features.\n",
      "Fitting estimator with 7 features.\n",
      "Fitting estimator with 6 features.\n",
      "Fitting estimator with 8 features.\n",
      "Fitting estimator with 10 features.\n",
      "Fitting estimator with 5 features.\n",
      "Fitting estimator with 7 features.\n",
      "Fitting estimator with 9 features.\n",
      "Fitting estimator with 4 features.\n",
      "Fitting estimator with 6 features.\n",
      "Fitting estimator with 3 features.\n"
     ]
    },
    {
     "name": "stdout",
     "output_type": "stream",
     "text": [
      "Fitting estimator with 8 features.\n",
      "Fitting estimator with 5 features.\n",
      "Fitting estimator with 2 features.\n",
      "Fitting estimator with 7 features.\n",
      "Fitting estimator with 4 features.\n",
      "Fitting estimator with 6 features.\n",
      "Fitting estimator with 3 features.\n",
      "Fitting estimator with 2 features.\n",
      "Fitting estimator with 5 features.\n",
      "Fitting estimator with 4 features.\n",
      "Fitting estimator with 3 features.\n",
      "Fitting estimator with 2 features.\n"
     ]
    },
    {
     "data": {
      "text/plain": [
       "RFECV(cv=3,\n",
       "   estimator=RandomForestClassifier(bootstrap=True, class_weight=None, criterion='gini',\n",
       "            max_depth=None, max_features='auto', max_leaf_nodes=None,\n",
       "            min_impurity_split=1e-07, min_samples_leaf=1,\n",
       "            min_samples_split=2, min_weight_fraction_leaf=0.0,\n",
       "            n_estimators=200, n_jobs=1, oob_score=False, random_state=None,\n",
       "            verbose=0, warm_start=False),\n",
       "   n_jobs=-1, scoring=make_scorer(f1_score), step=1, verbose=1)"
      ]
     },
     "execution_count": 12,
     "metadata": {},
     "output_type": "execute_result"
    }
   ],
   "source": [
    "rfecv.fit(X,y)"
   ]
  },
  {
   "cell_type": "code",
   "execution_count": 13,
   "metadata": {},
   "outputs": [
    {
     "name": "stdout",
     "output_type": "stream",
     "text": [
      "Optimal number of features : 49\n"
     ]
    },
    {
     "data": {
      "image/png": "[encoded data removed]",
      "text/plain": [
       "<matplotlib.figure.Figure at 0x10dfdcc88>"
      ]
     },
     "metadata": {},
     "output_type": "display_data"
    }
   ],
   "source": [
    "print(\"Optimal number of features : %d\" % rfecv.n_features_)\n",
    "\n",
    "# Plot number of features VS. cross-validation scores\n",
    "plt.figure()\n",
    "plt.xlabel(\"Number of features selected\")\n",
    "plt.ylabel(\"Cross validation score (nb of correct classifications)\")\n",
    "plt.plot(range(1, len(rfecv.grid_scores_) + 1), rfecv.grid_scores_)\n",
    "plt.show()"
   ]
  },
  {
   "cell_type": "code",
   "execution_count": 16,
   "metadata": {
    "scrolled": true
   },
   "outputs": [
    {
     "name": "stdout",
     "output_type": "stream",
     "text": [
      "LIMIT_BAL\n",
      "PAY_DEC\n",
      "BILL_AMT_DEC\n",
      "BILL_AMT_NOV\n",
      "BILL_AMT_OCT\n",
      "BILL_AMT_SEP\n",
      "BILL_AMT_AUG\n",
      "BILL_AMT_JUL\n",
      "PAY_AMT_DEC\n",
      "PAY_AMT_NOV\n",
      "PAY_AMT_JUL\n",
      "AGE\n",
      "LIMIT-MEAN_BILL\n",
      "AVG_PAY_LAST_2\n",
      "AVG_PAY_LAST_3\n",
      "AVG_PAY_LAST_4\n",
      "AVG_PAY_LAST_5\n",
      "AVG_PAY_LAST_6\n",
      "AVG_BILL_AMT_LAST_2\n",
      "AVG_BILL_AMT_LAST_3\n",
      "AVG_BILL_AMT_LAST_4\n",
      "AVG_BILL_AMT_LAST_5\n",
      "AVG_BILL_AMT_LAST_6\n",
      "BILL_AMT_TREND\n",
      "BILL_AMT_SKEW\n",
      "BILL_AMT_KURT\n",
      "AVG_PAY_AMT_LAST_2\n",
      "AVG_PAY_AMT_LAST_3\n",
      "AVG_PAY_AMT_LAST_4\n",
      "AVG_PAY_AMT_LAST_5\n",
      "AVG_PAY_AMT_LAST_6\n",
      "PAY_AMT_TREND\n",
      "PAY_AMT_SKEW\n",
      "PAY_AMT_KURT\n",
      "DELTA_1\n",
      "DELTA_2\n",
      "DELTA_3\n",
      "DELTA_4\n",
      "DELTA_5\n",
      "PROD\n",
      "FRAC_PAY_1\n",
      "FRAC_PAY_2\n",
      "FRAC_PAY_3\n",
      "FRAC_PAY_4\n",
      "FRAC_PAY_5\n",
      "BILL_AMT_SIGMA\n",
      "PAY_AMT_SIGMA\n",
      "PAY_SIGMA\n",
      "TOTAL_AMT_PAID\n"
     ]
    }
   ],
   "source": [
    "print('\\n'.join(X.columns[rfecv.support_]))"
   ]
  },
  {
   "cell_type": "code",
   "execution_count": 24,
   "metadata": {
    "collapsed": true
   },
   "outputs": [],
   "source": [
    "est = rfecv.estimator_"
   ]
  },
  {
   "cell_type": "code",
   "execution_count": 22,
   "metadata": {
    "collapsed": true
   },
   "outputs": [],
   "source": [
    "import utils"
   ]
  },
  {
   "cell_type": "code",
   "execution_count": 27,
   "metadata": {
    "collapsed": true
   },
   "outputs": [],
   "source": [
    "est = _"
   ]
  },
  {
   "cell_type": "code",
   "execution_count": 28,
   "metadata": {},
   "outputs": [
    {
     "ename": "NotFittedError",
     "evalue": "Estimator not fitted, call `fit` before exploiting the model.",
     "output_type": "error",
     "traceback": [
      "\u001b[0;31m---------------------------------------------------------------------------\u001b[0m",
      "\u001b[0;31mNotFittedError\u001b[0m                            Traceback (most recent call last)",
      "\u001b[0;32m<ipython-input-28-44ec07e1d4db>\u001b[0m in \u001b[0;36m<module>\u001b[0;34m()\u001b[0m\n\u001b[0;32m----> 1\u001b[0;31m \u001b[0mutils\u001b[0m\u001b[0;34m.\u001b[0m\u001b[0mplot_roc_curve\u001b[0m\u001b[0;34m(\u001b[0m\u001b[0mest\u001b[0m\u001b[0;34m,\u001b[0m \u001b[0mX\u001b[0m\u001b[0;34m,\u001b[0m \u001b[0my\u001b[0m\u001b[0;34m)\u001b[0m\u001b[0;34m\u001b[0m\u001b[0m\n\u001b[0m",
      "\u001b[0;32m/Users/andrea/Documents/workspace/snakesonaplane/utils.py\u001b[0m in \u001b[0;36mplot_roc_curve\u001b[0;34m(model, X, y)\u001b[0m\n\u001b[1;32m    132\u001b[0m \u001b[0;34m\u001b[0m\u001b[0m\n\u001b[1;32m    133\u001b[0m \u001b[0;32mdef\u001b[0m \u001b[0mplot_roc_curve\u001b[0m\u001b[0;34m(\u001b[0m\u001b[0mmodel\u001b[0m\u001b[0;34m,\u001b[0m \u001b[0mX\u001b[0m\u001b[0;34m,\u001b[0m \u001b[0my\u001b[0m\u001b[0;34m)\u001b[0m\u001b[0;34m:\u001b[0m\u001b[0;34m\u001b[0m\u001b[0m\n\u001b[0;32m--> 134\u001b[0;31m         \u001b[0mprobabilities\u001b[0m \u001b[0;34m=\u001b[0m \u001b[0mget_probabilities\u001b[0m\u001b[0;34m(\u001b[0m\u001b[0mmodel\u001b[0m\u001b[0;34m,\u001b[0m \u001b[0mX\u001b[0m\u001b[0;34m)\u001b[0m\u001b[0;34m\u001b[0m\u001b[0m\n\u001b[0m\u001b[1;32m    135\u001b[0m         \u001b[0mfpr\u001b[0m\u001b[0;34m,\u001b[0m \u001b[0mtpr\u001b[0m\u001b[0;34m,\u001b[0m \u001b[0mthreshold\u001b[0m \u001b[0;34m=\u001b[0m \u001b[0mroc_curve\u001b[0m\u001b[0;34m(\u001b[0m\u001b[0my\u001b[0m\u001b[0;34m,\u001b[0m \u001b[0mprobabilities\u001b[0m\u001b[0;34m)\u001b[0m\u001b[0;34m\u001b[0m\u001b[0m\n\u001b[1;32m    136\u001b[0m         \u001b[0mroc_auc\u001b[0m \u001b[0;34m=\u001b[0m \u001b[0mauc\u001b[0m\u001b[0;34m(\u001b[0m\u001b[0mfpr\u001b[0m\u001b[0;34m,\u001b[0m \u001b[0mtpr\u001b[0m\u001b[0;34m)\u001b[0m\u001b[0;34m\u001b[0m\u001b[0m\n",
      "\u001b[0;32m/Users/andrea/Documents/workspace/snakesonaplane/utils.py\u001b[0m in \u001b[0;36mget_probabilities\u001b[0;34m(model, X)\u001b[0m\n\u001b[1;32m    127\u001b[0m \u001b[0;34m\u001b[0m\u001b[0m\n\u001b[1;32m    128\u001b[0m \u001b[0;32mdef\u001b[0m \u001b[0mget_probabilities\u001b[0m\u001b[0;34m(\u001b[0m\u001b[0mmodel\u001b[0m\u001b[0;34m,\u001b[0m \u001b[0mX\u001b[0m\u001b[0;34m)\u001b[0m\u001b[0;34m:\u001b[0m\u001b[0;34m\u001b[0m\u001b[0m\n\u001b[0;32m--> 129\u001b[0;31m         \u001b[0mprobabilities\u001b[0m \u001b[0;34m=\u001b[0m \u001b[0mmodel\u001b[0m\u001b[0;34m.\u001b[0m\u001b[0mpredict_proba\u001b[0m\u001b[0;34m(\u001b[0m\u001b[0mX\u001b[0m\u001b[0;34m)\u001b[0m\u001b[0;34m\u001b[0m\u001b[0m\n\u001b[0m\u001b[1;32m    130\u001b[0m \u001b[0;34m\u001b[0m\u001b[0m\n\u001b[1;32m    131\u001b[0m         \u001b[0;32mreturn\u001b[0m \u001b[0mnp\u001b[0m\u001b[0;34m.\u001b[0m\u001b[0marray\u001b[0m\u001b[0;34m(\u001b[0m\u001b[0;34m[\u001b[0m\u001b[0mt\u001b[0m\u001b[0;34m[\u001b[0m\u001b[0;36m1\u001b[0m\u001b[0;34m]\u001b[0m \u001b[0;32mif\u001b[0m \u001b[0mlen\u001b[0m\u001b[0;34m(\u001b[0m\u001b[0mt\u001b[0m\u001b[0;34m)\u001b[0m \u001b[0;34m>=\u001b[0m \u001b[0;36m1\u001b[0m \u001b[0;32melse\u001b[0m \u001b[0;36m0.0\u001b[0m \u001b[0;32mfor\u001b[0m \u001b[0mt\u001b[0m \u001b[0;32min\u001b[0m \u001b[0mprobabilities\u001b[0m\u001b[0;34m]\u001b[0m\u001b[0;34m)\u001b[0m\u001b[0;34m\u001b[0m\u001b[0m\n",
      "\u001b[0;32m/Users/andrea/anaconda/envs/mlenv/lib/python3.5/site-packages/sklearn/ensemble/forest.py\u001b[0m in \u001b[0;36mpredict_proba\u001b[0;34m(self, X)\u001b[0m\n\u001b[1;32m    571\u001b[0m         \"\"\"\n\u001b[1;32m    572\u001b[0m         \u001b[0;31m# Check data\u001b[0m\u001b[0;34m\u001b[0m\u001b[0;34m\u001b[0m\u001b[0m\n\u001b[0;32m--> 573\u001b[0;31m         \u001b[0mX\u001b[0m \u001b[0;34m=\u001b[0m \u001b[0mself\u001b[0m\u001b[0;34m.\u001b[0m\u001b[0m_validate_X_predict\u001b[0m\u001b[0;34m(\u001b[0m\u001b[0mX\u001b[0m\u001b[0;34m)\u001b[0m\u001b[0;34m\u001b[0m\u001b[0m\n\u001b[0m\u001b[1;32m    574\u001b[0m \u001b[0;34m\u001b[0m\u001b[0m\n\u001b[1;32m    575\u001b[0m         \u001b[0;31m# Assign chunk of trees to jobs\u001b[0m\u001b[0;34m\u001b[0m\u001b[0;34m\u001b[0m\u001b[0m\n",
      "\u001b[0;32m/Users/andrea/anaconda/envs/mlenv/lib/python3.5/site-packages/sklearn/ensemble/forest.py\u001b[0m in \u001b[0;36m_validate_X_predict\u001b[0;34m(self, X)\u001b[0m\n\u001b[1;32m    350\u001b[0m         \u001b[0;34m\"\"\"Validate X whenever one tries to predict, apply, predict_proba\"\"\"\u001b[0m\u001b[0;34m\u001b[0m\u001b[0m\n\u001b[1;32m    351\u001b[0m         \u001b[0;32mif\u001b[0m \u001b[0mself\u001b[0m\u001b[0;34m.\u001b[0m\u001b[0mestimators_\u001b[0m \u001b[0;32mis\u001b[0m \u001b[0;32mNone\u001b[0m \u001b[0;32mor\u001b[0m \u001b[0mlen\u001b[0m\u001b[0;34m(\u001b[0m\u001b[0mself\u001b[0m\u001b[0;34m.\u001b[0m\u001b[0mestimators_\u001b[0m\u001b[0;34m)\u001b[0m \u001b[0;34m==\u001b[0m \u001b[0;36m0\u001b[0m\u001b[0;34m:\u001b[0m\u001b[0;34m\u001b[0m\u001b[0m\n\u001b[0;32m--> 352\u001b[0;31m             raise NotFittedError(\"Estimator not fitted, \"\n\u001b[0m\u001b[1;32m    353\u001b[0m                                  \"call `fit` before exploiting the model.\")\n\u001b[1;32m    354\u001b[0m \u001b[0;34m\u001b[0m\u001b[0m\n",
      "\u001b[0;31mNotFittedError\u001b[0m: Estimator not fitted, call `fit` before exploiting the model."
     ]
    }
   ],
   "source": []
  },
  {
   "cell_type": "code",
   "execution_count": 29,
   "metadata": {
    "collapsed": true
   },
   "outputs": [],
   "source": [
    "np.matmul"
   ]
  },
  {
   "cell_type": "code",
   "execution_count": 31,
   "metadata": {
    "collapsed": true
   },
   "outputs": [],
   "source": [
    "from sklearn.svm import SVC"
   ]
  },
  {
   "cell_type": "code",
   "execution_count": 32,
   "metadata": {
    "collapsed": true
   },
   "outputs": [],
   "source": [
    "SVC?"
   ]
  },
  {
   "cell_type": "code",
   "execution_count": 93,
   "metadata": {
    "collapsed": true
   },
   "outputs": [],
   "source": [
    "import imp"
   ]
  },
  {
   "cell_type": "code",
   "execution_count": 94,
   "metadata": {},
   "outputs": [
    {
     "data": {
      "text/plain": [
       "<module 'utils' from '/Users/andrea/Documents/workspace/snakesonaplane/utils.py'>"
      ]
     },
     "execution_count": 94,
     "metadata": {},
     "output_type": "execute_result"
    }
   ],
   "source": [
    "imp.reload(utils)"
   ]
  },
  {
   "cell_type": "code",
   "execution_count": 95,
   "metadata": {
    "collapsed": true
   },
   "outputs": [],
   "source": [
    "from sklearn.ensemble import RandomForestClassifier"
   ]
  },
  {
   "cell_type": "code",
   "execution_count": 96,
   "metadata": {
    "collapsed": true
   },
   "outputs": [],
   "source": [
    "rf = RandomForestClassifier()"
   ]
  },
  {
   "cell_type": "code",
   "execution_count": 97,
   "metadata": {
    "collapsed": true
   },
   "outputs": [],
   "source": [
    "grid = utils.ThresholdGridCV(RandomForestClassifier, {'n_estimators' : [50]})"
   ]
  },
  {
   "cell_type": "code",
   "execution_count": 98,
   "metadata": {},
   "outputs": [
    {
     "name": "stdout",
     "output_type": "stream",
     "text": [
      "Converting X in numpy array\n",
      "Converting y in numpy array\n",
      "Evaluating model with parameters: {'n_estimators': 50}\n",
      "Training fold #1\t0.5204178537511871\n",
      "Training fold #2\t0.521408182683159\n",
      "Training fold #3\t0.5037674919268029\n",
      "Training fold #4"
     ]
    },
    {
     "ename": "KeyboardInterrupt",
     "evalue": "",
     "output_type": "error",
     "traceback": [
      "\u001b[0;31m---------------------------------------------------------------------------\u001b[0m",
      "\u001b[0;31mKeyboardInterrupt\u001b[0m                         Traceback (most recent call last)",
      "\u001b[0;32m<ipython-input-98-fe6601c20b8e>\u001b[0m in \u001b[0;36m<module>\u001b[0;34m()\u001b[0m\n\u001b[0;32m----> 1\u001b[0;31m \u001b[0mgrid\u001b[0m\u001b[0;34m.\u001b[0m\u001b[0mfit\u001b[0m\u001b[0;34m(\u001b[0m\u001b[0mX\u001b[0m\u001b[0;34m,\u001b[0m \u001b[0my\u001b[0m\u001b[0;34m)\u001b[0m\u001b[0;34m\u001b[0m\u001b[0m\n\u001b[0m",
      "\u001b[0;32m/Users/andrea/Documents/workspace/snakesonaplane/utils.py\u001b[0m in \u001b[0;36mfit\u001b[0;34m(self, X, y)\u001b[0m\n\u001b[1;32m     95\u001b[0m                                         \u001b[0mfold\u001b[0m \u001b[0;34m+=\u001b[0m \u001b[0;36m1\u001b[0m\u001b[0;34m\u001b[0m\u001b[0m\n\u001b[1;32m     96\u001b[0m \u001b[0;34m\u001b[0m\u001b[0m\n\u001b[0;32m---> 97\u001b[0;31m                                 \u001b[0mmodel\u001b[0m \u001b[0;34m=\u001b[0m \u001b[0mmodel\u001b[0m\u001b[0;34m.\u001b[0m\u001b[0mfit\u001b[0m\u001b[0;34m(\u001b[0m\u001b[0mX_train\u001b[0m\u001b[0;34m,\u001b[0m \u001b[0my_train\u001b[0m\u001b[0;34m)\u001b[0m\u001b[0;34m\u001b[0m\u001b[0m\n\u001b[0m\u001b[1;32m     98\u001b[0m \u001b[0;34m\u001b[0m\u001b[0m\n\u001b[1;32m     99\u001b[0m                                 \u001b[0mbest_threshold\u001b[0m \u001b[0;34m=\u001b[0m \u001b[0mget_best_threshold\u001b[0m\u001b[0;34m(\u001b[0m\u001b[0mmodel\u001b[0m\u001b[0;34m,\u001b[0m \u001b[0mX_train\u001b[0m\u001b[0;34m,\u001b[0m \u001b[0my_train\u001b[0m\u001b[0;34m)\u001b[0m\u001b[0;34m[\u001b[0m\u001b[0;36m0\u001b[0m\u001b[0;34m]\u001b[0m\u001b[0;34m\u001b[0m\u001b[0m\n",
      "\u001b[0;32m/Users/andrea/anaconda/envs/mlenv/lib/python3.5/site-packages/sklearn/ensemble/forest.py\u001b[0m in \u001b[0;36mfit\u001b[0;34m(self, X, y, sample_weight)\u001b[0m\n\u001b[1;32m    324\u001b[0m                     \u001b[0mt\u001b[0m\u001b[0;34m,\u001b[0m \u001b[0mself\u001b[0m\u001b[0;34m,\u001b[0m \u001b[0mX\u001b[0m\u001b[0;34m,\u001b[0m \u001b[0my\u001b[0m\u001b[0;34m,\u001b[0m \u001b[0msample_weight\u001b[0m\u001b[0;34m,\u001b[0m \u001b[0mi\u001b[0m\u001b[0;34m,\u001b[0m \u001b[0mlen\u001b[0m\u001b[0;34m(\u001b[0m\u001b[0mtrees\u001b[0m\u001b[0;34m)\u001b[0m\u001b[0;34m,\u001b[0m\u001b[0;34m\u001b[0m\u001b[0m\n\u001b[1;32m    325\u001b[0m                     verbose=self.verbose, class_weight=self.class_weight)\n\u001b[0;32m--> 326\u001b[0;31m                 for i, t in enumerate(trees))\n\u001b[0m\u001b[1;32m    327\u001b[0m \u001b[0;34m\u001b[0m\u001b[0m\n\u001b[1;32m    328\u001b[0m             \u001b[0;31m# Collect newly grown trees\u001b[0m\u001b[0;34m\u001b[0m\u001b[0;34m\u001b[0m\u001b[0m\n",
      "\u001b[0;32m/Users/andrea/anaconda/envs/mlenv/lib/python3.5/site-packages/sklearn/externals/joblib/parallel.py\u001b[0m in \u001b[0;36m__call__\u001b[0;34m(self, iterable)\u001b[0m\n\u001b[1;32m    756\u001b[0m             \u001b[0;31m# was dispatched. In particular this covers the edge\u001b[0m\u001b[0;34m\u001b[0m\u001b[0;34m\u001b[0m\u001b[0m\n\u001b[1;32m    757\u001b[0m             \u001b[0;31m# case of Parallel used with an exhausted iterator.\u001b[0m\u001b[0;34m\u001b[0m\u001b[0;34m\u001b[0m\u001b[0m\n\u001b[0;32m--> 758\u001b[0;31m             \u001b[0;32mwhile\u001b[0m \u001b[0mself\u001b[0m\u001b[0;34m.\u001b[0m\u001b[0mdispatch_one_batch\u001b[0m\u001b[0;34m(\u001b[0m\u001b[0miterator\u001b[0m\u001b[0;34m)\u001b[0m\u001b[0;34m:\u001b[0m\u001b[0;34m\u001b[0m\u001b[0m\n\u001b[0m\u001b[1;32m    759\u001b[0m                 \u001b[0mself\u001b[0m\u001b[0;34m.\u001b[0m\u001b[0m_iterating\u001b[0m \u001b[0;34m=\u001b[0m \u001b[0;32mTrue\u001b[0m\u001b[0;34m\u001b[0m\u001b[0m\n\u001b[1;32m    760\u001b[0m             \u001b[0;32melse\u001b[0m\u001b[0;34m:\u001b[0m\u001b[0;34m\u001b[0m\u001b[0m\n",
      "\u001b[0;32m/Users/andrea/anaconda/envs/mlenv/lib/python3.5/site-packages/sklearn/externals/joblib/parallel.py\u001b[0m in \u001b[0;36mdispatch_one_batch\u001b[0;34m(self, iterator)\u001b[0m\n\u001b[1;32m    606\u001b[0m                 \u001b[0;32mreturn\u001b[0m \u001b[0;32mFalse\u001b[0m\u001b[0;34m\u001b[0m\u001b[0m\n\u001b[1;32m    607\u001b[0m             \u001b[0;32melse\u001b[0m\u001b[0;34m:\u001b[0m\u001b[0;34m\u001b[0m\u001b[0m\n\u001b[0;32m--> 608\u001b[0;31m                 \u001b[0mself\u001b[0m\u001b[0;34m.\u001b[0m\u001b[0m_dispatch\u001b[0m\u001b[0;34m(\u001b[0m\u001b[0mtasks\u001b[0m\u001b[0;34m)\u001b[0m\u001b[0;34m\u001b[0m\u001b[0m\n\u001b[0m\u001b[1;32m    609\u001b[0m                 \u001b[0;32mreturn\u001b[0m \u001b[0;32mTrue\u001b[0m\u001b[0;34m\u001b[0m\u001b[0m\n\u001b[1;32m    610\u001b[0m \u001b[0;34m\u001b[0m\u001b[0m\n",
      "\u001b[0;32m/Users/andrea/anaconda/envs/mlenv/lib/python3.5/site-packages/sklearn/externals/joblib/parallel.py\u001b[0m in \u001b[0;36m_dispatch\u001b[0;34m(self, batch)\u001b[0m\n\u001b[1;32m    569\u001b[0m         \u001b[0mdispatch_timestamp\u001b[0m \u001b[0;34m=\u001b[0m \u001b[0mtime\u001b[0m\u001b[0;34m.\u001b[0m\u001b[0mtime\u001b[0m\u001b[0;34m(\u001b[0m\u001b[0;34m)\u001b[0m\u001b[0;34m\u001b[0m\u001b[0m\n\u001b[1;32m    570\u001b[0m         \u001b[0mcb\u001b[0m \u001b[0;34m=\u001b[0m \u001b[0mBatchCompletionCallBack\u001b[0m\u001b[0;34m(\u001b[0m\u001b[0mdispatch_timestamp\u001b[0m\u001b[0;34m,\u001b[0m \u001b[0mlen\u001b[0m\u001b[0;34m(\u001b[0m\u001b[0mbatch\u001b[0m\u001b[0;34m)\u001b[0m\u001b[0;34m,\u001b[0m \u001b[0mself\u001b[0m\u001b[0;34m)\u001b[0m\u001b[0;34m\u001b[0m\u001b[0m\n\u001b[0;32m--> 571\u001b[0;31m         \u001b[0mjob\u001b[0m \u001b[0;34m=\u001b[0m \u001b[0mself\u001b[0m\u001b[0;34m.\u001b[0m\u001b[0m_backend\u001b[0m\u001b[0;34m.\u001b[0m\u001b[0mapply_async\u001b[0m\u001b[0;34m(\u001b[0m\u001b[0mbatch\u001b[0m\u001b[0;34m,\u001b[0m \u001b[0mcallback\u001b[0m\u001b[0;34m=\u001b[0m\u001b[0mcb\u001b[0m\u001b[0;34m)\u001b[0m\u001b[0;34m\u001b[0m\u001b[0m\n\u001b[0m\u001b[1;32m    572\u001b[0m         \u001b[0mself\u001b[0m\u001b[0;34m.\u001b[0m\u001b[0m_jobs\u001b[0m\u001b[0;34m.\u001b[0m\u001b[0mappend\u001b[0m\u001b[0;34m(\u001b[0m\u001b[0mjob\u001b[0m\u001b[0;34m)\u001b[0m\u001b[0;34m\u001b[0m\u001b[0m\n\u001b[1;32m    573\u001b[0m \u001b[0;34m\u001b[0m\u001b[0m\n",
      "\u001b[0;32m/Users/andrea/anaconda/envs/mlenv/lib/python3.5/site-packages/sklearn/externals/joblib/_parallel_backends.py\u001b[0m in \u001b[0;36mapply_async\u001b[0;34m(self, func, callback)\u001b[0m\n\u001b[1;32m    107\u001b[0m     \u001b[0;32mdef\u001b[0m \u001b[0mapply_async\u001b[0m\u001b[0;34m(\u001b[0m\u001b[0mself\u001b[0m\u001b[0;34m,\u001b[0m \u001b[0mfunc\u001b[0m\u001b[0;34m,\u001b[0m \u001b[0mcallback\u001b[0m\u001b[0;34m=\u001b[0m\u001b[0;32mNone\u001b[0m\u001b[0;34m)\u001b[0m\u001b[0;34m:\u001b[0m\u001b[0;34m\u001b[0m\u001b[0m\n\u001b[1;32m    108\u001b[0m         \u001b[0;34m\"\"\"Schedule a func to be run\"\"\"\u001b[0m\u001b[0;34m\u001b[0m\u001b[0m\n\u001b[0;32m--> 109\u001b[0;31m         \u001b[0mresult\u001b[0m \u001b[0;34m=\u001b[0m \u001b[0mImmediateResult\u001b[0m\u001b[0;34m(\u001b[0m\u001b[0mfunc\u001b[0m\u001b[0;34m)\u001b[0m\u001b[0;34m\u001b[0m\u001b[0m\n\u001b[0m\u001b[1;32m    110\u001b[0m         \u001b[0;32mif\u001b[0m \u001b[0mcallback\u001b[0m\u001b[0;34m:\u001b[0m\u001b[0;34m\u001b[0m\u001b[0m\n\u001b[1;32m    111\u001b[0m             \u001b[0mcallback\u001b[0m\u001b[0;34m(\u001b[0m\u001b[0mresult\u001b[0m\u001b[0;34m)\u001b[0m\u001b[0;34m\u001b[0m\u001b[0m\n",
      "\u001b[0;32m/Users/andrea/anaconda/envs/mlenv/lib/python3.5/site-packages/sklearn/externals/joblib/_parallel_backends.py\u001b[0m in \u001b[0;36m__init__\u001b[0;34m(self, batch)\u001b[0m\n\u001b[1;32m    324\u001b[0m         \u001b[0;31m# Don't delay the application, to avoid keeping the input\u001b[0m\u001b[0;34m\u001b[0m\u001b[0;34m\u001b[0m\u001b[0m\n\u001b[1;32m    325\u001b[0m         \u001b[0;31m# arguments in memory\u001b[0m\u001b[0;34m\u001b[0m\u001b[0;34m\u001b[0m\u001b[0m\n\u001b[0;32m--> 326\u001b[0;31m         \u001b[0mself\u001b[0m\u001b[0;34m.\u001b[0m\u001b[0mresults\u001b[0m \u001b[0;34m=\u001b[0m \u001b[0mbatch\u001b[0m\u001b[0;34m(\u001b[0m\u001b[0;34m)\u001b[0m\u001b[0;34m\u001b[0m\u001b[0m\n\u001b[0m\u001b[1;32m    327\u001b[0m \u001b[0;34m\u001b[0m\u001b[0m\n\u001b[1;32m    328\u001b[0m     \u001b[0;32mdef\u001b[0m \u001b[0mget\u001b[0m\u001b[0;34m(\u001b[0m\u001b[0mself\u001b[0m\u001b[0;34m)\u001b[0m\u001b[0;34m:\u001b[0m\u001b[0;34m\u001b[0m\u001b[0m\n",
      "\u001b[0;32m/Users/andrea/anaconda/envs/mlenv/lib/python3.5/site-packages/sklearn/externals/joblib/parallel.py\u001b[0m in \u001b[0;36m__call__\u001b[0;34m(self)\u001b[0m\n\u001b[1;32m    129\u001b[0m \u001b[0;34m\u001b[0m\u001b[0m\n\u001b[1;32m    130\u001b[0m     \u001b[0;32mdef\u001b[0m \u001b[0m__call__\u001b[0m\u001b[0;34m(\u001b[0m\u001b[0mself\u001b[0m\u001b[0;34m)\u001b[0m\u001b[0;34m:\u001b[0m\u001b[0;34m\u001b[0m\u001b[0m\n\u001b[0;32m--> 131\u001b[0;31m         \u001b[0;32mreturn\u001b[0m \u001b[0;34m[\u001b[0m\u001b[0mfunc\u001b[0m\u001b[0;34m(\u001b[0m\u001b[0;34m*\u001b[0m\u001b[0margs\u001b[0m\u001b[0;34m,\u001b[0m \u001b[0;34m**\u001b[0m\u001b[0mkwargs\u001b[0m\u001b[0;34m)\u001b[0m \u001b[0;32mfor\u001b[0m \u001b[0mfunc\u001b[0m\u001b[0;34m,\u001b[0m \u001b[0margs\u001b[0m\u001b[0;34m,\u001b[0m \u001b[0mkwargs\u001b[0m \u001b[0;32min\u001b[0m \u001b[0mself\u001b[0m\u001b[0;34m.\u001b[0m\u001b[0mitems\u001b[0m\u001b[0;34m]\u001b[0m\u001b[0;34m\u001b[0m\u001b[0m\n\u001b[0m\u001b[1;32m    132\u001b[0m \u001b[0;34m\u001b[0m\u001b[0m\n\u001b[1;32m    133\u001b[0m     \u001b[0;32mdef\u001b[0m \u001b[0m__len__\u001b[0m\u001b[0;34m(\u001b[0m\u001b[0mself\u001b[0m\u001b[0;34m)\u001b[0m\u001b[0;34m:\u001b[0m\u001b[0;34m\u001b[0m\u001b[0m\n",
      "\u001b[0;32m/Users/andrea/anaconda/envs/mlenv/lib/python3.5/site-packages/sklearn/externals/joblib/parallel.py\u001b[0m in \u001b[0;36m<listcomp>\u001b[0;34m(.0)\u001b[0m\n\u001b[1;32m    129\u001b[0m \u001b[0;34m\u001b[0m\u001b[0m\n\u001b[1;32m    130\u001b[0m     \u001b[0;32mdef\u001b[0m \u001b[0m__call__\u001b[0m\u001b[0;34m(\u001b[0m\u001b[0mself\u001b[0m\u001b[0;34m)\u001b[0m\u001b[0;34m:\u001b[0m\u001b[0;34m\u001b[0m\u001b[0m\n\u001b[0;32m--> 131\u001b[0;31m         \u001b[0;32mreturn\u001b[0m \u001b[0;34m[\u001b[0m\u001b[0mfunc\u001b[0m\u001b[0;34m(\u001b[0m\u001b[0;34m*\u001b[0m\u001b[0margs\u001b[0m\u001b[0;34m,\u001b[0m \u001b[0;34m**\u001b[0m\u001b[0mkwargs\u001b[0m\u001b[0;34m)\u001b[0m \u001b[0;32mfor\u001b[0m \u001b[0mfunc\u001b[0m\u001b[0;34m,\u001b[0m \u001b[0margs\u001b[0m\u001b[0;34m,\u001b[0m \u001b[0mkwargs\u001b[0m \u001b[0;32min\u001b[0m \u001b[0mself\u001b[0m\u001b[0;34m.\u001b[0m\u001b[0mitems\u001b[0m\u001b[0;34m]\u001b[0m\u001b[0;34m\u001b[0m\u001b[0m\n\u001b[0m\u001b[1;32m    132\u001b[0m \u001b[0;34m\u001b[0m\u001b[0m\n\u001b[1;32m    133\u001b[0m     \u001b[0;32mdef\u001b[0m \u001b[0m__len__\u001b[0m\u001b[0;34m(\u001b[0m\u001b[0mself\u001b[0m\u001b[0;34m)\u001b[0m\u001b[0;34m:\u001b[0m\u001b[0;34m\u001b[0m\u001b[0m\n",
      "\u001b[0;32m/Users/andrea/anaconda/envs/mlenv/lib/python3.5/site-packages/sklearn/ensemble/forest.py\u001b[0m in \u001b[0;36m_parallel_build_trees\u001b[0;34m(tree, forest, X, y, sample_weight, tree_idx, n_trees, verbose, class_weight)\u001b[0m\n\u001b[1;32m    118\u001b[0m             \u001b[0mcurr_sample_weight\u001b[0m \u001b[0;34m*=\u001b[0m \u001b[0mcompute_sample_weight\u001b[0m\u001b[0;34m(\u001b[0m\u001b[0;34m'balanced'\u001b[0m\u001b[0;34m,\u001b[0m \u001b[0my\u001b[0m\u001b[0;34m,\u001b[0m \u001b[0mindices\u001b[0m\u001b[0;34m)\u001b[0m\u001b[0;34m\u001b[0m\u001b[0m\n\u001b[1;32m    119\u001b[0m \u001b[0;34m\u001b[0m\u001b[0m\n\u001b[0;32m--> 120\u001b[0;31m         \u001b[0mtree\u001b[0m\u001b[0;34m.\u001b[0m\u001b[0mfit\u001b[0m\u001b[0;34m(\u001b[0m\u001b[0mX\u001b[0m\u001b[0;34m,\u001b[0m \u001b[0my\u001b[0m\u001b[0;34m,\u001b[0m \u001b[0msample_weight\u001b[0m\u001b[0;34m=\u001b[0m\u001b[0mcurr_sample_weight\u001b[0m\u001b[0;34m,\u001b[0m \u001b[0mcheck_input\u001b[0m\u001b[0;34m=\u001b[0m\u001b[0;32mFalse\u001b[0m\u001b[0;34m)\u001b[0m\u001b[0;34m\u001b[0m\u001b[0m\n\u001b[0m\u001b[1;32m    121\u001b[0m     \u001b[0;32melse\u001b[0m\u001b[0;34m:\u001b[0m\u001b[0;34m\u001b[0m\u001b[0m\n\u001b[1;32m    122\u001b[0m         \u001b[0mtree\u001b[0m\u001b[0;34m.\u001b[0m\u001b[0mfit\u001b[0m\u001b[0;34m(\u001b[0m\u001b[0mX\u001b[0m\u001b[0;34m,\u001b[0m \u001b[0my\u001b[0m\u001b[0;34m,\u001b[0m \u001b[0msample_weight\u001b[0m\u001b[0;34m=\u001b[0m\u001b[0msample_weight\u001b[0m\u001b[0;34m,\u001b[0m \u001b[0mcheck_input\u001b[0m\u001b[0;34m=\u001b[0m\u001b[0;32mFalse\u001b[0m\u001b[0;34m)\u001b[0m\u001b[0;34m\u001b[0m\u001b[0m\n",
      "\u001b[0;32m/Users/andrea/anaconda/envs/mlenv/lib/python3.5/site-packages/sklearn/tree/tree.py\u001b[0m in \u001b[0;36mfit\u001b[0;34m(self, X, y, sample_weight, check_input, X_idx_sorted)\u001b[0m\n\u001b[1;32m    737\u001b[0m             \u001b[0msample_weight\u001b[0m\u001b[0;34m=\u001b[0m\u001b[0msample_weight\u001b[0m\u001b[0;34m,\u001b[0m\u001b[0;34m\u001b[0m\u001b[0m\n\u001b[1;32m    738\u001b[0m             \u001b[0mcheck_input\u001b[0m\u001b[0;34m=\u001b[0m\u001b[0mcheck_input\u001b[0m\u001b[0;34m,\u001b[0m\u001b[0;34m\u001b[0m\u001b[0m\n\u001b[0;32m--> 739\u001b[0;31m             X_idx_sorted=X_idx_sorted)\n\u001b[0m\u001b[1;32m    740\u001b[0m         \u001b[0;32mreturn\u001b[0m \u001b[0mself\u001b[0m\u001b[0;34m\u001b[0m\u001b[0m\n\u001b[1;32m    741\u001b[0m \u001b[0;34m\u001b[0m\u001b[0m\n",
      "\u001b[0;32m/Users/andrea/anaconda/envs/mlenv/lib/python3.5/site-packages/sklearn/tree/tree.py\u001b[0m in \u001b[0;36mfit\u001b[0;34m(self, X, y, sample_weight, check_input, X_idx_sorted)\u001b[0m\n\u001b[1;32m    348\u001b[0m                                            self.min_impurity_split)\n\u001b[1;32m    349\u001b[0m \u001b[0;34m\u001b[0m\u001b[0m\n\u001b[0;32m--> 350\u001b[0;31m         \u001b[0mbuilder\u001b[0m\u001b[0;34m.\u001b[0m\u001b[0mbuild\u001b[0m\u001b[0;34m(\u001b[0m\u001b[0mself\u001b[0m\u001b[0;34m.\u001b[0m\u001b[0mtree_\u001b[0m\u001b[0;34m,\u001b[0m \u001b[0mX\u001b[0m\u001b[0;34m,\u001b[0m \u001b[0my\u001b[0m\u001b[0;34m,\u001b[0m \u001b[0msample_weight\u001b[0m\u001b[0;34m,\u001b[0m \u001b[0mX_idx_sorted\u001b[0m\u001b[0;34m)\u001b[0m\u001b[0;34m\u001b[0m\u001b[0m\n\u001b[0m\u001b[1;32m    351\u001b[0m \u001b[0;34m\u001b[0m\u001b[0m\n\u001b[1;32m    352\u001b[0m         \u001b[0;32mif\u001b[0m \u001b[0mself\u001b[0m\u001b[0;34m.\u001b[0m\u001b[0mn_outputs_\u001b[0m \u001b[0;34m==\u001b[0m \u001b[0;36m1\u001b[0m\u001b[0;34m:\u001b[0m\u001b[0;34m\u001b[0m\u001b[0m\n",
      "\u001b[0;31mKeyboardInterrupt\u001b[0m: "
     ]
    }
   ],
   "source": [
    "grid.fit(X, y)"
   ]
  },
  {
   "cell_type": "code",
   "execution_count": 100,
   "metadata": {
    "collapsed": true
   },
   "outputs": [],
   "source": [
    "train_test_split?"
   ]
  },
  {
   "cell_type": "code",
   "execution_count": 102,
   "metadata": {
    "collapsed": true
   },
   "outputs": [],
   "source": [
    "from sklearn.ensemble import AdaBoostClassifier, RandomForestClassifier\n",
    "from xgboost import XGBClassifier"
   ]
  },
  {
   "cell_type": "code",
   "execution_count": 139,
   "metadata": {
    "scrolled": true
   },
   "outputs": [
    {
     "name": "stdout",
     "output_type": "stream",
     "text": [
      "Converting X in numpy array\n",
      "Converting y in numpy array\n",
      "Created test holdout. % positive class in test holdout = 0.2293100241770504\n",
      "\n",
      "\n",
      "========== Starting grid search for <class 'sklearn.ensemble.weight_boosting.AdaBoostClassifier'> ==========\n",
      "Evaluating model with parameters: {}\n",
      "Training fold #1\t0.26917057902973396\n",
      "Training fold #2\t0.21843367075119868\n",
      "Training fold #3\t0.20568927789934358\n",
      "Evaluation finished\n",
      "Average score values: [0.23109784256009205]\n",
      "========== Ending grid search for <class 'sklearn.ensemble.weight_boosting.AdaBoostClassifier'> ==========\n",
      "\n",
      "Best model found is: AdaBoostClassifier(algorithm='SAMME.R', base_estimator=None,\n",
      "          learning_rate=1.0, n_estimators=50, random_state=None)\n",
      "Best score training: 0.5497128374398542 - threshold: 0.5051174002664637\n",
      "Best score validation: 0.23109784256009205\n",
      "\n",
      "\n",
      "========== Starting grid search for <class 'sklearn.ensemble.forest.RandomForestClassifier'> ==========\n",
      "Evaluating model with parameters: {'n_estimators': 50, 'n_jobs': -1}\n",
      "Training fold #1\t0.49027237354085595\n",
      "Training fold #2\t0.489922480620155\n",
      "Training fold #3\t0.4856156501726122\n",
      "Evaluating model with parameters: {'n_estimators': 100, 'n_jobs': -1}\n",
      "Training fold #1\t0.4921752738654147\n",
      "Training fold #2\t0.4988830975428145\n",
      "Training fold #3\t0.50109409190372\n",
      "Evaluation finished\n",
      "Average score values: [0.48860350144454107, 0.49738415443731637]\n",
      "========== Ending grid search for <class 'sklearn.ensemble.forest.RandomForestClassifier'> ==========\n",
      "\n",
      "Best model found is: RandomForestClassifier(bootstrap=True, class_weight=None, criterion='gini',\n",
      "            max_depth=None, max_features='auto', max_leaf_nodes=None,\n",
      "            min_impurity_split=1e-07, min_samples_leaf=1,\n",
      "            min_samples_split=2, min_weight_fraction_leaf=0.0,\n",
      "            n_estimators=100, n_jobs=-1, oob_score=False,\n",
      "            random_state=None, verbose=0, warm_start=False)\n",
      "Best score training: 0.9997344843799928 - threshold: 0.44755555555555554\n",
      "Best score validation: 0.4973841544373164\n",
      "\n",
      "\n",
      "========== Starting grid search for <class 'xgboost.sklearn.XGBClassifier'> ==========\n",
      "Evaluating model with parameters: {}\n",
      "Training fold #1\t0.5388508484668056\n",
      "Training fold #2\t0.5379825653798257\n",
      "Training fold #3\t0.533751962323391\n",
      "Evaluation finished\n",
      "Average score values: [0.53686179205667406]\n",
      "========== Ending grid search for <class 'xgboost.sklearn.XGBClassifier'> ==========\n",
      "\n",
      "Best model found is: XGBClassifier(base_score=0.5, colsample_bylevel=1, colsample_bytree=1,\n",
      "       gamma=0, learning_rate=0.1, max_delta_step=0, max_depth=3,\n",
      "       min_child_weight=1, missing=None, n_estimators=100, nthread=-1,\n",
      "       objective='binary:logistic', reg_alpha=0, reg_lambda=1,\n",
      "       scale_pos_weight=1, seed=0, silent=True, subsample=1)\n",
      "Best score training: 0.5785988832892922 - threshold: 0.27678144931793214\n",
      "Best score validation: 0.5368617920566741\n",
      "\n",
      "\n",
      "\n",
      "Best model overall is: {'scores_cv': [0.53885084846680564, 0.53798256537982569, 0.53375196232339095], 'model': XGBClassifier(base_score=0.5, colsample_bylevel=1, colsample_bytree=1,\n",
      "       gamma=0, learning_rate=0.1, max_delta_step=0, max_depth=3,\n",
      "       min_child_weight=1, missing=None, n_estimators=100, nthread=-1,\n",
      "       objective='binary:logistic', reg_alpha=0, reg_lambda=1,\n",
      "       scale_pos_weight=1, seed=0, silent=True, subsample=1), 'thresholds': [0.26407192111015321, 0.28139368653297425, 0.28487874031066895], 'scores_tr': [0.5739385065885797, 0.5754010695187165, 0.58645707376058032], 'avg_score': 0.53686179205667406}\n",
      "Training on whole train set\n",
      "\n",
      "Final performance on test: 0.5672352241174138\n"
     ]
    }
   ],
   "source": [
    "param_ada = {\n",
    "}\n",
    "param_rf = {\n",
    "    'n_estimators' : [50, 100],\n",
    "    'n_jobs' : [-1]\n",
    "}\n",
    "param_xgboost = {\n",
    "    \n",
    "}\n",
    "\n",
    "models = [AdaBoostClassifier, RandomForestClassifier, XGBClassifier]\n",
    "params = [param_ada, param_rf, param_xgboost]\n",
    "\n",
    "import imp\n",
    "imp.reload(utils)\n",
    "imp.reload(monster)\n",
    "\n",
    "monst = monster.Monster(models, params)\n",
    "monst.fit(X, y, cv=3)"
   ]
  },
  {
   "cell_type": "code",
   "execution_count": 141,
   "metadata": {},
   "outputs": [
    {
     "data": {
      "text/plain": [
       "XGBClassifier(base_score=0.5, colsample_bylevel=1, colsample_bytree=1,\n",
       "       gamma=0, learning_rate=0.1, max_delta_step=0, max_depth=3,\n",
       "       min_child_weight=1, missing=None, n_estimators=100, nthread=-1,\n",
       "       objective='binary:logistic', reg_alpha=0, reg_lambda=1,\n",
       "       scale_pos_weight=1, seed=0, silent=True, subsample=1)"
      ]
     },
     "execution_count": 141,
     "metadata": {},
     "output_type": "execute_result"
    }
   ],
   "source": [
    "X_train, X_test, y_train, y_test = train_test_split(X, y)\n",
    "\n",
    "xgb = XGBClassifier()\n",
    "xgb.fit(X_train, y_train)"
   ]
  },
  {
   "cell_type": "code",
   "execution_count": 148,
   "metadata": {
    "scrolled": true
   },
   "outputs": [
    {
     "name": "stdout",
     "output_type": "stream",
     "text": [
      "0.2     0.5576719576719577\n",
      "0.20303030303030303     0.5584461867426941\n",
      "0.20606060606060608     0.5595901492000719\n",
      "0.2090909090909091     0.5623298856831791\n",
      "0.21212121212121213     0.564135407136322\n",
      "0.21515151515151515     0.5660342434058306\n",
      "0.2181818181818182     0.5679588977113499\n",
      "0.22121212121212122     0.5689801299557397\n",
      "0.22424242424242424     0.5701804368471035\n",
      "0.2272727272727273     0.5698965913443126\n",
      "0.23030303030303031     0.5704361250482439\n",
      "0.23333333333333334     0.5702881619937694\n",
      "0.2363636363636364     0.5701685613484907\n",
      "0.2393939393939394     0.5702161255304451\n",
      "0.24242424242424243     0.5708052360174534\n",
      "0.24545454545454548     0.5703452404709639\n",
      "0.2484848484848485     0.5718592964824121\n",
      "0.2515151515151515     0.5722092905576358\n",
      "0.2545454545454546     0.5723014256619144\n",
      "0.25757575757575757     0.5719848345117327\n",
      "0.2606060606060606     0.5717234262125902\n",
      "0.26363636363636367     0.5711023458584181\n",
      "0.26666666666666666     0.5711604629340006\n",
      "0.2696969696969697     0.5722397476340695\n",
      "0.2727272727272727     0.5739148891011355\n",
      "0.27575757575757576     0.5739334972736021\n",
      "0.2787878787878788     0.5735214908973393\n",
      "0.28181818181818186     0.5721403812824957\n",
      "0.28484848484848485     0.5718950691194078\n",
      "0.2878787878787879     0.5697980684811239\n",
      "0.2909090909090909     0.5700717835450028\n",
      "0.29393939393939394     0.5704787234042554\n",
      "0.296969696969697     0.5683741648106905\n",
      "0.30000000000000004     0.5681055692238873\n",
      "0.30303030303030304     0.5685085354896675\n",
      "0.3060606060606061     0.5673694892321569\n",
      "0.3090909090909091     0.5660932548664553\n",
      "0.31212121212121213     0.5644813089421656\n",
      "0.3151515151515152     0.5647514819881442\n",
      "0.3181818181818182     0.5642669108389609\n",
      "0.3212121212121212     0.5642085917757867\n",
      "0.3242424242424242     0.5647710231860653\n",
      "0.32727272727272727     0.5635205558772437\n",
      "0.3303030303030303     0.562623560879172\n",
      "0.33333333333333337     0.5618580765639589\n",
      "0.33636363636363636     0.562368359466417\n",
      "0.3393939393939394     0.5624926513815401\n",
      "0.3424242424242424     0.5615112160566706\n",
      "0.34545454545454546     0.5613660618996799\n",
      "0.3484848484848485     0.5612196283944736\n",
      "0.35151515151515156     0.5613196270619172\n",
      "0.35454545454545455     0.5615633617072293\n",
      "0.35757575757575755     0.5606644198363023\n",
      "0.3606060606060606     0.5603281853281853\n",
      "0.36363636363636365     0.5594676346037507\n",
      "0.3666666666666667     0.5589021131892153\n",
      "0.36969696969696975     0.558956224850628\n",
      "0.37272727272727274     0.5581793710999633\n",
      "0.37575757575757573     0.5560604199926317\n",
      "0.3787878787878788     0.5552135910377939\n",
      "0.38181818181818183     0.5546218487394958\n",
      "0.3848484848484849     0.5541630475245066\n",
      "0.3878787878787879     0.5548354935194416\n",
      "0.39090909090909093     0.5547996976568406\n",
      "0.3939393939393939     0.5540250221155061\n",
      "0.396969696969697     0.5512918905090816\n",
      "0.4     0.5500257864878804\n",
      "0.40303030303030307     0.5487345879299156\n",
      "0.40606060606060607     0.5474671181143379\n",
      "0.40909090909090906     0.5460010454783063\n",
      "0.4121212121212121     0.5448818897637796\n",
      "0.41515151515151516     0.5432001055269753\n",
      "0.4181818181818182     0.5423997883317899\n",
      "0.42121212121212126     0.5410858887561396\n",
      "0.42424242424242425     0.5389237548404326\n",
      "0.42727272727272725     0.5363953800698361\n",
      "0.4303030303030303     0.534842970750775\n",
      "0.43333333333333335     0.5328101745365985\n",
      "0.4363636363636364     0.5317589576547233\n",
      "0.4393939393939394     0.5294838621816695\n",
      "0.44242424242424244     0.5277967490779948\n",
      "0.44545454545454544     0.5271955062337306\n",
      "0.4484848484848485     0.5256216513257316\n",
      "0.45151515151515154     0.5230090934141637\n",
      "0.45454545454545453     0.522472687041903\n",
      "0.4575757575757576     0.5209173036831133\n",
      "0.46060606060606063     0.5181982987031097\n",
      "0.4636363636363636     0.5170677112479014\n",
      "0.4666666666666667     0.5159842961301178\n",
      "0.4696969696969697     0.5146955421178456\n",
      "0.4727272727272727     0.5124153498871332\n",
      "0.47575757575757577     0.5128640090472152\n",
      "0.4787878787878788     0.510988231958032\n",
      "0.4818181818181818     0.5086096484986481\n",
      "0.48484848484848486     0.507782378980437\n",
      "0.4878787878787879     0.5068041827818364\n",
      "0.4909090909090909     0.5052389837806803\n",
      "0.49393939393939396     0.5023778642455685\n",
      "0.496969696969697     0.5008670520231213\n",
      "0.5     0.49949326769943536\n"
     ]
    }
   ],
   "source": [
    "for thr in np.linspace(0.2, 0.5, 100):\n",
    "    print ('{0}     {1}'.format(thr, f1_score(y_train, utils.predict_with_threshold(xgb, X_train, thr))))"
   ]
  },
  {
   "cell_type": "code",
   "execution_count": 161,
   "metadata": {
    "collapsed": true
   },
   "outputs": [],
   "source": [
    "from sklearn.model_selection import KFold"
   ]
  },
  {
   "cell_type": "code",
   "execution_count": 162,
   "metadata": {
    "collapsed": true
   },
   "outputs": [],
   "source": [
    "kfold = KFold(10)"
   ]
  },
  {
   "cell_type": "code",
   "execution_count": 164,
   "metadata": {},
   "outputs": [
    {
     "data": {
      "text/plain": [
       "<generator object _BaseKFold.split at 0x118062e60>"
      ]
     },
     "execution_count": 164,
     "metadata": {},
     "output_type": "execute_result"
    }
   ],
   "source": [
    "kfold.split(X,y)"
   ]
  },
  {
   "cell_type": "code",
   "execution_count": 166,
   "metadata": {
    "collapsed": true
   },
   "outputs": [],
   "source": [
    "train = pd.read_csv('data/train_all_features.csv')\n",
    "X = train.drop(['CUST_COD', 'DEFAULT PAYMENT JAN'], axis=1)\n",
    "y = train['DEFAULT PAYMENT JAN']"
   ]
  },
  {
   "cell_type": "code",
   "execution_count": 167,
   "metadata": {
    "collapsed": true
   },
   "outputs": [],
   "source": [
    "X_tr, X_tst, y_tr, t_tst = train_test_split(X, y)"
   ]
  },
  {
   "cell_type": "code",
   "execution_count": 169,
   "metadata": {
    "collapsed": true
   },
   "outputs": [],
   "source": [
    "rf = RandomForestClassifier(50)\n",
    "rf.fit(X_tr, y_tr)\n",
    "(thr, score) = utils.get_best_threshold(rf, X_tr, y_tr)"
   ]
  },
  {
   "cell_type": "code",
   "execution_count": 187,
   "metadata": {
    "collapsed": true
   },
   "outputs": [],
   "source": [
    "test_score = f1_score(utils.predict_with_threshold(rf, X_tst, thr-0.15), t_tst)"
   ]
  },
  {
   "cell_type": "code",
   "execution_count": 188,
   "metadata": {},
   "outputs": [
    {
     "data": {
      "text/plain": [
       "(0.45100000000000001, 0.99853620087827955, 0.53467766575007636)"
      ]
     },
     "execution_count": 188,
     "metadata": {},
     "output_type": "execute_result"
    }
   ],
   "source": [
    "thr,score,test_score"
   ]
  },
  {
   "cell_type": "code",
   "execution_count": 196,
   "metadata": {
    "collapsed": true
   },
   "outputs": [],
   "source": [
    "X_tr = X_tr.values\n",
    "y_tr = y_tr.values"
   ]
  },
  {
   "cell_type": "code",
   "execution_count": 195,
   "metadata": {},
   "outputs": [
    {
     "data": {
      "text/plain": [
       "array([ 0.,  1.,  0., ...,  0.,  0.,  0.])"
      ]
     },
     "execution_count": 195,
     "metadata": {},
     "output_type": "execute_result"
    }
   ],
   "source": [
    "y"
   ]
  },
  {
   "cell_type": "code",
   "execution_count": 205,
   "metadata": {},
   "outputs": [
    {
     "name": "stdout",
     "output_type": "stream",
     "text": [
      "0.4601\n"
     ]
    }
   ],
   "source": [
    "thrs = []\n",
    "for tr_idx, val_idx in kfold.split(X_tr, y_tr):\n",
    "    tr = X_tr[tr_idx,:]\n",
    "    val = X_tr[val_idx,:]\n",
    "    tr_y = y_tr[tr_idx]\n",
    "    val_y = y_tr[val_idx]\n",
    "    \n",
    "    thrs.append(utils.get_best_threshold(rf, tr, tr_y)[0])\n",
    "\n",
    "print(np.mean(thrs))"
   ]
  },
  {
   "cell_type": "code",
   "execution_count": 206,
   "metadata": {},
   "outputs": [
    {
     "data": {
      "text/plain": [
       "[0.45100000000000001,\n",
       " 0.48200000000000004,\n",
       " 0.45100000000000001,\n",
       " 0.45100000000000001,\n",
       " 0.48200000000000004,\n",
       " 0.45100000000000001,\n",
       " 0.48200000000000004,\n",
       " 0.45100000000000001,\n",
       " 0.44,\n",
       " 0.46000000000000002]"
      ]
     },
     "execution_count": 206,
     "metadata": {},
     "output_type": "execute_result"
    }
   ],
   "source": [
    "thrs"
   ]
  },
  {
   "cell_type": "code",
   "execution_count": 223,
   "metadata": {},
   "outputs": [
    {
     "data": {
      "text/plain": [
       "0.95583800086169746"
      ]
     },
     "execution_count": 223,
     "metadata": {},
     "output_type": "execute_result"
    }
   ],
   "source": [
    "f1_score(utils.predict_with_threshold(rf, X_tr, 0.50378034222045365/2), y_tr)"
   ]
  },
  {
   "cell_type": "code",
   "execution_count": 224,
   "metadata": {},
   "outputs": [
    {
     "data": {
      "text/plain": [
       "0.50378034222045365"
      ]
     },
     "execution_count": 224,
     "metadata": {},
     "output_type": "execute_result"
    }
   ],
   "source": [
    "f1_score(utils.predict_with_threshold(rf, X_tst, 0.95583800086169746/2), t_tst)"
   ]
  },
  {
   "cell_type": "code",
   "execution_count": 250,
   "metadata": {
    "collapsed": true
   },
   "outputs": [],
   "source": [
    "def get_best_threshold2(model, X, y, metric = f1_score, only_below_50 = True):\n",
    "    probabilities = utils.get_probabilities(model, X)\n",
    "\n",
    "    threshold = np.linspace(0.2, 0.5, 15)\n",
    "\n",
    "    def get_score(threshold, probabilities, y_true):\n",
    "        predicts = 1*(probabilities >= threshold)\n",
    "        return metric(predicts, y_true)\n",
    "\n",
    "    scores = [get_score(t, probabilities, y) for t in threshold]\n",
    "    max_index = scores.index(max(scores))\n",
    "    return threshold[max_index], scores[max_index]\n",
    "\n"
   ]
  },
  {
   "cell_type": "code",
   "execution_count": 251,
   "metadata": {},
   "outputs": [
    {
     "data": {
      "text/plain": [
       "(0.45714285714285713, 0.99853587115666176)"
      ]
     },
     "execution_count": 251,
     "metadata": {},
     "output_type": "execute_result"
    }
   ],
   "source": [
    "get_best_threshold2(rf, X_tr, y_tr)"
   ]
  },
  {
   "cell_type": "code",
   "execution_count": 248,
   "metadata": {},
   "outputs": [
    {
     "name": "stdout",
     "output_type": "stream",
     "text": [
      "430 ms ± 14.6 ms per loop (mean ± std. dev. of 7 runs, 1 loop each)\n"
     ]
    }
   ],
   "source": [
    "%timeit -n 1 utils.get_best_threshold(rf, X_tr, y_tr)"
   ]
  },
  {
   "cell_type": "code",
   "execution_count": 266,
   "metadata": {},
   "outputs": [
    {
     "data": {
      "text/plain": [
       "0.53462441314553999"
      ]
     },
     "execution_count": 266,
     "metadata": {},
     "output_type": "execute_result"
    }
   ],
   "source": [
    "f1_score(utils.predict_with_threshold(rf, X_tst, 0.3), t_tst)"
   ]
  },
  {
   "cell_type": "code",
   "execution_count": 255,
   "metadata": {
    "collapsed": true
   },
   "outputs": [],
   "source": [
    "xgb = XGBClassifier()"
   ]
  },
  {
   "cell_type": "code",
   "execution_count": 256,
   "metadata": {},
   "outputs": [
    {
     "data": {
      "text/plain": [
       "XGBClassifier(base_score=0.5, colsample_bylevel=1, colsample_bytree=1,\n",
       "       gamma=0, learning_rate=0.1, max_delta_step=0, max_depth=3,\n",
       "       min_child_weight=1, missing=None, n_estimators=100, nthread=-1,\n",
       "       objective='binary:logistic', reg_alpha=0, reg_lambda=1,\n",
       "       scale_pos_weight=1, seed=0, silent=True, subsample=1)"
      ]
     },
     "execution_count": 256,
     "metadata": {},
     "output_type": "execute_result"
    }
   ],
   "source": [
    "xgb.fit(X_tr, y_tr)"
   ]
  },
  {
   "cell_type": "code",
   "execution_count": 257,
   "metadata": {},
   "outputs": [
    {
     "data": {
      "text/plain": [
       "(0.24285714285714288, 0.57225606711275334)"
      ]
     },
     "execution_count": 257,
     "metadata": {},
     "output_type": "execute_result"
    }
   ],
   "source": [
    "get_best_threshold2(xgb, X_tr, y_tr)"
   ]
  },
  {
   "cell_type": "code",
   "execution_count": 263,
   "metadata": {},
   "outputs": [
    {
     "data": {
      "text/plain": [
       "0.55620532813515267"
      ]
     },
     "execution_count": 263,
     "metadata": {},
     "output_type": "execute_result"
    }
   ],
   "source": [
    "f1_score(utils.predict_with_threshold(xgb, X_tst.values, 0.290), t_tst.values)"
   ]
  },
  {
   "cell_type": "code",
   "execution_count": 264,
   "metadata": {},
   "outputs": [
    {
     "data": {
      "text/plain": [
       "(0.29043916, 0.5565669700910274)"
      ]
     },
     "execution_count": 264,
     "metadata": {},
     "output_type": "execute_result"
    }
   ],
   "source": [
    "utils.get_best_threshold(xgb, X_tst.values, t_tst.values)"
   ]
  },
  {
   "cell_type": "code",
   "execution_count": 267,
   "metadata": {
    "collapsed": true
   },
   "outputs": [],
   "source": [
    "from sklearn.model_selection import StratifiedKFold"
   ]
  },
  {
   "cell_type": "code",
   "execution_count": 268,
   "metadata": {
    "collapsed": true
   },
   "outputs": [],
   "source": [
    "StratifiedKFold?"
   ]
  },
  {
   "cell_type": "code",
   "execution_count": 269,
   "metadata": {
    "collapsed": true
   },
   "outputs": [],
   "source": [
    "from sklearn.model_selection import StratifiedShuffleSplit"
   ]
  },
  {
   "cell_type": "code",
   "execution_count": 274,
   "metadata": {
    "collapsed": true
   },
   "outputs": [],
   "source": [
    "def optimize_for_threshold(model, X, y, cv=10, random_state = 42, verbose=1):\n",
    "    kfolds = StratifiedKFold(n_splits=cv, random_state=random_state, shuffle=True)\n",
    "    try:\n",
    "        X = X.values\n",
    "        y = y.values\n",
    "    except:\n",
    "        pass\n",
    "    \n",
    "    thrs = []\n",
    "    scores = []\n",
    "    i = 1\n",
    "    for tr_idx, tst_idx in kfolds.split(X, y):\n",
    "        X_tr, y_tr = X[tr_idx], y[tr_idx]\n",
    "        X_tst, y_tst = X[tst_idx], y[tst_idx]\n",
    "        \n",
    "        m = model.fit(X_tr, y_tr)\n",
    "        thr,score = utils.get_best_threshold(m, X_tst, y_tst)\n",
    "        if verbose >= 1:\n",
    "            print(\"Fold #{0} found thr: {1} and score: {2}\".format(i, thr, score))\n",
    "            i+=1\n",
    "\n",
    "        thrs.append(thr)\n",
    "        scores.append(score)\n",
    "    \n",
    "    return thrs, scores"
   ]
  },
  {
   "cell_type": "code",
   "execution_count": null,
   "metadata": {
    "collapsed": true
   },
   "outputs": [],
   "source": []
  },
  {
   "cell_type": "code",
   "execution_count": 26,
   "metadata": {
    "collapsed": true
   },
   "outputs": [],
   "source": [
    "from sklearn.gaussian_process import GaussianProcessClassifier\n",
    "from sklearn.preprocessing import StandardScaler\n",
    "import utils"
   ]
  },
  {
   "cell_type": "code",
   "execution_count": 27,
   "metadata": {
    "collapsed": true
   },
   "outputs": [],
   "source": [
    "X_scaled = StandardScaler().fit_transform(X)"
   ]
  },
  {
   "cell_type": "code",
   "execution_count": 35,
   "metadata": {
    "collapsed": true
   },
   "outputs": [],
   "source": [
    "X_tr = X_scaled[:10000]"
   ]
  },
  {
   "cell_type": "code",
   "execution_count": 36,
   "metadata": {
    "collapsed": true
   },
   "outputs": [],
   "source": [
    "y_tr = y[:10000]"
   ]
  },
  {
   "cell_type": "code",
   "execution_count": 37,
   "metadata": {
    "collapsed": true
   },
   "outputs": [],
   "source": [
    "X_tst = X_scaled[10000:11000]\n",
    "y_tst = y[10000:11000]"
   ]
  },
  {
   "cell_type": "code",
   "execution_count": 38,
   "metadata": {
    "collapsed": true
   },
   "outputs": [],
   "source": [
    "gpc = GaussianProcessClassifier()"
   ]
  },
  {
   "cell_type": "code",
   "execution_count": 39,
   "metadata": {},
   "outputs": [
    {
     "data": {
      "text/plain": [
       "GaussianProcessClassifier(copy_X_train=True, kernel=None,\n",
       "             max_iter_predict=100, multi_class='one_vs_rest', n_jobs=1,\n",
       "             n_restarts_optimizer=0, optimizer='fmin_l_bfgs_b',\n",
       "             random_state=None, warm_start=False)"
      ]
     },
     "execution_count": 39,
     "metadata": {},
     "output_type": "execute_result"
    }
   ],
   "source": [
    "gpc.fit(X_tr, y_tr)"
   ]
  },
  {
   "cell_type": "code",
   "execution_count": 40,
   "metadata": {},
   "outputs": [
    {
     "data": {
      "text/plain": [
       "0.41823056300268097"
      ]
     },
     "execution_count": 40,
     "metadata": {},
     "output_type": "execute_result"
    }
   ],
   "source": [
    "f1_score(y_tst, gpc.predict(X_tst))"
   ]
  },
  {
   "cell_type": "code",
   "execution_count": 41,
   "metadata": {},
   "outputs": [
    {
     "data": {
      "text/plain": [
       "(0.49999999500016618, 0.41518987341772157)"
      ]
     },
     "execution_count": 41,
     "metadata": {},
     "output_type": "execute_result"
    }
   ],
   "source": [
    "utils.get_best_threshold(gpc, X_tst, y_tst)"
   ]
  },
  {
   "cell_type": "code",
   "execution_count": 43,
   "metadata": {
    "collapsed": true
   },
   "outputs": [],
   "source": [
    "rf = RandomForestClassifier(10, random_state=10)"
   ]
  },
  {
   "cell_type": "code",
   "execution_count": 44,
   "metadata": {},
   "outputs": [
    {
     "data": {
      "text/plain": [
       "RandomForestClassifier(bootstrap=True, class_weight=None, criterion='gini',\n",
       "            max_depth=None, max_features='auto', max_leaf_nodes=None,\n",
       "            min_impurity_split=1e-07, min_samples_leaf=1,\n",
       "            min_samples_split=2, min_weight_fraction_leaf=0.0,\n",
       "            n_estimators=10, n_jobs=1, oob_score=False, random_state=10,\n",
       "            verbose=0, warm_start=False)"
      ]
     },
     "execution_count": 44,
     "metadata": {},
     "output_type": "execute_result"
    }
   ],
   "source": [
    "rf.fit(X_tr, y_tr)"
   ]
  },
  {
   "cell_type": "code",
   "execution_count": 52,
   "metadata": {
    "collapsed": true
   },
   "outputs": [],
   "source": [
    "import imp"
   ]
  },
  {
   "cell_type": "code",
   "execution_count": 53,
   "metadata": {},
   "outputs": [
    {
     "data": {
      "text/plain": [
       "<module 'utils' from '/Users/andrea/Documents/workspace/snakesonaplane/utils.py'>"
      ]
     },
     "execution_count": 53,
     "metadata": {},
     "output_type": "execute_result"
    }
   ],
   "source": [
    "imp.reload(utils)"
   ]
  },
  {
   "cell_type": "code",
   "execution_count": 54,
   "metadata": {},
   "outputs": [
    {
     "name": "stdout",
     "output_type": "stream",
     "text": [
      "Fold #1 found thr: 0.4 and score: 0.4742729306487696\n",
      "Fold #2 found thr: 0.4 and score: 0.5208333333333334\n",
      "Fold #3 found thr: 0.4 and score: 0.504\n",
      "Fold #4 found thr: 0.4 and score: 0.5195876288659793\n",
      "Fold #5 found thr: 0.4 and score: 0.49173553719008267\n",
      "Fold #6 found thr: 0.4 and score: 0.5084033613445378\n",
      "Fold #7 found thr: 0.3 and score: 0.5026362038664323\n",
      "Fold #8 found thr: 0.3 and score: 0.4612794612794613\n",
      "Fold #9 found thr: 0.3 and score: 0.47535211267605637\n",
      "Fold #10 found thr: 0.3 and score: 0.48620689655172417\n"
     ]
    },
    {
     "data": {
      "text/plain": [
       "([0.40000000000000002,\n",
       "  0.40000000000000002,\n",
       "  0.40000000000000002,\n",
       "  0.40000000000000002,\n",
       "  0.40000000000000002,\n",
       "  0.40000000000000002,\n",
       "  0.29999999999999999,\n",
       "  0.29999999999999999,\n",
       "  0.29999999999999999,\n",
       "  0.29999999999999999],\n",
       " [0.47427293064876958,\n",
       "  0.52083333333333337,\n",
       "  0.504,\n",
       "  0.51958762886597931,\n",
       "  0.49173553719008267,\n",
       "  0.50840336134453779,\n",
       "  0.50263620386643226,\n",
       "  0.46127946127946129,\n",
       "  0.47535211267605637,\n",
       "  0.48620689655172417])"
      ]
     },
     "execution_count": 54,
     "metadata": {},
     "output_type": "execute_result"
    }
   ],
   "source": [
    "predictions = utils.get_probabilities(rf, X_tst)\n",
    "utils.optimize_for_threshold(rf, X_tr, y_tr)"
   ]
  },
  {
   "cell_type": "code",
   "execution_count": 55,
   "metadata": {
    "collapsed": true
   },
   "outputs": [],
   "source": [
    "best_thr = np.mean(_[0])"
   ]
  },
  {
   "cell_type": "code",
   "execution_count": 56,
   "metadata": {},
   "outputs": [
    {
     "data": {
      "text/plain": [
       "0.35999999999999999"
      ]
     },
     "execution_count": 56,
     "metadata": {},
     "output_type": "execute_result"
    }
   ],
   "source": [
    "best_thr"
   ]
  },
  {
   "cell_type": "code",
   "execution_count": 57,
   "metadata": {},
   "outputs": [
    {
     "data": {
      "text/plain": [
       "0.48458149779735687"
      ]
     },
     "execution_count": 57,
     "metadata": {},
     "output_type": "execute_result"
    }
   ],
   "source": [
    "f1_score(utils.predict_with_threshold(rf, X_tst, best_thr), y_tst)"
   ]
  },
  {
   "cell_type": "code",
   "execution_count": 61,
   "metadata": {},
   "outputs": [
    {
     "data": {
      "text/plain": [
       "0.46875000000000006"
      ]
     },
     "execution_count": 61,
     "metadata": {},
     "output_type": "execute_result"
    }
   ],
   "source": [
    "f1_score(1*(predictions>=0.48333333333333328), y_tst)"
   ]
  },
  {
   "cell_type": "code",
   "execution_count": 60,
   "metadata": {},
   "outputs": [
    {
     "data": {
      "text/plain": [
       "(0.48333333333333328, 0.97658862876254182)"
      ]
     },
     "execution_count": 60,
     "metadata": {},
     "output_type": "execute_result"
    }
   ],
   "source": [
    "utils.get_best_threshold(rf, X_tr, y_tr)"
   ]
  },
  {
   "cell_type": "code",
   "execution_count": 62,
   "metadata": {
    "collapsed": true
   },
   "outputs": [],
   "source": [
    "from sklearn.neighbors import KNeighborsRegressor"
   ]
  },
  {
   "cell_type": "code",
   "execution_count": 63,
   "metadata": {},
   "outputs": [
    {
     "data": {
      "image/png": "[encoded data removed]",
      "text/plain": [
       "<matplotlib.figure.Figure at 0x10c8c10b8>"
      ]
     },
     "metadata": {},
     "output_type": "display_data"
    }
   ],
   "source": [
    "utils.plot_roc_curve(rf, X_tr, y_tr)"
   ]
  },
  {
   "cell_type": "code",
   "execution_count": 64,
   "metadata": {},
   "outputs": [
    {
     "data": {
      "image/png": "[encoded data removed]",
      "text/plain": [
       "<matplotlib.figure.Figure at 0x10d0bd898>"
      ]
     },
     "metadata": {},
     "output_type": "display_data"
    }
   ],
   "source": [
    "utils.plot_roc_curve(rf, X_tst, y_tst)"
   ]
  },
  {
   "cell_type": "code",
   "execution_count": 69,
   "metadata": {
    "collapsed": true
   },
   "outputs": [],
   "source": [
    "from sklearn.metrics import roc_curve, auc"
   ]
  },
  {
   "cell_type": "code",
   "execution_count": 70,
   "metadata": {
    "collapsed": true
   },
   "outputs": [],
   "source": [
    "def get_best_threshold2(model, X, y, metric = f1_score, only_below_50 = True):\n",
    "    probabilities = utils.get_probabilities(model, X)\n",
    "\n",
    "    fpr, tpr, threshold = roc_curve(y, probabilities)\n",
    "\n",
    "    if only_below_50:\n",
    "        threshold = threshold[threshold < 0.5]\n",
    "\n",
    "    def get_score(threshold, probabilities, y_true):\n",
    "        predicts = 1*(probabilities >= threshold)\n",
    "        return metric(predicts, y_true)\n",
    "\n",
    "    scores = [get_score(t, probabilities, y) for t in threshold]\n",
    "    max_index = scores.index(max(scores))\n",
    "\n",
    "    return threshold[max_index], scores[max_index], fpr[max_index], tpr[max_index]"
   ]
  },
  {
   "cell_type": "code",
   "execution_count": 88,
   "metadata": {
    "collapsed": true
   },
   "outputs": [],
   "source": [
    "th, sc, fp, tp = get_best_threshold2(rf, X_tst, y_tst)"
   ]
  },
  {
   "cell_type": "code",
   "execution_count": 89,
   "metadata": {
    "collapsed": true
   },
   "outputs": [],
   "source": [
    "def plot_roc_curve2(model, X, y):\n",
    "    probabilities = utils.get_probabilities(model, X)\n",
    "    fpr, tpr, threshold = roc_curve(y, probabilities)\n",
    "    roc_auc = auc(fpr, tpr)\n",
    "    plt.title('Receiver Operating Characteristic')\n",
    "    plt.plot(fpr, tpr, 'b', label = 'AUC = %0.2f' % roc_auc)\n",
    "    plt.legend(loc = 'lower right')\n",
    "    plt.plot([0, 1], [0, 1],'r--')\n",
    "    plt.xlim([0, 1])\n",
    "    plt.ylim([0, 1])\n",
    "    plt.ylabel('True Positive Rate')\n",
    "    plt.xlabel('False Positive Rate')"
   ]
  },
  {
   "cell_type": "code",
   "execution_count": 90,
   "metadata": {},
   "outputs": [
    {
     "data": {
      "text/plain": [
       "<matplotlib.collections.PathCollection at 0x10e8198d0>"
      ]
     },
     "execution_count": 90,
     "metadata": {},
     "output_type": "execute_result"
    },
    {
     "data": {
      "image/png": "[encoded data removed]",
      "text/plain": [
       "<matplotlib.figure.Figure at 0x10e9d1eb8>"
      ]
     },
     "metadata": {},
     "output_type": "display_data"
    }
   ],
   "source": [
    "f = plt.figure()\n",
    "plot_roc_curve2(rf, X_tst, y_tst)\n",
    "plt.scatter(fp, tp)"
   ]
  },
  {
   "cell_type": "code",
   "execution_count": 85,
   "metadata": {},
   "outputs": [
    {
     "data": {
      "text/plain": [
       "0.0025510204081632651"
      ]
     },
     "execution_count": 85,
     "metadata": {},
     "output_type": "execute_result"
    }
   ],
   "source": [
    "fp"
   ]
  },
  {
   "cell_type": "code",
   "execution_count": 86,
   "metadata": {},
   "outputs": [
    {
     "data": {
      "text/plain": [
       "0.046296296296296294"
      ]
     },
     "execution_count": 86,
     "metadata": {},
     "output_type": "execute_result"
    }
   ],
   "source": [
    "tp"
   ]
  },
  {
   "cell_type": "code",
   "execution_count": 87,
   "metadata": {},
   "outputs": [
    {
     "data": {
      "text/plain": [
       "0.29999999999999999"
      ]
     },
     "execution_count": 87,
     "metadata": {},
     "output_type": "execute_result"
    }
   ],
   "source": [
    "th"
   ]
  },
  {
   "cell_type": "code",
   "execution_count": 108,
   "metadata": {},
   "outputs": [
    {
     "data": {
      "text/plain": [
       "0.48484848484848492"
      ]
     },
     "execution_count": 108,
     "metadata": {},
     "output_type": "execute_result"
    }
   ],
   "source": [
    "sc"
   ]
  },
  {
   "cell_type": "code",
   "execution_count": 91,
   "metadata": {
    "collapsed": true
   },
   "outputs": [],
   "source": [
    "fpr, tpr, threshold = roc_curve(y_tst, utils.get_probabilities(rf, X_tst))"
   ]
  },
  {
   "cell_type": "code",
   "execution_count": 105,
   "metadata": {},
   "outputs": [
    {
     "name": "stderr",
     "output_type": "stream",
     "text": [
      "/Users/andrea/anaconda/envs/mlenv/lib/python3.5/site-packages/sklearn/metrics/classification.py:1113: UndefinedMetricWarning: F-score is ill-defined and being set to 0.0 due to no predicted samples.\n",
      "  'precision', 'predicted', average, warn_for)\n"
     ]
    }
   ],
   "source": [
    "probabilities = utils.get_probabilities(rf, X_tst)\n",
    "f1s = [f1_score(y_tst, utils.predict_with_threshold(rf, X_tst, t)) for t in threshold]"
   ]
  },
  {
   "cell_type": "code",
   "execution_count": 110,
   "metadata": {},
   "outputs": [
    {
     "data": {
      "text/plain": [
       "<matplotlib.legend.Legend at 0x113cecc18>"
      ]
     },
     "execution_count": 110,
     "metadata": {},
     "output_type": "execute_result"
    },
    {
     "data": {
      "image/png": "[encoded data removed]",
      "text/plain": [
       "<matplotlib.figure.Figure at 0x1130816a0>"
      ]
     },
     "metadata": {},
     "output_type": "display_data"
    }
   ],
   "source": [
    "plt.plot(threshold, fpr)\n",
    "plt.plot(threshold, tpr)\n",
    "plt.plot(threshold, f1s)\n",
    "plt.scatter([0.29999], [0.484848])\n",
    "plt.xlabel('Threshold')\n",
    "plt.ylabel('Rate')\n",
    "plt.legend(['False positive rate', 'True positive rate', 'f1 score'])"
   ]
  },
  {
   "cell_type": "code",
   "execution_count": 46,
   "metadata": {},
   "outputs": [
    {
     "data": {
      "text/plain": [
       "<module 'monster' from '/Users/andrea/Documents/workspace/snakesonaplane/monster.py'>"
      ]
     },
     "execution_count": 46,
     "metadata": {},
     "output_type": "execute_result"
    }
   ],
   "source": [
    "import imp\n",
    "imp.reload(utils)\n",
    "imp.reload(monster)"
   ]
  },
  {
   "cell_type": "code",
   "execution_count": 36,
   "metadata": {
    "collapsed": true
   },
   "outputs": [],
   "source": [
    "from sklearn.decomposition import PCA, KernelPCA, RandomizedPCA"
   ]
  },
  {
   "cell_type": "code",
   "execution_count": 39,
   "metadata": {},
   "outputs": [],
   "source": [
    "import utils\n",
    "import pandas as pd\n",
    "import numpy as np\n",
    "import monster\n",
    "from sklearn.ensemble import RandomForestClassifier, AdaBoostClassifier\n",
    "from sklearn.neural_network import MLPClassifier\n",
    "from xgboost import XGBClassifier\n",
    "import pickle\n",
    "\n",
    "RANDOM_SEED = 23423\n",
    "\n",
    "params_rf = {\n",
    "        'n_estimators' : [120],\n",
    "        'min_samples_leaf' : [6],\n",
    "        'min_samples_split' : [17],\n",
    "        'n_jobs' : [-1],\n",
    "        'random_state' : [RANDOM_SEED]\n",
    "}\n",
    "\n",
    "params_xgb = {\n",
    "        'base_score' : [0.3],\n",
    "        'max_depth' : [3, 10],\n",
    "        'n_estimators' : [120],\n",
    "        'seed' : [RANDOM_SEED],\n",
    "        'nthread' : [4]\n",
    "}\n",
    "\n",
    "params_ada = {\n",
    "        'n_estimators' : [50],\n",
    "        'learning_rate' : [1.0],\n",
    "        'random_state' : [RANDOM_SEED]\n",
    "}\n",
    "\n",
    "params_mlp = {\n",
    "        'hidden_layer_sizes' : [(100,), (120,)],\n",
    "        'random_state' : [RANDOM_SEED],\n",
    "        'early_stopping' : [True]\n",
    "}\n",
    "\n",
    "\n",
    "train = pd.read_csv('data/train_all_features.csv')\n",
    "X = train.drop(['CUST_COD', 'DEFAULT PAYMENT JAN'], axis=1)\n",
    "y = train['DEFAULT PAYMENT JAN']\n",
    "\n",
    "models = [XGBClassifier, RandomForestClassifier, AdaBoostClassifier]\n",
    "params = [params_xgb, params_rf, params_ada]"
   ]
  },
  {
   "cell_type": "code",
   "execution_count": 40,
   "metadata": {
    "collapsed": true
   },
   "outputs": [],
   "source": [
    "pca = PCA(n_components = 35, random_state=RANDOM_SEED)"
   ]
  },
  {
   "cell_type": "code",
   "execution_count": 41,
   "metadata": {
    "collapsed": true
   },
   "outputs": [],
   "source": [
    "X_pca = pca.fit_transform(X)"
   ]
  },
  {
   "cell_type": "code",
   "execution_count": 42,
   "metadata": {
    "scrolled": true
   },
   "outputs": [
    {
     "name": "stdout",
     "output_type": "stream",
     "text": [
      "Converting y in numpy array\n",
      "Created test holdout. % positive class in test holdout = 0.2211270225032546\n",
      "\n",
      "\n",
      "========== Starting grid search for <class 'xgboost.sklearn.XGBClassifier'> ==========\n",
      "Evaluating model with parameters: {'n_estimators': 120, 'seed': 23423, 'base_score': 0.3, 'nthread': 4, 'max_depth': 3}\n",
      "Training fold #1Fold #1 found thr: 0.27825096249580383 and score: 0.5313568985176739\n",
      "Fold #2 found thr: 0.23507410287857056 and score: 0.5218274111675127\n",
      "Fold #3 found thr: 0.3058130443096161 and score: 0.5651672433679354\n",
      "Fold #4 found thr: 0.27567926049232483 and score: 0.5275675675675676\n",
      "Fold #5 found thr: 0.2618038058280945 and score: 0.5289778714436248\n",
      "Fold #6 found thr: 0.2680959105491638 and score: 0.5305216426193119\n",
      "Fold #7 found thr: 0.2840181887149811 and score: 0.5577777777777778\n",
      "Fold #8 found thr: 0.33891206979751587 and score: 0.5389369592088998\n",
      "Fold #9 found thr: 0.2835380434989929 and score: 0.5083986562150057\n",
      "Fold #10 found thr: 0.2525603473186493 and score: 0.5488180883864336\n",
      "\t0.5568862275449104\n",
      "Training fold #2Fold #1 found thr: 0.2885020673274994 and score: 0.5245901639344263\n",
      "Fold #2 found thr: 0.3061996102333069 and score: 0.5461254612546126\n",
      "Fold #3 found thr: 0.323265016078949 and score: 0.5707376058041111\n",
      "Fold #4 found thr: 0.2613336145877838 and score: 0.547008547008547\n",
      "Fold #5 found thr: 0.2982112467288971 and score: 0.5382830626450116\n",
      "Fold #6 found thr: 0.26559510827064514 and score: 0.5574468085106383\n",
      "Fold #7 found thr: 0.25176170468330383 and score: 0.5412935323383085\n",
      "Fold #8 found thr: 0.282295286655426 and score: 0.5310734463276837\n",
      "Fold #9 found thr: 0.3399675190448761 and score: 0.5356265356265357\n",
      "Fold #10 found thr: 0.27118629217147827 and score: 0.5374732334047109\n",
      "\t0.49586776859504134\n",
      "Training fold #3Fold #1 found thr: 0.27483808994293213 and score: 0.5594713656387666\n",
      "Fold #2 found thr: 0.3060002326965332 and score: 0.5523590333716916\n",
      "Fold #3 found thr: 0.32028743624687195 and score: 0.5727923627684963\n",
      "Fold #4 found thr: 0.31498464941978455 and score: 0.5206124852767962\n",
      "Fold #5 found thr: 0.28078481554985046 and score: 0.5218340611353712\n",
      "Fold #6 found thr: 0.2752911448478699 and score: 0.533044420368364\n",
      "Fold #7 found thr: 0.33010509610176086 and score: 0.5518072289156626\n",
      "Fold #8 found thr: 0.20081084966659546 and score: 0.5210237659963437\n",
      "Fold #9 found thr: 0.2760336697101593 and score: 0.5208791208791209\n",
      "Fold #10 found thr: 0.278812974691391 and score: 0.5594713656387665\n",
      "\t0.5173439048562933\n",
      "Training fold #4Fold #1 found thr: 0.28312715888023376 and score: 0.5380249716231554\n",
      "Fold #2 found thr: 0.3209129869937897 and score: 0.5539568345323742\n",
      "Fold #3 found thr: 0.34382307529449463 and score: 0.5598027127003699\n",
      "Fold #4 found thr: 0.23652604222297668 and score: 0.5645645645645646\n",
      "Fold #5 found thr: 0.2952954173088074 and score: 0.5085518814139112\n",
      "Fold #6 found thr: 0.3446565866470337 and score: 0.527743526510481\n",
      "Fold #7 found thr: 0.29184967279434204 and score: 0.513418903150525\n",
      "Fold #8 found thr: 0.25588059425354004 and score: 0.5442764578833692\n",
      "Fold #9 found thr: 0.2888737916946411 and score: 0.5334796926454446\n",
      "Fold #10 found thr: 0.2909992039203644 and score: 0.5381263616557733\n",
      "\t0.4964964964964965\n",
      "Training fold #5Fold #1 found thr: 0.22202685475349426 and score: 0.5004668534080298\n",
      "Fold #2 found thr: 0.37758180499076843 and score: 0.5161290322580646\n",
      "Fold #3 found thr: 0.22458358108997345 and score: 0.5531496062992126\n",
      "Fold #4 found thr: 0.26571959257125854 and score: 0.5368983957219251\n",
      "Fold #5 found thr: 0.32456427812576294 and score: 0.5260606060606061\n",
      "Fold #6 found thr: 0.28961431980133057 and score: 0.5766590389016019\n",
      "Fold #7 found thr: 0.28414756059646606 and score: 0.5205784204671857\n",
      "Fold #8 found thr: 0.2423974573612213 and score: 0.5450819672131149\n",
      "Fold #9 found thr: 0.2625211477279663 and score: 0.5661202185792349\n",
      "Fold #10 found thr: 0.2324235886335373 and score: 0.5272727272727272\n",
      "\t0.5405405405405405\n",
      "Training fold #6Fold #1 found thr: 0.3097692131996155 and score: 0.5108820160366553\n",
      "Fold #2 found thr: 0.29785698652267456 and score: 0.511296076099881\n",
      "Fold #3 found thr: 0.3226434588432312 and score: 0.5460910151691948\n",
      "Fold #4 found thr: 0.28695088624954224 and score: 0.5434543454345434\n",
      "Fold #5 found thr: 0.30284494161605835 and score: 0.5413711583924349\n",
      "Fold #6 found thr: 0.27092644572257996 and score: 0.534934497816594\n",
      "Fold #7 found thr: 0.27157142758369446 and score: 0.542483660130719\n",
      "Fold #8 found thr: 0.26036036014556885 and score: 0.5265438786565547\n",
      "Fold #9 found thr: 0.3445280194282532 and score: 0.5207823960880196\n",
      "Fold #10 found thr: 0.2612634599208832 and score: 0.5543933054393306\n",
      "\t0.5489404641775983\n",
      "Training fold #7Fold #1 found thr: 0.28056055307388306 and score: 0.5296703296703297\n",
      "Fold #2 found thr: 0.31233134865760803 and score: 0.5107398568019094\n",
      "Fold #3 found thr: 0.34807154536247253 and score: 0.5773195876288659\n",
      "Fold #4 found thr: 0.323352187871933 and score: 0.5423312883435583\n",
      "Fold #5 found thr: 0.27925223112106323 and score: 0.5131578947368421\n",
      "Fold #6 found thr: 0.3508094847202301 and score: 0.5112219451371571\n",
      "Fold #7 found thr: 0.32652270793914795 and score: 0.5397590361445782\n",
      "Fold #8 found thr: 0.24985668063163757 and score: 0.5175257731958763\n",
      "Fold #9 found thr: 0.31534236669540405 and score: 0.5454545454545455\n",
      "Fold #10 found thr: 0.3123593032360077 and score: 0.5363528009535161\n",
      "\t0.53862660944206\n",
      "Training fold #8Fold #1 found thr: 0.25200945138931274 and score: 0.5324813631522897\n",
      "Fold #2 found thr: 0.30495110154151917 and score: 0.5411764705882353\n",
      "Fold #3 found thr: 0.26656824350357056 and score: 0.5139784946236559\n",
      "Fold #4 found thr: 0.26133620738983154 and score: 0.5466101694915255\n",
      "Fold #5 found thr: 0.31772005558013916 and score: 0.521531100478469\n",
      "Fold #6 found thr: 0.32850930094718933 and score: 0.5312868949232586\n",
      "Fold #7 found thr: 0.2613726854324341 and score: 0.5535135135135136\n",
      "Fold #8 found thr: 0.2312851846218109 and score: 0.5145728643216079\n",
      "Fold #9 found thr: 0.2961388826370239 and score: 0.5282583621683968\n",
      "Fold #10 found thr: 0.2801976203918457 and score: 0.5331905781584582\n",
      "\t0.5552297165200392\n",
      "Training fold #9Fold #1 found thr: 0.2733360528945923 and score: 0.553238199780461\n",
      "Fold #2 found thr: 0.32045790553092957 and score: 0.5241545893719807\n",
      "Fold #3 found thr: 0.2972114086151123 and score: 0.5386363636363636\n",
      "Fold #4 found thr: 0.2819184958934784 and score: 0.5154185022026432\n",
      "Fold #5 found thr: 0.2815971076488495 and score: 0.5149171270718232\n",
      "Fold #6 found thr: 0.33490586280822754 and score: 0.5547445255474451\n",
      "Fold #7 found thr: 0.23433515429496765 and score: 0.5449041372351161\n",
      "Fold #8 found thr: 0.2430003136396408 and score: 0.5160642570281124\n",
      "Fold #9 found thr: 0.20907022058963776 and score: 0.5406427221172023\n",
      "Fold #10 found thr: 0.3084324598312378 and score: 0.5406643757159221\n",
      "\t0.5579567779960707\n",
      "Training fold #10Fold #1 found thr: 0.28416767716407776 and score: 0.5302013422818791\n",
      "Fold #2 found thr: 0.2742574214935303 and score: 0.5107344632768361\n",
      "Fold #3 found thr: 0.26350802183151245 and score: 0.5410526315789475\n",
      "Fold #4 found thr: 0.23741088807582855 and score: 0.5487077534791253\n",
      "Fold #5 found thr: 0.2818319499492645 and score: 0.5470270270270271\n",
      "Fold #6 found thr: 0.32581451535224915 and score: 0.5454545454545454\n",
      "Fold #7 found thr: 0.29447251558303833 and score: 0.5598141695702672\n",
      "Fold #8 found thr: 0.25579237937927246 and score: 0.5384615384615385\n",
      "Fold #9 found thr: 0.3160765469074249 and score: 0.5274212368728122\n",
      "Fold #10 found thr: 0.26119786500930786 and score: 0.5142857142857143\n",
      "\t0.48715313463514903\n",
      "Evaluating model with parameters: {'n_estimators': 120, 'seed': 23423, 'base_score': 0.3, 'nthread': 4, 'max_depth': 10}\n",
      "Training fold #1Fold #1 found thr: 0.25855642557144165 and score: 0.5136741973840666\n",
      "Fold #2 found thr: 0.23329123854637146 and score: 0.512987012987013\n",
      "Fold #3 found thr: 0.20499807596206665 and score: 0.5303186022610483\n",
      "Fold #4 found thr: 0.2963647246360779 and score: 0.503562945368171\n",
      "Fold #5 found thr: 0.2273222655057907 and score: 0.5141065830721003\n",
      "Fold #6 found thr: 0.2594475746154785 and score: 0.5101311084624554\n",
      "Fold #7 found thr: 0.27262380719184875 and score: 0.5300353356890459\n",
      "Fold #8 found thr: 0.2860318422317505 and score: 0.5200945626477541\n"
     ]
    },
    {
     "name": "stdout",
     "output_type": "stream",
     "text": [
      "Fold #9 found thr: 0.16240324079990387 and score: 0.48964218455743885\n",
      "Fold #10 found thr: 0.1972585916519165 and score: 0.542713567839196\n",
      "\t0.5347912524850894\n",
      "Training fold #2Fold #1 found thr: 0.27483105659484863 and score: 0.5199543899657924\n",
      "Fold #2 found thr: 0.25425463914871216 and score: 0.5538818076477404\n",
      "Fold #3 found thr: 0.3069075047969818 and score: 0.5551425030978934\n",
      "Fold #4 found thr: 0.29627466201782227 and score: 0.5374233128834355\n",
      "Fold #5 found thr: 0.19845712184906006 and score: 0.5098855359001041\n",
      "Fold #6 found thr: 0.20642942190170288 and score: 0.5414937759336099\n",
      "Fold #7 found thr: 0.2369464635848999 and score: 0.5122210414452709\n",
      "Fold #8 found thr: 0.25135257840156555 and score: 0.5237543453070684\n",
      "Fold #9 found thr: 0.2322131246328354 and score: 0.5339168490153173\n",
      "Fold #10 found thr: 0.2712777256965637 and score: 0.5424912689173458\n",
      "\t0.47715736040609136\n",
      "Training fold #3Fold #1 found thr: 0.3014654517173767 and score: 0.5524728588661036\n",
      "Fold #2 found thr: 0.18706321716308594 and score: 0.5229540918163672\n",
      "Fold #3 found thr: 0.24078482389450073 and score: 0.5438972162740899\n",
      "Fold #4 found thr: 0.17968091368675232 and score: 0.5024061597690087\n",
      "Fold #5 found thr: 0.2891080379486084 and score: 0.5131264916467781\n",
      "Fold #6 found thr: 0.18928465247154236 and score: 0.5124626121635094\n",
      "Fold #7 found thr: 0.23421403765678406 and score: 0.544290288153682\n",
      "Fold #8 found thr: 0.13928371667861938 and score: 0.502092050209205\n",
      "Fold #9 found thr: 0.2714238464832306 and score: 0.5023255813953489\n",
      "Fold #10 found thr: 0.2445266842842102 and score: 0.5363636363636364\n",
      "\t0.5169811320754716\n",
      "Training fold #4Fold #1 found thr: 0.20858405530452728 and score: 0.504149377593361\n",
      "Fold #2 found thr: 0.2615121901035309 and score: 0.544\n",
      "Fold #3 found thr: 0.2415907233953476 and score: 0.546236559139785\n",
      "Fold #4 found thr: 0.2986231744289398 and score: 0.5568720379146919\n",
      "Fold #5 found thr: 0.2390318363904953 and score: 0.4704570791527314\n",
      "Fold #6 found thr: 0.20562708377838135 and score: 0.540763673890609\n",
      "Fold #7 found thr: 0.3203921914100647 and score: 0.5081761006289308\n",
      "Fold #8 found thr: 0.22457453608512878 and score: 0.5480349344978166\n",
      "Fold #9 found thr: 0.3167368769645691 and score: 0.5283474065138721\n",
      "Fold #10 found thr: 0.33155909180641174 and score: 0.521951219512195\n",
      "\t0.48834853090172237\n",
      "Training fold #5Fold #1 found thr: 0.28302088379859924 and score: 0.4976190476190476\n",
      "Fold #2 found thr: 0.24760745465755463 and score: 0.5264341957255343\n",
      "Fold #3 found thr: 0.2889876961708069 and score: 0.5341317365269461\n",
      "Fold #4 found thr: 0.25384268164634705 and score: 0.5328798185941043\n",
      "Fold #5 found thr: 0.27475473284721375 and score: 0.5145631067961165\n",
      "Fold #6 found thr: 0.1771286576986313 and score: 0.539651837524178\n",
      "Fold #7 found thr: 0.332267165184021 and score: 0.5404040404040403\n",
      "Fold #8 found thr: 0.20647279918193817 and score: 0.5128733264675592\n",
      "Fold #9 found thr: 0.2552404999732971 and score: 0.5547785547785548\n",
      "Fold #10 found thr: 0.2177031934261322 and score: 0.5218295218295218\n",
      "\t0.5097636176772867\n",
      "Training fold #6Fold #1 found thr: 0.2166663110256195 and score: 0.4907975460122699\n",
      "Fold #2 found thr: 0.15724967420101166 and score: 0.5045207956600362\n",
      "Fold #3 found thr: 0.2545609176158905 and score: 0.5176991150442478\n",
      "Fold #4 found thr: 0.24131081998348236 and score: 0.5274725274725274\n",
      "Fold #5 found thr: 0.3078969120979309 and score: 0.5431789737171464\n",
      "Fold #6 found thr: 0.22385041415691376 and score: 0.5368983957219251\n",
      "Fold #7 found thr: 0.2952299416065216 and score: 0.5414091470951793\n",
      "Fold #8 found thr: 0.20868487656116486 and score: 0.5189873417721519\n",
      "Fold #9 found thr: 0.289329469203949 and score: 0.5271676300578035\n",
      "Fold #10 found thr: 0.215967059135437 and score: 0.5288562434417627\n",
      "\t0.5380116959064327\n",
      "Training fold #7Fold #1 found thr: 0.2099875807762146 and score: 0.5343035343035344\n",
      "Fold #2 found thr: 0.21053874492645264 and score: 0.5063829787234043\n",
      "Fold #3 found thr: 0.26242563128471375 and score: 0.5591397849462365\n",
      "Fold #4 found thr: 0.2599027454853058 and score: 0.531500572737686\n",
      "Fold #5 found thr: 0.20873497426509857 and score: 0.4863157894736842\n",
      "Fold #6 found thr: 0.22974179685115814 and score: 0.5238095238095238\n",
      "Fold #7 found thr: 0.24435056746006012 and score: 0.5290178571428572\n",
      "Fold #8 found thr: 0.27093052864074707 and score: 0.513953488372093\n",
      "Fold #9 found thr: 0.26629000902175903 and score: 0.5382830626450116\n",
      "Fold #10 found thr: 0.21434873342514038 and score: 0.5241675617615467\n",
      "\t0.5239043824701196\n",
      "Training fold #8Fold #1 found thr: 0.25357985496520996 and score: 0.5162790697674419\n",
      "Fold #2 found thr: 0.1977950632572174 and score: 0.5343189017951425\n",
      "Fold #3 found thr: 0.27392181754112244 and score: 0.4970828471411902\n",
      "Fold #4 found thr: 0.24639979004859924 and score: 0.5523590333716916\n",
      "Fold #5 found thr: 0.2796154022216797 and score: 0.504739336492891\n",
      "Fold #6 found thr: 0.3466411530971527 and score: 0.5259067357512954\n",
      "Fold #7 found thr: 0.24407276511192322 and score: 0.5325842696629213\n",
      "Fold #8 found thr: 0.2969871163368225 and score: 0.5\n",
      "Fold #9 found thr: 0.21989847719669342 and score: 0.5460385438972163\n",
      "Fold #10 found thr: 0.24573642015457153 and score: 0.5257510729613735\n",
      "\t0.5215646940822467\n",
      "Training fold #9Fold #1 found thr: 0.267294704914093 and score: 0.5568445475638052\n",
      "Fold #2 found thr: 0.24420955777168274 and score: 0.4948921679909194\n",
      "Fold #3 found thr: 0.26039016246795654 and score: 0.5255972696245734\n",
      "Fold #4 found thr: 0.2447233647108078 and score: 0.504566210045662\n",
      "Fold #5 found thr: 0.2704196870326996 and score: 0.5135453474676088\n",
      "Fold #6 found thr: 0.2739056348800659 and score: 0.5217391304347826\n",
      "Fold #7 found thr: 0.21162529289722443 and score: 0.5411522633744856\n",
      "Fold #8 found thr: 0.18209153413772583 and score: 0.5018867924528302\n",
      "Fold #9 found thr: 0.32801881432533264 and score: 0.5281602002503129\n",
      "Fold #10 found thr: 0.2541564106941223 and score: 0.5395033860045148\n",
      "\t0.5252525252525252\n",
      "Training fold #10Fold #1 found thr: 0.2134637087583542 and score: 0.5156576200417536\n",
      "Fold #2 found thr: 0.3081585764884949 and score: 0.5076923076923077\n",
      "Fold #3 found thr: 0.2761624753475189 and score: 0.5471923536439665\n",
      "Fold #4 found thr: 0.2799159586429596 and score: 0.5399768250289687\n",
      "Fold #5 found thr: 0.3169132471084595 and score: 0.5140073081607796\n",
      "Fold #6 found thr: 0.1985822468996048 and score: 0.5338725985844287\n",
      "Fold #7 found thr: 0.2783682644367218 and score: 0.5299760191846522\n",
      "Fold #8 found thr: 0.24146288633346558 and score: 0.5204301075268818\n",
      "Fold #9 found thr: 0.23525521159172058 and score: 0.5254054054054054\n",
      "Fold #10 found thr: 0.2760876417160034 and score: 0.4897025171624714\n",
      "\t0.49462365591397855\n",
      "Evaluation finished\n",
      "Average score values: [0.52950416408042, 0.51303988471709638]\n",
      "========== Ending grid search for <class 'xgboost.sklearn.XGBClassifier'> ==========\n",
      "\n",
      "Best model found is: XGBClassifier(base_score=0.3, colsample_bylevel=1, colsample_bytree=1,\n",
      "       gamma=0, learning_rate=0.1, max_delta_step=0, max_depth=3,\n",
      "       min_child_weight=1, missing=None, n_estimators=120, nthread=4,\n",
      "       objective='binary:logistic', reg_alpha=0, reg_lambda=1,\n",
      "       scale_pos_weight=1, seed=23423, silent=True, subsample=1)\n",
      "Best score training: 0.5363157693672366 - threshold: 0.2861359715461731\n",
      "Best score validation: 0.52950416408042\n",
      "\n",
      "\n",
      "========== Starting grid search for <class 'sklearn.ensemble.forest.RandomForestClassifier'> ==========\n",
      "Evaluating model with parameters: {'random_state': 23423, 'min_samples_split': 17, 'min_samples_leaf': 6, 'n_jobs': -1, 'n_estimators': 120}\n",
      "Training fold #1Fold #1 found thr: 0.306876670796737 and score: 0.5292740046838408\n",
      "Fold #2 found thr: 0.2579851606631147 and score: 0.5236656596173211\n",
      "Fold #3 found thr: 0.2984467033652499 and score: 0.5641592920353983\n",
      "Fold #4 found thr: 0.3221859490097729 and score: 0.5237543453070684\n",
      "Fold #5 found thr: 0.3273023005977352 and score: 0.5333333333333333\n",
      "Fold #6 found thr: 0.28026343377158297 and score: 0.5276872964169381\n",
      "Fold #7 found thr: 0.3068794688510051 and score: 0.5422535211267605\n",
      "Fold #8 found thr: 0.28685989132005524 and score: 0.55779427359491\n",
      "Fold #9 found thr: 0.36071312686232265 and score: 0.49489795918367346\n",
      "Fold #10 found thr: 0.28623896616185984 and score: 0.5536480686695279\n",
      "\t0.5616161616161616\n"
     ]
    },
    {
     "name": "stdout",
     "output_type": "stream",
     "text": [
      "Training fold #2Fold #1 found thr: 0.28695906217162853 and score: 0.5182012847965738\n",
      "Fold #2 found thr: 0.32017878829856994 and score: 0.5476772616136919\n",
      "Fold #3 found thr: 0.32098901597634616 and score: 0.576388888888889\n",
      "Fold #4 found thr: 0.27254117585701293 and score: 0.5448785638859556\n",
      "Fold #5 found thr: 0.343617811421728 and score: 0.532994923857868\n",
      "Fold #6 found thr: 0.33632865713148236 and score: 0.5566265060240965\n",
      "Fold #7 found thr: 0.312104197082593 and score: 0.5303867403314917\n",
      "Fold #8 found thr: 0.3129338133238109 and score: 0.5471478463329452\n",
      "Fold #9 found thr: 0.3360141577847528 and score: 0.535931790499391\n",
      "Fold #10 found thr: 0.33271814736378746 and score: 0.5481120584652863\n",
      "\t0.48562300319488816\n",
      "Training fold #3Fold #1 found thr: 0.2884349411633254 and score: 0.5633802816901409\n",
      "Fold #2 found thr: 0.29090314825240543 and score: 0.533627342888644\n",
      "Fold #3 found thr: 0.3274954426224442 and score: 0.568445475638051\n",
      "Fold #4 found thr: 0.33308533632226056 and score: 0.5268176400476758\n",
      "Fold #5 found thr: 0.2954056018624208 and score: 0.5292171995589855\n",
      "Fold #6 found thr: 0.31767130925780585 and score: 0.5156069364161849\n",
      "Fold #7 found thr: 0.2976670999286554 and score: 0.5511111111111111\n",
      "Fold #8 found thr: 0.23925397686599212 and score: 0.5200372786579683\n",
      "Fold #9 found thr: 0.2759449395455479 and score: 0.5310492505353319\n",
      "Fold #10 found thr: 0.3306863130859307 and score: 0.556390977443609\n",
      "\t0.5151515151515152\n",
      "Training fold #4Fold #1 found thr: 0.2899925726353366 and score: 0.5382932166301969\n",
      "Fold #2 found thr: 0.2698719309692017 and score: 0.5705263157894737\n",
      "Fold #3 found thr: 0.3245245453024458 and score: 0.543757292882147\n",
      "Fold #4 found thr: 0.29871343118891025 and score: 0.5564245810055866\n",
      "Fold #5 found thr: 0.31067902279320203 and score: 0.5122235157159487\n",
      "Fold #6 found thr: 0.32929829917377595 and score: 0.5531914893617021\n",
      "Fold #7 found thr: 0.3130647392216075 and score: 0.5325443786982249\n",
      "Fold #8 found thr: 0.2520509378436085 and score: 0.5511022044088177\n",
      "Fold #9 found thr: 0.2577257283035063 and score: 0.5298804780876495\n",
      "Fold #10 found thr: 0.32204438715398775 and score: 0.5533869115958668\n",
      "\t0.5004868549172345\n",
      "Training fold #5Fold #1 found thr: 0.3619131115758388 and score: 0.5172413793103449\n",
      "Fold #2 found thr: 0.26741892295827036 and score: 0.5229826353421859\n",
      "Fold #3 found thr: 0.33142546873630313 and score: 0.5630354957160343\n",
      "Fold #4 found thr: 0.3384774773601079 and score: 0.5439229843561973\n",
      "Fold #5 found thr: 0.3041490176327238 and score: 0.5230414746543779\n",
      "Fold #6 found thr: 0.30972759173789755 and score: 0.5550351288056207\n",
      "Fold #7 found thr: 0.3626611084976838 and score: 0.5245901639344263\n",
      "Fold #8 found thr: 0.26564198944794365 and score: 0.5554445554445554\n",
      "Fold #9 found thr: 0.2917272115028781 and score: 0.5701357466063348\n",
      "Fold #10 found thr: 0.26319015350130737 and score: 0.5234215885947047\n",
      "\t0.5283018867924529\n",
      "Training fold #6Fold #1 found thr: 0.34317840495050583 and score: 0.5036674816625916\n",
      "Fold #2 found thr: 0.30229285925059285 and score: 0.5248554913294797\n",
      "Fold #3 found thr: 0.31727275977244246 and score: 0.5511811023622047\n",
      "Fold #4 found thr: 0.3317577817386409 and score: 0.5295508274231678\n",
      "Fold #5 found thr: 0.27647122080247044 and score: 0.5429184549356224\n",
      "Fold #6 found thr: 0.2779948373187408 and score: 0.5364806866952789\n",
      "Fold #7 found thr: 0.2952141035467528 and score: 0.5496688741721855\n",
      "Fold #8 found thr: 0.30286264630281523 and score: 0.5363636363636363\n",
      "Fold #9 found thr: 0.2992320252876096 and score: 0.5303867403314917\n",
      "Fold #10 found thr: 0.3482508370149391 and score: 0.5536585365853658\n",
      "\t0.5474974463738508\n",
      "Training fold #7Fold #1 found thr: 0.27645141357881864 and score: 0.5359056806002144\n",
      "Fold #2 found thr: 0.26894707624421416 and score: 0.5199161425576521\n",
      "Fold #3 found thr: 0.3624658031645653 and score: 0.5684485006518905\n",
      "Fold #4 found thr: 0.302834579551151 and score: 0.5331833520809898\n",
      "Fold #5 found thr: 0.3097508482592707 and score: 0.5115207373271888\n",
      "Fold #6 found thr: 0.3156688479124215 and score: 0.5213379469434833\n",
      "Fold #7 found thr: 0.3366659462208339 and score: 0.5404101326899879\n",
      "Fold #8 found thr: 0.3066849597011126 and score: 0.5255972696245734\n",
      "Fold #9 found thr: 0.27073680042186915 and score: 0.5517970401691332\n",
      "Fold #10 found thr: 0.33400522089193585 and score: 0.5535499398315283\n",
      "\t0.5471898197242843\n",
      "Training fold #8Fold #1 found thr: 0.2980829382513125 and score: 0.5608938547486033\n",
      "Fold #2 found thr: 0.3350667560130969 and score: 0.5402010050251257\n",
      "Fold #3 found thr: 0.3196648801062585 and score: 0.5308056872037914\n",
      "Fold #4 found thr: 0.3103369621052836 and score: 0.5488810365135453\n",
      "Fold #5 found thr: 0.3433160750423721 and score: 0.508557457212714\n",
      "Fold #6 found thr: 0.3358802862527902 and score: 0.5497630331753555\n",
      "Fold #7 found thr: 0.30049380322283203 and score: 0.5386363636363636\n",
      "Fold #8 found thr: 0.27994840184396036 and score: 0.5392051557465091\n",
      "Fold #9 found thr: 0.24905400559588134 and score: 0.5328031809145128\n",
      "Fold #10 found thr: 0.3046224653777231 and score: 0.5438786565547129\n",
      "\t0.551654964894684\n",
      "Training fold #9Fold #1 found thr: 0.3019652722691516 and score: 0.5682074408117249\n",
      "Fold #2 found thr: 0.3141725066760385 and score: 0.5041420118343196\n",
      "Fold #3 found thr: 0.29978510644302353 and score: 0.5456545654565457\n",
      "Fold #4 found thr: 0.2764635112016734 and score: 0.5239130434782608\n",
      "Fold #5 found thr: 0.29795017772847304 and score: 0.513904338153504\n",
      "Fold #6 found thr: 0.3502599174825837 and score: 0.5689655172413794\n",
      "Fold #7 found thr: 0.29035688869055004 and score: 0.548847420417124\n",
      "Fold #8 found thr: 0.3336691304565383 and score: 0.5140845070422536\n",
      "Fold #9 found thr: 0.2904403765445596 and score: 0.5522552255225522\n",
      "Fold #10 found thr: 0.3052883828251868 and score: 0.5431818181818182\n",
      "\t0.5556690500510724\n",
      "Training fold #10Fold #1 found thr: 0.26644038537569614 and score: 0.5359749739311783\n",
      "Fold #2 found thr: 0.3395748540480578 and score: 0.532828282828283\n",
      "Fold #3 found thr: 0.27303561842520274 and score: 0.5467928496319663\n",
      "Fold #4 found thr: 0.29763855844142395 and score: 0.5650224215246636\n",
      "Fold #5 found thr: 0.2967079052607034 and score: 0.5422993492407808\n",
      "Fold #6 found thr: 0.2568535959336731 and score: 0.562753036437247\n",
      "Fold #7 found thr: 0.3262025651984371 and score: 0.5565006075334142\n",
      "Fold #8 found thr: 0.3190567108842322 and score: 0.541905855338691\n",
      "Fold #9 found thr: 0.3191195314483414 and score: 0.5309941520467836\n",
      "Fold #10 found thr: 0.3031830060870813 and score: 0.5232163080407701\n",
      "\t0.5067497403946002\n",
      "Evaluation finished\n",
      "Average score values: [0.52999404431107444]\n",
      "========== Ending grid search for <class 'sklearn.ensemble.forest.RandomForestClassifier'> ==========\n",
      "\n",
      "Best model found is: RandomForestClassifier(bootstrap=True, class_weight=None, criterion='gini',\n",
      "            max_depth=None, max_features='auto', max_leaf_nodes=None,\n",
      "            min_impurity_split=1e-07, min_samples_leaf=6,\n",
      "            min_samples_split=17, min_weight_fraction_leaf=0.0,\n",
      "            n_estimators=120, n_jobs=-1, oob_score=False,\n",
      "            random_state=23423, verbose=0, warm_start=False)\n",
      "Best score training: 0.5396014637935522 - threshold: 0.30582351801418317\n",
      "Best score validation: 0.5299940443110744\n",
      "\n",
      "\n",
      "========== Starting grid search for <class 'sklearn.ensemble.weight_boosting.AdaBoostClassifier'> ==========\n",
      "Evaluating model with parameters: {'random_state': 23423, 'learning_rate': 1.0, 'n_estimators': 50}\n",
      "Training fold #1Fold #1 found thr: 0.495482347561173 and score: 0.5169029443838604\n",
      "Fold #2 found thr: 0.4952475334963179 and score: 0.49108079748163697\n",
      "Fold #3 found thr: 0.4947789484994815 and score: 0.5269461077844311\n",
      "Fold #4 found thr: 0.4945708467458459 and score: 0.5024437927663734\n",
      "Fold #5 found thr: 0.4945435162933446 and score: 0.49856184084371996\n",
      "Fold #6 found thr: 0.4963254468346136 and score: 0.5180023228803716\n",
      "Fold #7 found thr: 0.4948292097209329 and score: 0.5004926108374386\n",
      "Fold #8 found thr: 0.49425386842178487 and score: 0.5165562913907285\n",
      "Fold #9 found thr: 0.49572505545230267 and score: 0.48087431693989063\n",
      "Fold #10 found thr: 0.4955025689692651 and score: 0.5110410094637224\n",
      "\t0.5289719626168224\n",
      "Training fold #2Fold #1 found thr: 0.4956130768496712 and score: 0.5113871635610766\n",
      "Fold #2 found thr: 0.49638020391135573 and score: 0.5089605734767025\n"
     ]
    },
    {
     "name": "stdout",
     "output_type": "stream",
     "text": [
      "Fold #3 found thr: 0.49514647554372676 and score: 0.5503634475597092\n",
      "Fold #4 found thr: 0.49482024349922066 and score: 0.5155466399197592\n",
      "Fold #5 found thr: 0.4970048796669455 and score: 0.5080545229244113\n",
      "Fold #6 found thr: 0.4958381417714434 and score: 0.5251641137855579\n",
      "Fold #7 found thr: 0.49502978421569144 and score: 0.5076923076923077\n",
      "Fold #8 found thr: 0.4940232931182838 and score: 0.49661835748792266\n",
      "Fold #9 found thr: 0.4950011486159456 and score: 0.5078369905956114\n",
      "Fold #10 found thr: 0.494818934202061 and score: 0.4990059642147118\n",
      "\t0.46911196911196906\n",
      "Training fold #3Fold #1 found thr: 0.4967156234915007 and score: 0.5306603773584906\n",
      "Fold #2 found thr: 0.4961403490682599 and score: 0.5214521452145214\n",
      "Fold #3 found thr: 0.4956285652880552 and score: 0.5298429319371727\n",
      "Fold #4 found thr: 0.495862278361444 and score: 0.49781659388646293\n",
      "Fold #5 found thr: 0.4943033855812891 and score: 0.5047619047619047\n",
      "Fold #6 found thr: 0.49485623749389757 and score: 0.495575221238938\n",
      "Fold #7 found thr: 0.49571736580523085 and score: 0.5145945945945946\n",
      "Fold #8 found thr: 0.4942242405050228 and score: 0.5038314176245211\n",
      "Fold #9 found thr: 0.495370610722492 and score: 0.5010845986984815\n",
      "Fold #10 found thr: 0.49592568726862507 and score: 0.5143487858719648\n",
      "\t0.49806949806949796\n",
      "Training fold #4Fold #1 found thr: 0.49343099843652843 and score: 0.5053380782918149\n",
      "Fold #2 found thr: 0.4946734075181623 and score: 0.5334665334665334\n",
      "Fold #3 found thr: 0.49499460221628616 and score: 0.5213082259663033\n",
      "Fold #4 found thr: 0.4945751312901342 and score: 0.5547877591312932\n",
      "Fold #5 found thr: 0.4956834096987827 and score: 0.4847161572052402\n",
      "Fold #6 found thr: 0.4955973605472228 and score: 0.5084745762711863\n",
      "Fold #7 found thr: 0.4944108968458995 and score: 0.4960629921259842\n",
      "Fold #8 found thr: 0.4951247367766341 and score: 0.5320715036803364\n",
      "Fold #9 found thr: 0.4959929308606133 and score: 0.4962243797195254\n",
      "Fold #10 found thr: 0.49646348904680426 and score: 0.5055679287305123\n",
      "\t0.45610859728506786\n",
      "Training fold #5Fold #1 found thr: 0.4952225040007215 and score: 0.48214285714285715\n",
      "Fold #2 found thr: 0.4948709610856189 and score: 0.47666335650446867\n",
      "Fold #3 found thr: 0.4946450918755825 and score: 0.5224489795918368\n",
      "Fold #4 found thr: 0.49558878986904564 and score: 0.518279569892473\n",
      "Fold #5 found thr: 0.4957091466122404 and score: 0.506050605060506\n",
      "Fold #6 found thr: 0.49487762913228983 and score: 0.5484199796126401\n",
      "Fold #7 found thr: 0.4962561256691467 and score: 0.4872080088987764\n",
      "Fold #8 found thr: 0.49568226176578606 and score: 0.5446623093681917\n",
      "Fold #9 found thr: 0.49430946919920454 and score: 0.5230166503428012\n",
      "Fold #10 found thr: 0.49579949962694464 and score: 0.5072625698324023\n",
      "\t0.49420849420849416\n",
      "Training fold #6Fold #1 found thr: 0.4935303728708774 and score: 0.4834205933682373\n",
      "Fold #2 found thr: 0.49490805900670937 and score: 0.4917012448132781\n",
      "Fold #3 found thr: 0.49488948017540974 and score: 0.52190847127556\n",
      "Fold #4 found thr: 0.4955835723491484 and score: 0.5238095238095238\n",
      "Fold #5 found thr: 0.4964490110787519 and score: 0.5041031652989449\n",
      "Fold #6 found thr: 0.49531001190649154 and score: 0.5093945720250521\n",
      "Fold #7 found thr: 0.4957146531707815 and score: 0.5203073545554335\n",
      "Fold #8 found thr: 0.4941582742080741 and score: 0.49756097560975615\n",
      "Fold #9 found thr: 0.4956214257224591 and score: 0.4873417721518987\n",
      "Fold #10 found thr: 0.49591913402739396 and score: 0.5411255411255411\n",
      "\t0.5102803738317757\n",
      "Training fold #7Fold #1 found thr: 0.49408953162109714 and score: 0.49767008387698036\n",
      "Fold #2 found thr: 0.4953755125199991 and score: 0.5042553191489362\n",
      "Fold #3 found thr: 0.4955188952499319 and score: 0.5392781316348195\n",
      "Fold #4 found thr: 0.4946871312820079 and score: 0.5083415112855741\n",
      "Fold #5 found thr: 0.49403211858890056 and score: 0.4706994328922495\n",
      "Fold #6 found thr: 0.4948583769586885 and score: 0.5051334702258727\n",
      "Fold #7 found thr: 0.4960399169828346 and score: 0.510250569476082\n",
      "Fold #8 found thr: 0.49588557393322985 and score: 0.49353448275862066\n",
      "Fold #9 found thr: 0.49501408921963513 and score: 0.506930693069307\n",
      "Fold #10 found thr: 0.4940624975871306 and score: 0.524904214559387\n",
      "\t0.5219780219780219\n",
      "Training fold #8Fold #1 found thr: 0.49585993075136736 and score: 0.49385474860335193\n",
      "Fold #2 found thr: 0.49568689049964426 and score: 0.5212527964205816\n",
      "Fold #3 found thr: 0.49588278016015497 and score: 0.4922048997772829\n",
      "Fold #4 found thr: 0.49644538898865476 and score: 0.529616724738676\n",
      "Fold #5 found thr: 0.495808125454518 and score: 0.482532751091703\n",
      "Fold #6 found thr: 0.4956956374961342 and score: 0.5089757127771911\n",
      "Fold #7 found thr: 0.49435948844084854 and score: 0.5014354066985647\n",
      "Fold #8 found thr: 0.4962805857263473 and score: 0.4861111111111111\n",
      "Fold #9 found thr: 0.49446183014552486 and score: 0.511764705882353\n",
      "Fold #10 found thr: 0.49585033605765455 and score: 0.5230439442658091\n",
      "\t0.5220729366602687\n",
      "Training fold #9Fold #1 found thr: 0.4949573609192857 and score: 0.5366357069143446\n",
      "Fold #2 found thr: 0.4954745699510052 and score: 0.49073064340239914\n",
      "Fold #3 found thr: 0.4955989901752206 and score: 0.5021186440677966\n",
      "Fold #4 found thr: 0.4953764193787513 and score: 0.4973319103521878\n",
      "Fold #5 found thr: 0.4940154413113522 and score: 0.49261992619926204\n",
      "Fold #6 found thr: 0.49592910897228876 and score: 0.5128205128205129\n",
      "Fold #7 found thr: 0.49417003537931226 and score: 0.5135135135135135\n",
      "Fold #8 found thr: 0.4943509335341716 and score: 0.48249763481551566\n",
      "Fold #9 found thr: 0.4947155924348556 and score: 0.5035389282103134\n",
      "Fold #10 found thr: 0.49568235383535253 and score: 0.5178764897074757\n",
      "\t0.5157799819657348\n",
      "Training fold #10Fold #1 found thr: 0.4948491909890726 and score: 0.4964824120603015\n",
      "Fold #2 found thr: 0.49478700912482004 and score: 0.48098663926002055\n",
      "Fold #3 found thr: 0.4946578834793536 and score: 0.5191146881287727\n",
      "Fold #4 found thr: 0.4965197974505778 and score: 0.5314685314685315\n",
      "Fold #5 found thr: 0.49490219925991596 and score: 0.5258964143426293\n",
      "Fold #6 found thr: 0.4943113758649205 and score: 0.5201122544434051\n",
      "Fold #7 found thr: 0.4948865409614637 and score: 0.5227272727272727\n",
      "Fold #8 found thr: 0.4963097888980192 and score: 0.5238649592549476\n",
      "Fold #9 found thr: 0.49515012209663173 and score: 0.4979253112033195\n",
      "Fold #10 found thr: 0.4945107858257273 and score: 0.4810126582278481\n",
      "\t0.4809885931558936\n",
      "Evaluation finished\n",
      "Average score values: [0.4997570428883546]\n",
      "========== Ending grid search for <class 'sklearn.ensemble.weight_boosting.AdaBoostClassifier'> ==========\n",
      "\n",
      "Best model found is: AdaBoostClassifier(algorithm='SAMME.R', base_estimator=None,\n",
      "          learning_rate=1.0, n_estimators=50, random_state=23423)\n",
      "Best score training: 0.5090341268346072 - threshold: 0.4952272244107137\n",
      "Best score validation: 0.4997570428883546\n",
      "\n",
      "\n",
      "\n",
      "Best model overall is: {'thresholds': [0.3033751671399435, 0.31743848264117125, 0.2996548108906788, 0.29679655945855821, 0.30963320529509547, 0.30945274759855101, 0.30842114959461925, 0.30764665738115105, 0.30603512703177788, 0.29978127311028491], 'scores_tr': [0.53504677539687728, 0.5438345864696188, 0.53956834939877019, 0.54413303841756144, 0.5398851152764782, 0.53587318318610244, 0.53616667424766418, 0.53936254307312337, 0.53831558881394825, 0.5438287836553779], 'model': RandomForestClassifier(bootstrap=True, class_weight=None, criterion='gini',\n",
      "            max_depth=None, max_features='auto', max_leaf_nodes=None,\n",
      "            min_impurity_split=1e-07, min_samples_leaf=6,\n",
      "            min_samples_split=17, min_weight_fraction_leaf=0.0,\n",
      "            n_estimators=120, n_jobs=-1, oob_score=False,\n",
      "            random_state=23423, verbose=0, warm_start=False), 'avg_score': 0.52999404431107444, 'scores_cv': [0.56161616161616157, 0.48562300319488816, 0.51515151515151525, 0.50048685491723455, 0.52830188679245293, 0.54749744637385078, 0.54718981972428427, 0.55165496489468402, 0.55566905005107237, 0.50674974039460019]}\n",
      "Training on whole train set\n",
      "\n",
      "Final performance on test: 0.5485996705107083\n"
     ]
    }
   ],
   "source": [
    "mst = monster.Monster(models, params, random_state = RANDOM_SEED)\n",
    "mst.fit(X_pca, y)\n",
    "\n",
    "f = open('models_pca_out.pydat', 'wb')\n",
    "pickle.dump(mst, f)\n",
    "f.close()"
   ]
  },
  {
   "cell_type": "code",
   "execution_count": 43,
   "metadata": {
    "scrolled": true
   },
   "outputs": [
    {
     "name": "stdout",
     "output_type": "stream",
     "text": [
      "Converting X in numpy array\n",
      "Converting y in numpy array\n",
      "Created test holdout. % positive class in test holdout = 0.2211270225032546\n",
      "\n",
      "\n",
      "========== Starting grid search for <class 'xgboost.sklearn.XGBClassifier'> ==========\n",
      "Evaluating model with parameters: {'n_estimators': 120, 'seed': 23423, 'base_score': 0.3, 'nthread': 4, 'max_depth': 3}\n",
      "Training fold #1Fold #1 found thr: 0.23910558223724365 and score: 0.5545171339563862\n",
      "Fold #2 found thr: 0.28244155645370483 and score: 0.5190311418685121\n",
      "Fold #3 found thr: 0.2981346547603607 and score: 0.5835240274599542\n",
      "Fold #4 found thr: 0.2299150824546814 and score: 0.5337361530715005\n",
      "Fold #5 found thr: 0.26559019088745117 and score: 0.5444801714898178\n",
      "Fold #6 found thr: 0.24965934455394745 and score: 0.542336548767417\n",
      "Fold #7 found thr: 0.270571231842041 and score: 0.5523385300668151\n",
      "Fold #8 found thr: 0.31981611251831055 and score: 0.555023923444976\n",
      "Fold #9 found thr: 0.32651033997535706 and score: 0.5218446601941749\n",
      "Fold #10 found thr: 0.22091692686080933 and score: 0.5588516746411483\n",
      "\t0.5762711864406779\n",
      "Training fold #2Fold #1 found thr: 0.30126532912254333 and score: 0.5374855824682815\n",
      "Fold #2 found thr: 0.30684322118759155 and score: 0.5592185592185592\n",
      "Fold #3 found thr: 0.26703566312789917 and score: 0.5796460176991151\n",
      "Fold #4 found thr: 0.28828978538513184 and score: 0.5583524027459954\n",
      "Fold #5 found thr: 0.24908456206321716 and score: 0.5476190476190477\n",
      "Fold #6 found thr: 0.28968435525894165 and score: 0.5685164212910533\n",
      "Fold #7 found thr: 0.2832120358943939 and score: 0.5662393162393162\n",
      "Fold #8 found thr: 0.23007088899612427 and score: 0.5505154639175257\n",
      "Fold #9 found thr: 0.23223796486854553 and score: 0.5516528925619835\n",
      "Fold #10 found thr: 0.31949639320373535 and score: 0.5501770956316411\n",
      "\t0.5040650406504066\n",
      "Training fold #3Fold #1 found thr: 0.23113799095153809 and score: 0.5611222444889779\n",
      "Fold #2 found thr: 0.27407699823379517 and score: 0.5615212527964205\n",
      "Fold #3 found thr: 0.3075093924999237 and score: 0.578088578088578\n",
      "Fold #4 found thr: 0.2539713382720947 and score: 0.5385427666314678\n",
      "Fold #5 found thr: 0.24828875064849854 and score: 0.5501551189245089\n",
      "Fold #6 found thr: 0.26854175329208374 and score: 0.5480349344978166\n",
      "Fold #7 found thr: 0.24647995829582214 and score: 0.5523012552301255\n",
      "Fold #8 found thr: 0.22520986199378967 and score: 0.5409181636726548\n",
      "Fold #9 found thr: 0.2861401438713074 and score: 0.5560640732265446\n",
      "Fold #10 found thr: 0.23960500955581665 and score: 0.5560165975103735\n",
      "\t0.5255905511811024\n",
      "Training fold #4Fold #1 found thr: 0.2549724280834198 and score: 0.54525627044711\n",
      "Fold #2 found thr: 0.32093286514282227 and score: 0.5846867749419954\n",
      "Fold #3 found thr: 0.2921377420425415 and score: 0.5612472160356347\n",
      "Fold #4 found thr: 0.3314388394355774 and score: 0.5755743651753326\n",
      "Fold #5 found thr: 0.2326175421476364 and score: 0.526530612244898\n",
      "Fold #6 found thr: 0.26654666662216187 and score: 0.5639913232104121\n",
      "Fold #7 found thr: 0.3125697672367096 and score: 0.5322195704057279\n",
      "Fold #8 found thr: 0.27277514338493347 and score: 0.5596432552954292\n",
      "Fold #9 found thr: 0.2631528377532959 and score: 0.5460317460317461\n",
      "Fold #10 found thr: 0.33899596333503723 and score: 0.5618247298919568\n",
      "\t0.5171026156941649\n",
      "Training fold #5Fold #1 found thr: 0.2566765248775482 and score: 0.5168067226890757\n",
      "Fold #2 found thr: 0.29891300201416016 and score: 0.5334846765039728\n",
      "Fold #3 found thr: 0.2754822373390198 and score: 0.5826771653543308\n",
      "Fold #4 found thr: 0.27840983867645264 and score: 0.5612472160356347\n",
      "Fold #5 found thr: 0.2896139919757843 and score: 0.5422535211267605\n",
      "Fold #6 found thr: 0.2734379172325134 and score: 0.5875706214689265\n",
      "Fold #7 found thr: 0.33296072483062744 and score: 0.5406698564593301\n",
      "Fold #8 found thr: 0.21867312490940094 and score: 0.5525812619502869\n",
      "Fold #9 found thr: 0.25997135043144226 and score: 0.5800865800865801\n",
      "Fold #10 found thr: 0.2511167526245117 and score: 0.5312169312169311\n",
      "\t0.5504587155963303\n",
      "Training fold #6Fold #1 found thr: 0.28166520595550537 and score: 0.5161290322580645\n",
      "Fold #2 found thr: 0.21552440524101257 and score: 0.5402750491159136\n",
      "Fold #3 found thr: 0.30217263102531433 and score: 0.562358276643991\n",
      "Fold #4 found thr: 0.25547948479652405 and score: 0.55625\n",
      "Fold #5 found thr: 0.2556717097759247 and score: 0.5514950166112957\n",
      "Fold #6 found thr: 0.25319841504096985 and score: 0.5559038662486938\n",
      "Fold #7 found thr: 0.2740239202976227 and score: 0.5727272727272728\n",
      "Fold #8 found thr: 0.3144826889038086 and score: 0.5513905683192261\n",
      "Fold #9 found thr: 0.2747085392475128 and score: 0.5562913907284768\n",
      "Fold #10 found thr: 0.3123621344566345 and score: 0.5747392815758979\n",
      "\t0.556\n",
      "Training fold #7Fold #1 found thr: 0.26318278908729553 and score: 0.5474137931034483\n",
      "Fold #2 found thr: 0.29263919591903687 and score: 0.5287356321839081\n",
      "Fold #3 found thr: 0.3081325888633728 and score: 0.5752105896510229\n",
      "Fold #4 found thr: 0.2594192326068878 and score: 0.5553145336225597\n",
      "Fold #5 found thr: 0.24039123952388763 and score: 0.5399792315680165\n",
      "Fold #6 found thr: 0.29057547450065613 and score: 0.5362485615650172\n",
      "Fold #7 found thr: 0.28382551670074463 and score: 0.5479143179255919\n",
      "Fold #8 found thr: 0.2839277982711792 and score: 0.5421822272215973\n",
      "Fold #9 found thr: 0.2887844741344452 and score: 0.5688073394495412\n",
      "Fold #10 found thr: 0.27672630548477173 and score: 0.5567010309278351\n",
      "\t0.5746421267893661\n",
      "Training fold #8Fold #1 found thr: 0.24373295903205872 and score: 0.5518672199170124\n",
      "Fold #2 found thr: 0.2960185408592224 and score: 0.5514792899408284\n",
      "Fold #3 found thr: 0.28355810046195984 and score: 0.5316742081447964\n",
      "Fold #4 found thr: 0.260630339384079 and score: 0.575492341356674\n",
      "Fold #5 found thr: 0.28005561232566833 and score: 0.5312499999999999\n",
      "Fold #6 found thr: 0.2765194773674011 and score: 0.5553097345132745\n",
      "Fold #7 found thr: 0.30874720215797424 and score: 0.5558194774346793\n",
      "Fold #8 found thr: 0.24996230006217957 and score: 0.5466377440347071\n",
      "Fold #9 found thr: 0.2946600914001465 and score: 0.5495283018867925\n",
      "Fold #10 found thr: 0.2830158472061157 and score: 0.5554335894621296\n",
      "\t0.5610236220472442\n",
      "Training fold #9Fold #1 found thr: 0.2585930824279785 and score: 0.5895196506550218\n",
      "Fold #2 found thr: 0.33208057284355164 and score: 0.5206508135168961\n",
      "Fold #3 found thr: 0.24325427412986755 and score: 0.5503634475597092\n",
      "Fold #4 found thr: 0.29032430052757263 and score: 0.5345838218053928\n",
      "Fold #5 found thr: 0.2627760171890259 and score: 0.5340659340659341\n",
      "Fold #6 found thr: 0.34599050879478455 and score: 0.5811320754716981\n",
      "Fold #7 found thr: 0.2512443959712982 and score: 0.5562632696390658\n",
      "Fold #8 found thr: 0.26967158913612366 and score: 0.5365321701199564\n",
      "Fold #9 found thr: 0.3064939081668854 and score: 0.5534441805225652\n",
      "Fold #10 found thr: 0.28923314809799194 and score: 0.5586206896551724\n",
      "\t0.5693877551020408\n",
      "Training fold #10Fold #1 found thr: 0.2625131905078888 and score: 0.553238199780461\n",
      "Fold #2 found thr: 0.2572649121284485 and score: 0.5450597176981541\n",
      "Fold #3 found thr: 0.32467707991600037 and score: 0.5638554216867471\n",
      "Fold #4 found thr: 0.33074790239334106 and score: 0.5735115431348724\n",
      "Fold #5 found thr: 0.2540987730026245 and score: 0.5489361702127661\n",
      "Fold #6 found thr: 0.2744271755218506 and score: 0.5746606334841629\n",
      "Fold #7 found thr: 0.28380876779556274 and score: 0.5793742757821552\n",
      "Fold #8 found thr: 0.2926945388317108 and score: 0.5545454545454545\n",
      "Fold #9 found thr: 0.34107503294944763 and score: 0.5417170495767835\n",
      "Fold #10 found thr: 0.22802084684371948 and score: 0.5272547076313181\n",
      "\t0.5152471083070452\n",
      "Evaluating model with parameters: {'n_estimators': 120, 'seed': 23423, 'base_score': 0.3, 'nthread': 4, 'max_depth': 10}\n",
      "Training fold #1Fold #1 found thr: 0.25709155201911926 and score: 0.5207373271889402\n",
      "Fold #2 found thr: 0.21245361864566803 and score: 0.5194532071503679\n",
      "Fold #3 found thr: 0.2238149642944336 and score: 0.5443298969072166\n",
      "Fold #4 found thr: 0.3368223309516907 and score: 0.5364077669902912\n",
      "Fold #5 found thr: 0.2004680186510086 and score: 0.5196078431372548\n",
      "Fold #6 found thr: 0.2066819816827774 and score: 0.5353535353535354\n",
      "Fold #7 found thr: 0.25654903054237366 and score: 0.5231788079470199\n",
      "Fold #8 found thr: 0.22749750316143036 and score: 0.5522233712512926\n"
     ]
    },
    {
     "name": "stdout",
     "output_type": "stream",
     "text": [
      "Fold #9 found thr: 0.21774055063724518 and score: 0.5020746887966806\n",
      "Fold #10 found thr: 0.26296868920326233 and score: 0.5412541254125411\n",
      "\t0.5314009661835749\n",
      "Training fold #2Fold #1 found thr: 0.24498751759529114 and score: 0.5363735070575462\n",
      "Fold #2 found thr: 0.23517930507659912 and score: 0.5374449339207048\n",
      "Fold #3 found thr: 0.340222030878067 and score: 0.5725094577553593\n",
      "Fold #4 found thr: 0.31121453642845154 and score: 0.5467625899280575\n",
      "Fold #5 found thr: 0.18440450727939606 and score: 0.5296981499513145\n",
      "Fold #6 found thr: 0.28517425060272217 and score: 0.5551684088269454\n",
      "Fold #7 found thr: 0.31934407353401184 and score: 0.5471923536439665\n",
      "Fold #8 found thr: 0.21669407188892365 and score: 0.5491891891891891\n",
      "Fold #9 found thr: 0.2340754270553589 and score: 0.5372168284789645\n",
      "Fold #10 found thr: 0.27286985516548157 and score: 0.5369738339021616\n",
      "\t0.5065856129685917\n",
      "Training fold #3Fold #1 found thr: 0.25951695442199707 and score: 0.5544554455445544\n",
      "Fold #2 found thr: 0.2621091604232788 and score: 0.5444444444444444\n",
      "Fold #3 found thr: 0.36131253838539124 and score: 0.5620253164556961\n",
      "Fold #4 found thr: 0.25531530380249023 and score: 0.5162011173184358\n",
      "Fold #5 found thr: 0.1695004403591156 and score: 0.531104921077066\n",
      "Fold #6 found thr: 0.2911953330039978 and score: 0.5275498241500586\n",
      "Fold #7 found thr: 0.3200078010559082 and score: 0.5392156862745098\n",
      "Fold #8 found thr: 0.20695528388023376 and score: 0.5275590551181102\n",
      "Fold #9 found thr: 0.23643159866333008 and score: 0.5297297297297298\n",
      "Fold #10 found thr: 0.20519933104515076 and score: 0.5402061855670102\n",
      "\t0.5296442687747036\n",
      "Training fold #4Fold #1 found thr: 0.21495752036571503 and score: 0.5266457680250782\n",
      "Fold #2 found thr: 0.30494424700737 and score: 0.5569007263922519\n",
      "Fold #3 found thr: 0.2944619059562683 and score: 0.5508274231678486\n",
      "Fold #4 found thr: 0.27847257256507874 and score: 0.5698070374574348\n",
      "Fold #5 found thr: 0.20547494292259216 and score: 0.4808853118712274\n",
      "Fold #6 found thr: 0.2999776005744934 and score: 0.55906432748538\n",
      "Fold #7 found thr: 0.18769928812980652 and score: 0.5112634671890304\n",
      "Fold #8 found thr: 0.23959408700466156 and score: 0.5403050108932461\n",
      "Fold #9 found thr: 0.2693277895450592 and score: 0.5195968645016797\n",
      "Fold #10 found thr: 0.22722570598125458 and score: 0.5563751317175976\n",
      "\t0.509469696969697\n",
      "Training fold #5Fold #1 found thr: 0.3479984700679779 and score: 0.5085995085995086\n",
      "Fold #2 found thr: 0.2150648981332779 and score: 0.5124131082423039\n",
      "Fold #3 found thr: 0.302346795797348 and score: 0.5697399527186761\n",
      "Fold #4 found thr: 0.29142123460769653 and score: 0.5528455284552846\n",
      "Fold #5 found thr: 0.20049108564853668 and score: 0.5197969543147207\n",
      "Fold #6 found thr: 0.29138636589050293 and score: 0.5524044389642417\n",
      "Fold #7 found thr: 0.2700088620185852 and score: 0.5302530253025303\n",
      "Fold #8 found thr: 0.23520249128341675 and score: 0.5304347826086956\n",
      "Fold #9 found thr: 0.2215258926153183 and score: 0.5543933054393306\n",
      "Fold #10 found thr: 0.2132318913936615 and score: 0.5118679050567596\n",
      "\t0.5348133198789102\n",
      "Training fold #6Fold #1 found thr: 0.202365443110466 and score: 0.49753208292201384\n",
      "Fold #2 found thr: 0.22933541238307953 and score: 0.5235487404162102\n",
      "Fold #3 found thr: 0.3157433569431305 and score: 0.5419664268585132\n",
      "Fold #4 found thr: 0.3373575806617737 and score: 0.5311720698254364\n",
      "Fold #5 found thr: 0.2098560929298401 and score: 0.5397489539748954\n",
      "Fold #6 found thr: 0.22157780826091766 and score: 0.5312820512820513\n",
      "Fold #7 found thr: 0.30606648325920105 and score: 0.5524728588661036\n",
      "Fold #8 found thr: 0.22114284336566925 and score: 0.5221987315010571\n",
      "Fold #9 found thr: 0.21328577399253845 and score: 0.5380710659898478\n",
      "Fold #10 found thr: 0.24865685403347015 and score: 0.5579399141630901\n",
      "\t0.5519287833827894\n",
      "Training fold #7Fold #1 found thr: 0.25747621059417725 and score: 0.5257270693512305\n",
      "Fold #2 found thr: 0.2762213349342346 and score: 0.5017421602787456\n",
      "Fold #3 found thr: 0.2920764088630676 and score: 0.5791962174940899\n",
      "Fold #4 found thr: 0.23443946242332458 and score: 0.544069640914037\n",
      "Fold #5 found thr: 0.2175559550523758 and score: 0.5084033613445378\n",
      "Fold #6 found thr: 0.3328635096549988 and score: 0.5265760197775031\n",
      "Fold #7 found thr: 0.27151694893836975 and score: 0.5430167597765363\n",
      "Fold #8 found thr: 0.16820544004440308 and score: 0.5169569202566453\n",
      "Fold #9 found thr: 0.2883731424808502 and score: 0.5456621004566211\n",
      "Fold #10 found thr: 0.2879765033721924 and score: 0.5397196261682243\n",
      "\t0.5331950207468881\n",
      "Training fold #8Fold #1 found thr: 0.25149279832839966 and score: 0.5360824742268041\n",
      "Fold #2 found thr: 0.25143513083457947 and score: 0.5393258426966292\n",
      "Fold #3 found thr: 0.32298892736434937 and score: 0.5129469790382244\n",
      "Fold #4 found thr: 0.25006505846977234 and score: 0.5563063063063063\n",
      "Fold #5 found thr: 0.25348731875419617 and score: 0.5092091007583966\n",
      "Fold #6 found thr: 0.2483125627040863 and score: 0.5562632696390658\n",
      "Fold #7 found thr: 0.2960602939128876 and score: 0.5480427046263345\n",
      "Fold #8 found thr: 0.2085290104150772 and score: 0.525987525987526\n",
      "Fold #9 found thr: 0.2990850508213043 and score: 0.5443349753694581\n",
      "Fold #10 found thr: 0.2538216710090637 and score: 0.5419354838709678\n",
      "\t0.5566600397614314\n",
      "Training fold #9Fold #1 found thr: 0.27735841274261475 and score: 0.5793103448275861\n",
      "Fold #2 found thr: 0.22398912906646729 and score: 0.49630411826821547\n",
      "Fold #3 found thr: 0.29973796010017395 and score: 0.5320886814469078\n",
      "Fold #4 found thr: 0.19950157403945923 and score: 0.5103734439834025\n",
      "Fold #5 found thr: 0.24688445031642914 and score: 0.5214521452145214\n",
      "Fold #6 found thr: 0.3095865845680237 and score: 0.5655836341756919\n",
      "Fold #7 found thr: 0.28739649057388306 and score: 0.5545243619489559\n",
      "Fold #8 found thr: 0.24742931127548218 and score: 0.510314875135722\n",
      "Fold #9 found thr: 0.2318754494190216 and score: 0.5393013100436682\n",
      "Fold #10 found thr: 0.2564309239387512 and score: 0.5283018867924528\n",
      "\t0.5479999999999999\n",
      "Training fold #10Fold #1 found thr: 0.30708202719688416 and score: 0.5192307692307693\n",
      "Fold #2 found thr: 0.23950059711933136 and score: 0.5324532453245325\n",
      "Fold #3 found thr: 0.3010430932044983 and score: 0.5529841656516444\n",
      "Fold #4 found thr: 0.2793204188346863 and score: 0.5533411488862837\n",
      "Fold #5 found thr: 0.24275390803813934 and score: 0.5289617486338798\n",
      "Fold #6 found thr: 0.295358270406723 and score: 0.5700712589073634\n",
      "Fold #7 found thr: 0.2733408808708191 and score: 0.5345622119815668\n",
      "Fold #8 found thr: 0.2743760645389557 and score: 0.552661381653454\n",
      "Fold #9 found thr: 0.2821737825870514 and score: 0.5377574370709381\n",
      "Fold #10 found thr: 0.2402302622795105 and score: 0.5105438401775805\n",
      "\t0.5111821086261981\n",
      "Evaluation finished\n",
      "Average score values: [0.54497887218083785, 0.53128798172927849]\n",
      "========== Ending grid search for <class 'xgboost.sklearn.XGBClassifier'> ==========\n",
      "\n",
      "Best model found is: XGBClassifier(base_score=0.3, colsample_bylevel=1, colsample_bytree=1,\n",
      "       gamma=0, learning_rate=0.1, max_delta_step=0, max_depth=3,\n",
      "       min_child_weight=1, missing=None, n_estimators=120, nthread=4,\n",
      "       objective='binary:logistic', reg_alpha=0, reg_lambda=1,\n",
      "       scale_pos_weight=1, seed=23423, silent=True, subsample=1)\n",
      "Best score training: 0.5528136031067531 - threshold: 0.27675023674964905\n",
      "Best score validation: 0.5449788721808378\n",
      "\n",
      "\n",
      "========== Starting grid search for <class 'sklearn.ensemble.forest.RandomForestClassifier'> ==========\n",
      "Evaluating model with parameters: {'random_state': 23423, 'min_samples_split': 17, 'min_samples_leaf': 6, 'n_jobs': -1, 'n_estimators': 120}\n",
      "Training fold #1Fold #1 found thr: 0.31099263474616656 and score: 0.5411203814064363\n",
      "Fold #2 found thr: 0.29268244271145344 and score: 0.519362186788155\n",
      "Fold #3 found thr: 0.33503829717377165 and score: 0.580171358629131\n",
      "Fold #4 found thr: 0.31681258814156177 and score: 0.5485714285714285\n",
      "Fold #5 found thr: 0.2806800169896215 and score: 0.5359056806002144\n",
      "Fold #6 found thr: 0.22929493055728212 and score: 0.5259042033235581\n",
      "Fold #7 found thr: 0.3674637280678793 and score: 0.5551330798479087\n",
      "Fold #8 found thr: 0.28144142285507 and score: 0.5573770491803279\n",
      "Fold #9 found thr: 0.30886787554776285 and score: 0.5169590643274854\n",
      "Fold #10 found thr: 0.29208698706146213 and score: 0.5565217391304348\n",
      "\t0.5699693564862104\n"
     ]
    },
    {
     "name": "stdout",
     "output_type": "stream",
     "text": [
      "Training fold #2Fold #1 found thr: 0.2811745940591775 and score: 0.5307855626326965\n",
      "Fold #2 found thr: 0.31759154427127345 and score: 0.5589307411907655\n",
      "Fold #3 found thr: 0.26075204569316895 and score: 0.58125\n",
      "Fold #4 found thr: 0.2867736200803039 and score: 0.5478841870824053\n",
      "Fold #5 found thr: 0.3298449653973601 and score: 0.5508684863523574\n",
      "Fold #6 found thr: 0.30249462374047703 and score: 0.5594405594405594\n",
      "Fold #7 found thr: 0.3513387983476691 and score: 0.5405405405405405\n",
      "Fold #8 found thr: 0.3004543347671452 and score: 0.5390898483080514\n",
      "Fold #9 found thr: 0.23328086142163576 and score: 0.5413385826771654\n",
      "Fold #10 found thr: 0.2799299321314832 and score: 0.5509110396570204\n",
      "\t0.5130784708249497\n",
      "Training fold #3Fold #1 found thr: 0.2854354208334877 and score: 0.5664488017429194\n",
      "Fold #2 found thr: 0.29922832453295 and score: 0.5448430493273543\n",
      "Fold #3 found thr: 0.3669178764238297 and score: 0.5928753180661578\n",
      "Fold #4 found thr: 0.3785129978935982 and score: 0.5345268542199489\n",
      "Fold #5 found thr: 0.2781928368801 and score: 0.5458468176914778\n",
      "Fold #6 found thr: 0.3311709078420983 and score: 0.5461077844311377\n",
      "Fold #7 found thr: 0.2759162771128383 and score: 0.5476190476190477\n",
      "Fold #8 found thr: 0.2788858405209286 and score: 0.5337690631808278\n",
      "Fold #9 found thr: 0.29580414810088485 and score: 0.5324384787472035\n",
      "Fold #10 found thr: 0.2939602493024101 and score: 0.5571913929784824\n",
      "\t0.525441329179647\n",
      "Training fold #4Fold #1 found thr: 0.33149338290509284 and score: 0.5458937198067634\n",
      "Fold #2 found thr: 0.2583787494962543 and score: 0.5873836608066184\n",
      "Fold #3 found thr: 0.33620586347691034 and score: 0.5647058823529412\n",
      "Fold #4 found thr: 0.2834420644390357 and score: 0.5733041575492343\n",
      "Fold #5 found thr: 0.3157581485657471 and score: 0.5029103608847497\n",
      "Fold #6 found thr: 0.32796580924054203 and score: 0.5667060212514758\n",
      "Fold #7 found thr: 0.29644561433196637 and score: 0.5319634703196346\n",
      "Fold #8 found thr: 0.2948238059063851 and score: 0.5638179800221975\n",
      "Fold #9 found thr: 0.2758919368394632 and score: 0.5259809119830329\n",
      "Fold #10 found thr: 0.3506960108800619 and score: 0.547878787878788\n",
      "\t0.5139999999999999\n",
      "Training fold #5Fold #1 found thr: 0.2894928219159791 and score: 0.5166846071044133\n",
      "Fold #2 found thr: 0.31606822851460775 and score: 0.5419501133786849\n",
      "Fold #3 found thr: 0.3089619100331887 and score: 0.5825688073394497\n",
      "Fold #4 found thr: 0.37088111812622454 and score: 0.5743073047858942\n",
      "Fold #5 found thr: 0.3463298721227674 and score: 0.5392405063291139\n",
      "Fold #6 found thr: 0.28242121096282735 and score: 0.5733788395904437\n",
      "Fold #7 found thr: 0.34759552002285926 and score: 0.5367027677496993\n",
      "Fold #8 found thr: 0.21708980494622915 and score: 0.5257352941176471\n",
      "Fold #9 found thr: 0.29323406614872494 and score: 0.5595375722543352\n",
      "Fold #10 found thr: 0.3902170626712792 and score: 0.5314136125654451\n",
      "\t0.5477707006369427\n",
      "Training fold #6Fold #1 found thr: 0.3878274107315636 and score: 0.515802781289507\n",
      "Fold #2 found thr: 0.25783359182641274 and score: 0.533907427341227\n",
      "Fold #3 found thr: 0.29957116388742655 and score: 0.5676855895196506\n",
      "Fold #4 found thr: 0.26173251908343265 and score: 0.5479166666666667\n",
      "Fold #5 found thr: 0.2744775406108769 and score: 0.5420353982300884\n",
      "Fold #6 found thr: 0.26805125451287304 and score: 0.5576519916142557\n",
      "Fold #7 found thr: 0.35644618994619 and score: 0.5778331257783311\n",
      "Fold #8 found thr: 0.29709173691401974 and score: 0.534698521046644\n",
      "Fold #9 found thr: 0.32558232088900957 and score: 0.542654028436019\n",
      "Fold #10 found thr: 0.3410067909133071 and score: 0.5731414868105515\n",
      "\t0.542094455852156\n",
      "Training fold #7Fold #1 found thr: 0.26360461069741226 and score: 0.5473908413205538\n",
      "Fold #2 found thr: 0.29654089967213976 and score: 0.5300113250283125\n",
      "Fold #3 found thr: 0.37223604093356066 and score: 0.5814863102998695\n",
      "Fold #4 found thr: 0.3721019435749957 and score: 0.5521628498727735\n",
      "Fold #5 found thr: 0.28430250556261266 and score: 0.5251396648044693\n",
      "Fold #6 found thr: 0.27765061408206937 and score: 0.5361702127659574\n",
      "Fold #7 found thr: 0.34537803283127066 and score: 0.54632972322503\n",
      "Fold #8 found thr: 0.30849048926742956 and score: 0.5208333333333333\n",
      "Fold #9 found thr: 0.26346884864642917 and score: 0.5498426023084996\n",
      "Fold #10 found thr: 0.3023933464266006 and score: 0.5509259259259259\n",
      "\t0.5612565445026179\n",
      "Training fold #8Fold #1 found thr: 0.2843189649226492 and score: 0.5588235294117647\n",
      "Fold #2 found thr: 0.36704610649456954 and score: 0.5382585751978892\n",
      "Fold #3 found thr: 0.2739570198449564 and score: 0.5304812834224599\n",
      "Fold #4 found thr: 0.3615516845809314 and score: 0.5639686684073106\n",
      "Fold #5 found thr: 0.3204767706759616 and score: 0.5290628706998814\n",
      "Fold #6 found thr: 0.25728413297340624 and score: 0.5492537313432836\n",
      "Fold #7 found thr: 0.25960860534359925 and score: 0.5607476635514018\n",
      "Fold #8 found thr: 0.23768500530149878 and score: 0.533066132264529\n",
      "Fold #9 found thr: 0.3953398895001533 and score: 0.5302826379542396\n",
      "Fold #10 found thr: 0.3336440906513258 and score: 0.5551684088269454\n",
      "\t0.541922290388548\n",
      "Training fold #9Fold #1 found thr: 0.2782874857933308 and score: 0.5860566448801743\n",
      "Fold #2 found thr: 0.28992469494100764 and score: 0.5027932960893854\n",
      "Fold #3 found thr: 0.2833836642950182 and score: 0.5555555555555557\n",
      "Fold #4 found thr: 0.23557680356789712 and score: 0.527363184079602\n",
      "Fold #5 found thr: 0.32711648075175304 and score: 0.5240893066980024\n",
      "Fold #6 found thr: 0.31308004890924035 and score: 0.5684931506849314\n",
      "Fold #7 found thr: 0.3196423711914608 and score: 0.5636792452830189\n",
      "Fold #8 found thr: 0.3292551620585144 and score: 0.52353616532721\n",
      "Fold #9 found thr: 0.30490377843873145 and score: 0.5436013590033976\n",
      "Fold #10 found thr: 0.292646209007261 and score: 0.5531914893617021\n",
      "\t0.5599999999999999\n",
      "Training fold #10Fold #1 found thr: 0.2828950849951168 and score: 0.5466377440347071\n",
      "Fold #2 found thr: 0.3358507769455627 and score: 0.5393258426966292\n",
      "Fold #3 found thr: 0.27768106016591887 and score: 0.567099567099567\n",
      "Fold #4 found thr: 0.32543260259553103 and score: 0.5721040189125296\n",
      "Fold #5 found thr: 0.27697635931835707 and score: 0.5474137931034483\n",
      "Fold #6 found thr: 0.31938478963607964 and score: 0.5694117647058823\n",
      "Fold #7 found thr: 0.294738695628342 and score: 0.556442417331813\n",
      "Fold #8 found thr: 0.3209969176613779 and score: 0.5527522935779817\n",
      "Fold #9 found thr: 0.3138556015122082 and score: 0.5288683602771362\n",
      "Fold #10 found thr: 0.2992339558074841 and score: 0.5307068366164541\n",
      "\t0.5026852846401719\n",
      "Evaluation finished\n",
      "Average score values: [0.53782184325112437]\n",
      "========== Ending grid search for <class 'sklearn.ensemble.forest.RandomForestClassifier'> ==========\n",
      "\n",
      "Best model found is: RandomForestClassifier(bootstrap=True, class_weight=None, criterion='gini',\n",
      "            max_depth=None, max_features='auto', max_leaf_nodes=None,\n",
      "            min_impurity_split=1e-07, min_samples_leaf=6,\n",
      "            min_samples_split=17, min_weight_fraction_leaf=0.0,\n",
      "            n_estimators=120, n_jobs=-1, oob_score=False,\n",
      "            random_state=23423, verbose=0, warm_start=False)\n",
      "Best score training: 0.5477365204777824 - threshold: 0.3054397678926987\n",
      "Best score validation: 0.5378218432511244\n",
      "\n",
      "\n",
      "========== Starting grid search for <class 'sklearn.ensemble.weight_boosting.AdaBoostClassifier'> ==========\n",
      "Evaluating model with parameters: {'random_state': 23423, 'learning_rate': 1.0, 'n_estimators': 50}\n",
      "Training fold #1Fold #1 found thr: 0.4950140786730186 and score: 0.5519553072625699\n",
      "Fold #2 found thr: 0.49619677849790605 and score: 0.5344827586206896\n",
      "Fold #3 found thr: 0.49521920802146435 and score: 0.5763813651137595\n",
      "Fold #4 found thr: 0.49371908446667906 and score: 0.5260058881256134\n",
      "Fold #5 found thr: 0.4952602609848988 and score: 0.532150776053215\n",
      "Fold #6 found thr: 0.4939578642000537 and score: 0.5402650356778798\n",
      "Fold #7 found thr: 0.4962295349248285 and score: 0.5503030303030303\n",
      "Fold #8 found thr: 0.4939951270064606 and score: 0.5449101796407185\n",
      "Fold #9 found thr: 0.49552016005017546 and score: 0.5124716553287981\n",
      "Fold #10 found thr: 0.4940999588497197 and score: 0.5494949494949496\n",
      "\t0.5725725725725725\n",
      "Training fold #2Fold #1 found thr: 0.495365308183339 and score: 0.5263157894736842\n",
      "Fold #2 found thr: 0.4944301806130343 and score: 0.5394736842105262\n"
     ]
    },
    {
     "name": "stdout",
     "output_type": "stream",
     "text": [
      "Fold #3 found thr: 0.49611812491835644 and score: 0.582716049382716\n",
      "Fold #4 found thr: 0.4931806301839039 and score: 0.5328258801141769\n",
      "Fold #5 found thr: 0.4938686518093813 and score: 0.5482866043613707\n",
      "Fold #6 found thr: 0.49541355750941934 and score: 0.5569060773480664\n",
      "Fold #7 found thr: 0.49569370658852596 and score: 0.5572687224669604\n",
      "Fold #8 found thr: 0.49395435189239895 and score: 0.5486542443064182\n",
      "Fold #9 found thr: 0.4937094167679759 and score: 0.5458290422245108\n",
      "Fold #10 found thr: 0.4945718171061651 and score: 0.5228215767634855\n",
      "\t0.4956772334293948\n",
      "Training fold #3Fold #1 found thr: 0.4947876665593523 and score: 0.556854410201913\n",
      "Fold #2 found thr: 0.4938549560960911 and score: 0.5478615071283095\n",
      "Fold #3 found thr: 0.495723464350796 and score: 0.5510907003444316\n",
      "Fold #4 found thr: 0.4935279212113688 and score: 0.5263157894736843\n",
      "Fold #5 found thr: 0.49399809791241606 and score: 0.5527123848515865\n",
      "Fold #6 found thr: 0.4953536602416617 and score: 0.5438401775804661\n",
      "Fold #7 found thr: 0.4956604431599263 and score: 0.543757292882147\n",
      "Fold #8 found thr: 0.4931039801604629 and score: 0.5369127516778524\n",
      "Fold #9 found thr: 0.4955026640721225 and score: 0.5483503981797497\n",
      "Fold #10 found thr: 0.4941369960106526 and score: 0.5654885654885655\n",
      "\t0.520076481835564\n",
      "Training fold #4Fold #1 found thr: 0.4939569019371123 and score: 0.5380604796663191\n",
      "Fold #2 found thr: 0.49544921028472894 and score: 0.5581920903954802\n",
      "Fold #3 found thr: 0.49485112226862243 and score: 0.5530546623794212\n",
      "Fold #4 found thr: 0.49591038350061817 and score: 0.5831435079726651\n",
      "Fold #5 found thr: 0.4926083000009253 and score: 0.49776186213070733\n",
      "Fold #6 found thr: 0.4953092664666718 and score: 0.5634118967452301\n",
      "Fold #7 found thr: 0.49666696731231125 and score: 0.5284848484848486\n",
      "Fold #8 found thr: 0.49446269465901116 and score: 0.5517970401691332\n",
      "Fold #9 found thr: 0.49410802432459533 and score: 0.5440158259149357\n",
      "Fold #10 found thr: 0.4964793194503125 and score: 0.5618497109826589\n",
      "\t0.48519579751671443\n",
      "Training fold #5Fold #1 found thr: 0.49363382739152584 and score: 0.4980769230769231\n",
      "Fold #2 found thr: 0.4945645057345845 and score: 0.5158562367864693\n",
      "Fold #3 found thr: 0.4946429412124377 and score: 0.5646036916395223\n",
      "Fold #4 found thr: 0.4951346794520214 and score: 0.5603543743078626\n",
      "Fold #5 found thr: 0.4944174900302553 and score: 0.528835690968444\n",
      "Fold #6 found thr: 0.49439196328649665 and score: 0.5702393340270551\n",
      "Fold #7 found thr: 0.49504816935219315 and score: 0.5388828039430449\n",
      "Fold #8 found thr: 0.49405446325985103 and score: 0.5392561983471075\n",
      "Fold #9 found thr: 0.4939172307703283 and score: 0.5720040281973816\n",
      "Fold #10 found thr: 0.4951694927212825 and score: 0.5383759733036707\n",
      "\t0.5342333654773385\n",
      "Training fold #6Fold #1 found thr: 0.49366703405819656 and score: 0.5044160942100098\n",
      "Fold #2 found thr: 0.494702810554632 and score: 0.5226019845644984\n",
      "Fold #3 found thr: 0.4953146140188311 and score: 0.5609756097560976\n",
      "Fold #4 found thr: 0.49614320668618217 and score: 0.5413711583924349\n",
      "Fold #5 found thr: 0.494201703276036 and score: 0.5289079229122057\n",
      "Fold #6 found thr: 0.49545969364809633 and score: 0.5494994438264739\n",
      "Fold #7 found thr: 0.49483057282477805 and score: 0.5498938428874734\n",
      "Fold #8 found thr: 0.4949452767189674 and score: 0.5321307779030439\n",
      "Fold #9 found thr: 0.494936739011807 and score: 0.5472312703583062\n",
      "Fold #10 found thr: 0.4955238762845668 and score: 0.5548098434004474\n",
      "\t0.5490584737363727\n",
      "Training fold #7Fold #1 found thr: 0.4949233883235223 and score: 0.5432639649507119\n",
      "Fold #2 found thr: 0.4945835829681046 and score: 0.5173501577287065\n",
      "Fold #3 found thr: 0.49387144355612506 and score: 0.5630676084762866\n",
      "Fold #4 found thr: 0.49611573593681974 and score: 0.5585798816568047\n",
      "Fold #5 found thr: 0.49531318357880727 and score: 0.5135135135135135\n",
      "Fold #6 found thr: 0.4937959361630085 and score: 0.539553752535497\n",
      "Fold #7 found thr: 0.49701655339871065 and score: 0.5477075588599751\n",
      "Fold #8 found thr: 0.496244117421647 and score: 0.5342789598108747\n",
      "Fold #9 found thr: 0.49457481322547825 and score: 0.5486910994764398\n",
      "Fold #10 found thr: 0.4947665895713232 and score: 0.5572687224669604\n",
      "\t0.5547738693467337\n",
      "Training fold #8Fold #1 found thr: 0.49462402576172604 and score: 0.5555555555555557\n",
      "Fold #2 found thr: 0.49475262874741666 and score: 0.5476718403547672\n",
      "Fold #3 found thr: 0.49579125278787395 and score: 0.5277777777777777\n",
      "Fold #4 found thr: 0.49652040600944314 and score: 0.5665859564164649\n",
      "Fold #5 found thr: 0.4957137175027009 and score: 0.5095398428731763\n",
      "Fold #6 found thr: 0.49658118274881063 and score: 0.5552941176470588\n",
      "Fold #7 found thr: 0.49384959248241095 and score: 0.5467336683417084\n",
      "Fold #8 found thr: 0.49502370983151855 and score: 0.5425652667423383\n",
      "Fold #9 found thr: 0.4948777051140462 and score: 0.5367483296213809\n",
      "Fold #10 found thr: 0.49412909051521686 and score: 0.5428859737638748\n",
      "\t0.5527343750000001\n",
      "Training fold #9Fold #1 found thr: 0.4952947055498282 and score: 0.5743016759776536\n",
      "Fold #2 found thr: 0.4942576183415965 and score: 0.5244536940686785\n",
      "Fold #3 found thr: 0.4945907731043699 and score: 0.5346320346320347\n",
      "Fold #4 found thr: 0.4961142270498291 and score: 0.5286236297198538\n",
      "Fold #5 found thr: 0.4938142221372781 and score: 0.5258964143426293\n",
      "Fold #6 found thr: 0.49689425897602335 and score: 0.5745992601726264\n",
      "Fold #7 found thr: 0.49396995046073267 and score: 0.5465346534653466\n",
      "Fold #8 found thr: 0.495955061605354 and score: 0.5241379310344827\n",
      "Fold #9 found thr: 0.494616382951772 and score: 0.5699152542372883\n",
      "Fold #10 found thr: 0.49401164901931965 and score: 0.540041067761807\n",
      "\t0.5574092247301277\n",
      "Training fold #10Fold #1 found thr: 0.496526551681422 and score: 0.5371702637889688\n",
      "Fold #2 found thr: 0.49516027659269407 and score: 0.5472972972972973\n",
      "Fold #3 found thr: 0.49433811028139735 and score: 0.5417095777548919\n",
      "Fold #4 found thr: 0.49689520684886707 and score: 0.5678391959798995\n",
      "Fold #5 found thr: 0.49503596729140126 and score: 0.5537459283387622\n",
      "Fold #6 found thr: 0.49357468574174623 and score: 0.5542168674698795\n",
      "Fold #7 found thr: 0.4947551877421364 and score: 0.5664488017429194\n",
      "Fold #8 found thr: 0.49661318751772954 and score: 0.5391095066185319\n",
      "Fold #9 found thr: 0.49660341171643707 and score: 0.5390070921985816\n",
      "Fold #10 found thr: 0.49469633315884526 and score: 0.5251641137855579\n",
      "\t0.5121693121693122\n",
      "Evaluation finished\n",
      "Average score values: [0.53339007058141308]\n",
      "========== Ending grid search for <class 'sklearn.ensemble.weight_boosting.AdaBoostClassifier'> ==========\n",
      "\n",
      "Best model found is: AdaBoostClassifier(algorithm='SAMME.R', base_estimator=None,\n",
      "          learning_rate=1.0, n_estimators=50, random_state=23423)\n",
      "Best score training: 0.5442027553068928 - threshold: 0.4949245655493403\n",
      "Best score validation: 0.5333900705814131\n",
      "\n",
      "\n",
      "\n",
      "Best model overall is: {'thresholds': [0.27026612, 0.27672201, 0.25809613, 0.28861398, 0.27352554, 0.27392891, 0.27876049, 0.27769002, 0.2849662, 0.28493282], 'scores_tr': [0.54656839649607014, 0.55694227993925183, 0.55427649850674687, 0.55570058636802422, 0.5528594552891829, 0.55375597542288324, 0.54985072572185367, 0.55044919066908937, 0.55151760530114113, 0.55621531735328755], 'model': XGBClassifier(base_score=0.3, colsample_bylevel=1, colsample_bytree=1,\n",
      "       gamma=0, learning_rate=0.1, max_delta_step=0, max_depth=3,\n",
      "       min_child_weight=1, missing=None, n_estimators=120, nthread=4,\n",
      "       objective='binary:logistic', reg_alpha=0, reg_lambda=1,\n",
      "       scale_pos_weight=1, seed=23423, silent=True, subsample=1), 'avg_score': 0.54497887218083785, 'scores_cv': [0.57627118644067787, 0.50406504065040658, 0.52559055118110243, 0.51710261569416494, 0.55045871559633031, 0.55600000000000005, 0.5746421267893661, 0.56102362204724421, 0.56938775510204076, 0.51524710830704523]}\n",
      "Training on whole train set\n",
      "\n",
      "Final performance on test: 0.5492561318858061\n"
     ]
    }
   ],
   "source": [
    "mst2 = monster.Monster(models, params, random_state = RANDOM_SEED)\n",
    "mst2.fit(X, y)\n",
    "\n",
    "f = open('models_out.pydat', 'wb')\n",
    "pickle.dump(mst, f)\n",
    "f.close()"
   ]
  },
  {
   "cell_type": "code",
   "execution_count": 44,
   "metadata": {
    "collapsed": true
   },
   "outputs": [],
   "source": [
    "train_2 = pd.read_csv('data/train_predictedAge.csv')\n",
    "X_2 = train_2.drop(['CUST_COD', 'DEFAULT PAYMENT JAN'], axis=1)\n",
    "y_2 = train_2['DEFAULT PAYMENT JAN']"
   ]
  },
  {
   "cell_type": "code",
   "execution_count": 47,
   "metadata": {
    "scrolled": true
   },
   "outputs": [
    {
     "name": "stdout",
     "output_type": "stream",
     "text": [
      "Converting X in numpy array\n",
      "Converting y in numpy array\n",
      "Created test holdout. % positive class in test holdout = 0.2211270225032546\n",
      "\n",
      "\n",
      "========== Starting grid search for <class 'xgboost.sklearn.XGBClassifier'> ==========\n",
      "Evaluating model with parameters: {'n_estimators': 120, 'seed': 23423, 'base_score': 0.3, 'nthread': 4, 'max_depth': 3}\n",
      "Training fold #1\t0.583078491335372\n",
      "Training fold #2\t0.5028901734104047\n",
      "Training fold #3\t0.5238578680203047\n",
      "Training fold #4\t0.5177865612648221\n",
      "Training fold #5\t0.553626149131767\n",
      "Training fold #6\t0.5506391347099311\n",
      "Training fold #7\t0.5683382497541789\n",
      "Training fold #8\t0.5640038498556303\n",
      "Training fold #9\t0.5666337611056269\n",
      "Training fold #10\t0.5169230769230769\n",
      "Evaluating model with parameters: {'n_estimators': 120, 'seed': 23423, 'base_score': 0.3, 'nthread': 4, 'max_depth': 10}\n",
      "Training fold #1\t0.5369284876905042\n",
      "Training fold #2\t0.47729918509895225\n",
      "Training fold #3\t0.5222348916761688\n",
      "Training fold #4\t0.5051194539249148\n",
      "Training fold #5\t0.5255813953488372\n",
      "Training fold #6\t0.5387205387205387\n",
      "Training fold #7\t0.5404157043879907\n",
      "Training fold #8\t0.5320088300220751\n",
      "Training fold #9\t0.5325581395348837\n",
      "Training fold #10\t0.4780487804878049\n",
      "Evaluation finished\n",
      "Average score values: [0.54477773155111142, 0.51889154068926713]\n",
      "========== Ending grid search for <class 'xgboost.sklearn.XGBClassifier'> ==========\n",
      "\n",
      "Best model found is: XGBClassifier(base_score=0.3, colsample_bylevel=1, colsample_bytree=1,\n",
      "       gamma=0, learning_rate=0.1, max_delta_step=0, max_depth=3,\n",
      "       min_child_weight=1, missing=None, n_estimators=120, nthread=4,\n",
      "       objective='binary:logistic', reg_alpha=0, reg_lambda=1,\n",
      "       scale_pos_weight=1, seed=23423, silent=True, subsample=1)\n",
      "Best score training: 0.5764252262386573 - threshold: 0.26826101541519165\n",
      "Best score validation: 0.5447777315511114\n",
      "\n",
      "\n",
      "========== Starting grid search for <class 'sklearn.ensemble.forest.RandomForestClassifier'> ==========\n",
      "Evaluating model with parameters: {'random_state': 23423, 'min_samples_split': 17, 'min_samples_leaf': 6, 'n_jobs': -1, 'n_estimators': 120}\n",
      "Training fold #1\t0.5688800792864221\n",
      "Training fold #2\t0.511307767944936\n",
      "Training fold #3\t0.5225225225225225\n",
      "Training fold #4\t0.5055147058823529\n",
      "Training fold #5\t0.5474525474525475\n",
      "Training fold #6\t0.5412935323383083\n",
      "Training fold #7\t0.5696846388606307\n",
      "Training fold #8\t0.5398655139289145\n",
      "Training fold #9\t0.5620789220404234\n",
      "Training fold #10\t0.5146316851664985\n",
      "Evaluation finished\n",
      "Average score values: [0.53832319154235564]\n",
      "========== Ending grid search for <class 'sklearn.ensemble.forest.RandomForestClassifier'> ==========\n",
      "\n",
      "Best model found is: RandomForestClassifier(bootstrap=True, class_weight=None, criterion='gini',\n",
      "            max_depth=None, max_features='auto', max_leaf_nodes=None,\n",
      "            min_impurity_split=1e-07, min_samples_leaf=6,\n",
      "            min_samples_split=17, min_weight_fraction_leaf=0.0,\n",
      "            n_estimators=120, n_jobs=-1, oob_score=False,\n",
      "            random_state=23423, verbose=0, warm_start=False)\n",
      "Best score training: 0.7939199203810923 - threshold: 0.28121386048377145\n",
      "Best score validation: 0.5383231915423556\n",
      "\n",
      "\n",
      "========== Starting grid search for <class 'sklearn.ensemble.weight_boosting.AdaBoostClassifier'> ==========\n",
      "Evaluating model with parameters: {'random_state': 23423, 'learning_rate': 1.0, 'n_estimators': 50}\n",
      "Training fold #1\t0.5694980694980695\n",
      "Training fold #2\t0.4913294797687861\n",
      "Training fold #3\t0.5237154150197627\n",
      "Training fold #4\t0.48837209302325585\n",
      "Training fold #5\t0.5371655104063429\n",
      "Training fold #6\t0.5479186834462729\n",
      "Training fold #7\t0.555442522889115\n",
      "Training fold #8\t0.5514563106796115\n",
      "Training fold #9\t0.5589430894308943\n",
      "Training fold #10\t0.5163853028798412\n",
      "Evaluation finished\n",
      "Average score values: [0.53402264770419516]\n",
      "========== Ending grid search for <class 'sklearn.ensemble.weight_boosting.AdaBoostClassifier'> ==========\n",
      "\n",
      "Best model found is: AdaBoostClassifier(algorithm='SAMME.R', base_estimator=None,\n",
      "          learning_rate=1.0, n_estimators=50, random_state=23423)\n",
      "Best score training: 0.5490336591448415 - threshold: 0.494931167054734\n",
      "Best score validation: 0.5340226477041952\n",
      "\n",
      "\n",
      "\n",
      "Best model overall is: {'thresholds': [0.2809377, 0.25333023, 0.27813858, 0.27535987, 0.27321532, 0.26934826, 0.25767782, 0.26174793, 0.26706478, 0.26578972], 'scores_tr': [0.5694616860399504, 0.58033419023136246, 0.57741899316066825, 0.5799554565701559, 0.57773831983131718, 0.57546025796494316, 0.57305299291997425, 0.57678474114441414, 0.57519671949462492, 0.57884890502916253], 'model': XGBClassifier(base_score=0.3, colsample_bylevel=1, colsample_bytree=1,\n",
      "       gamma=0, learning_rate=0.1, max_delta_step=0, max_depth=3,\n",
      "       min_child_weight=1, missing=None, n_estimators=120, nthread=4,\n",
      "       objective='binary:logistic', reg_alpha=0, reg_lambda=1,\n",
      "       scale_pos_weight=1, seed=23423, silent=True, subsample=1), 'avg_score': 0.54477773155111142, 'scores_cv': [0.58307849133537204, 0.50289017341040465, 0.52385786802030465, 0.51778656126482214, 0.553626149131767, 0.55063913470993109, 0.5683382497541789, 0.56400384985563035, 0.56663376110562691, 0.51692307692307693]}\n",
      "Training on whole train set\n",
      "\n",
      "Final performance on test: 0.5519685039370079\n"
     ]
    }
   ],
   "source": [
    "mst3 = monster.Monster(models, params, random_state = RANDOM_SEED)\n",
    "mst3.fit(X_2, y_2)"
   ]
  },
  {
   "cell_type": "code",
   "execution_count": 48,
   "metadata": {
    "scrolled": true
   },
   "outputs": [
    {
     "name": "stdout",
     "output_type": "stream",
     "text": [
      "Converting X in numpy array\n",
      "Converting y in numpy array\n",
      "Created test holdout. % positive class in test holdout = 0.2211270225032546\n",
      "\n",
      "\n",
      "========== Starting grid search for <class 'xgboost.sklearn.XGBClassifier'> ==========\n",
      "Evaluating model with parameters: {'n_estimators': 120, 'seed': 23423, 'base_score': 0.3, 'nthread': 4, 'max_depth': 3}\n",
      "Training fold #1Fold #1 found thr: 0.2265641838312149 and score: 0.5553319919517102\n",
      "Fold #2 found thr: 0.2634095549583435 and score: 0.5242290748898678\n",
      "Fold #3 found thr: 0.2976066470146179 and score: 0.5859728506787331\n",
      "Fold #4 found thr: 0.2405109703540802 and score: 0.5320910973084886\n",
      "Fold #5 found thr: 0.2655239701271057 and score: 0.547568710359408\n",
      "Fold #6 found thr: 0.24733126163482666 and score: 0.5396145610278372\n",
      "Fold #7 found thr: 0.3486451804637909 and score: 0.5575\n",
      "Fold #8 found thr: 0.33492377400398254 and score: 0.5540704738760631\n",
      "Fold #9 found thr: 0.3263910412788391 and score: 0.5218446601941749\n",
      "Fold #10 found thr: 0.2785038650035858 and score: 0.5640473627556511\n",
      "\t0.5825641025641026\n",
      "Training fold #2Fold #1 found thr: 0.2677835524082184 and score: 0.5350877192982456\n",
      "Fold #2 found thr: 0.344583660364151 and score: 0.5588615782664942\n",
      "Fold #3 found thr: 0.34820088744163513 and score: 0.5851197982345523\n",
      "Fold #4 found thr: 0.2882680594921112 and score: 0.5583524027459954\n",
      "Fold #5 found thr: 0.2564989924430847 and score: 0.5478547854785478\n",
      "Fold #6 found thr: 0.2703598439693451 and score: 0.566410537870472\n",
      "Fold #7 found thr: 0.29019394516944885 and score: 0.5674217907227616\n",
      "Fold #8 found thr: 0.25908422470092773 and score: 0.5496688741721855\n",
      "Fold #9 found thr: 0.23943950235843658 and score: 0.5540398740818467\n",
      "Fold #10 found thr: 0.31136566400527954 and score: 0.5568445475638051\n",
      "\t0.5020746887966804\n",
      "Training fold #3Fold #1 found thr: 0.24867667257785797 and score: 0.5603357817418678\n",
      "Fold #2 found thr: 0.281281977891922 and score: 0.5614430665163471\n",
      "Fold #3 found thr: 0.31158649921417236 and score: 0.5764294049008168\n",
      "Fold #4 found thr: 0.2535853385925293 and score: 0.5348837209302325\n",
      "Fold #5 found thr: 0.27131134271621704 and score: 0.5510428100987925\n",
      "Fold #6 found thr: 0.28076499700546265 and score: 0.5427927927927928\n",
      "Fold #7 found thr: 0.2937662899494171 and score: 0.5501165501165501\n",
      "Fold #8 found thr: 0.23124727606773376 and score: 0.5458207452165157\n",
      "Fold #9 found thr: 0.2773764133453369 and score: 0.5589225589225588\n",
      "Fold #10 found thr: 0.2454957664012909 and score: 0.5500526870389885\n",
      "\t0.5259999999999999\n",
      "Training fold #4Fold #1 found thr: 0.21565978229045868 and score: 0.5503489531405783\n",
      "Fold #2 found thr: 0.3059532642364502 and score: 0.5845799769850403\n",
      "Fold #3 found thr: 0.30392563343048096 and score: 0.5630630630630632\n",
      "Fold #4 found thr: 0.33677640557289124 and score: 0.5728155339805824\n",
      "Fold #5 found thr: 0.23590998351573944 and score: 0.5256673511293635\n",
      "Fold #6 found thr: 0.26145175099372864 and score: 0.5622317596566524\n",
      "Fold #7 found thr: 0.34949633479118347 and score: 0.535\n",
      "Fold #8 found thr: 0.2715405523777008 and score: 0.5695067264573992\n",
      "Fold #9 found thr: 0.259687602519989 and score: 0.5450733752620546\n",
      "Fold #10 found thr: 0.36294159293174744 and score: 0.5642946317103621\n",
      "\t0.5257836198179979\n",
      "Training fold #5Fold #1 found thr: 0.26040756702423096 and score: 0.5195353748680043\n",
      "Fold #2 found thr: 0.2514491379261017 and score: 0.535005224660397\n",
      "Fold #3 found thr: 0.28889915347099304 and score: 0.582857142857143\n",
      "Fold #4 found thr: 0.3269132077693939 and score: 0.5652694610778443\n",
      "Fold #5 found thr: 0.28875237703323364 and score: 0.5422535211267605\n",
      "Fold #6 found thr: 0.25352245569229126 and score: 0.5821697099892589\n",
      "Fold #7 found thr: 0.31447988748550415 and score: 0.5362997658079625\n",
      "Fold #8 found thr: 0.24395564198493958 and score: 0.5529290853031861\n",
      "Fold #9 found thr: 0.25529465079307556 and score: 0.5818181818181818\n",
      "Fold #10 found thr: 0.24838608503341675 and score: 0.5331928345626976\n",
      "\t0.553626149131767\n",
      "Training fold #6Fold #1 found thr: 0.24532006680965424 and score: 0.5205761316872428\n",
      "Fold #2 found thr: 0.23661957681179047 and score: 0.5418410041841004\n",
      "Fold #3 found thr: 0.28236302733421326 and score: 0.566410537870472\n",
      "Fold #4 found thr: 0.2985697388648987 and score: 0.5536332179930795\n",
      "Fold #5 found thr: 0.2591891884803772 and score: 0.5535714285714285\n",
      "Fold #6 found thr: 0.2621111571788788 and score: 0.5537806176783813\n",
      "Fold #7 found thr: 0.3572124242782593 and score: 0.5725094577553593\n",
      "Fold #8 found thr: 0.3244630992412567 and score: 0.5496932515337423\n",
      "Fold #9 found thr: 0.27812835574150085 and score: 0.5492801771871539\n",
      "Fold #10 found thr: 0.31784188747406006 and score: 0.5734265734265733\n",
      "\t0.553626149131767\n",
      "Training fold #7Fold #1 found thr: 0.26383769512176514 and score: 0.5444801714898178\n",
      "Fold #2 found thr: 0.24964234232902527 and score: 0.5292887029288703\n",
      "Fold #3 found thr: 0.2761828601360321 and score: 0.5795454545454546\n",
      "Fold #4 found thr: 0.31447988748550415 and score: 0.5559566787003611\n",
      "Fold #5 found thr: 0.24480357766151428 and score: 0.5374077976817703\n",
      "Fold #6 found thr: 0.26523011922836304 and score: 0.5391304347826087\n",
      "Fold #7 found thr: 0.30396944284439087 and score: 0.5497076023391813\n",
      "Fold #8 found thr: 0.26964637637138367 and score: 0.5434782608695653\n",
      "Fold #9 found thr: 0.28487440943717957 and score: 0.5665914221218962\n",
      "Fold #10 found thr: 0.24391625821590424 and score: 0.556854410201913\n",
      "\t0.5676767676767677\n",
      "Training fold #8Fold #1 found thr: 0.3069378733634949 and score: 0.5531400966183575\n",
      "Fold #2 found thr: 0.2929310202598572 and score: 0.5486518171160609\n",
      "Fold #3 found thr: 0.32177069783210754 and score: 0.5314009661835749\n",
      "Fold #4 found thr: 0.2611772418022156 and score: 0.5764192139737991\n",
      "Fold #5 found thr: 0.26762792468070984 and score: 0.5343511450381679\n",
      "Fold #6 found thr: 0.2825641632080078 and score: 0.5567928730512249\n",
      "Fold #7 found thr: 0.28973835706710815 and score: 0.554272517321016\n",
      "Fold #8 found thr: 0.2496752142906189 and score: 0.5446623093681917\n",
      "Fold #9 found thr: 0.2958901822566986 and score: 0.5439624853458382\n",
      "Fold #10 found thr: 0.26486608386039734 and score: 0.5548523206751055\n",
      "\t0.56318407960199\n",
      "Training fold #9Fold #1 found thr: 0.24849151074886322 and score: 0.5897166841552991\n",
      "Fold #2 found thr: 0.24309282004833221 and score: 0.5196182396606576\n",
      "Fold #3 found thr: 0.2359277606010437 and score: 0.5536261491317671\n",
      "Fold #4 found thr: 0.2653948664665222 and score: 0.5333333333333333\n",
      "Fold #5 found thr: 0.2593332827091217 and score: 0.5359477124183006\n",
      "Fold #6 found thr: 0.3676666021347046 and score: 0.5792207792207792\n",
      "Fold #7 found thr: 0.24520745873451233 and score: 0.5588235294117647\n",
      "Fold #8 found thr: 0.2884264588356018 and score: 0.5352743561030235\n",
      "Fold #9 found thr: 0.23309490084648132 and score: 0.5570400822199384\n",
      "Fold #10 found thr: 0.27866485714912415 and score: 0.5511811023622047\n",
      "\t0.5666337611056269\n",
      "Training fold #10Fold #1 found thr: 0.2650057375431061 and score: 0.5500550055005501\n",
      "Fold #2 found thr: 0.2600446939468384 and score: 0.5424476295479603\n",
      "Fold #3 found thr: 0.32327979803085327 and score: 0.5625\n",
      "Fold #4 found thr: 0.3344001770019531 and score: 0.5755743651753326\n",
      "Fold #5 found thr: 0.2865057587623596 and score: 0.5487528344671202\n",
      "Fold #6 found thr: 0.24674353003501892 and score: 0.5762711864406779\n",
      "Fold #7 found thr: 0.2893318235874176 and score: 0.5834305717619603\n",
      "Fold #8 found thr: 0.28516876697540283 and score: 0.5544332210998878\n",
      "Fold #9 found thr: 0.2604239881038666 and score: 0.5427350427350427\n",
      "Fold #10 found thr: 0.21633709967136383 and score: 0.5279383429672446\n",
      "\t0.5135135135135135\n",
      "Evaluating model with parameters: {'n_estimators': 120, 'seed': 23423, 'base_score': 0.3, 'nthread': 4, 'max_depth': 10}\n",
      "Training fold #1Fold #1 found thr: 0.18740208446979523 and score: 0.5238095238095238\n",
      "Fold #2 found thr: 0.2596454620361328 and score: 0.5125858123569794\n",
      "Fold #3 found thr: 0.2041403353214264 and score: 0.5412935323383085\n",
      "Fold #4 found thr: 0.295411080121994 and score: 0.5333333333333333\n",
      "Fold #5 found thr: 0.22946198284626007 and score: 0.526207605344296\n",
      "Fold #6 found thr: 0.2155652493238449 and score: 0.5272914521112255\n",
      "Fold #7 found thr: 0.24168433248996735 and score: 0.5244831338411317\n",
      "Fold #8 found thr: 0.29490840435028076 and score: 0.552046783625731\n"
     ]
    },
    {
     "name": "stdout",
     "output_type": "stream",
     "text": [
      "Fold #9 found thr: 0.21168093383312225 and score: 0.5\n",
      "Fold #10 found thr: 0.23781445622444153 and score: 0.5339074273412271\n",
      "\t0.5417075564278705\n",
      "Training fold #2Fold #1 found thr: 0.25521260499954224 and score: 0.5386313465783663\n",
      "Fold #2 found thr: 0.2417566031217575 and score: 0.5426008968609866\n",
      "Fold #3 found thr: 0.21730713546276093 and score: 0.5764462809917356\n",
      "Fold #4 found thr: 0.33278870582580566 and score: 0.5323193916349809\n",
      "Fold #5 found thr: 0.3321588635444641 and score: 0.5285895806861499\n",
      "Fold #6 found thr: 0.2754628658294678 and score: 0.5486111111111112\n",
      "Fold #7 found thr: 0.27551260590553284 and score: 0.5440528634361234\n",
      "Fold #8 found thr: 0.2140052318572998 and score: 0.5337620578778135\n",
      "Fold #9 found thr: 0.26676318049430847 and score: 0.546485260770975\n",
      "Fold #10 found thr: 0.26660656929016113 and score: 0.5397536394176932\n",
      "\t0.49337410805300713\n",
      "Training fold #3Fold #1 found thr: 0.18370747566223145 and score: 0.5456255879586077\n",
      "Fold #2 found thr: 0.26696810126304626 and score: 0.5475113122171946\n",
      "Fold #3 found thr: 0.3044876158237457 and score: 0.5599051008303677\n",
      "Fold #4 found thr: 0.2387961745262146 and score: 0.5199568500539374\n",
      "Fold #5 found thr: 0.2100822925567627 and score: 0.5385385385385386\n",
      "Fold #6 found thr: 0.2696225345134735 and score: 0.530751708428246\n",
      "Fold #7 found thr: 0.22216498851776123 and score: 0.5446985446985447\n",
      "Fold #8 found thr: 0.1959533989429474 and score: 0.523580365736285\n",
      "Fold #9 found thr: 0.2458052635192871 and score: 0.5352422907488987\n",
      "Fold #10 found thr: 0.2904450297355652 and score: 0.5512367491166078\n",
      "\t0.5245901639344263\n",
      "Training fold #4Fold #1 found thr: 0.24792489409446716 and score: 0.5363128491620112\n",
      "Fold #2 found thr: 0.28730231523513794 and score: 0.562358276643991\n",
      "Fold #3 found thr: 0.27651479840278625 and score: 0.5542986425339367\n",
      "Fold #4 found thr: 0.2855626046657562 and score: 0.5704545454545454\n",
      "Fold #5 found thr: 0.3362103998661041 and score: 0.4839948783610755\n",
      "Fold #6 found thr: 0.28166207671165466 and score: 0.5593419506462985\n",
      "Fold #7 found thr: 0.17083308100700378 and score: 0.5169811320754717\n",
      "Fold #8 found thr: 0.23507876694202423 and score: 0.5523809523809523\n",
      "Fold #9 found thr: 0.31098872423171997 and score: 0.5131894484412469\n",
      "Fold #10 found thr: 0.2715247869491577 and score: 0.5573394495412844\n",
      "\t0.5009560229445508\n",
      "Training fold #5Fold #1 found thr: 0.31872257590293884 and score: 0.5083932853717027\n",
      "Fold #2 found thr: 0.34018459916114807 and score: 0.5307125307125307\n",
      "Fold #3 found thr: 0.31361427903175354 and score: 0.5581395348837208\n",
      "Fold #4 found thr: 0.33672139048576355 and score: 0.55\n",
      "Fold #5 found thr: 0.26906004548072815 and score: 0.5070093457943925\n",
      "Fold #6 found thr: 0.27231699228286743 and score: 0.5559481743227326\n",
      "Fold #7 found thr: 0.2932811975479126 and score: 0.528813559322034\n",
      "Fold #8 found thr: 0.28853675723075867 and score: 0.5207100591715976\n",
      "Fold #9 found thr: 0.1981629729270935 and score: 0.5510406342913776\n",
      "Fold #10 found thr: 0.18444418907165527 and score: 0.5101058710298364\n",
      "\t0.5305263157894736\n",
      "Training fold #6Fold #1 found thr: 0.1763867735862732 and score: 0.5027726432532347\n",
      "Fold #2 found thr: 0.19528187811374664 and score: 0.5194274028629857\n",
      "Fold #3 found thr: 0.3351997137069702 and score: 0.5463414634146342\n",
      "Fold #4 found thr: 0.30231454968452454 and score: 0.5306122448979592\n",
      "Fold #5 found thr: 0.19371086359024048 and score: 0.5311542390194075\n",
      "Fold #6 found thr: 0.24288742244243622 and score: 0.5391120507399577\n",
      "Fold #7 found thr: 0.36238837242126465 and score: 0.5555555555555556\n",
      "Fold #8 found thr: 0.23635095357894897 and score: 0.5277777777777779\n",
      "Fold #9 found thr: 0.27001652121543884 and score: 0.5411499436302142\n",
      "Fold #10 found thr: 0.22484299540519714 and score: 0.5564853556485355\n",
      "\t0.55078125\n",
      "Training fold #7Fold #1 found thr: 0.16514800488948822 and score: 0.5372050816696915\n",
      "Fold #2 found thr: 0.23904158174991608 and score: 0.5032537960954447\n",
      "Fold #3 found thr: 0.3156357407569885 and score: 0.5714285714285714\n",
      "Fold #4 found thr: 0.20634086430072784 and score: 0.5252525252525252\n",
      "Fold #5 found thr: 0.21568754315376282 and score: 0.5084033613445378\n",
      "Fold #6 found thr: 0.2834776043891907 and score: 0.5345622119815668\n",
      "Fold #7 found thr: 0.24966923892498016 and score: 0.5399568034557235\n",
      "Fold #8 found thr: 0.3367733657360077 and score: 0.5038363171355499\n",
      "Fold #9 found thr: 0.2561761438846588 and score: 0.5555555555555557\n",
      "Fold #10 found thr: 0.2945878207683563 and score: 0.5500603136308806\n",
      "\t0.5443425076452599\n",
      "Training fold #8Fold #1 found thr: 0.2276207059621811 and score: 0.534054054054054\n",
      "Fold #2 found thr: 0.2660488188266754 and score: 0.5311778290993071\n",
      "Fold #3 found thr: 0.16540440917015076 and score: 0.5081374321880651\n",
      "Fold #4 found thr: 0.22567687928676605 and score: 0.5795574288724974\n",
      "Fold #5 found thr: 0.26336154341697693 and score: 0.5240761478163495\n",
      "Fold #6 found thr: 0.22031360864639282 and score: 0.5386178861788619\n",
      "Fold #7 found thr: 0.28556475043296814 and score: 0.5469678953626635\n",
      "Fold #8 found thr: 0.24358002841472626 and score: 0.5249457700650759\n",
      "Fold #9 found thr: 0.24568477272987366 and score: 0.5418502202643172\n",
      "Fold #10 found thr: 0.23327475786209106 and score: 0.5302713987473905\n",
      "\t0.5432098765432098\n",
      "Training fold #9Fold #1 found thr: 0.2763219177722931 and score: 0.5831435079726651\n",
      "Fold #2 found thr: 0.16906888782978058 and score: 0.4927536231884058\n",
      "Fold #3 found thr: 0.2545146942138672 and score: 0.537280701754386\n",
      "Fold #4 found thr: 0.17063051462173462 and score: 0.5112359550561798\n",
      "Fold #5 found thr: 0.22619988024234772 and score: 0.525871172122492\n",
      "Fold #6 found thr: 0.3730188012123108 and score: 0.5662805662805662\n",
      "Fold #7 found thr: 0.2918917238712311 and score: 0.5555555555555556\n",
      "Fold #8 found thr: 0.28368493914604187 and score: 0.5005688282138794\n",
      "Fold #9 found thr: 0.2638315260410309 and score: 0.5458663646659117\n",
      "Fold #10 found thr: 0.1717514842748642 and score: 0.5237226277372263\n",
      "\t0.5324165029469548\n",
      "Training fold #10Fold #1 found thr: 0.2694637179374695 and score: 0.5164960182025029\n",
      "Fold #2 found thr: 0.2277747243642807 and score: 0.5179704016913319\n",
      "Fold #3 found thr: 0.2747742831707001 and score: 0.5328798185941043\n",
      "Fold #4 found thr: 0.300607293844223 and score: 0.5592417061611374\n",
      "Fold #5 found thr: 0.20488771796226501 and score: 0.5312820512820513\n",
      "Fold #6 found thr: 0.31788796186447144 and score: 0.5617433414043583\n",
      "Fold #7 found thr: 0.2521657347679138 and score: 0.5491071428571429\n",
      "Fold #8 found thr: 0.3234831988811493 and score: 0.5423728813559323\n",
      "Fold #9 found thr: 0.20198115706443787 and score: 0.5342465753424658\n",
      "Fold #10 found thr: 0.2379632145166397 and score: 0.5170517051705171\n",
      "\t0.48268625393494236\n",
      "Evaluation finished\n",
      "Average score values: [0.54546828313402129, 0.5244590558219695]\n",
      "========== Ending grid search for <class 'xgboost.sklearn.XGBClassifier'> ==========\n",
      "\n",
      "Best model found is: XGBClassifier(base_score=0.3, colsample_bylevel=1, colsample_bytree=1,\n",
      "       gamma=0, learning_rate=0.1, max_delta_step=0, max_depth=3,\n",
      "       min_child_weight=1, missing=None, n_estimators=120, nthread=4,\n",
      "       objective='binary:logistic', reg_alpha=0, reg_lambda=1,\n",
      "       scale_pos_weight=1, seed=23423, silent=True, subsample=1)\n",
      "Best score training: 0.5531127372916199 - threshold: 0.27879804372787476\n",
      "Best score validation: 0.5454682831340213\n",
      "\n",
      "\n",
      "========== Starting grid search for <class 'sklearn.ensemble.forest.RandomForestClassifier'> ==========\n",
      "Evaluating model with parameters: {'random_state': 23423, 'min_samples_split': 17, 'min_samples_leaf': 6, 'n_jobs': -1, 'n_estimators': 120}\n",
      "Training fold #1Fold #1 found thr: 0.2898399440417853 and score: 0.547105561861521\n",
      "Fold #2 found thr: 0.2896331625516914 and score: 0.5133928571428572\n",
      "Fold #3 found thr: 0.3281157758816464 and score: 0.5788849347568208\n",
      "Fold #4 found thr: 0.3594966871154587 and score: 0.5472154963680388\n",
      "Fold #5 found thr: 0.2701042631979311 and score: 0.5349794238683128\n",
      "Fold #6 found thr: 0.23783550037492363 and score: 0.530938123752495\n",
      "Fold #7 found thr: 0.3689974045726554 and score: 0.550063371356147\n",
      "Fold #8 found thr: 0.28299037927090515 and score: 0.5566556655665567\n",
      "Fold #9 found thr: 0.30919920100619686 and score: 0.5171192443919718\n",
      "Fold #10 found thr: 0.2586404314604162 and score: 0.5584677419354839\n",
      "\t0.5675954592363261\n"
     ]
    },
    {
     "name": "stdout",
     "output_type": "stream",
     "text": [
      "Training fold #2Fold #1 found thr: 0.28482671641213897 and score: 0.5367965367965368\n",
      "Fold #2 found thr: 0.30634815704965634 and score: 0.5555555555555555\n",
      "Fold #3 found thr: 0.25857612037339545 and score: 0.5797705943691345\n",
      "Fold #4 found thr: 0.29712569823998 and score: 0.5540540540540541\n",
      "Fold #5 found thr: 0.31302777097762285 and score: 0.5519713261648745\n",
      "Fold #6 found thr: 0.3146404204722775 and score: 0.5541327124563445\n",
      "Fold #7 found thr: 0.29496439615833686 and score: 0.5443037974683544\n",
      "Fold #8 found thr: 0.29283118591859925 and score: 0.5437997724687145\n",
      "Fold #9 found thr: 0.2515399142956157 and score: 0.5607476635514018\n",
      "Fold #10 found thr: 0.2641113643084948 and score: 0.5471502590673575\n",
      "\t0.5115346038114343\n",
      "Training fold #3Fold #1 found thr: 0.28605376810706434 and score: 0.5573770491803279\n",
      "Fold #2 found thr: 0.22717755319729008 and score: 0.5454545454545455\n",
      "Fold #3 found thr: 0.3573293580874272 and score: 0.5813664596273292\n",
      "Fold #4 found thr: 0.29662080773776356 and score: 0.5333333333333333\n",
      "Fold #5 found thr: 0.28613939337195393 and score: 0.54525627044711\n",
      "Fold #6 found thr: 0.30540154564957306 and score: 0.5369738339021615\n",
      "Fold #7 found thr: 0.29507783801903403 and score: 0.5509518477043673\n",
      "Fold #8 found thr: 0.2550295115969176 and score: 0.5303643724696356\n",
      "Fold #9 found thr: 0.32240064257531087 and score: 0.5347467608951708\n",
      "Fold #10 found thr: 0.3145204852446154 and score: 0.558411214953271\n",
      "\t0.5232323232323233\n",
      "Training fold #4Fold #1 found thr: 0.33141227315210947 and score: 0.5445665445665446\n",
      "Fold #2 found thr: 0.2783227382139024 and score: 0.5874730021598272\n",
      "Fold #3 found thr: 0.31571412960133927 and score: 0.5675368898978435\n",
      "Fold #4 found thr: 0.3708740849916834 and score: 0.5776081424936386\n",
      "Fold #5 found thr: 0.3428884525336996 and score: 0.5147058823529411\n",
      "Fold #6 found thr: 0.3842646748792518 and score: 0.5688545688545689\n",
      "Fold #7 found thr: 0.27184816539642503 and score: 0.5320304017372421\n",
      "Fold #8 found thr: 0.3074327700901349 and score: 0.5632839224629419\n",
      "Fold #9 found thr: 0.3577109064419752 and score: 0.5323565323565324\n",
      "Fold #10 found thr: 0.28488537536481323 and score: 0.5515021459227468\n",
      "\t0.5207700101317123\n",
      "Training fold #5Fold #1 found thr: 0.2802240438542851 and score: 0.5126582278481013\n",
      "Fold #2 found thr: 0.3493371062324747 and score: 0.5441354292623942\n",
      "Fold #3 found thr: 0.3229023387034504 and score: 0.5785123966942148\n",
      "Fold #4 found thr: 0.31977761759930184 and score: 0.5704387990762125\n",
      "Fold #5 found thr: 0.3628300842383275 and score: 0.5310880829015544\n",
      "Fold #6 found thr: 0.31425201619706905 and score: 0.5655339805825241\n",
      "Fold #7 found thr: 0.29808634673777984 and score: 0.53496115427303\n",
      "Fold #8 found thr: 0.24597658468963746 and score: 0.532795156407669\n",
      "Fold #9 found thr: 0.26392298225024696 and score: 0.5701943844492441\n",
      "Fold #10 found thr: 0.3061240725962047 and score: 0.5248868778280543\n",
      "\t0.5497925311203321\n",
      "Training fold #6Fold #1 found thr: 0.3800295275688078 and score: 0.5069356872635561\n",
      "Fold #2 found thr: 0.2518470026215323 and score: 0.5479166666666667\n",
      "Fold #3 found thr: 0.3253285228927542 and score: 0.570771001150748\n",
      "Fold #4 found thr: 0.3162725268682863 and score: 0.5556831228473019\n",
      "Fold #5 found thr: 0.2684568590363784 and score: 0.5406593406593406\n",
      "Fold #6 found thr: 0.28446663354163515 and score: 0.5587918015102481\n",
      "Fold #7 found thr: 0.31045131129709863 and score: 0.5790080738177624\n",
      "Fold #8 found thr: 0.2999640463928641 and score: 0.5293440736478711\n",
      "Fold #9 found thr: 0.31142864982714163 and score: 0.5538818076477404\n",
      "Fold #10 found thr: 0.3569598302271542 and score: 0.562962962962963\n",
      "\t0.5479166666666666\n",
      "Training fold #7Fold #1 found thr: 0.2337063401791202 and score: 0.5395894428152492\n",
      "Fold #2 found thr: 0.2543173252197656 and score: 0.5269582909460835\n",
      "Fold #3 found thr: 0.3514694388487015 and score: 0.5857321652065082\n",
      "Fold #4 found thr: 0.33823319596520657 and score: 0.5558252427184465\n",
      "Fold #5 found thr: 0.3366339204681536 and score: 0.525\n",
      "Fold #6 found thr: 0.30353572668695133 and score: 0.5380249716231554\n",
      "Fold #7 found thr: 0.3116619442729363 and score: 0.5491525423728814\n",
      "Fold #8 found thr: 0.32011447813035343 and score: 0.5211267605633803\n",
      "Fold #9 found thr: 0.3046256867450164 and score: 0.5510907003444316\n",
      "Fold #10 found thr: 0.29652764905804846 and score: 0.5485714285714285\n",
      "\t0.559748427672956\n",
      "Training fold #8Fold #1 found thr: 0.35839140345306514 and score: 0.5512010113780026\n",
      "Fold #2 found thr: 0.30796314937843644 and score: 0.5424528301886793\n",
      "Fold #3 found thr: 0.3436512448649665 and score: 0.5307125307125307\n",
      "Fold #4 found thr: 0.3363297406263795 and score: 0.5664160401002507\n",
      "Fold #5 found thr: 0.32524338980416956 and score: 0.5251798561151079\n",
      "Fold #6 found thr: 0.2609914051836467 and score: 0.5450861195542046\n",
      "Fold #7 found thr: 0.2900578983335394 and score: 0.5580357142857143\n",
      "Fold #8 found thr: 0.3014968495124159 and score: 0.5404157043879908\n",
      "Fold #9 found thr: 0.24814958789763378 and score: 0.5345528455284553\n",
      "Fold #10 found thr: 0.31867330140871225 and score: 0.5641025641025641\n",
      "\t0.5423037716615698\n",
      "Training fold #9Fold #1 found thr: 0.3041742054945547 and score: 0.582857142857143\n",
      "Fold #2 found thr: 0.29309298118729904 and score: 0.509009009009009\n",
      "Fold #3 found thr: 0.3425918552268816 and score: 0.5548854041013269\n",
      "Fold #4 found thr: 0.22109462491269496 and score: 0.5328330206378987\n",
      "Fold #5 found thr: 0.24086148828648965 and score: 0.5358194308145241\n",
      "Fold #6 found thr: 0.3184885065459042 and score: 0.5612829324169532\n",
      "Fold #7 found thr: 0.233598728892653 and score: 0.5625\n",
      "Fold #8 found thr: 0.3564901238143648 and score: 0.5237515225334958\n",
      "Fold #9 found thr: 0.26393994286237027 and score: 0.5458333333333334\n",
      "Fold #10 found thr: 0.29294235358419074 and score: 0.5529542920847269\n",
      "\t0.563600782778865\n",
      "Training fold #10Fold #1 found thr: 0.3035039691751831 and score: 0.5481313703284258\n",
      "Fold #2 found thr: 0.316293392264105 and score: 0.5379975874547648\n",
      "Fold #3 found thr: 0.31084462785418704 and score: 0.5601851851851852\n",
      "Fold #4 found thr: 0.3137689849542435 and score: 0.5720930232558139\n",
      "Fold #5 found thr: 0.25098996987164784 and score: 0.5511651469098278\n",
      "Fold #6 found thr: 0.25499668238096196 and score: 0.5679012345679012\n",
      "Fold #7 found thr: 0.33759400380078636 and score: 0.5567765567765568\n",
      "Fold #8 found thr: 0.3350191957777828 and score: 0.5535924617196702\n",
      "Fold #9 found thr: 0.34450265653224504 and score: 0.5294117647058824\n",
      "Fold #10 found thr: 0.3030387017249314 and score: 0.5324074074074073\n",
      "\t0.5144694533762058\n",
      "Evaluation finished\n",
      "Average score values: [0.5400964029688391]\n",
      "========== Ending grid search for <class 'sklearn.ensemble.forest.RandomForestClassifier'> ==========\n",
      "\n",
      "Best model found is: RandomForestClassifier(bootstrap=True, class_weight=None, criterion='gini',\n",
      "            max_depth=None, max_features='auto', max_leaf_nodes=None,\n",
      "            min_impurity_split=1e-07, min_samples_leaf=6,\n",
      "            min_samples_split=17, min_weight_fraction_leaf=0.0,\n",
      "            n_estimators=120, n_jobs=-1, oob_score=False,\n",
      "            random_state=23423, verbose=0, warm_start=False)\n",
      "Best score training: 0.5481903202883671 - threshold: 0.3031218774248514\n",
      "Best score validation: 0.5400964029688391\n",
      "\n",
      "\n",
      "========== Starting grid search for <class 'sklearn.ensemble.weight_boosting.AdaBoostClassifier'> ==========\n",
      "Evaluating model with parameters: {'random_state': 23423, 'learning_rate': 1.0, 'n_estimators': 50}\n",
      "Training fold #1Fold #1 found thr: 0.4950140786730183 and score: 0.5519553072625699\n",
      "Fold #2 found thr: 0.496196778497906 and score: 0.5344827586206896\n",
      "Fold #3 found thr: 0.4952192080214639 and score: 0.5763813651137595\n",
      "Fold #4 found thr: 0.49371908446667884 and score: 0.5260058881256134\n",
      "Fold #5 found thr: 0.49526026098489895 and score: 0.532150776053215\n",
      "Fold #6 found thr: 0.4939578642000538 and score: 0.5402650356778798\n",
      "Fold #7 found thr: 0.4962295349248285 and score: 0.5503030303030303\n",
      "Fold #8 found thr: 0.49399512700646075 and score: 0.5449101796407185\n",
      "Fold #9 found thr: 0.4955201600501757 and score: 0.5124716553287981\n",
      "Fold #10 found thr: 0.4940999588497195 and score: 0.5494949494949496\n",
      "\t0.5725725725725725\n",
      "Training fold #2Fold #1 found thr: 0.49536530818333857 and score: 0.5263157894736842\n",
      "Fold #2 found thr: 0.4944301806130346 and score: 0.5394736842105262\n"
     ]
    },
    {
     "name": "stdout",
     "output_type": "stream",
     "text": [
      "Fold #3 found thr: 0.49611812491835616 and score: 0.582716049382716\n",
      "Fold #4 found thr: 0.4931806301839038 and score: 0.5328258801141769\n",
      "Fold #5 found thr: 0.4938686518093809 and score: 0.5482866043613707\n",
      "Fold #6 found thr: 0.49541355750942023 and score: 0.5569060773480664\n",
      "Fold #7 found thr: 0.4956937065885267 and score: 0.5572687224669604\n",
      "Fold #8 found thr: 0.493954351892399 and score: 0.5486542443064182\n",
      "Fold #9 found thr: 0.4937094167679756 and score: 0.5458290422245108\n",
      "Fold #10 found thr: 0.49457181710616477 and score: 0.5228215767634855\n",
      "\t0.4956772334293948\n",
      "Training fold #3Fold #1 found thr: 0.49478766655935214 and score: 0.556854410201913\n",
      "Fold #2 found thr: 0.493854956096091 and score: 0.5478615071283095\n",
      "Fold #3 found thr: 0.4957234643507959 and score: 0.5510907003444316\n",
      "Fold #4 found thr: 0.49352792121136896 and score: 0.5263157894736843\n",
      "Fold #5 found thr: 0.4939980979124162 and score: 0.5527123848515865\n",
      "Fold #6 found thr: 0.49535366024166183 and score: 0.5438401775804661\n",
      "Fold #7 found thr: 0.49566044315992625 and score: 0.543757292882147\n",
      "Fold #8 found thr: 0.49310398016046303 and score: 0.5369127516778524\n",
      "Fold #9 found thr: 0.4955026640721228 and score: 0.5483503981797497\n",
      "Fold #10 found thr: 0.4941369960106529 and score: 0.5654885654885655\n",
      "\t0.520076481835564\n",
      "Training fold #4Fold #1 found thr: 0.4939569019371121 and score: 0.5380604796663191\n",
      "Fold #2 found thr: 0.4954492102847288 and score: 0.5581920903954802\n",
      "Fold #3 found thr: 0.4948511222686224 and score: 0.5530546623794212\n",
      "Fold #4 found thr: 0.4959103835006185 and score: 0.5831435079726651\n",
      "Fold #5 found thr: 0.4926083000009255 and score: 0.49776186213070733\n",
      "Fold #6 found thr: 0.4953092664666717 and score: 0.5634118967452301\n",
      "Fold #7 found thr: 0.49666696731231114 and score: 0.5284848484848486\n",
      "Fold #8 found thr: 0.49446269465901116 and score: 0.5517970401691332\n",
      "Fold #9 found thr: 0.4941080243245958 and score: 0.5440158259149357\n",
      "Fold #10 found thr: 0.49647931945031293 and score: 0.5618497109826589\n",
      "\t0.48519579751671443\n",
      "Training fold #5Fold #1 found thr: 0.4936338273915259 and score: 0.4980769230769231\n",
      "Fold #2 found thr: 0.49456450573458455 and score: 0.5158562367864693\n",
      "Fold #3 found thr: 0.49464294121243807 and score: 0.5646036916395223\n",
      "Fold #4 found thr: 0.49513467945202166 and score: 0.5603543743078626\n",
      "Fold #5 found thr: 0.494417490030255 and score: 0.528835690968444\n",
      "Fold #6 found thr: 0.4943919632864968 and score: 0.5702393340270551\n",
      "Fold #7 found thr: 0.49504816935219337 and score: 0.5388828039430449\n",
      "Fold #8 found thr: 0.49405446325985114 and score: 0.5392561983471075\n",
      "Fold #9 found thr: 0.4939172307703283 and score: 0.5720040281973816\n",
      "Fold #10 found thr: 0.4951694927212825 and score: 0.5383759733036707\n",
      "\t0.5342333654773385\n",
      "Training fold #6Fold #1 found thr: 0.4936670340581965 and score: 0.5044160942100098\n",
      "Fold #2 found thr: 0.49470281055463183 and score: 0.5226019845644984\n",
      "Fold #3 found thr: 0.4953146140188312 and score: 0.5609756097560976\n",
      "Fold #4 found thr: 0.4961432066861824 and score: 0.5413711583924349\n",
      "Fold #5 found thr: 0.4942017032760355 and score: 0.5289079229122057\n",
      "Fold #6 found thr: 0.4954596936480958 and score: 0.5494994438264739\n",
      "Fold #7 found thr: 0.4948305728247782 and score: 0.5498938428874734\n",
      "Fold #8 found thr: 0.4949452767189674 and score: 0.5321307779030439\n",
      "Fold #9 found thr: 0.4949367390118073 and score: 0.5472312703583062\n",
      "Fold #10 found thr: 0.4955238762845665 and score: 0.5548098434004474\n",
      "\t0.5490584737363727\n",
      "Training fold #7Fold #1 found thr: 0.4949233883235223 and score: 0.5432639649507119\n",
      "Fold #2 found thr: 0.4945835829681047 and score: 0.5173501577287065\n",
      "Fold #3 found thr: 0.4938714435561248 and score: 0.5630676084762866\n",
      "Fold #4 found thr: 0.4961157359368198 and score: 0.5585798816568047\n",
      "Fold #5 found thr: 0.49531318357880744 and score: 0.5135135135135135\n",
      "Fold #6 found thr: 0.4937959361630085 and score: 0.539553752535497\n",
      "Fold #7 found thr: 0.4970165533987104 and score: 0.5477075588599751\n",
      "Fold #8 found thr: 0.496244117421647 and score: 0.5342789598108747\n",
      "Fold #9 found thr: 0.4945748132254782 and score: 0.5486910994764398\n",
      "Fold #10 found thr: 0.4947665895713232 and score: 0.5572687224669604\n",
      "\t0.5547738693467337\n",
      "Training fold #8Fold #1 found thr: 0.49462402576172604 and score: 0.5555555555555557\n",
      "Fold #2 found thr: 0.4947526287474164 and score: 0.5476718403547672\n",
      "Fold #3 found thr: 0.49579125278787356 and score: 0.5277777777777777\n",
      "Fold #4 found thr: 0.4965204060094435 and score: 0.5665859564164649\n",
      "Fold #5 found thr: 0.4957137175027008 and score: 0.5095398428731763\n",
      "Fold #6 found thr: 0.49658118274881063 and score: 0.5552941176470588\n",
      "Fold #7 found thr: 0.49384959248241106 and score: 0.5467336683417084\n",
      "Fold #8 found thr: 0.4950237098315183 and score: 0.5425652667423383\n",
      "Fold #9 found thr: 0.4948777051140463 and score: 0.5367483296213809\n",
      "Fold #10 found thr: 0.4941290905152168 and score: 0.5428859737638748\n",
      "\t0.5527343750000001\n",
      "Training fold #9Fold #1 found thr: 0.4952947055498282 and score: 0.5743016759776536\n",
      "Fold #2 found thr: 0.49425761834159654 and score: 0.5244536940686785\n",
      "Fold #3 found thr: 0.4945907731043697 and score: 0.5346320346320347\n",
      "Fold #4 found thr: 0.49611422704982894 and score: 0.5286236297198538\n",
      "Fold #5 found thr: 0.4938142221372781 and score: 0.5258964143426293\n",
      "Fold #6 found thr: 0.49689425897602346 and score: 0.5745992601726264\n",
      "Fold #7 found thr: 0.49396995046073267 and score: 0.5465346534653466\n",
      "Fold #8 found thr: 0.495955061605354 and score: 0.5241379310344827\n",
      "Fold #9 found thr: 0.4946163829517721 and score: 0.5699152542372883\n",
      "Fold #10 found thr: 0.4940116490193198 and score: 0.540041067761807\n",
      "\t0.5574092247301277\n",
      "Training fold #10Fold #1 found thr: 0.4965265516814217 and score: 0.5371702637889688\n",
      "Fold #2 found thr: 0.49516027659269374 and score: 0.5472972972972973\n",
      "Fold #3 found thr: 0.49433811028139746 and score: 0.5417095777548919\n",
      "Fold #4 found thr: 0.4968952068488672 and score: 0.5678391959798995\n",
      "Fold #5 found thr: 0.4950359672914011 and score: 0.5537459283387622\n",
      "Fold #6 found thr: 0.4935746857417461 and score: 0.5542168674698795\n",
      "Fold #7 found thr: 0.4947551877421361 and score: 0.5664488017429194\n",
      "Fold #8 found thr: 0.4966131875177297 and score: 0.5391095066185319\n",
      "Fold #9 found thr: 0.49660341171643707 and score: 0.5390070921985816\n",
      "Fold #10 found thr: 0.4946963331588452 and score: 0.5251641137855579\n",
      "\t0.5121693121693122\n",
      "Evaluation finished\n",
      "Average score values: [0.53339007058141308]\n",
      "========== Ending grid search for <class 'sklearn.ensemble.weight_boosting.AdaBoostClassifier'> ==========\n",
      "\n",
      "Best model found is: AdaBoostClassifier(algorithm='SAMME.R', base_estimator=None,\n",
      "          learning_rate=1.0, n_estimators=50, random_state=23423)\n",
      "Best score training: 0.5442027553068928 - threshold: 0.4949245655493402\n",
      "Best score validation: 0.5333900705814131\n",
      "\n",
      "\n",
      "\n",
      "Best model overall is: {'thresholds': [0.28294104, 0.28757781, 0.26950926, 0.29033428, 0.27320603, 0.28618184, 0.2716583, 0.28331786, 0.26653004, 0.27672413], 'scores_tr': [0.54822707830419337, 0.55796619084349053, 0.55318401182754628, 0.55725813713850969, 0.55313303020714366, 0.55347223978875337, 0.5502440935661439, 0.54985057446913366, 0.55137819680170685, 0.55641381996957762], 'model': XGBClassifier(base_score=0.3, colsample_bylevel=1, colsample_bytree=1,\n",
      "       gamma=0, learning_rate=0.1, max_delta_step=0, max_depth=3,\n",
      "       min_child_weight=1, missing=None, n_estimators=120, nthread=4,\n",
      "       objective='binary:logistic', reg_alpha=0, reg_lambda=1,\n",
      "       scale_pos_weight=1, seed=23423, silent=True, subsample=1), 'avg_score': 0.54546828313402129, 'scores_cv': [0.58256410256410263, 0.50207468879668038, 0.52599999999999991, 0.52578361981799793, 0.553626149131767, 0.553626149131767, 0.56767676767676767, 0.56318407960199002, 0.56663376110562691, 0.51351351351351349]}\n",
      "Training on whole train set\n",
      "\n",
      "Final performance on test: 0.5526104417670682\n"
     ]
    }
   ],
   "source": [
    "mst4 = monster.Monster(models, params, random_state = RANDOM_SEED)\n",
    "mst4.fit(X_2, y_2, optimize=True)"
   ]
  },
  {
   "cell_type": "code",
   "execution_count": 50,
   "metadata": {},
   "outputs": [],
   "source": [
    "from sklearn.feature_selection import RFECV"
   ]
  },
  {
   "cell_type": "code",
   "execution_count": 60,
   "metadata": {},
   "outputs": [],
   "source": [
    "features = [False, False,  True, False, False, False, False, False, True, False,  True, False,\n",
    "  True, False,  True,  True,  True,  True, False, False, False, False, False, False,\n",
    "  True, False, False,  True, False, False, False,  True,  True,  True, False,  True,\n",
    "  True,  True,  True,  True, False, False,  True, False,  True,  True,  True,  True,\n",
    " False, False, False,  True, False,  True,  True,  True,  True, False, False,  True,\n",
    "  True,  True, False, False,  True,  True,  True,  True, False, False, False,  True,\n",
    " False, False, False,  True, False, False, False,  True, False]"
   ]
  },
  {
   "cell_type": "code",
   "execution_count": 63,
   "metadata": {},
   "outputs": [],
   "source": [
    "results = np.array([ 0.77901354,  0.77968306,  0.79061955,  0.80490258,  0.80560933,\n",
    "        0.80594408,  0.80594401,  0.81141224,  0.81780984,  0.82100865,\n",
    "        0.82093428,  0.82063669,  0.82078549,  0.82004157,  0.82041351,\n",
    "        0.82093426,  0.82067388,  0.82074825,  0.82052511,  0.82063672,\n",
    "        0.82119467,  0.81989282,  0.82085992,  0.82145506,  0.82082271,\n",
    "        0.82063671,  0.82115749,  0.82167819,  0.822013  ,  0.82227336,\n",
    "        0.82227336,  0.82223613,  0.8221246 ,  0.82201293,  0.82238496,\n",
    "        0.82182701,  0.8222362 ,  0.82238496,  0.82167823,  0.82197581,\n",
    "        0.82190139,  0.82201297,  0.82108306,  0.82152945,  0.82178981,\n",
    "        0.82186424,  0.82156667,  0.82138064,  0.82164104,  0.82182701,\n",
    "        0.82149229,  0.82175266,  0.82197579,  0.82186419,  0.82178982,\n",
    "        0.82178982,  0.8221618 ,  0.82178982,  0.82197579,  0.82234779,\n",
    "        0.82201298,  0.8219014 ,  0.82205018,  0.82208741,  0.82205018,\n",
    "        0.82208738,  0.82208738,  0.82208738,  0.82208738,  0.82208738,\n",
    "        0.82208738,  0.82208738,  0.82208738,  0.82208738,  0.82208738,\n",
    "        0.82208738,  0.82208738,  0.82208738,  0.82208738,  0.82208738,\n",
    "        0.82208738])"
   ]
  },
  {
   "cell_type": "code",
   "execution_count": 166,
   "metadata": {},
   "outputs": [
    {
     "data": {
      "text/plain": [
       "Index(['PAY_DEC', 'BILL_AMT_DEC', 'BILL_AMT_OCT', 'BILL_AMT_AUG',\n",
       "       'PAY_AMT_DEC', 'PAY_AMT_NOV', 'PAY_AMT_OCT', 'PAY_AMT_SEP',\n",
       "       'EDUCATION_other', 'MARRIAGE_married', 'AGE', 'LIMIT-MEAN_BILL',\n",
       "       'AVG_PAY_LAST_2', 'AVG_PAY_LAST_4', 'AVG_PAY_LAST_5', 'AVG_PAY_LAST_6',\n",
       "       'PAY_TREND', 'PAY_SKEW', 'AVG_BILL_AMT_LAST_3', 'AVG_BILL_AMT_LAST_5',\n",
       "       'AVG_BILL_AMT_LAST_6', 'BILL_AMT_TREND', 'BILL_AMT_SKEW',\n",
       "       'AVG_PAY_AMT_LAST_4', 'AVG_PAY_AMT_LAST_6', 'PAY_AMT_TREND',\n",
       "       'PAY_AMT_SKEW', 'PAY_AMT_KURT', 'DELTA_3', 'DELTA_4', 'DELTA_5',\n",
       "       'FRAC_PAY_2', 'FRAC_PAY_3', 'FRAC_PAY_4', 'FRAC_PAY_5',\n",
       "       'BILL_AMT_SIGMA', 'PAY_AMT_SIGMA', 'PAY_SIGMA'],\n",
       "      dtype='object')"
      ]
     },
     "execution_count": 166,
     "metadata": {},
     "output_type": "execute_result"
    }
   ],
   "source": [
    "X.columns[features]"
   ]
  },
  {
   "cell_type": "code",
   "execution_count": 66,
   "metadata": {},
   "outputs": [
    {
     "data": {
      "text/plain": [
       "[<matplotlib.lines.Line2D at 0x118cfd208>]"
      ]
     },
     "execution_count": 66,
     "metadata": {},
     "output_type": "execute_result"
    },
    {
     "data": {
      "image/png": "[encoded data removed]",
      "text/plain": [
       "<matplotlib.figure.Figure at 0x116b97e10>"
      ]
     },
     "metadata": {},
     "output_type": "display_data"
    }
   ],
   "source": [
    "import matplotlib.pyplot as plt\n",
    "%matplotlib inline\n",
    "plt.plot(np.linspace(1, len(results), len(results)), results)"
   ]
  },
  {
   "cell_type": "code",
   "execution_count": null,
   "metadata": {
    "collapsed": true
   },
   "outputs": [],
   "source": []
  },
  {
   "cell_type": "code",
   "execution_count": null,
   "metadata": {
    "collapsed": true
   },
   "outputs": [],
   "source": []
  },
  {
   "cell_type": "code",
   "execution_count": null,
   "metadata": {
    "collapsed": true
   },
   "outputs": [],
   "source": []
  },
  {
   "cell_type": "code",
   "execution_count": null,
   "metadata": {
    "collapsed": true
   },
   "outputs": [],
   "source": []
  },
  {
   "cell_type": "code",
   "execution_count": null,
   "metadata": {
    "collapsed": true
   },
   "outputs": [],
   "source": []
  },
  {
   "cell_type": "code",
   "execution_count": null,
   "metadata": {
    "collapsed": true
   },
   "outputs": [],
   "source": []
  },
  {
   "cell_type": "code",
   "execution_count": null,
   "metadata": {
    "collapsed": true
   },
   "outputs": [],
   "source": []
  },
  {
   "cell_type": "code",
   "execution_count": null,
   "metadata": {
    "collapsed": true
   },
   "outputs": [],
   "source": []
  },
  {
   "cell_type": "code",
   "execution_count": 112,
   "metadata": {},
   "outputs": [
    {
     "name": "stdout",
     "output_type": "stream",
     "text": [
      "Automatically created module for IPython interactive environment\n"
     ]
    }
   ],
   "source": [
    "print(__doc__)\n",
    "\n",
    "import numpy as np\n",
    "\n",
    "from sklearn.cluster import DBSCAN\n",
    "from sklearn import metrics\n",
    "from sklearn.datasets.samples_generator import make_blobs\n",
    "from sklearn.preprocessing import StandardScaler"
   ]
  },
  {
   "cell_type": "code",
   "execution_count": 160,
   "metadata": {},
   "outputs": [],
   "source": [
    "X_my = train.drop(['CUST_COD', 'DEFAULT PAYMENT JAN'], axis=1)\n",
    "X_scaled = StandardScaler().fit_transform(X_my.loc[:,features])\n",
    "\n",
    "X_small = X_scaled"
   ]
  },
  {
   "cell_type": "code",
   "execution_count": 146,
   "metadata": {},
   "outputs": [
    {
     "name": "stdout",
     "output_type": "stream",
     "text": [
      "Estimated number of clusters: 2\n",
      "Silhouette Coefficient: 0.371\n"
     ]
    }
   ],
   "source": [
    "db = DBSCAN(eps=6, min_samples=10).fit(X_small)\n",
    "core_samples_mask = np.zeros_like(db.labels_, dtype=bool)\n",
    "core_samples_mask[db.core_sample_indices_] = True\n",
    "labels = db.labels_\n",
    "\n",
    "# Number of clusters in labels, ignoring noise if present.\n",
    "n_clusters_ = len(set(labels)) - (1 if -1 in labels else 0)\n",
    "\n",
    "print('Estimated number of clusters: %d' % n_clusters_)\n",
    "#print(\"Homogeneity: %0.3f\" % metrics.homogeneity_score(labels_true, labels))\n",
    "#print(\"Completeness: %0.3f\" % metrics.completeness_score(labels_true, labels))\n",
    "#print(\"V-measure: %0.3f\" % metrics.v_measure_score(labels_true, labels))\n",
    "#print(\"Adjusted Rand Index: %0.3f\"\n",
    "#      % metrics.adjusted_rand_score(labels_true, labels))\n",
    "#print(\"Adjusted Mutual Information: %0.3f\"\n",
    "#      % metrics.adjusted_mutual_info_score(labels_true, labels))\n",
    "print(\"Silhouette Coefficient: %0.3f\"\n",
    "      % metrics.silhouette_score(X_small, labels))"
   ]
  },
  {
   "cell_type": "code",
   "execution_count": 161,
   "metadata": {},
   "outputs": [],
   "source": [
    "def do_scan(eps, X):\n",
    "    db = DBSCAN(eps=eps, min_samples=10, n_jobs = -1).fit(X)\n",
    "    labels = db.labels_\n",
    "    \n",
    "    n_clusters_ = len(np.unique(labels)) - 1\n",
    "    silhouette = metrics.silhouette_score(X, labels)\n",
    "    \n",
    "    sizes = []\n",
    "    for l in np.unique(labels):\n",
    "        sizes.append((labels == l).sum())\n",
    "    \n",
    "    return n_clusters_, silhouette, sizes"
   ]
  },
  {
   "cell_type": "code",
   "execution_count": 164,
   "metadata": {},
   "outputs": [
    {
     "name": "stdout",
     "output_type": "stream",
     "text": [
      "0.1  not ok\n",
      "0.2 10 \t -0.168109463679 \t 26718,10,28,37,26,13,10,14,12,6,10\n",
      "0.3 10 \t -0.18678782525 \t 26481,35,109,139,42,11,12,24,10,10,11\n",
      "0.4 9 \t -0.321224284006 \t 26223,180,97,185,111,29,31,8,10,10\n",
      "0.5 10 \t -0.330809567225 \t 25935,163,225,117,193,124,47,19,29,13,19\n",
      "0.6 20 \t -0.359711893141 \t 25471,335,241,134,201,133,55,68,44,48,10,34,11,14,16,26,9,8,9,10,7\n",
      "0.7 28 \t -0.372543310092 \t 24660,597,139,243,15,152,38,211,59,213,88,69,21,62,12,53,26,34,16,16,13,16,28,43,16,18,10,12,4\n",
      "0.8 35 \t -0.388769642809 \t 23213,1213,217,250,574,43,115,188,241,156,211,61,16,28,81,28,15,13,18,8,20,8,11,10,10,15,10,12,19,11,10,10,16,13,8,12\n",
      "0.9 33 \t -0.290677713007 \t 21762,322,1746,449,253,919,46,262,275,22,28,211,64,57,17,33,97,14,44,36,19,19,17,14,7,10,52,12,11,30,6,10,10,10\n",
      "1.0 44 \t -0.319003130758 \t 20097,378,1300,2156,547,254,48,505,68,415,67,62,221,10,200,61,29,19,44,58,13,20,17,10,35,11,12,10,27,17,17,10,10,21,10,10,12,6,10,7,14,8,19,8,11\n",
      "1.1 50 \t -0.277642331402 \t 18528,577,461,492,249,1633,2607,590,254,50,19,68,98,30,74,76,24,224,39,79,30,67,31,23,21,64,15,22,34,33,20,17,15,13,32,12,58,10,16,32,18,16,17,13,15,17,15,8,7,10,11\n",
      "1.2 55 \t -0.245582413689 \t 16988,634,504,561,135,2978,321,1979,35,628,255,50,29,70,69,83,93,51,83,78,10,229,60,120,65,32,17,74,33,29,43,13,112,21,28,39,52,20,18,20,23,22,10,21,14,30,10,11,10,10,12,8,17,10,11,6\n",
      "1.3 65 \t -0.209270826661 \t 15294,677,566,160,613,3313,380,2199,53,667,255,53,41,82,33,70,27,95,212,92,88,132,97,32,229,71,151,66,139,36,127,55,63,33,22,54,70,10,61,15,50,53,10,25,21,22,13,36,17,18,11,29,12,10,5,10,7,10,11,11,21,10,10,8,10,11\n",
      "1.4 53 \t -0.168791714868 \t 13731,707,600,178,435,509,649,3554,2454,237,691,256,55,41,97,172,73,53,263,129,96,151,148,60,230,39,44,188,82,166,64,69,112,65,69,92,21,18,11,20,10,21,22,23,15,19,19,35,22,30,10,12,10,7\n",
      "1.5 51 \t -0.161647865411 \t 12307,729,668,365,2623,626,184,761,692,3702,706,257,59,46,277,238,73,67,202,29,151,49,160,563,274,97,218,229,108,73,30,35,20,13,11,16,9,22,24,20,18,9,19,24,10,10,10,15,8,8,10,10\n",
      "1.6 35 \t -0.197290156139 \t 10907,2019,816,487,2758,6951,11,189,895,257,49,163,49,58,172,257,99,79,408,8,8,23,13,23,17,23,23,27,10,28,12,5,13,6,11,10\n",
      "1.7 24 \t -0.167367055915 \t 9536,3092,1163,828,2882,8410,467,27,107,104,85,22,25,31,10,7,12,12,5,10,8,11,11,10,9\n",
      "1.8 14 \t -0.166383736147 \t 8331,6978,10367,998,87,23,13,11,12,15,10,12,6,11,10\n",
      "1.9 12 \t -0.0908498115932 \t 7305,7377,10895,1201,12,14,14,10,12,11,10,13,10\n",
      "2.0 10 \t -0.0613647327758 \t 6447,8991,11338,22,11,15,18,8,15,11,8\n",
      "2.1 8 \t 0.0609881274388 \t 5680,21064,42,11,26,14,21,19,7\n",
      "2.2 6 \t 0.259833678616 \t 5082,21667,33,42,11,25,24\n",
      "2.3 6 \t 0.135509340361 \t 4578,22133,30,68,52,12,11\n",
      "2.4 6 \t 0.14784569341 \t 4127,22557,50,75,52,13,10\n",
      "2.5 6 \t 0.110873746186 \t 3674,22983,141,52,14,13,7\n",
      "2.6 7 \t 0.0256585933695 \t 3326,23308,162,52,14,8,6,8\n",
      "2.7 6 \t 0.18827413947 \t 3059,23577,173,52,14,5,4\n",
      "2.8 4 \t 0.315140644353 \t 2811,23815,193,52,13\n",
      "2.9 2 \t 0.339794251372 \t 2595,24072,217\n",
      "3.0 2 \t 0.342632266121 \t 2391,24265,228\n",
      "3.1 3 \t 0.332829926006 \t 2199,24439,237,9\n",
      "3.2 3 \t 0.343176086251 \t 2028,24585,264,7\n",
      "3.3 4 \t 0.344260430503 \t 1874,24716,276,11,7\n",
      "3.4 3 \t 0.35107440451 \t 1736,24844,291,13\n",
      "3.5 3 \t 0.352973218075 \t 1608,24962,299,15\n",
      "3.6 4 \t 0.347418017076 \t 1493,25068,302,14,7\n",
      "3.7 2 \t 0.357262540617 \t 1367,25206,311\n",
      "3.8 2 \t 0.358181664059 \t 1274,25290,320\n",
      "3.9 2 \t 0.359036338913 \t 1185,25374,325\n",
      "4.0 3 \t 0.35787139887 \t 1075,25469,331,9\n",
      "4.1 3 \t 0.358050918678 \t 973,25566,336,9\n",
      "4.2 2 \t 0.360221786992 \t 896,25648,340\n",
      "4.3 2 \t 0.360657308808 \t 846,25695,343\n",
      "4.4 2 \t 0.362792952785 \t 779,25754,351\n",
      "4.5 2 \t 0.363314788525 \t 727,25803,354\n",
      "4.6 2 \t 0.363798562972 \t 685,25842,357\n",
      "4.7 2 \t 0.36461227231 \t 654,25870,360\n",
      "4.8 2 \t 0.364652059049 \t 620,25903,361\n",
      "4.9 2 \t 0.365810413241 \t 580,25938,366\n",
      "5.0 2 \t 0.366787064146 \t 549,25966,369\n",
      "5.1 2 \t 0.367075646497 \t 522,25991,371\n",
      "5.2 2 \t 0.367475388443 \t 498,26012,374\n",
      "5.3 2 \t 0.367400695008 \t 471,26038,375\n",
      "5.4 2 \t 0.368511694585 \t 449,26057,378\n",
      "5.5 2 \t 0.368251439614 \t 432,26074,378\n",
      "5.6 2 \t 0.370449257965 \t 418,26084,382\n",
      "5.7 2 \t 0.370561322938 \t 402,26099,383\n",
      "5.8 2 \t 0.371206462657 \t 384,26115,385\n",
      "5.9 2 \t 0.372012635981 \t 369,26127,388\n",
      "6.0 2 \t 0.372609916001 \t 345,26148,391\n",
      "6.1 2 \t 0.373468431439 \t 333,26158,393\n",
      "6.2 2 \t 0.3732244201 \t 322,26169,393\n",
      "6.3 2 \t 0.373000347242 \t 315,26176,393\n",
      "6.4 2 \t 0.374145034442 \t 297,26192,395\n",
      "6.5 2 \t 0.375359608726 \t 283,26203,398\n",
      "6.6 2 \t 0.376351126545 \t 273,26212,399\n",
      "6.7 2 \t 0.376632542099 \t 259,26225,400\n",
      "6.8 2 \t 0.377387568591 \t 248,26235,401\n",
      "6.9 2 \t 0.377175013305 \t 241,26242,401\n",
      "7.0 2 \t 0.376718076288 \t 226,26257,401\n",
      "7.1 2 \t 0.37827952916 \t 217,26264,403\n",
      "7.2 2 \t 0.378685900464 \t 205,26275,404\n",
      "7.3 2 \t 0.379372049998 \t 196,26282,406\n",
      "7.4 2 \t 0.379064988591 \t 188,26290,406\n",
      "7.5 2 \t 0.378962619419 \t 184,26294,406\n",
      "7.6 2 \t 0.380714486893 \t 178,26297,409\n",
      "7.7 2 \t 0.380551317992 \t 172,26303,409\n",
      "7.8 2 \t 0.381677795599 \t 169,26305,410\n",
      "7.9 2 \t 0.38144557648 \t 161,26313,410\n",
      "8.0 2 \t 0.38127296663 \t 156,26318,410\n",
      "8.1 1 \t 0.773432674219 \t 150,26734\n",
      "8.2 1 \t 0.776282394176 \t 146,26738\n",
      "8.3 1 \t 0.780533382324 \t 138,26746\n",
      "8.4 1 \t 0.783578737884 \t 134,26750\n",
      "8.5 1 \t 0.786956787606 \t 130,26754\n",
      "8.6 1 \t 0.791428255235 \t 124,26760\n",
      "8.7 1 \t 0.793710819864 \t 121,26763\n",
      "8.8 1 \t 0.795128557879 \t 119,26765\n",
      "8.9 1 \t 0.797071760322 \t 116,26768\n",
      "9.0 1 \t 0.797939034465 \t 114,26770\n",
      "9.1 1 \t 0.801317372279 \t 108,26776\n",
      "9.2 1 \t 0.804667320845 \t 104,26780\n",
      "9.3 1 \t 0.808202734462 \t 99,26785\n",
      "9.4 1 \t 0.8095114558 \t 97,26787\n",
      "9.5 1 \t 0.812280826734 \t 93,26791\n",
      "9.6 1 \t 0.814942856117 \t 90,26794\n",
      "9.7 1 \t 0.816464006121 \t 88,26796\n",
      "9.8 1 \t 0.819173587149 \t 85,26799\n",
      "9.9 1 \t 0.820192184421 \t 83,26801\n",
      "10.0 1 \t 0.821411233352 \t 80,26804\n"
     ]
    }
   ],
   "source": [
    "clusters=[]\n",
    "silhouettes = []\n",
    "dimensions = []\n",
    "for eps in np.linspace(0.1, 10, 100):\n",
    "    try:\n",
    "        n_clusters, silhouette, sizes = do_scan(eps, X_small)\n",
    "        \n",
    "        clusters.append(n_clusters_)\n",
    "        silhouettes.append(silhouette)\n",
    "        dimensions.append(sizes)\n",
    "        \n",
    "        print(eps, n_clusters, '\\t', silhouette, '\\t', ','.join(map(str, sizes)))\n",
    "    except Exception as e:\n",
    "        print(eps, ' not ok')"
   ]
  },
  {
   "cell_type": "code",
   "execution_count": null,
   "metadata": {
    "collapsed": true
   },
   "outputs": [],
   "source": []
  },
  {
   "cell_type": "code",
   "execution_count": null,
   "metadata": {
    "collapsed": true
   },
   "outputs": [],
   "source": []
  },
  {
   "cell_type": "code",
   "execution_count": null,
   "metadata": {
    "collapsed": true
   },
   "outputs": [],
   "source": []
  },
  {
   "cell_type": "code",
   "execution_count": null,
   "metadata": {
    "collapsed": true
   },
   "outputs": [],
   "source": []
  },
  {
   "cell_type": "code",
   "execution_count": 90,
   "metadata": {},
   "outputs": [
    {
     "name": "stderr",
     "output_type": "stream",
     "text": [
      "/Users/andrea/anaconda/envs/mlenv/lib/python3.5/site-packages/matplotlib/lines.py:1206: FutureWarning: comparison to `None` will result in an elementwise object comparison in the future.\n",
      "  if self._markerfacecolor != fc:\n"
     ]
    },
    {
     "data": {
      "image/png": "[encoded data removed]",
      "text/plain": [
       "<matplotlib.figure.Figure at 0x118d969e8>"
      ]
     },
     "metadata": {},
     "output_type": "display_data"
    }
   ],
   "source": [
    "import matplotlib.pyplot as plt\n",
    "\n",
    "# Black removed and is used for noise instead.\n",
    "unique_labels = set(labels)\n",
    "colors = plt.cm.Spectral(np.linspace(0, 1, len(unique_labels)))\n",
    "for k, col in zip(unique_labels, colors):\n",
    "    if k == -1:\n",
    "        # Black used for noise.\n",
    "        col = 'k'\n",
    "\n",
    "    class_member_mask = (labels == k)\n",
    "\n",
    "    xy = X[class_member_mask & core_samples_mask]\n",
    "    plt.plot(xy[:, 0], xy[:, 1], 'o', markerfacecolor=col,\n",
    "             markeredgecolor='k', markersize=14)\n",
    "\n",
    "    xy = X[class_member_mask & ~core_samples_mask]\n",
    "    plt.plot(xy[:, 0], xy[:, 1], 'o', markerfacecolor=col,\n",
    "             markeredgecolor='k', markersize=6)\n",
    "\n",
    "plt.title('Estimated number of clusters: %d' % n_clusters_)\n",
    "plt.show()"
   ]
  },
  {
   "cell_type": "code",
   "execution_count": 175,
   "metadata": {
    "collapsed": true
   },
   "outputs": [],
   "source": [
    "a = np.array([[1, 2, 3], [1, 2, 3]]).T"
   ]
  },
  {
   "cell_type": "code",
   "execution_count": 176,
   "metadata": {},
   "outputs": [
    {
     "data": {
      "text/plain": [
       "array([[1, 1],\n",
       "       [2, 2],\n",
       "       [3, 3]])"
      ]
     },
     "execution_count": 176,
     "metadata": {},
     "output_type": "execute_result"
    }
   ],
   "source": [
    "a"
   ]
  },
  {
   "cell_type": "code",
   "execution_count": 178,
   "metadata": {},
   "outputs": [
    {
     "data": {
      "text/plain": [
       "array([[1, 1, 1, 1],\n",
       "       [2, 2, 2, 2],\n",
       "       [3, 3, 3, 3]])"
      ]
     },
     "execution_count": 178,
     "metadata": {},
     "output_type": "execute_result"
    }
   ],
   "source": [
    "np.concatenate([a, a], axis=1)"
   ]
  },
  {
   "cell_type": "code",
   "execution_count": 359,
   "metadata": {},
   "outputs": [],
   "source": [
    "s = StratifiedKFold()"
   ]
  },
  {
   "cell_type": "code",
   "execution_count": 567,
   "metadata": {},
   "outputs": [
    {
     "data": {
      "text/plain": [
       "<module 'monster' from '/Users/andrea/Documents/workspace/snakesonaplane/monster.py'>"
      ]
     },
     "execution_count": 567,
     "metadata": {},
     "output_type": "execute_result"
    }
   ],
   "source": [
    "imp.reload(monster)"
   ]
  },
  {
   "cell_type": "code",
   "execution_count": 568,
   "metadata": {},
   "outputs": [
    {
     "data": {
      "text/plain": [
       "<module 'utils' from '/Users/andrea/Documents/workspace/snakesonaplane/utils.py'>"
      ]
     },
     "execution_count": 568,
     "metadata": {},
     "output_type": "execute_result"
    }
   ],
   "source": [
    "imp.reload(utils)"
   ]
  },
  {
   "cell_type": "code",
   "execution_count": 592,
   "metadata": {
    "collapsed": true
   },
   "outputs": [],
   "source": [
    "rf_params = {\n",
    "    'n_estimators' : [60,80,120],\n",
    "    'min_samples_split' : [15,19,25],\n",
    "    'min_samples_leaf' : [6,13,22],\n",
    "    'n_jobs' : [-1]\n",
    "}"
   ]
  },
  {
   "cell_type": "code",
   "execution_count": 600,
   "metadata": {
    "collapsed": true
   },
   "outputs": [],
   "source": [
    "xgb_params = {\n",
    "        'base_score' : [0.3],\n",
    "        'max_depth' : [2, 3],\n",
    "        'n_estimators' : [80,90],\n",
    "        'seed' : [RANDOM_SEED]\n",
    "}"
   ]
  },
  {
   "cell_type": "code",
   "execution_count": 594,
   "metadata": {
    "collapsed": true
   },
   "outputs": [],
   "source": [
    "features = [False, False,  True, False, False, False, False, False, True, False,  True, False,\n",
    "  True, False,  True,  True,  True,  True, False, False, False, False, False, False,\n",
    "  True, False, False,  True, False, False, False,  True,  True,  True, False,  True,\n",
    "  True,  True,  True,  True, False, False,  True, False,  True,  True,  True,  True,\n",
    " False, False, False,  True, False,  True,  True,  True,  True, False, False,  True,\n",
    "  True,  True, False, False,  True,  True,  True,  True, False, False, False,  True,\n",
    " False, False, False,  True, False, False, False,  True, False]"
   ]
  },
  {
   "cell_type": "code",
   "execution_count": 595,
   "metadata": {},
   "outputs": [],
   "source": [
    "X_train, X_test, y_train, y_test = train_test_split(X, y, stratify=y)"
   ]
  },
  {
   "cell_type": "code",
   "execution_count": 601,
   "metadata": {},
   "outputs": [],
   "source": [
    "mst = monster.Kraken([XGBClassifier], [xgb_params], random_state=4531)"
   ]
  },
  {
   "cell_type": "code",
   "execution_count": 603,
   "metadata": {
    "scrolled": false
   },
   "outputs": [
    {
     "name": "stdout",
     "output_type": "stream",
     "text": [
      "Converting X in numpy array\n",
      "Converting y in numpy array\n",
      "Created test holdout. % positive class in test holdout = 0.2211753037441111\n",
      "\n",
      "\n",
      "========== Starting grid search for <class 'xgboost.sklearn.XGBClassifier'> ==========\n",
      "Evaluating model with parameters: {'n_estimators': 80, 'seed': 23423, 'base_score': 0.3, 'max_depth': 2}\n",
      "Training fold #1\t0.5235816814764183\n",
      "Training fold #2\t0.5669291338582677\n",
      "Training fold #3\t0.5529495380241649\n",
      "Training fold #4\t0.5334271639690358\n",
      "Training fold #5\t0.5305851063829788\n",
      "Average score: 0.5414945247421732     Average threshold: 0.28161710500717163\n",
      "Evaluating model with parameters: {'n_estimators': 90, 'seed': 23423, 'base_score': 0.3, 'max_depth': 2}\n",
      "Training fold #1\t0.5240715268225585\n",
      "Training fold #2\t0.5650459921156373\n",
      "Training fold #3\t0.552422270426609\n",
      "Training fold #4\t0.5419795221843003\n",
      "Training fold #5\t0.5358126721763085\n",
      "Average score: 0.5438663967450827     Average threshold: 0.2849584221839905\n",
      "Evaluating model with parameters: {'n_estimators': 80, 'seed': 23423, 'base_score': 0.3, 'max_depth': 3}\n",
      "Training fold #1\t0.5286581254214431\n",
      "Training fold #2\t0.5653298835705045\n",
      "Training fold #3\t0.5443959243085881\n",
      "Training fold #4\t0.5424200278164117\n",
      "Training fold #5\t0.5322896281800391\n",
      "Average score: 0.5426187178593973     Average threshold: 0.2802039682865143\n",
      "Evaluating model with parameters: {'n_estimators': 90, 'seed': 23423, 'base_score': 0.3, 'max_depth': 3}\n",
      "Training fold #1\t0.5279255319148936\n",
      "Training fold #2\t0.5682560418027433\n",
      "Training fold #3\t0.5405405405405405\n",
      "Training fold #4\t0.5448227936066714\n",
      "Training fold #5\t0.5296442687747036\n",
      "Average score: 0.5422378353279105     Average threshold: 0.2787945866584778\n",
      "Evaluation finished\n",
      "Average score values: [0.54149452474217319, 0.54386639674508275, 0.5426187178593973, 0.54223783532791048]\n",
      "========== Ending grid search for <class 'xgboost.sklearn.XGBClassifier'> ==========\n",
      "\n",
      "Best model found is: XGBClassifier(base_score=0.3, colsample_bylevel=1, colsample_bytree=1,\n",
      "       gamma=0, learning_rate=0.1, max_delta_step=0, max_depth=2,\n",
      "       min_child_weight=1, missing=None, n_estimators=90, nthread=-1,\n",
      "       objective='binary:logistic', reg_alpha=0, reg_lambda=1,\n",
      "       scale_pos_weight=1, seed=23423, silent=True, subsample=1)\n",
      "Best score training: 0.5553853973787822 - threshold: 0.2849584221839905\n",
      "Best score validation: 0.5438663967450827\n",
      "\n",
      "\n",
      "\n",
      "Best model overall is: {'threshold_used': 0.28495842, 'avg_score': 0.54386639674508275, 'thresholds': [0.30710721, 0.26171368, 0.29039305, 0.27282628, 0.29275185], 'scores_tr': [0.56066925974359649, 0.54870242594397189, 0.55103628691079198, 0.55729803626654739, 0.55922097802900317], 'model': XGBClassifier(base_score=0.3, colsample_bylevel=1, colsample_bytree=1,\n",
      "       gamma=0, learning_rate=0.1, max_delta_step=0, max_depth=2,\n",
      "       min_child_weight=1, missing=None, n_estimators=90, nthread=-1,\n",
      "       objective='binary:logistic', reg_alpha=0, reg_lambda=1,\n",
      "       scale_pos_weight=1, seed=23423, silent=True, subsample=1), 'scores_cv': [0.52407152682255853, 0.56504599211563733, 0.55242227042660896, 0.54197952218430034, 0.53581267217630846]}\n",
      "Training on whole train set\n",
      "\n",
      "Final performance on test: 0.5537098560354374\n",
      "Re training on whole dataset\n"
     ]
    }
   ],
   "source": [
    "mst.fit(X_train.loc[:,features], y_train, cv=5, optimize=True)"
   ]
  },
  {
   "cell_type": "code",
   "execution_count": 598,
   "metadata": {},
   "outputs": [
    {
     "data": {
      "text/plain": [
       "array([1, 0, 0, ..., 0, 0, 0])"
      ]
     },
     "execution_count": 598,
     "metadata": {},
     "output_type": "execute_result"
    }
   ],
   "source": [
    "mst.predict(X_test.loc[:,features])"
   ]
  },
  {
   "cell_type": "code",
   "execution_count": 599,
   "metadata": {},
   "outputs": [
    {
     "data": {
      "text/plain": [
       "0.55652173913043479"
      ]
     },
     "execution_count": 599,
     "metadata": {},
     "output_type": "execute_result"
    }
   ],
   "source": [
    "f1_score(y_test, mst.predict(X_test.loc[:,features]))"
   ]
  },
  {
   "cell_type": "code",
   "execution_count": 615,
   "metadata": {
    "collapsed": true
   },
   "outputs": [],
   "source": [
    "train = pd.read_csv('data/train_predictedAge.csv')\n",
    "X = train.drop(['CUST_COD', 'DEFAULT PAYMENT JAN'], axis=1)\n",
    "y = train['DEFAULT PAYMENT JAN']"
   ]
  },
  {
   "cell_type": "code",
   "execution_count": 616,
   "metadata": {},
   "outputs": [],
   "source": [
    "for c in X.columns:\n",
    "    try:\n",
    "        if np.all(X[c] > 0):\n",
    "            X[c + '_LOG'] = np.log(X[c])\n",
    "    except Exception:\n",
    "        pass\n",
    "    \n",
    "    X[c + '^2'] = X[c] * X[c]\n",
    "    X[c + '^3'] = X[c] * X[c] * X[c]\n"
   ]
  },
  {
   "cell_type": "code",
   "execution_count": 617,
   "metadata": {},
   "outputs": [],
   "source": [
    "rf = RandomForestClassifier(n_estimators=100, n_jobs=-1)"
   ]
  },
  {
   "cell_type": "code",
   "execution_count": 620,
   "metadata": {
    "collapsed": true
   },
   "outputs": [],
   "source": [
    "rfecv = RFECV(cv=3, estimator=rf, n_jobs=-1, verbose=10, step=2)"
   ]
  },
  {
   "cell_type": "code",
   "execution_count": 621,
   "metadata": {
    "scrolled": false
   },
   "outputs": [
    {
     "name": "stdout",
     "output_type": "stream",
     "text": [
      "Fitting estimator with 242 features.\n",
      "Fitting estimator with 242 features.\n",
      "Fitting estimator with 242 features.\n",
      "Fitting estimator with 240 features.\n",
      "Fitting estimator with 240 features.\n",
      "Fitting estimator with 240 features.\n",
      "Fitting estimator with 238 features.\n",
      "Fitting estimator with 238 features.\n",
      "Fitting estimator with 238 features.\n",
      "Fitting estimator with 236 features.\n",
      "Fitting estimator with 236 features.\n",
      "Fitting estimator with 236 features.\n",
      "Fitting estimator with 234 features.\n",
      "Fitting estimator with 234 features.\n",
      "Fitting estimator with 234 features.\n",
      "Fitting estimator with 232 features.\n",
      "Fitting estimator with 232 features.\n",
      "Fitting estimator with 232 features.\n",
      "Fitting estimator with 230 features.\n",
      "Fitting estimator with 230 features.\n",
      "Fitting estimator with 230 features.\n",
      "Fitting estimator with 228 features.\n",
      "Fitting estimator with 228 features.\n",
      "Fitting estimator with 228 features.\n",
      "Fitting estimator with 226 features.\n",
      "Fitting estimator with 226 features.\n",
      "Fitting estimator with 226 features.\n",
      "Fitting estimator with 224 features.\n",
      "Fitting estimator with 224 features.\n",
      "Fitting estimator with 224 features.\n",
      "Fitting estimator with 222 features.\n",
      "Fitting estimator with 222 features.\n",
      "Fitting estimator with 222 features.\n",
      "Fitting estimator with 220 features.\n",
      "Fitting estimator with 220 features.\n",
      "Fitting estimator with 220 features.\n",
      "Fitting estimator with 218 features.\n",
      "Fitting estimator with 218 features.\n",
      "Fitting estimator with 218 features.\n",
      "Fitting estimator with 216 features.\n",
      "Fitting estimator with 216 features.\n",
      "Fitting estimator with 216 features.\n",
      "Fitting estimator with 214 features.\n",
      "Fitting estimator with 214 features.\n",
      "Fitting estimator with 214 features.\n",
      "Fitting estimator with 212 features.\n",
      "Fitting estimator with 212 features.\n",
      "Fitting estimator with 212 features.\n",
      "Fitting estimator with 210 features.\n",
      "Fitting estimator with 210 features.\n",
      "Fitting estimator with 210 features.\n",
      "Fitting estimator with 208 features.\n",
      "Fitting estimator with 208 features.\n",
      "Fitting estimator with 206 features.\n",
      "Fitting estimator with 208 features.\n",
      "Fitting estimator with 206 features.\n",
      "Fitting estimator with 204 features.\n",
      "Fitting estimator with 206 features.\n",
      "Fitting estimator with 204 features.\n",
      "Fitting estimator with 202 features.\n",
      "Fitting estimator with 204 features.\n",
      "Fitting estimator with 202 features.\n",
      "Fitting estimator with 200 features.\n",
      "Fitting estimator with 202 features.\n",
      "Fitting estimator with 200 features.\n",
      "Fitting estimator with 198 features.\n",
      "Fitting estimator with 200 features.\n",
      "Fitting estimator with 198 features.\n",
      "Fitting estimator with 196 features.\n",
      "Fitting estimator with 198 features.\n",
      "Fitting estimator with 196 features.\n",
      "Fitting estimator with 194 features.\n",
      "Fitting estimator with 196 features.\n",
      "Fitting estimator with 194 features.\n",
      "Fitting estimator with 192 features.\n",
      "Fitting estimator with 194 features.\n",
      "Fitting estimator with 192 features.\n",
      "Fitting estimator with 190 features.\n",
      "Fitting estimator with 192 features.\n",
      "Fitting estimator with 190 features.\n",
      "Fitting estimator with 188 features.\n",
      "Fitting estimator with 190 features.\n",
      "Fitting estimator with 188 features.\n",
      "Fitting estimator with 186 features.\n",
      "Fitting estimator with 188 features.\n",
      "Fitting estimator with 186 features.\n",
      "Fitting estimator with 184 features.\n",
      "Fitting estimator with 186 features.\n",
      "Fitting estimator with 184 features.\n",
      "Fitting estimator with 182 features.\n",
      "Fitting estimator with 184 features.\n",
      "Fitting estimator with 182 features.\n",
      "Fitting estimator with 180 features.\n",
      "Fitting estimator with 182 features.\n",
      "Fitting estimator with 180 features.\n",
      "Fitting estimator with 178 features.\n",
      "Fitting estimator with 180 features.\n",
      "Fitting estimator with 178 features.\n",
      "Fitting estimator with 176 features.\n",
      "Fitting estimator with 178 features.\n",
      "Fitting estimator with 176 features.\n",
      "Fitting estimator with 174 features.\n",
      "Fitting estimator with 176 features.\n",
      "Fitting estimator with 174 features.\n",
      "Fitting estimator with 172 features.\n",
      "Fitting estimator with 174 features.\n",
      "Fitting estimator with 172 features.\n",
      "Fitting estimator with 170 features.\n",
      "Fitting estimator with 172 features.\n",
      "Fitting estimator with 170 features.\n",
      "Fitting estimator with 168 features.\n",
      "Fitting estimator with 170 features.\n",
      "Fitting estimator with 166 features.\n",
      "Fitting estimator with 168 features.\n",
      "Fitting estimator with 168 features.\n",
      "Fitting estimator with 166 features.\n",
      "Fitting estimator with 164 features.\n",
      "Fitting estimator with 166 features.\n",
      "Fitting estimator with 164 features.\n",
      "Fitting estimator with 162 features.\n",
      "Fitting estimator with 164 features.\n",
      "Fitting estimator with 160 features.\n",
      "Fitting estimator with 162 features.\n",
      "Fitting estimator with 162 features.\n",
      "Fitting estimator with 158 features.\n",
      "Fitting estimator with 160 features.\n",
      "Fitting estimator with 160 features.\n",
      "Fitting estimator with 156 features.\n",
      "Fitting estimator with 158 features.\n",
      "Fitting estimator with 158 features.\n",
      "Fitting estimator with 154 features.\n",
      "Fitting estimator with 156 features.\n",
      "Fitting estimator with 156 features.\n",
      "Fitting estimator with 152 features.\n",
      "Fitting estimator with 154 features.\n",
      "Fitting estimator with 154 features.\n",
      "Fitting estimator with 150 features.\n",
      "Fitting estimator with 152 features.\n",
      "Fitting estimator with 152 features.\n",
      "Fitting estimator with 148 features.\n",
      "Fitting estimator with 150 features.\n",
      "Fitting estimator with 150 features.\n",
      "Fitting estimator with 146 features.\n",
      "Fitting estimator with 148 features.\n",
      "Fitting estimator with 148 features.\n",
      "Fitting estimator with 144 features.\n",
      "Fitting estimator with 146 features.\n",
      "Fitting estimator with 146 features.\n",
      "Fitting estimator with 142 features.\n",
      "Fitting estimator with 144 features.\n",
      "Fitting estimator with 144 features.\n",
      "Fitting estimator with 140 features.\n",
      "Fitting estimator with 142 features.\n",
      "Fitting estimator with 142 features.\n",
      "Fitting estimator with 138 features.\n",
      "Fitting estimator with 140 features.\n",
      "Fitting estimator with 140 features.\n",
      "Fitting estimator with 136 features.\n",
      "Fitting estimator with 138 features.\n",
      "Fitting estimator with 138 features.\n",
      "Fitting estimator with 134 features.\n",
      "Fitting estimator with 136 features.\n",
      "Fitting estimator with 136 features.\n",
      "Fitting estimator with 132 features.\n",
      "Fitting estimator with 134 features.\n",
      "Fitting estimator with 134 features.\n",
      "Fitting estimator with 130 features.\n",
      "Fitting estimator with 132 features.\n",
      "Fitting estimator with 132 features.\n",
      "Fitting estimator with 128 features.\n",
      "Fitting estimator with 130 features.\n",
      "Fitting estimator with 130 features.\n",
      "Fitting estimator with 126 features.\n",
      "Fitting estimator with 128 features.\n",
      "Fitting estimator with 128 features.\n",
      "Fitting estimator with 124 features.\n",
      "Fitting estimator with 126 features.\n",
      "Fitting estimator with 126 features.\n",
      "Fitting estimator with 122 features.\n",
      "Fitting estimator with 124 features.\n",
      "Fitting estimator with 124 features.\n",
      "Fitting estimator with 120 features.\n",
      "Fitting estimator with 122 features.\n",
      "Fitting estimator with 122 features.\n",
      "Fitting estimator with 118 features.\n",
      "Fitting estimator with 120 features.\n",
      "Fitting estimator with 120 features.\n",
      "Fitting estimator with 116 features.\n",
      "Fitting estimator with 118 features.\n",
      "Fitting estimator with 118 features.\n",
      "Fitting estimator with 114 features.\n",
      "Fitting estimator with 116 features.\n",
      "Fitting estimator with 116 features.\n",
      "Fitting estimator with 112 features.\n",
      "Fitting estimator with 114 features.\n",
      "Fitting estimator with 114 features.\n",
      "Fitting estimator with 110 features.\n",
      "Fitting estimator with 112 features.\n",
      "Fitting estimator with 112 features.\n",
      "Fitting estimator with 108 features.\n",
      "Fitting estimator with 110 features.\n",
      "Fitting estimator with 110 features.\n",
      "Fitting estimator with 106 features.\n",
      "Fitting estimator with 108 features.\n",
      "Fitting estimator with 108 features.\n",
      "Fitting estimator with 104 features.\n",
      "Fitting estimator with 106 features.\n",
      "Fitting estimator with 102 features.\n",
      "Fitting estimator with 106 features.\n",
      "Fitting estimator with 104 features.\n",
      "Fitting estimator with 100 features.\n",
      "Fitting estimator with 104 features.\n",
      "Fitting estimator with 102 features.\n",
      "Fitting estimator with 98 features.\n",
      "Fitting estimator with 102 features.\n",
      "Fitting estimator with 96 features.\n",
      "Fitting estimator with 100 features.\n",
      "Fitting estimator with 100 features.\n",
      "Fitting estimator with 94 features.\n",
      "Fitting estimator with 98 features.\n",
      "Fitting estimator with 98 features.\n",
      "Fitting estimator with 92 features.\n"
     ]
    },
    {
     "name": "stdout",
     "output_type": "stream",
     "text": [
      "Fitting estimator with 96 features.\n",
      "Fitting estimator with 96 features.\n",
      "Fitting estimator with 90 features.\n",
      "Fitting estimator with 94 features.\n",
      "Fitting estimator with 94 features.\n",
      "Fitting estimator with 88 features.\n",
      "Fitting estimator with 92 features.\n",
      "Fitting estimator with 92 features.\n",
      "Fitting estimator with 86 features.\n",
      "Fitting estimator with 90 features.\n",
      "Fitting estimator with 90 features.\n",
      "Fitting estimator with 84 features.\n",
      "Fitting estimator with 88 features.\n",
      "Fitting estimator with 88 features.\n",
      "Fitting estimator with 82 features.\n",
      "Fitting estimator with 86 features.\n",
      "Fitting estimator with 86 features.\n",
      "Fitting estimator with 80 features.\n",
      "Fitting estimator with 84 features.\n",
      "Fitting estimator with 84 features.\n",
      "Fitting estimator with 78 features.\n",
      "Fitting estimator with 82 features.\n",
      "Fitting estimator with 82 features.\n",
      "Fitting estimator with 76 features.\n",
      "Fitting estimator with 80 features.\n",
      "Fitting estimator with 80 features.\n",
      "Fitting estimator with 74 features.\n",
      "Fitting estimator with 78 features.\n",
      "Fitting estimator with 78 features.\n",
      "Fitting estimator with 72 features.\n",
      "Fitting estimator with 76 features.\n",
      "Fitting estimator with 70 features.\n",
      "Fitting estimator with 76 features.\n",
      "Fitting estimator with 74 features.\n",
      "Fitting estimator with 68 features.\n",
      "Fitting estimator with 74 features.\n",
      "Fitting estimator with 72 features.\n",
      "Fitting estimator with 66 features.\n",
      "Fitting estimator with 72 features.\n",
      "Fitting estimator with 70 features.\n",
      "Fitting estimator with 64 features.\n",
      "Fitting estimator with 70 features.\n",
      "Fitting estimator with 68 features.\n",
      "Fitting estimator with 62 features.\n",
      "Fitting estimator with 68 features.\n",
      "Fitting estimator with 66 features.\n",
      "Fitting estimator with 60 features.\n",
      "Fitting estimator with 66 features.\n",
      "Fitting estimator with 64 features.\n",
      "Fitting estimator with 58 features.\n",
      "Fitting estimator with 64 features.\n",
      "Fitting estimator with 62 features.\n",
      "Fitting estimator with 56 features.\n",
      "Fitting estimator with 60 features.\n",
      "Fitting estimator with 62 features.\n",
      "Fitting estimator with 54 features.\n",
      "Fitting estimator with 58 features.\n",
      "Fitting estimator with 60 features.\n",
      "Fitting estimator with 52 features.\n",
      "Fitting estimator with 56 features.\n",
      "Fitting estimator with 58 features.\n",
      "Fitting estimator with 50 features.\n",
      "Fitting estimator with 54 features.\n",
      "Fitting estimator with 56 features.\n",
      "Fitting estimator with 48 features.\n",
      "Fitting estimator with 52 features.\n",
      "Fitting estimator with 46 features.\n",
      "Fitting estimator with 54 features.\n",
      "Fitting estimator with 44 features.\n",
      "Fitting estimator with 50 features.\n",
      "Fitting estimator with 52 features.\n",
      "Fitting estimator with 42 features.\n",
      "Fitting estimator with 48 features.\n",
      "Fitting estimator with 50 features.\n",
      "Fitting estimator with 40 features.\n",
      "Fitting estimator with 46 features.\n",
      "Fitting estimator with 48 features.\n",
      "Fitting estimator with 38 features.\n",
      "Fitting estimator with 44 features.\n",
      "Fitting estimator with 46 features.\n",
      "Fitting estimator with 36 features.\n",
      "Fitting estimator with 42 features.\n",
      "Fitting estimator with 44 features.\n",
      "Fitting estimator with 34 features.\n",
      "Fitting estimator with 40 features.\n",
      "Fitting estimator with 42 features.\n",
      "Fitting estimator with 32 features.\n",
      "Fitting estimator with 38 features.\n",
      "Fitting estimator with 40 features.\n",
      "Fitting estimator with 30 features.\n",
      "Fitting estimator with 36 features.\n",
      "Fitting estimator with 28 features.\n",
      "Fitting estimator with 38 features.\n",
      "Fitting estimator with 34 features.\n",
      "Fitting estimator with 26 features.\n",
      "Fitting estimator with 36 features.\n",
      "Fitting estimator with 32 features.\n",
      "Fitting estimator with 24 features.\n",
      "Fitting estimator with 34 features.\n",
      "Fitting estimator with 30 features.\n",
      "Fitting estimator with 22 features.\n",
      "Fitting estimator with 32 features.\n",
      "Fitting estimator with 20 features.\n",
      "Fitting estimator with 28 features.\n",
      "Fitting estimator with 30 features.\n",
      "Fitting estimator with 18 features.\n",
      "Fitting estimator with 26 features.\n",
      "Fitting estimator with 16 features.\n",
      "Fitting estimator with 28 features.\n",
      "Fitting estimator with 24 features.\n",
      "Fitting estimator with 14 features.\n",
      "Fitting estimator with 22 features.\n",
      "Fitting estimator with 26 features.\n",
      "Fitting estimator with 12 features.\n",
      "Fitting estimator with 20 features.\n",
      "Fitting estimator with 10 features.\n",
      "Fitting estimator with 24 features.\n",
      "Fitting estimator with 18 features.\n",
      "Fitting estimator with 8 features.\n",
      "Fitting estimator with 22 features.\n",
      "Fitting estimator with 6 features.\n",
      "Fitting estimator with 16 features.\n",
      "Fitting estimator with 4 features.\n",
      "Fitting estimator with 20 features.\n",
      "Fitting estimator with 14 features.\n",
      "Fitting estimator with 2 features.\n",
      "Fitting estimator with 18 features.\n",
      "Fitting estimator with 12 features.\n",
      "Fitting estimator with 16 features.\n",
      "Fitting estimator with 10 features.\n",
      "Fitting estimator with 14 features.\n",
      "Fitting estimator with 8 features.\n",
      "Fitting estimator with 6 features.\n",
      "Fitting estimator with 12 features.\n",
      "Fitting estimator with 4 features.\n",
      "Fitting estimator with 10 features.\n",
      "Fitting estimator with 2 features.\n",
      "Fitting estimator with 8 features.\n",
      "Fitting estimator with 6 features.\n",
      "Fitting estimator with 4 features.\n",
      "Fitting estimator with 2 features.\n"
     ]
    },
    {
     "data": {
      "text/plain": [
       "RFECV(cv=3,\n",
       "   estimator=RandomForestClassifier(bootstrap=True, class_weight=None, criterion='gini',\n",
       "            max_depth=None, max_features='auto', max_leaf_nodes=None,\n",
       "            min_impurity_split=1e-07, min_samples_leaf=1,\n",
       "            min_samples_split=2, min_weight_fraction_leaf=0.0,\n",
       "            n_estimators=100, n_jobs=-1, oob_score=False,\n",
       "            random_state=None, verbose=0, warm_start=False),\n",
       "   n_jobs=-1, scoring=None, step=2, verbose=10)"
      ]
     },
     "execution_count": 621,
     "metadata": {},
     "output_type": "execute_result"
    }
   ],
   "source": [
    "rfecv.fit(X, y)"
   ]
  },
  {
   "cell_type": "code",
   "execution_count": 626,
   "metadata": {},
   "outputs": [
    {
     "data": {
      "text/plain": [
       "[<matplotlib.lines.Line2D at 0x118bee2e8>]"
      ]
     },
     "execution_count": 626,
     "metadata": {},
     "output_type": "execute_result"
    },
    {
     "data": {
      "image/png": "[encoded data removed]",
      "text/plain": [
       "<matplotlib.figure.Figure at 0x12896de10>"
      ]
     },
     "metadata": {},
     "output_type": "display_data"
    }
   ],
   "source": [
    "plt.plot(np.arange(0, len(rfecv.grid_scores_)), rfecv.grid_scores_)"
   ]
  },
  {
   "cell_type": "code",
   "execution_count": 630,
   "metadata": {},
   "outputs": [
    {
     "data": {
      "text/plain": [
       "Index(['PAY_DEC', 'LIMIT-MEAN_BILL', 'AVG_PAY_LAST_2', 'AVG_PAY_LAST_3',\n",
       "       'AVG_PAY_LAST_6', 'AVG_BILL_AMT_LAST_5', 'BILL_AMT_TREND',\n",
       "       'BILL_AMT_KURT', 'PAY_AMT_KURT', 'DELTA_1', 'DELTA_4', 'DELTA_5',\n",
       "       'PROD', 'BILL_AMT_SIGMA', 'PAY_AMT_SIGMA', 'TOTAL_AMT_PAID', 'AGE',\n",
       "       'PAY_DEC^3', 'BILL_AMT_DEC^3', 'LIMIT-MEAN_BILL^2', 'LIMIT-MEAN_BILL^3',\n",
       "       'AVG_PAY_LAST_2^3', 'AVG_PAY_LAST_3^3', 'AVG_PAY_LAST_5^3',\n",
       "       'AVG_BILL_AMT_LAST_2^2', 'AVG_BILL_AMT_LAST_4^2',\n",
       "       'AVG_BILL_AMT_LAST_6^2', 'BILL_AMT_TREND^2', 'BILL_AMT_TREND^3',\n",
       "       'BILL_AMT_SKEW^2', 'BILL_AMT_KURT^2', 'AVG_PAY_AMT_LAST_3^2',\n",
       "       'AVG_PAY_AMT_LAST_4^2', 'AVG_PAY_AMT_LAST_5^2', 'PAY_AMT_TREND^2',\n",
       "       'PAY_AMT_TREND^3', 'PAY_AMT_SKEW^3', 'PAY_AMT_KURT^2', 'DELTA_1^3',\n",
       "       'DELTA_3^3', 'DELTA_4^2', 'DELTA_5^2', 'DELTA_5^3', 'BILL_AMT_SIGMA^2',\n",
       "       'BILL_AMT_SIGMA^3', 'PAY_AMT_SIGMA^2', 'TOTAL_AMT_PAID^2', 'AGE_LOG',\n",
       "       'AGE^2', 'AGE^3'],\n",
       "      dtype='object')"
      ]
     },
     "execution_count": 630,
     "metadata": {},
     "output_type": "execute_result"
    }
   ],
   "source": [
    "X.columns[rfecv.get_support()]"
   ]
  },
  {
   "cell_type": "code",
   "execution_count": 634,
   "metadata": {
    "scrolled": false
   },
   "outputs": [
    {
     "name": "stdout",
     "output_type": "stream",
     "text": [
      "Converting X in numpy array\n",
      "Converting y in numpy array\n",
      "Created test holdout. % positive class in test holdout = 0.2211270225032546\n",
      "\n",
      "\n",
      "========== Starting grid search for <class 'sklearn.ensemble.forest.RandomForestClassifier'> ==========\n",
      "Evaluating model with parameters: {'min_samples_split': 15, 'min_samples_leaf': 6, 'n_jobs': -1, 'n_estimators': 60}\n",
      "Training fold #1\t0.5402298850574713\n",
      "Training fold #2\t0.5411298315163529\n",
      "Training fold #3\t0.521823472356935\n",
      "Training fold #4\t0.5689655172413793\n",
      "Training fold #5\t0.5386138613861385\n",
      "Training fold #6\t0.5329280648429585\n",
      "Training fold #7\t0.5076142131979695\n",
      "Training fold #8\t0.5665322580645161\n",
      "Training fold #9\t0.5664403491755576\n",
      "Training fold #10\t0.545816733067729\n",
      "Average score: 0.5430094185907007     Average threshold: 0.29023173509073696\n",
      "Evaluating model with parameters: {'min_samples_split': 15, 'min_samples_leaf': 6, 'n_jobs': -1, 'n_estimators': 80}\n",
      "Training fold #1\t0.5472636815920396\n",
      "Training fold #2\t0.531548757170172\n",
      "Training fold #3\t0.512218963831867\n",
      "Training fold #4\t0.570869990224829\n",
      "Training fold #5\t0.5443548387096774\n",
      "Training fold #6\t0.5449101796407186\n",
      "Training fold #7\t0.5050709939148073\n",
      "Training fold #8\t0.5523429710867398\n",
      "Training fold #9\t0.5708775313404051\n",
      "Training fold #10\t0.5385385385385385\n",
      "Average score: 0.5417996446049793     Average threshold: 0.2899458670447951\n",
      "Evaluating model with parameters: {'min_samples_split': 15, 'min_samples_leaf': 6, 'n_jobs': -1, 'n_estimators': 120}\n",
      "Training fold #1\t0.5548011639185257\n",
      "Training fold #2\t0.5288932419196867\n",
      "Training fold #3\t0.5146771037181996\n",
      "Training fold #4\t0.5617103984450923\n",
      "Training fold #5\t0.5330739299610895\n",
      "Training fold #6\t0.5353535353535352\n",
      "Training fold #7\t0.5061475409836066\n",
      "Training fold #8\t0.5714285714285714\n",
      "Training fold #9\t0.5512572533849129\n",
      "Training fold #10\t0.5431372549019607\n",
      "Average score: 0.540047999401518     Average threshold: 0.2870360289719344\n",
      "Evaluating model with parameters: {'min_samples_split': 19, 'min_samples_leaf': 6, 'n_jobs': -1, 'n_estimators': 60}\n",
      "Training fold #1\t0.5527065527065528\n",
      "Training fold #2\t0.5319740500463391\n",
      "Training fold #3\t0.5272727272727272\n",
      "Training fold #4\t0.5610948191593352\n",
      "Training fold #5\t0.5348837209302325\n",
      "Training fold #6\t0.529058116232465\n",
      "Training fold #7\t0.5194805194805197\n",
      "Training fold #8\t0.5562130177514794\n",
      "Training fold #9\t0.5604606525911708\n",
      "Training fold #10\t0.5431619786614936\n",
      "Average score: 0.5416306154832315     Average threshold: 0.28284976763754266\n",
      "Evaluating model with parameters: {'min_samples_split': 19, 'min_samples_leaf': 6, 'n_jobs': -1, 'n_estimators': 80}\n",
      "Training fold #1\t0.5602350636630754\n",
      "Training fold #2\t0.5293005671077504\n",
      "Training fold #3\t0.5136406396989651\n",
      "Training fold #4\t0.5711519845111326\n",
      "Training fold #5\t0.5314285714285714\n",
      "Training fold #6\t0.5331991951710261\n",
      "Training fold #7\t0.5114427860696518\n",
      "Training fold #8\t0.5497536945812809\n",
      "Training fold #9\t0.5517241379310345\n",
      "Training fold #10\t0.5367717287488061\n",
      "Average score: 0.5388648368911294     Average threshold: 0.2766938538138067\n",
      "Evaluating model with parameters: {'min_samples_split': 19, 'min_samples_leaf': 6, 'n_jobs': -1, 'n_estimators': 120}\n",
      "Training fold #1\t0.547867298578199\n",
      "Training fold #2\t0.5375939849624058\n",
      "Training fold #3\t0.5125725338491296\n",
      "Training fold #4\t0.5692742695570218\n",
      "Training fold #5\t0.5207100591715976\n",
      "Training fold #6\t0.5434343434343435\n",
      "Training fold #7\t0.5098855359001041\n",
      "Training fold #8\t0.5582329317269077\n",
      "Training fold #9\t0.5615671641791044\n",
      "Training fold #10\t0.5363020329138432\n",
      "Average score: 0.5397440154272657     Average threshold: 0.28018608952701995\n",
      "Evaluating model with parameters: {'min_samples_split': 25, 'min_samples_leaf': 6, 'n_jobs': -1, 'n_estimators': 60}\n",
      "Training fold #1\t0.5479704797047971\n",
      "Training fold #2\t0.536723163841808\n",
      "Training fold #3\t0.5213358070500927\n",
      "Training fold #4\t0.5706051873198846\n",
      "Training fold #5\t0.5395614871306005\n",
      "Training fold #6\t0.5408062930186825\n",
      "Training fold #7\t0.5121241513094082\n",
      "Training fold #8\t0.555984555984556\n",
      "Training fold #9\t0.5582255083179297\n",
      "Training fold #10\t0.5277777777777777\n",
      "Average score: 0.5411114411455537     Average threshold: 0.270451058105633\n",
      "Evaluating model with parameters: {'min_samples_split': 25, 'min_samples_leaf': 6, 'n_jobs': -1, 'n_estimators': 80}\n",
      "Training fold #1\t0.5506976744186046\n",
      "Training fold #2\t0.5360230547550432\n",
      "Training fold #3\t0.5170068027210883\n",
      "Training fold #4\t0.5619223659889094\n",
      "Training fold #5\t0.5306513409961687\n",
      "Training fold #6\t0.5431119920713579\n",
      "Training fold #7\t0.5105953582240161\n",
      "Training fold #8\t0.5558633425669437\n",
      "Training fold #9\t0.557874762808349\n",
      "Training fold #10\t0.5295829291949563\n",
      "Average score: 0.5393329623745438     Average threshold: 0.2723632655971359\n",
      "Evaluating model with parameters: {'min_samples_split': 25, 'min_samples_leaf': 6, 'n_jobs': -1, 'n_estimators': 120}\n",
      "Training fold #1\t0.5597775718257646\n",
      "Training fold #2\t0.5250236071765817\n",
      "Training fold #3\t0.5249042145593869\n",
      "Training fold #4\t0.5505925250683683\n",
      "Training fold #5\t0.5286259541984734\n",
      "Training fold #6\t0.5371980676328503\n",
      "Training fold #7\t0.5034550839091806\n",
      "Training fold #8\t0.555765595463138\n",
      "Training fold #9\t0.56702025072324\n",
      "Training fold #10\t0.5370187561697927\n",
      "Average score: 0.5389381626726776     Average threshold: 0.27072423240962346\n",
      "Evaluating model with parameters: {'min_samples_split': 15, 'min_samples_leaf': 13, 'n_jobs': -1, 'n_estimators': 60}\n",
      "Training fold #1\t0.5634295713035871\n",
      "Training fold #2\t0.5185185185185186\n",
      "Training fold #3\t0.5188592456301748\n",
      "Training fold #4\t0.5666356011183596\n",
      "Training fold #5\t0.5292576419213973\n",
      "Training fold #6\t0.5317164179104478\n",
      "Training fold #7\t0.511671335200747\n",
      "Training fold #8\t0.5518590998043053\n",
      "Training fold #9\t0.5452961672473867\n",
      "Training fold #10\t0.5293040293040293\n",
      "Average score: 0.5366547627958954     Average threshold: 0.2494794773809979\n",
      "Evaluating model with parameters: {'min_samples_split': 15, 'min_samples_leaf': 13, 'n_jobs': -1, 'n_estimators': 80}\n",
      "Training fold #1\t0.5514834205933682\n",
      "Training fold #2\t0.5261293179805137\n",
      "Training fold #3\t0.516994633273703\n",
      "Training fold #4\t0.5605920444033302\n",
      "Training fold #5\t0.5264116575591985\n",
      "Training fold #6\t0.5298988040478382\n",
      "Training fold #7\t0.5125815470643057\n",
      "Training fold #8\t0.5657894736842105\n",
      "Training fold #9\t0.5492589363557105\n",
      "Training fold #10\t0.5321100917431193\n",
      "Average score: 0.5371249926705297     Average threshold: 0.2451453798211313\n",
      "Evaluating model with parameters: {'min_samples_split': 15, 'min_samples_leaf': 13, 'n_jobs': -1, 'n_estimators': 120}\n",
      "Training fold #1\t0.5557553956834532\n",
      "Training fold #2\t0.5366726296958855\n",
      "Training fold #3\t0.5245614035087719\n",
      "Training fold #4\t0.558015943312666\n",
      "Training fold #5\t0.5190562613430127\n",
      "Training fold #6\t0.5327272727272727\n",
      "Training fold #7\t0.5085066162570888\n",
      "Training fold #8\t0.5594671741198858\n",
      "Training fold #9\t0.5605658709106985\n",
      "Training fold #10\t0.526032315978456\n",
      "Average score: 0.5381360883537191     Average threshold: 0.2437040122116961\n",
      "Evaluating model with parameters: {'min_samples_split': 19, 'min_samples_leaf': 13, 'n_jobs': -1, 'n_estimators': 60}\n",
      "Training fold #1\t0.5451327433628319\n",
      "Training fold #2\t0.525674499564839\n",
      "Training fold #3\t0.5205479452054794\n",
      "Training fold #4\t0.5688568856885688\n",
      "Training fold #5\t0.5328330206378986\n",
      "Training fold #6\t0.5391140433553251\n",
      "Training fold #7\t0.5122873345935728\n",
      "Training fold #8\t0.549718574108818\n",
      "Training fold #9\t0.5464006938421508\n",
      "Training fold #10\t0.5221318879855466\n",
      "Average score: 0.5362697628345031     Average threshold: 0.24751815836778474\n",
      "Evaluating model with parameters: {'min_samples_split': 19, 'min_samples_leaf': 13, 'n_jobs': -1, 'n_estimators': 80}\n",
      "Training fold #1\t0.5496049165935031\n",
      "Training fold #2\t0.5326278659611993\n",
      "Training fold #3\t0.5178408051235133\n",
      "Training fold #4\t0.5644283121597096\n",
      "Training fold #5\t0.5394853593611358\n",
      "Training fold #6\t0.5243445692883895\n",
      "Training fold #7\t0.5232774674115457\n",
      "Training fold #8\t0.546271338724169\n",
      "Training fold #9\t0.5531135531135531\n",
      "Training fold #10\t0.5297777777777778\n",
      "Average score: 0.5380771965514496     Average threshold: 0.2445337840245947\n",
      "Evaluating model with parameters: {'min_samples_split': 19, 'min_samples_leaf': 13, 'n_jobs': -1, 'n_estimators': 120}\n",
      "Training fold #1\t0.5501730103806228\n",
      "Training fold #2\t0.5321428571428573\n"
     ]
    },
    {
     "name": "stdout",
     "output_type": "stream",
     "text": [
      "Training fold #3\t0.5201465201465202\n",
      "Training fold #4\t0.5588235294117647\n",
      "Training fold #5\t0.5311942959001783\n",
      "Training fold #6\t0.5388788426763111\n",
      "Training fold #7\t0.5258126195028681\n",
      "Training fold #8\t0.5535880708294502\n",
      "Training fold #9\t0.548780487804878\n",
      "Training fold #10\t0.5334572490706321\n",
      "Average score: 0.5392997482866083     Average threshold: 0.24520400591428254\n",
      "Evaluating model with parameters: {'min_samples_split': 25, 'min_samples_leaf': 13, 'n_jobs': -1, 'n_estimators': 60}\n",
      "Training fold #1\t0.5596412556053811\n",
      "Training fold #2\t0.5413105413105413\n",
      "Training fold #3\t0.5183823529411764\n",
      "Training fold #4\t0.5552511415525114\n",
      "Training fold #5\t0.5343092406221409\n",
      "Training fold #6\t0.5327188940092167\n",
      "Training fold #7\t0.5150048402710553\n",
      "Training fold #8\t0.5549549549549548\n",
      "Training fold #9\t0.5497797356828195\n",
      "Training fold #10\t0.5398550724637682\n",
      "Average score: 0.5401208029413567     Average threshold: 0.24927140550572804\n",
      "Evaluating model with parameters: {'min_samples_split': 25, 'min_samples_leaf': 13, 'n_jobs': -1, 'n_estimators': 80}\n",
      "Training fold #1\t0.5546666666666666\n",
      "Training fold #2\t0.5322283609576427\n",
      "Training fold #3\t0.5213442325158947\n",
      "Training fold #4\t0.5599268069533395\n",
      "Training fold #5\t0.5317164179104478\n",
      "Training fold #6\t0.5301645338208409\n",
      "Training fold #7\t0.521072796934866\n",
      "Training fold #8\t0.5535390199637024\n",
      "Training fold #9\t0.5527462946817786\n",
      "Training fold #10\t0.5269784172661871\n",
      "Average score: 0.5384383547671365     Average threshold: 0.24861164869360475\n",
      "Evaluating model with parameters: {'min_samples_split': 25, 'min_samples_leaf': 13, 'n_jobs': -1, 'n_estimators': 120}\n",
      "Training fold #1\t0.5545617173524151\n",
      "Training fold #2\t0.5435992578849722\n",
      "Training fold #3\t0.514959202175884\n",
      "Training fold #4\t0.5641025641025642\n",
      "Training fold #5\t0.5229615745079663\n",
      "Training fold #6\t0.5365402405180388\n",
      "Training fold #7\t0.5076628352490421\n",
      "Training fold #8\t0.5541284403669725\n",
      "Training fold #9\t0.5477815699658704\n",
      "Training fold #10\t0.5251798561151079\n",
      "Average score: 0.5371477258238835     Average threshold: 0.24802170498457804\n",
      "Evaluating model with parameters: {'min_samples_split': 15, 'min_samples_leaf': 22, 'n_jobs': -1, 'n_estimators': 60}\n",
      "Training fold #1\t0.5625\n",
      "Training fold #2\t0.5358090185676393\n",
      "Training fold #3\t0.5258693808312129\n",
      "Training fold #4\t0.5479219677692961\n",
      "Training fold #5\t0.5353625783348254\n",
      "Training fold #6\t0.5340501792114696\n",
      "Training fold #7\t0.5191256830601092\n",
      "Training fold #8\t0.5511669658886893\n",
      "Training fold #9\t0.5481002425222312\n",
      "Training fold #10\t0.5306122448979592\n",
      "Average score: 0.5390518261083432     Average threshold: 0.22951982766505719\n",
      "Evaluating model with parameters: {'min_samples_split': 15, 'min_samples_leaf': 22, 'n_jobs': -1, 'n_estimators': 80}\n",
      "Training fold #1\t0.5571797076526226\n",
      "Training fold #2\t0.5297569153394803\n",
      "Training fold #3\t0.522184300341297\n",
      "Training fold #4\t0.5520661157024793\n",
      "Training fold #5\t0.5351867940920938\n",
      "Training fold #6\t0.5255731922398589\n",
      "Training fold #7\t0.5223048327137546\n",
      "Training fold #8\t0.5623800383877159\n",
      "Training fold #9\t0.5439605587510271\n",
      "Training fold #10\t0.5236427320490369\n",
      "Average score: 0.5374235187269367     Average threshold: 0.22732782081647315\n",
      "Evaluating model with parameters: {'min_samples_split': 15, 'min_samples_leaf': 22, 'n_jobs': -1, 'n_estimators': 120}\n",
      "Training fold #1\t0.5595238095238095\n",
      "Training fold #2\t0.5287162162162162\n",
      "Training fold #3\t0.5236864771748493\n",
      "Training fold #4\t0.5499573014517507\n",
      "Training fold #5\t0.5317604355716877\n",
      "Training fold #6\t0.534740545294635\n",
      "Training fold #7\t0.5216589861751152\n",
      "Training fold #8\t0.5348047538200339\n",
      "Training fold #9\t0.548922056384743\n",
      "Training fold #10\t0.5287958115183247\n",
      "Average score: 0.5362566393131166     Average threshold: 0.22400546172276842\n",
      "Evaluating model with parameters: {'min_samples_split': 19, 'min_samples_leaf': 22, 'n_jobs': -1, 'n_estimators': 60}\n",
      "Training fold #1\t0.5654450261780104\n",
      "Training fold #2\t0.53800170794193\n",
      "Training fold #3\t0.5171503957783642\n",
      "Training fold #4\t0.5552699228791774\n",
      "Training fold #5\t0.5233812949640289\n",
      "Training fold #6\t0.5329719963866305\n",
      "Training fold #7\t0.526122823098075\n",
      "Training fold #8\t0.532883642495784\n",
      "Training fold #9\t0.5521367521367522\n",
      "Training fold #10\t0.539366515837104\n",
      "Average score: 0.5382730077695856     Average threshold: 0.23036216073025906\n",
      "Evaluating model with parameters: {'min_samples_split': 19, 'min_samples_leaf': 22, 'n_jobs': -1, 'n_estimators': 80}\n",
      "Training fold #1\t0.554006968641115\n",
      "Training fold #2\t0.5277540563620838\n",
      "Training fold #3\t0.5209222886421861\n",
      "Training fold #4\t0.5545224006762467\n",
      "Training fold #5\t0.5357466063348415\n",
      "Training fold #6\t0.539426523297491\n",
      "Training fold #7\t0.5242369838420107\n",
      "Training fold #8\t0.5429314830875975\n",
      "Training fold #9\t0.5462046204620462\n",
      "Training fold #10\t0.5334522747546833\n",
      "Average score: 0.5379204206100302     Average threshold: 0.22641665226020669\n",
      "Evaluating model with parameters: {'min_samples_split': 19, 'min_samples_leaf': 22, 'n_jobs': -1, 'n_estimators': 120}\n",
      "Training fold #1\t0.5570469798657719\n",
      "Training fold #2\t0.5336927223719676\n",
      "Training fold #3\t0.5240912933220625\n",
      "Training fold #4\t0.5595026642984015\n",
      "Training fold #5\t0.5320033250207814\n",
      "Training fold #6\t0.5234441602728048\n",
      "Training fold #7\t0.5221318879855466\n",
      "Training fold #8\t0.5511669658886893\n",
      "Training fold #9\t0.5419039869812855\n",
      "Training fold #10\t0.5274914089347079\n",
      "Average score: 0.5372475394942019     Average threshold: 0.2221837039003897\n",
      "Evaluating model with parameters: {'min_samples_split': 25, 'min_samples_leaf': 22, 'n_jobs': -1, 'n_estimators': 60}\n",
      "Training fold #1\t0.5599999999999999\n",
      "Training fold #2\t0.5264069264069264\n",
      "Training fold #3\t0.5231788079470199\n",
      "Training fold #4\t0.5524475524475525\n",
      "Training fold #5\t0.5319693094629155\n",
      "Training fold #6\t0.5271453590192644\n",
      "Training fold #7\t0.5240641711229946\n",
      "Training fold #8\t0.5498220640569395\n",
      "Training fold #9\t0.5438016528925619\n",
      "Training fold #10\t0.5302491103202847\n",
      "Average score: 0.536908495367646     Average threshold: 0.2252337376064653\n",
      "Evaluating model with parameters: {'min_samples_split': 25, 'min_samples_leaf': 22, 'n_jobs': -1, 'n_estimators': 80}\n",
      "Training fold #1\t0.5550660792951543\n",
      "Training fold #2\t0.5391304347826087\n",
      "Training fold #3\t0.5327354260089686\n",
      "Training fold #4\t0.5428329092451231\n",
      "Training fold #5\t0.5332152347209921\n",
      "Training fold #6\t0.524822695035461\n",
      "Training fold #7\t0.5194570135746606\n",
      "Training fold #8\t0.5382674516400336\n",
      "Training fold #9\t0.5316653635652855\n",
      "Training fold #10\t0.5291479820627802\n",
      "Average score: 0.5346340589931068     Average threshold: 0.22591418864257404\n",
      "Evaluating model with parameters: {'min_samples_split': 25, 'min_samples_leaf': 22, 'n_jobs': -1, 'n_estimators': 120}\n",
      "Training fold #1\t0.5600691443388073\n",
      "Training fold #2\t0.5300784655623365\n",
      "Training fold #3\t0.5240912933220625\n",
      "Training fold #4\t0.5478331970564188\n",
      "Training fold #5\t0.5257819103972949\n",
      "Training fold #6\t0.5321428571428571\n",
      "Training fold #7\t0.5215004574565415\n",
      "Training fold #8\t0.5626740947075209\n",
      "Training fold #9\t0.5494137353433837\n",
      "Training fold #10\t0.525764192139738\n",
      "Average score: 0.5379349347466962     Average threshold: 0.22468336373592024\n",
      "Evaluation finished\n",
      "Average score values: [0.54300941859070073, 0.54179964460497931, 0.54004799940151804, 0.54163061548323155, 0.53886483689112941, 0.53974401542726569, 0.54111144114555365, 0.53933296237454376, 0.53893816267267758, 0.53665476279589541, 0.53712499267052982, 0.53813608835371918, 0.53626976283450312, 0.53807719655144948, 0.5392997482866082, 0.54012080294135667, 0.53843835476713653, 0.53714772582388348, 0.53905182610834323, 0.53742351872693672, 0.53625663931311662, 0.53827300776958564, 0.53792042061003031, 0.5372475394942019, 0.53690849536764595, 0.53463405899310679, 0.53793493474669618]\n",
      "========== Ending grid search for <class 'sklearn.ensemble.forest.RandomForestClassifier'> ==========\n",
      "\n",
      "Best model found is: RandomForestClassifier(bootstrap=True, class_weight=None, criterion='gini',\n",
      "            max_depth=None, max_features='auto', max_leaf_nodes=None,\n",
      "            min_impurity_split=1e-07, min_samples_leaf=6,\n",
      "            min_samples_split=15, min_weight_fraction_leaf=0.0,\n",
      "            n_estimators=60, n_jobs=-1, oob_score=False, random_state=None,\n",
      "            verbose=0, warm_start=False)\n",
      "Best score training: 0.8115836538151766 - threshold: 0.29023173509073696\n",
      "Best score validation: 0.5430094185907007\n"
     ]
    },
    {
     "name": "stdout",
     "output_type": "stream",
     "text": [
      "\n",
      "\n",
      "\n",
      "Best model overall is: {'threshold_used': 0.29023173509073696, 'avg_score': 0.54300941859070073, 'thresholds': [0.28539574187634159, 0.2981900559450868, 0.28525084321136956, 0.28695040383979004, 0.28806637575045169, 0.29371801146897059, 0.28291290322401502, 0.29576066713644111, 0.29573365950940317, 0.29033868894550008], 'scores_tr': [0.81065947739527167, 0.8137286154500053, 0.81749999999999989, 0.81020301926080163, 0.81086729362591425, 0.81188537591202292, 0.80958776733133597, 0.81035393555203383, 0.81265155508697939, 0.80839949853740067], 'model': RandomForestClassifier(bootstrap=True, class_weight=None, criterion='gini',\n",
      "            max_depth=None, max_features='auto', max_leaf_nodes=None,\n",
      "            min_impurity_split=1e-07, min_samples_leaf=6,\n",
      "            min_samples_split=15, min_weight_fraction_leaf=0.0,\n",
      "            n_estimators=60, n_jobs=-1, oob_score=False, random_state=None,\n",
      "            verbose=0, warm_start=False), 'scores_cv': [0.54022988505747127, 0.54112983151635285, 0.52182347235693505, 0.56896551724137934, 0.53861386138613854, 0.53292806484295852, 0.50761421319796951, 0.56653225806451613, 0.56644034917555763, 0.54581673306772904]}\n",
      "Training on whole train set\n",
      "\n",
      "Final performance on test: 0.5284253578732107\n",
      "Re training on whole dataset\n"
     ]
    }
   ],
   "source": [
    "mst = monster.Kraken([RandomForestClassifier], [rf_params])\n",
    "mst.fit(X.loc[:, rfecv.get_support()], y)"
   ]
  },
  {
   "cell_type": "code",
   "execution_count": null,
   "metadata": {
    "collapsed": true
   },
   "outputs": [],
   "source": []
  }
 ],
 "metadata": {
  "kernelspec": {
   "display_name": "Python 3",
   "language": "python",
   "name": "python3"
  },
  "language_info": {
   "codemirror_mode": {
    "name": "ipython",
    "version": 3
   },
   "file_extension": ".py",
   "mimetype": "text/x-python",
   "name": "python",
   "nbconvert_exporter": "python",
   "pygments_lexer": "ipython3",
   "version": "3.5.3"
  }
 },
 "nbformat": 4,
 "nbformat_minor": 2
}
