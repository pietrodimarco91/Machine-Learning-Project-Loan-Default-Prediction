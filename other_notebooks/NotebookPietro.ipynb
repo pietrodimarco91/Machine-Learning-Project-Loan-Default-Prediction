{
 "cells": [
  {
   "cell_type": "code",
   "execution_count": 1,
   "metadata": {
    "collapsed": false
   },
   "outputs": [],
   "source": [
    "\n",
    "from xgboost import XGBClassifier\n",
    "import sklearn\n",
    "import matplotlib.pyplot as plt\n",
    "import pandas as pd\n",
    "%matplotlib inline\n",
    "import pandas as pd\n",
    "import numpy as np\n",
    "import sklearn\n",
    "import utils\n",
    "from sklearn import linear_model\n",
    "from sklearn import model_selection\n",
    "from sklearn.model_selection import KFold\n",
    "from sklearn import preprocessing\n",
    "from sklearn import tree\n",
    "from sklearn import linear_model\n",
    "from sklearn import naive_bayes\n",
    "from sklearn import neighbors\n",
    "from sklearn.neighbors.nearest_centroid import NearestCentroid\n",
    "from sklearn import tree\n",
    "from sklearn.svm import SVR\n",
    "from sklearn.ensemble import RandomForestClassifier\n",
    "from sklearn.model_selection import StratifiedKFold\n",
    "from sklearn.tree import DecisionTreeClassifier\n",
    "from sklearn.metrics import roc_curve,roc_auc_score,precision_score,recall_score,auc\n",
    "from matplotlib import pyplot\n",
    "from sklearn.feature_selection import SelectKBest\n",
    "from sklearn.feature_selection import chi2\n",
    "from sklearn.feature_selection import RFE"
   ]
  },
  {
   "cell_type": "code",
   "execution_count": 2,
   "metadata": {
    "collapsed": false
   },
   "outputs": [
    {
     "name": "stdout",
     "output_type": "stream",
     "text": [
      "<class 'pandas.core.frame.DataFrame'>\n",
      "RangeIndex: 26884 entries, 0 to 26883\n",
      "Data columns (total 83 columns):\n",
      "CUST_COD                     26884 non-null float64\n",
      "LIMIT_BAL                    26884 non-null float64\n",
      "SEX                          26884 non-null float64\n",
      "PAY_DEC                      26884 non-null float64\n",
      "PAY_NOV                      26884 non-null float64\n",
      "PAY_OCT                      26884 non-null float64\n",
      "PAY_SEP                      26884 non-null float64\n",
      "PAY_AUG                      26884 non-null float64\n",
      "PAY_JUL                      26884 non-null float64\n",
      "BILL_AMT_DEC                 26884 non-null float64\n",
      "BILL_AMT_NOV                 26884 non-null float64\n",
      "BILL_AMT_OCT                 26884 non-null float64\n",
      "BILL_AMT_SEP                 26884 non-null float64\n",
      "BILL_AMT_AUG                 26884 non-null float64\n",
      "BILL_AMT_JUL                 26884 non-null float64\n",
      "PAY_AMT_DEC                  26884 non-null float64\n",
      "PAY_AMT_NOV                  26884 non-null float64\n",
      "PAY_AMT_OCT                  26884 non-null float64\n",
      "PAY_AMT_SEP                  26884 non-null float64\n",
      "PAY_AMT_AUG                  26884 non-null float64\n",
      "PAY_AMT_JUL                  26884 non-null float64\n",
      "DEFAULT PAYMENT JAN          26884 non-null float64\n",
      "SEX_MISSING                  26884 non-null float64\n",
      "EDUCATION_MISSING            26884 non-null float64\n",
      "EDUCATION_graduate school    26884 non-null float64\n",
      "EDUCATION_high school        26884 non-null float64\n",
      "EDUCATION_other              26884 non-null float64\n",
      "EDUCATION_university         26884 non-null float64\n",
      "MARRIAGE_MISSING             26884 non-null float64\n",
      "MARRIAGE_married             26884 non-null float64\n",
      "MARRIAGE_other               26884 non-null float64\n",
      "MARRIAGE_single              26884 non-null float64\n",
      "AGE_MISSING                  26884 non-null float64\n",
      "AGE                          26884 non-null float64\n",
      "LIMIT-MEAN_BILL              26884 non-null float64\n",
      "AVG_PAY_LAST_2               26884 non-null float64\n",
      "AVG_PAY_LAST_3               26884 non-null float64\n",
      "AVG_PAY_LAST_4               26884 non-null float64\n",
      "AVG_PAY_LAST_5               26884 non-null float64\n",
      "AVG_PAY_LAST_6               26884 non-null float64\n",
      "PAY_TREND                    26884 non-null float64\n",
      "PAY_SKEW                     26884 non-null float64\n",
      "PAY_KURT                     26884 non-null float64\n",
      "AVG_BILL_AMT_LAST_2          26884 non-null float64\n",
      "AVG_BILL_AMT_LAST_3          26884 non-null float64\n",
      "AVG_BILL_AMT_LAST_4          26884 non-null float64\n",
      "AVG_BILL_AMT_LAST_5          26884 non-null float64\n",
      "AVG_BILL_AMT_LAST_6          26884 non-null float64\n",
      "BILL_AMT_TREND               26884 non-null float64\n",
      "BILL_AMT_SKEW                26884 non-null float64\n",
      "BILL_AMT_KURT                26884 non-null float64\n",
      "AVG_PAY_AMT_LAST_2           26884 non-null float64\n",
      "AVG_PAY_AMT_LAST_3           26884 non-null float64\n",
      "AVG_PAY_AMT_LAST_4           26884 non-null float64\n",
      "AVG_PAY_AMT_LAST_5           26884 non-null float64\n",
      "AVG_PAY_AMT_LAST_6           26884 non-null float64\n",
      "PAY_AMT_TREND                26884 non-null float64\n",
      "PAY_AMT_SKEW                 26884 non-null float64\n",
      "PAY_AMT_KURT                 26884 non-null float64\n",
      "DELTA_1                      26884 non-null float64\n",
      "DELTA_2                      26884 non-null float64\n",
      "DELTA_3                      26884 non-null float64\n",
      "DELTA_4                      26884 non-null float64\n",
      "DELTA_5                      26884 non-null float64\n",
      "PROD                         26884 non-null float64\n",
      "FRAC_PAY_1                   26884 non-null float64\n",
      "FRAC_PAY_2                   26884 non-null float64\n",
      "FRAC_PAY_3                   26884 non-null float64\n",
      "FRAC_PAY_4                   26884 non-null float64\n",
      "FRAC_PAY_5                   26884 non-null float64\n",
      "BILL_AMT_AR                  26884 non-null float64\n",
      "BILL_AMT_I                   26884 non-null float64\n",
      "BILL_AMT_MA                  26884 non-null float64\n",
      "BILL_AMT_SIGMA               26884 non-null float64\n",
      "PAY_AMT_AR                   26884 non-null float64\n",
      "PAY_AMT_I                    26884 non-null float64\n",
      "PAY_AMT_MA                   26884 non-null float64\n",
      "PAY_AMT_SIGMA                26884 non-null float64\n",
      "PAY_AR                       26884 non-null float64\n",
      "PAY_I                        26884 non-null float64\n",
      "PAY_MA                       26884 non-null float64\n",
      "PAY_SIGMA                    26884 non-null float64\n",
      "TOTAL_AMT_PAID               26884 non-null float64\n",
      "dtypes: float64(83)\n",
      "memory usage: 17.0 MB\n"
     ]
    }
   ],
   "source": [
    "dataSet = pd.read_csv('data/original_train_all_features.csv')\n",
    "dataSet.info()"
   ]
  },
  {
   "cell_type": "code",
   "execution_count": 3,
   "metadata": {
    "collapsed": false
   },
   "outputs": [
    {
     "data": {
      "text/html": [
       "<div>\n",
       "<table border=\"1\" class=\"dataframe\">\n",
       "  <thead>\n",
       "    <tr style=\"text-align: right;\">\n",
       "      <th></th>\n",
       "      <th>CUST_COD</th>\n",
       "      <th>LIMIT_BAL</th>\n",
       "      <th>SEX</th>\n",
       "      <th>PAY_DEC</th>\n",
       "      <th>PAY_NOV</th>\n",
       "      <th>PAY_OCT</th>\n",
       "      <th>PAY_SEP</th>\n",
       "      <th>PAY_AUG</th>\n",
       "      <th>PAY_JUL</th>\n",
       "      <th>BILL_AMT_DEC</th>\n",
       "      <th>...</th>\n",
       "      <th>BILL_AMT_SIGMA</th>\n",
       "      <th>PAY_AMT_AR</th>\n",
       "      <th>PAY_AMT_I</th>\n",
       "      <th>PAY_AMT_MA</th>\n",
       "      <th>PAY_AMT_SIGMA</th>\n",
       "      <th>PAY_AR</th>\n",
       "      <th>PAY_I</th>\n",
       "      <th>PAY_MA</th>\n",
       "      <th>PAY_SIGMA</th>\n",
       "      <th>TOTAL_AMT_PAID</th>\n",
       "    </tr>\n",
       "  </thead>\n",
       "  <tbody>\n",
       "    <tr>\n",
       "      <th>11202</th>\n",
       "      <td>46353047.0</td>\n",
       "      <td>2086.952</td>\n",
       "      <td>1.0</td>\n",
       "      <td>1.0</td>\n",
       "      <td>2.0</td>\n",
       "      <td>0.0</td>\n",
       "      <td>0.0</td>\n",
       "      <td>2.0</td>\n",
       "      <td>0.0</td>\n",
       "      <td>2117.272431</td>\n",
       "      <td>...</td>\n",
       "      <td>433.718863</td>\n",
       "      <td>0.0</td>\n",
       "      <td>0.0</td>\n",
       "      <td>0.0</td>\n",
       "      <td>28.825983</td>\n",
       "      <td>0.0</td>\n",
       "      <td>0.0</td>\n",
       "      <td>0.0</td>\n",
       "      <td>0.897527</td>\n",
       "      <td>232.814402</td>\n",
       "    </tr>\n",
       "    <tr>\n",
       "      <th>5180</th>\n",
       "      <td>19518106.0</td>\n",
       "      <td>6260.856</td>\n",
       "      <td>1.0</td>\n",
       "      <td>0.0</td>\n",
       "      <td>0.0</td>\n",
       "      <td>0.0</td>\n",
       "      <td>0.0</td>\n",
       "      <td>2.0</td>\n",
       "      <td>0.0</td>\n",
       "      <td>2314.638463</td>\n",
       "      <td>...</td>\n",
       "      <td>799.550258</td>\n",
       "      <td>0.0</td>\n",
       "      <td>0.0</td>\n",
       "      <td>0.0</td>\n",
       "      <td>1062.252680</td>\n",
       "      <td>0.0</td>\n",
       "      <td>0.0</td>\n",
       "      <td>0.0</td>\n",
       "      <td>0.745356</td>\n",
       "      <td>3523.550130</td>\n",
       "    </tr>\n",
       "    <tr>\n",
       "      <th>7480</th>\n",
       "      <td>46816412.0</td>\n",
       "      <td>298.136</td>\n",
       "      <td>1.0</td>\n",
       "      <td>0.0</td>\n",
       "      <td>0.0</td>\n",
       "      <td>-1.0</td>\n",
       "      <td>-1.0</td>\n",
       "      <td>0.0</td>\n",
       "      <td>0.0</td>\n",
       "      <td>233.380861</td>\n",
       "      <td>...</td>\n",
       "      <td>84.901422</td>\n",
       "      <td>0.0</td>\n",
       "      <td>0.0</td>\n",
       "      <td>0.0</td>\n",
       "      <td>80.839377</td>\n",
       "      <td>0.0</td>\n",
       "      <td>0.0</td>\n",
       "      <td>0.0</td>\n",
       "      <td>0.471405</td>\n",
       "      <td>304.575738</td>\n",
       "    </tr>\n",
       "    <tr>\n",
       "      <th>15501</th>\n",
       "      <td>31724877.0</td>\n",
       "      <td>2981.360</td>\n",
       "      <td>1.0</td>\n",
       "      <td>0.0</td>\n",
       "      <td>0.0</td>\n",
       "      <td>0.0</td>\n",
       "      <td>0.0</td>\n",
       "      <td>0.0</td>\n",
       "      <td>0.0</td>\n",
       "      <td>2295.855895</td>\n",
       "      <td>...</td>\n",
       "      <td>236.356101</td>\n",
       "      <td>0.0</td>\n",
       "      <td>1.0</td>\n",
       "      <td>0.0</td>\n",
       "      <td>16.865130</td>\n",
       "      <td>0.0</td>\n",
       "      <td>0.0</td>\n",
       "      <td>0.0</td>\n",
       "      <td>0.000000</td>\n",
       "      <td>691.675520</td>\n",
       "    </tr>\n",
       "    <tr>\n",
       "      <th>5087</th>\n",
       "      <td>32411464.0</td>\n",
       "      <td>5366.448</td>\n",
       "      <td>0.0</td>\n",
       "      <td>0.0</td>\n",
       "      <td>0.0</td>\n",
       "      <td>0.0</td>\n",
       "      <td>0.0</td>\n",
       "      <td>0.0</td>\n",
       "      <td>0.0</td>\n",
       "      <td>5319.938784</td>\n",
       "      <td>...</td>\n",
       "      <td>1353.164534</td>\n",
       "      <td>0.0</td>\n",
       "      <td>0.0</td>\n",
       "      <td>0.0</td>\n",
       "      <td>76.495756</td>\n",
       "      <td>0.0</td>\n",
       "      <td>0.0</td>\n",
       "      <td>0.0</td>\n",
       "      <td>0.000000</td>\n",
       "      <td>1520.493600</td>\n",
       "    </tr>\n",
       "  </tbody>\n",
       "</table>\n",
       "<p>5 rows × 83 columns</p>\n",
       "</div>"
      ],
      "text/plain": [
       "         CUST_COD  LIMIT_BAL  SEX  PAY_DEC  PAY_NOV  PAY_OCT  PAY_SEP  \\\n",
       "11202  46353047.0   2086.952  1.0      1.0      2.0      0.0      0.0   \n",
       "5180   19518106.0   6260.856  1.0      0.0      0.0      0.0      0.0   \n",
       "7480   46816412.0    298.136  1.0      0.0      0.0     -1.0     -1.0   \n",
       "15501  31724877.0   2981.360  1.0      0.0      0.0      0.0      0.0   \n",
       "5087   32411464.0   5366.448  0.0      0.0      0.0      0.0      0.0   \n",
       "\n",
       "       PAY_AUG  PAY_JUL  BILL_AMT_DEC       ...        BILL_AMT_SIGMA  \\\n",
       "11202      2.0      0.0   2117.272431       ...            433.718863   \n",
       "5180       2.0      0.0   2314.638463       ...            799.550258   \n",
       "7480       0.0      0.0    233.380861       ...             84.901422   \n",
       "15501      0.0      0.0   2295.855895       ...            236.356101   \n",
       "5087       0.0      0.0   5319.938784       ...           1353.164534   \n",
       "\n",
       "       PAY_AMT_AR  PAY_AMT_I  PAY_AMT_MA  PAY_AMT_SIGMA  PAY_AR  PAY_I  \\\n",
       "11202         0.0        0.0         0.0      28.825983     0.0    0.0   \n",
       "5180          0.0        0.0         0.0    1062.252680     0.0    0.0   \n",
       "7480          0.0        0.0         0.0      80.839377     0.0    0.0   \n",
       "15501         0.0        1.0         0.0      16.865130     0.0    0.0   \n",
       "5087          0.0        0.0         0.0      76.495756     0.0    0.0   \n",
       "\n",
       "       PAY_MA  PAY_SIGMA  TOTAL_AMT_PAID  \n",
       "11202     0.0   0.897527      232.814402  \n",
       "5180      0.0   0.745356     3523.550130  \n",
       "7480      0.0   0.471405      304.575738  \n",
       "15501     0.0   0.000000      691.675520  \n",
       "5087      0.0   0.000000     1520.493600  \n",
       "\n",
       "[5 rows x 83 columns]"
      ]
     },
     "execution_count": 3,
     "metadata": {},
     "output_type": "execute_result"
    }
   ],
   "source": [
    "from sklearn.model_selection import train_test_split\n",
    "train, test = train_test_split(dataSet, test_size = 0.2)\n",
    "target = 'DEFAULT PAYMENT JAN'\n",
    "features = test.columns[test.columns!=target]\n",
    "train.head()"
   ]
  },
  {
   "cell_type": "code",
   "execution_count": 4,
   "metadata": {
    "collapsed": true
   },
   "outputs": [],
   "source": [
    "xTr = train[features]\n",
    "yTr = train[target]\n",
    "xTe = test[features]\n",
    "yTe = test[target]"
   ]
  },
  {
   "cell_type": "code",
   "execution_count": 9,
   "metadata": {
    "collapsed": false
   },
   "outputs": [
    {
     "name": "stdout",
     "output_type": "stream",
     "text": [
      "Converting X in numpy array\n",
      "Converting y in numpy array\n",
      "Created test holdout. % positive class in test holdout = 0.22129242212924222\n",
      "\n",
      "\n",
      "========== Starting grid search for <class 'xgboost.sklearn.XGBClassifier'> ==========\n",
      "Evaluating model with parameters: {'base_score': 0.2, 'max_depth': 3, 'n_estimators': 95, 'n_jobs': -1, 'seed': 2323}\n",
      "Training fold #1\t0.5461346633416458\n",
      "Training fold #2\t0.5714285714285714\n",
      "Training fold #3\t0.5391095066185319\n",
      "Training fold #4\t0.5586457073760581\n",
      "Training fold #5\t0.5443196004993759\n",
      "Training fold #6\t0.5614849187935035\n",
      "Training fold #7\t0.5502392344497608\n",
      "Training fold #8\t0.5693606755126659\n",
      "Training fold #9\t0.5616264294790342\n",
      "Training fold #10\t0.5267080745341616\n",
      "Average score: 0.5529057382033308     Average threshold: 0.27027130126953125\n",
      "Evaluation finished\n",
      "Average score values: [0.55290573820333078]\n",
      "========== Ending grid search for <class 'xgboost.sklearn.XGBClassifier'> ==========\n",
      "\n",
      "Best model found is: XGBClassifier(base_score=0.2, booster='gbtree', colsample_bylevel=1,\n",
      "       colsample_bytree=1, gamma=0, learning_rate=0.1, max_delta_step=0,\n",
      "       max_depth=3, min_child_weight=1, missing=None, n_estimators=95,\n",
      "       n_jobs=-1, nthread=-1, objective='binary:logistic',\n",
      "       random_state=2323, reg_alpha=0, reg_lambda=1, scale_pos_weight=1,\n",
      "       seed=2323, silent=True, subsample=1)\n",
      "Best score training: 0.5870029263122601 - threshold: 0.27027130126953125\n",
      "Best score validation: 0.5529057382033308\n",
      "\n",
      "\n",
      "\n",
      "Best model overall is: {'model': XGBClassifier(base_score=0.2, booster='gbtree', colsample_bylevel=1,\n",
      "       colsample_bytree=1, gamma=0, learning_rate=0.1, max_delta_step=0,\n",
      "       max_depth=3, min_child_weight=1, missing=None, n_estimators=95,\n",
      "       n_jobs=-1, nthread=-1, objective='binary:logistic',\n",
      "       random_state=2323, reg_alpha=0, reg_lambda=1, scale_pos_weight=1,\n",
      "       seed=2323, silent=True, subsample=1), 'threshold_used': 0.2702713, 'scores_cv': [0.54613466334164584, 0.5714285714285714, 0.53910950661853185, 0.55864570737605812, 0.54431960049937589, 0.56148491879350348, 0.55023923444976075, 0.56936067551266589, 0.56162642947903418, 0.52670807453416157], 'scores_tr': [0.58965986394557812, 0.58507890961262554, 0.58826717246985494, 0.58566058002148225, 0.58910821783564327, 0.58364116094986807, 0.58775731310942581, 0.5850431965442765, 0.58617795187465016, 0.58963489675919589], 'thresholds': [0.26944751, 0.29793888, 0.25722101, 0.26876709, 0.28696355, 0.24854307, 0.26595363, 0.25759256, 0.28258321, 0.26770246], 'avg_score': 0.55290573820333078}\n",
      "Training on whole train set\n",
      "\n",
      "Final performance on test: 0.5399802566633761\n",
      "Re training on whole dataset\n"
     ]
    }
   ],
   "source": [
    "from monster import Kraken\n",
    "\n",
    "RANDOM_SEED = 2323\n",
    "\n",
    "params_xgb = {\n",
    "\t'base_score' : [0.2],\n",
    "\t'max_depth' : [3],\n",
    "\t'n_estimators' : [95],\n",
    "\t'seed' : [RANDOM_SEED],\n",
    "    'n_jobs': [-1],\n",
    "}\n",
    "\n",
    "\n",
    "\n",
    "\n",
    "models = [XGBClassifier]\n",
    "params = [params_xgb]\n",
    "\n",
    "krk = Kraken(models, params, random_state = RANDOM_SEED)\n",
    "krk.fit(xTr, yTr)"
   ]
  },
  {
   "cell_type": "code",
   "execution_count": null,
   "metadata": {
    "collapsed": false
   },
   "outputs": [],
   "source": [
    "from monster import Kraken\n",
    "\n",
    "RANDOM_SEED = 2323\n",
    "\n",
    "params_xgb = {\n",
    "\t'base_score' : [0.3,0.2,0.4],\n",
    "\t'max_depth' : [7,10,15],\n",
    "    'gamma' : [2,3,2,5],\n",
    "\t'n_estimators' : [90,100,120,140],\n",
    "\t'seed' : [RANDOM_SEED],\n",
    "    'n_jobs': [-1],\n",
    "}\n",
    "\n",
    "\n",
    "\n",
    "\n",
    "models = [XGBClassifier]\n",
    "params = [params_xgb]\n",
    "\n",
    "krk = Kraken(models, params, random_state = RANDOM_SEED)\n",
    "krk.fit(xTr, yTr)"
   ]
  },
  {
   "cell_type": "markdown",
   "metadata": {},
   "source": [
    "# XGBoost"
   ]
  },
  {
   "cell_type": "markdown",
   "metadata": {},
   "source": [
    "#      \"text/plain\": [\n",
    "       \"XGBClassifier(base_score=0.3, booster='gbtree', colsample_bylevel=1,\\n\",\n",
    "       \"       colsample_bytree=1, gamma=0, learning_rate=0.1, max_delta_step=0,\\n\",\n",
    "       \"       max_depth=50, min_child_weight=1, missing=None, n_estimators=200,\\n\",\n",
    "       \"       n_jobs=4, nthread=4, objective='binary:logistic', random_state=0,\\n\",\n",
    "       \"       reg_alpha=0, reg_lambda=1, scale_pos_weight=1, seed=0, silent=True,\\n\",\n",
    "       \"       subsample=1)\"\n"
   ]
  },
  {
   "cell_type": "code",
   "execution_count": null,
   "metadata": {
    "collapsed": false
   },
   "outputs": [],
   "source": [
    "params = {\n",
    "}\n",
    "\n",
    "grid = utils.ThresholdGridCV(XGBClassifier, params)\n",
    "grid.fit(xTr, yTr)\n",
    "grid._scores"
   ]
  },
  {
   "cell_type": "markdown",
   "metadata": {
    "collapsed": false
   },
   "source": [
    "# grid._threshold"
   ]
  },
  {
   "cell_type": "code",
   "execution_count": null,
   "metadata": {
    "collapsed": true
   },
   "outputs": [],
   "source": [
    "from sklearn.metrics import f1_score\n",
    "yPre=xg.predict(xTe)\n",
    "f1_score(yTe, yPre)"
   ]
  },
  {
   "cell_type": "code",
   "execution_count": null,
   "metadata": {
    "collapsed": false
   },
   "outputs": [],
   "source": [
    "from sklearn.ensemble import ExtraTreesClassifier\n",
    "model = ExtraTreesClassifier()\n",
    "model.fit(xTr, yTr)\n",
    "importances = model.feature_importances_\n",
    "indices = np.argsort(importances)[-40:]\n",
    "tra = train.ix[:,indices]\n",
    "xTr = train[features]\n",
    "yTr = train[target]\n",
    "tra.info()\n"
   ]
  },
  {
   "cell_type": "code",
   "execution_count": null,
   "metadata": {
    "collapsed": false
   },
   "outputs": [],
   "source": [
    "indices = np.argsort(importances)[-20:]\n",
    "tra = train.ix[:,indices]\n",
    "xTr = train[features]\n",
    "yTr = train[target]\n",
    "train.info()"
   ]
  },
  {
   "cell_type": "markdown",
   "metadata": {},
   "source": [
    "# Confusion matrix Accuracy f1"
   ]
  },
  {
   "cell_type": "code",
   "execution_count": null,
   "metadata": {
    "collapsed": true
   },
   "outputs": [],
   "source": []
  },
  {
   "cell_type": "code",
   "execution_count": null,
   "metadata": {
    "collapsed": true
   },
   "outputs": [],
   "source": [
    "from sklearn.metrics import confusion_matrix\n",
    "from sklearn.ensemble import AdaBoostClassifier\n",
    "ada2 = AdaBoostClassifier(n_estimators=500, random_state=0)\n",
    "ada2 = ada2.fit(xTr,yTr)\n",
    "yPre=ada2.predict(xTe)\n",
    "conf=confusion_matrix(yTe, yPre)"
   ]
  },
  {
   "cell_type": "code",
   "execution_count": null,
   "metadata": {
    "collapsed": false
   },
   "outputs": [],
   "source": [
    "from sklearn.metrics import f1_score\n",
    "f1_score(yTe, yPre)"
   ]
  },
  {
   "cell_type": "code",
   "execution_count": null,
   "metadata": {
    "collapsed": true
   },
   "outputs": [],
   "source": [
    "import utils\n",
    "utils.get_best_threshold(ada2,xTe,yTe)\n",
    "ada2.getparam()"
   ]
  },
  {
   "cell_type": "markdown",
   "metadata": {},
   "source": [
    "# Evaluation using crossvalidation"
   ]
  },
  {
   "cell_type": "code",
   "execution_count": null,
   "metadata": {
    "collapsed": true
   },
   "outputs": [],
   "source": [
    "dt_entropy = tree.DecisionTreeClassifier()"
   ]
  },
  {
   "cell_type": "code",
   "execution_count": null,
   "metadata": {
    "collapsed": true
   },
   "outputs": [],
   "source": [
    "dt_entropy = tree.DecisionTreeClassifier('entropy',max_depth=10)\n",
    "dt_entropy = dt_entropy.fit(x,y)\n",
    "xval_entropy = model_selection.cross_val_score(dt_entropy, x, y, cv=KFold(n_splits=10, shuffle=True, random_state=1234))\n",
    "print(\"Decision Tree (Entropy) Accuracy = %3.2f +/- %.4f\" %(np.average(xval_entropy),np.std(xval_entropy)))"
   ]
  },
  {
   "cell_type": "code",
   "execution_count": null,
   "metadata": {
    "collapsed": true
   },
   "outputs": [],
   "source": [
    "rf = RandomForestClassifier(n_estimators=100, max_depth=None, min_samples_split=2, random_state=0)\n",
    "rf = rf.fit(x,y)\n",
    "rf_eval = model_selection.cross_val_score(rf, x, y, cv=StratifiedKFold(n_splits=10,random_state=52725,shuffle=True))\n",
    "print(\"Random Forest\\t%4.3f\\t%4.3f\" % (np.average(rf_eval), np.std(rf_eval)))"
   ]
  },
  {
   "cell_type": "code",
   "execution_count": null,
   "metadata": {
    "collapsed": true
   },
   "outputs": [],
   "source": [
    "from sklearn.ensemble import AdaBoostClassifier\n",
    "ada = AdaBoostClassifier(n_estimators=100, random_state=0)\n",
    "ada = ada.fit(x,y)\n",
    "ada_eval = model_selection.cross_val_score(ada, x, y, cv=StratifiedKFold(n_splits=10,random_state=52725,shuffle=True))\n",
    "print(\"Ada\\t%4.3f\\t%4.3f\" % (np.average(rf_eval), np.std(rf_eval)))"
   ]
  },
  {
   "cell_type": "markdown",
   "metadata": {},
   "source": [
    "## "
   ]
  }
 ],
 "metadata": {
  "kernelspec": {
   "display_name": "Python 3",
   "language": "python",
   "name": "python3"
  },
  "language_info": {
   "codemirror_mode": {
    "name": "ipython",
    "version": 3
   },
   "file_extension": ".py",
   "mimetype": "text/x-python",
   "name": "python",
   "nbconvert_exporter": "python",
   "pygments_lexer": "ipython3",
   "version": "3.6.0"
  }
 },
 "nbformat": 4,
 "nbformat_minor": 2
}
