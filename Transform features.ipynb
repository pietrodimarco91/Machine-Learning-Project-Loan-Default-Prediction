{
 "cells": [
  {
   "cell_type": "code",
   "execution_count": 1,
   "metadata": {
    "collapsed": true
   },
   "outputs": [],
   "source": [
    "import matplotlib.pyplot as plt\n",
    "import seaborn as sns\n",
    "%matplotlib inline\n",
    "\n",
    "import pandas as pd\n",
    "import numpy as np\n",
    "\n",
    "from sklearn.tree import DecisionTreeClassifier\n",
    "from sklearn.ensemble import RandomForestClassifier\n",
    "from sklearn.metrics import accuracy_score\n",
    "\n",
    "from scipy.stats import skew, kurtosis"
   ]
  },
  {
   "cell_type": "code",
   "execution_count": 2,
   "metadata": {
    "collapsed": true
   },
   "outputs": [],
   "source": [
    "train = pd.read_csv('data/train_clean.csv')\n",
    "test = pd.read_csv('data/test_clean.csv', delimiter=';')"
   ]
  },
  {
   "cell_type": "code",
   "execution_count": 3,
   "metadata": {
    "collapsed": true
   },
   "outputs": [],
   "source": [
    "pay_cols = ['PAY_JUL', 'PAY_AUG', 'PAY_SEP', 'PAY_OCT', 'PAY_NOV', 'PAY_DEC']\n",
    "bill_amt_cols = ['BILL_AMT_JUL', 'BILL_AMT_AUG', 'BILL_AMT_SEP', 'BILL_AMT_OCT', 'BILL_AMT_NOV', 'BILL_AMT_DEC']\n",
    "pay_amt_cols = ['PAY_AMT_JUL', 'PAY_AMT_AUG', 'PAY_AMT_SEP', 'PAY_AMT_OCT', 'PAY_AMT_NOV', 'PAY_AMT_DEC']\n",
    "\n",
    "avg_pay_last = ['AVG_PAY_LAST_2', 'AVG_PAY_LAST_3', 'AVG_PAY_LAST_4', 'AVG_PAY_LAST_5', 'AVG_PAY_LAST_6']\n",
    "avg_bill_last = ['AVG_BILL_LAST_2', 'AVG_BILL_LAST_3', 'AVG_BILL_LAST_4', 'AVG_BILL_LAST_5', 'AVG_BILL_LAST_6']"
   ]
  },
  {
   "cell_type": "markdown",
   "metadata": {},
   "source": [
    "## Sex"
   ]
  },
  {
   "cell_type": "code",
   "execution_count": 4,
   "metadata": {
    "collapsed": true
   },
   "outputs": [],
   "source": [
    "for df in [train, test]:\n",
    "    df['SEX_MISSING'] = df['SEX'].isnull()*1      # Add a column to say if sex was missing or not\n",
    "    df.loc[df['SEX'].isnull(), 'SEX'] = 'F' # Predict sex with majority class\n",
    "    df['SEX'] = df['SEX'].apply(lambda x : 0 if x == 'M' else 1)   # Convert to M -> 0, F -> 1"
   ]
  },
  {
   "cell_type": "markdown",
   "metadata": {},
   "source": [
    "## Education"
   ]
  },
  {
   "cell_type": "code",
   "execution_count": 5,
   "metadata": {
    "collapsed": true
   },
   "outputs": [],
   "source": [
    "for df in [train, test]:\n",
    "    df['EDUCATION_MISSING'] = df['EDUCATION'].isnull() * 1 # Add a column to say if education was missing or not\n",
    "    df['EDUCATION'] = df['EDUCATION'].fillna('other')    # Predict missing values as other\n",
    "\n",
    "train = pd.get_dummies(train, columns=['EDUCATION'])   # Get one hot vector for education\n",
    "test = pd.get_dummies(test, columns=['EDUCATION'])"
   ]
  },
  {
   "cell_type": "markdown",
   "metadata": {},
   "source": [
    "## Marriage"
   ]
  },
  {
   "cell_type": "code",
   "execution_count": 6,
   "metadata": {
    "collapsed": true
   },
   "outputs": [],
   "source": [
    "for df in [train, test]:\n",
    "    df['MARRIAGE_MISSING'] = df['MARRIAGE'].isnull() * 1 # Add a column to say if education was missing or not\n",
    "    df['MARRIAGE'] = df['MARRIAGE'].fillna('other')    # Predict missing values as other\n",
    "\n",
    "train = pd.get_dummies(train, columns=['MARRIAGE'])   # Get one hot vector for education\n",
    "test = pd.get_dummies(test, columns=['MARRIAGE'])   # Get one hot vector for education\n"
   ]
  },
  {
   "cell_type": "markdown",
   "metadata": {
    "collapsed": true
   },
   "source": [
    "## Age"
   ]
  },
  {
   "cell_type": "code",
   "execution_count": 7,
   "metadata": {
    "collapsed": true
   },
   "outputs": [],
   "source": [
    "import datetime\n",
    "\n",
    "def get_age(date):\n",
    "    try:\n",
    "        if len(date) == 10:\n",
    "            return (datetime.datetime.today() - datetime.datetime.strptime(date, '%d/%m/%Y')).days//365\n",
    "        else:\n",
    "            return (datetime.datetime.today() - datetime.datetime.strptime(date[:10], '%Y-%m-%d')).days//365\n",
    "    except Exception as e:\n",
    "        return np.nan"
   ]
  },
  {
   "cell_type": "code",
   "execution_count": 8,
   "metadata": {
    "collapsed": true
   },
   "outputs": [],
   "source": [
    "for df in [train, test]:\n",
    "    df['AGE_MISSING'] = df['BIRTH_DATE'].isnull() * 1\n",
    "    \n",
    "    df['AGE'] = df['BIRTH_DATE'].apply(get_age)\n",
    "    df.loc[df['AGE'].isnull(), 'AGE'] = df['AGE'].mean() #for the moment we predict missing ages with the mean value \n",
    "\n",
    "train = train.drop(['BIRTH_DATE'], axis=1)\n",
    "test = test.drop(['BIRTH_DATE'], axis=1)"
   ]
  },
  {
   "cell_type": "code",
   "execution_count": 9,
   "metadata": {
    "collapsed": true
   },
   "outputs": [],
   "source": [
    "for df in [train, test]:\n",
    "    df['LIMIT-MEAN_BILL'] = df.apply(lambda x: x['LIMIT_BAL'] - x[bill_amt_cols].mean() , axis=1)"
   ]
  },
  {
   "cell_type": "markdown",
   "metadata": {},
   "source": [
    "## Normalize bill amt and pay amt"
   ]
  },
  {
   "cell_type": "code",
   "execution_count": 10,
   "metadata": {
    "collapsed": true
   },
   "outputs": [],
   "source": [
    "def normalize_bill_amt(df):\n",
    "    cols = bill_amt_cols\n",
    "    mean = df[cols].mean()\n",
    "    std = df[cols].std()\n",
    "    \n",
    "    if std > 0:\n",
    "        df[cols] = (df[cols] - mean) / std\n",
    "    else:\n",
    "        df[cols] = (df[cols] - mean)\n",
    "    \n",
    "    return df\n",
    "\n",
    "def normalize_pay_amt(df):\n",
    "    cols = pay_amt_cols\n",
    "    mean = df[cols].mean()\n",
    "    std = df[cols].std()\n",
    "    \n",
    "    if std > 0:\n",
    "        df[cols] = (df[cols] - mean) / std\n",
    "    else:\n",
    "        df[cols] = (df[cols] - mean)\n",
    "    \n",
    "    return df"
   ]
  },
  {
   "cell_type": "code",
   "execution_count": 11,
   "metadata": {
    "collapsed": true
   },
   "outputs": [],
   "source": [
    "#train = train.apply(normalize_bill_amt, axis=1)\n",
    "#train = train.apply(normalize_pay_amt, axis=1)\n",
    "\n",
    "#test = test.apply(normalize_bill_amt, axis=1)\n",
    "#test = test.apply(normalize_pay_amt, axis=1)"
   ]
  },
  {
   "cell_type": "markdown",
   "metadata": {},
   "source": [
    "## PAYMENTS"
   ]
  },
  {
   "cell_type": "code",
   "execution_count": 12,
   "metadata": {},
   "outputs": [],
   "source": [
    "def avg_payments(columns):\n",
    "    def ret(x):\n",
    "        retval = 0\n",
    "        for c in columns:\n",
    "            retval += x[c]\n",
    "        return retval / len(columns)\n",
    "    return ret\n",
    "\n",
    "for df in [train, test]:\n",
    "    for i in range(-2, -7, -1):\n",
    "        df['AVG_PAY_LAST_{0}'.format(-1*i)] = df.apply(avg_payments(pay_cols[i:]), axis=1)"
   ]
  },
  {
   "cell_type": "code",
   "execution_count": 13,
   "metadata": {
    "collapsed": true
   },
   "outputs": [],
   "source": [
    "def get_trend(y):\n",
    "    N = len(y)\n",
    "    x = range(N)\n",
    "    B = (sum(x[i] * y[i] for i in range(N)) - 1./N*sum(x)*sum(y)) / (sum(x[i]**2 for i in range(N)) - 1./N*sum(x)**2)\n",
    "    return B\n",
    "    \n",
    "def get_col_trend(cols):\n",
    "    def get_cols(x):\n",
    "        return get_trend([v for v in x.loc[cols]])\n",
    "    return get_cols\n",
    "\n",
    "for df in [train, test]:\n",
    "    df['PAY_TREND'] = df.apply(get_col_trend(pay_cols), axis=1)"
   ]
  },
  {
   "cell_type": "code",
   "execution_count": 14,
   "metadata": {
    "collapsed": true
   },
   "outputs": [],
   "source": [
    "for df in [train, test]:\n",
    "    df['PAY_SKEW'] = df[pay_cols].skew(axis=1)\n",
    "    df['PAY_KURT'] = df[pay_cols].kurt(axis=1)"
   ]
  },
  {
   "cell_type": "markdown",
   "metadata": {},
   "source": [
    "## BILL AMT"
   ]
  },
  {
   "cell_type": "code",
   "execution_count": 15,
   "metadata": {
    "collapsed": true
   },
   "outputs": [],
   "source": [
    "for df in [train, test]:\n",
    "    for i in range(-2, -7, -1):\n",
    "        df['AVG_BILL_AMT_LAST_{0}'.format(-1*i)] = df.apply(avg_payments(bill_amt_cols[i:]), axis=1)"
   ]
  },
  {
   "cell_type": "code",
   "execution_count": 16,
   "metadata": {
    "collapsed": true
   },
   "outputs": [],
   "source": [
    "for df in [train, test]:\n",
    "    df['BILL_AMT_TREND'] = df.apply(get_col_trend(bill_amt_cols), axis=1)"
   ]
  },
  {
   "cell_type": "code",
   "execution_count": 17,
   "metadata": {
    "collapsed": true
   },
   "outputs": [],
   "source": [
    "for df in [train, test]:\n",
    "    df['BILL_AMT_SKEW'] = df[bill_amt_cols].skew(axis=1)\n",
    "    df['BILL_AMT_KURT'] = df[bill_amt_cols].kurt(axis=1)"
   ]
  },
  {
   "cell_type": "markdown",
   "metadata": {},
   "source": [
    "## PAY AMT"
   ]
  },
  {
   "cell_type": "code",
   "execution_count": 18,
   "metadata": {
    "collapsed": true
   },
   "outputs": [],
   "source": [
    "for df in [train, test]:\n",
    "    for i in range(-2, -7, -1):\n",
    "        df['AVG_PAY_AMT_LAST_{0}'.format(-1*i)] = df.apply(avg_payments(pay_amt_cols[i:]), axis=1)\n",
    "        \n",
    "    df['PAY_AMT_TREND'] = df.apply(get_col_trend(pay_amt_cols), axis=1)"
   ]
  },
  {
   "cell_type": "code",
   "execution_count": 19,
   "metadata": {
    "collapsed": true
   },
   "outputs": [],
   "source": [
    "for df in [train, test]:\n",
    "    df['PAY_AMT_SKEW'] = df[pay_amt_cols].skew(axis=1)\n",
    "    df['PAY_AMT_KURT'] = df[pay_amt_cols].kurt(axis=1)"
   ]
  },
  {
   "cell_type": "markdown",
   "metadata": {},
   "source": [
    "## Delta amt"
   ]
  },
  {
   "cell_type": "code",
   "execution_count": 20,
   "metadata": {
    "collapsed": true
   },
   "outputs": [],
   "source": [
    "for df in [train, test]:\n",
    "    for i in range(1, 6):\n",
    "        df['DELTA_{0}'.format(i)] = df.apply(lambda x : x.loc[bill_amt_cols[i]] - x.loc[bill_amt_cols[i-1]], axis=1)"
   ]
  },
  {
   "cell_type": "markdown",
   "metadata": {},
   "source": [
    "## Trend product"
   ]
  },
  {
   "cell_type": "code",
   "execution_count": 21,
   "metadata": {
    "collapsed": true
   },
   "outputs": [],
   "source": [
    "for df in [train, test]:\n",
    "    df['PROD'] = df.apply(lambda x : x['PAY_AMT_TREND'] * x['BILL_AMT_TREND'], axis=1)"
   ]
  },
  {
   "cell_type": "markdown",
   "metadata": {},
   "source": [
    "## Fraction paid"
   ]
  },
  {
   "cell_type": "code",
   "execution_count": 22,
   "metadata": {
    "collapsed": true
   },
   "outputs": [],
   "source": [
    "for df in [train, test]:\n",
    "    for i in range(1, 6):\n",
    "        df['FRAC_PAY_{0}'.format(i)] = df.apply(lambda x : x.loc[pay_amt_cols[i]] / x.loc[bill_amt_cols[i-1]] if x.loc[bill_amt_cols[i-1]] != 0 else 0, axis=1)"
   ]
  },
  {
   "cell_type": "markdown",
   "metadata": {},
   "source": [
    "## ARIMA process order and std"
   ]
  },
  {
   "cell_type": "code",
   "execution_count": 23,
   "metadata": {
    "collapsed": true
   },
   "outputs": [],
   "source": [
    "train_ts_params = pd.read_csv('data/other/train_orders.csv')"
   ]
  },
  {
   "cell_type": "code",
   "execution_count": 24,
   "metadata": {
    "collapsed": true
   },
   "outputs": [],
   "source": [
    "test_ts_params = pd.read_csv('data/other/test_orders.csv')"
   ]
  },
  {
   "cell_type": "code",
   "execution_count": 25,
   "metadata": {
    "collapsed": true
   },
   "outputs": [],
   "source": [
    "train = pd.concat([train, train_ts_params], axis=1)\n",
    "test = pd.concat([test, test_ts_params], axis=1)"
   ]
  },
  {
   "cell_type": "code",
   "execution_count": 26,
   "metadata": {
    "collapsed": true
   },
   "outputs": [],
   "source": [
    "train = train.replace(np.nan, train.max().max())"
   ]
  },
  {
   "cell_type": "markdown",
   "metadata": {},
   "source": [
    "## Total amout paid back"
   ]
  },
  {
   "cell_type": "code",
   "execution_count": 27,
   "metadata": {
    "collapsed": true
   },
   "outputs": [],
   "source": [
    "for df in [train, test]:\n",
    "    df['TOTAL_AMT_PAID'] = df['PAY_AMT_JUL'] + df['PAY_AMT_AUG'] + df['PAY_AMT_SEP'] + df['PAY_AMT_OCT'] + df['PAY_AMT_NOV'] + df['PAY_AMT_DEC']"
   ]
  },
  {
   "cell_type": "markdown",
   "metadata": {},
   "source": [
    "# Write final train and test"
   ]
  },
  {
   "cell_type": "code",
   "execution_count": 28,
   "metadata": {
    "collapsed": true
   },
   "outputs": [],
   "source": [
    "train = train.astype('float64')\n",
    "test = test.astype('float64')"
   ]
  },
  {
   "cell_type": "code",
   "execution_count": 29,
   "metadata": {
    "collapsed": true
   },
   "outputs": [],
   "source": [
    "train.to_csv('data/train_all_features.csv', index=None)\n",
    "test.to_csv('data/test_all_features.csv', index=None)"
   ]
  },
  {
   "cell_type": "code",
   "execution_count": 30,
   "metadata": {
    "scrolled": false
   },
   "outputs": [
    {
     "name": "stdout",
     "output_type": "stream",
     "text": [
      "<class 'pandas.core.frame.DataFrame'>\n",
      "RangeIndex: 26884 entries, 0 to 26883\n",
      "Data columns (total 83 columns):\n",
      "CUST_COD                     26884 non-null float64\n",
      "LIMIT_BAL                    26884 non-null float64\n",
      "SEX                          26884 non-null float64\n",
      "PAY_DEC                      26884 non-null float64\n",
      "PAY_NOV                      26884 non-null float64\n",
      "PAY_OCT                      26884 non-null float64\n",
      "PAY_SEP                      26884 non-null float64\n",
      "PAY_AUG                      26884 non-null float64\n",
      "PAY_JUL                      26884 non-null float64\n",
      "BILL_AMT_DEC                 26884 non-null float64\n",
      "BILL_AMT_NOV                 26884 non-null float64\n",
      "BILL_AMT_OCT                 26884 non-null float64\n",
      "BILL_AMT_SEP                 26884 non-null float64\n",
      "BILL_AMT_AUG                 26884 non-null float64\n",
      "BILL_AMT_JUL                 26884 non-null float64\n",
      "PAY_AMT_DEC                  26884 non-null float64\n",
      "PAY_AMT_NOV                  26884 non-null float64\n",
      "PAY_AMT_OCT                  26884 non-null float64\n",
      "PAY_AMT_SEP                  26884 non-null float64\n",
      "PAY_AMT_AUG                  26884 non-null float64\n",
      "PAY_AMT_JUL                  26884 non-null float64\n",
      "DEFAULT PAYMENT JAN          26884 non-null float64\n",
      "SEX_MISSING                  26884 non-null float64\n",
      "EDUCATION_MISSING            26884 non-null float64\n",
      "EDUCATION_graduate school    26884 non-null float64\n",
      "EDUCATION_high school        26884 non-null float64\n",
      "EDUCATION_other              26884 non-null float64\n",
      "EDUCATION_university         26884 non-null float64\n",
      "MARRIAGE_MISSING             26884 non-null float64\n",
      "MARRIAGE_married             26884 non-null float64\n",
      "MARRIAGE_other               26884 non-null float64\n",
      "MARRIAGE_single              26884 non-null float64\n",
      "AGE_MISSING                  26884 non-null float64\n",
      "AGE                          26884 non-null float64\n",
      "LIMIT-MEAN_BILL              26884 non-null float64\n",
      "AVG_PAY_LAST_2               26884 non-null float64\n",
      "AVG_PAY_LAST_3               26884 non-null float64\n",
      "AVG_PAY_LAST_4               26884 non-null float64\n",
      "AVG_PAY_LAST_5               26884 non-null float64\n",
      "AVG_PAY_LAST_6               26884 non-null float64\n",
      "PAY_TREND                    26884 non-null float64\n",
      "PAY_SKEW                     26884 non-null float64\n",
      "PAY_KURT                     26884 non-null float64\n",
      "AVG_BILL_AMT_LAST_2          26884 non-null float64\n",
      "AVG_BILL_AMT_LAST_3          26884 non-null float64\n",
      "AVG_BILL_AMT_LAST_4          26884 non-null float64\n",
      "AVG_BILL_AMT_LAST_5          26884 non-null float64\n",
      "AVG_BILL_AMT_LAST_6          26884 non-null float64\n",
      "BILL_AMT_TREND               26884 non-null float64\n",
      "BILL_AMT_SKEW                26884 non-null float64\n",
      "BILL_AMT_KURT                26884 non-null float64\n",
      "AVG_PAY_AMT_LAST_2           26884 non-null float64\n",
      "AVG_PAY_AMT_LAST_3           26884 non-null float64\n",
      "AVG_PAY_AMT_LAST_4           26884 non-null float64\n",
      "AVG_PAY_AMT_LAST_5           26884 non-null float64\n",
      "AVG_PAY_AMT_LAST_6           26884 non-null float64\n",
      "PAY_AMT_TREND                26884 non-null float64\n",
      "PAY_AMT_SKEW                 26884 non-null float64\n",
      "PAY_AMT_KURT                 26884 non-null float64\n",
      "DELTA_1                      26884 non-null float64\n",
      "DELTA_2                      26884 non-null float64\n",
      "DELTA_3                      26884 non-null float64\n",
      "DELTA_4                      26884 non-null float64\n",
      "DELTA_5                      26884 non-null float64\n",
      "PROD                         26884 non-null float64\n",
      "FRAC_PAY_1                   26884 non-null float64\n",
      "FRAC_PAY_2                   26884 non-null float64\n",
      "FRAC_PAY_3                   26884 non-null float64\n",
      "FRAC_PAY_4                   26884 non-null float64\n",
      "FRAC_PAY_5                   26884 non-null float64\n",
      "BILL_AMT_AR                  26884 non-null float64\n",
      "BILL_AMT_I                   26884 non-null float64\n",
      "BILL_AMT_MA                  26884 non-null float64\n",
      "BILL_AMT_SIGMA               26884 non-null float64\n",
      "PAY_AMT_AR                   26884 non-null float64\n",
      "PAY_AMT_I                    26884 non-null float64\n",
      "PAY_AMT_MA                   26884 non-null float64\n",
      "PAY_AMT_SIGMA                26884 non-null float64\n",
      "PAY_AR                       26884 non-null float64\n",
      "PAY_I                        26884 non-null float64\n",
      "PAY_MA                       26884 non-null float64\n",
      "PAY_SIGMA                    26884 non-null float64\n",
      "TOTAL_AMT_PAID               26884 non-null float64\n",
      "dtypes: float64(83)\n",
      "memory usage: 17.0 MB\n",
      "<class 'pandas.core.frame.DataFrame'>\n",
      "RangeIndex: 3116 entries, 0 to 3115\n",
      "Data columns (total 83 columns):\n",
      "CUST_COD                     3116 non-null float64\n",
      "LIMIT_BAL                    3116 non-null float64\n",
      "SEX                          3116 non-null float64\n",
      "PAY_DEC                      3116 non-null float64\n",
      "PAY_NOV                      3116 non-null float64\n",
      "PAY_OCT                      3116 non-null float64\n",
      "PAY_SEP                      3116 non-null float64\n",
      "PAY_AUG                      3116 non-null float64\n",
      "PAY_JUL                      3116 non-null float64\n",
      "BILL_AMT_DEC                 3116 non-null float64\n",
      "BILL_AMT_NOV                 3116 non-null float64\n",
      "BILL_AMT_OCT                 3116 non-null float64\n",
      "BILL_AMT_SEP                 3116 non-null float64\n",
      "BILL_AMT_AUG                 3116 non-null float64\n",
      "BILL_AMT_JUL                 3116 non-null float64\n",
      "PAY_AMT_DEC                  3116 non-null float64\n",
      "PAY_AMT_NOV                  3116 non-null float64\n",
      "PAY_AMT_OCT                  3116 non-null float64\n",
      "PAY_AMT_SEP                  3116 non-null float64\n",
      "PAY_AMT_AUG                  3116 non-null float64\n",
      "PAY_AMT_JUL                  3116 non-null float64\n",
      "DEFAULT PAYMENT JAN          0 non-null float64\n",
      "SEX_MISSING                  3116 non-null float64\n",
      "EDUCATION_MISSING            3116 non-null float64\n",
      "EDUCATION_graduate school    3116 non-null float64\n",
      "EDUCATION_high school        3116 non-null float64\n",
      "EDUCATION_other              3116 non-null float64\n",
      "EDUCATION_university         3116 non-null float64\n",
      "MARRIAGE_MISSING             3116 non-null float64\n",
      "MARRIAGE_married             3116 non-null float64\n",
      "MARRIAGE_other               3116 non-null float64\n",
      "MARRIAGE_single              3116 non-null float64\n",
      "AGE_MISSING                  3116 non-null float64\n",
      "AGE                          3116 non-null float64\n",
      "LIMIT-MEAN_BILL              3116 non-null float64\n",
      "AVG_PAY_LAST_2               3116 non-null float64\n",
      "AVG_PAY_LAST_3               3116 non-null float64\n",
      "AVG_PAY_LAST_4               3116 non-null float64\n",
      "AVG_PAY_LAST_5               3116 non-null float64\n",
      "AVG_PAY_LAST_6               3116 non-null float64\n",
      "PAY_TREND                    3116 non-null float64\n",
      "PAY_SKEW                     3116 non-null float64\n",
      "PAY_KURT                     3116 non-null float64\n",
      "AVG_BILL_AMT_LAST_2          3116 non-null float64\n",
      "AVG_BILL_AMT_LAST_3          3116 non-null float64\n",
      "AVG_BILL_AMT_LAST_4          3116 non-null float64\n",
      "AVG_BILL_AMT_LAST_5          3116 non-null float64\n",
      "AVG_BILL_AMT_LAST_6          3116 non-null float64\n",
      "BILL_AMT_TREND               3116 non-null float64\n",
      "BILL_AMT_SKEW                3116 non-null float64\n",
      "BILL_AMT_KURT                3116 non-null float64\n",
      "AVG_PAY_AMT_LAST_2           3116 non-null float64\n",
      "AVG_PAY_AMT_LAST_3           3116 non-null float64\n",
      "AVG_PAY_AMT_LAST_4           3116 non-null float64\n",
      "AVG_PAY_AMT_LAST_5           3116 non-null float64\n",
      "AVG_PAY_AMT_LAST_6           3116 non-null float64\n",
      "PAY_AMT_TREND                3116 non-null float64\n",
      "PAY_AMT_SKEW                 3116 non-null float64\n",
      "PAY_AMT_KURT                 3116 non-null float64\n",
      "DELTA_1                      3116 non-null float64\n",
      "DELTA_2                      3116 non-null float64\n",
      "DELTA_3                      3116 non-null float64\n",
      "DELTA_4                      3116 non-null float64\n",
      "DELTA_5                      3116 non-null float64\n",
      "PROD                         3116 non-null float64\n",
      "FRAC_PAY_1                   3116 non-null float64\n",
      "FRAC_PAY_2                   3116 non-null float64\n",
      "FRAC_PAY_3                   3116 non-null float64\n",
      "FRAC_PAY_4                   3116 non-null float64\n",
      "FRAC_PAY_5                   3116 non-null float64\n",
      "BILL_AMT_AR                  3116 non-null float64\n",
      "BILL_AMT_I                   3116 non-null float64\n",
      "BILL_AMT_MA                  3116 non-null float64\n",
      "BILL_AMT_SIGMA               3116 non-null float64\n",
      "PAY_AMT_AR                   3116 non-null float64\n",
      "PAY_AMT_I                    3116 non-null float64\n",
      "PAY_AMT_MA                   3116 non-null float64\n",
      "PAY_AMT_SIGMA                3116 non-null float64\n",
      "PAY_AR                       3116 non-null float64\n",
      "PAY_I                        3116 non-null float64\n",
      "PAY_MA                       3116 non-null float64\n",
      "PAY_SIGMA                    3116 non-null float64\n",
      "TOTAL_AMT_PAID               3116 non-null float64\n",
      "dtypes: float64(83)\n",
      "memory usage: 2.0 MB\n"
     ]
    },
    {
     "data": {
      "text/plain": [
       "(None, None)"
      ]
     },
     "execution_count": 30,
     "metadata": {},
     "output_type": "execute_result"
    }
   ],
   "source": [
    "train.info(), test.info()"
   ]
  },
  {
   "cell_type": "markdown",
   "metadata": {},
   "source": [
    "# Age prediction for missing values "
   ]
  },
  {
   "cell_type": "code",
   "execution_count": 31,
   "metadata": {
    "collapsed": true
   },
   "outputs": [],
   "source": [
    "train_not_ma=train.loc[train[\"AGE_MISSING\"]==0] \n",
    "train_not_ma_x=train_not_ma.drop(['CUST_COD', 'AGE','AGE_MISSING'], axis=1)\n",
    "train_not_ma_y=train_not_ma['AGE'].ravel()"
   ]
  },
  {
   "cell_type": "code",
   "execution_count": 32,
   "metadata": {
    "collapsed": true
   },
   "outputs": [],
   "source": [
    "def feature_impo_graph(model):\n",
    "    feature_importances = [(x, y) for x,y in zip(model.feature_importances_, train_not_ma_x.columns.values)]\n",
    "\n",
    "    feature_importances.sort(key = lambda x : x[0])\n",
    "    plt.figure(figsize=(15, 15))\n",
    "    plt.barh(range(len(feature_importances)), [x[0] for x in feature_importances], tick_label = [x[1] for x in feature_importances])\n"
   ]
  },
  {
   "cell_type": "code",
   "execution_count": 33,
   "metadata": {
    "collapsed": true
   },
   "outputs": [],
   "source": [
    "from sklearn.tree import DecisionTreeRegressor\n",
    "\n",
    "#DECISIONTREEREGRESSOR feature selection\n",
    "model =  DecisionTreeRegressor(random_state=1234)\n",
    "model=model.fit(train_not_ma_x,train_not_ma_y)\n"
   ]
  },
  {
   "cell_type": "code",
   "execution_count": 34,
   "metadata": {},
   "outputs": [
    {
     "data": {
      "image/png": "[encoded data removed]",
      "text/plain": [
       "<matplotlib.figure.Figure at 0x118a52f98>"
      ]
     },
     "metadata": {},
     "output_type": "display_data"
    }
   ],
   "source": [
    "feature_impo_graph(model)"
   ]
  },
  {
   "cell_type": "code",
   "execution_count": 35,
   "metadata": {
    "collapsed": true
   },
   "outputs": [],
   "source": [
    "from sklearn.ensemble import ExtraTreesRegressor, RandomForestClassifier\n",
    "#EXTRATREESREGRESSOR feature selection\n",
    "extra_model =  ExtraTreesRegressor(random_state=1234)\n",
    "extra_model=extra_model.fit(train_not_ma_x,train_not_ma_y)"
   ]
  },
  {
   "cell_type": "code",
   "execution_count": 36,
   "metadata": {},
   "outputs": [
    {
     "data": {
      "image/png": "[encoded data removed]",
      "text/plain": [
       "<matplotlib.figure.Figure at 0x10f00cda0>"
      ]
     },
     "metadata": {},
     "output_type": "display_data"
    }
   ],
   "source": [
    "feature_impo_graph(extra_model)"
   ]
  },
  {
   "cell_type": "code",
   "execution_count": 37,
   "metadata": {
    "collapsed": true
   },
   "outputs": [],
   "source": [
    "train_ma=train.loc[train[\"AGE_MISSING\"]==1]"
   ]
  },
  {
   "cell_type": "code",
   "execution_count": 38,
   "metadata": {
    "collapsed": true
   },
   "outputs": [],
   "source": [
    "train_not_ma_X=train_not_ma[['MARRIAGE_single','LIMIT-MEAN_BILL','EDUCATION_high school',\n",
    " 'LIMIT_BAL','PAY_AMT_SKEW',\n",
    " 'BILL_AMT_SKEW',\n",
    " 'BILL_AMT_KURT',\n",
    " 'PAY_AMT_KURT','DELTA_5',\n",
    " 'SEX',\n",
    " 'DELTA_1',\n",
    " 'DELTA_2',\n",
    " 'BILL_AMT_SIGMA',\n",
    " 'DELTA_4','DELTA_3',\n",
    " 'PROD',\n",
    " 'PAY_AMT_JUL',\n",
    " 'PAY_AMT_TREND',\n",
    " 'FRAC_PAY_4',\n",
    " 'PAY_AMT_SIGMA',\n",
    " 'BILL_AMT_TREND','DEFAULT PAYMENT JAN',\n",
    " 'FRAC_PAY_1',\n",
    " 'FRAC_PAY_3',\n",
    " 'BILL_AMT_DEC',\n",
    " 'FRAC_PAY_5',\n",
    " 'FRAC_PAY_4',\n",
    " 'PAY_AMT_AUG','FRAC_PAY_2','BILL_AMT_JUL',\n",
    " 'PAY_AMT_JUL',\n",
    " 'PAY_AMT_OCT',\n",
    " 'BILL_AMT_NOV',\n",
    " 'PAY_AMT_DEC',\n",
    " 'PAY_AMT_NOV','AVG_PAY_AMT_LAST_3',\n",
    " 'PAY_AMT_SEP',\n",
    " 'BILL_AMT_OCT',\n",
    " 'BILL_AMT_AUG','AVG_PAY_AMT_LAST_2',\n",
    " 'BILL_AMT_SEP', 'PAY_TREND',\n",
    " 'BILL_AMT_I','AVG_BILL_AMT_LAST_2',\n",
    " 'AVG_BILL_AMT_LAST_6',\n",
    " 'AVG_PAY_AMT_LAST_5',\n",
    " 'AVG_BILL_AMT_LAST_4','AVG_BILL_AMT_LAST_2']]\n",
    "test_ma_X=train_ma[['MARRIAGE_single','LIMIT-MEAN_BILL','EDUCATION_high school',\n",
    " 'LIMIT_BAL','PAY_AMT_SKEW',\n",
    " 'BILL_AMT_SKEW',\n",
    " 'BILL_AMT_KURT',\n",
    " 'PAY_AMT_KURT','DELTA_5',\n",
    " 'SEX',\n",
    " 'DELTA_1',\n",
    " 'DELTA_2',\n",
    " 'BILL_AMT_SIGMA',\n",
    " 'DELTA_4','DELTA_3',\n",
    " 'PROD',\n",
    " 'PAY_AMT_JUL',\n",
    " 'PAY_AMT_TREND',\n",
    " 'FRAC_PAY_4',\n",
    " 'PAY_AMT_SIGMA',\n",
    " 'BILL_AMT_TREND','DEFAULT PAYMENT JAN',\n",
    " 'FRAC_PAY_1',\n",
    " 'FRAC_PAY_3',\n",
    " 'BILL_AMT_DEC',\n",
    " 'FRAC_PAY_5',\n",
    " 'FRAC_PAY_4',\n",
    " 'PAY_AMT_AUG','FRAC_PAY_2','BILL_AMT_JUL',\n",
    " 'PAY_AMT_JUL',\n",
    " 'PAY_AMT_OCT',\n",
    " 'BILL_AMT_NOV',\n",
    " 'PAY_AMT_DEC',\n",
    " 'PAY_AMT_NOV','AVG_PAY_AMT_LAST_3',\n",
    " 'PAY_AMT_SEP',\n",
    " 'BILL_AMT_OCT',\n",
    " 'BILL_AMT_AUG','AVG_PAY_AMT_LAST_2',\n",
    " 'BILL_AMT_SEP', 'PAY_TREND',\n",
    " 'BILL_AMT_I','AVG_BILL_AMT_LAST_2',\n",
    " 'AVG_BILL_AMT_LAST_6',\n",
    " 'AVG_PAY_AMT_LAST_5',\n",
    " 'AVG_BILL_AMT_LAST_4','AVG_BILL_AMT_LAST_2']]\n",
    "test_ma_Y=train_ma[\"AGE\"].ravel()"
   ]
  },
  {
   "cell_type": "code",
   "execution_count": 39,
   "metadata": {
    "collapsed": true
   },
   "outputs": [],
   "source": [
    "from sklearn.preprocessing import StandardScaler\n",
    "x_train_not_ma_tr=StandardScaler().fit_transform(train_not_ma_X)"
   ]
  },
  {
   "cell_type": "code",
   "execution_count": 40,
   "metadata": {
    "collapsed": true
   },
   "outputs": [],
   "source": [
    "from sklearn.model_selection import train_test_split\n",
    "x_train_not_ma, x_validation_not_ma, y_train_not_ma, y_validation_not_ma = train_test_split(x_train_not_ma_tr, \n",
    "                                            train_not_ma_y, test_size=0.3, random_state=4321)\n"
   ]
  },
  {
   "cell_type": "code",
   "execution_count": 41,
   "metadata": {},
   "outputs": [
    {
     "data": {
      "text/plain": [
       "KNeighborsRegressor(algorithm='auto', leaf_size=30, metric='minkowski',\n",
       "          metric_params=None, n_jobs=1, n_neighbors=5, p=2,\n",
       "          weights='uniform')"
      ]
     },
     "execution_count": 41,
     "metadata": {},
     "output_type": "execute_result"
    }
   ],
   "source": [
    "from sklearn.neighbors import KNeighborsRegressor\n",
    "regressor=KNeighborsRegressor()\n",
    "regressor.fit(x_train_not_ma,y_train_not_ma)"
   ]
  },
  {
   "cell_type": "code",
   "execution_count": 42,
   "metadata": {
    "collapsed": true
   },
   "outputs": [],
   "source": [
    "test_ma_X_tr=StandardScaler().fit_transform(test_ma_X)"
   ]
  },
  {
   "cell_type": "code",
   "execution_count": 43,
   "metadata": {},
   "outputs": [
    {
     "data": {
      "text/plain": [
       "array([ 36.8,  44.4,  28.6,  32.2,  35.2,  39.2,  41.6,  39.6,  36.8,\n",
       "        37.8,  26.8,  30. ,  28.6,  34. ,  31.2,  31.2,  32.4,  29.8,\n",
       "        31.4,  32.2,  31. ,  26.2,  36. ,  45.8,  33. ,  34.4,  38.2,\n",
       "        32.8,  28.2,  34.4,  37.2,  38.6,  29.4,  32.6,  44.6,  39. ,\n",
       "        24. ,  31.4,  33.4,  38.4,  34. ,  38.6,  34. ,  27.4,  31.4,\n",
       "        40.6,  38.6,  42.2,  34.6,  38.6,  31.2,  46.4,  45.8,  30.8,\n",
       "        35.8,  26.2,  35.2,  31.4,  27.2,  36.4,  35.8,  40.6,  32.2,\n",
       "        36. ,  33. ,  28.2,  48.4,  33. ,  31.6,  37.8,  28. ,  41.4,\n",
       "        39.2,  29. ,  41.2,  31.4,  36.2,  40.8,  28.8,  39.6,  31.6,\n",
       "        37.6,  38. ,  37.4,  35.8,  45.6,  39. ,  26.8,  36.2,  27.8,\n",
       "        30.6,  40.8,  37.6,  36.4,  51.2,  32.6,  32.4,  36.6,  24.8,\n",
       "        37.6,  43.2,  33. ,  30.4,  34. ,  34.8,  32. ,  46.6,  42.4,\n",
       "        29.8,  42.8,  46. ,  42.8,  41. ,  41. ,  38.8,  36.4,  39.4,\n",
       "        36.2,  27.8,  41. ,  41. ,  32.2,  43.2,  46. ,  32.8,  46.2,\n",
       "        33.8,  43. ,  30. ,  43.4,  39.6,  44.8,  25.8,  44.6,  38. ,\n",
       "        36.6,  34.6,  32. ,  45.2,  42. ,  41.4,  43.6,  40.8,  32.2,\n",
       "        45.6,  40.2,  31.2,  37.4,  28.8,  38.6,  46.6,  41.2,  34. ,\n",
       "        43.2,  45.6,  32. ,  40.2,  39.8,  26.2,  31.8,  40. ,  38.2,\n",
       "        40.6,  36. ,  37. ,  37. ,  26.2,  44. ,  44. ,  27.2,  45.2,\n",
       "        34.8,  33. ,  42.2,  34.6,  29.2,  33.4,  41.4,  32.2,  36.6,\n",
       "        38.8,  34.8,  29.8,  44.8,  29.4,  36.6,  30. ,  38.4,  36.6,\n",
       "        41.4,  39. ,  51.2,  32.8,  50.4,  25.6,  32.6,  37.8,  48.4,\n",
       "        45.4,  24.4,  39.8,  34.4,  37.6,  45.6,  39.6,  36. ,  47. ,\n",
       "        30.6,  31.6,  34.4,  45.2,  47. ,  26.6,  27.6,  36.8,  38. ,\n",
       "        38.4,  31.4,  39.6,  29.4,  32.8,  37.4,  46.2,  32.2,  36. ,\n",
       "        40.4,  32.2,  43.8,  24.6,  32.8,  28.8,  37.2,  32. ,  41.8,\n",
       "        36.4,  31. ,  27.6,  31.6,  37. ,  44. ,  45.6,  34.4,  33.6,\n",
       "        33.4,  27.6,  49.4,  29.8,  28.2,  33.8,  26. ,  41. ,  34.6,\n",
       "        45. ,  32. ,  35. ,  33.2,  27.8,  39. ,  33.8,  31.2,  27.4,\n",
       "        36.8,  28.4,  32. ,  34.8,  34. ,  47.4,  26.6,  38.4,  42.6,\n",
       "        35.2,  30.2,  32.4,  25.6,  32.6,  33.4,  31. ,  31.8,  45.4,\n",
       "        32. ,  40.6,  35.6,  37. ,  46.6,  29.2,  42. ,  38.2,  32. ,\n",
       "        34.6,  24.8,  43.2,  45.4,  37. ,  31.2,  35.4,  48.2,  41.2,\n",
       "        48.8,  45.8,  37.2,  32.2,  29.8,  27. ,  31.8,  32.6,  35.6,\n",
       "        35.8,  42.4,  35. ,  43.6,  37.2,  29.6,  40. ,  38.6,  41.8,\n",
       "        28.2,  36.8,  44.8,  35.6,  36.4,  40. ,  42.8,  32.2,  48.4,\n",
       "        25.6,  28.4,  42.6,  26.8,  36.2,  32.2,  35.2,  29.8,  28.4,\n",
       "        28. ,  30.6,  45.2,  38.6,  36.2,  35.6,  42.6,  33.8,  35. ,\n",
       "        39.4,  38.8,  37.6,  38. ,  32.6,  34.6,  26.8,  41. ,  36.4,\n",
       "        41.8,  49.8,  30. ,  31. ,  46.2,  30. ,  35.2,  33.2,  37.8,\n",
       "        40.6,  35.8,  38.6,  34. ,  42.8,  39.8,  35.2,  39. ,  39.4,\n",
       "        38. ,  29.4,  36.6,  37.4,  27.6,  36.2,  44.6,  28.8,  39.6,\n",
       "        47.6,  33.8,  39.6,  30.8,  39.6,  29.8,  33.4,  39.2,  32.8,\n",
       "        37.4,  31.8,  37.8,  37.6,  32. ,  38. ,  30.4,  40.2,  32.4,\n",
       "        32.4,  36. ,  32.6,  32.6,  34.8,  39.6,  43.8,  41.4,  34.6,\n",
       "        34.6,  42.4,  38.6,  45.6,  28. ,  32.6,  53. ,  41.2,  28.6,\n",
       "        39.4,  50.2,  43.8,  30.8,  42. ,  34.8,  30. ,  35.4,  40.4,\n",
       "        31.2,  32.6,  39.4,  42. ,  45.4,  43.6,  33.8,  27.8,  32.6,\n",
       "        40. ,  44.2,  33. ,  40.8,  45.2,  38.4,  35.6,  39.8,  28.4,\n",
       "        39.2,  44.4,  33.2,  44.6,  34.6,  35.6,  37.4,  44. ,  35.8,\n",
       "        31.4,  43. ,  36.6,  38.2,  35. ,  46.8,  33.6,  36.8,  38.2,\n",
       "        34.2,  32.8,  40.2,  39.8,  41.2,  25.8,  29.4,  33.6,  45.6,\n",
       "        33.2,  34.2,  31. ,  42.4,  30.8,  27.8,  36.8,  48.4,  35.4,\n",
       "        31.8,  34. ,  46.8,  37.8,  35.6,  31. ,  27.6,  43. ,  39. ,\n",
       "        40.2,  36.4,  32.8,  33.6,  35.8,  44.6,  37. ,  28.2,  47.2,\n",
       "        34. ,  32.6,  34.6,  35.2,  46.4,  27.6,  31.8,  50.4,  26.2,\n",
       "        32.6,  45. ,  33.4,  28.8,  48. ,  36. ,  40. ,  33.8,  37.8,\n",
       "        31.4,  39.4,  37.2,  40.4,  46. ,  39.2,  44.4,  41. ,  32.4,\n",
       "        33.2,  36.6,  41. ,  39.6,  42.8,  37. ,  39.8,  39.2,  47.4,\n",
       "        45.4,  44.2,  41.4,  29.4,  33.6,  39.6,  37.6,  32.4,  27.6,\n",
       "        41.4,  47.2,  44.8,  35.8,  28. ,  34. ,  42. ,  27.8,  39.6,\n",
       "        38.8,  38.2,  29.8,  39.8,  26.4,  32.2,  40.4,  30.4,  31. ,\n",
       "        39.8,  37.2,  44.6,  38.2,  27.6,  40.6,  32.6,  30.6,  33.4,\n",
       "        43.6,  30.6,  32.2,  28. ,  36. ,  27.6,  50.4,  32.2,  34. ,\n",
       "        33.4,  46. ,  35.6,  47.8,  36.2,  36.2,  31.2,  37.2,  35.6,\n",
       "        36.8,  38.2,  30.6,  42.8,  29.4,  24.8,  27.8,  39.2,  31.8,\n",
       "        31.8,  31.6,  47.6,  43. ,  32.6,  48.8,  29.8,  33.6,  28.8,\n",
       "        32.4,  39.4,  42.8,  34.4,  42.2,  37.4,  38.6,  27.6,  33.4,\n",
       "        39.8,  37.6,  34.2,  34. ,  26.2,  43.4,  47.6,  32.2,  43.8,\n",
       "        37.2,  34. ,  29.6,  28.6,  35.4,  39.6,  40.6,  46.2,  32.4,\n",
       "        26.6,  34.8,  41.2,  28. ,  26.6,  29. ,  39. ,  32. ,  37.2,\n",
       "        39. ,  31.6,  45.2,  39. ,  40. ,  43.2,  46.8,  34. ,  36. ,\n",
       "        47.2,  35.4,  30.8,  26.6,  51. ,  38.8,  32. ,  30.6,  35.8,\n",
       "        29.6,  34.4,  30.8,  40.2,  40.2,  30.2,  40.2,  37.2,  48.8,\n",
       "        34. ,  34.2,  34.2,  36.8,  45.6,  39.4,  35.2,  35.4,  43.6,\n",
       "        33.8,  40.4,  38.4,  32.6,  38. ,  38.2,  33.4,  33.2,  41. ,\n",
       "        35.6,  42.6,  30.6,  37. ,  37.2,  32. ,  37.4,  47.6,  46.8,\n",
       "        35.4,  38.4,  39.8,  30. ,  30.8,  44. ,  42.6,  41.6,  25.6])"
      ]
     },
     "execution_count": 43,
     "metadata": {},
     "output_type": "execute_result"
    }
   ],
   "source": [
    "predicted_age=regressor.predict(test_ma_X_tr)\n",
    "predicted_age"
   ]
  },
  {
   "cell_type": "code",
   "execution_count": 44,
   "metadata": {
    "collapsed": true
   },
   "outputs": [],
   "source": [
    "l=[]\n",
    "c=0\n",
    "for row in train.itertuples():\n",
    "    if(row.AGE_MISSING==1):\n",
    "        l.append(predicted_age[c])\n",
    "        c+=1\n",
    "    else:\n",
    "        l.append(0)"
   ]
  },
  {
   "cell_type": "code",
   "execution_count": 45,
   "metadata": {
    "collapsed": true
   },
   "outputs": [],
   "source": [
    "train[\"AGE_PREDICTED\"]=l"
   ]
  },
  {
   "cell_type": "code",
   "execution_count": 46,
   "metadata": {
    "collapsed": true
   },
   "outputs": [],
   "source": [
    "k=[]\n",
    "for row in train.itertuples():\n",
    "    if(row.AGE_PREDICTED==0.0):\n",
    "        k.append(row.AGE)\n",
    "    else:\n",
    "        k.append(row.AGE_PREDICTED.astype(int))"
   ]
  },
  {
   "cell_type": "code",
   "execution_count": 47,
   "metadata": {
    "collapsed": true
   },
   "outputs": [],
   "source": [
    "train[\"AGE_FINAL\"]=k\n",
    "train[\"AGE_FINAL\"]=train.AGE_FINAL.astype(float)"
   ]
  },
  {
   "cell_type": "code",
   "execution_count": 48,
   "metadata": {},
   "outputs": [
    {
     "name": "stdout",
     "output_type": "stream",
     "text": [
      "<class 'pandas.core.frame.DataFrame'>\n",
      "RangeIndex: 26884 entries, 0 to 26883\n",
      "Data columns (total 83 columns):\n",
      "CUST_COD                     26884 non-null float64\n",
      "LIMIT_BAL                    26884 non-null float64\n",
      "SEX                          26884 non-null float64\n",
      "PAY_DEC                      26884 non-null float64\n",
      "PAY_NOV                      26884 non-null float64\n",
      "PAY_OCT                      26884 non-null float64\n",
      "PAY_SEP                      26884 non-null float64\n",
      "PAY_AUG                      26884 non-null float64\n",
      "PAY_JUL                      26884 non-null float64\n",
      "BILL_AMT_DEC                 26884 non-null float64\n",
      "BILL_AMT_NOV                 26884 non-null float64\n",
      "BILL_AMT_OCT                 26884 non-null float64\n",
      "BILL_AMT_SEP                 26884 non-null float64\n",
      "BILL_AMT_AUG                 26884 non-null float64\n",
      "BILL_AMT_JUL                 26884 non-null float64\n",
      "PAY_AMT_DEC                  26884 non-null float64\n",
      "PAY_AMT_NOV                  26884 non-null float64\n",
      "PAY_AMT_OCT                  26884 non-null float64\n",
      "PAY_AMT_SEP                  26884 non-null float64\n",
      "PAY_AMT_AUG                  26884 non-null float64\n",
      "PAY_AMT_JUL                  26884 non-null float64\n",
      "DEFAULT PAYMENT JAN          26884 non-null float64\n",
      "SEX_MISSING                  26884 non-null float64\n",
      "EDUCATION_MISSING            26884 non-null float64\n",
      "EDUCATION_graduate school    26884 non-null float64\n",
      "EDUCATION_high school        26884 non-null float64\n",
      "EDUCATION_other              26884 non-null float64\n",
      "EDUCATION_university         26884 non-null float64\n",
      "MARRIAGE_MISSING             26884 non-null float64\n",
      "MARRIAGE_married             26884 non-null float64\n",
      "MARRIAGE_other               26884 non-null float64\n",
      "MARRIAGE_single              26884 non-null float64\n",
      "AGE_MISSING                  26884 non-null float64\n",
      "AGE                          26884 non-null float64\n",
      "LIMIT-MEAN_BILL              26884 non-null float64\n",
      "AVG_PAY_LAST_2               26884 non-null float64\n",
      "AVG_PAY_LAST_3               26884 non-null float64\n",
      "AVG_PAY_LAST_4               26884 non-null float64\n",
      "AVG_PAY_LAST_5               26884 non-null float64\n",
      "AVG_PAY_LAST_6               26884 non-null float64\n",
      "PAY_TREND                    26884 non-null float64\n",
      "PAY_SKEW                     26884 non-null float64\n",
      "PAY_KURT                     26884 non-null float64\n",
      "AVG_BILL_AMT_LAST_2          26884 non-null float64\n",
      "AVG_BILL_AMT_LAST_3          26884 non-null float64\n",
      "AVG_BILL_AMT_LAST_4          26884 non-null float64\n",
      "AVG_BILL_AMT_LAST_5          26884 non-null float64\n",
      "AVG_BILL_AMT_LAST_6          26884 non-null float64\n",
      "BILL_AMT_TREND               26884 non-null float64\n",
      "BILL_AMT_SKEW                26884 non-null float64\n",
      "BILL_AMT_KURT                26884 non-null float64\n",
      "AVG_PAY_AMT_LAST_2           26884 non-null float64\n",
      "AVG_PAY_AMT_LAST_3           26884 non-null float64\n",
      "AVG_PAY_AMT_LAST_4           26884 non-null float64\n",
      "AVG_PAY_AMT_LAST_5           26884 non-null float64\n",
      "AVG_PAY_AMT_LAST_6           26884 non-null float64\n",
      "PAY_AMT_TREND                26884 non-null float64\n",
      "PAY_AMT_SKEW                 26884 non-null float64\n",
      "PAY_AMT_KURT                 26884 non-null float64\n",
      "DELTA_1                      26884 non-null float64\n",
      "DELTA_2                      26884 non-null float64\n",
      "DELTA_3                      26884 non-null float64\n",
      "DELTA_4                      26884 non-null float64\n",
      "DELTA_5                      26884 non-null float64\n",
      "PROD                         26884 non-null float64\n",
      "FRAC_PAY_1                   26884 non-null float64\n",
      "FRAC_PAY_2                   26884 non-null float64\n",
      "FRAC_PAY_3                   26884 non-null float64\n",
      "FRAC_PAY_4                   26884 non-null float64\n",
      "FRAC_PAY_5                   26884 non-null float64\n",
      "BILL_AMT_AR                  26884 non-null float64\n",
      "BILL_AMT_I                   26884 non-null float64\n",
      "BILL_AMT_MA                  26884 non-null float64\n",
      "BILL_AMT_SIGMA               26884 non-null float64\n",
      "PAY_AMT_AR                   26884 non-null float64\n",
      "PAY_AMT_I                    26884 non-null float64\n",
      "PAY_AMT_MA                   26884 non-null float64\n",
      "PAY_AMT_SIGMA                26884 non-null float64\n",
      "PAY_AR                       26884 non-null float64\n",
      "PAY_I                        26884 non-null float64\n",
      "PAY_MA                       26884 non-null float64\n",
      "PAY_SIGMA                    26884 non-null float64\n",
      "TOTAL_AMT_PAID               26884 non-null float64\n",
      "dtypes: float64(83)\n",
      "memory usage: 17.0 MB\n"
     ]
    }
   ],
   "source": [
    "train=train.drop([\"AGE_PREDICTED\"],axis=1)\n",
    "train[\"AGE\"]=train[\"AGE_FINAL\"]\n",
    "train=train.drop([\"AGE_FINAL\"],axis=1)\n",
    "train.info()"
   ]
  },
  {
   "cell_type": "code",
   "execution_count": 49,
   "metadata": {
    "collapsed": true
   },
   "outputs": [],
   "source": [
    "train.to_csv(\"data/train_predictedAge.csv\",index=False)"
   ]
  },
  {
   "cell_type": "markdown",
   "metadata": {},
   "source": [
    "# Comparison between train and test"
   ]
  },
  {
   "cell_type": "code",
   "execution_count": 50,
   "metadata": {
    "collapsed": true
   },
   "outputs": [],
   "source": [
    "diff_mean = train.mean() - test.mean()"
   ]
  },
  {
   "cell_type": "code",
   "execution_count": 51,
   "metadata": {},
   "outputs": [
    {
     "data": {
      "text/plain": [
       "PAY_AMT_JUL    157.534344\n",
       "PAY_AMT_AUG    144.259750\n",
       "PAY_AMT_SEP    144.518815\n",
       "PAY_AMT_OCT    156.416357\n",
       "PAY_AMT_NOV    178.825861\n",
       "PAY_AMT_DEC    168.639427\n",
       "dtype: float64"
      ]
     },
     "execution_count": 51,
     "metadata": {},
     "output_type": "execute_result"
    }
   ],
   "source": [
    "train[pay_amt_cols].mean()"
   ]
  },
  {
   "cell_type": "code",
   "execution_count": 52,
   "metadata": {},
   "outputs": [
    {
     "data": {
      "text/plain": [
       "PAY_AMT_JUL    137.879949\n",
       "PAY_AMT_AUG    132.969058\n",
       "PAY_AMT_SEP    138.394712\n",
       "PAY_AMT_OCT    150.447367\n",
       "PAY_AMT_NOV    156.733492\n",
       "PAY_AMT_DEC    170.683358\n",
       "dtype: float64"
      ]
     },
     "execution_count": 52,
     "metadata": {},
     "output_type": "execute_result"
    }
   ],
   "source": [
    "test[pay_amt_cols].mean()"
   ]
  },
  {
   "cell_type": "code",
   "execution_count": 53,
   "metadata": {},
   "outputs": [
    {
     "name": "stdout",
     "output_type": "stream",
     "text": [
      "CUST_COD                      -39663265.83\n",
      "LIMIT_BAL                     44.32\n",
      "SEX                           0.01\n",
      "PAY_DEC                       0.00\n",
      "PAY_NOV                       0.00\n",
      "PAY_OCT                       -0.00\n",
      "PAY_SEP                       0.02\n",
      "PAY_AUG                       0.01\n",
      "PAY_JUL                       -0.01\n",
      "BILL_AMT_DEC                  28.74\n",
      "BILL_AMT_NOV                  7.77\n",
      "BILL_AMT_OCT                  24.41\n",
      "BILL_AMT_SEP                  24.28\n",
      "BILL_AMT_AUG                  20.70\n",
      "BILL_AMT_JUL                  5.99\n",
      "PAY_AMT_DEC                   -2.04\n",
      "PAY_AMT_NOV                   22.09\n",
      "PAY_AMT_OCT                   5.97\n",
      "PAY_AMT_SEP                   6.12\n",
      "PAY_AMT_AUG                   11.29\n",
      "PAY_AMT_JUL                   19.65\n",
      "DEFAULT PAYMENT JAN           nan\n",
      "SEX_MISSING                   0.01\n",
      "EDUCATION_MISSING             0.00\n",
      "EDUCATION_graduate school     0.01\n",
      "EDUCATION_high school         0.00\n",
      "EDUCATION_other               0.00\n",
      "EDUCATION_university          -0.01\n",
      "MARRIAGE_MISSING              0.00\n",
      "MARRIAGE_married              -0.01\n",
      "MARRIAGE_other                0.00\n",
      "MARRIAGE_single               0.01\n",
      "AGE_MISSING                   0.03\n",
      "AGE                           -0.03\n",
      "LIMIT-MEAN_BILL               25.67\n",
      "AVG_PAY_LAST_2                0.00\n",
      "AVG_PAY_LAST_3                0.00\n",
      "AVG_PAY_LAST_4                0.01\n",
      "AVG_PAY_LAST_5                0.01\n",
      "AVG_PAY_LAST_6                0.00\n",
      "PAY_TREND                     0.00\n",
      "PAY_SKEW                      0.04\n",
      "PAY_KURT                      0.01\n",
      "AVG_BILL_AMT_LAST_2           18.25\n",
      "AVG_BILL_AMT_LAST_3           20.30\n",
      "AVG_BILL_AMT_LAST_4           21.30\n",
      "AVG_BILL_AMT_LAST_5           21.18\n",
      "AVG_BILL_AMT_LAST_6           18.65\n",
      "BILL_AMT_TREND                2.15\n",
      "BILL_AMT_SKEW                 -0.01\n",
      "BILL_AMT_KURT                 0.05\n",
      "AVG_PAY_AMT_LAST_2            10.02\n",
      "AVG_PAY_AMT_LAST_3            8.67\n",
      "AVG_PAY_AMT_LAST_4            8.04\n",
      "AVG_PAY_AMT_LAST_5            8.69\n",
      "AVG_PAY_AMT_LAST_6            10.51\n",
      "PAY_AMT_TREND                 -2.18\n",
      "PAY_AMT_SKEW                  0.03\n",
      "PAY_AMT_KURT                  0.05\n",
      "DELTA_1                       14.71\n",
      "DELTA_2                       3.58\n",
      "DELTA_3                       0.12\n",
      "DELTA_4                       -16.63\n",
      "DELTA_5                       20.97\n",
      "PROD                          1015.07\n",
      "FRAC_PAY_1                    0.10\n",
      "FRAC_PAY_2                    0.62\n",
      "FRAC_PAY_3                    -3.01\n",
      "FRAC_PAY_4                    0.37\n",
      "FRAC_PAY_5                    0.13\n",
      "BILL_AMT_AR                   0.00\n",
      "BILL_AMT_I                    -0.00\n",
      "BILL_AMT_MA                   0.00\n",
      "BILL_AMT_SIGMA                6.60\n",
      "PAY_AMT_AR                    -0.01\n",
      "PAY_AMT_I                     -0.00\n",
      "PAY_AMT_MA                    0.00\n",
      "PAY_AMT_SIGMA                 12.76\n",
      "PAY_AR                        0.01\n",
      "PAY_I                         0.13\n",
      "PAY_MA                        0.00\n",
      "PAY_SIGMA                     -110.93\n",
      "TOTAL_AMT_PAID                63.09\n"
     ]
    }
   ],
   "source": [
    "for colname, value in zip(diff_mean.index, diff_mean):\n",
    "    print(\"{0}{1:.2f}\".format(colname.ljust(30), value))"
   ]
  },
  {
   "cell_type": "markdown",
   "metadata": {},
   "source": [
    "Nel test:\n",
    "- Tendono a pagare in media molto più tardi rispetto ai dati nel train\n",
    "- Hanno un BILL_AMT che è in genere un po' più basso\n",
    "- Tendono a pagare un po' meno mensilmente\n",
    "- Non ci sono differenze significative per età, sesso ed educazione"
   ]
  },
  {
   "cell_type": "markdown",
   "metadata": {},
   "source": [
    "# [OPTIONAL] Categorize data"
   ]
  },
  {
   "cell_type": "code",
   "execution_count": 54,
   "metadata": {
    "collapsed": true
   },
   "outputs": [],
   "source": [
    "train = pd.read_csv('data/train_all_features.csv')\n",
    "test = pd.read_csv('data/test_all_features.csv')"
   ]
  },
  {
   "cell_type": "code",
   "execution_count": 55,
   "metadata": {
    "collapsed": true
   },
   "outputs": [],
   "source": [
    "def get_qcut_tuples(df, q):\n",
    "    bins = np.unique(pd.qcut(df, q))\n",
    "    bin_tuples = [tuple(map(float, x[1:-1].split(','))) for x in bins]\n",
    "    return sorted(bin_tuples)"
   ]
  },
  {
   "cell_type": "code",
   "execution_count": 56,
   "metadata": {
    "collapsed": true
   },
   "outputs": [],
   "source": [
    "traintest = pd.concat([train, test])"
   ]
  },
  {
   "cell_type": "markdown",
   "metadata": {},
   "source": [
    "## Age"
   ]
  },
  {
   "cell_type": "code",
   "execution_count": 57,
   "metadata": {
    "collapsed": true
   },
   "outputs": [],
   "source": [
    "AGE_CUTS = 11\n",
    "\n",
    "age_bins = [x[0] for x in get_qcut_tuples(traintest['AGE'], AGE_CUTS)] + [np.inf]\n",
    "\n",
    "for df in [train,test]:\n",
    "    df['AGE'] = pd.cut(df['AGE'], bins=age_bins, right=True, include_lowest=True, labels=np.arange(AGE_CUTS))"
   ]
  },
  {
   "cell_type": "markdown",
   "metadata": {},
   "source": [
    "## LIMIT_BAL"
   ]
  },
  {
   "cell_type": "code",
   "execution_count": 58,
   "metadata": {
    "collapsed": true
   },
   "outputs": [],
   "source": [
    "LIMIT_BAL_CUTS = 11\n",
    "\n",
    "limit_bal_bins = [x[0] for x in get_qcut_tuples(traintest['LIMIT_BAL'], LIMIT_BAL_CUTS)] + [np.inf]\n",
    "\n",
    "for df in [train, test]:\n",
    "    df['LIMIT_BAL'] = pd.cut(df['LIMIT_BAL'], bins=limit_bal_bins, right=True, include_lowest=True, labels=np.arange(LIMIT_BAL_CUTS))"
   ]
  },
  {
   "cell_type": "code",
   "execution_count": 59,
   "metadata": {
    "collapsed": true
   },
   "outputs": [],
   "source": [
    "for df in [train, test]:\n",
    "    for c in pay_cols:\n",
    "        train[c] = pd.cut(train[c], bins=[-2, -1, 0, 2, 9], labels=[-2, -1, 0, 2], include_lowest=True)\n",
    "    for c in avg_pay_last:\n",
    "        train[c] = pd.cut(train[c], bins=[-2, -1, 0, 2, 9], labels=[-2, -1, 0, 2], include_lowest=True)"
   ]
  },
  {
   "cell_type": "markdown",
   "metadata": {},
   "source": [
    "## SIGMA"
   ]
  },
  {
   "cell_type": "code",
   "execution_count": 60,
   "metadata": {
    "collapsed": true
   },
   "outputs": [],
   "source": [
    "PAY_AMT_SIGMA_CUTS = 10\n",
    "pay_amt_sigma_bins = [x[0] for x in get_qcut_tuples(traintest['PAY_AMT_SIGMA'], PAY_AMT_SIGMA_CUTS)] + [np.inf]\n",
    "for df in [train, test]:\n",
    "    df['PAY_AMT_SIGMA'] = pd.cut(df['PAY_AMT_SIGMA'], bins=pay_amt_sigma_bins, right=True, include_lowest=True, labels=np.arange(PAY_AMT_SIGMA_CUTS))"
   ]
  },
  {
   "cell_type": "code",
   "execution_count": 61,
   "metadata": {
    "collapsed": true
   },
   "outputs": [],
   "source": [
    "BILL_AMT_SIGMA_CUTS = 10\n",
    "bill_amt_sigma_bins = [x[0] for x in get_qcut_tuples(traintest['BILL_AMT_SIGMA'], BILL_AMT_SIGMA_CUTS)] + [np.inf]\n",
    "for df in [train, test]:\n",
    "    df['BILL_AMT_SIGMA'] = pd.cut(df['BILL_AMT_SIGMA'], bins=bill_amt_sigma_bins, right=True, include_lowest=True, labels=np.arange(BILL_AMT_SIGMA_CUTS))"
   ]
  }
 ],
 "metadata": {
  "anaconda-cloud": {},
  "kernelspec": {
   "display_name": "Python 3",
   "language": "python",
   "name": "python3"
  },
  "language_info": {
   "codemirror_mode": {
    "name": "ipython",
    "version": 3
   },
   "file_extension": ".py",
   "mimetype": "text/x-python",
   "name": "python",
   "nbconvert_exporter": "python",
   "pygments_lexer": "ipython3",
   "version": "3.5.3"
  }
 },
 "nbformat": 4,
 "nbformat_minor": 2
}
