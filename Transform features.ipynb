{
 "cells": [
  {
   "cell_type": "code",
   "execution_count": 1,
   "metadata": {
    "collapsed": true
   },
   "outputs": [],
   "source": [
    "import matplotlib.pyplot as plt\n",
    "import seaborn as sns\n",
    "%matplotlib inline\n",
    "\n",
    "import pandas as pd\n",
    "import numpy as np\n",
    "\n",
    "from sklearn.tree import DecisionTreeClassifier\n",
    "from sklearn.ensemble import RandomForestClassifier\n",
    "from sklearn.metrics import accuracy_score\n",
    "\n",
    "from scipy.stats import skew, kurtosis"
   ]
  },
  {
   "cell_type": "code",
   "execution_count": 2,
   "metadata": {
    "collapsed": true
   },
   "outputs": [],
   "source": [
    "train = pd.read_csv('data/train_clean.csv')\n",
    "test = pd.read_csv('data/test_clean.csv', delimiter=';')"
   ]
  },
  {
   "cell_type": "code",
   "execution_count": 3,
   "metadata": {
    "collapsed": true
   },
   "outputs": [],
   "source": [
    "pay_cols = ['PAY_JUL', 'PAY_AUG', 'PAY_SEP', 'PAY_OCT', 'PAY_NOV', 'PAY_DEC']\n",
    "bill_amt_cols = ['BILL_AMT_JUL', 'BILL_AMT_AUG', 'BILL_AMT_SEP', 'BILL_AMT_OCT', 'BILL_AMT_NOV', 'BILL_AMT_DEC']\n",
    "pay_amt_cols = ['PAY_AMT_JUL', 'PAY_AMT_AUG', 'PAY_AMT_SEP', 'PAY_AMT_OCT', 'PAY_AMT_NOV', 'PAY_AMT_DEC']\n",
    "\n",
    "avg_pay_last = ['AVG_PAY_LAST_2', 'AVG_PAY_LAST_3', 'AVG_PAY_LAST_4', 'AVG_PAY_LAST_5', 'AVG_PAY_LAST_6']\n",
    "avg_bill_last = ['AVG_BILL_LAST_2', 'AVG_BILL_LAST_3', 'AVG_BILL_LAST_4', 'AVG_BILL_LAST_5', 'AVG_BILL_LAST_6']"
   ]
  },
  {
   "cell_type": "markdown",
   "metadata": {},
   "source": [
    "## Sex"
   ]
  },
  {
   "cell_type": "code",
   "execution_count": 4,
   "metadata": {},
   "outputs": [],
   "source": [
    "for df in [train, test]:\n",
    "    df['SEX_MISSING'] = df['SEX'].isnull()*1      # Add a column to say if sex was missing or not\n",
    "    df.loc[df['SEX'].isnull(), 'SEX'] = 'F' # Predict sex with majority class\n",
    "    df['SEX'] = df['SEX'].apply(lambda x : 0 if x == 'M' else 1)   # Convert to M -> 0, F -> 1"
   ]
  },
  {
   "cell_type": "markdown",
   "metadata": {},
   "source": [
    "## Education"
   ]
  },
  {
   "cell_type": "code",
   "execution_count": 5,
   "metadata": {
    "collapsed": true
   },
   "outputs": [],
   "source": [
    "for df in [train, test]:\n",
    "    df['EDUCATION_MISSING'] = df['EDUCATION'].isnull() * 1 # Add a column to say if education was missing or not\n",
    "    df['EDUCATION'] = df['EDUCATION'].fillna('other')    # Predict missing values as other\n",
    "\n",
    "train = pd.get_dummies(train, columns=['EDUCATION'])   # Get one hot vector for education\n",
    "test = pd.get_dummies(test, columns=['EDUCATION'])"
   ]
  },
  {
   "cell_type": "markdown",
   "metadata": {},
   "source": [
    "## Marriage"
   ]
  },
  {
   "cell_type": "code",
   "execution_count": 6,
   "metadata": {
    "collapsed": true
   },
   "outputs": [],
   "source": [
    "for df in [train, test]:\n",
    "    df['MARRIAGE_MISSING'] = df['MARRIAGE'].isnull() * 1 # Add a column to say if education was missing or not\n",
    "    df['MARRIAGE'] = df['MARRIAGE'].fillna('other')    # Predict missing values as other\n",
    "\n",
    "train = pd.get_dummies(train, columns=['MARRIAGE'])   # Get one hot vector for education\n",
    "test = pd.get_dummies(test, columns=['MARRIAGE'])   # Get one hot vector for education\n"
   ]
  },
  {
   "cell_type": "markdown",
   "metadata": {},
   "source": [
    "## Age"
   ]
  },
  {
   "cell_type": "code",
   "execution_count": 7,
   "metadata": {
    "collapsed": true
   },
   "outputs": [],
   "source": [
    "import datetime\n",
    "\n",
    "def get_age(date):\n",
    "    try:\n",
    "        if len(date) == 10:\n",
    "            return (datetime.datetime.today() - datetime.datetime.strptime(date, '%d/%m/%Y')).days//365\n",
    "        else:\n",
    "            return (datetime.datetime.today() - datetime.datetime.strptime(date[:10], '%Y-%m-%d')).days//365\n",
    "    except Exception as e:\n",
    "        return np.nan"
   ]
  },
  {
   "cell_type": "code",
   "execution_count": 8,
   "metadata": {},
   "outputs": [],
   "source": [
    "for df in [train, test]:\n",
    "    df['AGE_MISSING'] = df['BIRTH_DATE'].isnull() * 1\n",
    "    \n",
    "    df['AGE'] = df['BIRTH_DATE'].apply(get_age)\n",
    "    df.loc[df['AGE'].isnull(), 'AGE'] = df['AGE'].mean()\n",
    "\n",
    "train = train.drop(['BIRTH_DATE'], axis=1)\n",
    "test = test.drop(['BIRTH_DATE'], axis=1)"
   ]
  },
  {
   "cell_type": "code",
   "execution_count": 9,
   "metadata": {
    "collapsed": true
   },
   "outputs": [],
   "source": [
    "for df in [train, test]:\n",
    "    df['LIMIT-MEAN_BILL'] = df.apply(lambda x: x['LIMIT_BAL'] - x[bill_amt_cols].mean() , axis=1)"
   ]
  },
  {
   "cell_type": "markdown",
   "metadata": {},
   "source": [
    "## Normalize bill amt and pay amt"
   ]
  },
  {
   "cell_type": "code",
   "execution_count": 10,
   "metadata": {},
   "outputs": [],
   "source": [
    "def normalize_bill_amt(df):\n",
    "    cols = bill_amt_cols\n",
    "    mean = df[cols].mean()\n",
    "    std = df[cols].std()\n",
    "    \n",
    "    if std > 0:\n",
    "        df[cols] = (df[cols] - mean) / std\n",
    "    else:\n",
    "        df[cols] = (df[cols] - mean)\n",
    "    \n",
    "    return df\n",
    "\n",
    "def normalize_pay_amt(df):\n",
    "    cols = pay_amt_cols\n",
    "    mean = df[cols].mean()\n",
    "    std = df[cols].std()\n",
    "    \n",
    "    if std > 0:\n",
    "        df[cols] = (df[cols] - mean) / std\n",
    "    else:\n",
    "        df[cols] = (df[cols] - mean)\n",
    "    \n",
    "    return df"
   ]
  },
  {
   "cell_type": "code",
   "execution_count": 11,
   "metadata": {
    "collapsed": true
   },
   "outputs": [],
   "source": [
    "#train = train.apply(normalize_bill_amt, axis=1)\n",
    "#train = train.apply(normalize_pay_amt, axis=1)\n",
    "\n",
    "#test = test.apply(normalize_bill_amt, axis=1)\n",
    "#test = test.apply(normalize_pay_amt, axis=1)"
   ]
  },
  {
   "cell_type": "markdown",
   "metadata": {},
   "source": [
    "## PAYMENTS"
   ]
  },
  {
   "cell_type": "code",
   "execution_count": 12,
   "metadata": {},
   "outputs": [],
   "source": [
    "def avg_payments(columns):\n",
    "    def ret(x):\n",
    "        retval = 0\n",
    "        for c in columns:\n",
    "            retval += x[c]\n",
    "        return retval / len(columns)\n",
    "    return ret\n",
    "\n",
    "for df in [train, test]:\n",
    "    for i in range(-2, -7, -1):\n",
    "        df['AVG_PAY_LAST_{0}'.format(-1*i)] = df.apply(avg_payments(pay_cols[i:]), axis=1)"
   ]
  },
  {
   "cell_type": "code",
   "execution_count": 13,
   "metadata": {
    "collapsed": true
   },
   "outputs": [],
   "source": [
    "def get_trend(y):\n",
    "    N = len(y)\n",
    "    x = range(N)\n",
    "    B = (sum(x[i] * y[i] for i in range(N)) - 1./N*sum(x)*sum(y)) / (sum(x[i]**2 for i in range(N)) - 1./N*sum(x)**2)\n",
    "    return B\n",
    "    \n",
    "def get_col_trend(cols):\n",
    "    def get_cols(x):\n",
    "        return get_trend([v for v in x.loc[cols]])\n",
    "    return get_cols\n",
    "\n",
    "for df in [train, test]:\n",
    "    df['PAY_TREND'] = df.apply(get_col_trend(pay_cols), axis=1)"
   ]
  },
  {
   "cell_type": "code",
   "execution_count": 14,
   "metadata": {},
   "outputs": [],
   "source": [
    "for df in [train, test]:\n",
    "    df['PAY_SKEW'] = df[pay_cols].skew(axis=1)\n",
    "    df['PAY_KURT'] = df[pay_cols].kurt(axis=1)"
   ]
  },
  {
   "cell_type": "markdown",
   "metadata": {},
   "source": [
    "## BILL AMT"
   ]
  },
  {
   "cell_type": "code",
   "execution_count": 15,
   "metadata": {
    "collapsed": true
   },
   "outputs": [],
   "source": [
    "for df in [train, test]:\n",
    "    for i in range(-2, -7, -1):\n",
    "        df['AVG_BILL_AMT_LAST_{0}'.format(-1*i)] = df.apply(avg_payments(bill_amt_cols[i:]), axis=1)"
   ]
  },
  {
   "cell_type": "code",
   "execution_count": 16,
   "metadata": {
    "collapsed": true
   },
   "outputs": [],
   "source": [
    "for df in [train, test]:\n",
    "    df['BILL_AMT_TREND'] = df.apply(get_col_trend(bill_amt_cols), axis=1)"
   ]
  },
  {
   "cell_type": "code",
   "execution_count": 17,
   "metadata": {
    "collapsed": true
   },
   "outputs": [],
   "source": [
    "for df in [train, test]:\n",
    "    df['BILL_AMT_SKEW'] = df[bill_amt_cols].skew(axis=1)\n",
    "    df['BILL_AMT_KURT'] = df[bill_amt_cols].kurt(axis=1)"
   ]
  },
  {
   "cell_type": "markdown",
   "metadata": {},
   "source": [
    "## PAY AMT"
   ]
  },
  {
   "cell_type": "code",
   "execution_count": 18,
   "metadata": {
    "collapsed": true
   },
   "outputs": [],
   "source": [
    "for df in [train, test]:\n",
    "    for i in range(-2, -7, -1):\n",
    "        df['AVG_PAY_AMT_LAST_{0}'.format(-1*i)] = df.apply(avg_payments(pay_amt_cols[i:]), axis=1)\n",
    "        \n",
    "    df['PAY_AMT_TREND'] = df.apply(get_col_trend(pay_amt_cols), axis=1)"
   ]
  },
  {
   "cell_type": "code",
   "execution_count": 19,
   "metadata": {
    "collapsed": true
   },
   "outputs": [],
   "source": [
    "for df in [train, test]:\n",
    "    df['PAY_AMT_SKEW'] = df[pay_amt_cols].skew(axis=1)\n",
    "    df['PAY_AMT_KURT'] = df[pay_amt_cols].kurt(axis=1)"
   ]
  },
  {
   "cell_type": "markdown",
   "metadata": {},
   "source": [
    "## Delta amt"
   ]
  },
  {
   "cell_type": "code",
   "execution_count": 20,
   "metadata": {
    "collapsed": true
   },
   "outputs": [],
   "source": [
    "for df in [train, test]:\n",
    "    for i in range(1, 6):\n",
    "        df['DELTA_{0}'.format(i)] = df.apply(lambda x : x.loc[bill_amt_cols[i]] - x.loc[bill_amt_cols[i-1]], axis=1)"
   ]
  },
  {
   "cell_type": "markdown",
   "metadata": {},
   "source": [
    "## Trend product"
   ]
  },
  {
   "cell_type": "code",
   "execution_count": 21,
   "metadata": {
    "collapsed": true
   },
   "outputs": [],
   "source": [
    "for df in [train, test]:\n",
    "    df['PROD'] = df.apply(lambda x : x['PAY_AMT_TREND'] * x['BILL_AMT_TREND'], axis=1)"
   ]
  },
  {
   "cell_type": "markdown",
   "metadata": {},
   "source": [
    "## Fraction paid"
   ]
  },
  {
   "cell_type": "code",
   "execution_count": 22,
   "metadata": {
    "collapsed": true
   },
   "outputs": [],
   "source": [
    "for df in [train, test]:\n",
    "    for i in range(1, 6):\n",
    "        df['FRAC_PAY_{0}'.format(i)] = df.apply(lambda x : x.loc[pay_amt_cols[i]] / x.loc[bill_amt_cols[i-1]] if x.loc[bill_amt_cols[i-1]] != 0 else 0, axis=1)"
   ]
  },
  {
   "cell_type": "markdown",
   "metadata": {},
   "source": [
    "## ARIMA process order and std"
   ]
  },
  {
   "cell_type": "code",
   "execution_count": 23,
   "metadata": {
    "collapsed": true
   },
   "outputs": [],
   "source": [
    "train_ts_params = pd.read_csv('data/other/train_orders.csv')"
   ]
  },
  {
   "cell_type": "code",
   "execution_count": 24,
   "metadata": {
    "collapsed": true
   },
   "outputs": [],
   "source": [
    "test_ts_params = pd.read_csv('data/other/test_orders.csv')"
   ]
  },
  {
   "cell_type": "code",
   "execution_count": 25,
   "metadata": {
    "collapsed": true
   },
   "outputs": [],
   "source": [
    "train = pd.concat([train, train_ts_params], axis=1)\n",
    "test = pd.concat([test, test_ts_params], axis=1)"
   ]
  },
  {
   "cell_type": "code",
   "execution_count": 26,
   "metadata": {
    "collapsed": true
   },
   "outputs": [],
   "source": [
    "train = train.replace(np.nan, train.max().max())"
   ]
  },
  {
   "cell_type": "markdown",
   "metadata": {},
   "source": [
    "## Total amout paid back"
   ]
  },
  {
   "cell_type": "code",
   "execution_count": 27,
   "metadata": {
    "collapsed": true
   },
   "outputs": [],
   "source": [
    "for df in [train, test]:\n",
    "    df['TOTAL_AMT_PAID'] = df['PAY_AMT_JUL'] + df['PAY_AMT_AUG'] + df['PAY_AMT_SEP'] + df['PAY_AMT_OCT'] + df['PAY_AMT_NOV'] + df['PAY_AMT_DEC']"
   ]
  },
  {
   "cell_type": "markdown",
   "metadata": {},
   "source": [
    "# Write final train and test"
   ]
  },
  {
   "cell_type": "code",
   "execution_count": 28,
   "metadata": {},
   "outputs": [],
   "source": [
    "train = train.astype('float64')\n",
    "test = test.astype('float64')"
   ]
  },
  {
   "cell_type": "code",
   "execution_count": 29,
   "metadata": {
    "collapsed": true
   },
   "outputs": [],
   "source": [
    "train.to_csv('data/train_all_features.csv', index=None)\n",
    "test.to_csv('data/test_all_features.csv', index=None)"
   ]
  },
  {
   "cell_type": "code",
   "execution_count": 30,
   "metadata": {
    "scrolled": false
   },
   "outputs": [
    {
     "name": "stdout",
     "output_type": "stream",
     "text": [
      "<class 'pandas.core.frame.DataFrame'>\n",
      "RangeIndex: 26884 entries, 0 to 26883\n",
      "Data columns (total 83 columns):\n",
      "CUST_COD                     26884 non-null float64\n",
      "LIMIT_BAL                    26884 non-null float64\n",
      "SEX                          26884 non-null float64\n",
      "PAY_DEC                      26884 non-null float64\n",
      "PAY_NOV                      26884 non-null float64\n",
      "PAY_OCT                      26884 non-null float64\n",
      "PAY_SEP                      26884 non-null float64\n",
      "PAY_AUG                      26884 non-null float64\n",
      "PAY_JUL                      26884 non-null float64\n",
      "BILL_AMT_DEC                 26884 non-null float64\n",
      "BILL_AMT_NOV                 26884 non-null float64\n",
      "BILL_AMT_OCT                 26884 non-null float64\n",
      "BILL_AMT_SEP                 26884 non-null float64\n",
      "BILL_AMT_AUG                 26884 non-null float64\n",
      "BILL_AMT_JUL                 26884 non-null float64\n",
      "PAY_AMT_DEC                  26884 non-null float64\n",
      "PAY_AMT_NOV                  26884 non-null float64\n",
      "PAY_AMT_OCT                  26884 non-null float64\n",
      "PAY_AMT_SEP                  26884 non-null float64\n",
      "PAY_AMT_AUG                  26884 non-null float64\n",
      "PAY_AMT_JUL                  26884 non-null float64\n",
      "DEFAULT PAYMENT JAN          26884 non-null float64\n",
      "SEX_MISSING                  26884 non-null float64\n",
      "EDUCATION_MISSING            26884 non-null float64\n",
      "EDUCATION_graduate school    26884 non-null float64\n",
      "EDUCATION_high school        26884 non-null float64\n",
      "EDUCATION_other              26884 non-null float64\n",
      "EDUCATION_university         26884 non-null float64\n",
      "MARRIAGE_MISSING             26884 non-null float64\n",
      "MARRIAGE_married             26884 non-null float64\n",
      "MARRIAGE_other               26884 non-null float64\n",
      "MARRIAGE_single              26884 non-null float64\n",
      "AGE_MISSING                  26884 non-null float64\n",
      "AGE                          26884 non-null float64\n",
      "LIMIT-MEAN_BILL              26884 non-null float64\n",
      "AVG_PAY_LAST_2               26884 non-null float64\n",
      "AVG_PAY_LAST_3               26884 non-null float64\n",
      "AVG_PAY_LAST_4               26884 non-null float64\n",
      "AVG_PAY_LAST_5               26884 non-null float64\n",
      "AVG_PAY_LAST_6               26884 non-null float64\n",
      "PAY_TREND                    26884 non-null float64\n",
      "PAY_SKEW                     26884 non-null float64\n",
      "PAY_KURT                     26884 non-null float64\n",
      "AVG_BILL_AMT_LAST_2          26884 non-null float64\n",
      "AVG_BILL_AMT_LAST_3          26884 non-null float64\n",
      "AVG_BILL_AMT_LAST_4          26884 non-null float64\n",
      "AVG_BILL_AMT_LAST_5          26884 non-null float64\n",
      "AVG_BILL_AMT_LAST_6          26884 non-null float64\n",
      "BILL_AMT_TREND               26884 non-null float64\n",
      "BILL_AMT_SKEW                26884 non-null float64\n",
      "BILL_AMT_KURT                26884 non-null float64\n",
      "AVG_PAY_AMT_LAST_2           26884 non-null float64\n",
      "AVG_PAY_AMT_LAST_3           26884 non-null float64\n",
      "AVG_PAY_AMT_LAST_4           26884 non-null float64\n",
      "AVG_PAY_AMT_LAST_5           26884 non-null float64\n",
      "AVG_PAY_AMT_LAST_6           26884 non-null float64\n",
      "PAY_AMT_TREND                26884 non-null float64\n",
      "PAY_AMT_SKEW                 26884 non-null float64\n",
      "PAY_AMT_KURT                 26884 non-null float64\n",
      "DELTA_1                      26884 non-null float64\n",
      "DELTA_2                      26884 non-null float64\n",
      "DELTA_3                      26884 non-null float64\n",
      "DELTA_4                      26884 non-null float64\n",
      "DELTA_5                      26884 non-null float64\n",
      "PROD                         26884 non-null float64\n",
      "FRAC_PAY_1                   26884 non-null float64\n",
      "FRAC_PAY_2                   26884 non-null float64\n",
      "FRAC_PAY_3                   26884 non-null float64\n",
      "FRAC_PAY_4                   26884 non-null float64\n",
      "FRAC_PAY_5                   26884 non-null float64\n",
      "BILL_AMT_AR                  26884 non-null float64\n",
      "BILL_AMT_I                   26884 non-null float64\n",
      "BILL_AMT_MA                  26884 non-null float64\n",
      "BILL_AMT_SIGMA               26884 non-null float64\n",
      "PAY_AMT_AR                   26884 non-null float64\n",
      "PAY_AMT_I                    26884 non-null float64\n",
      "PAY_AMT_MA                   26884 non-null float64\n",
      "PAY_AMT_SIGMA                26884 non-null float64\n",
      "PAY_AR                       26884 non-null float64\n",
      "PAY_I                        26884 non-null float64\n",
      "PAY_MA                       26884 non-null float64\n",
      "PAY_SIGMA                    26884 non-null float64\n",
      "TOTAL_AMT_PAID               26884 non-null float64\n",
      "dtypes: float64(83)\n",
      "memory usage: 17.0 MB\n",
      "<class 'pandas.core.frame.DataFrame'>\n",
      "RangeIndex: 3116 entries, 0 to 3115\n",
      "Data columns (total 83 columns):\n",
      "CUST_COD                     3116 non-null float64\n",
      "LIMIT_BAL                    3116 non-null float64\n",
      "SEX                          3116 non-null float64\n",
      "PAY_DEC                      3116 non-null float64\n",
      "PAY_NOV                      3116 non-null float64\n",
      "PAY_OCT                      3116 non-null float64\n",
      "PAY_SEP                      3116 non-null float64\n",
      "PAY_AUG                      3116 non-null float64\n",
      "PAY_JUL                      3116 non-null float64\n",
      "BILL_AMT_DEC                 3116 non-null float64\n",
      "BILL_AMT_NOV                 3116 non-null float64\n",
      "BILL_AMT_OCT                 3116 non-null float64\n",
      "BILL_AMT_SEP                 3116 non-null float64\n",
      "BILL_AMT_AUG                 3116 non-null float64\n",
      "BILL_AMT_JUL                 3116 non-null float64\n",
      "PAY_AMT_DEC                  3116 non-null float64\n",
      "PAY_AMT_NOV                  3116 non-null float64\n",
      "PAY_AMT_OCT                  3116 non-null float64\n",
      "PAY_AMT_SEP                  3116 non-null float64\n",
      "PAY_AMT_AUG                  3116 non-null float64\n",
      "PAY_AMT_JUL                  3116 non-null float64\n",
      "DEFAULT PAYMENT JAN          0 non-null float64\n",
      "SEX_MISSING                  3116 non-null float64\n",
      "EDUCATION_MISSING            3116 non-null float64\n",
      "EDUCATION_graduate school    3116 non-null float64\n",
      "EDUCATION_high school        3116 non-null float64\n",
      "EDUCATION_other              3116 non-null float64\n",
      "EDUCATION_university         3116 non-null float64\n",
      "MARRIAGE_MISSING             3116 non-null float64\n",
      "MARRIAGE_married             3116 non-null float64\n",
      "MARRIAGE_other               3116 non-null float64\n",
      "MARRIAGE_single              3116 non-null float64\n",
      "AGE_MISSING                  3116 non-null float64\n",
      "AGE                          3116 non-null float64\n",
      "LIMIT-MEAN_BILL              3116 non-null float64\n",
      "AVG_PAY_LAST_2               3116 non-null float64\n",
      "AVG_PAY_LAST_3               3116 non-null float64\n",
      "AVG_PAY_LAST_4               3116 non-null float64\n",
      "AVG_PAY_LAST_5               3116 non-null float64\n",
      "AVG_PAY_LAST_6               3116 non-null float64\n",
      "PAY_TREND                    3116 non-null float64\n",
      "PAY_SKEW                     3116 non-null float64\n",
      "PAY_KURT                     3116 non-null float64\n",
      "AVG_BILL_AMT_LAST_2          3116 non-null float64\n",
      "AVG_BILL_AMT_LAST_3          3116 non-null float64\n",
      "AVG_BILL_AMT_LAST_4          3116 non-null float64\n",
      "AVG_BILL_AMT_LAST_5          3116 non-null float64\n",
      "AVG_BILL_AMT_LAST_6          3116 non-null float64\n",
      "BILL_AMT_TREND               3116 non-null float64\n",
      "BILL_AMT_SKEW                3116 non-null float64\n",
      "BILL_AMT_KURT                3116 non-null float64\n",
      "AVG_PAY_AMT_LAST_2           3116 non-null float64\n",
      "AVG_PAY_AMT_LAST_3           3116 non-null float64\n",
      "AVG_PAY_AMT_LAST_4           3116 non-null float64\n",
      "AVG_PAY_AMT_LAST_5           3116 non-null float64\n",
      "AVG_PAY_AMT_LAST_6           3116 non-null float64\n",
      "PAY_AMT_TREND                3116 non-null float64\n",
      "PAY_AMT_SKEW                 3116 non-null float64\n",
      "PAY_AMT_KURT                 3116 non-null float64\n",
      "DELTA_1                      3116 non-null float64\n",
      "DELTA_2                      3116 non-null float64\n",
      "DELTA_3                      3116 non-null float64\n",
      "DELTA_4                      3116 non-null float64\n",
      "DELTA_5                      3116 non-null float64\n",
      "PROD                         3116 non-null float64\n",
      "FRAC_PAY_1                   3116 non-null float64\n",
      "FRAC_PAY_2                   3116 non-null float64\n",
      "FRAC_PAY_3                   3116 non-null float64\n",
      "FRAC_PAY_4                   3116 non-null float64\n",
      "FRAC_PAY_5                   3116 non-null float64\n",
      "BILL_AMT_AR                  3116 non-null float64\n",
      "BILL_AMT_I                   3116 non-null float64\n",
      "BILL_AMT_MA                  3116 non-null float64\n",
      "BILL_AMT_SIGMA               3116 non-null float64\n",
      "PAY_AMT_AR                   3116 non-null float64\n",
      "PAY_AMT_I                    3116 non-null float64\n",
      "PAY_AMT_MA                   3116 non-null float64\n",
      "PAY_AMT_SIGMA                3116 non-null float64\n",
      "PAY_AR                       3116 non-null float64\n",
      "PAY_I                        3116 non-null float64\n",
      "PAY_MA                       3116 non-null float64\n",
      "PAY_SIGMA                    3116 non-null float64\n",
      "TOTAL_AMT_PAID               3116 non-null float64\n",
      "dtypes: float64(83)\n",
      "memory usage: 2.0 MB\n"
     ]
    },
    {
     "data": {
      "text/plain": [
       "(None, None)"
      ]
     },
     "execution_count": 30,
     "metadata": {},
     "output_type": "execute_result"
    }
   ],
   "source": [
    "train.info(), test.info()"
   ]
  },
  {
   "cell_type": "markdown",
   "metadata": {},
   "source": [
    "# Comparison between train and test"
   ]
  },
  {
   "cell_type": "code",
   "execution_count": 40,
   "metadata": {},
   "outputs": [],
   "source": [
    "diff_mean = train.mean() - test.mean()"
   ]
  },
  {
   "cell_type": "code",
   "execution_count": 53,
   "metadata": {},
   "outputs": [
    {
     "data": {
      "text/plain": [
       "PAY_AMT_JUL    157.534344\n",
       "PAY_AMT_AUG    144.259750\n",
       "PAY_AMT_SEP    144.518815\n",
       "PAY_AMT_OCT    156.416357\n",
       "PAY_AMT_NOV    178.825861\n",
       "PAY_AMT_DEC    168.639427\n",
       "dtype: float64"
      ]
     },
     "execution_count": 53,
     "metadata": {},
     "output_type": "execute_result"
    }
   ],
   "source": [
    "train[pay_amt_cols].mean()"
   ]
  },
  {
   "cell_type": "code",
   "execution_count": 52,
   "metadata": {},
   "outputs": [
    {
     "data": {
      "text/plain": [
       "PAY_AMT_JUL    137.879949\n",
       "PAY_AMT_AUG    132.969058\n",
       "PAY_AMT_SEP    138.394712\n",
       "PAY_AMT_OCT    150.447367\n",
       "PAY_AMT_NOV    156.733492\n",
       "PAY_AMT_DEC    170.683358\n",
       "dtype: float64"
      ]
     },
     "execution_count": 52,
     "metadata": {},
     "output_type": "execute_result"
    }
   ],
   "source": [
    "test[pay_amt_cols].mean()"
   ]
  },
  {
   "cell_type": "code",
   "execution_count": 49,
   "metadata": {},
   "outputs": [
    {
     "name": "stdout",
     "output_type": "stream",
     "text": [
      "CUST_COD                      -39663265.83\n",
      "LIMIT_BAL                     -0.00\n",
      "SEX                           0.01\n",
      "PAY_DEC                       -1.74\n",
      "PAY_NOV                       -1.70\n",
      "PAY_OCT                       -1.68\n",
      "PAY_SEP                       -1.64\n",
      "PAY_AUG                       -1.61\n",
      "PAY_JUL                       -1.60\n",
      "BILL_AMT_DEC                  28.74\n",
      "BILL_AMT_NOV                  7.77\n",
      "BILL_AMT_OCT                  24.41\n",
      "BILL_AMT_SEP                  24.28\n",
      "BILL_AMT_AUG                  20.70\n",
      "BILL_AMT_JUL                  5.99\n",
      "PAY_AMT_DEC                   -2.04\n",
      "PAY_AMT_NOV                   22.09\n",
      "PAY_AMT_OCT                   5.97\n",
      "PAY_AMT_SEP                   6.12\n",
      "PAY_AMT_AUG                   11.29\n",
      "PAY_AMT_JUL                   19.65\n",
      "DEFAULT PAYMENT JAN           nan\n",
      "SEX_MISSING                   0.01\n",
      "EDUCATION_MISSING             0.00\n",
      "EDUCATION_graduate school     0.01\n",
      "EDUCATION_high school         0.00\n",
      "EDUCATION_other               0.00\n",
      "EDUCATION_university          -0.01\n",
      "MARRIAGE_MISSING              0.00\n",
      "MARRIAGE_married              -0.01\n",
      "MARRIAGE_other                0.00\n",
      "MARRIAGE_single               0.01\n",
      "AGE_MISSING                   0.03\n",
      "AGE                           0.04\n",
      "LIMIT-MEAN_BILL               25.67\n",
      "AVG_PAY_LAST_2                -1.72\n",
      "AVG_PAY_LAST_3                -1.67\n",
      "AVG_PAY_LAST_4                -1.62\n",
      "AVG_PAY_LAST_5                -1.58\n",
      "AVG_PAY_LAST_6                -1.56\n",
      "PAY_TREND                     0.00\n",
      "PAY_SKEW                      0.04\n",
      "PAY_KURT                      0.01\n",
      "AVG_BILL_AMT_LAST_2           18.25\n",
      "AVG_BILL_AMT_LAST_3           20.30\n",
      "AVG_BILL_AMT_LAST_4           21.30\n",
      "AVG_BILL_AMT_LAST_5           21.18\n",
      "AVG_BILL_AMT_LAST_6           18.65\n",
      "BILL_AMT_TREND                2.15\n",
      "BILL_AMT_SKEW                 -0.01\n",
      "BILL_AMT_KURT                 0.05\n",
      "AVG_PAY_AMT_LAST_2            10.02\n",
      "AVG_PAY_AMT_LAST_3            8.67\n",
      "AVG_PAY_AMT_LAST_4            8.04\n",
      "AVG_PAY_AMT_LAST_5            8.69\n",
      "AVG_PAY_AMT_LAST_6            10.51\n",
      "PAY_AMT_TREND                 -2.18\n",
      "PAY_AMT_SKEW                  0.03\n",
      "PAY_AMT_KURT                  0.05\n",
      "DELTA_1                       14.71\n",
      "DELTA_2                       3.58\n",
      "DELTA_3                       0.12\n",
      "DELTA_4                       -16.63\n",
      "DELTA_5                       20.97\n",
      "PROD                          1015.07\n",
      "FRAC_PAY_1                    0.10\n",
      "FRAC_PAY_2                    0.62\n",
      "FRAC_PAY_3                    -3.01\n",
      "FRAC_PAY_4                    0.37\n",
      "FRAC_PAY_5                    0.13\n",
      "BILL_AMT_AR                   0.00\n",
      "BILL_AMT_I                    -0.00\n",
      "BILL_AMT_MA                   0.00\n",
      "BILL_AMT_SIGMA                0.03\n",
      "PAY_AMT_AR                    -0.01\n",
      "PAY_AMT_I                     -0.00\n",
      "PAY_AMT_MA                    0.00\n",
      "PAY_AMT_SIGMA                 0.11\n",
      "PAY_AR                        0.01\n",
      "PAY_I                         0.13\n",
      "PAY_MA                        0.00\n",
      "PAY_SIGMA                     -110.93\n",
      "TOTAL_AMT_PAID                63.09\n"
     ]
    }
   ],
   "source": [
    "for colname, value in zip(diff_mean.index, diff_mean):\n",
    "    print(\"{0}{1:.2f}\".format(colname.ljust(30), value))"
   ]
  },
  {
   "cell_type": "markdown",
   "metadata": {},
   "source": [
    "Nel test:\n",
    "- Tendono a pagare in media molto più tardi rispetto ai dati nel train\n",
    "- Hanno un BILL_AMT che è in genere un po' più basso\n",
    "- Tendono a pagare un po' meno mensilmente\n",
    "- Non ci sono differenze significative per età, sesso ed educazione"
   ]
  },
  {
   "cell_type": "code",
   "execution_count": null,
   "metadata": {
    "collapsed": true
   },
   "outputs": [],
   "source": []
  },
  {
   "cell_type": "code",
   "execution_count": null,
   "metadata": {
    "collapsed": true
   },
   "outputs": [],
   "source": []
  },
  {
   "cell_type": "code",
   "execution_count": null,
   "metadata": {
    "collapsed": true
   },
   "outputs": [],
   "source": []
  },
  {
   "cell_type": "markdown",
   "metadata": {},
   "source": [
    "# [OPTIONAL] Categorize data"
   ]
  },
  {
   "cell_type": "code",
   "execution_count": 31,
   "metadata": {
    "collapsed": true
   },
   "outputs": [],
   "source": [
    "train = pd.read_csv('data/train_all_features.csv')\n",
    "test = pd.read_csv('data/test_all_features.csv')"
   ]
  },
  {
   "cell_type": "code",
   "execution_count": 32,
   "metadata": {
    "collapsed": true
   },
   "outputs": [],
   "source": [
    "def get_qcut_tuples(df, q):\n",
    "    bins = np.unique(pd.qcut(df, q))\n",
    "    bin_tuples = [tuple(map(float, x[1:-1].split(','))) for x in bins]\n",
    "    return sorted(bin_tuples)"
   ]
  },
  {
   "cell_type": "code",
   "execution_count": 33,
   "metadata": {
    "collapsed": true
   },
   "outputs": [],
   "source": [
    "traintest = pd.concat([train, test])"
   ]
  },
  {
   "cell_type": "markdown",
   "metadata": {},
   "source": [
    "## Age"
   ]
  },
  {
   "cell_type": "code",
   "execution_count": 34,
   "metadata": {
    "collapsed": true
   },
   "outputs": [],
   "source": [
    "AGE_CUTS = 11\n",
    "\n",
    "age_bins = [x[0] for x in get_qcut_tuples(traintest['AGE'], AGE_CUTS)] + [np.inf]\n",
    "\n",
    "for df in [train,test]:\n",
    "    df['AGE'] = pd.cut(df['AGE'], bins=age_bins, right=True, include_lowest=True, labels=np.arange(AGE_CUTS))"
   ]
  },
  {
   "cell_type": "markdown",
   "metadata": {},
   "source": [
    "## LIMIT_BAL"
   ]
  },
  {
   "cell_type": "code",
   "execution_count": 35,
   "metadata": {},
   "outputs": [],
   "source": [
    "LIMIT_BAL_CUTS = 11\n",
    "\n",
    "limit_bal_bins = [x[0] for x in get_qcut_tuples(traintest['LIMIT_BAL'], LIMIT_BAL_CUTS)] + [np.inf]\n",
    "\n",
    "for df in [train, test]:\n",
    "    df['LIMIT_BAL'] = pd.cut(df['LIMIT_BAL'], bins=limit_bal_bins, right=True, include_lowest=True, labels=np.arange(LIMIT_BAL_CUTS))"
   ]
  },
  {
   "cell_type": "code",
   "execution_count": 36,
   "metadata": {
    "collapsed": true
   },
   "outputs": [],
   "source": [
    "for df in [train, test]:\n",
    "    for c in pay_cols:\n",
    "        train[c] = pd.cut(train[c], bins=[-2, -1, 0, 2, 9], labels=[-2, -1, 0, 2], include_lowest=True)\n",
    "    for c in avg_pay_last:\n",
    "        train[c] = pd.cut(train[c], bins=[-2, -1, 0, 2, 9], labels=[-2, -1, 0, 2], include_lowest=True)"
   ]
  },
  {
   "cell_type": "markdown",
   "metadata": {},
   "source": [
    "## SIGMA"
   ]
  },
  {
   "cell_type": "code",
   "execution_count": 37,
   "metadata": {
    "collapsed": true
   },
   "outputs": [],
   "source": [
    "PAY_AMT_SIGMA_CUTS = 10\n",
    "pay_amt_sigma_bins = [x[0] for x in get_qcut_tuples(traintest['PAY_AMT_SIGMA'], PAY_AMT_SIGMA_CUTS)] + [np.inf]\n",
    "for df in [train, test]:\n",
    "    df['PAY_AMT_SIGMA'] = pd.cut(df['PAY_AMT_SIGMA'], bins=pay_amt_sigma_bins, right=True, include_lowest=True, labels=np.arange(PAY_AMT_SIGMA_CUTS))"
   ]
  },
  {
   "cell_type": "code",
   "execution_count": 38,
   "metadata": {
    "collapsed": true
   },
   "outputs": [],
   "source": [
    "BILL_AMT_SIGMA_CUTS = 10\n",
    "bill_amt_sigma_bins = [x[0] for x in get_qcut_tuples(traintest['BILL_AMT_SIGMA'], BILL_AMT_SIGMA_CUTS)] + [np.inf]\n",
    "for df in [train, test]:\n",
    "    df['BILL_AMT_SIGMA'] = pd.cut(df['BILL_AMT_SIGMA'], bins=bill_amt_sigma_bins, right=True, include_lowest=True, labels=np.arange(BILL_AMT_SIGMA_CUTS))"
   ]
  }
 ],
 "metadata": {
  "kernelspec": {
   "display_name": "Python 3",
   "language": "python",
   "name": "python3"
  },
  "language_info": {
   "codemirror_mode": {
    "name": "ipython",
    "version": 3
   },
   "file_extension": ".py",
   "mimetype": "text/x-python",
   "name": "python",
   "nbconvert_exporter": "python",
   "pygments_lexer": "ipython3",
   "version": "3.5.3"
  }
 },
 "nbformat": 4,
 "nbformat_minor": 2
}
