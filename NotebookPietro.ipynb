{
 "cells": [
  {
   "cell_type": "code",
   "execution_count": 1,
   "metadata": {
    "collapsed": false
   },
   "outputs": [],
   "source": [
    "import sklearn\n",
    "import matplotlib.pyplot as plt\n",
    "import pandas as pd\n",
    "%matplotlib inline\n",
    "import pandas as pd\n",
    "import numpy as np\n",
    "import sklearn\n",
    "from sklearn import linear_model\n",
    "from sklearn import model_selection\n",
    "from sklearn.model_selection import KFold\n",
    "from sklearn import preprocessing\n",
    "from sklearn import tree\n",
    "from sklearn import linear_model\n",
    "from sklearn import naive_bayes\n",
    "from sklearn import neighbors\n",
    "from sklearn.neighbors.nearest_centroid import NearestCentroid\n",
    "from sklearn import tree\n",
    "from sklearn.ensemble import RandomForestClassifier\n",
    "from sklearn.model_selection import StratifiedKFold\n",
    "from sklearn.tree import DecisionTreeClassifier\n",
    "from sklearn.metrics import roc_curve,roc_auc_score,precision_score,recall_score,auc"
   ]
  },
  {
   "cell_type": "code",
   "execution_count": 4,
   "metadata": {
    "collapsed": false
   },
   "outputs": [
    {
     "name": "stdout",
     "output_type": "stream",
     "text": [
      "<class 'pandas.core.frame.DataFrame'>\n",
      "RangeIndex: 26884 entries, 0 to 26883\n",
      "Data columns (total 85 columns):\n",
      "LIMIT_BAL                     26884 non-null float64\n",
      "SEX                           26884 non-null float64\n",
      "BILL_AMT_DEC                  26884 non-null float64\n",
      "BILL_AMT_NOV                  26884 non-null float64\n",
      "BILL_AMT_OCT                  26884 non-null float64\n",
      "BILL_AMT_SEP                  26884 non-null float64\n",
      "BILL_AMT_AUG                  26884 non-null float64\n",
      "BILL_AMT_JUL                  26884 non-null float64\n",
      "PAY_AMT_DEC                   26884 non-null float64\n",
      "PAY_AMT_NOV                   26884 non-null float64\n",
      "PAY_AMT_OCT                   26884 non-null float64\n",
      "PAY_AMT_SEP                   26884 non-null float64\n",
      "PAY_AMT_AUG                   26884 non-null float64\n",
      "PAY_AMT_JUL                   26884 non-null float64\n",
      "DEFAULT PAYMENT JAN           26884 non-null float64\n",
      "SEX_MISSING                   26884 non-null float64\n",
      "EDUCATION_MISSING             26884 non-null float64\n",
      "EDUCATION_graduate school     26884 non-null float64\n",
      "EDUCATION_high school         26884 non-null float64\n",
      "EDUCATION_other               26884 non-null float64\n",
      "EDUCATION_university          26884 non-null float64\n",
      "MARRIAGE_MISSING              26884 non-null float64\n",
      "MARRIAGE_married              26884 non-null float64\n",
      "MARRIAGE_other                26884 non-null float64\n",
      "MARRIAGE_single               26884 non-null float64\n",
      "AGE_MISSING                   26884 non-null float64\n",
      "AGE                           26884 non-null float64\n",
      "PAY_TREND                     26884 non-null float64\n",
      "AVG_BILL_AMT_LAST_2           26884 non-null float64\n",
      "AVG_BILL_AMT_LAST_3           26884 non-null float64\n",
      "AVG_BILL_AMT_LAST_4           26884 non-null float64\n",
      "AVG_BILL_AMT_LAST_5           26884 non-null float64\n",
      "AVG_BILL_AMT_LAST_6           26884 non-null float64\n",
      "BILL_AMT_TREND                26884 non-null float64\n",
      "AVG_PAY_AMT_LAST_2            26884 non-null float64\n",
      "AVG_PAY_AMT_LAST_3            26884 non-null float64\n",
      "AVG_PAY_AMT_LAST_4            26884 non-null float64\n",
      "AVG_PAY_AMT_LAST_5            26884 non-null float64\n",
      "AVG_PAY_AMT_LAST_6            26884 non-null float64\n",
      "PAY_AMT_TREND                 26884 non-null float64\n",
      "DELTA_1                       26884 non-null float64\n",
      "DELTA_2                       26884 non-null float64\n",
      "DELTA_3                       26884 non-null float64\n",
      "DELTA_4                       26884 non-null float64\n",
      "DELTA_5                       26884 non-null float64\n",
      "PROD                          26884 non-null float64\n",
      "FRAC_PAY_1                    26884 non-null float64\n",
      "FRAC_PAY_2                    26884 non-null float64\n",
      "FRAC_PAY_3                    26884 non-null float64\n",
      "FRAC_PAY_4                    26884 non-null float64\n",
      "FRAC_PAY_5                    26884 non-null float64\n",
      "PAY_JUL_PAY_EARLY             26884 non-null float64\n",
      "PAY_JUL_PAY_REGULAR           26884 non-null float64\n",
      "PAY_JUL_PAY_LATE              26884 non-null float64\n",
      "PAY_AUG_PAY_EARLY             26884 non-null float64\n",
      "PAY_AUG_PAY_REGULAR           26884 non-null float64\n",
      "PAY_AUG_PAY_LATE              26884 non-null float64\n",
      "PAY_SEP_PAY_EARLY             26884 non-null float64\n",
      "PAY_SEP_PAY_REGULAR           26884 non-null float64\n",
      "PAY_SEP_PAY_LATE              26884 non-null float64\n",
      "PAY_OCT_PAY_EARLY             26884 non-null float64\n",
      "PAY_OCT_PAY_REGULAR           26884 non-null float64\n",
      "PAY_OCT_PAY_LATE              26884 non-null float64\n",
      "PAY_NOV_PAY_EARLY             26884 non-null float64\n",
      "PAY_NOV_PAY_REGULAR           26884 non-null float64\n",
      "PAY_NOV_PAY_LATE              26884 non-null float64\n",
      "PAY_DEC_PAY_EARLY             26884 non-null float64\n",
      "PAY_DEC_PAY_REGULAR           26884 non-null float64\n",
      "PAY_DEC_PAY_LATE              26884 non-null float64\n",
      "AVG_PAY_LAST_2_PAY_EARLY      26884 non-null float64\n",
      "AVG_PAY_LAST_2_PAY_REGULAR    26884 non-null float64\n",
      "AVG_PAY_LAST_2_PAY_LATE       26884 non-null float64\n",
      "AVG_PAY_LAST_3_PAY_EARLY      26884 non-null float64\n",
      "AVG_PAY_LAST_3_PAY_REGULAR    26884 non-null float64\n",
      "AVG_PAY_LAST_3_PAY_LATE       26884 non-null float64\n",
      "AVG_PAY_LAST_4_PAY_EARLY      26884 non-null float64\n",
      "AVG_PAY_LAST_4_PAY_REGULAR    26884 non-null float64\n",
      "AVG_PAY_LAST_4_PAY_LATE       26884 non-null float64\n",
      "AVG_PAY_LAST_5_PAY_EARLY      26884 non-null float64\n",
      "AVG_PAY_LAST_5_PAY_REGULAR    26884 non-null float64\n",
      "AVG_PAY_LAST_5_PAY_LATE       26884 non-null float64\n",
      "AVG_PAY_LAST_6_PAY_EARLY      26884 non-null float64\n",
      "AVG_PAY_LAST_6_PAY_REGULAR    26884 non-null float64\n",
      "AVG_PAY_LAST_6_PAY_LATE       26884 non-null float64\n",
      "TOTAL_AMT_PAID                26884 non-null float64\n",
      "dtypes: float64(85)\n",
      "memory usage: 17.4 MB\n"
     ]
    }
   ],
   "source": [
    "dataSet = pd.read_csv('data/dataAndre.csv')\n",
    "dataSet.info()"
   ]
  },
  {
   "cell_type": "code",
   "execution_count": 5,
   "metadata": {
    "collapsed": false
   },
   "outputs": [],
   "source": [
    "from sklearn.model_selection import train_test_split\n",
    "train, test = train_test_split(dataSet, test_size = 0.2)\n",
    "target = 'DEFAULT PAYMENT JAN'\n",
    "features = test.columns[test.columns!=target]"
   ]
  },
  {
   "cell_type": "code",
   "execution_count": 6,
   "metadata": {
    "collapsed": true
   },
   "outputs": [],
   "source": [
    "x = dataSet[features]\n",
    "y = dataSet[target]\n",
    "xTr = train[features]\n",
    "yTr = train[target]\n",
    "xTe = test[features]\n",
    "yTe = test[target]"
   ]
  },
  {
   "cell_type": "markdown",
   "metadata": {},
   "source": [
    "# Confusion matrix Accuracy f1"
   ]
  },
  {
   "cell_type": "code",
   "execution_count": 7,
   "metadata": {
    "collapsed": false
   },
   "outputs": [],
   "source": [
    "from sklearn.metrics import confusion_matrix\n",
    "from sklearn.ensemble import AdaBoostClassifier\n",
    "ada2 = AdaBoostClassifier(n_estimators=500, random_state=0)\n",
    "ada2 = ada2.fit(xTr,yTr)\n",
    "yPre=ada2.predict(xTe)\n",
    "conf=confusion_matrix(yTe, yPre)"
   ]
  },
  {
   "cell_type": "code",
   "execution_count": null,
   "metadata": {
    "collapsed": false
   },
   "outputs": [
    {
     "data": {
      "text/plain": [
       "0.46690610569522828"
      ]
     },
     "execution_count": 8,
     "metadata": {},
     "output_type": "execute_result"
    }
   ],
   "source": [
    "from sklearn.metrics import f1_score\n",
    "f1_score(yTe, yPre)"
   ]
  },
  {
   "cell_type": "code",
   "execution_count": null,
   "metadata": {
    "collapsed": false
   },
   "outputs": [
    {
     "name": "stderr",
     "output_type": "stream",
     "text": [
      "/Users/pietro/anaconda/lib/python3.6/site-packages/sklearn/metrics/classification.py:1115: UndefinedMetricWarning: F-score is ill-defined and being set to 0.0 due to no true samples.\n",
      "  'recall', 'true', average, warn_for)\n"
     ]
    }
   ],
   "source": [
    "import utils\n",
    "utils.get_best_threshold(ada2,xTe,yTe)"
   ]
  },
  {
   "cell_type": "code",
   "execution_count": 16,
   "metadata": {
    "collapsed": false
   },
   "outputs": [
    {
     "name": "stdout",
     "output_type": "stream",
     "text": [
      "Converting data in numpy array\n",
      "Evaluating model with parameters: {'threshold': 0.1}\n",
      "Training fold #1"
     ]
    },
    {
     "ename": "ValueError",
     "evalue": "Input contains NaN, infinity or a value too large for dtype('float64').",
     "output_type": "error",
     "traceback": [
      "\u001b[0;31m---------------------------------------------------------------------------\u001b[0m",
      "\u001b[0;31mValueError\u001b[0m                                Traceback (most recent call last)",
      "\u001b[0;32m<ipython-input-16-2483289d0bed>\u001b[0m in \u001b[0;36m<module>\u001b[0;34m()\u001b[0m\n\u001b[1;32m      7\u001b[0m \u001b[0;34m\u001b[0m\u001b[0m\n\u001b[1;32m      8\u001b[0m \u001b[0mgrid\u001b[0m \u001b[0;34m=\u001b[0m \u001b[0mutils\u001b[0m\u001b[0;34m.\u001b[0m\u001b[0mThresholdGridCV\u001b[0m\u001b[0;34m(\u001b[0m\u001b[0mutils\u001b[0m\u001b[0;34m.\u001b[0m\u001b[0mThresholdAdaBoost\u001b[0m\u001b[0;34m,\u001b[0m \u001b[0mparams\u001b[0m\u001b[0;34m,\u001b[0m \u001b[0mcv\u001b[0m\u001b[0;34m=\u001b[0m\u001b[0;36m10\u001b[0m\u001b[0;34m,\u001b[0m \u001b[0mrandom_state\u001b[0m\u001b[0;34m=\u001b[0m\u001b[0;36m42\u001b[0m\u001b[0;34m,\u001b[0m \u001b[0mverbose\u001b[0m\u001b[0;34m=\u001b[0m\u001b[0;36m2\u001b[0m\u001b[0;34m,\u001b[0m \u001b[0mmetric\u001b[0m\u001b[0;34m=\u001b[0m\u001b[0mf1_score\u001b[0m\u001b[0;34m)\u001b[0m\u001b[0;34m\u001b[0m\u001b[0m\n\u001b[0;32m----> 9\u001b[0;31m \u001b[0mgrid\u001b[0m\u001b[0;34m.\u001b[0m\u001b[0mfit\u001b[0m\u001b[0;34m(\u001b[0m\u001b[0mxTr\u001b[0m\u001b[0;34m,\u001b[0m \u001b[0myTr\u001b[0m\u001b[0;34m)\u001b[0m\u001b[0;34m\u001b[0m\u001b[0m\n\u001b[0m\u001b[1;32m     10\u001b[0m \u001b[0;34m\u001b[0m\u001b[0m\n\u001b[1;32m     11\u001b[0m \u001b[0mbest\u001b[0m \u001b[0;34m=\u001b[0m \u001b[0mgrid\u001b[0m\u001b[0;34m.\u001b[0m\u001b[0mbest_model\u001b[0m\u001b[0;34m(\u001b[0m\u001b[0;34m)\u001b[0m\u001b[0;34m\u001b[0m\u001b[0m\n",
      "\u001b[0;32m/Users/pietro/snakesonaplane/utils.py\u001b[0m in \u001b[0;36mfit\u001b[0;34m(self, X, y)\u001b[0m\n\u001b[1;32m     88\u001b[0m                                         \u001b[0mfold\u001b[0m \u001b[0;34m+=\u001b[0m \u001b[0;36m1\u001b[0m\u001b[0;34m\u001b[0m\u001b[0m\n\u001b[1;32m     89\u001b[0m \u001b[0;34m\u001b[0m\u001b[0m\n\u001b[0;32m---> 90\u001b[0;31m                                 \u001b[0mmodel\u001b[0m \u001b[0;34m=\u001b[0m \u001b[0mmodel\u001b[0m\u001b[0;34m.\u001b[0m\u001b[0mfit\u001b[0m\u001b[0;34m(\u001b[0m\u001b[0mX_train\u001b[0m\u001b[0;34m,\u001b[0m \u001b[0my_train\u001b[0m\u001b[0;34m)\u001b[0m\u001b[0;34m\u001b[0m\u001b[0m\n\u001b[0m\u001b[1;32m     91\u001b[0m                                 \u001b[0mscore\u001b[0m \u001b[0;34m=\u001b[0m \u001b[0mself\u001b[0m\u001b[0;34m.\u001b[0m\u001b[0m_metric\u001b[0m\u001b[0;34m(\u001b[0m\u001b[0mmodel\u001b[0m\u001b[0;34m.\u001b[0m\u001b[0mpredict\u001b[0m\u001b[0;34m(\u001b[0m\u001b[0mX_test\u001b[0m\u001b[0;34m)\u001b[0m\u001b[0;34m,\u001b[0m \u001b[0my_test\u001b[0m\u001b[0;34m)\u001b[0m\u001b[0;34m\u001b[0m\u001b[0m\n\u001b[1;32m     92\u001b[0m \u001b[0;34m\u001b[0m\u001b[0m\n",
      "\u001b[0;32m/Users/pietro/anaconda/lib/python3.6/site-packages/sklearn/ensemble/weight_boosting.py\u001b[0m in \u001b[0;36mfit\u001b[0;34m(self, X, y, sample_weight)\u001b[0m\n\u001b[1;32m    409\u001b[0m \u001b[0;34m\u001b[0m\u001b[0m\n\u001b[1;32m    410\u001b[0m         \u001b[0;31m# Fit\u001b[0m\u001b[0;34m\u001b[0m\u001b[0;34m\u001b[0m\u001b[0m\n\u001b[0;32m--> 411\u001b[0;31m         \u001b[0;32mreturn\u001b[0m \u001b[0msuper\u001b[0m\u001b[0;34m(\u001b[0m\u001b[0mAdaBoostClassifier\u001b[0m\u001b[0;34m,\u001b[0m \u001b[0mself\u001b[0m\u001b[0;34m)\u001b[0m\u001b[0;34m.\u001b[0m\u001b[0mfit\u001b[0m\u001b[0;34m(\u001b[0m\u001b[0mX\u001b[0m\u001b[0;34m,\u001b[0m \u001b[0my\u001b[0m\u001b[0;34m,\u001b[0m \u001b[0msample_weight\u001b[0m\u001b[0;34m)\u001b[0m\u001b[0;34m\u001b[0m\u001b[0m\n\u001b[0m\u001b[1;32m    412\u001b[0m \u001b[0;34m\u001b[0m\u001b[0m\n\u001b[1;32m    413\u001b[0m     \u001b[0;32mdef\u001b[0m \u001b[0m_validate_estimator\u001b[0m\u001b[0;34m(\u001b[0m\u001b[0mself\u001b[0m\u001b[0;34m)\u001b[0m\u001b[0;34m:\u001b[0m\u001b[0;34m\u001b[0m\u001b[0m\n",
      "\u001b[0;32m/Users/pietro/anaconda/lib/python3.6/site-packages/sklearn/ensemble/weight_boosting.py\u001b[0m in \u001b[0;36mfit\u001b[0;34m(self, X, y, sample_weight)\u001b[0m\n\u001b[1;32m    109\u001b[0m \u001b[0;34m\u001b[0m\u001b[0m\n\u001b[1;32m    110\u001b[0m         X, y = check_X_y(X, y, accept_sparse=accept_sparse, dtype=dtype,\n\u001b[0;32m--> 111\u001b[0;31m                          y_numeric=is_regressor(self))\n\u001b[0m\u001b[1;32m    112\u001b[0m \u001b[0;34m\u001b[0m\u001b[0m\n\u001b[1;32m    113\u001b[0m         \u001b[0;32mif\u001b[0m \u001b[0msample_weight\u001b[0m \u001b[0;32mis\u001b[0m \u001b[0;32mNone\u001b[0m\u001b[0;34m:\u001b[0m\u001b[0;34m\u001b[0m\u001b[0m\n",
      "\u001b[0;32m/Users/pietro/anaconda/lib/python3.6/site-packages/sklearn/utils/validation.py\u001b[0m in \u001b[0;36mcheck_X_y\u001b[0;34m(X, y, accept_sparse, dtype, order, copy, force_all_finite, ensure_2d, allow_nd, multi_output, ensure_min_samples, ensure_min_features, y_numeric, warn_on_dtype, estimator)\u001b[0m\n\u001b[1;32m    525\u001b[0m     \u001b[0;32melse\u001b[0m\u001b[0;34m:\u001b[0m\u001b[0;34m\u001b[0m\u001b[0m\n\u001b[1;32m    526\u001b[0m         \u001b[0my\u001b[0m \u001b[0;34m=\u001b[0m \u001b[0mcolumn_or_1d\u001b[0m\u001b[0;34m(\u001b[0m\u001b[0my\u001b[0m\u001b[0;34m,\u001b[0m \u001b[0mwarn\u001b[0m\u001b[0;34m=\u001b[0m\u001b[0;32mTrue\u001b[0m\u001b[0;34m)\u001b[0m\u001b[0;34m\u001b[0m\u001b[0m\n\u001b[0;32m--> 527\u001b[0;31m         \u001b[0m_assert_all_finite\u001b[0m\u001b[0;34m(\u001b[0m\u001b[0my\u001b[0m\u001b[0;34m)\u001b[0m\u001b[0;34m\u001b[0m\u001b[0m\n\u001b[0m\u001b[1;32m    528\u001b[0m     \u001b[0;32mif\u001b[0m \u001b[0my_numeric\u001b[0m \u001b[0;32mand\u001b[0m \u001b[0my\u001b[0m\u001b[0;34m.\u001b[0m\u001b[0mdtype\u001b[0m\u001b[0;34m.\u001b[0m\u001b[0mkind\u001b[0m \u001b[0;34m==\u001b[0m \u001b[0;34m'O'\u001b[0m\u001b[0;34m:\u001b[0m\u001b[0;34m\u001b[0m\u001b[0m\n\u001b[1;32m    529\u001b[0m         \u001b[0my\u001b[0m \u001b[0;34m=\u001b[0m \u001b[0my\u001b[0m\u001b[0;34m.\u001b[0m\u001b[0mastype\u001b[0m\u001b[0;34m(\u001b[0m\u001b[0mnp\u001b[0m\u001b[0;34m.\u001b[0m\u001b[0mfloat64\u001b[0m\u001b[0;34m)\u001b[0m\u001b[0;34m\u001b[0m\u001b[0m\n",
      "\u001b[0;32m/Users/pietro/anaconda/lib/python3.6/site-packages/sklearn/utils/validation.py\u001b[0m in \u001b[0;36m_assert_all_finite\u001b[0;34m(X)\u001b[0m\n\u001b[1;32m     56\u001b[0m             and not np.isfinite(X).all()):\n\u001b[1;32m     57\u001b[0m         raise ValueError(\"Input contains NaN, infinity\"\n\u001b[0;32m---> 58\u001b[0;31m                          \" or a value too large for %r.\" % X.dtype)\n\u001b[0m\u001b[1;32m     59\u001b[0m \u001b[0;34m\u001b[0m\u001b[0m\n\u001b[1;32m     60\u001b[0m \u001b[0;34m\u001b[0m\u001b[0m\n",
      "\u001b[0;31mValueError\u001b[0m: Input contains NaN, infinity or a value too large for dtype('float64')."
     ]
    }
   ],
   "source": [
    "import utils\n",
    "from sklearn.metrics import f1_score\n",
    "\n",
    "params = {\n",
    "    'threshold' : [0.1, 0.53, 0.8]\n",
    "}\n",
    "\n",
    "grid = utils.ThresholdGridCV(utils.ThresholdAdaBoost, params, cv=10, random_state=42, verbose=2, metric=f1_score)\n",
    "grid.fit(xTr, yTr)\n",
    "\n",
    "best = grid.best_model()\n",
    "print(\"best score: {0}\".format(grid.best_score()))\n",
    "\n",
    "utils.plot_roc_curve(best, X_test, y_test)"
   ]
  },
  {
   "cell_type": "markdown",
   "metadata": {},
   "source": [
    "# Evaluation using crossvalidation"
   ]
  },
  {
   "cell_type": "code",
   "execution_count": null,
   "metadata": {
    "collapsed": false
   },
   "outputs": [],
   "source": [
    "dt_entropy = tree.DecisionTreeClassifier()"
   ]
  },
  {
   "cell_type": "code",
   "execution_count": null,
   "metadata": {
    "collapsed": false
   },
   "outputs": [],
   "source": [
    "dt_entropy = tree.DecisionTreeClassifier('entropy',max_depth=10)\n",
    "dt_entropy = dt_entropy.fit(x,y)\n",
    "xval_entropy = model_selection.cross_val_score(dt_entropy, x, y, cv=KFold(n_splits=10, shuffle=True, random_state=1234))\n",
    "print(\"Decision Tree (Entropy) Accuracy = %3.2f +/- %.4f\" %(np.average(xval_entropy),np.std(xval_entropy)))"
   ]
  },
  {
   "cell_type": "code",
   "execution_count": null,
   "metadata": {
    "collapsed": false
   },
   "outputs": [],
   "source": [
    "rf = RandomForestClassifier(n_estimators=100, max_depth=None, min_samples_split=2, random_state=0)\n",
    "rf = rf.fit(x,y)\n",
    "rf_eval = model_selection.cross_val_score(rf, x, y, cv=StratifiedKFold(n_splits=10,random_state=52725,shuffle=True))\n",
    "print(\"Random Forest\\t%4.3f\\t%4.3f\" % (np.average(rf_eval), np.std(rf_eval)))"
   ]
  },
  {
   "cell_type": "code",
   "execution_count": null,
   "metadata": {
    "collapsed": false
   },
   "outputs": [],
   "source": [
    "from sklearn.ensemble import AdaBoostClassifier\n",
    "ada = AdaBoostClassifier(n_estimators=100, random_state=0)\n",
    "ada = ada.fit(x,y)\n",
    "ada_eval = model_selection.cross_val_score(ada, x, y, cv=StratifiedKFold(n_splits=10,random_state=52725,shuffle=True))\n",
    "print(\"Ada\\t%4.3f\\t%4.3f\" % (np.average(rf_eval), np.std(rf_eval)))"
   ]
  },
  {
   "cell_type": "markdown",
   "metadata": {},
   "source": [
    "## "
   ]
  }
 ],
 "metadata": {
  "kernelspec": {
   "display_name": "Python 3",
   "language": "python",
   "name": "python3"
  },
  "language_info": {
   "codemirror_mode": {
    "name": "ipython",
    "version": 3
   },
   "file_extension": ".py",
   "mimetype": "text/x-python",
   "name": "python",
   "nbconvert_exporter": "python",
   "pygments_lexer": "ipython3",
   "version": "3.6.0"
  }
 },
 "nbformat": 4,
 "nbformat_minor": 2
}
