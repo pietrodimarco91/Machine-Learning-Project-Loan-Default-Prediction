{
 "cells": [
  {
   "cell_type": "code",
   "execution_count": 1,
   "metadata": {
    "collapsed": false
   },
   "outputs": [],
   "source": [
    "\n",
    "from xgboost import XGBClassifier\n",
    "import sklearn\n",
    "import matplotlib.pyplot as plt\n",
    "import pandas as pd\n",
    "%matplotlib inline\n",
    "import pandas as pd\n",
    "import numpy as np\n",
    "import sklearn\n",
    "import utils\n",
    "from sklearn import linear_model\n",
    "from sklearn import model_selection\n",
    "from sklearn.model_selection import KFold\n",
    "from sklearn import preprocessing\n",
    "from sklearn import tree\n",
    "from sklearn import linear_model\n",
    "from sklearn import naive_bayes\n",
    "from sklearn import neighbors\n",
    "from sklearn.neighbors.nearest_centroid import NearestCentroid\n",
    "from sklearn import tree\n",
    "from sklearn.svm import SVR\n",
    "from sklearn.ensemble import RandomForestClassifier\n",
    "from sklearn.model_selection import StratifiedKFold\n",
    "from sklearn.tree import DecisionTreeClassifier\n",
    "from sklearn.metrics import roc_curve,roc_auc_score,precision_score,recall_score,auc\n",
    "from matplotlib import pyplot\n",
    "from sklearn.feature_selection import SelectKBest\n",
    "from sklearn.feature_selection import chi2\n",
    "from sklearn.feature_selection import RFE"
   ]
  },
  {
   "cell_type": "code",
   "execution_count": 2,
   "metadata": {
    "collapsed": false
   },
   "outputs": [
    {
     "name": "stdout",
     "output_type": "stream",
     "text": [
      "<class 'pandas.core.frame.DataFrame'>\n",
      "RangeIndex: 26884 entries, 0 to 26883\n",
      "Data columns (total 83 columns):\n",
      "CUST_COD                     26884 non-null float64\n",
      "LIMIT_BAL                    26884 non-null float64\n",
      "SEX                          26884 non-null float64\n",
      "PAY_DEC                      26884 non-null float64\n",
      "PAY_NOV                      26884 non-null float64\n",
      "PAY_OCT                      26884 non-null float64\n",
      "PAY_SEP                      26884 non-null float64\n",
      "PAY_AUG                      26884 non-null float64\n",
      "PAY_JUL                      26884 non-null float64\n",
      "BILL_AMT_DEC                 26884 non-null float64\n",
      "BILL_AMT_NOV                 26884 non-null float64\n",
      "BILL_AMT_OCT                 26884 non-null float64\n",
      "BILL_AMT_SEP                 26884 non-null float64\n",
      "BILL_AMT_AUG                 26884 non-null float64\n",
      "BILL_AMT_JUL                 26884 non-null float64\n",
      "PAY_AMT_DEC                  26884 non-null float64\n",
      "PAY_AMT_NOV                  26884 non-null float64\n",
      "PAY_AMT_OCT                  26884 non-null float64\n",
      "PAY_AMT_SEP                  26884 non-null float64\n",
      "PAY_AMT_AUG                  26884 non-null float64\n",
      "PAY_AMT_JUL                  26884 non-null float64\n",
      "DEFAULT PAYMENT JAN          26884 non-null float64\n",
      "SEX_MISSING                  26884 non-null float64\n",
      "EDUCATION_MISSING            26884 non-null float64\n",
      "EDUCATION_graduate school    26884 non-null float64\n",
      "EDUCATION_high school        26884 non-null float64\n",
      "EDUCATION_other              26884 non-null float64\n",
      "EDUCATION_university         26884 non-null float64\n",
      "MARRIAGE_MISSING             26884 non-null float64\n",
      "MARRIAGE_married             26884 non-null float64\n",
      "MARRIAGE_other               26884 non-null float64\n",
      "MARRIAGE_single              26884 non-null float64\n",
      "AGE_MISSING                  26884 non-null float64\n",
      "AGE                          26884 non-null float64\n",
      "LIMIT-MEAN_BILL              26884 non-null float64\n",
      "AVG_PAY_LAST_2               26884 non-null float64\n",
      "AVG_PAY_LAST_3               26884 non-null float64\n",
      "AVG_PAY_LAST_4               26884 non-null float64\n",
      "AVG_PAY_LAST_5               26884 non-null float64\n",
      "AVG_PAY_LAST_6               26884 non-null float64\n",
      "PAY_TREND                    26884 non-null float64\n",
      "PAY_SKEW                     26884 non-null float64\n",
      "PAY_KURT                     26884 non-null float64\n",
      "AVG_BILL_AMT_LAST_2          26884 non-null float64\n",
      "AVG_BILL_AMT_LAST_3          26884 non-null float64\n",
      "AVG_BILL_AMT_LAST_4          26884 non-null float64\n",
      "AVG_BILL_AMT_LAST_5          26884 non-null float64\n",
      "AVG_BILL_AMT_LAST_6          26884 non-null float64\n",
      "BILL_AMT_TREND               26884 non-null float64\n",
      "BILL_AMT_SKEW                26884 non-null float64\n",
      "BILL_AMT_KURT                26884 non-null float64\n",
      "AVG_PAY_AMT_LAST_2           26884 non-null float64\n",
      "AVG_PAY_AMT_LAST_3           26884 non-null float64\n",
      "AVG_PAY_AMT_LAST_4           26884 non-null float64\n",
      "AVG_PAY_AMT_LAST_5           26884 non-null float64\n",
      "AVG_PAY_AMT_LAST_6           26884 non-null float64\n",
      "PAY_AMT_TREND                26884 non-null float64\n",
      "PAY_AMT_SKEW                 26884 non-null float64\n",
      "PAY_AMT_KURT                 26884 non-null float64\n",
      "DELTA_1                      26884 non-null float64\n",
      "DELTA_2                      26884 non-null float64\n",
      "DELTA_3                      26884 non-null float64\n",
      "DELTA_4                      26884 non-null float64\n",
      "DELTA_5                      26884 non-null float64\n",
      "PROD                         26884 non-null float64\n",
      "FRAC_PAY_1                   26884 non-null float64\n",
      "FRAC_PAY_2                   26884 non-null float64\n",
      "FRAC_PAY_3                   26884 non-null float64\n",
      "FRAC_PAY_4                   26884 non-null float64\n",
      "FRAC_PAY_5                   26884 non-null float64\n",
      "BILL_AMT_AR                  26884 non-null float64\n",
      "BILL_AMT_I                   26884 non-null float64\n",
      "BILL_AMT_MA                  26884 non-null float64\n",
      "BILL_AMT_SIGMA               26884 non-null float64\n",
      "PAY_AMT_AR                   26884 non-null float64\n",
      "PAY_AMT_I                    26884 non-null float64\n",
      "PAY_AMT_MA                   26884 non-null float64\n",
      "PAY_AMT_SIGMA                26884 non-null float64\n",
      "PAY_AR                       26884 non-null float64\n",
      "PAY_I                        26884 non-null float64\n",
      "PAY_MA                       26884 non-null float64\n",
      "PAY_SIGMA                    26884 non-null float64\n",
      "TOTAL_AMT_PAID               26884 non-null float64\n",
      "dtypes: float64(83)\n",
      "memory usage: 17.0 MB\n"
     ]
    }
   ],
   "source": [
    "dataSet = pd.read_csv('data/train_all_features.csv')\n",
    "dataSet.info()"
   ]
  },
  {
   "cell_type": "code",
   "execution_count": 3,
   "metadata": {
    "collapsed": false
   },
   "outputs": [
    {
     "data": {
      "text/html": [
       "<div>\n",
       "<table border=\"1\" class=\"dataframe\">\n",
       "  <thead>\n",
       "    <tr style=\"text-align: right;\">\n",
       "      <th></th>\n",
       "      <th>CUST_COD</th>\n",
       "      <th>LIMIT_BAL</th>\n",
       "      <th>SEX</th>\n",
       "      <th>PAY_DEC</th>\n",
       "      <th>PAY_NOV</th>\n",
       "      <th>PAY_OCT</th>\n",
       "      <th>PAY_SEP</th>\n",
       "      <th>PAY_AUG</th>\n",
       "      <th>PAY_JUL</th>\n",
       "      <th>BILL_AMT_DEC</th>\n",
       "      <th>...</th>\n",
       "      <th>BILL_AMT_SIGMA</th>\n",
       "      <th>PAY_AMT_AR</th>\n",
       "      <th>PAY_AMT_I</th>\n",
       "      <th>PAY_AMT_MA</th>\n",
       "      <th>PAY_AMT_SIGMA</th>\n",
       "      <th>PAY_AR</th>\n",
       "      <th>PAY_I</th>\n",
       "      <th>PAY_MA</th>\n",
       "      <th>PAY_SIGMA</th>\n",
       "      <th>TOTAL_AMT_PAID</th>\n",
       "    </tr>\n",
       "  </thead>\n",
       "  <tbody>\n",
       "    <tr>\n",
       "      <th>5348</th>\n",
       "      <td>12193012.0</td>\n",
       "      <td>894.408</td>\n",
       "      <td>1.0</td>\n",
       "      <td>3.0</td>\n",
       "      <td>2.0</td>\n",
       "      <td>2.0</td>\n",
       "      <td>-1.0</td>\n",
       "      <td>-1.0</td>\n",
       "      <td>-1.0</td>\n",
       "      <td>49.490576</td>\n",
       "      <td>...</td>\n",
       "      <td>144.340074</td>\n",
       "      <td>0.0</td>\n",
       "      <td>0.0</td>\n",
       "      <td>0.0</td>\n",
       "      <td>148.283859</td>\n",
       "      <td>0.0</td>\n",
       "      <td>1.0</td>\n",
       "      <td>0.0</td>\n",
       "      <td>1.303841</td>\n",
       "      <td>620.480643</td>\n",
       "    </tr>\n",
       "    <tr>\n",
       "      <th>9242</th>\n",
       "      <td>45295387.0</td>\n",
       "      <td>2385.088</td>\n",
       "      <td>1.0</td>\n",
       "      <td>1.0</td>\n",
       "      <td>2.0</td>\n",
       "      <td>0.0</td>\n",
       "      <td>0.0</td>\n",
       "      <td>0.0</td>\n",
       "      <td>0.0</td>\n",
       "      <td>2485.470391</td>\n",
       "      <td>...</td>\n",
       "      <td>58.630867</td>\n",
       "      <td>0.0</td>\n",
       "      <td>0.0</td>\n",
       "      <td>0.0</td>\n",
       "      <td>64.276620</td>\n",
       "      <td>0.0</td>\n",
       "      <td>0.0</td>\n",
       "      <td>0.0</td>\n",
       "      <td>0.763763</td>\n",
       "      <td>456.207707</td>\n",
       "    </tr>\n",
       "    <tr>\n",
       "      <th>11449</th>\n",
       "      <td>40513642.0</td>\n",
       "      <td>2981.360</td>\n",
       "      <td>1.0</td>\n",
       "      <td>1.0</td>\n",
       "      <td>2.0</td>\n",
       "      <td>0.0</td>\n",
       "      <td>-1.0</td>\n",
       "      <td>0.0</td>\n",
       "      <td>0.0</td>\n",
       "      <td>112.933917</td>\n",
       "      <td>...</td>\n",
       "      <td>403.771049</td>\n",
       "      <td>0.0</td>\n",
       "      <td>0.0</td>\n",
       "      <td>0.0</td>\n",
       "      <td>320.833063</td>\n",
       "      <td>0.0</td>\n",
       "      <td>0.0</td>\n",
       "      <td>0.0</td>\n",
       "      <td>0.942809</td>\n",
       "      <td>1281.984800</td>\n",
       "    </tr>\n",
       "    <tr>\n",
       "      <th>24129</th>\n",
       "      <td>30704417.0</td>\n",
       "      <td>2086.952</td>\n",
       "      <td>1.0</td>\n",
       "      <td>0.0</td>\n",
       "      <td>0.0</td>\n",
       "      <td>0.0</td>\n",
       "      <td>0.0</td>\n",
       "      <td>2.0</td>\n",
       "      <td>2.0</td>\n",
       "      <td>2053.739650</td>\n",
       "      <td>...</td>\n",
       "      <td>356.034808</td>\n",
       "      <td>0.0</td>\n",
       "      <td>0.0</td>\n",
       "      <td>0.0</td>\n",
       "      <td>48.601556</td>\n",
       "      <td>0.0</td>\n",
       "      <td>1.0</td>\n",
       "      <td>0.0</td>\n",
       "      <td>0.894427</td>\n",
       "      <td>367.303552</td>\n",
       "    </tr>\n",
       "    <tr>\n",
       "      <th>9581</th>\n",
       "      <td>20387197.0</td>\n",
       "      <td>1490.680</td>\n",
       "      <td>0.0</td>\n",
       "      <td>1.0</td>\n",
       "      <td>2.0</td>\n",
       "      <td>2.0</td>\n",
       "      <td>0.0</td>\n",
       "      <td>0.0</td>\n",
       "      <td>0.0</td>\n",
       "      <td>1471.927246</td>\n",
       "      <td>...</td>\n",
       "      <td>317.215961</td>\n",
       "      <td>0.0</td>\n",
       "      <td>0.0</td>\n",
       "      <td>0.0</td>\n",
       "      <td>16.202076</td>\n",
       "      <td>0.0</td>\n",
       "      <td>0.0</td>\n",
       "      <td>0.0</td>\n",
       "      <td>0.897527</td>\n",
       "      <td>221.813184</td>\n",
       "    </tr>\n",
       "  </tbody>\n",
       "</table>\n",
       "<p>5 rows × 83 columns</p>\n",
       "</div>"
      ],
      "text/plain": [
       "         CUST_COD  LIMIT_BAL  SEX  PAY_DEC  PAY_NOV  PAY_OCT  PAY_SEP  \\\n",
       "5348   12193012.0    894.408  1.0      3.0      2.0      2.0     -1.0   \n",
       "9242   45295387.0   2385.088  1.0      1.0      2.0      0.0      0.0   \n",
       "11449  40513642.0   2981.360  1.0      1.0      2.0      0.0     -1.0   \n",
       "24129  30704417.0   2086.952  1.0      0.0      0.0      0.0      0.0   \n",
       "9581   20387197.0   1490.680  0.0      1.0      2.0      2.0      0.0   \n",
       "\n",
       "       PAY_AUG  PAY_JUL  BILL_AMT_DEC       ...        BILL_AMT_SIGMA  \\\n",
       "5348      -1.0     -1.0     49.490576       ...            144.340074   \n",
       "9242       0.0      0.0   2485.470391       ...             58.630867   \n",
       "11449      0.0      0.0    112.933917       ...            403.771049   \n",
       "24129      2.0      2.0   2053.739650       ...            356.034808   \n",
       "9581       0.0      0.0   1471.927246       ...            317.215961   \n",
       "\n",
       "       PAY_AMT_AR  PAY_AMT_I  PAY_AMT_MA  PAY_AMT_SIGMA  PAY_AR  PAY_I  \\\n",
       "5348          0.0        0.0         0.0     148.283859     0.0    1.0   \n",
       "9242          0.0        0.0         0.0      64.276620     0.0    0.0   \n",
       "11449         0.0        0.0         0.0     320.833063     0.0    0.0   \n",
       "24129         0.0        0.0         0.0      48.601556     0.0    1.0   \n",
       "9581          0.0        0.0         0.0      16.202076     0.0    0.0   \n",
       "\n",
       "       PAY_MA  PAY_SIGMA  TOTAL_AMT_PAID  \n",
       "5348      0.0   1.303841      620.480643  \n",
       "9242      0.0   0.763763      456.207707  \n",
       "11449     0.0   0.942809     1281.984800  \n",
       "24129     0.0   0.894427      367.303552  \n",
       "9581      0.0   0.897527      221.813184  \n",
       "\n",
       "[5 rows x 83 columns]"
      ]
     },
     "execution_count": 3,
     "metadata": {},
     "output_type": "execute_result"
    }
   ],
   "source": [
    "from sklearn.model_selection import train_test_split\n",
    "train, test = train_test_split(dataSet, test_size = 0.2)\n",
    "target = 'DEFAULT PAYMENT JAN'\n",
    "features = test.columns[test.columns!=target]\n",
    "train.head()"
   ]
  },
  {
   "cell_type": "code",
   "execution_count": 4,
   "metadata": {
    "collapsed": true
   },
   "outputs": [],
   "source": [
    "x = dataSet[features]\n",
    "y = dataSet[target]\n",
    "xTr = train[features]\n",
    "yTr = train[target]\n",
    "xTe = test[features]\n",
    "yTe = test[target]"
   ]
  },
  {
   "cell_type": "markdown",
   "metadata": {},
   "source": [
    "# XGBoost"
   ]
  },
  {
   "cell_type": "code",
   "execution_count": 5,
   "metadata": {
    "collapsed": false
   },
   "outputs": [
    {
     "name": "stderr",
     "output_type": "stream",
     "text": [
      "/Users/pietro/anaconda/envs/yourenvname/lib/python3.6/site-packages/xgboost-0.6-py3.6.egg/xgboost/sklearn.py:171: DeprecationWarning: The nthread parameter is deprecated as of version .6.Please use n_jobs instead.nthread is deprecated.\n",
      "  'nthread is deprecated.', DeprecationWarning)\n"
     ]
    },
    {
     "data": {
      "text/plain": [
       "XGBClassifier(base_score=0.3, booster='gbtree', colsample_bylevel=1,\n",
       "       colsample_bytree=1, gamma=0, learning_rate=0.1, max_delta_step=0,\n",
       "       max_depth=50, min_child_weight=1, missing=None, n_estimators=200,\n",
       "       n_jobs=4, nthread=4, objective='binary:logistic', random_state=0,\n",
       "       reg_alpha=0, reg_lambda=1, scale_pos_weight=1, seed=0, silent=True,\n",
       "       subsample=1)"
      ]
     },
     "execution_count": 5,
     "metadata": {},
     "output_type": "execute_result"
    }
   ],
   "source": [
    "# fit model no training data\n",
    "xg = XGBClassifier(base_score=0.3, booster='gbtree', colsample_bylevel=1,\n",
    "       colsample_bytree=1, gamma=0, learning_rate=0.1, max_delta_step=0,\n",
    "       max_depth=50, min_child_weight=1, missing=None, n_estimators=200,\n",
    "       n_jobs=4, nthread=4, objective='binary:logistic', random_state=0,\n",
    "       reg_alpha=0, reg_lambda=1, scale_pos_weight=1, seed=0, silent=True,\n",
    "       subsample=1)\n",
    "xg.fit(xTr, yTr)"
   ]
  },
  {
   "cell_type": "code",
   "execution_count": null,
   "metadata": {
    "collapsed": false
   },
   "outputs": [
    {
     "name": "stdout",
     "output_type": "stream",
     "text": [
      "Converting X in numpy array\n",
      "Converting y in numpy array\n",
      "Evaluating model with parameters: {}\n",
      "Training fold #1\t0.5309734513274336\n",
      "Training fold #2\t0.558648111332008\n",
      "Training fold #3\t0.5631629701060752\n",
      "Training fold #4\t0.5506391347099312\n",
      "Training fold #5\t0.5714285714285714\n",
      "Training fold #6"
     ]
    }
   ],
   "source": [
    "params = {\n",
    "}\n",
    "\n",
    "grid = utils.ThresholdGridCV(XGBClassifier, params)\n",
    "grid.fit(xTr, yTr)\n",
    "grid._scores"
   ]
  },
  {
   "cell_type": "code",
   "execution_count": 7,
   "metadata": {
    "collapsed": false
   },
   "outputs": [
    {
     "ename": "AttributeError",
     "evalue": "'ThresholdGridCV' object has no attribute '_threshold'",
     "output_type": "error",
     "traceback": [
      "\u001b[0;31m---------------------------------------------------------------------------\u001b[0m",
      "\u001b[0;31mAttributeError\u001b[0m                            Traceback (most recent call last)",
      "\u001b[0;32m<ipython-input-7-253e9756c07a>\u001b[0m in \u001b[0;36m<module>\u001b[0;34m()\u001b[0m\n\u001b[0;32m----> 1\u001b[0;31m \u001b[0mgrid\u001b[0m\u001b[0;34m.\u001b[0m\u001b[0m_threshold\u001b[0m\u001b[0;34m\u001b[0m\u001b[0m\n\u001b[0m",
      "\u001b[0;31mAttributeError\u001b[0m: 'ThresholdGridCV' object has no attribute '_threshold'"
     ]
    }
   ],
   "source": [
    "grid._threshold"
   ]
  },
  {
   "cell_type": "code",
   "execution_count": null,
   "metadata": {
    "collapsed": true
   },
   "outputs": [],
   "source": [
    "from sklearn.metrics import f1_score\n",
    "yPre=xg.predict(xTe)\n",
    "f1_score(yTe, yPre)"
   ]
  },
  {
   "cell_type": "code",
   "execution_count": null,
   "metadata": {
    "collapsed": false
   },
   "outputs": [],
   "source": [
    "from sklearn.ensemble import ExtraTreesClassifier\n",
    "model = ExtraTreesClassifier()\n",
    "model.fit(xTr, yTr)\n",
    "importances = model.feature_importances_\n",
    "indices = np.argsort(importances)[-40:]\n",
    "tra = train.ix[:,indices]\n",
    "xTr = train[features]\n",
    "yTr = train[target]\n",
    "tra.info()\n"
   ]
  },
  {
   "cell_type": "code",
   "execution_count": null,
   "metadata": {
    "collapsed": false
   },
   "outputs": [],
   "source": [
    "indices = np.argsort(importances)[-20:]\n",
    "tra = train.ix[:,indices]\n",
    "xTr = train[features]\n",
    "yTr = train[target]\n",
    "train.info()"
   ]
  },
  {
   "cell_type": "markdown",
   "metadata": {},
   "source": [
    "# Confusion matrix Accuracy f1"
   ]
  },
  {
   "cell_type": "code",
   "execution_count": null,
   "metadata": {
    "collapsed": true
   },
   "outputs": [],
   "source": []
  },
  {
   "cell_type": "code",
   "execution_count": null,
   "metadata": {
    "collapsed": true
   },
   "outputs": [],
   "source": [
    "from sklearn.metrics import confusion_matrix\n",
    "from sklearn.ensemble import AdaBoostClassifier\n",
    "ada2 = AdaBoostClassifier(n_estimators=500, random_state=0)\n",
    "ada2 = ada2.fit(xTr,yTr)\n",
    "yPre=ada2.predict(xTe)\n",
    "conf=confusion_matrix(yTe, yPre)"
   ]
  },
  {
   "cell_type": "code",
   "execution_count": null,
   "metadata": {
    "collapsed": false
   },
   "outputs": [],
   "source": [
    "from sklearn.metrics import f1_score\n",
    "f1_score(yTe, yPre)"
   ]
  },
  {
   "cell_type": "code",
   "execution_count": null,
   "metadata": {
    "collapsed": true
   },
   "outputs": [],
   "source": [
    "import utils\n",
    "utils.get_best_threshold(ada2,xTe,yTe)\n",
    "ada2.getparam()"
   ]
  },
  {
   "cell_type": "markdown",
   "metadata": {},
   "source": [
    "# Evaluation using crossvalidation"
   ]
  },
  {
   "cell_type": "code",
   "execution_count": null,
   "metadata": {
    "collapsed": true
   },
   "outputs": [],
   "source": [
    "dt_entropy = tree.DecisionTreeClassifier()"
   ]
  },
  {
   "cell_type": "code",
   "execution_count": null,
   "metadata": {
    "collapsed": true
   },
   "outputs": [],
   "source": [
    "dt_entropy = tree.DecisionTreeClassifier('entropy',max_depth=10)\n",
    "dt_entropy = dt_entropy.fit(x,y)\n",
    "xval_entropy = model_selection.cross_val_score(dt_entropy, x, y, cv=KFold(n_splits=10, shuffle=True, random_state=1234))\n",
    "print(\"Decision Tree (Entropy) Accuracy = %3.2f +/- %.4f\" %(np.average(xval_entropy),np.std(xval_entropy)))"
   ]
  },
  {
   "cell_type": "code",
   "execution_count": null,
   "metadata": {
    "collapsed": true
   },
   "outputs": [],
   "source": [
    "rf = RandomForestClassifier(n_estimators=100, max_depth=None, min_samples_split=2, random_state=0)\n",
    "rf = rf.fit(x,y)\n",
    "rf_eval = model_selection.cross_val_score(rf, x, y, cv=StratifiedKFold(n_splits=10,random_state=52725,shuffle=True))\n",
    "print(\"Random Forest\\t%4.3f\\t%4.3f\" % (np.average(rf_eval), np.std(rf_eval)))"
   ]
  },
  {
   "cell_type": "code",
   "execution_count": null,
   "metadata": {
    "collapsed": true
   },
   "outputs": [],
   "source": [
    "from sklearn.ensemble import AdaBoostClassifier\n",
    "ada = AdaBoostClassifier(n_estimators=100, random_state=0)\n",
    "ada = ada.fit(x,y)\n",
    "ada_eval = model_selection.cross_val_score(ada, x, y, cv=StratifiedKFold(n_splits=10,random_state=52725,shuffle=True))\n",
    "print(\"Ada\\t%4.3f\\t%4.3f\" % (np.average(rf_eval), np.std(rf_eval)))"
   ]
  },
  {
   "cell_type": "markdown",
   "metadata": {},
   "source": [
    "## "
   ]
  }
 ],
 "metadata": {
  "kernelspec": {
   "display_name": "Python 3",
   "language": "python",
   "name": "python3"
  },
  "language_info": {
   "codemirror_mode": {
    "name": "ipython",
    "version": 3
   },
   "file_extension": ".py",
   "mimetype": "text/x-python",
   "name": "python",
   "nbconvert_exporter": "python",
   "pygments_lexer": "ipython3",
   "version": "3.6.0"
  }
 },
 "nbformat": 4,
 "nbformat_minor": 2
}
