{
 "cells": [
  {
   "cell_type": "code",
   "execution_count": 1,
   "metadata": {
    "collapsed": false
   },
   "outputs": [],
   "source": [
    "\n",
    "from xgboost import XGBClassifier\n",
    "import sklearn\n",
    "import matplotlib.pyplot as plt\n",
    "import pandas as pd\n",
    "%matplotlib inline\n",
    "import pandas as pd\n",
    "import numpy as np\n",
    "import sklearn\n",
    "import utils\n",
    "from sklearn import linear_model\n",
    "from sklearn import model_selection\n",
    "from sklearn.model_selection import KFold\n",
    "from sklearn import preprocessing\n",
    "from sklearn import tree\n",
    "from sklearn import linear_model\n",
    "from sklearn import naive_bayes\n",
    "from sklearn import neighbors\n",
    "from sklearn.neighbors.nearest_centroid import NearestCentroid\n",
    "from sklearn import tree\n",
    "from sklearn.svm import SVR\n",
    "from sklearn.ensemble import RandomForestClassifier\n",
    "from sklearn.model_selection import StratifiedKFold\n",
    "from sklearn.tree import DecisionTreeClassifier\n",
    "from sklearn.metrics import roc_curve,roc_auc_score,precision_score,recall_score,auc\n",
    "from matplotlib import pyplot\n",
    "from sklearn.feature_selection import SelectKBest\n",
    "from sklearn.feature_selection import chi2\n",
    "from sklearn.feature_selection import RFE"
   ]
  },
  {
   "cell_type": "code",
   "execution_count": 2,
   "metadata": {
    "collapsed": false
   },
   "outputs": [
    {
     "name": "stdout",
     "output_type": "stream",
     "text": [
      "<class 'pandas.core.frame.DataFrame'>\n",
      "RangeIndex: 26884 entries, 0 to 26883\n",
      "Data columns (total 83 columns):\n",
      "CUST_COD                     26884 non-null float64\n",
      "LIMIT_BAL                    26884 non-null float64\n",
      "SEX                          26884 non-null float64\n",
      "PAY_DEC                      26884 non-null float64\n",
      "PAY_NOV                      26884 non-null float64\n",
      "PAY_OCT                      26884 non-null float64\n",
      "PAY_SEP                      26884 non-null float64\n",
      "PAY_AUG                      26884 non-null float64\n",
      "PAY_JUL                      26884 non-null float64\n",
      "BILL_AMT_DEC                 26884 non-null float64\n",
      "BILL_AMT_NOV                 26884 non-null float64\n",
      "BILL_AMT_OCT                 26884 non-null float64\n",
      "BILL_AMT_SEP                 26884 non-null float64\n",
      "BILL_AMT_AUG                 26884 non-null float64\n",
      "BILL_AMT_JUL                 26884 non-null float64\n",
      "PAY_AMT_DEC                  26884 non-null float64\n",
      "PAY_AMT_NOV                  26884 non-null float64\n",
      "PAY_AMT_OCT                  26884 non-null float64\n",
      "PAY_AMT_SEP                  26884 non-null float64\n",
      "PAY_AMT_AUG                  26884 non-null float64\n",
      "PAY_AMT_JUL                  26884 non-null float64\n",
      "DEFAULT PAYMENT JAN          26884 non-null float64\n",
      "SEX_MISSING                  26884 non-null float64\n",
      "EDUCATION_MISSING            26884 non-null float64\n",
      "EDUCATION_graduate school    26884 non-null float64\n",
      "EDUCATION_high school        26884 non-null float64\n",
      "EDUCATION_other              26884 non-null float64\n",
      "EDUCATION_university         26884 non-null float64\n",
      "MARRIAGE_MISSING             26884 non-null float64\n",
      "MARRIAGE_married             26884 non-null float64\n",
      "MARRIAGE_other               26884 non-null float64\n",
      "MARRIAGE_single              26884 non-null float64\n",
      "AGE_MISSING                  26884 non-null float64\n",
      "AGE                          26884 non-null float64\n",
      "LIMIT-MEAN_BILL              26884 non-null float64\n",
      "AVG_PAY_LAST_2               26884 non-null float64\n",
      "AVG_PAY_LAST_3               26884 non-null float64\n",
      "AVG_PAY_LAST_4               26884 non-null float64\n",
      "AVG_PAY_LAST_5               26884 non-null float64\n",
      "AVG_PAY_LAST_6               26884 non-null float64\n",
      "PAY_TREND                    26884 non-null float64\n",
      "PAY_SKEW                     26884 non-null float64\n",
      "PAY_KURT                     26884 non-null float64\n",
      "AVG_BILL_AMT_LAST_2          26884 non-null float64\n",
      "AVG_BILL_AMT_LAST_3          26884 non-null float64\n",
      "AVG_BILL_AMT_LAST_4          26884 non-null float64\n",
      "AVG_BILL_AMT_LAST_5          26884 non-null float64\n",
      "AVG_BILL_AMT_LAST_6          26884 non-null float64\n",
      "BILL_AMT_TREND               26884 non-null float64\n",
      "BILL_AMT_SKEW                26884 non-null float64\n",
      "BILL_AMT_KURT                26884 non-null float64\n",
      "AVG_PAY_AMT_LAST_2           26884 non-null float64\n",
      "AVG_PAY_AMT_LAST_3           26884 non-null float64\n",
      "AVG_PAY_AMT_LAST_4           26884 non-null float64\n",
      "AVG_PAY_AMT_LAST_5           26884 non-null float64\n",
      "AVG_PAY_AMT_LAST_6           26884 non-null float64\n",
      "PAY_AMT_TREND                26884 non-null float64\n",
      "PAY_AMT_SKEW                 26884 non-null float64\n",
      "PAY_AMT_KURT                 26884 non-null float64\n",
      "DELTA_1                      26884 non-null float64\n",
      "DELTA_2                      26884 non-null float64\n",
      "DELTA_3                      26884 non-null float64\n",
      "DELTA_4                      26884 non-null float64\n",
      "DELTA_5                      26884 non-null float64\n",
      "PROD                         26884 non-null float64\n",
      "FRAC_PAY_1                   26884 non-null float64\n",
      "FRAC_PAY_2                   26884 non-null float64\n",
      "FRAC_PAY_3                   26884 non-null float64\n",
      "FRAC_PAY_4                   26884 non-null float64\n",
      "FRAC_PAY_5                   26884 non-null float64\n",
      "BILL_AMT_AR                  26884 non-null float64\n",
      "BILL_AMT_I                   26884 non-null float64\n",
      "BILL_AMT_MA                  26884 non-null float64\n",
      "BILL_AMT_SIGMA               26884 non-null float64\n",
      "PAY_AMT_AR                   26884 non-null float64\n",
      "PAY_AMT_I                    26884 non-null float64\n",
      "PAY_AMT_MA                   26884 non-null float64\n",
      "PAY_AMT_SIGMA                26884 non-null float64\n",
      "PAY_AR                       26884 non-null float64\n",
      "PAY_I                        26884 non-null float64\n",
      "PAY_MA                       26884 non-null float64\n",
      "PAY_SIGMA                    26884 non-null float64\n",
      "TOTAL_AMT_PAID               26884 non-null float64\n",
      "dtypes: float64(83)\n",
      "memory usage: 17.0 MB\n"
     ]
    }
   ],
   "source": [
    "dataSet = pd.read_csv('data/train_all_features.csv')\n",
    "dataSet.info()"
   ]
  },
  {
   "cell_type": "code",
   "execution_count": 3,
   "metadata": {
    "collapsed": false
   },
   "outputs": [
    {
     "data": {
      "text/html": [
       "<div>\n",
       "<table border=\"1\" class=\"dataframe\">\n",
       "  <thead>\n",
       "    <tr style=\"text-align: right;\">\n",
       "      <th></th>\n",
       "      <th>CUST_COD</th>\n",
       "      <th>LIMIT_BAL</th>\n",
       "      <th>SEX</th>\n",
       "      <th>PAY_DEC</th>\n",
       "      <th>PAY_NOV</th>\n",
       "      <th>PAY_OCT</th>\n",
       "      <th>PAY_SEP</th>\n",
       "      <th>PAY_AUG</th>\n",
       "      <th>PAY_JUL</th>\n",
       "      <th>BILL_AMT_DEC</th>\n",
       "      <th>...</th>\n",
       "      <th>BILL_AMT_SIGMA</th>\n",
       "      <th>PAY_AMT_AR</th>\n",
       "      <th>PAY_AMT_I</th>\n",
       "      <th>PAY_AMT_MA</th>\n",
       "      <th>PAY_AMT_SIGMA</th>\n",
       "      <th>PAY_AR</th>\n",
       "      <th>PAY_I</th>\n",
       "      <th>PAY_MA</th>\n",
       "      <th>PAY_SIGMA</th>\n",
       "      <th>TOTAL_AMT_PAID</th>\n",
       "    </tr>\n",
       "  </thead>\n",
       "  <tbody>\n",
       "    <tr>\n",
       "      <th>16143</th>\n",
       "      <td>37558967.0</td>\n",
       "      <td>7155.264</td>\n",
       "      <td>0.0</td>\n",
       "      <td>0.0</td>\n",
       "      <td>0.0</td>\n",
       "      <td>0.0</td>\n",
       "      <td>0.0</td>\n",
       "      <td>0.0</td>\n",
       "      <td>0.0</td>\n",
       "      <td>6700.189210</td>\n",
       "      <td>...</td>\n",
       "      <td>927.520160</td>\n",
       "      <td>0.0</td>\n",
       "      <td>2.0</td>\n",
       "      <td>0.0</td>\n",
       "      <td>20.680175</td>\n",
       "      <td>0.0</td>\n",
       "      <td>0.0</td>\n",
       "      <td>0.0</td>\n",
       "      <td>0.000000</td>\n",
       "      <td>1210.134024</td>\n",
       "    </tr>\n",
       "    <tr>\n",
       "      <th>26206</th>\n",
       "      <td>11963277.0</td>\n",
       "      <td>5068.312</td>\n",
       "      <td>1.0</td>\n",
       "      <td>1.0</td>\n",
       "      <td>-2.0</td>\n",
       "      <td>-1.0</td>\n",
       "      <td>-1.0</td>\n",
       "      <td>-2.0</td>\n",
       "      <td>-2.0</td>\n",
       "      <td>0.000000</td>\n",
       "      <td>...</td>\n",
       "      <td>6.110980</td>\n",
       "      <td>0.0</td>\n",
       "      <td>0.0</td>\n",
       "      <td>0.0</td>\n",
       "      <td>6.110980</td>\n",
       "      <td>0.0</td>\n",
       "      <td>0.0</td>\n",
       "      <td>0.0</td>\n",
       "      <td>1.067187</td>\n",
       "      <td>16.397480</td>\n",
       "    </tr>\n",
       "    <tr>\n",
       "      <th>20755</th>\n",
       "      <td>42811530.0</td>\n",
       "      <td>8645.944</td>\n",
       "      <td>0.0</td>\n",
       "      <td>0.0</td>\n",
       "      <td>0.0</td>\n",
       "      <td>0.0</td>\n",
       "      <td>0.0</td>\n",
       "      <td>0.0</td>\n",
       "      <td>0.0</td>\n",
       "      <td>5860.340098</td>\n",
       "      <td>...</td>\n",
       "      <td>341.327090</td>\n",
       "      <td>0.0</td>\n",
       "      <td>0.0</td>\n",
       "      <td>0.0</td>\n",
       "      <td>41.670080</td>\n",
       "      <td>0.0</td>\n",
       "      <td>0.0</td>\n",
       "      <td>0.0</td>\n",
       "      <td>0.000000</td>\n",
       "      <td>1050.899586</td>\n",
       "    </tr>\n",
       "    <tr>\n",
       "      <th>8686</th>\n",
       "      <td>50996822.0</td>\n",
       "      <td>1490.680</td>\n",
       "      <td>0.0</td>\n",
       "      <td>4.0</td>\n",
       "      <td>3.0</td>\n",
       "      <td>2.0</td>\n",
       "      <td>0.0</td>\n",
       "      <td>0.0</td>\n",
       "      <td>0.0</td>\n",
       "      <td>1503.171898</td>\n",
       "      <td>...</td>\n",
       "      <td>20.558704</td>\n",
       "      <td>0.0</td>\n",
       "      <td>0.0</td>\n",
       "      <td>0.0</td>\n",
       "      <td>24.342702</td>\n",
       "      <td>0.0</td>\n",
       "      <td>1.0</td>\n",
       "      <td>0.0</td>\n",
       "      <td>0.836661</td>\n",
       "      <td>178.881600</td>\n",
       "    </tr>\n",
       "    <tr>\n",
       "      <th>25603</th>\n",
       "      <td>26151434.0</td>\n",
       "      <td>1490.680</td>\n",
       "      <td>0.0</td>\n",
       "      <td>0.0</td>\n",
       "      <td>0.0</td>\n",
       "      <td>0.0</td>\n",
       "      <td>0.0</td>\n",
       "      <td>0.0</td>\n",
       "      <td>0.0</td>\n",
       "      <td>905.111082</td>\n",
       "      <td>...</td>\n",
       "      <td>174.686661</td>\n",
       "      <td>0.0</td>\n",
       "      <td>0.0</td>\n",
       "      <td>0.0</td>\n",
       "      <td>17.355738</td>\n",
       "      <td>0.0</td>\n",
       "      <td>0.0</td>\n",
       "      <td>0.0</td>\n",
       "      <td>0.000000</td>\n",
       "      <td>363.725920</td>\n",
       "    </tr>\n",
       "  </tbody>\n",
       "</table>\n",
       "<p>5 rows × 83 columns</p>\n",
       "</div>"
      ],
      "text/plain": [
       "         CUST_COD  LIMIT_BAL  SEX  PAY_DEC  PAY_NOV  PAY_OCT  PAY_SEP  \\\n",
       "16143  37558967.0   7155.264  0.0      0.0      0.0      0.0      0.0   \n",
       "26206  11963277.0   5068.312  1.0      1.0     -2.0     -1.0     -1.0   \n",
       "20755  42811530.0   8645.944  0.0      0.0      0.0      0.0      0.0   \n",
       "8686   50996822.0   1490.680  0.0      4.0      3.0      2.0      0.0   \n",
       "25603  26151434.0   1490.680  0.0      0.0      0.0      0.0      0.0   \n",
       "\n",
       "       PAY_AUG  PAY_JUL  BILL_AMT_DEC       ...        BILL_AMT_SIGMA  \\\n",
       "16143      0.0      0.0   6700.189210       ...            927.520160   \n",
       "26206     -2.0     -2.0      0.000000       ...              6.110980   \n",
       "20755      0.0      0.0   5860.340098       ...            341.327090   \n",
       "8686       0.0      0.0   1503.171898       ...             20.558704   \n",
       "25603      0.0      0.0    905.111082       ...            174.686661   \n",
       "\n",
       "       PAY_AMT_AR  PAY_AMT_I  PAY_AMT_MA  PAY_AMT_SIGMA  PAY_AR  PAY_I  \\\n",
       "16143         0.0        2.0         0.0      20.680175     0.0    0.0   \n",
       "26206         0.0        0.0         0.0       6.110980     0.0    0.0   \n",
       "20755         0.0        0.0         0.0      41.670080     0.0    0.0   \n",
       "8686          0.0        0.0         0.0      24.342702     0.0    1.0   \n",
       "25603         0.0        0.0         0.0      17.355738     0.0    0.0   \n",
       "\n",
       "       PAY_MA  PAY_SIGMA  TOTAL_AMT_PAID  \n",
       "16143     0.0   0.000000     1210.134024  \n",
       "26206     0.0   1.067187       16.397480  \n",
       "20755     0.0   0.000000     1050.899586  \n",
       "8686      0.0   0.836661      178.881600  \n",
       "25603     0.0   0.000000      363.725920  \n",
       "\n",
       "[5 rows x 83 columns]"
      ]
     },
     "execution_count": 3,
     "metadata": {},
     "output_type": "execute_result"
    }
   ],
   "source": [
    "from sklearn.model_selection import train_test_split\n",
    "train, test = train_test_split(dataSet, test_size = 0.2)\n",
    "target = 'DEFAULT PAYMENT JAN'\n",
    "features = test.columns[test.columns!=target]\n",
    "train.head()"
   ]
  },
  {
   "cell_type": "code",
   "execution_count": 4,
   "metadata": {
    "collapsed": true
   },
   "outputs": [],
   "source": [
    "xTr = train[features]\n",
    "yTr = train[target]\n",
    "xTe = test[features]\n",
    "yTe = test[target]"
   ]
  },
  {
   "cell_type": "code",
   "execution_count": null,
   "metadata": {
    "collapsed": false
   },
   "outputs": [
    {
     "name": "stdout",
     "output_type": "stream",
     "text": [
      "Converting X in numpy array\n",
      "Converting y in numpy array\n",
      "Created test holdout. % positive class in test holdout = 0.22198977219897723\n",
      "\n",
      "\n",
      "========== Starting grid search for <class 'xgboost.sklearn.XGBClassifier'> ==========\n",
      "Evaluating model with parameters: {'base_score': 0.3, 'max_depth': 3, 'n_estimators': 80, 'n_jobs': -1, 'seed': 2323}\n",
      "Training fold #1\t0.524547803617571\n",
      "Training fold #2\t0.55980271270037\n",
      "Training fold #3\t0.5501770956316411\n",
      "Training fold #4\t0.5862944162436549\n",
      "Training fold #5\t0.539240506329114\n",
      "Training fold #6\t0.5583634175691936\n",
      "Training fold #7\t0.543640897755611\n",
      "Training fold #8\t0.5499383477188655\n",
      "Training fold #9\t0.5489199491740787\n",
      "Training fold #10\t0.5545023696682464\n",
      "Average score: 0.5515427516408347     Average threshold: 0.27482643723487854\n",
      "Evaluating model with parameters: {'base_score': 0.3, 'max_depth': 3, 'n_estimators': 85, 'n_jobs': -1, 'seed': 2323}\n",
      "Training fold #1\t0.53125\n",
      "Training fold #2\t0.5590062111801243\n",
      "Training fold #3\t0.5380249716231555\n",
      "Training fold #4\t0.5848101265822784\n",
      "Training fold #5\t0.5383647798742139\n",
      "Training fold #6\t0.5641618497109827\n",
      "Training fold #7\t0.5477075588599754\n",
      "Training fold #8\t0.5528255528255529\n",
      "Training fold #9\t0.55198973042362\n",
      "Training fold #10\t0.5520581113801453\n",
      "Average score: 0.5520198892460048     Average threshold: 0.2703312337398529\n",
      "Evaluating model with parameters: {'base_score': 0.3, 'max_depth': 3, 'n_estimators': 90, 'n_jobs': -1, 'seed': 2323}\n",
      "Training fold #1\t0.5338345864661654\n",
      "Training fold #2\t0.5621079046424091\n",
      "Training fold #3\t0.5425287356321837\n",
      "Training fold #4\t0.5873417721518988\n",
      "Training fold #5\t0.5383647798742139\n",
      "Training fold #6\t0.5611175785797439\n",
      "Training fold #7\t0.5424588086185045\n",
      "Training fold #8\t0.5548705302096179\n",
      "Training fold #9\t0.5515527950310558\n",
      "Training fold #10\t0.5524728588661038\n",
      "Average score: 0.5526650350071896     Average threshold: 0.2725273668766022\n",
      "Evaluating model with parameters: {'base_score': 0.3, 'max_depth': 4, 'n_estimators': 80, 'n_jobs': -1, 'seed': 2323}\n",
      "Training fold #1\t0.5199485199485199\n",
      "Training fold #2\t0.5572609208972845\n",
      "Training fold #3\t0.5338345864661654\n",
      "Training fold #4\t0.5873015873015873\n",
      "Training fold #5\t0.5356200527704486\n",
      "Training fold #6\t0.5447852760736196\n",
      "Training fold #7\t0.5359801488833748\n",
      "Training fold #8\t0.5526641883519207\n",
      "Training fold #9"
     ]
    }
   ],
   "source": [
    "from monster import Kraken\n",
    "\n",
    "RANDOM_SEED = 2323\n",
    "\n",
    "params_xgb = {\n",
    "\t'base_score' : [0.3,0.2,0.4],\n",
    "\t'max_depth' : [3,2],\n",
    "\t'n_estimators' : [80,85,90,95],\n",
    "\t'seed' : [RANDOM_SEED],\n",
    "    'n_jobs': [-1],\n",
    "}\n",
    "\n",
    "\n",
    "\n",
    "\n",
    "models = [XGBClassifier]\n",
    "params = [params_xgb]\n",
    "\n",
    "krk = Kraken(models, params, random_state = RANDOM_SEED)\n",
    "krk.fit(xTr, yTr)"
   ]
  },
  {
   "cell_type": "markdown",
   "metadata": {},
   "source": [
    "# XGBoost"
   ]
  },
  {
   "cell_type": "markdown",
   "metadata": {},
   "source": [
    "#      \"text/plain\": [\n",
    "       \"XGBClassifier(base_score=0.3, booster='gbtree', colsample_bylevel=1,\\n\",\n",
    "       \"       colsample_bytree=1, gamma=0, learning_rate=0.1, max_delta_step=0,\\n\",\n",
    "       \"       max_depth=50, min_child_weight=1, missing=None, n_estimators=200,\\n\",\n",
    "       \"       n_jobs=4, nthread=4, objective='binary:logistic', random_state=0,\\n\",\n",
    "       \"       reg_alpha=0, reg_lambda=1, scale_pos_weight=1, seed=0, silent=True,\\n\",\n",
    "       \"       subsample=1)\"\n"
   ]
  },
  {
   "cell_type": "code",
   "execution_count": null,
   "metadata": {
    "collapsed": false
   },
   "outputs": [],
   "source": [
    "params = {\n",
    "}\n",
    "\n",
    "grid = utils.ThresholdGridCV(XGBClassifier, params)\n",
    "grid.fit(xTr, yTr)\n",
    "grid._scores"
   ]
  },
  {
   "cell_type": "markdown",
   "metadata": {
    "collapsed": false
   },
   "source": [
    "# grid._threshold"
   ]
  },
  {
   "cell_type": "code",
   "execution_count": null,
   "metadata": {
    "collapsed": true
   },
   "outputs": [],
   "source": [
    "from sklearn.metrics import f1_score\n",
    "yPre=xg.predict(xTe)\n",
    "f1_score(yTe, yPre)"
   ]
  },
  {
   "cell_type": "code",
   "execution_count": null,
   "metadata": {
    "collapsed": false
   },
   "outputs": [],
   "source": [
    "from sklearn.ensemble import ExtraTreesClassifier\n",
    "model = ExtraTreesClassifier()\n",
    "model.fit(xTr, yTr)\n",
    "importances = model.feature_importances_\n",
    "indices = np.argsort(importances)[-40:]\n",
    "tra = train.ix[:,indices]\n",
    "xTr = train[features]\n",
    "yTr = train[target]\n",
    "tra.info()\n"
   ]
  },
  {
   "cell_type": "code",
   "execution_count": null,
   "metadata": {
    "collapsed": false
   },
   "outputs": [],
   "source": [
    "indices = np.argsort(importances)[-20:]\n",
    "tra = train.ix[:,indices]\n",
    "xTr = train[features]\n",
    "yTr = train[target]\n",
    "train.info()"
   ]
  },
  {
   "cell_type": "markdown",
   "metadata": {},
   "source": [
    "# Confusion matrix Accuracy f1"
   ]
  },
  {
   "cell_type": "code",
   "execution_count": null,
   "metadata": {
    "collapsed": true
   },
   "outputs": [],
   "source": []
  },
  {
   "cell_type": "code",
   "execution_count": null,
   "metadata": {
    "collapsed": true
   },
   "outputs": [],
   "source": [
    "from sklearn.metrics import confusion_matrix\n",
    "from sklearn.ensemble import AdaBoostClassifier\n",
    "ada2 = AdaBoostClassifier(n_estimators=500, random_state=0)\n",
    "ada2 = ada2.fit(xTr,yTr)\n",
    "yPre=ada2.predict(xTe)\n",
    "conf=confusion_matrix(yTe, yPre)"
   ]
  },
  {
   "cell_type": "code",
   "execution_count": null,
   "metadata": {
    "collapsed": false
   },
   "outputs": [],
   "source": [
    "from sklearn.metrics import f1_score\n",
    "f1_score(yTe, yPre)"
   ]
  },
  {
   "cell_type": "code",
   "execution_count": null,
   "metadata": {
    "collapsed": true
   },
   "outputs": [],
   "source": [
    "import utils\n",
    "utils.get_best_threshold(ada2,xTe,yTe)\n",
    "ada2.getparam()"
   ]
  },
  {
   "cell_type": "markdown",
   "metadata": {},
   "source": [
    "# Evaluation using crossvalidation"
   ]
  },
  {
   "cell_type": "code",
   "execution_count": null,
   "metadata": {
    "collapsed": true
   },
   "outputs": [],
   "source": [
    "dt_entropy = tree.DecisionTreeClassifier()"
   ]
  },
  {
   "cell_type": "code",
   "execution_count": null,
   "metadata": {
    "collapsed": true
   },
   "outputs": [],
   "source": [
    "dt_entropy = tree.DecisionTreeClassifier('entropy',max_depth=10)\n",
    "dt_entropy = dt_entropy.fit(x,y)\n",
    "xval_entropy = model_selection.cross_val_score(dt_entropy, x, y, cv=KFold(n_splits=10, shuffle=True, random_state=1234))\n",
    "print(\"Decision Tree (Entropy) Accuracy = %3.2f +/- %.4f\" %(np.average(xval_entropy),np.std(xval_entropy)))"
   ]
  },
  {
   "cell_type": "code",
   "execution_count": null,
   "metadata": {
    "collapsed": true
   },
   "outputs": [],
   "source": [
    "rf = RandomForestClassifier(n_estimators=100, max_depth=None, min_samples_split=2, random_state=0)\n",
    "rf = rf.fit(x,y)\n",
    "rf_eval = model_selection.cross_val_score(rf, x, y, cv=StratifiedKFold(n_splits=10,random_state=52725,shuffle=True))\n",
    "print(\"Random Forest\\t%4.3f\\t%4.3f\" % (np.average(rf_eval), np.std(rf_eval)))"
   ]
  },
  {
   "cell_type": "code",
   "execution_count": null,
   "metadata": {
    "collapsed": true
   },
   "outputs": [],
   "source": [
    "from sklearn.ensemble import AdaBoostClassifier\n",
    "ada = AdaBoostClassifier(n_estimators=100, random_state=0)\n",
    "ada = ada.fit(x,y)\n",
    "ada_eval = model_selection.cross_val_score(ada, x, y, cv=StratifiedKFold(n_splits=10,random_state=52725,shuffle=True))\n",
    "print(\"Ada\\t%4.3f\\t%4.3f\" % (np.average(rf_eval), np.std(rf_eval)))"
   ]
  },
  {
   "cell_type": "markdown",
   "metadata": {},
   "source": [
    "## "
   ]
  }
 ],
 "metadata": {
  "kernelspec": {
   "display_name": "Python 3",
   "language": "python",
   "name": "python3"
  },
  "language_info": {
   "codemirror_mode": {
    "name": "ipython",
    "version": 3
   },
   "file_extension": ".py",
   "mimetype": "text/x-python",
   "name": "python",
   "nbconvert_exporter": "python",
   "pygments_lexer": "ipython3",
   "version": "3.6.0"
  }
 },
 "nbformat": 4,
 "nbformat_minor": 2
}
