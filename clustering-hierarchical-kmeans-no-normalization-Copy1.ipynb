{
 "cells": [
  {
   "cell_type": "code",
   "execution_count": 24,
   "metadata": {
    "collapsed": false,
    "deletable": true,
    "editable": true
   },
   "outputs": [
    {
     "name": "stdout",
     "output_type": "stream",
     "text": [
      "Populating the interactive namespace from numpy and matplotlib\n"
     ]
    }
   ],
   "source": [
    "import matplotlib.pyplot as plt\n",
    "import seaborn as sns\n",
    "%matplotlib inline\n",
    "\n",
    "import pandas as pd\n",
    "import numpy as np\n",
    "\n",
    "#from sklearn.tree import DecisionTreeClassifier\n",
    "#from sklearn.ensemble import RandomForestClassifier\n",
    "#from sklearn.metrics import accuracy_score\n",
    "\n",
    "# we are using the scipy implementation\n",
    "from scipy.spatial.distance import cdist, pdist\n",
    "from scipy.cluster.hierarchy import dendrogram, linkage, fcluster\n",
    "\n",
    "from sklearn.cluster import KMeans\n",
    "\n",
    "%pylab inline\n",
    "\n",
    "import scipy.spatial.distance as spd\n",
    "import scipy.cluster.hierarchy as sch\n",
    "\n",
    "from sklearn import preprocessing"
   ]
  },
  {
   "cell_type": "code",
   "execution_count": 25,
   "metadata": {
    "collapsed": true,
    "deletable": true,
    "editable": true
   },
   "outputs": [],
   "source": [
    "def normalize(df):\n",
    "    result = df.copy()\n",
    "    for feature_name in df.columns:\n",
    "        max_value = df[feature_name].max()\n",
    "        min_value = df[feature_name].min()\n",
    "        result[feature_name] = (df[feature_name] - min_value) / (max_value - min_value)\n",
    "    return result"
   ]
  },
  {
   "cell_type": "markdown",
   "metadata": {
    "deletable": true,
    "editable": true
   },
   "source": [
    "# The purpose of this notebook is to add as many features as we can imagine and see which ones are the most relevant"
   ]
  },
  {
   "cell_type": "code",
   "execution_count": 26,
   "metadata": {
    "collapsed": true,
    "deletable": true,
    "editable": true
   },
   "outputs": [],
   "source": [
    "train = pd.read_csv('data/train_clean.csv')"
   ]
  },
  {
   "cell_type": "markdown",
   "metadata": {
    "deletable": true,
    "editable": true
   },
   "source": [
    "## Transform attributes in numeric values"
   ]
  },
  {
   "cell_type": "code",
   "execution_count": 27,
   "metadata": {
    "collapsed": false,
    "deletable": true,
    "editable": true
   },
   "outputs": [
    {
     "data": {
      "text/plain": [
       "Index([u'CUST_COD', u'LIMIT_BAL', u'SEX', u'EDUCATION', u'MARRIAGE',\n",
       "       u'BIRTH_DATE', u'PAY_DEC', u'PAY_NOV', u'PAY_OCT', u'PAY_SEP',\n",
       "       u'PAY_AUG', u'PAY_JUL', u'BILL_AMT_DEC', u'BILL_AMT_NOV',\n",
       "       u'BILL_AMT_OCT', u'BILL_AMT_SEP', u'BILL_AMT_AUG', u'BILL_AMT_JUL',\n",
       "       u'PAY_AMT_DEC', u'PAY_AMT_NOV', u'PAY_AMT_OCT', u'PAY_AMT_SEP',\n",
       "       u'PAY_AMT_AUG', u'PAY_AMT_JUL', u'DEFAULT PAYMENT JAN'],\n",
       "      dtype='object')"
      ]
     },
     "execution_count": 27,
     "metadata": {},
     "output_type": "execute_result"
    }
   ],
   "source": [
    "train.columns"
   ]
  },
  {
   "cell_type": "markdown",
   "metadata": {
    "deletable": true,
    "editable": true
   },
   "source": [
    "### Drop CUST_COD\n",
    "\n",
    "We won't use it, at the moment"
   ]
  },
  {
   "cell_type": "code",
   "execution_count": 28,
   "metadata": {
    "collapsed": true,
    "deletable": true,
    "editable": true
   },
   "outputs": [],
   "source": [
    "train = train.drop(['CUST_COD'], axis=1)"
   ]
  },
  {
   "cell_type": "markdown",
   "metadata": {
    "deletable": true,
    "editable": true
   },
   "source": [
    "## Transform SEX"
   ]
  },
  {
   "cell_type": "code",
   "execution_count": 29,
   "metadata": {
    "collapsed": true,
    "deletable": true,
    "editable": true
   },
   "outputs": [],
   "source": [
    "train['SEX_MISSING'] = train['SEX'].isnull()*1      # Add a column to say if sex was missing or not\n",
    "train.loc[train['SEX'].isnull(), 'SEX'] = 'F' # Predict sex with majority class\n",
    "train['SEX'] = train['SEX'].apply(lambda x : 0 if x == 'M' else 1)   # Convert to M -> 0, F -> 1"
   ]
  },
  {
   "cell_type": "markdown",
   "metadata": {
    "deletable": true,
    "editable": true
   },
   "source": [
    "## Transform EDUCATION"
   ]
  },
  {
   "cell_type": "code",
   "execution_count": 30,
   "metadata": {
    "collapsed": true,
    "deletable": true,
    "editable": true
   },
   "outputs": [],
   "source": [
    "train['EDUCATION_MISSING'] = train['EDUCATION'].isnull() * 1 # Add a column to say if education was missing or not\n",
    "train['EDUCATION'] = train['EDUCATION'].fillna('other')    # Predict missing values as other\n",
    "\n",
    "train = pd.get_dummies(train, columns=['EDUCATION'])   # Get one hot vector for education"
   ]
  },
  {
   "cell_type": "markdown",
   "metadata": {
    "deletable": true,
    "editable": true
   },
   "source": [
    "## Trasform MARRIAGE"
   ]
  },
  {
   "cell_type": "code",
   "execution_count": 31,
   "metadata": {
    "collapsed": true,
    "deletable": true,
    "editable": true
   },
   "outputs": [],
   "source": [
    "train['MARRIAGE_MISSING'] = train['MARRIAGE'].isnull() * 1 # Add a column to say if education was missing or not\n",
    "train['MARRIAGE'] = train['MARRIAGE'].fillna('other')    # Predict missing values as other\n",
    "train = pd.get_dummies(train, columns=['MARRIAGE'])   # Get one hot vector for education"
   ]
  },
  {
   "cell_type": "markdown",
   "metadata": {
    "deletable": true,
    "editable": true
   },
   "source": [
    "## Transform BIRTH_DATE"
   ]
  },
  {
   "cell_type": "code",
   "execution_count": 32,
   "metadata": {
    "collapsed": true,
    "deletable": true,
    "editable": true
   },
   "outputs": [],
   "source": [
    "train['AGE_MISSING'] = train['BIRTH_DATE'].isnull() * 1"
   ]
  },
  {
   "cell_type": "code",
   "execution_count": 33,
   "metadata": {
    "collapsed": true,
    "deletable": true,
    "editable": true
   },
   "outputs": [],
   "source": [
    "import datetime\n",
    "\n",
    "birthdates = train['BIRTH_DATE']\n",
    "\n",
    "def get_age(date):\n",
    "    try:\n",
    "        return (datetime.datetime.today() - datetime.datetime.strptime(date, '%d/%m/%Y')).days//365\n",
    "    except Exception as e:\n",
    "        return date\n",
    "\n",
    "birthdates = birthdates.apply(get_age)"
   ]
  },
  {
   "cell_type": "code",
   "execution_count": 34,
   "metadata": {
    "collapsed": false,
    "deletable": true,
    "editable": true
   },
   "outputs": [
    {
     "data": {
      "text/plain": [
       "count    26182.000000\n",
       "mean        36.488160\n",
       "std          9.201312\n",
       "min         22.000000\n",
       "25%         29.000000\n",
       "50%         35.000000\n",
       "75%         42.000000\n",
       "max         76.000000\n",
       "Name: BIRTH_DATE, dtype: float64"
      ]
     },
     "execution_count": 34,
     "metadata": {},
     "output_type": "execute_result"
    }
   ],
   "source": [
    "birthdates.describe()"
   ]
  },
  {
   "cell_type": "code",
   "execution_count": 35,
   "metadata": {
    "collapsed": true,
    "deletable": true,
    "editable": true
   },
   "outputs": [],
   "source": [
    "# Fill NA with mean value\n",
    "birthdates = birthdates.fillna(36)"
   ]
  },
  {
   "cell_type": "code",
   "execution_count": 36,
   "metadata": {
    "collapsed": true,
    "deletable": true,
    "editable": true
   },
   "outputs": [],
   "source": [
    "train['AGE'] = birthdates\n",
    "train = train.drop(['BIRTH_DATE'], axis=1)"
   ]
  },
  {
   "cell_type": "markdown",
   "metadata": {
    "deletable": true,
    "editable": true
   },
   "source": [
    "## Transform all columns in float"
   ]
  },
  {
   "cell_type": "code",
   "execution_count": 37,
   "metadata": {
    "collapsed": false,
    "deletable": true,
    "editable": true
   },
   "outputs": [
    {
     "name": "stdout",
     "output_type": "stream",
     "text": [
      "<class 'pandas.core.frame.DataFrame'>\n",
      "RangeIndex: 26884 entries, 0 to 26883\n",
      "Data columns (total 33 columns):\n",
      "LIMIT_BAL                    26884 non-null float64\n",
      "SEX                          26884 non-null int64\n",
      "PAY_DEC                      26884 non-null int64\n",
      "PAY_NOV                      26884 non-null int64\n",
      "PAY_OCT                      26884 non-null int64\n",
      "PAY_SEP                      26884 non-null int64\n",
      "PAY_AUG                      26884 non-null int64\n",
      "PAY_JUL                      26884 non-null int64\n",
      "BILL_AMT_DEC                 26884 non-null float64\n",
      "BILL_AMT_NOV                 26884 non-null float64\n",
      "BILL_AMT_OCT                 26884 non-null float64\n",
      "BILL_AMT_SEP                 26884 non-null float64\n",
      "BILL_AMT_AUG                 26884 non-null float64\n",
      "BILL_AMT_JUL                 26884 non-null float64\n",
      "PAY_AMT_DEC                  26884 non-null float64\n",
      "PAY_AMT_NOV                  26884 non-null float64\n",
      "PAY_AMT_OCT                  26884 non-null float64\n",
      "PAY_AMT_SEP                  26884 non-null float64\n",
      "PAY_AMT_AUG                  26884 non-null float64\n",
      "PAY_AMT_JUL                  26884 non-null float64\n",
      "DEFAULT PAYMENT JAN          26884 non-null int64\n",
      "SEX_MISSING                  26884 non-null int64\n",
      "EDUCATION_MISSING            26884 non-null int64\n",
      "EDUCATION_graduate school    26884 non-null uint8\n",
      "EDUCATION_high school        26884 non-null uint8\n",
      "EDUCATION_other              26884 non-null uint8\n",
      "EDUCATION_university         26884 non-null uint8\n",
      "MARRIAGE_MISSING             26884 non-null int64\n",
      "MARRIAGE_married             26884 non-null uint8\n",
      "MARRIAGE_other               26884 non-null uint8\n",
      "MARRIAGE_single              26884 non-null uint8\n",
      "AGE_MISSING                  26884 non-null int64\n",
      "AGE                          26884 non-null float64\n",
      "dtypes: float64(14), int64(12), uint8(7)\n",
      "memory usage: 5.5 MB\n"
     ]
    }
   ],
   "source": [
    "train.info()"
   ]
  },
  {
   "cell_type": "code",
   "execution_count": 38,
   "metadata": {
    "collapsed": true,
    "deletable": true,
    "editable": true
   },
   "outputs": [],
   "source": [
    "train = train.astype('float64')"
   ]
  },
  {
   "cell_type": "code",
   "execution_count": 39,
   "metadata": {
    "collapsed": false,
    "deletable": true,
    "editable": true
   },
   "outputs": [
    {
     "name": "stdout",
     "output_type": "stream",
     "text": [
      "<class 'pandas.core.frame.DataFrame'>\n",
      "RangeIndex: 26884 entries, 0 to 26883\n",
      "Data columns (total 33 columns):\n",
      "LIMIT_BAL                    26884 non-null float64\n",
      "SEX                          26884 non-null float64\n",
      "PAY_DEC                      26884 non-null float64\n",
      "PAY_NOV                      26884 non-null float64\n",
      "PAY_OCT                      26884 non-null float64\n",
      "PAY_SEP                      26884 non-null float64\n",
      "PAY_AUG                      26884 non-null float64\n",
      "PAY_JUL                      26884 non-null float64\n",
      "BILL_AMT_DEC                 26884 non-null float64\n",
      "BILL_AMT_NOV                 26884 non-null float64\n",
      "BILL_AMT_OCT                 26884 non-null float64\n",
      "BILL_AMT_SEP                 26884 non-null float64\n",
      "BILL_AMT_AUG                 26884 non-null float64\n",
      "BILL_AMT_JUL                 26884 non-null float64\n",
      "PAY_AMT_DEC                  26884 non-null float64\n",
      "PAY_AMT_NOV                  26884 non-null float64\n",
      "PAY_AMT_OCT                  26884 non-null float64\n",
      "PAY_AMT_SEP                  26884 non-null float64\n",
      "PAY_AMT_AUG                  26884 non-null float64\n",
      "PAY_AMT_JUL                  26884 non-null float64\n",
      "DEFAULT PAYMENT JAN          26884 non-null float64\n",
      "SEX_MISSING                  26884 non-null float64\n",
      "EDUCATION_MISSING            26884 non-null float64\n",
      "EDUCATION_graduate school    26884 non-null float64\n",
      "EDUCATION_high school        26884 non-null float64\n",
      "EDUCATION_other              26884 non-null float64\n",
      "EDUCATION_university         26884 non-null float64\n",
      "MARRIAGE_MISSING             26884 non-null float64\n",
      "MARRIAGE_married             26884 non-null float64\n",
      "MARRIAGE_other               26884 non-null float64\n",
      "MARRIAGE_single              26884 non-null float64\n",
      "AGE_MISSING                  26884 non-null float64\n",
      "AGE                          26884 non-null float64\n",
      "dtypes: float64(33)\n",
      "memory usage: 6.8 MB\n"
     ]
    }
   ],
   "source": [
    "train.info()"
   ]
  },
  {
   "cell_type": "code",
   "execution_count": 55,
   "metadata": {
    "collapsed": true,
    "deletable": true,
    "editable": true
   },
   "outputs": [],
   "source": [
    "train = normalize(train)"
   ]
  },
  {
   "cell_type": "code",
   "execution_count": 41,
   "metadata": {
    "collapsed": true,
    "deletable": true,
    "editable": true
   },
   "outputs": [],
   "source": [
    "x = train.drop(['DEFAULT PAYMENT JAN'], axis=1)\n",
    "y = train['DEFAULT PAYMENT JAN']"
   ]
  },
  {
   "cell_type": "code",
   "execution_count": 42,
   "metadata": {
    "collapsed": false,
    "deletable": true,
    "editable": true
   },
   "outputs": [
    {
     "data": {
      "text/html": [
       "<div>\n",
       "<table border=\"1\" class=\"dataframe\">\n",
       "  <thead>\n",
       "    <tr style=\"text-align: right;\">\n",
       "      <th></th>\n",
       "      <th>LIMIT_BAL</th>\n",
       "      <th>SEX</th>\n",
       "      <th>PAY_DEC</th>\n",
       "      <th>PAY_NOV</th>\n",
       "      <th>PAY_OCT</th>\n",
       "      <th>PAY_SEP</th>\n",
       "      <th>PAY_AUG</th>\n",
       "      <th>PAY_JUL</th>\n",
       "      <th>BILL_AMT_DEC</th>\n",
       "      <th>BILL_AMT_NOV</th>\n",
       "      <th>...</th>\n",
       "      <th>EDUCATION_graduate school</th>\n",
       "      <th>EDUCATION_high school</th>\n",
       "      <th>EDUCATION_other</th>\n",
       "      <th>EDUCATION_university</th>\n",
       "      <th>MARRIAGE_MISSING</th>\n",
       "      <th>MARRIAGE_married</th>\n",
       "      <th>MARRIAGE_other</th>\n",
       "      <th>MARRIAGE_single</th>\n",
       "      <th>AGE_MISSING</th>\n",
       "      <th>AGE</th>\n",
       "    </tr>\n",
       "  </thead>\n",
       "  <tbody>\n",
       "    <tr>\n",
       "      <th>0</th>\n",
       "      <td>0.040404</td>\n",
       "      <td>0.0</td>\n",
       "      <td>0.2</td>\n",
       "      <td>0.2</td>\n",
       "      <td>0.2</td>\n",
       "      <td>0.2</td>\n",
       "      <td>0.4</td>\n",
       "      <td>0.2</td>\n",
       "      <td>0.190887</td>\n",
       "      <td>0.080948</td>\n",
       "      <td>...</td>\n",
       "      <td>0.0</td>\n",
       "      <td>0.0</td>\n",
       "      <td>0.0</td>\n",
       "      <td>1.0</td>\n",
       "      <td>0.0</td>\n",
       "      <td>0.0</td>\n",
       "      <td>0.0</td>\n",
       "      <td>1.0</td>\n",
       "      <td>1.0</td>\n",
       "      <td>0.259259</td>\n",
       "    </tr>\n",
       "    <tr>\n",
       "      <th>1</th>\n",
       "      <td>0.181818</td>\n",
       "      <td>0.0</td>\n",
       "      <td>0.2</td>\n",
       "      <td>0.2</td>\n",
       "      <td>0.2</td>\n",
       "      <td>0.2</td>\n",
       "      <td>0.2</td>\n",
       "      <td>0.0</td>\n",
       "      <td>0.233958</td>\n",
       "      <td>0.163187</td>\n",
       "      <td>...</td>\n",
       "      <td>0.0</td>\n",
       "      <td>0.0</td>\n",
       "      <td>0.0</td>\n",
       "      <td>1.0</td>\n",
       "      <td>0.0</td>\n",
       "      <td>1.0</td>\n",
       "      <td>0.0</td>\n",
       "      <td>0.0</td>\n",
       "      <td>0.0</td>\n",
       "      <td>0.222222</td>\n",
       "    </tr>\n",
       "    <tr>\n",
       "      <th>2</th>\n",
       "      <td>0.202020</td>\n",
       "      <td>1.0</td>\n",
       "      <td>0.2</td>\n",
       "      <td>0.2</td>\n",
       "      <td>0.1</td>\n",
       "      <td>0.1</td>\n",
       "      <td>0.0</td>\n",
       "      <td>0.0</td>\n",
       "      <td>0.198790</td>\n",
       "      <td>0.122052</td>\n",
       "      <td>...</td>\n",
       "      <td>0.0</td>\n",
       "      <td>1.0</td>\n",
       "      <td>0.0</td>\n",
       "      <td>0.0</td>\n",
       "      <td>0.0</td>\n",
       "      <td>1.0</td>\n",
       "      <td>0.0</td>\n",
       "      <td>0.0</td>\n",
       "      <td>0.0</td>\n",
       "      <td>0.370370</td>\n",
       "    </tr>\n",
       "    <tr>\n",
       "      <th>3</th>\n",
       "      <td>0.292929</td>\n",
       "      <td>1.0</td>\n",
       "      <td>0.0</td>\n",
       "      <td>0.0</td>\n",
       "      <td>0.0</td>\n",
       "      <td>0.0</td>\n",
       "      <td>0.0</td>\n",
       "      <td>0.0</td>\n",
       "      <td>0.149150</td>\n",
       "      <td>0.068777</td>\n",
       "      <td>...</td>\n",
       "      <td>1.0</td>\n",
       "      <td>0.0</td>\n",
       "      <td>0.0</td>\n",
       "      <td>0.0</td>\n",
       "      <td>0.0</td>\n",
       "      <td>1.0</td>\n",
       "      <td>0.0</td>\n",
       "      <td>0.0</td>\n",
       "      <td>0.0</td>\n",
       "      <td>0.333333</td>\n",
       "    </tr>\n",
       "    <tr>\n",
       "      <th>4</th>\n",
       "      <td>0.111111</td>\n",
       "      <td>1.0</td>\n",
       "      <td>0.1</td>\n",
       "      <td>0.1</td>\n",
       "      <td>0.1</td>\n",
       "      <td>0.1</td>\n",
       "      <td>0.1</td>\n",
       "      <td>0.1</td>\n",
       "      <td>0.147386</td>\n",
       "      <td>0.070017</td>\n",
       "      <td>...</td>\n",
       "      <td>1.0</td>\n",
       "      <td>0.0</td>\n",
       "      <td>0.0</td>\n",
       "      <td>0.0</td>\n",
       "      <td>0.0</td>\n",
       "      <td>1.0</td>\n",
       "      <td>0.0</td>\n",
       "      <td>0.0</td>\n",
       "      <td>0.0</td>\n",
       "      <td>0.314815</td>\n",
       "    </tr>\n",
       "  </tbody>\n",
       "</table>\n",
       "<p>5 rows × 33 columns</p>\n",
       "</div>"
      ],
      "text/plain": [
       "   LIMIT_BAL  SEX  PAY_DEC  PAY_NOV  PAY_OCT  PAY_SEP  PAY_AUG  PAY_JUL  \\\n",
       "0   0.040404  0.0      0.2      0.2      0.2      0.2      0.4      0.2   \n",
       "1   0.181818  0.0      0.2      0.2      0.2      0.2      0.2      0.0   \n",
       "2   0.202020  1.0      0.2      0.2      0.1      0.1      0.0      0.0   \n",
       "3   0.292929  1.0      0.0      0.0      0.0      0.0      0.0      0.0   \n",
       "4   0.111111  1.0      0.1      0.1      0.1      0.1      0.1      0.1   \n",
       "\n",
       "   BILL_AMT_DEC  BILL_AMT_NOV    ...     EDUCATION_graduate school  \\\n",
       "0      0.190887      0.080948    ...                           0.0   \n",
       "1      0.233958      0.163187    ...                           0.0   \n",
       "2      0.198790      0.122052    ...                           0.0   \n",
       "3      0.149150      0.068777    ...                           1.0   \n",
       "4      0.147386      0.070017    ...                           1.0   \n",
       "\n",
       "   EDUCATION_high school  EDUCATION_other  EDUCATION_university  \\\n",
       "0                    0.0              0.0                   1.0   \n",
       "1                    0.0              0.0                   1.0   \n",
       "2                    1.0              0.0                   0.0   \n",
       "3                    0.0              0.0                   0.0   \n",
       "4                    0.0              0.0                   0.0   \n",
       "\n",
       "   MARRIAGE_MISSING  MARRIAGE_married  MARRIAGE_other  MARRIAGE_single  \\\n",
       "0               0.0               0.0             0.0              1.0   \n",
       "1               0.0               1.0             0.0              0.0   \n",
       "2               0.0               1.0             0.0              0.0   \n",
       "3               0.0               1.0             0.0              0.0   \n",
       "4               0.0               1.0             0.0              0.0   \n",
       "\n",
       "   AGE_MISSING       AGE  \n",
       "0          1.0  0.259259  \n",
       "1          0.0  0.222222  \n",
       "2          0.0  0.370370  \n",
       "3          0.0  0.333333  \n",
       "4          0.0  0.314815  \n",
       "\n",
       "[5 rows x 33 columns]"
      ]
     },
     "execution_count": 42,
     "metadata": {},
     "output_type": "execute_result"
    }
   ],
   "source": [
    "train.head()"
   ]
  },
  {
   "cell_type": "code",
   "execution_count": 49,
   "metadata": {
    "collapsed": false,
    "deletable": true,
    "editable": true
   },
   "outputs": [],
   "source": [
    "z = linkage(x, 'single')"
   ]
  },
  {
   "cell_type": "code",
   "execution_count": 54,
   "metadata": {
    "collapsed": false,
    "deletable": true,
    "editable": true,
    "scrolled": false
   },
   "outputs": [
    {
     "name": "stdout",
     "output_type": "stream",
     "text": [
      "1\n",
      "[ 1.49976229  1.19591309  1.36714511 ...,  1.11819053  1.48852335\n",
      "  1.13848472]\n",
      " \n",
      "2\n",
      "[ 1.49974141  1.1958912   1.36714607 ...,  1.11816438  1.4885191\n",
      "  1.13847771]\n",
      " \n",
      "3\n",
      "[ 1.49970686  1.19588802  1.36716089 ...,  1.11812136  1.48854701\n",
      "  1.13845473]\n",
      " \n",
      "4\n",
      "[ 1.49967397  1.19588502  1.36717745 ...,  1.11807952  1.48855637\n",
      "  1.13843563]\n",
      " \n",
      "5\n",
      "[ 1.49961275  1.19583141  1.36723792 ...,  1.11800396  1.48857082\n",
      "  1.13842077]\n",
      " \n",
      "6\n",
      "[ 1.49919845  1.19543186  1.36702104 ...,  1.11746375  1.48859929\n",
      "  1.13764876]\n",
      " \n",
      "7\n",
      "[ 1.49577763  1.19834232  1.37165161 ...,  1.11298757  1.49268407\n",
      "  1.13393222]\n",
      " \n",
      "8\n",
      "[ 1.49455648  1.1971199   1.37595385 ...,  1.11138245  1.49636886\n",
      "  1.13255719]\n",
      " \n",
      "9\n",
      "[ 1.49606941  1.19937875  1.37505715 ...,  1.1134794   1.49554758\n",
      "  1.13440667]\n",
      " \n",
      "10\n",
      "[ nan  nan  nan ...,  nan  nan  nan]\n",
      " \n",
      "11\n",
      "[ nan  nan  nan ...,  nan  nan  nan]\n",
      " \n",
      "12\n",
      "[ nan  nan  nan ...,  nan  nan  nan]\n",
      " \n",
      "13\n",
      "[ nan  nan  nan ...,  nan  nan  nan]\n",
      " \n",
      "14\n",
      "[ nan  nan  nan ...,  nan  nan  nan]\n",
      " \n",
      "15\n",
      "[ 1.16097856  0.69674662  0.47821994 ...,  0.60387591  0.78221818\n",
      "  0.73988734]\n",
      " \n",
      "16\n",
      "[ 1.16097856  0.69674662  0.47821994 ...,  0.60387591  0.78221818\n",
      "  0.73988734]\n",
      " \n",
      "17\n",
      "[ 1.16097856  0.69674662  0.47821994 ...,  0.60387591  0.78221818\n",
      "  0.73988734]\n",
      " \n",
      "18\n",
      "[ 1.16097856  0.69674662  0.47821994 ...,  0.60387591  0.78221818\n",
      "  0.73988734]\n",
      " \n",
      "19\n",
      "[ 1.16097856  0.69674662  0.47821994 ...,  0.60387591  0.78221818\n",
      "  0.73988734]\n",
      " \n"
     ]
    }
   ],
   "source": [
    "wss_values = []\n",
    "bss_values = []\n",
    "k_values = range(1,20)\n",
    "\n",
    "for k in k_values:\n",
    "    print k\n",
    "    clustering = fcluster(z, k, criterion='maxclust')\n",
    "    centroids_h = [np.mean(x[clustering==c],axis=0) for c in range(1,k+1)]\n",
    "    cdist(x, centroids_h, 'euclidean')\n",
    "    D = cdist(x, centroids_h, 'euclidean')\n",
    "    cIdx = np.argmin(D,axis=1)\n",
    "    d = np.min(D,axis=1)\n",
    "    print d\n",
    "    avgWithinSS = sum(d)/x.shape[0]\n",
    "\n",
    "    # Total with-in sum of square\n",
    "    wss = sum(d**2)\n",
    "\n",
    "    tss = sum(pdist(x)**2)/x.shape[0]\n",
    "\n",
    "    bss = tss-wss\n",
    "\n",
    "    wss_values += [wss]\n",
    "    bss_values += [bss]\n",
    "    print ' '"
   ]
  },
  {
   "cell_type": "code",
   "execution_count": 51,
   "metadata": {
    "collapsed": false,
    "deletable": true,
    "editable": true
   },
   "outputs": [
    {
     "data": {
      "image/png": "[encoded data removed]",
      "text/plain": [
       "<matplotlib.figure.Figure at 0x11dcba550>"
      ]
     },
     "metadata": {},
     "output_type": "display_data"
    }
   ],
   "source": [
    "fig = plt.figure()\n",
    "font = {'family' : 'sans', 'size'   : 12}\n",
    "plt.rc('font', **font)\n",
    "plt.plot(k_values, wss_values, 'bo-', color='red', label='WSS')\n",
    "plt.plot(k_values, bss_values, 'bo-', color='blue', label='BSS')\n",
    "plt.grid(True)\n",
    "plt.xlabel('Number of clusters')\n",
    "plt.ylabel('BSS & WSS')\n",
    "plt.xticks(k_values)\n",
    "plt.legend()\n",
    "plt.title('Hierarchical Clustering');"
   ]
  },
  {
   "cell_type": "code",
   "execution_count": 53,
   "metadata": {
    "collapsed": false,
    "deletable": true,
    "editable": true
   },
   "outputs": [
    {
     "data": {
      "text/plain": [
       "[42411.311837909168,\n",
       " 42405.286120228629,\n",
       " 42397.399270151684,\n",
       " 42393.085932432041,\n",
       " 42145.405455873144,\n",
       " 41990.006311279205,\n",
       " 41562.147982398594,\n",
       " 41255.111385111741,\n",
       " 40968.806936161018,\n",
       " nan,\n",
       " nan,\n",
       " nan,\n",
       " nan,\n",
       " nan,\n",
       " 11178.497024203916,\n",
       " 11175.358363890979,\n",
       " 11174.024335725046,\n",
       " 11172.397650611645,\n",
       " 11171.50006305396]"
      ]
     },
     "execution_count": 53,
     "metadata": {},
     "output_type": "execute_result"
    }
   ],
   "source": [
    "wss_values"
   ]
  },
  {
   "cell_type": "code",
   "execution_count": 46,
   "metadata": {
    "collapsed": false,
    "deletable": true,
    "editable": true
   },
   "outputs": [],
   "source": [
    "#yp = KMeans(n_clusters=10).fit_predict(x)"
   ]
  },
  {
   "cell_type": "code",
   "execution_count": 47,
   "metadata": {
    "collapsed": true,
    "deletable": true,
    "editable": true
   },
   "outputs": [],
   "source": [
    "def KneeElbowAnalysis(x,max_k=10):\n",
    "    k_values = range(1,max_k)\n",
    "    clusterings = [KMeans(n_clusters=k, random_state=12334).fit(x) for k in k_values]\n",
    "    centroids_k = [clustering.cluster_centers_ for clustering in clusterings]\n",
    "\n",
    "    D_k = [cdist(x, cent, 'euclidean') for cent in centroids_k]\n",
    "    cIdx = [np.argmin(D,axis=1) for D in D_k]\n",
    "    dist = [np.min(D,axis=1) for D in D_k]\n",
    "    avgWithinSS = [sum(d)/x.shape[0] for d in dist]\n",
    "\n",
    "    # Total with-in sum of square\n",
    "    wcss = [sum(d**2) for d in dist]\n",
    "\n",
    "    tss = sum(pdist(x)**2)/x.shape[0]\n",
    "    bss = tss-wcss\n",
    "\n",
    "    kIdx = 10-1\n",
    "    \n",
    "    #\n",
    "    # elbow curve\n",
    "    #\n",
    "    fig = plt.figure()\n",
    "    font = {'family' : 'sans', 'size'   : 12}\n",
    "    plt.rc('font', **font)\n",
    "    plt.plot(k_values, wcss, 'bo-', color='red', label='WCSS')\n",
    "    plt.plot(k_values, bss, 'bo-', color='blue', label='BCSS')\n",
    "    plt.grid(True)\n",
    "    plt.xlabel('Number of clusters')\n",
    "    plt.legend()\n",
    "    plt.title('Knee for KMeans clustering');\n",
    "\n"
   ]
  },
  {
   "cell_type": "code",
   "execution_count": 48,
   "metadata": {
    "collapsed": false,
    "deletable": true,
    "editable": true
   },
   "outputs": [
    {
     "data": {
      "image/png": "[encoded data removed]",
      "text/plain": [
       "<matplotlib.figure.Figure at 0x10eba7850>"
      ]
     },
     "metadata": {},
     "output_type": "display_data"
    }
   ],
   "source": [
    "KneeElbowAnalysis(x,20)"
   ]
  },
  {
   "cell_type": "code",
   "execution_count": null,
   "metadata": {
    "collapsed": true,
    "deletable": true,
    "editable": true
   },
   "outputs": [],
   "source": []
  }
 ],
 "metadata": {
  "kernelspec": {
   "display_name": "Python 2",
   "language": "python",
   "name": "python2"
  },
  "language_info": {
   "codemirror_mode": {
    "name": "ipython",
    "version": 2
   },
   "file_extension": ".py",
   "mimetype": "text/x-python",
   "name": "python",
   "nbconvert_exporter": "python",
   "pygments_lexer": "ipython2",
   "version": "2.7.13"
  }
 },
 "nbformat": 4,
 "nbformat_minor": 2
}
