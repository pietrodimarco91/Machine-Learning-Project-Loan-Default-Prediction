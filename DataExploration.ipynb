{
 "cells": [
  {
   "cell_type": "code",
   "execution_count": 2,
   "metadata": {
    "collapsed": true
   },
   "outputs": [],
   "source": [
    "import sklearn\n",
    "import matplotlib.pyplot as plt\n",
    "import seaborn as sns\n",
    "%matplotlib inline\n",
    "\n",
    "import pandas as pd\n",
    "import numpy as np\n",
    "\n"
   ]
  },
  {
   "cell_type": "code",
   "execution_count": 3,
   "metadata": {
    "collapsed": true
   },
   "outputs": [],
   "source": [
    "with open('data/train.csv') as f:\n",
    "    clean_file = [line for line in map(lambda s: s.strip().replace('\"', ''), f.readlines()) if line != '']\n",
    "\n",
    "with open('data/train_clean.csv', 'w') as f:\n",
    "    f.write('\\n'.join(clean_file))"
   ]
  },
  {
   "cell_type": "code",
   "execution_count": 4,
   "metadata": {
    "collapsed": true
   },
   "outputs": [],
   "source": [
    "train = pd.read_csv('data/train_clean.csv')"
   ]
  },
  {
   "cell_type": "code",
   "execution_count": 5,
   "metadata": {},
   "outputs": [
    {
     "data": {
      "text/plain": [
       "(26884, 25)"
      ]
     },
     "execution_count": 5,
     "metadata": {},
     "output_type": "execute_result"
    }
   ],
   "source": [
    "train.shape"
   ]
  },
  {
   "cell_type": "markdown",
   "metadata": {},
   "source": [
    "The dataset has 26884 rows and 25 columns"
   ]
  },
  {
   "cell_type": "code",
   "execution_count": 6,
   "metadata": {
    "scrolled": false
   },
   "outputs": [
    {
     "data": {
      "text/plain": [
       "Index(['CUST_COD', 'LIMIT_BAL', 'SEX', 'EDUCATION', 'MARRIAGE', 'BIRTH_DATE',\n",
       "       'PAY_DEC', 'PAY_NOV', 'PAY_OCT', 'PAY_SEP', 'PAY_AUG', 'PAY_JUL',\n",
       "       'BILL_AMT_DEC', 'BILL_AMT_NOV', 'BILL_AMT_OCT', 'BILL_AMT_SEP',\n",
       "       'BILL_AMT_AUG', 'BILL_AMT_JUL', 'PAY_AMT_DEC', 'PAY_AMT_NOV',\n",
       "       'PAY_AMT_OCT', 'PAY_AMT_SEP', 'PAY_AMT_AUG', 'PAY_AMT_JUL',\n",
       "       'DEFAULT PAYMENT JAN'],\n",
       "      dtype='object')"
      ]
     },
     "execution_count": 6,
     "metadata": {},
     "output_type": "execute_result"
    }
   ],
   "source": [
    "train.columns"
   ]
  },
  {
   "cell_type": "markdown",
   "metadata": {},
   "source": [
    "Columns:\n",
    "- CUST_COD : customer code\n",
    "- LIMIT_BAL : Amount of credit card given to the client\n",
    "- SEX : gender\n",
    "- EDUCATION : education level\n",
    "- MARRIAGE : marital status\n",
    "- BIRTH_DATE : birthdate\n",
    "- PAY_DEC, PAY_NOV, PAY_OCT, PAY_SEP, PAY_AUG, PAY_JUL : history of payments. 1 = 1 month delay, 2 = 2 months delay...\n",
    "- BILL_AMT_DEC, BILL_AMT_NOV, BILL_AMT_OCT, BILL_AMT_SEP, BILL_AMT_AUG, BILL_AMT_JUL : amount of bill statement per month\n",
    "- PAY_AMT_DEC, PAY_AMT_NOV, PAY_AMT_OCT, PAY_AMT_SEP, PAY_AMT_AUG, PAY_AMT_JUL : amount of payment per month\n",
    "- DEFAULT PAYMENT JAN : default payment on January 1 = yes, 0 = no"
   ]
  },
  {
   "cell_type": "markdown",
   "metadata": {},
   "source": [
    "# LIMIT_BAL"
   ]
  },
  {
   "cell_type": "code",
   "execution_count": 7,
   "metadata": {},
   "outputs": [
    {
     "data": {
      "text/plain": [
       "count    26884.00000\n",
       "mean      4997.91411\n",
       "std       3879.73624\n",
       "min        298.13600\n",
       "25%       1490.68000\n",
       "50%       4173.90400\n",
       "75%       7155.26400\n",
       "max      29813.60000\n",
       "Name: LIMIT_BAL, dtype: float64"
      ]
     },
     "execution_count": 7,
     "metadata": {},
     "output_type": "execute_result"
    }
   ],
   "source": [
    "train['LIMIT_BAL'].describe()"
   ]
  },
  {
   "cell_type": "code",
   "execution_count": 8,
   "metadata": {},
   "outputs": [
    {
     "data": {
      "text/plain": [
       "<matplotlib.axes._subplots.AxesSubplot at 0x10f2eb3c8>"
      ]
     },
     "execution_count": 8,
     "metadata": {},
     "output_type": "execute_result"
    },
    {
     "data": {
      "image/png": "[encoded data removed]",
      "text/plain": [
       "<matplotlib.figure.Figure at 0x10eacb550>"
      ]
     },
     "metadata": {},
     "output_type": "display_data"
    }
   ],
   "source": [
    "sns.distplot(train['LIMIT_BAL'])"
   ]
  },
  {
   "cell_type": "code",
   "execution_count": 9,
   "metadata": {},
   "outputs": [
    {
     "name": "stdout",
     "output_type": "stream",
     "text": [
      "Number of null values: 0\n"
     ]
    }
   ],
   "source": [
    "print(\"Number of null values: {0}\".format(train['LIMIT_BAL'].isnull().sum()))"
   ]
  },
  {
   "cell_type": "code",
   "execution_count": 10,
   "metadata": {},
   "outputs": [
    {
     "data": {
      "text/plain": [
       "<matplotlib.axes._subplots.AxesSubplot at 0x10eb84ba8>"
      ]
     },
     "execution_count": 10,
     "metadata": {},
     "output_type": "execute_result"
    },
    {
     "data": {
      "image/png": "[encoded data removed]",
      "text/plain": [
       "<matplotlib.figure.Figure at 0x105bccf28>"
      ]
     },
     "metadata": {},
     "output_type": "display_data"
    }
   ],
   "source": [
    "sns.barplot(x='DEFAULT PAYMENT JAN', y='LIMIT_BAL', data=train)"
   ]
  },
  {
   "cell_type": "markdown",
   "metadata": {},
   "source": [
    "If the balance is higher, there is lower probability to default. That seems reasonable"
   ]
  },
  {
   "cell_type": "markdown",
   "metadata": {},
   "source": [
    "# SEX"
   ]
  },
  {
   "cell_type": "code",
   "execution_count": 11,
   "metadata": {},
   "outputs": [
    {
     "data": {
      "text/plain": [
       "<matplotlib.axes._subplots.AxesSubplot at 0x10eb69320>"
      ]
     },
     "execution_count": 11,
     "metadata": {},
     "output_type": "execute_result"
    },
    {
     "data": {
      "image/png": "[encoded data removed]",
      "text/plain": [
       "<matplotlib.figure.Figure at 0x10f243160>"
      ]
     },
     "metadata": {},
     "output_type": "display_data"
    }
   ],
   "source": [
    "sns.countplot(x='SEX', data=train)"
   ]
  },
  {
   "cell_type": "markdown",
   "metadata": {},
   "source": [
    "There are more females than males"
   ]
  },
  {
   "cell_type": "code",
   "execution_count": 12,
   "metadata": {},
   "outputs": [
    {
     "name": "stdout",
     "output_type": "stream",
     "text": [
      "Number of males: 10555\n",
      "Number of females: 16071\n",
      "Number of nulls: 258\n",
      "\n",
      "Sum: 26884 / 26884\n"
     ]
    }
   ],
   "source": [
    "males = (train['SEX'] == 'M').sum()\n",
    "females = (train['SEX'] == 'F').sum()\n",
    "sex_nulls = (train['SEX'].isnull()).sum()\n",
    "\n",
    "print(\"Number of males: {0}\".format(males))\n",
    "print(\"Number of females: {0}\".format(females))\n",
    "print(\"Number of nulls: {0}\".format(sex_nulls))\n",
    "\n",
    "print(\"\\nSum: {0} / {1}\".format(males + females + sex_nulls, len(train)))"
   ]
  },
  {
   "cell_type": "code",
   "execution_count": 13,
   "metadata": {},
   "outputs": [
    {
     "data": {
      "text/plain": [
       "<matplotlib.axes._subplots.AxesSubplot at 0x10fbaed68>"
      ]
     },
     "execution_count": 13,
     "metadata": {},
     "output_type": "execute_result"
    },
    {
     "data": {
      "image/png": "[encoded data removed]",
      "text/plain": [
       "<matplotlib.figure.Figure at 0x10eb40518>"
      ]
     },
     "metadata": {},
     "output_type": "display_data"
    }
   ],
   "source": [
    "sns.countplot(x='DEFAULT PAYMENT JAN', hue='SEX', data=train)"
   ]
  },
  {
   "cell_type": "code",
   "execution_count": 14,
   "metadata": {},
   "outputs": [
    {
     "data": {
      "text/plain": [
       "<matplotlib.axes._subplots.AxesSubplot at 0x10fdd1518>"
      ]
     },
     "execution_count": 14,
     "metadata": {},
     "output_type": "execute_result"
    },
    {
     "data": {
      "image/png": "[encoded data removed]",
      "text/plain": [
       "<matplotlib.figure.Figure at 0x10ec07160>"
      ]
     },
     "metadata": {},
     "output_type": "display_data"
    }
   ],
   "source": [
    "sns.barplot(x = 'SEX', y = 'LIMIT_BAL', data=train)"
   ]
  },
  {
   "cell_type": "markdown",
   "metadata": {},
   "source": [
    "Males and females have quite the same initial balance"
   ]
  },
  {
   "cell_type": "code",
   "execution_count": 15,
   "metadata": {},
   "outputs": [
    {
     "data": {
      "text/html": [
       "<div>\n",
       "<table border=\"1\" class=\"dataframe\">\n",
       "  <thead>\n",
       "    <tr style=\"text-align: right;\">\n",
       "      <th>DEFAULT PAYMENT JAN</th>\n",
       "      <th>0</th>\n",
       "      <th>1</th>\n",
       "    </tr>\n",
       "    <tr>\n",
       "      <th>SEX</th>\n",
       "      <th></th>\n",
       "      <th></th>\n",
       "    </tr>\n",
       "  </thead>\n",
       "  <tbody>\n",
       "    <tr>\n",
       "      <th>F</th>\n",
       "      <td>0.790119</td>\n",
       "      <td>0.209881</td>\n",
       "    </tr>\n",
       "    <tr>\n",
       "      <th>M</th>\n",
       "      <td>0.761440</td>\n",
       "      <td>0.238560</td>\n",
       "    </tr>\n",
       "  </tbody>\n",
       "</table>\n",
       "</div>"
      ],
      "text/plain": [
       "DEFAULT PAYMENT JAN         0         1\n",
       "SEX                                    \n",
       "F                    0.790119  0.209881\n",
       "M                    0.761440  0.238560"
      ]
     },
     "execution_count": 15,
     "metadata": {},
     "output_type": "execute_result"
    }
   ],
   "source": [
    "pd.crosstab(train['SEX'], train['DEFAULT PAYMENT JAN'], normalize=0)"
   ]
  },
  {
   "cell_type": "markdown",
   "metadata": {},
   "source": [
    "Females have ~21% probability to default, while males have a slightly higher probability to default (~24%)"
   ]
  },
  {
   "cell_type": "markdown",
   "metadata": {},
   "source": [
    "# EDUCATION"
   ]
  },
  {
   "cell_type": "code",
   "execution_count": 16,
   "metadata": {},
   "outputs": [
    {
     "data": {
      "text/plain": [
       "<matplotlib.axes._subplots.AxesSubplot at 0x10fdfd0b8>"
      ]
     },
     "execution_count": 16,
     "metadata": {},
     "output_type": "execute_result"
    },
    {
     "data": {
      "image/png": "[encoded data removed]",
      "text/plain": [
       "<matplotlib.figure.Figure at 0x10fdfdeb8>"
      ]
     },
     "metadata": {},
     "output_type": "display_data"
    }
   ],
   "source": [
    "sns.countplot(x='EDUCATION', data=train)"
   ]
  },
  {
   "cell_type": "code",
   "execution_count": 17,
   "metadata": {},
   "outputs": [
    {
     "data": {
      "text/plain": [
       "<matplotlib.axes._subplots.AxesSubplot at 0x1133e5f98>"
      ]
     },
     "execution_count": 17,
     "metadata": {},
     "output_type": "execute_result"
    },
    {
     "data": {
      "image/png": "[encoded data removed]",
      "text/plain": [
       "<matplotlib.figure.Figure at 0x1134d0080>"
      ]
     },
     "metadata": {},
     "output_type": "display_data"
    }
   ],
   "source": [
    "sns.countplot(x = 'EDUCATION', hue='DEFAULT PAYMENT JAN', data=train)"
   ]
  },
  {
   "cell_type": "code",
   "execution_count": 18,
   "metadata": {},
   "outputs": [
    {
     "data": {
      "text/html": [
       "<div>\n",
       "<table border=\"1\" class=\"dataframe\">\n",
       "  <thead>\n",
       "    <tr style=\"text-align: right;\">\n",
       "      <th>DEFAULT PAYMENT JAN</th>\n",
       "      <th>0</th>\n",
       "      <th>1</th>\n",
       "    </tr>\n",
       "    <tr>\n",
       "      <th>EDUCATION</th>\n",
       "      <th></th>\n",
       "      <th></th>\n",
       "    </tr>\n",
       "  </thead>\n",
       "  <tbody>\n",
       "    <tr>\n",
       "      <th>graduate school</th>\n",
       "      <td>0.808036</td>\n",
       "      <td>0.191964</td>\n",
       "    </tr>\n",
       "    <tr>\n",
       "      <th>high school</th>\n",
       "      <td>0.749546</td>\n",
       "      <td>0.250454</td>\n",
       "    </tr>\n",
       "    <tr>\n",
       "      <th>other</th>\n",
       "      <td>0.936937</td>\n",
       "      <td>0.063063</td>\n",
       "    </tr>\n",
       "    <tr>\n",
       "      <th>university</th>\n",
       "      <td>0.762057</td>\n",
       "      <td>0.237943</td>\n",
       "    </tr>\n",
       "  </tbody>\n",
       "</table>\n",
       "</div>"
      ],
      "text/plain": [
       "DEFAULT PAYMENT JAN         0         1\n",
       "EDUCATION                              \n",
       "graduate school      0.808036  0.191964\n",
       "high school          0.749546  0.250454\n",
       "other                0.936937  0.063063\n",
       "university           0.762057  0.237943"
      ]
     },
     "execution_count": 18,
     "metadata": {},
     "output_type": "execute_result"
    }
   ],
   "source": [
    "pd.crosstab(train['EDUCATION'], train['DEFAULT PAYMENT JAN'], normalize=0)"
   ]
  },
  {
   "cell_type": "code",
   "execution_count": 19,
   "metadata": {},
   "outputs": [
    {
     "data": {
      "text/html": [
       "<div>\n",
       "<table border=\"1\" class=\"dataframe\">\n",
       "  <thead>\n",
       "    <tr style=\"text-align: right;\">\n",
       "      <th>DEFAULT PAYMENT JAN</th>\n",
       "      <th>0</th>\n",
       "      <th>1</th>\n",
       "    </tr>\n",
       "    <tr>\n",
       "      <th>EDUCATION</th>\n",
       "      <th></th>\n",
       "      <th></th>\n",
       "    </tr>\n",
       "  </thead>\n",
       "  <tbody>\n",
       "    <tr>\n",
       "      <th>graduate school</th>\n",
       "      <td>7682</td>\n",
       "      <td>1825</td>\n",
       "    </tr>\n",
       "    <tr>\n",
       "      <th>high school</th>\n",
       "      <td>3304</td>\n",
       "      <td>1104</td>\n",
       "    </tr>\n",
       "    <tr>\n",
       "      <th>other</th>\n",
       "      <td>104</td>\n",
       "      <td>7</td>\n",
       "    </tr>\n",
       "    <tr>\n",
       "      <th>university</th>\n",
       "      <td>9560</td>\n",
       "      <td>2985</td>\n",
       "    </tr>\n",
       "  </tbody>\n",
       "</table>\n",
       "</div>"
      ],
      "text/plain": [
       "DEFAULT PAYMENT JAN     0     1\n",
       "EDUCATION                      \n",
       "graduate school      7682  1825\n",
       "high school          3304  1104\n",
       "other                 104     7\n",
       "university           9560  2985"
      ]
     },
     "execution_count": 19,
     "metadata": {},
     "output_type": "execute_result"
    }
   ],
   "source": [
    "pd.crosstab(train['EDUCATION'], train['DEFAULT PAYMENT JAN'])"
   ]
  },
  {
   "cell_type": "markdown",
   "metadata": {},
   "source": [
    "There is no high correlation between having an education and go in default. Those with 'other' education may be outliers.\n",
    "\n",
    "Note in fact that the baseline is 80% - 20%"
   ]
  },
  {
   "cell_type": "code",
   "execution_count": 20,
   "metadata": {},
   "outputs": [
    {
     "name": "stdout",
     "output_type": "stream",
     "text": [
      "Num of missing values: 313\n"
     ]
    }
   ],
   "source": [
    "print (\"Num of missing values: {0}\".format((train['EDUCATION'].isnull()).sum()))"
   ]
  },
  {
   "cell_type": "markdown",
   "metadata": {},
   "source": [
    "Ugh there are some missing values..."
   ]
  },
  {
   "cell_type": "markdown",
   "metadata": {},
   "source": [
    "# MARRIAGE"
   ]
  },
  {
   "cell_type": "code",
   "execution_count": 21,
   "metadata": {},
   "outputs": [
    {
     "data": {
      "text/plain": [
       "<matplotlib.axes._subplots.AxesSubplot at 0x1134f39e8>"
      ]
     },
     "execution_count": 21,
     "metadata": {},
     "output_type": "execute_result"
    },
    {
     "data": {
      "image/png": "[encoded data removed]",
      "text/plain": [
       "<matplotlib.figure.Figure at 0x113426cf8>"
      ]
     },
     "metadata": {},
     "output_type": "display_data"
    }
   ],
   "source": [
    "sns.countplot(x = 'DEFAULT PAYMENT JAN', hue = 'MARRIAGE', data=train)"
   ]
  },
  {
   "cell_type": "code",
   "execution_count": 22,
   "metadata": {},
   "outputs": [
    {
     "data": {
      "text/plain": [
       "<matplotlib.axes._subplots.AxesSubplot at 0x10fc06b00>"
      ]
     },
     "execution_count": 22,
     "metadata": {},
     "output_type": "execute_result"
    },
    {
     "data": {
      "image/png": "[encoded data removed]",
      "text/plain": [
       "<matplotlib.figure.Figure at 0x11370d390>"
      ]
     },
     "metadata": {},
     "output_type": "display_data"
    }
   ],
   "source": [
    "sns.barplot(y = 'DEFAULT PAYMENT JAN', x = 'MARRIAGE', data=train)"
   ]
  },
  {
   "cell_type": "markdown",
   "metadata": {},
   "source": [
    "Singles have slightly higher probability of not being insolvent than married ones."
   ]
  },
  {
   "cell_type": "code",
   "execution_count": 23,
   "metadata": {},
   "outputs": [
    {
     "name": "stdout",
     "output_type": "stream",
     "text": [
      "Number of missing values: 50\n"
     ]
    }
   ],
   "source": [
    "print(\"Number of missing values: {0}\".format(train['MARRIAGE'].isnull().sum()))"
   ]
  },
  {
   "cell_type": "markdown",
   "metadata": {},
   "source": [
    "# BIRTHDATE\n",
    "\n",
    "Instead of bithdate consider the age (in years)"
   ]
  },
  {
   "cell_type": "code",
   "execution_count": 24,
   "metadata": {
    "collapsed": true
   },
   "outputs": [],
   "source": [
    "birthdates = train['BIRTH_DATE']"
   ]
  },
  {
   "cell_type": "code",
   "execution_count": 25,
   "metadata": {},
   "outputs": [
    {
     "name": "stdout",
     "output_type": "stream",
     "text": [
      "Number of missing values: 702\n"
     ]
    }
   ],
   "source": [
    "print(\"Number of missing values: {0}\".format(birthdates.isnull().sum()))"
   ]
  },
  {
   "cell_type": "code",
   "execution_count": 26,
   "metadata": {
    "collapsed": true
   },
   "outputs": [],
   "source": [
    "import datetime\n",
    "def get_age(date):\n",
    "    try:\n",
    "        return (datetime.datetime.today() - datetime.datetime.strptime(date, '%d/%m/%Y')).days//365\n",
    "    except Exception as e:\n",
    "        return date\n",
    "\n",
    "birthdates = birthdates.apply(get_age)"
   ]
  },
  {
   "cell_type": "code",
   "execution_count": 27,
   "metadata": {},
   "outputs": [
    {
     "data": {
      "text/plain": [
       "<matplotlib.axes._subplots.AxesSubplot at 0x1134ebcf8>"
      ]
     },
     "execution_count": 27,
     "metadata": {},
     "output_type": "execute_result"
    },
    {
     "data": {
      "image/png": "[encoded data removed]",
      "text/plain": [
       "<matplotlib.figure.Figure at 0x113796630>"
      ]
     },
     "metadata": {},
     "output_type": "display_data"
    }
   ],
   "source": [
    "sns.distplot(birthdates[~birthdates.isnull()], bins=10)"
   ]
  },
  {
   "cell_type": "code",
   "execution_count": 28,
   "metadata": {
    "collapsed": true
   },
   "outputs": [],
   "source": [
    "train['AGE'] = birthdates"
   ]
  },
  {
   "cell_type": "code",
   "execution_count": 29,
   "metadata": {},
   "outputs": [
    {
     "data": {
      "text/plain": [
       "<matplotlib.axes._subplots.AxesSubplot at 0x113937a58>"
      ]
     },
     "execution_count": 29,
     "metadata": {},
     "output_type": "execute_result"
    },
    {
     "data": {
      "image/png": "[encoded data removed]",
      "text/plain": [
       "<matplotlib.figure.Figure at 0x113622400>"
      ]
     },
     "metadata": {},
     "output_type": "display_data"
    }
   ],
   "source": [
    "sns.barplot(x = 'DEFAULT PAYMENT JAN', y = 'AGE', data=train)"
   ]
  },
  {
   "cell_type": "markdown",
   "metadata": {},
   "source": [
    "There is no significant difference of age between insolvents and non insolvents"
   ]
  },
  {
   "cell_type": "code",
   "execution_count": 30,
   "metadata": {},
   "outputs": [
    {
     "data": {
      "text/plain": [
       "<matplotlib.axes._subplots.AxesSubplot at 0x10ebdeba8>"
      ]
     },
     "execution_count": 30,
     "metadata": {},
     "output_type": "execute_result"
    },
    {
     "data": {
      "image/png": "[encoded data removed]",
      "text/plain": [
       "<matplotlib.figure.Figure at 0x10eacb860>"
      ]
     },
     "metadata": {},
     "output_type": "display_data"
    }
   ],
   "source": [
    "sns.barplot(x = 'EDUCATION', y = 'AGE', data=train)"
   ]
  },
  {
   "cell_type": "code",
   "execution_count": 31,
   "metadata": {},
   "outputs": [
    {
     "data": {
      "text/plain": [
       "<matplotlib.axes._subplots.AxesSubplot at 0x113a9be80>"
      ]
     },
     "execution_count": 31,
     "metadata": {},
     "output_type": "execute_result"
    },
    {
     "data": {
      "image/png": "[encoded data removed]",
      "text/plain": [
       "<matplotlib.figure.Figure at 0x1136557b8>"
      ]
     },
     "metadata": {},
     "output_type": "display_data"
    }
   ],
   "source": [
    "sns.barplot(x = 'MARRIAGE', y = 'AGE', data=train)"
   ]
  },
  {
   "cell_type": "code",
   "execution_count": 32,
   "metadata": {},
   "outputs": [
    {
     "data": {
      "text/plain": [
       "<matplotlib.axes._subplots.AxesSubplot at 0x113a916d8>"
      ]
     },
     "execution_count": 32,
     "metadata": {},
     "output_type": "execute_result"
    },
    {
     "data": {
      "image/png": "[encoded data removed]",
      "text/plain": [
       "<matplotlib.figure.Figure at 0x10ebe5b00>"
      ]
     },
     "metadata": {},
     "output_type": "display_data"
    }
   ],
   "source": [
    "sns.barplot(x = 'SEX', y = 'AGE', data=train)"
   ]
  },
  {
   "cell_type": "markdown",
   "metadata": {},
   "source": [
    "# PAY_*"
   ]
  },
  {
   "cell_type": "code",
   "execution_count": 33,
   "metadata": {
    "collapsed": true
   },
   "outputs": [],
   "source": [
    "def aggregate_payment(x):\n",
    "    return x['PAY_DEC'] + x['PAY_OCT'] + x['PAY_NOV'] + x['PAY_AUG'] + x['PAY_SEP'] + x['PAY_JUL']\n",
    "\n",
    "def aggregate_payment_normalized(x):\n",
    "    cols = ['PAY_JUL', 'PAY_AUG', 'PAY_SEP', 'PAY_OCT', 'PAY_NOV', 'PAY_DEC']\n",
    "    ret = 0\n",
    "    for c in cols:\n",
    "        if x[c] > 0:\n",
    "            ret += 1\n",
    "        elif x[c] < 0:\n",
    "            ret -= 1\n",
    "    return ret\n",
    "            \n",
    "train['PAY_SUM'] = train.apply(aggregate_payment, axis=1)\n",
    "train['PAY_SUM_NORM'] = train.apply(aggregate_payment_normalized, axis=1)"
   ]
  },
  {
   "cell_type": "code",
   "execution_count": 34,
   "metadata": {},
   "outputs": [
    {
     "data": {
      "text/plain": [
       "<matplotlib.axes._subplots.AxesSubplot at 0x113d98668>"
      ]
     },
     "execution_count": 34,
     "metadata": {},
     "output_type": "execute_result"
    },
    {
     "data": {
      "image/png": "[encoded data removed]",
      "text/plain": [
       "<matplotlib.figure.Figure at 0x113abd630>"
      ]
     },
     "metadata": {},
     "output_type": "display_data"
    }
   ],
   "source": [
    "sns.distplot(train['PAY_SUM'])"
   ]
  },
  {
   "cell_type": "code",
   "execution_count": 35,
   "metadata": {},
   "outputs": [
    {
     "data": {
      "text/plain": [
       "<matplotlib.axes._subplots.AxesSubplot at 0x1158e1b00>"
      ]
     },
     "execution_count": 35,
     "metadata": {},
     "output_type": "execute_result"
    },
    {
     "data": {
      "image/png": "[encoded data removed]",
      "text/plain": [
       "<matplotlib.figure.Figure at 0x1140993c8>"
      ]
     },
     "metadata": {},
     "output_type": "display_data"
    }
   ],
   "source": [
    "sns.distplot(train['PAY_SUM_NORM'])"
   ]
  },
  {
   "cell_type": "code",
   "execution_count": 36,
   "metadata": {},
   "outputs": [
    {
     "data": {
      "text/plain": [
       "<matplotlib.axes._subplots.AxesSubplot at 0x113aa2320>"
      ]
     },
     "execution_count": 36,
     "metadata": {},
     "output_type": "execute_result"
    },
    {
     "data": {
      "image/png": "[encoded data removed]",
      "text/plain": [
       "<matplotlib.figure.Figure at 0x113abdef0>"
      ]
     },
     "metadata": {},
     "output_type": "display_data"
    }
   ],
   "source": [
    "sns.barplot(y='PAY_SUM', x='DEFAULT PAYMENT JAN', data=train)"
   ]
  },
  {
   "cell_type": "code",
   "execution_count": 37,
   "metadata": {},
   "outputs": [
    {
     "data": {
      "text/plain": [
       "<matplotlib.axes._subplots.AxesSubplot at 0x113de9048>"
      ]
     },
     "execution_count": 37,
     "metadata": {},
     "output_type": "execute_result"
    },
    {
     "data": {
      "image/png": "[encoded data removed]",
      "text/plain": [
       "<matplotlib.figure.Figure at 0x113bad6a0>"
      ]
     },
     "metadata": {},
     "output_type": "display_data"
    }
   ],
   "source": [
    "sns.barplot(y='PAY_SUM_NORM', x='DEFAULT PAYMENT JAN', data=train)"
   ]
  },
  {
   "cell_type": "code",
   "execution_count": 38,
   "metadata": {
    "collapsed": true
   },
   "outputs": [],
   "source": [
    "def predict_default(pay_sum):\n",
    "    if pay_sum > 0:\n",
    "        return 1\n",
    "    return 0\n",
    "\n",
    "prediction = train['PAY_SUM'].apply(predict_default)\n",
    "prediction_norm = train['PAY_SUM_NORM'].apply(predict_default)"
   ]
  },
  {
   "cell_type": "code",
   "execution_count": 39,
   "metadata": {},
   "outputs": [
    {
     "name": "stdout",
     "output_type": "stream",
     "text": [
      "Accuracy for sum: 0.772132123195953\n",
      "Accuracy for sum normalized: 0.7759262014581163\n"
     ]
    }
   ],
   "source": [
    "from sklearn.metrics import accuracy_score\n",
    "pay_sum_acc = accuracy_score(prediction, train['DEFAULT PAYMENT JAN'])\n",
    "pay_sum_acc_norm = accuracy_score(prediction_norm, train['DEFAULT PAYMENT JAN'])\n",
    "\n",
    "print (\"Accuracy for sum: {0}\\nAccuracy for sum normalized: {1}\".format(pay_sum_acc, pay_sum_acc_norm))"
   ]
  },
  {
   "cell_type": "code",
   "execution_count": 40,
   "metadata": {
    "collapsed": true
   },
   "outputs": [],
   "source": [
    "def has_paid_most_times(x):\n",
    "    if x == 0:\n",
    "        return 'PAY REGULAR'\n",
    "    if x > 0:\n",
    "        return 'PAY LATE'\n",
    "    if x < 0:\n",
    "        return 'PAY EARLY'\n",
    "\n",
    "train['PAYER_TYPE'] = train['PAY_SUM_NORM'].apply(has_paid_most_times)"
   ]
  },
  {
   "cell_type": "code",
   "execution_count": 41,
   "metadata": {},
   "outputs": [
    {
     "data": {
      "text/plain": [
       "<matplotlib.axes._subplots.AxesSubplot at 0x113f2d240>"
      ]
     },
     "execution_count": 41,
     "metadata": {},
     "output_type": "execute_result"
    },
    {
     "data": {
      "image/png": "[encoded data removed]",
      "text/plain": [
       "<matplotlib.figure.Figure at 0x113f06b70>"
      ]
     },
     "metadata": {},
     "output_type": "display_data"
    }
   ],
   "source": [
    "sns.countplot(x = 'PAYER_TYPE', data = train)"
   ]
  },
  {
   "cell_type": "code",
   "execution_count": 42,
   "metadata": {},
   "outputs": [
    {
     "data": {
      "text/plain": [
       "<matplotlib.axes._subplots.AxesSubplot at 0x10fa94f98>"
      ]
     },
     "execution_count": 42,
     "metadata": {},
     "output_type": "execute_result"
    },
    {
     "data": {
      "image/png": "[encoded data removed]",
      "text/plain": [
       "<matplotlib.figure.Figure at 0x114099be0>"
      ]
     },
     "metadata": {},
     "output_type": "display_data"
    }
   ],
   "source": [
    "sns.barplot(y = 'DEFAULT PAYMENT JAN', x = 'PAYER_TYPE', data = train)"
   ]
  },
  {
   "cell_type": "markdown",
   "metadata": {},
   "source": [
    "It is reasonable that the ones that have paid late most of the times has a higher chance of becoming insolvent in January\n",
    "\n",
    "**TODO** Try to give some weights, since the payments in Dec and Nov are more meaningful than the ones in Jul. Maybe check the first derivative of the series."
   ]
  },
  {
   "cell_type": "code",
   "execution_count": 43,
   "metadata": {
    "collapsed": true
   },
   "outputs": [],
   "source": [
    "def avg_payments(columns):\n",
    "    def ret(x):\n",
    "        retval = 0\n",
    "        for c in columns:\n",
    "            retval += x[c]\n",
    "        return retval / len(columns)\n",
    "    return ret\n",
    "\n",
    "def aggregate_last_payments(x):\n",
    "    #return (x['PAY_DEC'] + x['PAY_OCT'] + x['PAY_NOV'])/3\n",
    "    return avg_payments(['PAY_DEC', 'PAY_OCT', 'PAY_NOV'])\n",
    "def aggregate_first_payments(x):\n",
    "    return (x['PAY_JUL'] + x['PAY_AUG'] + x['PAY_SEP'])/3\n",
    "def aggregate_avg_payments(x):\n",
    "    return (x['PAY_JUL'] + x['PAY_AUG'] + x['PAY_SEP'] + x['PAY_DEC'] + x['PAY_OCT'] + x['PAY_NOV'])/6\n",
    "\n",
    "train['PAY_LAST_3'] = train.apply(avg_payments(['PAY_DEC', 'PAY_OCT', 'PAY_NOV']), axis=1)\n",
    "train['PAY_FIRST_3'] = train.apply(avg_payments(['PAY_JUL', 'PAY_AUG', 'PAY_SEP']), axis=1)\n",
    "train['PAY_AVG'] = train.apply(avg_payments(['PAY_JUL', 'PAY_AUG', 'PAY_SEP', 'PAY_OCT', 'PAY_NOV', 'PAY_DEC']), axis=1)"
   ]
  },
  {
   "cell_type": "code",
   "execution_count": 44,
   "metadata": {},
   "outputs": [
    {
     "data": {
      "text/plain": [
       "<matplotlib.axes._subplots.AxesSubplot at 0x10faa4128>"
      ]
     },
     "execution_count": 44,
     "metadata": {},
     "output_type": "execute_result"
    },
    {
     "data": {
      "image/png": "[encoded data removed]",
      "text/plain": [
       "<matplotlib.figure.Figure at 0x113abddd8>"
      ]
     },
     "metadata": {},
     "output_type": "display_data"
    }
   ],
   "source": [
    "sns.barplot(y = 'DEFAULT PAYMENT JAN', x = 'PAY_LAST_3', data=train)"
   ]
  },
  {
   "cell_type": "code",
   "execution_count": 45,
   "metadata": {},
   "outputs": [
    {
     "data": {
      "text/plain": [
       "<matplotlib.axes._subplots.AxesSubplot at 0x10fb026d8>"
      ]
     },
     "execution_count": 45,
     "metadata": {},
     "output_type": "execute_result"
    },
    {
     "data": {
      "image/png": "[encoded data removed]",
      "text/plain": [
       "<matplotlib.figure.Figure at 0x1102c06a0>"
      ]
     },
     "metadata": {},
     "output_type": "display_data"
    }
   ],
   "source": [
    "sns.barplot(y = 'DEFAULT PAYMENT JAN', x = 'PAY_FIRST_3', data=train)"
   ]
  },
  {
   "cell_type": "code",
   "execution_count": 46,
   "metadata": {
    "collapsed": true
   },
   "outputs": [],
   "source": [
    "train['PAY_LAST_3_CAT'] = pd.qcut(train['PAY_LAST_3'], q=3, labels=['PAY_EARLY', 'PAY_REG', 'PAY_LATE'])\n",
    "train['PAY_FIRST_3_CAT'] = pd.qcut(train['PAY_FIRST_3'], q=3, labels=['PAY_EARLY', 'PAY_REG', 'PAY_LATE'])\n",
    "train['PAY_AVG_CAT'] = pd.qcut(train['PAY_AVG'], q=3, labels=['PAY_EARLY', 'PAY_REG', 'PAY_LATE'])"
   ]
  },
  {
   "cell_type": "code",
   "execution_count": 47,
   "metadata": {},
   "outputs": [
    {
     "data": {
      "text/html": [
       "<div>\n",
       "<table border=\"1\" class=\"dataframe\">\n",
       "  <thead>\n",
       "    <tr>\n",
       "      <th>PAY_AVG_CAT</th>\n",
       "      <th colspan=\"3\" halign=\"left\">PAY_EARLY</th>\n",
       "      <th colspan=\"3\" halign=\"left\">PAY_REG</th>\n",
       "      <th colspan=\"3\" halign=\"left\">PAY_LATE</th>\n",
       "    </tr>\n",
       "    <tr>\n",
       "      <th>PAY_LAST_3_CAT</th>\n",
       "      <th>PAY_EARLY</th>\n",
       "      <th>PAY_REG</th>\n",
       "      <th>PAY_LATE</th>\n",
       "      <th>PAY_EARLY</th>\n",
       "      <th>PAY_REG</th>\n",
       "      <th>PAY_LATE</th>\n",
       "      <th>PAY_EARLY</th>\n",
       "      <th>PAY_REG</th>\n",
       "      <th>PAY_LATE</th>\n",
       "    </tr>\n",
       "    <tr>\n",
       "      <th>DEFAULT PAYMENT JAN</th>\n",
       "      <th></th>\n",
       "      <th></th>\n",
       "      <th></th>\n",
       "      <th></th>\n",
       "      <th></th>\n",
       "      <th></th>\n",
       "      <th></th>\n",
       "      <th></th>\n",
       "      <th></th>\n",
       "    </tr>\n",
       "  </thead>\n",
       "  <tbody>\n",
       "    <tr>\n",
       "      <th>0</th>\n",
       "      <td>0.844027</td>\n",
       "      <td>0.826793</td>\n",
       "      <td>0.433735</td>\n",
       "      <td>0.87169</td>\n",
       "      <td>0.888612</td>\n",
       "      <td>0.605263</td>\n",
       "      <td>0.730337</td>\n",
       "      <td>0.771357</td>\n",
       "      <td>0.450594</td>\n",
       "    </tr>\n",
       "    <tr>\n",
       "      <th>1</th>\n",
       "      <td>0.155973</td>\n",
       "      <td>0.173207</td>\n",
       "      <td>0.566265</td>\n",
       "      <td>0.12831</td>\n",
       "      <td>0.111388</td>\n",
       "      <td>0.394737</td>\n",
       "      <td>0.269663</td>\n",
       "      <td>0.228643</td>\n",
       "      <td>0.549406</td>\n",
       "    </tr>\n",
       "  </tbody>\n",
       "</table>\n",
       "</div>"
      ],
      "text/plain": [
       "PAY_AVG_CAT         PAY_EARLY                       PAY_REG            \\\n",
       "PAY_LAST_3_CAT      PAY_EARLY   PAY_REG  PAY_LATE PAY_EARLY   PAY_REG   \n",
       "DEFAULT PAYMENT JAN                                                     \n",
       "0                    0.844027  0.826793  0.433735   0.87169  0.888612   \n",
       "1                    0.155973  0.173207  0.566265   0.12831  0.111388   \n",
       "\n",
       "PAY_AVG_CAT                    PAY_LATE                      \n",
       "PAY_LAST_3_CAT       PAY_LATE PAY_EARLY   PAY_REG  PAY_LATE  \n",
       "DEFAULT PAYMENT JAN                                          \n",
       "0                    0.605263  0.730337  0.771357  0.450594  \n",
       "1                    0.394737  0.269663  0.228643  0.549406  "
      ]
     },
     "execution_count": 47,
     "metadata": {},
     "output_type": "execute_result"
    }
   ],
   "source": [
    "pd.crosstab(train['DEFAULT PAYMENT JAN'], [train['PAY_AVG_CAT'], train['PAY_LAST_3_CAT']], normalize=1)"
   ]
  },
  {
   "cell_type": "code",
   "execution_count": 48,
   "metadata": {},
   "outputs": [
    {
     "data": {
      "text/html": [
       "<div>\n",
       "<table border=\"1\" class=\"dataframe\">\n",
       "  <thead>\n",
       "    <tr style=\"text-align: right;\">\n",
       "      <th></th>\n",
       "      <th>PAY_AVG_CAT</th>\n",
       "      <th>PAY_EARLY</th>\n",
       "      <th>PAY_REG</th>\n",
       "      <th>PAY_LATE</th>\n",
       "    </tr>\n",
       "    <tr>\n",
       "      <th>PAY_FIRST_3_CAT</th>\n",
       "      <th>PAY_LAST_3_CAT</th>\n",
       "      <th></th>\n",
       "      <th></th>\n",
       "      <th></th>\n",
       "    </tr>\n",
       "  </thead>\n",
       "  <tbody>\n",
       "    <tr>\n",
       "      <th rowspan=\"3\" valign=\"top\">PAY_EARLY</th>\n",
       "      <th>PAY_EARLY</th>\n",
       "      <td>7429.0</td>\n",
       "      <td>NaN</td>\n",
       "      <td>NaN</td>\n",
       "    </tr>\n",
       "    <tr>\n",
       "      <th>PAY_REG</th>\n",
       "      <td>739.0</td>\n",
       "      <td>520.0</td>\n",
       "      <td>NaN</td>\n",
       "    </tr>\n",
       "    <tr>\n",
       "      <th>PAY_LATE</th>\n",
       "      <td>83.0</td>\n",
       "      <td>252.0</td>\n",
       "      <td>128.0</td>\n",
       "    </tr>\n",
       "    <tr>\n",
       "      <th rowspan=\"3\" valign=\"top\">PAY_REG</th>\n",
       "      <th>PAY_EARLY</th>\n",
       "      <td>908.0</td>\n",
       "      <td>851.0</td>\n",
       "      <td>NaN</td>\n",
       "    </tr>\n",
       "    <tr>\n",
       "      <th>PAY_REG</th>\n",
       "      <td>NaN</td>\n",
       "      <td>9526.0</td>\n",
       "      <td>NaN</td>\n",
       "    </tr>\n",
       "    <tr>\n",
       "      <th>PAY_LATE</th>\n",
       "      <td>NaN</td>\n",
       "      <td>14.0</td>\n",
       "      <td>2109.0</td>\n",
       "    </tr>\n",
       "    <tr>\n",
       "      <th rowspan=\"3\" valign=\"top\">PAY_LATE</th>\n",
       "      <th>PAY_EARLY</th>\n",
       "      <td>17.0</td>\n",
       "      <td>131.0</td>\n",
       "      <td>89.0</td>\n",
       "    </tr>\n",
       "    <tr>\n",
       "      <th>PAY_REG</th>\n",
       "      <td>NaN</td>\n",
       "      <td>NaN</td>\n",
       "      <td>1194.0</td>\n",
       "    </tr>\n",
       "    <tr>\n",
       "      <th>PAY_LATE</th>\n",
       "      <td>NaN</td>\n",
       "      <td>NaN</td>\n",
       "      <td>2894.0</td>\n",
       "    </tr>\n",
       "  </tbody>\n",
       "</table>\n",
       "</div>"
      ],
      "text/plain": [
       "PAY_AVG_CAT                     PAY_EARLY  PAY_REG  PAY_LATE\n",
       "PAY_FIRST_3_CAT PAY_LAST_3_CAT                              \n",
       "PAY_EARLY       PAY_EARLY          7429.0      NaN       NaN\n",
       "                PAY_REG             739.0    520.0       NaN\n",
       "                PAY_LATE             83.0    252.0     128.0\n",
       "PAY_REG         PAY_EARLY           908.0    851.0       NaN\n",
       "                PAY_REG               NaN   9526.0       NaN\n",
       "                PAY_LATE              NaN     14.0    2109.0\n",
       "PAY_LATE        PAY_EARLY            17.0    131.0      89.0\n",
       "                PAY_REG               NaN      NaN    1194.0\n",
       "                PAY_LATE              NaN      NaN    2894.0"
      ]
     },
     "execution_count": 48,
     "metadata": {},
     "output_type": "execute_result"
    }
   ],
   "source": [
    "train.groupby(['PAY_FIRST_3_CAT', 'PAY_LAST_3_CAT', 'PAY_AVG_CAT'])['DEFAULT PAYMENT JAN'].count().unstack()"
   ]
  },
  {
   "cell_type": "code",
   "execution_count": 49,
   "metadata": {},
   "outputs": [
    {
     "data": {
      "text/html": [
       "<div>\n",
       "<table border=\"1\" class=\"dataframe\">\n",
       "  <thead>\n",
       "    <tr style=\"text-align: right;\">\n",
       "      <th></th>\n",
       "      <th>PAY_AVG_CAT</th>\n",
       "      <th>PAY_EARLY</th>\n",
       "      <th>PAY_REG</th>\n",
       "      <th>PAY_LATE</th>\n",
       "    </tr>\n",
       "    <tr>\n",
       "      <th>PAY_FIRST_3_CAT</th>\n",
       "      <th>PAY_LAST_3_CAT</th>\n",
       "      <th></th>\n",
       "      <th></th>\n",
       "      <th></th>\n",
       "    </tr>\n",
       "  </thead>\n",
       "  <tbody>\n",
       "    <tr>\n",
       "      <th rowspan=\"3\" valign=\"top\">PAY_EARLY</th>\n",
       "      <th>PAY_EARLY</th>\n",
       "      <td>0.160048</td>\n",
       "      <td>NaN</td>\n",
       "      <td>NaN</td>\n",
       "    </tr>\n",
       "    <tr>\n",
       "      <th>PAY_REG</th>\n",
       "      <td>0.173207</td>\n",
       "      <td>0.165385</td>\n",
       "      <td>NaN</td>\n",
       "    </tr>\n",
       "    <tr>\n",
       "      <th>PAY_LATE</th>\n",
       "      <td>0.566265</td>\n",
       "      <td>0.388889</td>\n",
       "      <td>0.515625</td>\n",
       "    </tr>\n",
       "    <tr>\n",
       "      <th rowspan=\"3\" valign=\"top\">PAY_REG</th>\n",
       "      <th>PAY_EARLY</th>\n",
       "      <td>0.117841</td>\n",
       "      <td>0.105758</td>\n",
       "      <td>NaN</td>\n",
       "    </tr>\n",
       "    <tr>\n",
       "      <th>PAY_REG</th>\n",
       "      <td>NaN</td>\n",
       "      <td>0.108440</td>\n",
       "      <td>NaN</td>\n",
       "    </tr>\n",
       "    <tr>\n",
       "      <th>PAY_LATE</th>\n",
       "      <td>NaN</td>\n",
       "      <td>0.500000</td>\n",
       "      <td>0.465149</td>\n",
       "    </tr>\n",
       "    <tr>\n",
       "      <th rowspan=\"3\" valign=\"top\">PAY_LATE</th>\n",
       "      <th>PAY_EARLY</th>\n",
       "      <td>0.411765</td>\n",
       "      <td>0.274809</td>\n",
       "      <td>0.269663</td>\n",
       "    </tr>\n",
       "    <tr>\n",
       "      <th>PAY_REG</th>\n",
       "      <td>NaN</td>\n",
       "      <td>NaN</td>\n",
       "      <td>0.228643</td>\n",
       "    </tr>\n",
       "    <tr>\n",
       "      <th>PAY_LATE</th>\n",
       "      <td>NaN</td>\n",
       "      <td>NaN</td>\n",
       "      <td>0.612301</td>\n",
       "    </tr>\n",
       "  </tbody>\n",
       "</table>\n",
       "</div>"
      ],
      "text/plain": [
       "PAY_AVG_CAT                     PAY_EARLY   PAY_REG  PAY_LATE\n",
       "PAY_FIRST_3_CAT PAY_LAST_3_CAT                               \n",
       "PAY_EARLY       PAY_EARLY        0.160048       NaN       NaN\n",
       "                PAY_REG          0.173207  0.165385       NaN\n",
       "                PAY_LATE         0.566265  0.388889  0.515625\n",
       "PAY_REG         PAY_EARLY        0.117841  0.105758       NaN\n",
       "                PAY_REG               NaN  0.108440       NaN\n",
       "                PAY_LATE              NaN  0.500000  0.465149\n",
       "PAY_LATE        PAY_EARLY        0.411765  0.274809  0.269663\n",
       "                PAY_REG               NaN       NaN  0.228643\n",
       "                PAY_LATE              NaN       NaN  0.612301"
      ]
     },
     "execution_count": 49,
     "metadata": {},
     "output_type": "execute_result"
    }
   ],
   "source": [
    "train.groupby(['PAY_FIRST_3_CAT', 'PAY_LAST_3_CAT', 'PAY_AVG_CAT'])['DEFAULT PAYMENT JAN'].mean().unstack()"
   ]
  },
  {
   "cell_type": "code",
   "execution_count": 50,
   "metadata": {},
   "outputs": [
    {
     "data": {
      "text/html": [
       "<div>\n",
       "<table border=\"1\" class=\"dataframe\">\n",
       "  <thead>\n",
       "    <tr style=\"text-align: right;\">\n",
       "      <th>PAY_LAST_3</th>\n",
       "      <th>[-2, -0.333]</th>\n",
       "      <th>(-0.333, 0]</th>\n",
       "      <th>(0, 7]</th>\n",
       "    </tr>\n",
       "    <tr>\n",
       "      <th>DEFAULT PAYMENT JAN</th>\n",
       "      <th></th>\n",
       "      <th></th>\n",
       "      <th></th>\n",
       "    </tr>\n",
       "  </thead>\n",
       "  <tbody>\n",
       "    <tr>\n",
       "      <th>0</th>\n",
       "      <td>0.845836</td>\n",
       "      <td>0.873111</td>\n",
       "      <td>0.457847</td>\n",
       "    </tr>\n",
       "    <tr>\n",
       "      <th>1</th>\n",
       "      <td>0.154164</td>\n",
       "      <td>0.126889</td>\n",
       "      <td>0.542153</td>\n",
       "    </tr>\n",
       "  </tbody>\n",
       "</table>\n",
       "</div>"
      ],
      "text/plain": [
       "PAY_LAST_3           [-2, -0.333]  (-0.333, 0]    (0, 7]\n",
       "DEFAULT PAYMENT JAN                                     \n",
       "0                        0.845836     0.873111  0.457847\n",
       "1                        0.154164     0.126889  0.542153"
      ]
     },
     "execution_count": 50,
     "metadata": {},
     "output_type": "execute_result"
    }
   ],
   "source": [
    "x = pd.qcut(train['PAY_LAST_3'], q=3)\n",
    "pd.crosstab(train['DEFAULT PAYMENT JAN'], x, normalize=1)"
   ]
  },
  {
   "cell_type": "code",
   "execution_count": 51,
   "metadata": {},
   "outputs": [
    {
     "data": {
      "text/plain": [
       "<matplotlib.axes._subplots.AxesSubplot at 0x11567cc88>"
      ]
     },
     "execution_count": 51,
     "metadata": {},
     "output_type": "execute_result"
    },
    {
     "data": {
      "image/png": "[encoded data removed]",
      "text/plain": [
       "<matplotlib.figure.Figure at 0x115596080>"
      ]
     },
     "metadata": {},
     "output_type": "display_data"
    }
   ],
   "source": [
    "plt.title('Correlation between payments', size=15, y=1.1)\n",
    "sns.heatmap(train.loc[:, ['PAY_JUL', 'PAY_AUG', 'PAY_SEP', 'PAY_OCT', 'PAY_NOV', 'PAY_DEC', 'DEFAULT PAYMENT JAN']].corr(), annot=True)"
   ]
  },
  {
   "cell_type": "markdown",
   "metadata": {},
   "source": [
    "We can observe that the payment in December is the most correlated with a default in January, as we can expect"
   ]
  },
  {
   "cell_type": "code",
   "execution_count": 52,
   "metadata": {
    "collapsed": true
   },
   "outputs": [],
   "source": [
    "def get_trend(y):\n",
    "    N = len(y)\n",
    "    x = range(N)\n",
    "    B = (sum(x[i] * y[i] for i in range(N)) - 1./N*sum(x)*sum(y)) / (sum(x[i]**2 for i in range(N)) - 1./N*sum(x)**2)\n",
    "    return B\n"
   ]
  },
  {
   "cell_type": "code",
   "execution_count": 53,
   "metadata": {
    "collapsed": true
   },
   "outputs": [],
   "source": [
    "cols = ['PAY_JUL', 'PAY_AUG', 'PAY_SEP', 'PAY_OCT', 'PAY_NOV', 'PAY_DEC']\n",
    "def get_payments(x):\n",
    "    return [v for v in x.loc[cols]]\n",
    "\n",
    "def get_trend_from_payments(row):\n",
    "    return get_trend(get_payments(row))\n",
    "    "
   ]
  },
  {
   "cell_type": "code",
   "execution_count": 54,
   "metadata": {
    "collapsed": true
   },
   "outputs": [],
   "source": [
    "res = train.apply(get_trend_from_payments, axis=1)"
   ]
  },
  {
   "cell_type": "code",
   "execution_count": 55,
   "metadata": {},
   "outputs": [
    {
     "name": "stdout",
     "output_type": "stream",
     "text": [
      "0.885714285714\n"
     ]
    },
    {
     "data": {
      "image/png": "[encoded data removed]",
      "text/plain": [
       "<matplotlib.figure.Figure at 0x1170cb1d0>"
      ]
     },
     "metadata": {},
     "output_type": "display_data"
    }
   ],
   "source": [
    "customer = 64\n",
    "\n",
    "payments = get_payments(train.loc[customer, :])\n",
    "trend = get_trend(payments)\n",
    "\n",
    "plt.plot(range(6), payments)\n",
    "print(trend)"
   ]
  },
  {
   "cell_type": "code",
   "execution_count": 56,
   "metadata": {},
   "outputs": [
    {
     "data": {
      "text/html": [
       "<div>\n",
       "<table border=\"1\" class=\"dataframe\">\n",
       "  <thead>\n",
       "    <tr style=\"text-align: right;\">\n",
       "      <th>PAY_AVG_CAT</th>\n",
       "      <th>PAY_EARLY</th>\n",
       "      <th>PAY_REG</th>\n",
       "      <th>PAY_LATE</th>\n",
       "    </tr>\n",
       "    <tr>\n",
       "      <th>PAY_TREND_CAT</th>\n",
       "      <th></th>\n",
       "      <th></th>\n",
       "      <th></th>\n",
       "    </tr>\n",
       "  </thead>\n",
       "  <tbody>\n",
       "    <tr>\n",
       "      <th>DEC</th>\n",
       "      <td>0.133381</td>\n",
       "      <td>0.109874</td>\n",
       "      <td>0.451956</td>\n",
       "    </tr>\n",
       "    <tr>\n",
       "      <th>INC</th>\n",
       "      <td>0.204298</td>\n",
       "      <td>0.182545</td>\n",
       "      <td>0.514000</td>\n",
       "    </tr>\n",
       "  </tbody>\n",
       "</table>\n",
       "</div>"
      ],
      "text/plain": [
       "PAY_AVG_CAT    PAY_EARLY   PAY_REG  PAY_LATE\n",
       "PAY_TREND_CAT                               \n",
       "DEC             0.133381  0.109874  0.451956\n",
       "INC             0.204298  0.182545  0.514000"
      ]
     },
     "execution_count": 56,
     "metadata": {},
     "output_type": "execute_result"
    }
   ],
   "source": [
    "train['PAY_TREND'] = res\n",
    "train['PAY_TREND_CAT'] = pd.qcut(train['PAY_TREND'], q = 2, labels=['DEC', 'INC'])\n",
    "\n",
    "train.groupby(['PAY_TREND_CAT', 'PAY_AVG_CAT'])['DEFAULT PAYMENT JAN'].mean().unstack()"
   ]
  },
  {
   "cell_type": "code",
   "execution_count": 57,
   "metadata": {
    "collapsed": true
   },
   "outputs": [],
   "source": [
    "def aggregate_payment_weight(x):\n",
    "    cols = ['PAY_JUL', 'PAY_AUG', 'PAY_SEP', 'PAY_OCT', 'PAY_NOV', 'PAY_DEC']\n",
    "    weights = [1, 2, 3, 4, 5, 6]\n",
    "    ret = 0\n",
    "    for c,w in zip(cols, weights):\n",
    "        ret += x[c]*w\n",
    "    return ret"
   ]
  },
  {
   "cell_type": "code",
   "execution_count": 58,
   "metadata": {
    "collapsed": true
   },
   "outputs": [],
   "source": [
    "train['PAY_LAST_2_CAT'] = pd.qcut(train.apply(avg_payments(['PAY_DEC', 'PAY_NOV']), axis=1), q=2, labels=['EARLY', 'LATE'])"
   ]
  },
  {
   "cell_type": "code",
   "execution_count": 59,
   "metadata": {},
   "outputs": [
    {
     "data": {
      "text/html": [
       "<div>\n",
       "<table border=\"1\" class=\"dataframe\">\n",
       "  <thead>\n",
       "    <tr style=\"text-align: right;\">\n",
       "      <th>PAY_DEC</th>\n",
       "      <th>-2</th>\n",
       "      <th>-1</th>\n",
       "      <th>0</th>\n",
       "      <th>1</th>\n",
       "      <th>2</th>\n",
       "      <th>3</th>\n",
       "      <th>4</th>\n",
       "      <th>5</th>\n",
       "      <th>6</th>\n",
       "      <th>7</th>\n",
       "      <th>8</th>\n",
       "    </tr>\n",
       "    <tr>\n",
       "      <th>PAY_LAST_2_CAT</th>\n",
       "      <th></th>\n",
       "      <th></th>\n",
       "      <th></th>\n",
       "      <th></th>\n",
       "      <th></th>\n",
       "      <th></th>\n",
       "      <th></th>\n",
       "      <th></th>\n",
       "      <th></th>\n",
       "      <th></th>\n",
       "      <th></th>\n",
       "    </tr>\n",
       "  </thead>\n",
       "  <tbody>\n",
       "    <tr>\n",
       "      <th>EARLY</th>\n",
       "      <td>2478.0</td>\n",
       "      <td>4697.0</td>\n",
       "      <td>13184.0</td>\n",
       "      <td>1644.0</td>\n",
       "      <td>NaN</td>\n",
       "      <td>NaN</td>\n",
       "      <td>NaN</td>\n",
       "      <td>NaN</td>\n",
       "      <td>NaN</td>\n",
       "      <td>NaN</td>\n",
       "      <td>NaN</td>\n",
       "    </tr>\n",
       "    <tr>\n",
       "      <th>LATE</th>\n",
       "      <td>NaN</td>\n",
       "      <td>400.0</td>\n",
       "      <td>NaN</td>\n",
       "      <td>1665.0</td>\n",
       "      <td>2399.0</td>\n",
       "      <td>291.0</td>\n",
       "      <td>70.0</td>\n",
       "      <td>23.0</td>\n",
       "      <td>10.0</td>\n",
       "      <td>6.0</td>\n",
       "      <td>17.0</td>\n",
       "    </tr>\n",
       "  </tbody>\n",
       "</table>\n",
       "</div>"
      ],
      "text/plain": [
       "PAY_DEC             -2      -1        0       1       2      3     4     5  \\\n",
       "PAY_LAST_2_CAT                                                               \n",
       "EARLY           2478.0  4697.0  13184.0  1644.0     NaN    NaN   NaN   NaN   \n",
       "LATE               NaN   400.0      NaN  1665.0  2399.0  291.0  70.0  23.0   \n",
       "\n",
       "PAY_DEC            6    7     8  \n",
       "PAY_LAST_2_CAT                   \n",
       "EARLY            NaN  NaN   NaN  \n",
       "LATE            10.0  6.0  17.0  "
      ]
     },
     "execution_count": 59,
     "metadata": {},
     "output_type": "execute_result"
    }
   ],
   "source": [
    "train.groupby(['PAY_LAST_2_CAT', 'PAY_DEC'])['DEFAULT PAYMENT JAN'].count().unstack()"
   ]
  },
  {
   "cell_type": "code",
   "execution_count": null,
   "metadata": {
    "collapsed": true
   },
   "outputs": [],
   "source": []
  },
  {
   "cell_type": "code",
   "execution_count": null,
   "metadata": {
    "collapsed": true
   },
   "outputs": [],
   "source": []
  },
  {
   "cell_type": "code",
   "execution_count": null,
   "metadata": {
    "collapsed": true
   },
   "outputs": [],
   "source": []
  },
  {
   "cell_type": "code",
   "execution_count": null,
   "metadata": {
    "collapsed": true
   },
   "outputs": [],
   "source": []
  },
  {
   "cell_type": "code",
   "execution_count": null,
   "metadata": {
    "collapsed": true
   },
   "outputs": [],
   "source": []
  },
  {
   "cell_type": "code",
   "execution_count": null,
   "metadata": {
    "collapsed": true
   },
   "outputs": [],
   "source": []
  },
  {
   "cell_type": "markdown",
   "metadata": {},
   "source": [
    "# BILL AMT *"
   ]
  },
  {
   "cell_type": "code",
   "execution_count": 60,
   "metadata": {
    "collapsed": true
   },
   "outputs": [],
   "source": [
    "bill_cols = ['BILL_AMT_JUL', 'BILL_AMT_AUG', 'BILL_AMT_SEP', 'BILL_AMT_OCT', 'BILL_AMT_NOV', 'BILL_AMT_DEC']"
   ]
  },
  {
   "cell_type": "code",
   "execution_count": 61,
   "metadata": {
    "collapsed": true
   },
   "outputs": [],
   "source": [
    "def aggregate_bills(x):\n",
    "    return sum([x[c] for c in bill_cols])\n"
   ]
  },
  {
   "cell_type": "code",
   "execution_count": 62,
   "metadata": {
    "collapsed": true
   },
   "outputs": [],
   "source": [
    "train['BILL_SUM'] = train.apply(aggregate_bills, axis=1)"
   ]
  },
  {
   "cell_type": "code",
   "execution_count": 63,
   "metadata": {},
   "outputs": [
    {
     "data": {
      "text/plain": [
       "<matplotlib.axes._subplots.AxesSubplot at 0x116984cf8>"
      ]
     },
     "execution_count": 63,
     "metadata": {},
     "output_type": "execute_result"
    },
    {
     "data": {
      "image/png": "[encoded data removed]",
      "text/plain": [
       "<matplotlib.figure.Figure at 0x1170ddba8>"
      ]
     },
     "metadata": {},
     "output_type": "display_data"
    }
   ],
   "source": [
    "sns.distplot(train['BILL_SUM'])"
   ]
  },
  {
   "cell_type": "code",
   "execution_count": 64,
   "metadata": {},
   "outputs": [
    {
     "data": {
      "text/html": [
       "<div>\n",
       "<table border=\"1\" class=\"dataframe\">\n",
       "  <thead>\n",
       "    <tr style=\"text-align: right;\">\n",
       "      <th></th>\n",
       "      <th>BILL_AMT_JUL</th>\n",
       "      <th>BILL_AMT_AUG</th>\n",
       "      <th>BILL_AMT_SEP</th>\n",
       "      <th>BILL_AMT_OCT</th>\n",
       "      <th>BILL_AMT_NOV</th>\n",
       "      <th>BILL_AMT_DEC</th>\n",
       "      <th>DEFAULT PAYMENT JAN</th>\n",
       "    </tr>\n",
       "  </thead>\n",
       "  <tbody>\n",
       "    <tr>\n",
       "      <th>BILL_AMT_JUL</th>\n",
       "      <td>1.000000</td>\n",
       "      <td>0.944904</td>\n",
       "      <td>0.900106</td>\n",
       "      <td>0.854035</td>\n",
       "      <td>0.832461</td>\n",
       "      <td>0.803671</td>\n",
       "      <td>-0.008389</td>\n",
       "    </tr>\n",
       "    <tr>\n",
       "      <th>BILL_AMT_AUG</th>\n",
       "      <td>0.944904</td>\n",
       "      <td>1.000000</td>\n",
       "      <td>0.938963</td>\n",
       "      <td>0.884777</td>\n",
       "      <td>0.859968</td>\n",
       "      <td>0.830410</td>\n",
       "      <td>-0.009064</td>\n",
       "    </tr>\n",
       "    <tr>\n",
       "      <th>BILL_AMT_SEP</th>\n",
       "      <td>0.900106</td>\n",
       "      <td>0.938963</td>\n",
       "      <td>1.000000</td>\n",
       "      <td>0.925838</td>\n",
       "      <td>0.893716</td>\n",
       "      <td>0.861580</td>\n",
       "      <td>-0.011693</td>\n",
       "    </tr>\n",
       "    <tr>\n",
       "      <th>BILL_AMT_OCT</th>\n",
       "      <td>0.854035</td>\n",
       "      <td>0.884777</td>\n",
       "      <td>0.925838</td>\n",
       "      <td>1.000000</td>\n",
       "      <td>0.929516</td>\n",
       "      <td>0.892775</td>\n",
       "      <td>-0.014879</td>\n",
       "    </tr>\n",
       "    <tr>\n",
       "      <th>BILL_AMT_NOV</th>\n",
       "      <td>0.832461</td>\n",
       "      <td>0.859968</td>\n",
       "      <td>0.893716</td>\n",
       "      <td>0.929516</td>\n",
       "      <td>1.000000</td>\n",
       "      <td>0.951679</td>\n",
       "      <td>-0.013641</td>\n",
       "    </tr>\n",
       "    <tr>\n",
       "      <th>BILL_AMT_DEC</th>\n",
       "      <td>0.803671</td>\n",
       "      <td>0.830410</td>\n",
       "      <td>0.861580</td>\n",
       "      <td>0.892775</td>\n",
       "      <td>0.951679</td>\n",
       "      <td>1.000000</td>\n",
       "      <td>-0.018926</td>\n",
       "    </tr>\n",
       "    <tr>\n",
       "      <th>DEFAULT PAYMENT JAN</th>\n",
       "      <td>-0.008389</td>\n",
       "      <td>-0.009064</td>\n",
       "      <td>-0.011693</td>\n",
       "      <td>-0.014879</td>\n",
       "      <td>-0.013641</td>\n",
       "      <td>-0.018926</td>\n",
       "      <td>1.000000</td>\n",
       "    </tr>\n",
       "  </tbody>\n",
       "</table>\n",
       "</div>"
      ],
      "text/plain": [
       "                     BILL_AMT_JUL  BILL_AMT_AUG  BILL_AMT_SEP  BILL_AMT_OCT  \\\n",
       "BILL_AMT_JUL             1.000000      0.944904      0.900106      0.854035   \n",
       "BILL_AMT_AUG             0.944904      1.000000      0.938963      0.884777   \n",
       "BILL_AMT_SEP             0.900106      0.938963      1.000000      0.925838   \n",
       "BILL_AMT_OCT             0.854035      0.884777      0.925838      1.000000   \n",
       "BILL_AMT_NOV             0.832461      0.859968      0.893716      0.929516   \n",
       "BILL_AMT_DEC             0.803671      0.830410      0.861580      0.892775   \n",
       "DEFAULT PAYMENT JAN     -0.008389     -0.009064     -0.011693     -0.014879   \n",
       "\n",
       "                     BILL_AMT_NOV  BILL_AMT_DEC  DEFAULT PAYMENT JAN  \n",
       "BILL_AMT_JUL             0.832461      0.803671            -0.008389  \n",
       "BILL_AMT_AUG             0.859968      0.830410            -0.009064  \n",
       "BILL_AMT_SEP             0.893716      0.861580            -0.011693  \n",
       "BILL_AMT_OCT             0.929516      0.892775            -0.014879  \n",
       "BILL_AMT_NOV             1.000000      0.951679            -0.013641  \n",
       "BILL_AMT_DEC             0.951679      1.000000            -0.018926  \n",
       "DEFAULT PAYMENT JAN     -0.013641     -0.018926             1.000000  "
      ]
     },
     "execution_count": 64,
     "metadata": {},
     "output_type": "execute_result"
    }
   ],
   "source": [
    "train.loc[:, bill_cols + ['DEFAULT PAYMENT JAN']].corr()"
   ]
  },
  {
   "cell_type": "code",
   "execution_count": 65,
   "metadata": {},
   "outputs": [
    {
     "data": {
      "text/plain": [
       "BILL_AMT_JUL          0\n",
       "BILL_AMT_AUG    462.856\n",
       "BILL_AMT_SEP    450.006\n",
       "BILL_AMT_OCT    459.994\n",
       "BILL_AMT_NOV    429.852\n",
       "BILL_AMT_DEC     411.01\n",
       "Name: 35, dtype: object"
      ]
     },
     "execution_count": 65,
     "metadata": {},
     "output_type": "execute_result"
    }
   ],
   "source": [
    "customer = 35\n",
    "bills = train.loc[customer, bill_cols]\n",
    "bills"
   ]
  },
  {
   "cell_type": "markdown",
   "metadata": {},
   "source": [
    "# PAY AMT"
   ]
  },
  {
   "cell_type": "code",
   "execution_count": 66,
   "metadata": {
    "collapsed": true
   },
   "outputs": [],
   "source": [
    "pay_amt_cols = ['PAY_AMT_JUL', 'PAY_AMT_AUG', 'PAY_AMT_SEP', 'PAY_AMT_OCT', 'PAY_AMT_NOV', 'PAY_AMT_DEC']"
   ]
  },
  {
   "cell_type": "code",
   "execution_count": 67,
   "metadata": {
    "collapsed": true
   },
   "outputs": [],
   "source": [
    "def aggregate_payment_amt(x):\n",
    "    return sum([x[c] for c in pay_amt_cols])"
   ]
  },
  {
   "cell_type": "code",
   "execution_count": 68,
   "metadata": {
    "collapsed": true
   },
   "outputs": [],
   "source": [
    "train['PAY_AMT_SUM'] = train.apply(aggregate_payment_amt, axis=1)"
   ]
  },
  {
   "cell_type": "code",
   "execution_count": 69,
   "metadata": {},
   "outputs": [
    {
     "data": {
      "text/plain": [
       "count     26884.000000\n",
       "mean        950.194554\n",
       "std        1842.985628\n",
       "min           0.000000\n",
       "25%         199.803294\n",
       "50%         430.582918\n",
       "75%        1001.908388\n",
       "max      112220.358100\n",
       "Name: PAY_AMT_SUM, dtype: float64"
      ]
     },
     "execution_count": 69,
     "metadata": {},
     "output_type": "execute_result"
    }
   ],
   "source": [
    "train['PAY_AMT_SUM'].describe()"
   ]
  },
  {
   "cell_type": "code",
   "execution_count": 70,
   "metadata": {},
   "outputs": [
    {
     "data": {
      "text/html": [
       "<div>\n",
       "<table border=\"1\" class=\"dataframe\">\n",
       "  <thead>\n",
       "    <tr style=\"text-align: right;\">\n",
       "      <th></th>\n",
       "      <th>PAY_AMT_JUL</th>\n",
       "      <th>PAY_AMT_AUG</th>\n",
       "      <th>PAY_AMT_SEP</th>\n",
       "      <th>PAY_AMT_OCT</th>\n",
       "      <th>PAY_AMT_NOV</th>\n",
       "      <th>PAY_AMT_DEC</th>\n",
       "      <th>DEFAULT PAYMENT JAN</th>\n",
       "    </tr>\n",
       "  </thead>\n",
       "  <tbody>\n",
       "    <tr>\n",
       "      <th>PAY_AMT_JUL</th>\n",
       "      <td>1.000000</td>\n",
       "      <td>0.158806</td>\n",
       "      <td>0.160183</td>\n",
       "      <td>0.164051</td>\n",
       "      <td>0.165197</td>\n",
       "      <td>0.184515</td>\n",
       "      <td>-0.051564</td>\n",
       "    </tr>\n",
       "    <tr>\n",
       "      <th>PAY_AMT_AUG</th>\n",
       "      <td>0.158806</td>\n",
       "      <td>1.000000</td>\n",
       "      <td>0.147344</td>\n",
       "      <td>0.158695</td>\n",
       "      <td>0.178662</td>\n",
       "      <td>0.146172</td>\n",
       "      <td>-0.055395</td>\n",
       "    </tr>\n",
       "    <tr>\n",
       "      <th>PAY_AMT_SEP</th>\n",
       "      <td>0.160183</td>\n",
       "      <td>0.147344</td>\n",
       "      <td>1.000000</td>\n",
       "      <td>0.227557</td>\n",
       "      <td>0.193831</td>\n",
       "      <td>0.211294</td>\n",
       "      <td>-0.057521</td>\n",
       "    </tr>\n",
       "    <tr>\n",
       "      <th>PAY_AMT_OCT</th>\n",
       "      <td>0.164051</td>\n",
       "      <td>0.158695</td>\n",
       "      <td>0.227557</td>\n",
       "      <td>1.000000</td>\n",
       "      <td>0.262045</td>\n",
       "      <td>0.263506</td>\n",
       "      <td>-0.057172</td>\n",
       "    </tr>\n",
       "    <tr>\n",
       "      <th>PAY_AMT_NOV</th>\n",
       "      <td>0.165197</td>\n",
       "      <td>0.178662</td>\n",
       "      <td>0.193831</td>\n",
       "      <td>0.262045</td>\n",
       "      <td>1.000000</td>\n",
       "      <td>0.308484</td>\n",
       "      <td>-0.061103</td>\n",
       "    </tr>\n",
       "    <tr>\n",
       "      <th>PAY_AMT_DEC</th>\n",
       "      <td>0.184515</td>\n",
       "      <td>0.146172</td>\n",
       "      <td>0.211294</td>\n",
       "      <td>0.263506</td>\n",
       "      <td>0.308484</td>\n",
       "      <td>1.000000</td>\n",
       "      <td>-0.073131</td>\n",
       "    </tr>\n",
       "    <tr>\n",
       "      <th>DEFAULT PAYMENT JAN</th>\n",
       "      <td>-0.051564</td>\n",
       "      <td>-0.055395</td>\n",
       "      <td>-0.057521</td>\n",
       "      <td>-0.057172</td>\n",
       "      <td>-0.061103</td>\n",
       "      <td>-0.073131</td>\n",
       "      <td>1.000000</td>\n",
       "    </tr>\n",
       "  </tbody>\n",
       "</table>\n",
       "</div>"
      ],
      "text/plain": [
       "                     PAY_AMT_JUL  PAY_AMT_AUG  PAY_AMT_SEP  PAY_AMT_OCT  \\\n",
       "PAY_AMT_JUL             1.000000     0.158806     0.160183     0.164051   \n",
       "PAY_AMT_AUG             0.158806     1.000000     0.147344     0.158695   \n",
       "PAY_AMT_SEP             0.160183     0.147344     1.000000     0.227557   \n",
       "PAY_AMT_OCT             0.164051     0.158695     0.227557     1.000000   \n",
       "PAY_AMT_NOV             0.165197     0.178662     0.193831     0.262045   \n",
       "PAY_AMT_DEC             0.184515     0.146172     0.211294     0.263506   \n",
       "DEFAULT PAYMENT JAN    -0.051564    -0.055395    -0.057521    -0.057172   \n",
       "\n",
       "                     PAY_AMT_NOV  PAY_AMT_DEC  DEFAULT PAYMENT JAN  \n",
       "PAY_AMT_JUL             0.165197     0.184515            -0.051564  \n",
       "PAY_AMT_AUG             0.178662     0.146172            -0.055395  \n",
       "PAY_AMT_SEP             0.193831     0.211294            -0.057521  \n",
       "PAY_AMT_OCT             0.262045     0.263506            -0.057172  \n",
       "PAY_AMT_NOV             1.000000     0.308484            -0.061103  \n",
       "PAY_AMT_DEC             0.308484     1.000000            -0.073131  \n",
       "DEFAULT PAYMENT JAN    -0.061103    -0.073131             1.000000  "
      ]
     },
     "execution_count": 70,
     "metadata": {},
     "output_type": "execute_result"
    }
   ],
   "source": [
    "train.loc[:, pay_amt_cols + ['DEFAULT PAYMENT JAN']].corr()"
   ]
  },
  {
   "cell_type": "code",
   "execution_count": null,
   "metadata": {
    "collapsed": true
   },
   "outputs": [],
   "source": []
  },
  {
   "cell_type": "code",
   "execution_count": 71,
   "metadata": {},
   "outputs": [
    {
     "data": {
      "text/plain": [
       "CUST_COD                  31563822\n",
       "LIMIT_BAL                  5962.72\n",
       "SEX                              F\n",
       "EDUCATION              high school\n",
       "MARRIAGE                    single\n",
       "BIRTH_DATE              16/01/1991\n",
       "PAY_DEC                         -1\n",
       "PAY_NOV                         -1\n",
       "PAY_OCT                         -1\n",
       "PAY_SEP                          0\n",
       "PAY_AUG                         -1\n",
       "PAY_JUL                         -1\n",
       "BILL_AMT_DEC               49.9676\n",
       "BILL_AMT_NOV               93.0781\n",
       "BILL_AMT_OCT               89.1725\n",
       "BILL_AMT_SEP               11.6273\n",
       "BILL_AMT_AUG               36.1043\n",
       "BILL_AMT_JUL               11.6273\n",
       "PAY_AMT_DEC                136.993\n",
       "PAY_AMT_NOV                89.1725\n",
       "PAY_AMT_OCT                      0\n",
       "PAY_AMT_SEP                36.1043\n",
       "PAY_AMT_AUG                11.6273\n",
       "PAY_AMT_JUL                33.1527\n",
       "DEFAULT PAYMENT JAN              0\n",
       "AGE                             26\n",
       "PAY_SUM                         -5\n",
       "PAY_SUM_NORM                    -5\n",
       "PAYER_TYPE               PAY EARLY\n",
       "PAY_LAST_3                      -1\n",
       "PAY_FIRST_3              -0.666667\n",
       "PAY_AVG                  -0.833333\n",
       "PAY_LAST_3_CAT           PAY_EARLY\n",
       "PAY_FIRST_3_CAT          PAY_EARLY\n",
       "PAY_AVG_CAT              PAY_EARLY\n",
       "PAY_TREND               -0.0285714\n",
       "PAY_TREND_CAT                  DEC\n",
       "PAY_LAST_2_CAT               EARLY\n",
       "BILL_SUM                   291.577\n",
       "PAY_AMT_SUM                 307.05\n",
       "Name: 1832, dtype: object"
      ]
     },
     "execution_count": 71,
     "metadata": {},
     "output_type": "execute_result"
    }
   ],
   "source": [
    "#1831\n",
    "customer = 1832\n",
    "\n",
    "train.loc[customer, :]"
   ]
  },
  {
   "cell_type": "code",
   "execution_count": 72,
   "metadata": {
    "collapsed": true
   },
   "outputs": [],
   "source": [
    "def get_trend_from_bills(x):\n",
    "    return get_trend([x[c] for c in bill_cols])\n",
    "\n",
    "train['BILL_TREND'] = train.apply(get_trend_from_bills, axis=1)"
   ]
  },
  {
   "cell_type": "code",
   "execution_count": 73,
   "metadata": {},
   "outputs": [
    {
     "name": "stdout",
     "output_type": "stream",
     "text": [
      "Default payment: 0, BILL_TREND: 112.22690857142858\n"
     ]
    },
    {
     "data": {
      "image/png": "[encoded data removed]",
      "text/plain": [
       "<matplotlib.figure.Figure at 0x115108438>"
      ]
     },
     "metadata": {},
     "output_type": "display_data"
    },
    {
     "data": {
      "text/plain": [
       "[<matplotlib.lines.Line2D at 0x1153cfb70>]"
      ]
     },
     "execution_count": 73,
     "metadata": {},
     "output_type": "execute_result"
    },
    {
     "data": {
      "image/png": "[encoded data removed]",
      "text/plain": [
       "<matplotlib.figure.Figure at 0x115773240>"
      ]
     },
     "metadata": {},
     "output_type": "display_data"
    }
   ],
   "source": [
    "customer = train.sample()\n",
    "customer = customer.index.item()\n",
    "\n",
    "bills = train.loc[customer, bill_cols]\n",
    "pay_amts = train.loc[customer, pay_amt_cols]\n",
    "\n",
    "print(\"Default payment: {0}, BILL_TREND: {1}\".format(train.loc[customer, 'DEFAULT PAYMENT JAN'], train.loc[customer, 'BILL_TREND']))\n",
    "plt.plot(range(6), bills)\n",
    "plt.show()\n",
    "plt.plot(range(6), pay_amts)\n"
   ]
  },
  {
   "cell_type": "code",
   "execution_count": null,
   "metadata": {
    "collapsed": true
   },
   "outputs": [],
   "source": []
  },
  {
   "cell_type": "markdown",
   "metadata": {},
   "source": [
    "# ANALYZE TEST DATA"
   ]
  },
  {
   "cell_type": "code",
   "execution_count": 74,
   "metadata": {
    "collapsed": true
   },
   "outputs": [],
   "source": [
    "with open('data/test.csv') as f:\n",
    "    clean_file = [line for line in map(lambda s: s.strip().replace('\"', ''), f.readlines()) if line != '']\n",
    "\n",
    "with open('data/test_clean.csv', 'w') as f:\n",
    "    f.write('\\n'.join(clean_file))"
   ]
  },
  {
   "cell_type": "code",
   "execution_count": 75,
   "metadata": {
    "collapsed": true
   },
   "outputs": [],
   "source": [
    "test = pd.read_csv('data/test_clean.csv', sep=';')"
   ]
  },
  {
   "cell_type": "code",
   "execution_count": 76,
   "metadata": {},
   "outputs": [
    {
     "data": {
      "text/html": [
       "<div>\n",
       "<table border=\"1\" class=\"dataframe\">\n",
       "  <thead>\n",
       "    <tr style=\"text-align: right;\">\n",
       "      <th></th>\n",
       "      <th>CUST_COD</th>\n",
       "      <th>LIMIT_BAL</th>\n",
       "      <th>SEX</th>\n",
       "      <th>EDUCATION</th>\n",
       "      <th>MARRIAGE</th>\n",
       "      <th>BIRTH_DATE</th>\n",
       "      <th>PAY_DEC</th>\n",
       "      <th>PAY_NOV</th>\n",
       "      <th>PAY_OCT</th>\n",
       "      <th>PAY_SEP</th>\n",
       "      <th>...</th>\n",
       "      <th>BILL_AMT_SEP</th>\n",
       "      <th>BILL_AMT_AUG</th>\n",
       "      <th>BILL_AMT_JUL</th>\n",
       "      <th>PAY_AMT_DEC</th>\n",
       "      <th>PAY_AMT_NOV</th>\n",
       "      <th>PAY_AMT_OCT</th>\n",
       "      <th>PAY_AMT_SEP</th>\n",
       "      <th>PAY_AMT_AUG</th>\n",
       "      <th>PAY_AMT_JUL</th>\n",
       "      <th>DEFAULT PAYMENT JAN</th>\n",
       "    </tr>\n",
       "  </thead>\n",
       "  <tbody>\n",
       "    <tr>\n",
       "      <th>0</th>\n",
       "      <td>70696449</td>\n",
       "      <td>13117.984</td>\n",
       "      <td>M</td>\n",
       "      <td>graduate school</td>\n",
       "      <td>married</td>\n",
       "      <td>1985-01-05T00:05:00</td>\n",
       "      <td>-1</td>\n",
       "      <td>0</td>\n",
       "      <td>0</td>\n",
       "      <td>0</td>\n",
       "      <td>...</td>\n",
       "      <td>394.940759</td>\n",
       "      <td>225.897647</td>\n",
       "      <td>49.252067</td>\n",
       "      <td>149.753713</td>\n",
       "      <td>90.156326</td>\n",
       "      <td>31.095585</td>\n",
       "      <td>90.543903</td>\n",
       "      <td>49.490576</td>\n",
       "      <td>10.881964</td>\n",
       "      <td>NaN</td>\n",
       "    </tr>\n",
       "    <tr>\n",
       "      <th>1</th>\n",
       "      <td>76505586</td>\n",
       "      <td>596.272</td>\n",
       "      <td>M</td>\n",
       "      <td>university</td>\n",
       "      <td>single</td>\n",
       "      <td>1980-01-13T00:11:00</td>\n",
       "      <td>0</td>\n",
       "      <td>0</td>\n",
       "      <td>0</td>\n",
       "      <td>2</td>\n",
       "      <td>...</td>\n",
       "      <td>582.349049</td>\n",
       "      <td>594.125421</td>\n",
       "      <td>587.178852</td>\n",
       "      <td>38.757680</td>\n",
       "      <td>98.384880</td>\n",
       "      <td>0.000000</td>\n",
       "      <td>29.813600</td>\n",
       "      <td>29.813600</td>\n",
       "      <td>26.832240</td>\n",
       "      <td>NaN</td>\n",
       "    </tr>\n",
       "    <tr>\n",
       "      <th>2</th>\n",
       "      <td>88442515</td>\n",
       "      <td>1490.680</td>\n",
       "      <td>F</td>\n",
       "      <td>university</td>\n",
       "      <td>married</td>\n",
       "      <td>1982-01-10T00:04:00</td>\n",
       "      <td>0</td>\n",
       "      <td>0</td>\n",
       "      <td>0</td>\n",
       "      <td>0</td>\n",
       "      <td>...</td>\n",
       "      <td>445.683506</td>\n",
       "      <td>493.921911</td>\n",
       "      <td>501.643634</td>\n",
       "      <td>36.402406</td>\n",
       "      <td>59.627200</td>\n",
       "      <td>44.720400</td>\n",
       "      <td>59.627200</td>\n",
       "      <td>59.627200</td>\n",
       "      <td>119.254400</td>\n",
       "      <td>NaN</td>\n",
       "    </tr>\n",
       "    <tr>\n",
       "      <th>3</th>\n",
       "      <td>73457138</td>\n",
       "      <td>5962.720</td>\n",
       "      <td>F</td>\n",
       "      <td>graduate school</td>\n",
       "      <td>single</td>\n",
       "      <td>1989-01-17T00:10:00</td>\n",
       "      <td>-1</td>\n",
       "      <td>-1</td>\n",
       "      <td>-1</td>\n",
       "      <td>0</td>\n",
       "      <td>...</td>\n",
       "      <td>126.469291</td>\n",
       "      <td>121.758742</td>\n",
       "      <td>221.038030</td>\n",
       "      <td>19.826044</td>\n",
       "      <td>28.621056</td>\n",
       "      <td>116.511549</td>\n",
       "      <td>30.230990</td>\n",
       "      <td>104.347600</td>\n",
       "      <td>85.863168</td>\n",
       "      <td>NaN</td>\n",
       "    </tr>\n",
       "    <tr>\n",
       "      <th>4</th>\n",
       "      <td>68367768</td>\n",
       "      <td>5366.448</td>\n",
       "      <td>M</td>\n",
       "      <td>university</td>\n",
       "      <td>single</td>\n",
       "      <td>1975-01-13T00:09:00</td>\n",
       "      <td>-2</td>\n",
       "      <td>-2</td>\n",
       "      <td>-2</td>\n",
       "      <td>-2</td>\n",
       "      <td>...</td>\n",
       "      <td>0.000000</td>\n",
       "      <td>0.000000</td>\n",
       "      <td>0.000000</td>\n",
       "      <td>26.832240</td>\n",
       "      <td>27.130376</td>\n",
       "      <td>0.000000</td>\n",
       "      <td>0.000000</td>\n",
       "      <td>0.000000</td>\n",
       "      <td>0.000000</td>\n",
       "      <td>NaN</td>\n",
       "    </tr>\n",
       "  </tbody>\n",
       "</table>\n",
       "<p>5 rows × 25 columns</p>\n",
       "</div>"
      ],
      "text/plain": [
       "   CUST_COD  LIMIT_BAL SEX        EDUCATION MARRIAGE           BIRTH_DATE  \\\n",
       "0  70696449  13117.984   M  graduate school  married  1985-01-05T00:05:00   \n",
       "1  76505586    596.272   M       university   single  1980-01-13T00:11:00   \n",
       "2  88442515   1490.680   F       university  married  1982-01-10T00:04:00   \n",
       "3  73457138   5962.720   F  graduate school   single  1989-01-17T00:10:00   \n",
       "4  68367768   5366.448   M       university   single  1975-01-13T00:09:00   \n",
       "\n",
       "   PAY_DEC  PAY_NOV  PAY_OCT  PAY_SEP         ...           BILL_AMT_SEP  \\\n",
       "0       -1        0        0        0         ...             394.940759   \n",
       "1        0        0        0        2         ...             582.349049   \n",
       "2        0        0        0        0         ...             445.683506   \n",
       "3       -1       -1       -1        0         ...             126.469291   \n",
       "4       -2       -2       -2       -2         ...               0.000000   \n",
       "\n",
       "   BILL_AMT_AUG  BILL_AMT_JUL  PAY_AMT_DEC  PAY_AMT_NOV  PAY_AMT_OCT  \\\n",
       "0    225.897647     49.252067   149.753713    90.156326    31.095585   \n",
       "1    594.125421    587.178852    38.757680    98.384880     0.000000   \n",
       "2    493.921911    501.643634    36.402406    59.627200    44.720400   \n",
       "3    121.758742    221.038030    19.826044    28.621056   116.511549   \n",
       "4      0.000000      0.000000    26.832240    27.130376     0.000000   \n",
       "\n",
       "   PAY_AMT_SEP  PAY_AMT_AUG  PAY_AMT_JUL  DEFAULT PAYMENT JAN  \n",
       "0    90.543903    49.490576    10.881964                  NaN  \n",
       "1    29.813600    29.813600    26.832240                  NaN  \n",
       "2    59.627200    59.627200   119.254400                  NaN  \n",
       "3    30.230990   104.347600    85.863168                  NaN  \n",
       "4     0.000000     0.000000     0.000000                  NaN  \n",
       "\n",
       "[5 rows x 25 columns]"
      ]
     },
     "execution_count": 76,
     "metadata": {},
     "output_type": "execute_result"
    }
   ],
   "source": [
    "test.head()"
   ]
  },
  {
   "cell_type": "code",
   "execution_count": 77,
   "metadata": {},
   "outputs": [
    {
     "data": {
      "text/plain": [
       "<matplotlib.axes._subplots.AxesSubplot at 0x115112160>"
      ]
     },
     "execution_count": 77,
     "metadata": {},
     "output_type": "execute_result"
    },
    {
     "data": {
      "image/png": "[encoded data removed]",
      "text/plain": [
       "<matplotlib.figure.Figure at 0x11510eb00>"
      ]
     },
     "metadata": {},
     "output_type": "display_data"
    }
   ],
   "source": [
    "plt.subplot(1, 2, 1)\n",
    "plt.title(\"Sex in train dataset\")\n",
    "sns.countplot(x = 'SEX', data=train)\n",
    "plt.subplot(1, 2, 2)\n",
    "plt.title(\"Sex in test dataset\")\n",
    "sns.countplot(x = 'SEX', data=test)"
   ]
  },
  {
   "cell_type": "code",
   "execution_count": 78,
   "metadata": {},
   "outputs": [
    {
     "data": {
      "text/plain": [
       "<matplotlib.axes._subplots.AxesSubplot at 0x11539a6d8>"
      ]
     },
     "execution_count": 78,
     "metadata": {},
     "output_type": "execute_result"
    },
    {
     "data": {
      "image/png": "[encoded data removed]",
      "text/plain": [
       "<matplotlib.figure.Figure at 0x115396da0>"
      ]
     },
     "metadata": {},
     "output_type": "display_data"
    }
   ],
   "source": [
    "plt.subplot(1, 2, 1)\n",
    "plt.title(\"LIMIT_BAL in train dataset\")\n",
    "sns.distplot(train['LIMIT_BAL'])\n",
    "plt.subplot(1, 2, 2)\n",
    "plt.title(\"LIMIT_BAL in test dataset\")\n",
    "sns.distplot(test['LIMIT_BAL'])"
   ]
  },
  {
   "cell_type": "code",
   "execution_count": 79,
   "metadata": {},
   "outputs": [
    {
     "data": {
      "text/plain": [
       "<matplotlib.axes._subplots.AxesSubplot at 0x115759d30>"
      ]
     },
     "execution_count": 79,
     "metadata": {},
     "output_type": "execute_result"
    },
    {
     "data": {
      "image/png": "[encoded data removed]",
      "text/plain": [
       "<matplotlib.figure.Figure at 0x115759e10>"
      ]
     },
     "metadata": {},
     "output_type": "display_data"
    }
   ],
   "source": [
    "plt.subplot(1, 2, 1)\n",
    "plt.title(\"EDUCATION in train dataset\")\n",
    "sns.countplot(x = 'EDUCATION', data=train)\n",
    "plt.subplot(1, 2, 2)\n",
    "plt.title(\"EDUCATION in test dataset\")\n",
    "sns.countplot(x = 'EDUCATION', data=test)"
   ]
  },
  {
   "cell_type": "code",
   "execution_count": 80,
   "metadata": {},
   "outputs": [
    {
     "data": {
      "text/plain": [
       "<matplotlib.axes._subplots.AxesSubplot at 0x11550eb00>"
      ]
     },
     "execution_count": 80,
     "metadata": {},
     "output_type": "execute_result"
    },
    {
     "data": {
      "image/png": "[encoded data removed]",
      "text/plain": [
       "<matplotlib.figure.Figure at 0x11550ea20>"
      ]
     },
     "metadata": {},
     "output_type": "display_data"
    }
   ],
   "source": [
    "plt.subplot(1, 2, 1)\n",
    "plt.title(\"MARRIAGE in train dataset\")\n",
    "sns.countplot(x = 'MARRIAGE', data=train)\n",
    "plt.subplot(1, 2, 2)\n",
    "plt.title(\"MARRIAGE in test dataset\")\n",
    "sns.countplot(x = 'MARRIAGE', data=test)"
   ]
  },
  {
   "cell_type": "code",
   "execution_count": 81,
   "metadata": {
    "collapsed": true
   },
   "outputs": [],
   "source": [
    "test['AGE'] = train['BIRTH_DATE'].apply(get_age)"
   ]
  },
  {
   "cell_type": "markdown",
   "metadata": {},
   "source": [
    "## Missing values"
   ]
  },
  {
   "cell_type": "code",
   "execution_count": 82,
   "metadata": {},
   "outputs": [
    {
     "name": "stdout",
     "output_type": "stream",
     "text": [
      "<class 'pandas.core.frame.DataFrame'>\n",
      "RangeIndex: 3116 entries, 0 to 3115\n",
      "Data columns (total 26 columns):\n",
      "CUST_COD               3116 non-null int64\n",
      "LIMIT_BAL              3116 non-null float64\n",
      "SEX                    3113 non-null object\n",
      "EDUCATION              3084 non-null object\n",
      "MARRIAGE               3112 non-null object\n",
      "BIRTH_DATE             3113 non-null object\n",
      "PAY_DEC                3116 non-null int64\n",
      "PAY_NOV                3116 non-null int64\n",
      "PAY_OCT                3116 non-null int64\n",
      "PAY_SEP                3116 non-null int64\n",
      "PAY_AUG                3116 non-null int64\n",
      "PAY_JUL                3116 non-null int64\n",
      "BILL_AMT_DEC           3116 non-null float64\n",
      "BILL_AMT_NOV           3116 non-null float64\n",
      "BILL_AMT_OCT           3116 non-null float64\n",
      "BILL_AMT_SEP           3116 non-null float64\n",
      "BILL_AMT_AUG           3116 non-null float64\n",
      "BILL_AMT_JUL           3116 non-null float64\n",
      "PAY_AMT_DEC            3116 non-null float64\n",
      "PAY_AMT_NOV            3116 non-null float64\n",
      "PAY_AMT_OCT            3116 non-null float64\n",
      "PAY_AMT_SEP            3116 non-null float64\n",
      "PAY_AMT_AUG            3116 non-null float64\n",
      "PAY_AMT_JUL            3116 non-null float64\n",
      "DEFAULT PAYMENT JAN    0 non-null float64\n",
      "AGE                    3039 non-null float64\n",
      "dtypes: float64(15), int64(7), object(4)\n",
      "memory usage: 633.0+ KB\n"
     ]
    }
   ],
   "source": [
    "test.info()"
   ]
  },
  {
   "cell_type": "markdown",
   "metadata": {},
   "source": [
    "There are overall less missing values than in the train set. \n",
    "\n",
    "The columns affected by missing values are: \n",
    "- SEX (3) \n",
    "- EDUCATION (32)\n",
    "- MARRIAGE (4) \n",
    "- BIRTH_DATE (3)"
   ]
  },
  {
   "cell_type": "code",
   "execution_count": 83,
   "metadata": {
    "collapsed": true
   },
   "outputs": [],
   "source": [
    "#1743\n",
    "#3643\n"
   ]
  },
  {
   "cell_type": "code",
   "execution_count": 84,
   "metadata": {},
   "outputs": [
    {
     "data": {
      "text/plain": [
       "CUST_COD             23160      36919196\n",
       "LIMIT_BAL            23160       1490.68\n",
       "SEX                  23160             F\n",
       "EDUCATION            23160    university\n",
       "MARRIAGE             23160       married\n",
       "BIRTH_DATE           23160    01/01/1975\n",
       "PAY_DEC              23160             2\n",
       "PAY_NOV              23160             3\n",
       "PAY_OCT              23160             2\n",
       "PAY_SEP              23160             2\n",
       "PAY_AUG              23160             2\n",
       "PAY_JUL              23160             2\n",
       "BILL_AMT_DEC         23160       878.398\n",
       "BILL_AMT_NOV         23160       856.098\n",
       "BILL_AMT_OCT         23160       863.104\n",
       "BILL_AMT_SEP         23160       884.987\n",
       "BILL_AMT_AUG         23160        866.92\n",
       "BILL_AMT_JUL         23160       892.738\n",
       "PAY_AMT_DEC          23160             0\n",
       "PAY_AMT_NOV          23160       29.8136\n",
       "PAY_AMT_OCT          23160       44.7204\n",
       "PAY_AMT_SEP          23160             0\n",
       "PAY_AMT_AUG          23160       44.7204\n",
       "PAY_AMT_JUL          23160       62.6086\n",
       "DEFAULT PAYMENT JAN  23160             0\n",
       "AGE                  23160            42\n",
       "PAY_SUM              23160            13\n",
       "PAY_SUM_NORM         23160             6\n",
       "PAYER_TYPE           23160      PAY LATE\n",
       "PAY_LAST_3           23160       2.33333\n",
       "PAY_FIRST_3          23160             2\n",
       "PAY_AVG              23160       2.16667\n",
       "PAY_LAST_3_CAT       23160      PAY_LATE\n",
       "PAY_FIRST_3_CAT      23160      PAY_LATE\n",
       "PAY_AVG_CAT          23160      PAY_LATE\n",
       "PAY_TREND            23160     0.0857143\n",
       "PAY_TREND_CAT        23160           INC\n",
       "PAY_LAST_2_CAT       23160          LATE\n",
       "BILL_SUM             23160       5242.24\n",
       "PAY_AMT_SUM          23160       181.863\n",
       "BILL_TREND           23160      -3.60148\n",
       "dtype: object"
      ]
     },
     "execution_count": 84,
     "metadata": {},
     "output_type": "execute_result"
    }
   ],
   "source": [
    "train.sample().unstack()"
   ]
  },
  {
   "cell_type": "code",
   "execution_count": 85,
   "metadata": {},
   "outputs": [
    {
     "data": {
      "text/plain": [
       "CUST_COD                  18258166\n",
       "LIMIT_BAL                  1490.68\n",
       "SEX                              M\n",
       "EDUCATION               university\n",
       "MARRIAGE                   married\n",
       "BIRTH_DATE              01/01/1983\n",
       "PAY_DEC                          0\n",
       "PAY_NOV                          0\n",
       "PAY_OCT                          0\n",
       "PAY_SEP                          0\n",
       "PAY_AUG                          0\n",
       "PAY_JUL                          0\n",
       "BILL_AMT_DEC               1402.67\n",
       "BILL_AMT_NOV               717.256\n",
       "BILL_AMT_OCT               746.592\n",
       "BILL_AMT_SEP               654.319\n",
       "BILL_AMT_AUG               572.361\n",
       "BILL_AMT_JUL               584.645\n",
       "PAY_AMT_DEC                43.0807\n",
       "PAY_AMT_NOV                42.6036\n",
       "PAY_AMT_OCT                38.5788\n",
       "PAY_AMT_SEP                29.8136\n",
       "PAY_AMT_AUG                21.0186\n",
       "PAY_AMT_JUL                20.8397\n",
       "DEFAULT PAYMENT JAN              0\n",
       "AGE                             34\n",
       "PAY_SUM                          0\n",
       "PAY_SUM_NORM                     0\n",
       "PAYER_TYPE             PAY REGULAR\n",
       "PAY_LAST_3                       0\n",
       "PAY_FIRST_3                      0\n",
       "PAY_AVG                          0\n",
       "PAY_LAST_3_CAT             PAY_REG\n",
       "PAY_FIRST_3_CAT            PAY_REG\n",
       "PAY_AVG_CAT                PAY_REG\n",
       "PAY_TREND                        0\n",
       "PAY_TREND_CAT                  DEC\n",
       "PAY_LAST_2_CAT               EARLY\n",
       "BILL_SUM                   4677.84\n",
       "PAY_AMT_SUM                195.935\n",
       "BILL_TREND                 131.917\n",
       "Name: 7967, dtype: object"
      ]
     },
     "execution_count": 85,
     "metadata": {},
     "output_type": "execute_result"
    }
   ],
   "source": [
    "train.loc[7967,:]"
   ]
  },
  {
   "cell_type": "code",
   "execution_count": 86,
   "metadata": {},
   "outputs": [
    {
     "data": {
      "text/plain": [
       "CUST_COD             13396           22498343\n",
       "LIMIT_BAL            13396            10732.9\n",
       "SEX                  13396                  F\n",
       "EDUCATION            13396    graduate school\n",
       "MARRIAGE             13396            married\n",
       "BIRTH_DATE           13396         18/01/1968\n",
       "PAY_DEC              13396                 -2\n",
       "PAY_NOV              13396                 -2\n",
       "PAY_OCT              13396                 -2\n",
       "PAY_SEP              13396                 -2\n",
       "PAY_AUG              13396                 -1\n",
       "PAY_JUL              13396                 -1\n",
       "BILL_AMT_DEC         13396             63.175\n",
       "BILL_AMT_NOV         13396         -0.0894408\n",
       "BILL_AMT_OCT         13396         -0.0894408\n",
       "BILL_AMT_SEP         13396         -0.0894408\n",
       "BILL_AMT_AUG         13396            21.1975\n",
       "BILL_AMT_JUL         13396            26.0869\n",
       "PAY_AMT_DEC          13396          0.0894408\n",
       "PAY_AMT_NOV          13396                  0\n",
       "PAY_AMT_OCT          13396                  0\n",
       "PAY_AMT_SEP          13396            21.2869\n",
       "PAY_AMT_AUG          13396            26.2062\n",
       "PAY_AMT_JUL          13396            45.2869\n",
       "DEFAULT PAYMENT JAN  13396                  0\n",
       "AGE                  13396                 49\n",
       "PAY_SUM              13396                -10\n",
       "PAY_SUM_NORM         13396                 -6\n",
       "PAYER_TYPE           13396          PAY EARLY\n",
       "PAY_LAST_3           13396                 -2\n",
       "PAY_FIRST_3          13396           -1.33333\n",
       "PAY_AVG              13396           -1.66667\n",
       "PAY_LAST_3_CAT       13396          PAY_EARLY\n",
       "PAY_FIRST_3_CAT      13396          PAY_EARLY\n",
       "PAY_AVG_CAT          13396          PAY_EARLY\n",
       "PAY_TREND            13396          -0.228571\n",
       "PAY_TREND_CAT        13396                DEC\n",
       "PAY_LAST_2_CAT       13396              EARLY\n",
       "BILL_SUM             13396            110.191\n",
       "PAY_AMT_SUM          13396            92.8694\n",
       "BILL_TREND           13396            3.47371\n",
       "dtype: object"
      ]
     },
     "execution_count": 86,
     "metadata": {},
     "output_type": "execute_result"
    }
   ],
   "source": [
    "train.loc[(train['PAY_SEP'] == -2) & (train['BILL_AMT_SEP'] != 0),:].sample().unstack()"
   ]
  },
  {
   "cell_type": "code",
   "execution_count": null,
   "metadata": {
    "collapsed": true
   },
   "outputs": [],
   "source": []
  },
  {
   "cell_type": "code",
   "execution_count": null,
   "metadata": {
    "collapsed": true
   },
   "outputs": [],
   "source": []
  },
  {
   "cell_type": "code",
   "execution_count": null,
   "metadata": {
    "collapsed": true
   },
   "outputs": [],
   "source": []
  },
  {
   "cell_type": "code",
   "execution_count": null,
   "metadata": {
    "collapsed": true
   },
   "outputs": [],
   "source": []
  },
  {
   "cell_type": "code",
   "execution_count": null,
   "metadata": {
    "collapsed": true
   },
   "outputs": [],
   "source": []
  },
  {
   "cell_type": "code",
   "execution_count": null,
   "metadata": {
    "collapsed": true
   },
   "outputs": [],
   "source": []
  },
  {
   "cell_type": "code",
   "execution_count": null,
   "metadata": {
    "collapsed": true
   },
   "outputs": [],
   "source": []
  },
  {
   "cell_type": "markdown",
   "metadata": {},
   "source": [
    "# Missing values analysis"
   ]
  },
  {
   "cell_type": "code",
   "execution_count": 87,
   "metadata": {},
   "outputs": [
    {
     "name": "stdout",
     "output_type": "stream",
     "text": [
      "<class 'pandas.core.frame.DataFrame'>\n",
      "RangeIndex: 26884 entries, 0 to 26883\n",
      "Data columns (total 41 columns):\n",
      "CUST_COD               26884 non-null int64\n",
      "LIMIT_BAL              26884 non-null float64\n",
      "SEX                    26626 non-null object\n",
      "EDUCATION              26571 non-null object\n",
      "MARRIAGE               26834 non-null object\n",
      "BIRTH_DATE             26182 non-null object\n",
      "PAY_DEC                26884 non-null int64\n",
      "PAY_NOV                26884 non-null int64\n",
      "PAY_OCT                26884 non-null int64\n",
      "PAY_SEP                26884 non-null int64\n",
      "PAY_AUG                26884 non-null int64\n",
      "PAY_JUL                26884 non-null int64\n",
      "BILL_AMT_DEC           26884 non-null float64\n",
      "BILL_AMT_NOV           26884 non-null float64\n",
      "BILL_AMT_OCT           26884 non-null float64\n",
      "BILL_AMT_SEP           26884 non-null float64\n",
      "BILL_AMT_AUG           26884 non-null float64\n",
      "BILL_AMT_JUL           26884 non-null float64\n",
      "PAY_AMT_DEC            26884 non-null float64\n",
      "PAY_AMT_NOV            26884 non-null float64\n",
      "PAY_AMT_OCT            26884 non-null float64\n",
      "PAY_AMT_SEP            26884 non-null float64\n",
      "PAY_AMT_AUG            26884 non-null float64\n",
      "PAY_AMT_JUL            26884 non-null float64\n",
      "DEFAULT PAYMENT JAN    26884 non-null int64\n",
      "AGE                    26182 non-null float64\n",
      "PAY_SUM                26884 non-null int64\n",
      "PAY_SUM_NORM           26884 non-null int64\n",
      "PAYER_TYPE             26884 non-null object\n",
      "PAY_LAST_3             26884 non-null float64\n",
      "PAY_FIRST_3            26884 non-null float64\n",
      "PAY_AVG                26884 non-null float64\n",
      "PAY_LAST_3_CAT         26884 non-null category\n",
      "PAY_FIRST_3_CAT        26884 non-null category\n",
      "PAY_AVG_CAT            26884 non-null category\n",
      "PAY_TREND              26884 non-null float64\n",
      "PAY_TREND_CAT          26884 non-null category\n",
      "PAY_LAST_2_CAT         26884 non-null category\n",
      "BILL_SUM               26884 non-null float64\n",
      "PAY_AMT_SUM            26884 non-null float64\n",
      "BILL_TREND             26884 non-null float64\n",
      "dtypes: category(5), float64(21), int64(10), object(5)\n",
      "memory usage: 7.5+ MB\n"
     ]
    }
   ],
   "source": [
    "train.info()"
   ]
  },
  {
   "cell_type": "markdown",
   "metadata": {},
   "source": [
    "## SEX"
   ]
  },
  {
   "cell_type": "code",
   "execution_count": 88,
   "metadata": {
    "collapsed": true
   },
   "outputs": [],
   "source": [
    "missing_values_sex = train[train['SEX'].isnull()]"
   ]
  },
  {
   "cell_type": "code",
   "execution_count": 89,
   "metadata": {},
   "outputs": [
    {
     "data": {
      "text/plain": [
       "258"
      ]
     },
     "execution_count": 89,
     "metadata": {},
     "output_type": "execute_result"
    }
   ],
   "source": [
    "len(missing_values_sex)"
   ]
  },
  {
   "cell_type": "code",
   "execution_count": 90,
   "metadata": {},
   "outputs": [
    {
     "data": {
      "text/plain": [
       "<matplotlib.axes._subplots.AxesSubplot at 0x10f5d6780>"
      ]
     },
     "execution_count": 90,
     "metadata": {},
     "output_type": "execute_result"
    },
    {
     "data": {
      "image/png": "[encoded data removed]",
      "text/plain": [
       "<matplotlib.figure.Figure at 0x1170d9048>"
      ]
     },
     "metadata": {},
     "output_type": "display_data"
    }
   ],
   "source": [
    "sns.countplot(x = 'EDUCATION', data = missing_values_sex)"
   ]
  },
  {
   "cell_type": "code",
   "execution_count": 91,
   "metadata": {},
   "outputs": [
    {
     "data": {
      "text/plain": [
       "<matplotlib.axes._subplots.AxesSubplot at 0x1055a2748>"
      ]
     },
     "execution_count": 91,
     "metadata": {},
     "output_type": "execute_result"
    },
    {
     "data": {
      "image/png": "[encoded data removed]",
      "text/plain": [
       "<matplotlib.figure.Figure at 0x1157652b0>"
      ]
     },
     "metadata": {},
     "output_type": "display_data"
    }
   ],
   "source": [
    "sns.distplot(missing_values_sex['LIMIT_BAL'])"
   ]
  },
  {
   "cell_type": "code",
   "execution_count": 92,
   "metadata": {},
   "outputs": [
    {
     "data": {
      "text/plain": [
       "<matplotlib.axes._subplots.AxesSubplot at 0x114e6bb00>"
      ]
     },
     "execution_count": 92,
     "metadata": {},
     "output_type": "execute_result"
    },
    {
     "data": {
      "image/png": "[encoded data removed]",
      "text/plain": [
       "<matplotlib.figure.Figure at 0x114e8c400>"
      ]
     },
     "metadata": {},
     "output_type": "display_data"
    }
   ],
   "source": [
    "sns.barplot(y = 'DEFAULT PAYMENT JAN', data = missing_values_sex)"
   ]
  },
  {
   "cell_type": "code",
   "execution_count": 93,
   "metadata": {},
   "outputs": [
    {
     "data": {
      "text/plain": [
       "<matplotlib.axes._subplots.AxesSubplot at 0x10f33c080>"
      ]
     },
     "execution_count": 93,
     "metadata": {},
     "output_type": "execute_result"
    },
    {
     "data": {
      "image/png": "[encoded data removed]",
      "text/plain": [
       "<matplotlib.figure.Figure at 0x11507d1d0>"
      ]
     },
     "metadata": {},
     "output_type": "display_data"
    }
   ],
   "source": [
    "sns.countplot(x = 'MARRIAGE', data=missing_values_sex)"
   ]
  },
  {
   "cell_type": "code",
   "execution_count": 94,
   "metadata": {},
   "outputs": [
    {
     "data": {
      "text/plain": [
       "<matplotlib.axes._subplots.AxesSubplot at 0x10f334978>"
      ]
     },
     "execution_count": 94,
     "metadata": {},
     "output_type": "execute_result"
    },
    {
     "data": {
      "image/png": "[encoded data removed]",
      "text/plain": [
       "<matplotlib.figure.Figure at 0x10ff38cc0>"
      ]
     },
     "metadata": {},
     "output_type": "display_data"
    }
   ],
   "source": [
    "sns.barplot(y = 'PAY_AMT_SUM', x='SEX', data=train)"
   ]
  },
  {
   "cell_type": "code",
   "execution_count": 96,
   "metadata": {},
   "outputs": [
    {
     "data": {
      "text/html": [
       "<div>\n",
       "<table border=\"1\" class=\"dataframe\">\n",
       "  <thead>\n",
       "    <tr>\n",
       "      <th>MARRIAGE</th>\n",
       "      <th colspan=\"4\" halign=\"left\">married</th>\n",
       "      <th colspan=\"4\" halign=\"left\">other</th>\n",
       "      <th colspan=\"4\" halign=\"left\">single</th>\n",
       "    </tr>\n",
       "    <tr>\n",
       "      <th>EDUCATION</th>\n",
       "      <th>graduate school</th>\n",
       "      <th>high school</th>\n",
       "      <th>other</th>\n",
       "      <th>university</th>\n",
       "      <th>graduate school</th>\n",
       "      <th>high school</th>\n",
       "      <th>other</th>\n",
       "      <th>university</th>\n",
       "      <th>graduate school</th>\n",
       "      <th>high school</th>\n",
       "      <th>other</th>\n",
       "      <th>university</th>\n",
       "    </tr>\n",
       "    <tr>\n",
       "      <th>SEX</th>\n",
       "      <th></th>\n",
       "      <th></th>\n",
       "      <th></th>\n",
       "      <th></th>\n",
       "      <th></th>\n",
       "      <th></th>\n",
       "      <th></th>\n",
       "      <th></th>\n",
       "      <th></th>\n",
       "      <th></th>\n",
       "      <th></th>\n",
       "      <th></th>\n",
       "    </tr>\n",
       "  </thead>\n",
       "  <tbody>\n",
       "    <tr>\n",
       "      <th>F</th>\n",
       "      <td>0.545042</td>\n",
       "      <td>0.635248</td>\n",
       "      <td>0.673913</td>\n",
       "      <td>0.654905</td>\n",
       "      <td>0.358974</td>\n",
       "      <td>0.653061</td>\n",
       "      <td>1.0</td>\n",
       "      <td>0.59589</td>\n",
       "      <td>0.612063</td>\n",
       "      <td>0.525633</td>\n",
       "      <td>0.693548</td>\n",
       "      <td>0.581643</td>\n",
       "    </tr>\n",
       "    <tr>\n",
       "      <th>M</th>\n",
       "      <td>0.454958</td>\n",
       "      <td>0.364752</td>\n",
       "      <td>0.326087</td>\n",
       "      <td>0.345095</td>\n",
       "      <td>0.641026</td>\n",
       "      <td>0.346939</td>\n",
       "      <td>0.0</td>\n",
       "      <td>0.40411</td>\n",
       "      <td>0.387937</td>\n",
       "      <td>0.474367</td>\n",
       "      <td>0.306452</td>\n",
       "      <td>0.418357</td>\n",
       "    </tr>\n",
       "  </tbody>\n",
       "</table>\n",
       "</div>"
      ],
      "text/plain": [
       "MARRIAGE          married                                            other  \\\n",
       "EDUCATION graduate school high school     other university graduate school   \n",
       "SEX                                                                          \n",
       "F                0.545042    0.635248  0.673913   0.654905        0.358974   \n",
       "M                0.454958    0.364752  0.326087   0.345095        0.641026   \n",
       "\n",
       "MARRIAGE                                        single                        \\\n",
       "EDUCATION high school other university graduate school high school     other   \n",
       "SEX                                                                            \n",
       "F            0.653061   1.0    0.59589        0.612063    0.525633  0.693548   \n",
       "M            0.346939   0.0    0.40411        0.387937    0.474367  0.306452   \n",
       "\n",
       "MARRIAGE              \n",
       "EDUCATION university  \n",
       "SEX                   \n",
       "F           0.581643  \n",
       "M           0.418357  "
      ]
     },
     "execution_count": 96,
     "metadata": {},
     "output_type": "execute_result"
    }
   ],
   "source": [
    "pd.crosstab(train['SEX'], [train['MARRIAGE'], train['EDUCATION']], normalize=1)"
   ]
  },
  {
   "cell_type": "code",
   "execution_count": null,
   "metadata": {
    "collapsed": true
   },
   "outputs": [],
   "source": []
  },
  {
   "cell_type": "code",
   "execution_count": null,
   "metadata": {
    "collapsed": true
   },
   "outputs": [],
   "source": []
  },
  {
   "cell_type": "code",
   "execution_count": null,
   "metadata": {
    "collapsed": true
   },
   "outputs": [],
   "source": []
  },
  {
   "cell_type": "code",
   "execution_count": 102,
   "metadata": {},
   "outputs": [
    {
     "data": {
      "text/plain": [
       "CUST_COD             25805       34482980\n",
       "LIMIT_BAL            25805        1490.68\n",
       "SEX                  25805              F\n",
       "EDUCATION            25805     university\n",
       "MARRIAGE             25805        married\n",
       "BIRTH_DATE           25805     18/01/1985\n",
       "PAY_DEC              25805              0\n",
       "PAY_NOV              25805              0\n",
       "PAY_OCT              25805              0\n",
       "PAY_SEP              25805              0\n",
       "PAY_AUG              25805              0\n",
       "PAY_JUL              25805              0\n",
       "BILL_AMT_DEC         25805        1572.79\n",
       "BILL_AMT_NOV         25805         1502.4\n",
       "BILL_AMT_OCT         25805        773.752\n",
       "BILL_AMT_SEP         25805        815.402\n",
       "BILL_AMT_AUG         25805        594.215\n",
       "BILL_AMT_JUL         25805         502.21\n",
       "PAY_AMT_DEC          25805        89.4408\n",
       "PAY_AMT_NOV          25805        149.068\n",
       "PAY_AMT_OCT          25805        89.4408\n",
       "PAY_AMT_SEP          25805        89.5004\n",
       "PAY_AMT_AUG          25805        89.6495\n",
       "PAY_AMT_JUL          25805        208.695\n",
       "DEFAULT PAYMENT JAN  25805              0\n",
       "AGE                  25805             32\n",
       "PAY_SUM              25805              0\n",
       "PAY_SUM_NORM         25805              0\n",
       "PAYER_TYPE           25805    PAY REGULAR\n",
       "PAY_LAST_3           25805              0\n",
       "PAY_FIRST_3          25805              0\n",
       "PAY_AVG              25805              0\n",
       "PAY_LAST_3_CAT       25805        PAY_REG\n",
       "PAY_FIRST_3_CAT      25805        PAY_REG\n",
       "PAY_AVG_CAT          25805        PAY_REG\n",
       "PAY_TREND            25805              0\n",
       "PAY_TREND_CAT        25805            DEC\n",
       "PAY_LAST_2_CAT       25805          EARLY\n",
       "BILL_SUM             25805        5760.76\n",
       "PAY_AMT_SUM          25805        715.795\n",
       "BILL_TREND           25805        229.594\n",
       "dtype: object"
      ]
     },
     "execution_count": 102,
     "metadata": {},
     "output_type": "execute_result"
    }
   ],
   "source": [
    "train.sample().unstack()"
   ]
  },
  {
   "cell_type": "code",
   "execution_count": null,
   "metadata": {
    "collapsed": true
   },
   "outputs": [],
   "source": []
  },
  {
   "cell_type": "code",
   "execution_count": null,
   "metadata": {
    "collapsed": true
   },
   "outputs": [],
   "source": []
  },
  {
   "cell_type": "code",
   "execution_count": 22,
   "metadata": {
    "collapsed": true
   },
   "outputs": [],
   "source": [
    "train = pd.read_csv('data/train_with_additional_features.csv', index_col=0)"
   ]
  },
  {
   "cell_type": "code",
   "execution_count": 20,
   "metadata": {},
   "outputs": [],
   "source": [
    "bill_ord = pd.read_csv('bills_order.csv', index_col=0)"
   ]
  },
  {
   "cell_type": "code",
   "execution_count": 32,
   "metadata": {},
   "outputs": [],
   "source": [
    "df = pd.concat([train, bill_ord], axis=1)"
   ]
  },
  {
   "cell_type": "code",
   "execution_count": 30,
   "metadata": {},
   "outputs": [],
   "source": [
    "bill_ord.index = train.index"
   ]
  },
  {
   "cell_type": "code",
   "execution_count": 19,
   "metadata": {
    "collapsed": true
   },
   "outputs": [],
   "source": [
    "pd.read_csv?"
   ]
  },
  {
   "cell_type": "code",
   "execution_count": 46,
   "metadata": {},
   "outputs": [
    {
     "data": {
      "text/plain": [
       "<matplotlib.axes._subplots.AxesSubplot at 0x1174c1be0>"
      ]
     },
     "execution_count": 46,
     "metadata": {},
     "output_type": "execute_result"
    },
    {
     "data": {
      "image/png": "[encoded data removed]",
      "text/plain": [
       "<matplotlib.figure.Figure at 0x1172a50f0>"
      ]
     },
     "metadata": {},
     "output_type": "display_data"
    }
   ],
   "source": [
    "sns.barplot(x = 'X2', y='DEFAULT PAYMENT JAN', hue = 'X1', data=df)"
   ]
  },
  {
   "cell_type": "code",
   "execution_count": 48,
   "metadata": {
    "collapsed": true
   },
   "outputs": [],
   "source": [
    "from scipy.stats import skew, kurtosis"
   ]
  },
  {
   "cell_type": "code",
   "execution_count": 49,
   "metadata": {
    "collapsed": true
   },
   "outputs": [],
   "source": [
    "pay_amt_ord = pd.read_csv('pay_amt_orders.csv', index_col=0)"
   ]
  },
  {
   "cell_type": "code",
   "execution_count": 53,
   "metadata": {},
   "outputs": [],
   "source": [
    "df2 = pd.concat([train, pay_amt_ord], axis=1)"
   ]
  },
  {
   "cell_type": "code",
   "execution_count": 59,
   "metadata": {},
   "outputs": [
    {
     "data": {
      "text/plain": [
       "<matplotlib.axes._subplots.AxesSubplot at 0x11f019c50>"
      ]
     },
     "execution_count": 59,
     "metadata": {},
     "output_type": "execute_result"
    },
    {
     "data": {
      "image/png": "[encoded data removed]",
      "text/plain": [
       "<matplotlib.figure.Figure at 0x11f219978>"
      ]
     },
     "metadata": {},
     "output_type": "display_data"
    }
   ],
   "source": [
    "sns.barplot(x='DEFAULT PAYMENT JAN', y = 'X4',  data=df2)"
   ]
  },
  {
   "cell_type": "code",
   "execution_count": 60,
   "metadata": {
    "collapsed": true
   },
   "outputs": [],
   "source": [
    "from sklearn.ensemble import RandomForestClassifier"
   ]
  },
  {
   "cell_type": "code",
   "execution_count": null,
   "metadata": {
    "collapsed": true
   },
   "outputs": [],
   "source": []
  },
  {
   "cell_type": "code",
   "execution_count": null,
   "metadata": {
    "collapsed": true
   },
   "outputs": [],
   "source": []
  },
  {
   "cell_type": "code",
   "execution_count": null,
   "metadata": {
    "collapsed": true
   },
   "outputs": [],
   "source": []
  },
  {
   "cell_type": "code",
   "execution_count": null,
   "metadata": {
    "collapsed": true
   },
   "outputs": [],
   "source": []
  },
  {
   "cell_type": "code",
   "execution_count": null,
   "metadata": {
    "collapsed": true
   },
   "outputs": [],
   "source": []
  },
  {
   "cell_type": "code",
   "execution_count": null,
   "metadata": {
    "collapsed": true
   },
   "outputs": [],
   "source": []
  }
 ],
 "metadata": {
  "kernelspec": {
   "display_name": "Python 3",
   "language": "python",
   "name": "python3"
  },
  "language_info": {
   "codemirror_mode": {
    "name": "ipython",
    "version": 3
   },
   "file_extension": ".py",
   "mimetype": "text/x-python",
   "name": "python",
   "nbconvert_exporter": "python",
   "pygments_lexer": "ipython3",
   "version": "3.5.3"
  }
 },
 "nbformat": 4,
 "nbformat_minor": 2
}
