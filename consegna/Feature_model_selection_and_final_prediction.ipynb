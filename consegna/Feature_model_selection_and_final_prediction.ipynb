{
 "cells": [
  {
   "cell_type": "code",
   "execution_count": 1,
   "metadata": {},
   "outputs": [
    {
     "name": "stderr",
     "output_type": "stream",
     "text": [
      "/Users/andrea/anaconda/envs/mlenv/lib/python3.5/site-packages/sklearn/cross_validation.py:44: DeprecationWarning: This module was deprecated in version 0.18 in favor of the model_selection module into which all the refactored classes and functions are moved. Also note that the interface of the new CV iterators are different from that of this module. This module will be removed in 0.20.\n",
      "  \"This module will be removed in 0.20.\", DeprecationWarning)\n"
     ]
    }
   ],
   "source": [
    "import pandas as pd\n",
    "import numpy as np\n",
    "from xgboost import XGBClassifier\n",
    "from sklearn.feature_selection import RFECV\n",
    "from sklearn.model_selection import StratifiedKFold\n",
    "from sklearn.ensemble import RandomForestClassifier\n",
    "import matplotlib.pyplot as plt\n",
    "%matplotlib inline\n",
    "\n",
    "import utils\n",
    "from monster import Kraken"
   ]
  },
  {
   "cell_type": "code",
   "execution_count": 2,
   "metadata": {
    "collapsed": true
   },
   "outputs": [],
   "source": [
    "train = pd.read_csv('data/train_predictedAge.csv')\n",
    "\n",
    "X = train.drop(['CUST_COD', 'DEFAULT PAYMENT JAN'], axis = 1)\n",
    "y = train['DEFAULT PAYMENT JAN']"
   ]
  },
  {
   "cell_type": "markdown",
   "metadata": {},
   "source": [
    "# Perform feature selection"
   ]
  },
  {
   "cell_type": "code",
   "execution_count": 3,
   "metadata": {
    "scrolled": true
   },
   "outputs": [
    {
     "name": "stdout",
     "output_type": "stream",
     "text": [
      "Fitting estimator with 81 features.\n",
      "Fitting estimator with 81 features.\n",
      "Fitting estimator with 81 features.\n",
      "Fitting estimator with 81 features.\n",
      "Fitting estimator with 81 features.\n",
      "Fitting estimator with 79 features.\n",
      "Fitting estimator with 79 features.\n",
      "Fitting estimator with 79 features.\n",
      "Fitting estimator with 79 features.\n",
      "Fitting estimator with 79 features.\n",
      "Fitting estimator with 77 features.\n",
      "Fitting estimator with 77 features.\n",
      "Fitting estimator with 77 features.\n",
      "Fitting estimator with 77 features.\n",
      "Fitting estimator with 77 features.\n",
      "Fitting estimator with 75 features.\n",
      "Fitting estimator with 75 features.\n",
      "Fitting estimator with 75 features.\n",
      "Fitting estimator with 75 features.\n",
      "Fitting estimator with 75 features.\n",
      "Fitting estimator with 73 features.\n",
      "Fitting estimator with 73 features.\n",
      "Fitting estimator with 73 features.\n",
      "Fitting estimator with 73 features.\n",
      "Fitting estimator with 73 features.\n",
      "Fitting estimator with 71 features.\n",
      "Fitting estimator with 71 features.\n",
      "Fitting estimator with 71 features.\n",
      "Fitting estimator with 71 features.\n",
      "Fitting estimator with 71 features.\n",
      "Fitting estimator with 69 features.\n",
      "Fitting estimator with 69 features.\n",
      "Fitting estimator with 69 features.\n",
      "Fitting estimator with 69 features.\n",
      "Fitting estimator with 69 features.\n",
      "Fitting estimator with 67 features.\n",
      "Fitting estimator with 67 features.\n",
      "Fitting estimator with 67 features.\n",
      "Fitting estimator with 67 features.\n",
      "Fitting estimator with 67 features.\n",
      "Fitting estimator with 65 features.\n",
      "Fitting estimator with 65 features.\n",
      "Fitting estimator with 65 features.\n",
      "Fitting estimator with 65 features.\n",
      "Fitting estimator with 65 features.\n",
      "Fitting estimator with 63 features.\n",
      "Fitting estimator with 63 features.\n",
      "Fitting estimator with 63 features.\n",
      "Fitting estimator with 63 features.\n",
      "Fitting estimator with 63 features.\n",
      "Fitting estimator with 61 features.\n",
      "Fitting estimator with 61 features.\n",
      "Fitting estimator with 61 features.\n",
      "Fitting estimator with 61 features.\n",
      "Fitting estimator with 61 features.\n",
      "Fitting estimator with 59 features.\n",
      "Fitting estimator with 59 features.\n",
      "Fitting estimator with 59 features.\n",
      "Fitting estimator with 59 features.\n",
      "Fitting estimator with 59 features.\n",
      "Fitting estimator with 57 features.\n",
      "Fitting estimator with 57 features.\n",
      "Fitting estimator with 57 features.\n",
      "Fitting estimator with 57 features.\n",
      "Fitting estimator with 57 features.\n",
      "Fitting estimator with 55 features.\n",
      "Fitting estimator with 55 features.\n",
      "Fitting estimator with 55 features.\n",
      "Fitting estimator with 55 features.\n",
      "Fitting estimator with 55 features.\n",
      "Fitting estimator with 53 features.\n",
      "Fitting estimator with 53 features.\n",
      "Fitting estimator with 53 features.\n",
      "Fitting estimator with 53 features.\n",
      "Fitting estimator with 53 features.\n",
      "Fitting estimator with 51 features.\n",
      "Fitting estimator with 51 features.\n",
      "Fitting estimator with 51 features.\n",
      "Fitting estimator with 51 features.\n",
      "Fitting estimator with 51 features.\n",
      "Fitting estimator with 49 features.\n",
      "Fitting estimator with 49 features.\n",
      "Fitting estimator with 49 features.\n",
      "Fitting estimator with 49 features.\n",
      "Fitting estimator with 49 features.\n",
      "Fitting estimator with 47 features.\n",
      "Fitting estimator with 47 features.\n",
      "Fitting estimator with 47 features.\n",
      "Fitting estimator with 47 features.\n",
      "Fitting estimator with 47 features.\n",
      "Fitting estimator with 45 features.\n",
      "Fitting estimator with 45 features.\n",
      "Fitting estimator with 45 features.\n",
      "Fitting estimator with 45 features.\n",
      "Fitting estimator with 45 features.\n",
      "Fitting estimator with 43 features.\n",
      "Fitting estimator with 43 features.\n",
      "Fitting estimator with 43 features.\n",
      "Fitting estimator with 43 features.\n",
      "Fitting estimator with 43 features.\n",
      "Fitting estimator with 41 features.\n",
      "Fitting estimator with 41 features.\n",
      "Fitting estimator with 41 features.\n",
      "Fitting estimator with 41 features.\n",
      "Fitting estimator with 41 features.\n",
      "Fitting estimator with 39 features.\n",
      "Fitting estimator with 39 features.\n",
      "Fitting estimator with 39 features.\n",
      "Fitting estimator with 39 features.\n",
      "Fitting estimator with 39 features.\n",
      "Fitting estimator with 37 features.\n",
      "Fitting estimator with 37 features.\n",
      "Fitting estimator with 37 features.\n",
      "Fitting estimator with 37 features.\n",
      "Fitting estimator with 37 features.\n",
      "Fitting estimator with 35 features.\n",
      "Fitting estimator with 35 features.\n",
      "Fitting estimator with 35 features.\n",
      "Fitting estimator with 35 features.\n",
      "Fitting estimator with 35 features.\n",
      "Fitting estimator with 33 features.\n",
      "Fitting estimator with 33 features.\n",
      "Fitting estimator with 33 features.\n",
      "Fitting estimator with 33 features.\n",
      "Fitting estimator with 33 features.\n",
      "Fitting estimator with 31 features.\n",
      "Fitting estimator with 31 features.\n",
      "Fitting estimator with 31 features.\n",
      "Fitting estimator with 31 features.\n",
      "Fitting estimator with 31 features.\n",
      "Fitting estimator with 29 features.\n",
      "Fitting estimator with 29 features.\n",
      "Fitting estimator with 29 features.\n",
      "Fitting estimator with 29 features.\n",
      "Fitting estimator with 29 features.\n",
      "Fitting estimator with 27 features.\n",
      "Fitting estimator with 27 features.\n",
      "Fitting estimator with 27 features.\n",
      "Fitting estimator with 27 features.\n",
      "Fitting estimator with 27 features.\n",
      "Fitting estimator with 25 features.\n",
      "Fitting estimator with 25 features.\n",
      "Fitting estimator with 25 features.\n",
      "Fitting estimator with 25 features.\n",
      "Fitting estimator with 25 features.\n",
      "Fitting estimator with 23 features.\n",
      "Fitting estimator with 23 features.\n",
      "Fitting estimator with 23 features.\n",
      "Fitting estimator with 23 features.\n",
      "Fitting estimator with 21 features.\n",
      "Fitting estimator with 23 features.\n",
      "Fitting estimator with 21 features.\n",
      "Fitting estimator with 21 features.\n",
      "Fitting estimator with 21 features.\n",
      "Fitting estimator with 19 features.\n",
      "Fitting estimator with 21 features.\n",
      "Fitting estimator with 19 features.\n",
      "Fitting estimator with 19 features.\n",
      "Fitting estimator with 19 features.\n",
      "Fitting estimator with 17 features.\n",
      "Fitting estimator with 19 features.\n",
      "Fitting estimator with 17 features.\n",
      "Fitting estimator with 17 features.\n",
      "Fitting estimator with 17 features.\n",
      "Fitting estimator with 15 features.\n",
      "Fitting estimator with 17 features.\n",
      "Fitting estimator with 15 features.\n",
      "Fitting estimator with 15 features.\n",
      "Fitting estimator with 13 features.\n",
      "Fitting estimator with 15 features.\n",
      "Fitting estimator with 13 features.\n",
      "Fitting estimator with 15 features.\n",
      "Fitting estimator with 11 features.\n",
      "Fitting estimator with 13 features.\n",
      "Fitting estimator with 13 features.\n",
      "Fitting estimator with 11 features.\n",
      "Fitting estimator with 9 features.\n",
      "Fitting estimator with 13 features.\n",
      "Fitting estimator with 11 features.\n",
      "Fitting estimator with 11 features.\n",
      "Fitting estimator with 9 features.\n",
      "Fitting estimator with 7 features.\n",
      "Fitting estimator with 9 features.\n",
      "Fitting estimator with 9 features.\n",
      "Fitting estimator with 11 features.\n",
      "Fitting estimator with 7 features.\n",
      "Fitting estimator with 5 features.\n",
      "Fitting estimator with 7 features.\n",
      "Fitting estimator with 7 features.\n",
      "Fitting estimator with 9 features.\n",
      "Fitting estimator with 5 features.\n",
      "Fitting estimator with 3 features.\n",
      "Fitting estimator with 5 features.\n",
      "Fitting estimator with 5 features.\n",
      "Fitting estimator with 3 features.\n",
      "Fitting estimator with 7 features.\n",
      "Fitting estimator with 3 features.\n",
      "Fitting estimator with 3 features.\n",
      "Fitting estimator with 5 features.\n",
      "Fitting estimator with 3 features.\n",
      "CPU times: user 1min 24s, sys: 485 ms, total: 1min 24s\n",
      "Wall time: 3min 58s\n"
     ]
    }
   ],
   "source": [
    "%%time\n",
    "\n",
    "rfecv = RFECV(estimator=XGBClassifier(base_score=0.2, max_depth=3, n_estimators=80), step=2, cv=StratifiedKFold(5).split(X, y), n_jobs=-1, verbose=2)\n",
    "rfecv.fit(X, y)"
   ]
  },
  {
   "cell_type": "code",
   "execution_count": 4,
   "metadata": {},
   "outputs": [
    {
     "name": "stdout",
     "output_type": "stream",
     "text": [
      "Optimal number of features : 51\n"
     ]
    },
    {
     "data": {
      "image/png": "[encoded data removed]",
      "text/plain": [
       "<matplotlib.figure.Figure at 0x10c435d30>"
      ]
     },
     "metadata": {},
     "output_type": "display_data"
    }
   ],
   "source": [
    "print(\"Optimal number of features : %d\" % rfecv.n_features_)\n",
    "\n",
    "# Plot number of features VS. cross-validation scores\n",
    "plt.figure()\n",
    "plt.xlabel(\"Number of features selected\")\n",
    "plt.ylabel(\"Cross validation score (nb of correct classifications)\")\n",
    "plt.plot(range(1, len(rfecv.grid_scores_) + 1), rfecv.grid_scores_)\n",
    "plt.show()"
   ]
  },
  {
   "cell_type": "code",
   "execution_count": 5,
   "metadata": {},
   "outputs": [
    {
     "data": {
      "text/plain": [
       "Index(['LIMIT_BAL', 'SEX', 'PAY_DEC', 'PAY_AUG', 'PAY_JUL', 'BILL_AMT_DEC',\n",
       "       'BILL_AMT_OCT', 'BILL_AMT_SEP', 'BILL_AMT_AUG', 'BILL_AMT_JUL',\n",
       "       'PAY_AMT_DEC', 'PAY_AMT_NOV', 'PAY_AMT_OCT', 'PAY_AMT_SEP',\n",
       "       'PAY_AMT_AUG', 'PAY_AMT_JUL', 'EDUCATION_other', 'MARRIAGE_married',\n",
       "       'AGE', 'LIMIT-MEAN_BILL', 'AVG_PAY_LAST_2', 'AVG_PAY_LAST_3',\n",
       "       'AVG_PAY_LAST_4', 'AVG_PAY_LAST_5', 'AVG_PAY_LAST_6', 'PAY_TREND',\n",
       "       'PAY_SKEW', 'AVG_BILL_AMT_LAST_2', 'AVG_BILL_AMT_LAST_3',\n",
       "       'AVG_BILL_AMT_LAST_5', 'AVG_BILL_AMT_LAST_6', 'BILL_AMT_TREND',\n",
       "       'BILL_AMT_SKEW', 'BILL_AMT_KURT', 'AVG_PAY_AMT_LAST_2',\n",
       "       'AVG_PAY_AMT_LAST_4', 'AVG_PAY_AMT_LAST_6', 'PAY_AMT_TREND',\n",
       "       'PAY_AMT_SKEW', 'PAY_AMT_KURT', 'DELTA_1', 'DELTA_3', 'DELTA_4',\n",
       "       'DELTA_5', 'FRAC_PAY_2', 'FRAC_PAY_3', 'FRAC_PAY_4', 'FRAC_PAY_5',\n",
       "       'BILL_AMT_SIGMA', 'PAY_AMT_SIGMA', 'PAY_SIGMA'],\n",
       "      dtype='object')"
      ]
     },
     "execution_count": 5,
     "metadata": {},
     "output_type": "execute_result"
    }
   ],
   "source": [
    "features = rfecv.get_support()\n",
    "X.columns[features]"
   ]
  },
  {
   "cell_type": "code",
   "execution_count": 6,
   "metadata": {
    "collapsed": true
   },
   "outputs": [],
   "source": [
    "X_train = X.loc[:, features]"
   ]
  },
  {
   "cell_type": "markdown",
   "metadata": {},
   "source": [
    "# Unleash the Kraken!!"
   ]
  },
  {
   "cell_type": "code",
   "execution_count": 7,
   "metadata": {
    "collapsed": true
   },
   "outputs": [],
   "source": [
    "# We also tried other models (Logistic regression, MLPClassifier, AdaBoost, ...), \n",
    "# but we have reported only the best performing ones.\n",
    "# Note that also the choice of the parameters is not random, but we tried to reduce the computations in this notebook\n",
    "\n",
    "xgb_params = {\n",
    "    'base_score' : [0.2],\n",
    "    'max_depth' : [2],\n",
    "    'n_estimators' : [80],\n",
    "    'seed' : [4242]\n",
    "}\n",
    "\n",
    "rf_params = {\n",
    "    'n_estimators' : [80],\n",
    "    'n_jobs' : [-1],\n",
    "    'min_samples_split' : [15],\n",
    "    'min_samples_leaf' : [5]\n",
    "}"
   ]
  },
  {
   "cell_type": "code",
   "execution_count": 8,
   "metadata": {},
   "outputs": [
    {
     "name": "stdout",
     "output_type": "stream",
     "text": [
      "Converting X in numpy array\n",
      "Converting y in numpy array\n",
      "Created test holdout. % positive class in test holdout = 0.2211270225032546\n",
      "\n",
      "\n",
      "========== Starting grid search for <class 'xgboost.sklearn.XGBClassifier'> ==========\n",
      "Evaluating model with parameters: {'n_estimators': 80, 'max_depth': 2, 'base_score': 0.2, 'seed': 4242}\n",
      "Training fold #1\t0.557344064386318\n",
      "Training fold #2\t0.5398655139289145\n",
      "Training fold #3\t0.5297079556898288\n",
      "Training fold #4\t0.5625\n",
      "Training fold #5\t0.5159301130524152\n",
      "Training fold #6\t0.5521472392638037\n",
      "Training fold #7\t0.5308641975308642\n",
      "Training fold #8\t0.5688442211055276\n",
      "Training fold #9\t0.5622568093385214\n",
      "Training fold #10\t0.5510204081632654\n",
      "Average score: 0.5470480522459458     Average threshold: 0.27707070112228394\n",
      "Evaluation finished\n",
      "Average score values: [0.54704805224594577]\n",
      "========== Ending grid search for <class 'xgboost.sklearn.XGBClassifier'> ==========\n",
      "\n",
      "Best model found is: XGBClassifier(base_score=0.2, colsample_bylevel=1, colsample_bytree=1,\n",
      "       gamma=0, learning_rate=0.1, max_delta_step=0, max_depth=2,\n",
      "       min_child_weight=1, missing=None, n_estimators=80, nthread=-1,\n",
      "       objective='binary:logistic', reg_alpha=0, reg_lambda=1,\n",
      "       scale_pos_weight=1, seed=4242, silent=True, subsample=1)\n",
      "Best score training: 0.5560498037017717 - threshold: 0.27707070112228394\n",
      "Best score validation: 0.5470480522459458\n",
      "\n",
      "\n",
      "========== Starting grid search for <class 'sklearn.ensemble.forest.RandomForestClassifier'> ==========\n",
      "Evaluating model with parameters: {'n_estimators': 80, 'min_samples_split': 15, 'min_samples_leaf': 5, 'n_jobs': -1}\n",
      "Training fold #1\t0.5647969052224372\n",
      "Training fold #2\t0.5276430649854509\n",
      "Training fold #3\t0.5333333333333332\n",
      "Training fold #4\t0.5619999999999999\n",
      "Training fold #5\t0.5154419595314164\n",
      "Training fold #6\t0.5393700787401574\n",
      "Training fold #7\t0.5155080213903744\n",
      "Training fold #8\t0.5557809330628803\n",
      "Training fold #9\t0.5728061716489875\n",
      "Training fold #10\t0.5344295991778006\n",
      "Average score: 0.5421110067092838     Average threshold: 0.30280470763774225\n",
      "Evaluation finished\n",
      "Average score values: [0.5421110067092838]\n",
      "========== Ending grid search for <class 'sklearn.ensemble.forest.RandomForestClassifier'> ==========\n",
      "\n",
      "Best model found is: RandomForestClassifier(bootstrap=True, class_weight=None, criterion='gini',\n",
      "            max_depth=None, max_features='auto', max_leaf_nodes=None,\n",
      "            min_impurity_split=1e-07, min_samples_leaf=5,\n",
      "            min_samples_split=15, min_weight_fraction_leaf=0.0,\n",
      "            n_estimators=80, n_jobs=-1, oob_score=False, random_state=None,\n",
      "            verbose=0, warm_start=False)\n",
      "Best score training: 0.5502558525349077 - threshold: 0.30280470763774225\n",
      "Best score validation: 0.5421110067092838\n",
      "\n",
      "\n",
      "\n",
      "Best model overall is: {'scores_tr': [0.55278879944786286, 0.55563209228231947, 0.56084643461975126, 0.55207820449912259, 0.5579421261780394, 0.55589403046179942, 0.55674752785362613, 0.5554373343271185, 0.55693238236834319, 0.55619910497973357], 'avg_score': 0.54704805224594577, 'threshold_used': 0.2770707, 'scores_cv': [0.55734406438631801, 0.53986551392891446, 0.52970795568982876, 0.5625, 0.51593011305241521, 0.55214723926380371, 0.53086419753086422, 0.56884422110552757, 0.5622568093385214, 0.55102040816326536], 'model': XGBClassifier(base_score=0.2, colsample_bylevel=1, colsample_bytree=1,\n",
      "       gamma=0, learning_rate=0.1, max_delta_step=0, max_depth=2,\n",
      "       min_child_weight=1, missing=None, n_estimators=80, nthread=-1,\n",
      "       objective='binary:logistic', reg_alpha=0, reg_lambda=1,\n",
      "       scale_pos_weight=1, seed=4242, silent=True, subsample=1), 'thresholds': [0.28884953, 0.2634539, 0.28016493, 0.2846438, 0.27857235, 0.27768072, 0.26785153, 0.27359116, 0.27694598, 0.27895311]}\n",
      "Training on whole train set\n",
      "\n",
      "Final performance on test: 0.5381758151052414\n",
      "Re training on whole dataset\n",
      "Optimizing threshold...\n",
      "CPU times: user 20min 29s, sys: 5.11 s, total: 20min 34s\n",
      "Wall time: 6min 57s\n"
     ]
    }
   ],
   "source": [
    "%%time\n",
    "\n",
    "krk = Kraken([XGBClassifier, RandomForestClassifier], [xgb_params, rf_params])\n",
    "krk.fit(X_train, y, optimize=True)"
   ]
  },
  {
   "cell_type": "markdown",
   "metadata": {},
   "source": [
    "# Predict values"
   ]
  },
  {
   "cell_type": "code",
   "execution_count": 9,
   "metadata": {
    "collapsed": true
   },
   "outputs": [],
   "source": [
    "test = pd.read_csv('data/test_all_features.csv')\n",
    "X_test = test.drop(['DEFAULT PAYMENT JAN', 'CUST_COD'], axis=1)\n",
    "X_test = X_test.loc[:, features]"
   ]
  },
  {
   "cell_type": "code",
   "execution_count": 10,
   "metadata": {},
   "outputs": [],
   "source": [
    "predicted_default = krk.predict(X_test)"
   ]
  },
  {
   "cell_type": "code",
   "execution_count": 11,
   "metadata": {},
   "outputs": [
    {
     "data": {
      "text/plain": [
       "866"
      ]
     },
     "execution_count": 11,
     "metadata": {},
     "output_type": "execute_result"
    }
   ],
   "source": [
    "predicted_default.sum()"
   ]
  },
  {
   "cell_type": "markdown",
   "metadata": {},
   "source": [
    "# Output the results"
   ]
  },
  {
   "cell_type": "code",
   "execution_count": 12,
   "metadata": {},
   "outputs": [],
   "source": [
    "test = pd.read_csv('data/test_clean.csv', sep=';')\n",
    "test['DEFAULT PAYMENT JAN'] = predicted_default\n",
    "test.to_csv('predictions.csv', index=False)"
   ]
  },
  {
   "cell_type": "code",
   "execution_count": 13,
   "metadata": {},
   "outputs": [],
   "source": [
    "predictions_df = pd.DataFrame({'CUST_COD' : test['CUST_COD'], 'DEFAULT PAYMENT JAN' : predicted_default})\n",
    "predictions_df.to_csv('predictions_kaggle_format.csv', index=False)"
   ]
  }
 ],
 "metadata": {
  "kernelspec": {
   "display_name": "Python 3",
   "language": "python",
   "name": "python3"
  },
  "language_info": {
   "codemirror_mode": {
    "name": "ipython",
    "version": 3
   },
   "file_extension": ".py",
   "mimetype": "text/x-python",
   "name": "python",
   "nbconvert_exporter": "python",
   "pygments_lexer": "ipython3",
   "version": "3.5.3"
  }
 },
 "nbformat": 4,
 "nbformat_minor": 2
}
